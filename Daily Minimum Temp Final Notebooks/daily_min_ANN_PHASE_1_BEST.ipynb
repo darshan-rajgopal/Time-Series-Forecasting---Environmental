{
 "cells": [
  {
   "cell_type": "code",
   "execution_count": 1,
   "id": "c2ef9b47",
   "metadata": {
    "id": "c2ef9b47"
   },
   "outputs": [],
   "source": [
    "import numpy as np\n",
    "import pandas as pd\n",
    "from tensorflow.keras.models import Sequential\n",
    "from tensorflow.keras.layers import LSTM\n",
    "from tensorflow.keras.layers import Dense\n",
    "from tensorflow.keras.layers import Flatten\n",
    "import matplotlib.pyplot as plt\n",
    "import warnings\n",
    "warnings.filterwarnings('ignore')\n",
    "%matplotlib inline"
   ]
  },
  {
   "cell_type": "code",
   "execution_count": 2,
   "id": "iGQk9lcRmucZ",
   "metadata": {
    "colab": {
     "base_uri": "https://localhost:8080/"
    },
    "id": "iGQk9lcRmucZ",
    "outputId": "dd70811c-edbc-4dd6-fcc3-038c9c2610c0"
   },
   "outputs": [
    {
     "name": "stdout",
     "output_type": "stream",
     "text": [
      "Mounted at /content/drive\n"
     ]
    }
   ],
   "source": [
    "from google.colab import drive\n",
    "drive.mount('/content/drive')"
   ]
  },
  {
   "cell_type": "code",
   "execution_count": null,
   "id": "BxDZtfokj6Da",
   "metadata": {
    "colab": {
     "base_uri": "https://localhost:8080/",
     "height": 35
    },
    "id": "BxDZtfokj6Da",
    "outputId": "b20dcdbd-c02a-48ad-a576-4ba9370acae1"
   },
   "outputs": [
    {
     "data": {
      "application/vnd.google.colaboratory.intrinsic+json": {
       "type": "string"
      },
      "text/plain": [
       "'/device:GPU:0'"
      ]
     },
     "execution_count": 5,
     "metadata": {},
     "output_type": "execute_result"
    }
   ],
   "source": [
    "import tensorflow as tf\n",
    "tf.test.gpu_device_name()"
   ]
  },
  {
   "cell_type": "code",
   "execution_count": null,
   "id": "UDt4KrAxj6JS",
   "metadata": {
    "colab": {
     "base_uri": "https://localhost:8080/"
    },
    "id": "UDt4KrAxj6JS",
    "outputId": "9d528187-3aea-4259-a635-0d1eddbc47d0"
   },
   "outputs": [
    {
     "data": {
      "text/plain": [
       "[name: \"/device:CPU:0\"\n",
       " device_type: \"CPU\"\n",
       " memory_limit: 268435456\n",
       " locality {\n",
       " }\n",
       " incarnation: 14494480343520806349\n",
       " xla_global_id: -1, name: \"/device:GPU:0\"\n",
       " device_type: \"GPU\"\n",
       " memory_limit: 11320098816\n",
       " locality {\n",
       "   bus_id: 1\n",
       "   links {\n",
       "   }\n",
       " }\n",
       " incarnation: 1229225032833911937\n",
       " physical_device_desc: \"device: 0, name: Tesla K80, pci bus id: 0000:00:04.0, compute capability: 3.7\"\n",
       " xla_global_id: 416903419]"
      ]
     },
     "execution_count": 6,
     "metadata": {},
     "output_type": "execute_result"
    }
   ],
   "source": [
    "from tensorflow.python.client import device_lib\n",
    "device_lib.list_local_devices()"
   ]
  },
  {
   "cell_type": "code",
   "execution_count": 106,
   "id": "30d066a0",
   "metadata": {
    "colab": {
     "base_uri": "https://localhost:8080/",
     "height": 206
    },
    "id": "30d066a0",
    "outputId": "da336809-608e-41f3-c86f-5f03ebbd17c3"
   },
   "outputs": [
    {
     "data": {
      "text/html": [
       "\n",
       "  <div id=\"df-03dc7d92-4788-4c2e-ac1c-3b1e15156f47\">\n",
       "    <div class=\"colab-df-container\">\n",
       "      <div>\n",
       "<style scoped>\n",
       "    .dataframe tbody tr th:only-of-type {\n",
       "        vertical-align: middle;\n",
       "    }\n",
       "\n",
       "    .dataframe tbody tr th {\n",
       "        vertical-align: top;\n",
       "    }\n",
       "\n",
       "    .dataframe thead th {\n",
       "        text-align: right;\n",
       "    }\n",
       "</style>\n",
       "<table border=\"1\" class=\"dataframe\">\n",
       "  <thead>\n",
       "    <tr style=\"text-align: right;\">\n",
       "      <th></th>\n",
       "      <th>Date</th>\n",
       "      <th>Temp</th>\n",
       "    </tr>\n",
       "  </thead>\n",
       "  <tbody>\n",
       "    <tr>\n",
       "      <th>0</th>\n",
       "      <td>01-01-1981</td>\n",
       "      <td>20.7</td>\n",
       "    </tr>\n",
       "    <tr>\n",
       "      <th>1</th>\n",
       "      <td>02-01-1981</td>\n",
       "      <td>17.9</td>\n",
       "    </tr>\n",
       "    <tr>\n",
       "      <th>2</th>\n",
       "      <td>03-01-1981</td>\n",
       "      <td>18.8</td>\n",
       "    </tr>\n",
       "    <tr>\n",
       "      <th>3</th>\n",
       "      <td>04-01-1981</td>\n",
       "      <td>14.6</td>\n",
       "    </tr>\n",
       "    <tr>\n",
       "      <th>4</th>\n",
       "      <td>05-01-1981</td>\n",
       "      <td>15.8</td>\n",
       "    </tr>\n",
       "  </tbody>\n",
       "</table>\n",
       "</div>\n",
       "      <button class=\"colab-df-convert\" onclick=\"convertToInteractive('df-03dc7d92-4788-4c2e-ac1c-3b1e15156f47')\"\n",
       "              title=\"Convert this dataframe to an interactive table.\"\n",
       "              style=\"display:none;\">\n",
       "        \n",
       "  <svg xmlns=\"http://www.w3.org/2000/svg\" height=\"24px\"viewBox=\"0 0 24 24\"\n",
       "       width=\"24px\">\n",
       "    <path d=\"M0 0h24v24H0V0z\" fill=\"none\"/>\n",
       "    <path d=\"M18.56 5.44l.94 2.06.94-2.06 2.06-.94-2.06-.94-.94-2.06-.94 2.06-2.06.94zm-11 1L8.5 8.5l.94-2.06 2.06-.94-2.06-.94L8.5 2.5l-.94 2.06-2.06.94zm10 10l.94 2.06.94-2.06 2.06-.94-2.06-.94-.94-2.06-.94 2.06-2.06.94z\"/><path d=\"M17.41 7.96l-1.37-1.37c-.4-.4-.92-.59-1.43-.59-.52 0-1.04.2-1.43.59L10.3 9.45l-7.72 7.72c-.78.78-.78 2.05 0 2.83L4 21.41c.39.39.9.59 1.41.59.51 0 1.02-.2 1.41-.59l7.78-7.78 2.81-2.81c.8-.78.8-2.07 0-2.86zM5.41 20L4 18.59l7.72-7.72 1.47 1.35L5.41 20z\"/>\n",
       "  </svg>\n",
       "      </button>\n",
       "      \n",
       "  <style>\n",
       "    .colab-df-container {\n",
       "      display:flex;\n",
       "      flex-wrap:wrap;\n",
       "      gap: 12px;\n",
       "    }\n",
       "\n",
       "    .colab-df-convert {\n",
       "      background-color: #E8F0FE;\n",
       "      border: none;\n",
       "      border-radius: 50%;\n",
       "      cursor: pointer;\n",
       "      display: none;\n",
       "      fill: #1967D2;\n",
       "      height: 32px;\n",
       "      padding: 0 0 0 0;\n",
       "      width: 32px;\n",
       "    }\n",
       "\n",
       "    .colab-df-convert:hover {\n",
       "      background-color: #E2EBFA;\n",
       "      box-shadow: 0px 1px 2px rgba(60, 64, 67, 0.3), 0px 1px 3px 1px rgba(60, 64, 67, 0.15);\n",
       "      fill: #174EA6;\n",
       "    }\n",
       "\n",
       "    [theme=dark] .colab-df-convert {\n",
       "      background-color: #3B4455;\n",
       "      fill: #D2E3FC;\n",
       "    }\n",
       "\n",
       "    [theme=dark] .colab-df-convert:hover {\n",
       "      background-color: #434B5C;\n",
       "      box-shadow: 0px 1px 3px 1px rgba(0, 0, 0, 0.15);\n",
       "      filter: drop-shadow(0px 1px 2px rgba(0, 0, 0, 0.3));\n",
       "      fill: #FFFFFF;\n",
       "    }\n",
       "  </style>\n",
       "\n",
       "      <script>\n",
       "        const buttonEl =\n",
       "          document.querySelector('#df-03dc7d92-4788-4c2e-ac1c-3b1e15156f47 button.colab-df-convert');\n",
       "        buttonEl.style.display =\n",
       "          google.colab.kernel.accessAllowed ? 'block' : 'none';\n",
       "\n",
       "        async function convertToInteractive(key) {\n",
       "          const element = document.querySelector('#df-03dc7d92-4788-4c2e-ac1c-3b1e15156f47');\n",
       "          const dataTable =\n",
       "            await google.colab.kernel.invokeFunction('convertToInteractive',\n",
       "                                                     [key], {});\n",
       "          if (!dataTable) return;\n",
       "\n",
       "          const docLinkHtml = 'Like what you see? Visit the ' +\n",
       "            '<a target=\"_blank\" href=https://colab.research.google.com/notebooks/data_table.ipynb>data table notebook</a>'\n",
       "            + ' to learn more about interactive tables.';\n",
       "          element.innerHTML = '';\n",
       "          dataTable['output_type'] = 'display_data';\n",
       "          await google.colab.output.renderOutput(dataTable, element);\n",
       "          const docLink = document.createElement('div');\n",
       "          docLink.innerHTML = docLinkHtml;\n",
       "          element.appendChild(docLink);\n",
       "        }\n",
       "      </script>\n",
       "    </div>\n",
       "  </div>\n",
       "  "
      ],
      "text/plain": [
       "         Date  Temp\n",
       "0  01-01-1981  20.7\n",
       "1  02-01-1981  17.9\n",
       "2  03-01-1981  18.8\n",
       "3  04-01-1981  14.6\n",
       "4  05-01-1981  15.8"
      ]
     },
     "execution_count": 106,
     "metadata": {},
     "output_type": "execute_result"
    }
   ],
   "source": [
    "df = pd.read_csv('/content/drive/MyDrive/Colab Notebooks/Environmental/Daily_Minimum_Temperatures.csv')\n",
    "df.head()"
   ]
  },
  {
   "cell_type": "code",
   "execution_count": 107,
   "id": "e2663bb4",
   "metadata": {
    "colab": {
     "base_uri": "https://localhost:8080/",
     "height": 206
    },
    "id": "e2663bb4",
    "outputId": "fca959ab-1b35-40ed-d749-7e1e49619c7a"
   },
   "outputs": [
    {
     "data": {
      "text/html": [
       "\n",
       "  <div id=\"df-3cb97ad5-5e2c-4798-ad19-3e7ce67844af\">\n",
       "    <div class=\"colab-df-container\">\n",
       "      <div>\n",
       "<style scoped>\n",
       "    .dataframe tbody tr th:only-of-type {\n",
       "        vertical-align: middle;\n",
       "    }\n",
       "\n",
       "    .dataframe tbody tr th {\n",
       "        vertical-align: top;\n",
       "    }\n",
       "\n",
       "    .dataframe thead th {\n",
       "        text-align: right;\n",
       "    }\n",
       "</style>\n",
       "<table border=\"1\" class=\"dataframe\">\n",
       "  <thead>\n",
       "    <tr style=\"text-align: right;\">\n",
       "      <th></th>\n",
       "      <th>Date</th>\n",
       "      <th>Temp</th>\n",
       "    </tr>\n",
       "  </thead>\n",
       "  <tbody>\n",
       "    <tr>\n",
       "      <th>2915</th>\n",
       "      <td>26-12-1988</td>\n",
       "      <td>9.5</td>\n",
       "    </tr>\n",
       "    <tr>\n",
       "      <th>2916</th>\n",
       "      <td>27-12-1988</td>\n",
       "      <td>12.9</td>\n",
       "    </tr>\n",
       "    <tr>\n",
       "      <th>2917</th>\n",
       "      <td>28-12-1988</td>\n",
       "      <td>12.9</td>\n",
       "    </tr>\n",
       "    <tr>\n",
       "      <th>2918</th>\n",
       "      <td>29-12-1988</td>\n",
       "      <td>14.8</td>\n",
       "    </tr>\n",
       "    <tr>\n",
       "      <th>2919</th>\n",
       "      <td>30-12-1988</td>\n",
       "      <td>14.1</td>\n",
       "    </tr>\n",
       "  </tbody>\n",
       "</table>\n",
       "</div>\n",
       "      <button class=\"colab-df-convert\" onclick=\"convertToInteractive('df-3cb97ad5-5e2c-4798-ad19-3e7ce67844af')\"\n",
       "              title=\"Convert this dataframe to an interactive table.\"\n",
       "              style=\"display:none;\">\n",
       "        \n",
       "  <svg xmlns=\"http://www.w3.org/2000/svg\" height=\"24px\"viewBox=\"0 0 24 24\"\n",
       "       width=\"24px\">\n",
       "    <path d=\"M0 0h24v24H0V0z\" fill=\"none\"/>\n",
       "    <path d=\"M18.56 5.44l.94 2.06.94-2.06 2.06-.94-2.06-.94-.94-2.06-.94 2.06-2.06.94zm-11 1L8.5 8.5l.94-2.06 2.06-.94-2.06-.94L8.5 2.5l-.94 2.06-2.06.94zm10 10l.94 2.06.94-2.06 2.06-.94-2.06-.94-.94-2.06-.94 2.06-2.06.94z\"/><path d=\"M17.41 7.96l-1.37-1.37c-.4-.4-.92-.59-1.43-.59-.52 0-1.04.2-1.43.59L10.3 9.45l-7.72 7.72c-.78.78-.78 2.05 0 2.83L4 21.41c.39.39.9.59 1.41.59.51 0 1.02-.2 1.41-.59l7.78-7.78 2.81-2.81c.8-.78.8-2.07 0-2.86zM5.41 20L4 18.59l7.72-7.72 1.47 1.35L5.41 20z\"/>\n",
       "  </svg>\n",
       "      </button>\n",
       "      \n",
       "  <style>\n",
       "    .colab-df-container {\n",
       "      display:flex;\n",
       "      flex-wrap:wrap;\n",
       "      gap: 12px;\n",
       "    }\n",
       "\n",
       "    .colab-df-convert {\n",
       "      background-color: #E8F0FE;\n",
       "      border: none;\n",
       "      border-radius: 50%;\n",
       "      cursor: pointer;\n",
       "      display: none;\n",
       "      fill: #1967D2;\n",
       "      height: 32px;\n",
       "      padding: 0 0 0 0;\n",
       "      width: 32px;\n",
       "    }\n",
       "\n",
       "    .colab-df-convert:hover {\n",
       "      background-color: #E2EBFA;\n",
       "      box-shadow: 0px 1px 2px rgba(60, 64, 67, 0.3), 0px 1px 3px 1px rgba(60, 64, 67, 0.15);\n",
       "      fill: #174EA6;\n",
       "    }\n",
       "\n",
       "    [theme=dark] .colab-df-convert {\n",
       "      background-color: #3B4455;\n",
       "      fill: #D2E3FC;\n",
       "    }\n",
       "\n",
       "    [theme=dark] .colab-df-convert:hover {\n",
       "      background-color: #434B5C;\n",
       "      box-shadow: 0px 1px 3px 1px rgba(0, 0, 0, 0.15);\n",
       "      filter: drop-shadow(0px 1px 2px rgba(0, 0, 0, 0.3));\n",
       "      fill: #FFFFFF;\n",
       "    }\n",
       "  </style>\n",
       "\n",
       "      <script>\n",
       "        const buttonEl =\n",
       "          document.querySelector('#df-3cb97ad5-5e2c-4798-ad19-3e7ce67844af button.colab-df-convert');\n",
       "        buttonEl.style.display =\n",
       "          google.colab.kernel.accessAllowed ? 'block' : 'none';\n",
       "\n",
       "        async function convertToInteractive(key) {\n",
       "          const element = document.querySelector('#df-3cb97ad5-5e2c-4798-ad19-3e7ce67844af');\n",
       "          const dataTable =\n",
       "            await google.colab.kernel.invokeFunction('convertToInteractive',\n",
       "                                                     [key], {});\n",
       "          if (!dataTable) return;\n",
       "\n",
       "          const docLinkHtml = 'Like what you see? Visit the ' +\n",
       "            '<a target=\"_blank\" href=https://colab.research.google.com/notebooks/data_table.ipynb>data table notebook</a>'\n",
       "            + ' to learn more about interactive tables.';\n",
       "          element.innerHTML = '';\n",
       "          dataTable['output_type'] = 'display_data';\n",
       "          await google.colab.output.renderOutput(dataTable, element);\n",
       "          const docLink = document.createElement('div');\n",
       "          docLink.innerHTML = docLinkHtml;\n",
       "          element.appendChild(docLink);\n",
       "        }\n",
       "      </script>\n",
       "    </div>\n",
       "  </div>\n",
       "  "
      ],
      "text/plain": [
       "            Date  Temp\n",
       "2915  26-12-1988   9.5\n",
       "2916  27-12-1988  12.9\n",
       "2917  28-12-1988  12.9\n",
       "2918  29-12-1988  14.8\n",
       "2919  30-12-1988  14.1"
      ]
     },
     "execution_count": 107,
     "metadata": {},
     "output_type": "execute_result"
    }
   ],
   "source": [
    "df.tail()"
   ]
  },
  {
   "cell_type": "code",
   "execution_count": 10,
   "id": "0482272d",
   "metadata": {
    "colab": {
     "base_uri": "https://localhost:8080/"
    },
    "id": "0482272d",
    "outputId": "66ec37cb-9ce4-4311-904e-b5d692fb9711"
   },
   "outputs": [
    {
     "data": {
      "text/plain": [
       "(2920, 2)"
      ]
     },
     "execution_count": 10,
     "metadata": {},
     "output_type": "execute_result"
    }
   ],
   "source": [
    "df.shape"
   ]
  },
  {
   "cell_type": "code",
   "execution_count": 11,
   "id": "076f1ad3",
   "metadata": {
    "colab": {
     "base_uri": "https://localhost:8080/"
    },
    "id": "076f1ad3",
    "outputId": "178c5cd7-5a1a-477c-994d-13f1a6dd6afa"
   },
   "outputs": [
    {
     "name": "stdout",
     "output_type": "stream",
     "text": [
      "<class 'pandas.core.frame.DataFrame'>\n",
      "RangeIndex: 2920 entries, 0 to 2919\n",
      "Data columns (total 2 columns):\n",
      " #   Column  Non-Null Count  Dtype  \n",
      "---  ------  --------------  -----  \n",
      " 0   Date    2920 non-null   object \n",
      " 1   Temp    2920 non-null   float64\n",
      "dtypes: float64(1), object(1)\n",
      "memory usage: 45.8+ KB\n"
     ]
    }
   ],
   "source": [
    "df.info()"
   ]
  },
  {
   "cell_type": "code",
   "execution_count": 108,
   "id": "jLgRGWAPyy7Q",
   "metadata": {
    "id": "jLgRGWAPyy7Q"
   },
   "outputs": [],
   "source": [
    "time = pd.date_range(start='1/1/1981',periods=2920,freq='D')\n",
    "df['time_stamp'] = pd.DataFrame(time)\n",
    "df.drop(['Date'],axis=1,inplace=True)\n",
    "df = df.set_index('time_stamp')"
   ]
  },
  {
   "cell_type": "code",
   "execution_count": 13,
   "id": "D2Szvn_Jyy9y",
   "metadata": {
    "colab": {
     "base_uri": "https://localhost:8080/"
    },
    "id": "D2Szvn_Jyy9y",
    "outputId": "80c55e28-2580-4058-b76f-e2d1f6dc3ada"
   },
   "outputs": [
    {
     "data": {
      "text/plain": [
       "Temp    0.0\n",
       "dtype: float64"
      ]
     },
     "execution_count": 13,
     "metadata": {},
     "output_type": "execute_result"
    }
   ],
   "source": [
    "df.min()"
   ]
  },
  {
   "cell_type": "code",
   "execution_count": 109,
   "id": "Z5G4wFuFzBQT",
   "metadata": {
    "id": "Z5G4wFuFzBQT"
   },
   "outputs": [],
   "source": [
    "df = df + 1"
   ]
  },
  {
   "cell_type": "code",
   "execution_count": 16,
   "id": "yBDUaFhPzMMb",
   "metadata": {
    "id": "yBDUaFhPzMMb"
   },
   "outputs": [],
   "source": [
    "plt.rcParams['figure.figsize'] = [15,8]"
   ]
  },
  {
   "cell_type": "code",
   "execution_count": 17,
   "id": "cIgSM89EzBTw",
   "metadata": {
    "colab": {
     "base_uri": "https://localhost:8080/",
     "height": 523
    },
    "id": "cIgSM89EzBTw",
    "outputId": "71de5b8f-84a8-41d7-9aff-1ed6da2ed9c4"
   },
   "outputs": [
    {
     "data": {
      "image/png": "[encoded data removed]",
      "text/plain": [
       "<Figure size 1080x576 with 1 Axes>"
      ]
     },
     "metadata": {
      "needs_background": "light"
     },
     "output_type": "display_data"
    }
   ],
   "source": [
    "plt.plot(df,color='green')\n",
    "plt.title('Daily Minimum Temperature',fontsize=20)\n",
    "plt.xlabel('Date',fontsize=15)\n",
    "plt.ylabel('Units',fontsize=15)\n",
    "plt.show()"
   ]
  },
  {
   "cell_type": "code",
   "execution_count": 110,
   "id": "bf59d3e0",
   "metadata": {
    "id": "bf59d3e0"
   },
   "outputs": [],
   "source": [
    "def convert2matrix(data_arr, look_back):\n",
    "    X, Y =[], []\n",
    "    for i in range(len(data_arr)-look_back):\n",
    "        d=i+look_back  \n",
    "        X.append(data_arr[i:d,0])\n",
    "        Y.append(data_arr[d,0])\n",
    "    return np.array(X), np.array(Y)"
   ]
  },
  {
   "cell_type": "code",
   "execution_count": 111,
   "id": "5CBL1GHqurmE",
   "metadata": {
    "id": "5CBL1GHqurmE"
   },
   "outputs": [],
   "source": [
    "from sklearn.preprocessing import MinMaxScaler\n",
    "#create numpy.ndarray \n",
    "df['Temp'] = df['Temp'].astype(np.float32)\n",
    "df_arr = df.values\n",
    "df_arr = np.reshape(df_arr, (-1, 1))\n",
    "scaler = MinMaxScaler(feature_range=(0.1, 1))\n",
    "df_arr = scaler.fit_transform(df_arr)"
   ]
  },
  {
   "cell_type": "code",
   "execution_count": 112,
   "id": "1cea6c5f",
   "metadata": {
    "id": "1cea6c5f"
   },
   "outputs": [],
   "source": [
    "#Split data set into testing dataset and train dataset\n",
    "train_size = 2628\n",
    "train, test =df_arr[0:train_size,:], df_arr[train_size:len(df_arr),:]\n",
    "# setup look_back window \n",
    "look_back = 12\n",
    "#convert dataset into right shape in order to input into the DNN\n",
    "trainX, trainY = convert2matrix(train, look_back)\n",
    "testX, testY = convert2matrix(test, look_back)"
   ]
  },
  {
   "cell_type": "code",
   "execution_count": 21,
   "id": "c7d46c39",
   "metadata": {
    "colab": {
     "base_uri": "https://localhost:8080/"
    },
    "id": "c7d46c39",
    "outputId": "bf6311a2-f20f-410e-f14e-330e57541873"
   },
   "outputs": [
    {
     "name": "stdout",
     "output_type": "stream",
     "text": [
      "(2616, 12)\n",
      "(2616,)\n",
      "(280, 12)\n",
      "(280,)\n"
     ]
    }
   ],
   "source": [
    "print(trainX.shape)\n",
    "print(trainY.shape)\n",
    "print(testX.shape)\n",
    "print(testY.shape)"
   ]
  },
  {
   "cell_type": "code",
   "execution_count": 23,
   "id": "GIc1nRcCuP3G",
   "metadata": {
    "colab": {
     "base_uri": "https://localhost:8080/"
    },
    "id": "GIc1nRcCuP3G",
    "outputId": "b39f1c22-6f08-4a74-829c-074e9ccf090b"
   },
   "outputs": [
    {
     "name": "stdout",
     "output_type": "stream",
     "text": [
      "\u001b[?25l\r",
      "\u001b[K     |███▍                            | 10 kB 25.0 MB/s eta 0:00:01\r",
      "\u001b[K     |██████▊                         | 20 kB 12.2 MB/s eta 0:00:01\r",
      "\u001b[K     |██████████                      | 30 kB 9.7 MB/s eta 0:00:01\r",
      "\u001b[K     |█████████████▍                  | 40 kB 8.5 MB/s eta 0:00:01\r",
      "\u001b[K     |████████████████▊               | 51 kB 5.6 MB/s eta 0:00:01\r",
      "\u001b[K     |████████████████████            | 61 kB 5.8 MB/s eta 0:00:01\r",
      "\u001b[K     |███████████████████████▍        | 71 kB 5.6 MB/s eta 0:00:01\r",
      "\u001b[K     |██████████████████████████▊     | 81 kB 6.3 MB/s eta 0:00:01\r",
      "\u001b[K     |██████████████████████████████  | 92 kB 4.9 MB/s eta 0:00:01\r",
      "\u001b[K     |████████████████████████████████| 98 kB 3.1 MB/s \n",
      "\u001b[?25h"
     ]
    }
   ],
   "source": [
    "!pip install -q -U keras-tuner"
   ]
  },
  {
   "cell_type": "code",
   "execution_count": 24,
   "id": "M5te5ih0uP6u",
   "metadata": {
    "id": "M5te5ih0uP6u"
   },
   "outputs": [],
   "source": [
    "import pandas as pd\n",
    "from tensorflow import keras\n",
    "from tensorflow.keras import layers\n",
    "from keras_tuner.tuners import RandomSearch\n",
    "from tensorflow.keras.models import Sequential\n",
    "from tensorflow.keras.layers import LSTM\n",
    "from tensorflow.keras.layers import Dense,Dropout\n",
    "from tensorflow.keras.layers import Flatten\n",
    "import matplotlib.pyplot as plt"
   ]
  },
  {
   "cell_type": "code",
   "execution_count": 25,
   "id": "rYiJC5hXuP_e",
   "metadata": {
    "id": "rYiJC5hXuP_e"
   },
   "outputs": [],
   "source": [
    "def build_model(hp):\n",
    "    model = keras.Sequential()\n",
    "    for i in range(hp.Int('num_layers', 1, 5)):\n",
    "        model.add(layers.Dense(units=hp.Int('units_' + str(i),\n",
    "                                            min_value=8,\n",
    "                                            max_value = 128,\n",
    "                                            step=8),\n",
    "                                            activation= \"relu\"))\n",
    "        if hp.Boolean(\"dropout\"):\n",
    "          model.add(Dropout(hp.Float('Dropout_rate',min_value=0,max_value=0.5,step=0.1)))\n",
    "    model.add(layers.Dense(1, activation='linear'))\n",
    "    model.compile(\n",
    "        optimizer=keras.optimizers.Adam(\n",
    "             hp.Float('learning_rate', min_value=1e-4, max_value=1e-1, sampling=\"log\")),\n",
    "        loss='mape',\n",
    "        metrics=['mape'])\n",
    "    return model"
   ]
  },
  {
   "cell_type": "code",
   "execution_count": 26,
   "id": "2h_gRerjuQCT",
   "metadata": {
    "id": "2h_gRerjuQCT"
   },
   "outputs": [],
   "source": [
    "tuner = RandomSearch(\n",
    "    build_model,\n",
    "    objective='val_mape',\n",
    "    max_trials=10,\n",
    "    executions_per_trial=1,\n",
    "    directory='project',\n",
    "    project_name='loa_em_1')"
   ]
  },
  {
   "cell_type": "code",
   "execution_count": 27,
   "id": "Dg5AHN3guQFu",
   "metadata": {
    "colab": {
     "base_uri": "https://localhost:8080/"
    },
    "id": "Dg5AHN3guQFu",
    "outputId": "ab1e94fe-de38-432d-f243-a270d3e089d0"
   },
   "outputs": [
    {
     "name": "stdout",
     "output_type": "stream",
     "text": [
      "Search space summary\n",
      "Default search space size: 4\n",
      "num_layers (Int)\n",
      "{'default': None, 'conditions': [], 'min_value': 1, 'max_value': 5, 'step': 1, 'sampling': None}\n",
      "units_0 (Int)\n",
      "{'default': None, 'conditions': [], 'min_value': 8, 'max_value': 128, 'step': 8, 'sampling': None}\n",
      "dropout (Boolean)\n",
      "{'default': False, 'conditions': []}\n",
      "learning_rate (Float)\n",
      "{'default': 0.0001, 'conditions': [], 'min_value': 0.0001, 'max_value': 0.1, 'step': None, 'sampling': 'log'}\n"
     ]
    }
   ],
   "source": [
    "tuner.search_space_summary()"
   ]
  },
  {
   "cell_type": "code",
   "execution_count": 28,
   "id": "TiBXdF0K8Gpr",
   "metadata": {
    "colab": {
     "base_uri": "https://localhost:8080/"
    },
    "id": "TiBXdF0K8Gpr",
    "outputId": "a13c166b-8bc0-483f-c5b0-ec0f9c0e37b3"
   },
   "outputs": [
    {
     "name": "stdout",
     "output_type": "stream",
     "text": [
      "Trial 10 Complete [00h 00m 46s]\n",
      "val_mape: 14.95457935333252\n",
      "\n",
      "Best val_mape So Far: 14.95457935333252\n",
      "Total elapsed time: 00h 11m 24s\n",
      "INFO:tensorflow:Oracle triggered exit\n"
     ]
    }
   ],
   "source": [
    "tuner.search(trainX, trainY,\n",
    "             epochs=200,\n",
    "             batch_size=32,\n",
    "             validation_data=(testX, testY))"
   ]
  },
  {
   "cell_type": "code",
   "execution_count": 29,
   "id": "VXXGH_RK8GsD",
   "metadata": {
    "colab": {
     "base_uri": "https://localhost:8080/"
    },
    "id": "VXXGH_RK8GsD",
    "outputId": "d893ddc2-eae1-4f32-f916-10b4b50fcc4b"
   },
   "outputs": [
    {
     "name": "stdout",
     "output_type": "stream",
     "text": [
      "Results summary\n",
      "Results in project/loa_em_1\n",
      "Showing 10 best trials\n",
      "Objective(name='val_mape', direction='min')\n",
      "Trial summary\n",
      "Hyperparameters:\n",
      "num_layers: 2\n",
      "units_0: 80\n",
      "dropout: True\n",
      "learning_rate: 0.0019466483330733626\n",
      "Dropout_rate: 0.1\n",
      "units_1: 120\n",
      "units_2: 112\n",
      "units_3: 56\n",
      "units_4: 96\n",
      "Score: 14.95457935333252\n",
      "Trial summary\n",
      "Hyperparameters:\n",
      "num_layers: 3\n",
      "units_0: 104\n",
      "dropout: False\n",
      "learning_rate: 0.0015377893817187592\n",
      "Dropout_rate: 0.1\n",
      "units_1: 48\n",
      "units_2: 16\n",
      "units_3: 8\n",
      "units_4: 128\n",
      "Score: 14.978797912597656\n",
      "Trial summary\n",
      "Hyperparameters:\n",
      "num_layers: 5\n",
      "units_0: 56\n",
      "dropout: True\n",
      "learning_rate: 0.021870957694520653\n",
      "Dropout_rate: 0.0\n",
      "units_1: 8\n",
      "units_2: 8\n",
      "units_3: 8\n",
      "units_4: 8\n",
      "Score: 14.993188858032227\n",
      "Trial summary\n",
      "Hyperparameters:\n",
      "num_layers: 3\n",
      "units_0: 120\n",
      "dropout: True\n",
      "learning_rate: 0.0007627145633271186\n",
      "Dropout_rate: 0.4\n",
      "units_1: 56\n",
      "units_2: 16\n",
      "units_3: 72\n",
      "units_4: 8\n",
      "Score: 15.078988075256348\n",
      "Trial summary\n",
      "Hyperparameters:\n",
      "num_layers: 3\n",
      "units_0: 16\n",
      "dropout: False\n",
      "learning_rate: 0.01720373114980776\n",
      "Dropout_rate: 0.5\n",
      "units_1: 64\n",
      "units_2: 16\n",
      "units_3: 80\n",
      "units_4: 24\n",
      "Score: 15.127800941467285\n",
      "Trial summary\n",
      "Hyperparameters:\n",
      "num_layers: 1\n",
      "units_0: 40\n",
      "dropout: False\n",
      "learning_rate: 0.019591307180532747\n",
      "Dropout_rate: 0.4\n",
      "units_1: 48\n",
      "units_2: 104\n",
      "units_3: 32\n",
      "units_4: 24\n",
      "Score: 15.261579513549805\n",
      "Trial summary\n",
      "Hyperparameters:\n",
      "num_layers: 2\n",
      "units_0: 112\n",
      "dropout: True\n",
      "learning_rate: 0.013310854808280577\n",
      "Dropout_rate: 0.30000000000000004\n",
      "units_1: 96\n",
      "units_2: 16\n",
      "units_3: 104\n",
      "units_4: 48\n",
      "Score: 15.410038948059082\n",
      "Trial summary\n",
      "Hyperparameters:\n",
      "num_layers: 3\n",
      "units_0: 120\n",
      "dropout: True\n",
      "learning_rate: 0.0046674722992577425\n",
      "Dropout_rate: 0.30000000000000004\n",
      "units_1: 40\n",
      "units_2: 72\n",
      "units_3: 80\n",
      "units_4: 32\n",
      "Score: 15.489952087402344\n",
      "Trial summary\n",
      "Hyperparameters:\n",
      "num_layers: 3\n",
      "units_0: 8\n",
      "dropout: False\n",
      "learning_rate: 0.04429855383531786\n",
      "Dropout_rate: 0.30000000000000004\n",
      "units_1: 120\n",
      "units_2: 32\n",
      "units_3: 48\n",
      "units_4: 128\n",
      "Score: 21.237632751464844\n",
      "Trial summary\n",
      "Hyperparameters:\n",
      "num_layers: 5\n",
      "units_0: 40\n",
      "dropout: True\n",
      "learning_rate: 0.0003246916786734415\n",
      "Dropout_rate: 0.4\n",
      "units_1: 120\n",
      "units_2: 24\n",
      "units_3: 56\n",
      "units_4: 80\n",
      "Score: 24.072776794433594\n"
     ]
    }
   ],
   "source": [
    "tuner.results_summary()"
   ]
  },
  {
   "cell_type": "code",
   "execution_count": 30,
   "id": "FBpLenJ_DZMX",
   "metadata": {
    "id": "FBpLenJ_DZMX"
   },
   "outputs": [],
   "source": [
    "from warnings import filterwarnings\n",
    "filterwarnings('ignore')"
   ]
  },
  {
   "cell_type": "code",
   "execution_count": 32,
   "id": "eL-a8rAv8Gvg",
   "metadata": {
    "colab": {
     "base_uri": "https://localhost:8080/"
    },
    "id": "eL-a8rAv8Gvg",
    "outputId": "7b538ba7-fe22-4bb0-e24e-b22000eee878"
   },
   "outputs": [
    {
     "name": "stdout",
     "output_type": "stream",
     "text": [
      "Model: \"sequential\"\n",
      "_________________________________________________________________\n",
      " Layer (type)                Output Shape              Param #   \n",
      "=================================================================\n",
      " dense (Dense)               (None, 80)                1040      \n",
      "                                                                 \n",
      " dropout (Dropout)           (None, 80)                0         \n",
      "                                                                 \n",
      " dense_1 (Dense)             (None, 120)               9720      \n",
      "                                                                 \n",
      " dropout_1 (Dropout)         (None, 120)               0         \n",
      "                                                                 \n",
      " dense_2 (Dense)             (None, 1)                 121       \n",
      "                                                                 \n",
      "=================================================================\n",
      "Total params: 10,881\n",
      "Trainable params: 10,881\n",
      "Non-trainable params: 0\n",
      "_________________________________________________________________\n",
      "WARNING:tensorflow:Unresolved object in checkpoint: (root).layer_with_weights-0.kernel\n",
      "WARNING:tensorflow:Unresolved object in checkpoint: (root).layer_with_weights-0.bias\n",
      "WARNING:tensorflow:Unresolved object in checkpoint: (root).layer_with_weights-1.kernel\n",
      "WARNING:tensorflow:Unresolved object in checkpoint: (root).layer_with_weights-1.bias\n",
      "WARNING:tensorflow:Unresolved object in checkpoint: (root).layer_with_weights-2.kernel\n",
      "WARNING:tensorflow:Unresolved object in checkpoint: (root).layer_with_weights-2.bias\n",
      "WARNING:tensorflow:Unresolved object in checkpoint: (root).layer_with_weights-3.kernel\n",
      "WARNING:tensorflow:Unresolved object in checkpoint: (root).layer_with_weights-3.bias\n",
      "WARNING:tensorflow:Unresolved object in checkpoint: (root).optimizer.iter\n",
      "WARNING:tensorflow:Unresolved object in checkpoint: (root).optimizer.beta_1\n",
      "WARNING:tensorflow:Unresolved object in checkpoint: (root).optimizer.beta_2\n",
      "WARNING:tensorflow:Unresolved object in checkpoint: (root).optimizer.decay\n",
      "WARNING:tensorflow:Unresolved object in checkpoint: (root).optimizer.learning_rate\n",
      "WARNING:tensorflow:Unresolved object in checkpoint: (root).optimizer's state 'm' for (root).layer_with_weights-0.kernel\n",
      "WARNING:tensorflow:Unresolved object in checkpoint: (root).optimizer's state 'm' for (root).layer_with_weights-0.bias\n",
      "WARNING:tensorflow:Unresolved object in checkpoint: (root).optimizer's state 'm' for (root).layer_with_weights-1.kernel\n",
      "WARNING:tensorflow:Unresolved object in checkpoint: (root).optimizer's state 'm' for (root).layer_with_weights-1.bias\n",
      "WARNING:tensorflow:Unresolved object in checkpoint: (root).optimizer's state 'm' for (root).layer_with_weights-2.kernel\n",
      "WARNING:tensorflow:Unresolved object in checkpoint: (root).optimizer's state 'm' for (root).layer_with_weights-2.bias\n",
      "WARNING:tensorflow:Unresolved object in checkpoint: (root).optimizer's state 'm' for (root).layer_with_weights-3.kernel\n",
      "WARNING:tensorflow:Unresolved object in checkpoint: (root).optimizer's state 'm' for (root).layer_with_weights-3.bias\n",
      "WARNING:tensorflow:Unresolved object in checkpoint: (root).optimizer's state 'v' for (root).layer_with_weights-0.kernel\n",
      "WARNING:tensorflow:Unresolved object in checkpoint: (root).optimizer's state 'v' for (root).layer_with_weights-0.bias\n",
      "WARNING:tensorflow:Unresolved object in checkpoint: (root).optimizer's state 'v' for (root).layer_with_weights-1.kernel\n",
      "WARNING:tensorflow:Unresolved object in checkpoint: (root).optimizer's state 'v' for (root).layer_with_weights-1.bias\n",
      "WARNING:tensorflow:Unresolved object in checkpoint: (root).optimizer's state 'v' for (root).layer_with_weights-2.kernel\n",
      "WARNING:tensorflow:Unresolved object in checkpoint: (root).optimizer's state 'v' for (root).layer_with_weights-2.bias\n",
      "WARNING:tensorflow:Unresolved object in checkpoint: (root).optimizer's state 'v' for (root).layer_with_weights-3.kernel\n",
      "WARNING:tensorflow:Unresolved object in checkpoint: (root).optimizer's state 'v' for (root).layer_with_weights-3.bias\n",
      "WARNING:tensorflow:A checkpoint was restored (e.g. tf.train.Checkpoint.restore or tf.keras.Model.load_weights) but not all checkpointed values were used. See above for specific issues. Use expect_partial() on the load status object, e.g. tf.train.Checkpoint.restore(...).expect_partial(), to silence these warnings, or use assert_consumed() to make the check explicit. See https://www.tensorflow.org/guide/checkpoint#loading_mechanics for details.\n"
     ]
    }
   ],
   "source": [
    "models = tuner.get_best_models(num_models=2)\n",
    "best_model = models[0]\n",
    "# Build the model.\n",
    "# Needed for `Sequential` without specified `input_shape`.\n",
    "best_model.build(input_shape=(None, 12))\n",
    "best_model.summary()"
   ]
  },
  {
   "cell_type": "code",
   "execution_count": 33,
   "id": "ovKDjDHZEmLV",
   "metadata": {
    "id": "ovKDjDHZEmLV"
   },
   "outputs": [],
   "source": [
    "from tensorflow.keras import optimizers\n",
    "from tensorflow.keras.callbacks import EarlyStopping"
   ]
  },
  {
   "cell_type": "code",
   "execution_count": 114,
   "id": "0e187ddc",
   "metadata": {
    "colab": {
     "base_uri": "https://localhost:8080/"
    },
    "id": "0e187ddc",
    "outputId": "c9b19fda-78c2-4ef4-e9df-24fd71ccfdf7"
   },
   "outputs": [
    {
     "name": "stdout",
     "output_type": "stream",
     "text": [
      "Epoch 1/300\n",
      "82/82 [==============================] - 2s 10ms/step - loss: 190.1456 - mape: 190.1456 - val_loss: 182.5181 - val_mape: 182.5181\n",
      "Epoch 2/300\n",
      "82/82 [==============================] - 0s 5ms/step - loss: 176.7068 - mape: 176.7068 - val_loss: 169.5988 - val_mape: 169.5988\n",
      "Epoch 3/300\n",
      "82/82 [==============================] - 0s 5ms/step - loss: 163.1625 - mape: 163.1625 - val_loss: 156.7403 - val_mape: 156.7403\n",
      "Epoch 4/300\n",
      "82/82 [==============================] - 0s 4ms/step - loss: 150.4461 - mape: 150.4461 - val_loss: 143.9191 - val_mape: 143.9191\n",
      "Epoch 5/300\n",
      "82/82 [==============================] - 0s 4ms/step - loss: 137.1996 - mape: 137.1996 - val_loss: 131.0976 - val_mape: 131.0976\n",
      "Epoch 6/300\n",
      "82/82 [==============================] - 0s 4ms/step - loss: 125.2092 - mape: 125.2092 - val_loss: 118.1837 - val_mape: 118.1837\n",
      "Epoch 7/300\n",
      "82/82 [==============================] - 0s 3ms/step - loss: 111.1398 - mape: 111.1398 - val_loss: 105.2782 - val_mape: 105.2782\n",
      "Epoch 8/300\n",
      "82/82 [==============================] - 0s 3ms/step - loss: 99.0068 - mape: 99.0068 - val_loss: 92.2470 - val_mape: 92.2470\n",
      "Epoch 9/300\n",
      "82/82 [==============================] - 0s 3ms/step - loss: 85.1769 - mape: 85.1769 - val_loss: 79.3238 - val_mape: 79.3238\n",
      "Epoch 10/300\n",
      "82/82 [==============================] - 0s 3ms/step - loss: 72.7330 - mape: 72.7330 - val_loss: 66.4214 - val_mape: 66.4214\n",
      "Epoch 11/300\n",
      "82/82 [==============================] - 0s 4ms/step - loss: 60.3789 - mape: 60.3789 - val_loss: 54.0675 - val_mape: 54.0675\n",
      "Epoch 12/300\n",
      "82/82 [==============================] - 0s 4ms/step - loss: 50.2048 - mape: 50.2048 - val_loss: 42.4847 - val_mape: 42.4847\n",
      "Epoch 13/300\n",
      "82/82 [==============================] - 0s 4ms/step - loss: 40.9939 - mape: 40.9939 - val_loss: 32.6374 - val_mape: 32.6374\n",
      "Epoch 14/300\n",
      "82/82 [==============================] - 0s 5ms/step - loss: 35.1494 - mape: 35.1494 - val_loss: 25.8335 - val_mape: 25.8335\n",
      "Epoch 15/300\n",
      "82/82 [==============================] - 0s 3ms/step - loss: 31.0052 - mape: 31.0052 - val_loss: 21.7096 - val_mape: 21.7096\n",
      "Epoch 16/300\n",
      "82/82 [==============================] - 0s 3ms/step - loss: 29.6731 - mape: 29.6731 - val_loss: 19.3766 - val_mape: 19.3766\n",
      "Epoch 17/300\n",
      "82/82 [==============================] - 0s 4ms/step - loss: 27.5893 - mape: 27.5893 - val_loss: 18.2670 - val_mape: 18.2670\n",
      "Epoch 18/300\n",
      "82/82 [==============================] - 0s 4ms/step - loss: 27.7446 - mape: 27.7446 - val_loss: 17.7616 - val_mape: 17.7616\n",
      "Epoch 19/300\n",
      "82/82 [==============================] - 0s 5ms/step - loss: 27.0113 - mape: 27.0113 - val_loss: 17.5526 - val_mape: 17.5526\n",
      "Epoch 20/300\n",
      "82/82 [==============================] - 0s 3ms/step - loss: 26.3463 - mape: 26.3463 - val_loss: 17.4021 - val_mape: 17.4021\n",
      "Epoch 21/300\n",
      "82/82 [==============================] - 0s 2ms/step - loss: 26.9258 - mape: 26.9258 - val_loss: 17.3372 - val_mape: 17.3372\n",
      "Epoch 22/300\n",
      "82/82 [==============================] - 0s 2ms/step - loss: 27.1947 - mape: 27.1947 - val_loss: 17.2940 - val_mape: 17.2940\n",
      "Epoch 23/300\n",
      "82/82 [==============================] - 0s 2ms/step - loss: 27.1979 - mape: 27.1979 - val_loss: 17.1910 - val_mape: 17.1910\n",
      "Epoch 24/300\n",
      "82/82 [==============================] - 0s 2ms/step - loss: 26.9426 - mape: 26.9426 - val_loss: 17.1690 - val_mape: 17.1690\n",
      "Epoch 25/300\n",
      "82/82 [==============================] - 0s 2ms/step - loss: 26.8857 - mape: 26.8857 - val_loss: 17.0974 - val_mape: 17.0974\n",
      "Epoch 26/300\n",
      "82/82 [==============================] - 0s 2ms/step - loss: 26.9013 - mape: 26.9013 - val_loss: 17.0763 - val_mape: 17.0763\n",
      "Epoch 27/300\n",
      "82/82 [==============================] - 0s 2ms/step - loss: 26.9748 - mape: 26.9748 - val_loss: 17.0059 - val_mape: 17.0059\n",
      "Epoch 28/300\n",
      "82/82 [==============================] - 0s 2ms/step - loss: 26.5480 - mape: 26.5480 - val_loss: 16.9716 - val_mape: 16.9716\n",
      "Epoch 29/300\n",
      "82/82 [==============================] - 0s 2ms/step - loss: 26.5274 - mape: 26.5274 - val_loss: 16.9931 - val_mape: 16.9931\n",
      "Epoch 30/300\n",
      "82/82 [==============================] - 0s 2ms/step - loss: 26.6620 - mape: 26.6620 - val_loss: 16.9360 - val_mape: 16.9360\n",
      "Epoch 31/300\n",
      "82/82 [==============================] - 0s 2ms/step - loss: 25.8031 - mape: 25.8031 - val_loss: 16.8598 - val_mape: 16.8598\n",
      "Epoch 32/300\n",
      "82/82 [==============================] - 0s 2ms/step - loss: 26.6815 - mape: 26.6815 - val_loss: 16.8353 - val_mape: 16.8353\n",
      "Epoch 33/300\n",
      "82/82 [==============================] - 0s 2ms/step - loss: 26.2217 - mape: 26.2217 - val_loss: 16.8009 - val_mape: 16.8009\n",
      "Epoch 34/300\n",
      "82/82 [==============================] - 0s 2ms/step - loss: 26.2171 - mape: 26.2171 - val_loss: 16.7846 - val_mape: 16.7846\n",
      "Epoch 35/300\n",
      "82/82 [==============================] - 0s 2ms/step - loss: 26.8226 - mape: 26.8226 - val_loss: 16.8158 - val_mape: 16.8158\n",
      "Epoch 36/300\n",
      "82/82 [==============================] - 0s 2ms/step - loss: 25.9123 - mape: 25.9123 - val_loss: 16.8023 - val_mape: 16.8023\n",
      "Epoch 37/300\n",
      "82/82 [==============================] - 0s 2ms/step - loss: 25.8632 - mape: 25.8632 - val_loss: 16.7533 - val_mape: 16.7533\n",
      "Epoch 38/300\n",
      "82/82 [==============================] - 0s 2ms/step - loss: 26.0378 - mape: 26.0378 - val_loss: 16.7571 - val_mape: 16.7571\n",
      "Epoch 39/300\n",
      "82/82 [==============================] - 0s 2ms/step - loss: 25.9045 - mape: 25.9045 - val_loss: 16.7308 - val_mape: 16.7308\n",
      "Epoch 40/300\n",
      "82/82 [==============================] - 0s 2ms/step - loss: 26.5418 - mape: 26.5418 - val_loss: 16.6708 - val_mape: 16.6708\n",
      "Epoch 41/300\n",
      "82/82 [==============================] - 0s 2ms/step - loss: 25.5218 - mape: 25.5218 - val_loss: 16.6499 - val_mape: 16.6499\n",
      "Epoch 42/300\n",
      "82/82 [==============================] - 0s 2ms/step - loss: 25.9654 - mape: 25.9654 - val_loss: 16.6374 - val_mape: 16.6374\n",
      "Epoch 43/300\n",
      "82/82 [==============================] - 0s 2ms/step - loss: 24.9633 - mape: 24.9633 - val_loss: 16.6056 - val_mape: 16.6056\n",
      "Epoch 44/300\n",
      "82/82 [==============================] - 0s 2ms/step - loss: 25.0047 - mape: 25.0047 - val_loss: 16.5380 - val_mape: 16.5380\n",
      "Epoch 45/300\n",
      "82/82 [==============================] - 0s 2ms/step - loss: 25.7538 - mape: 25.7538 - val_loss: 16.5288 - val_mape: 16.5288\n",
      "Epoch 46/300\n",
      "82/82 [==============================] - 0s 2ms/step - loss: 24.7046 - mape: 24.7046 - val_loss: 16.5682 - val_mape: 16.5682\n",
      "Epoch 47/300\n",
      "82/82 [==============================] - 0s 2ms/step - loss: 25.4747 - mape: 25.4747 - val_loss: 16.5031 - val_mape: 16.5031\n",
      "Epoch 48/300\n",
      "82/82 [==============================] - 0s 2ms/step - loss: 25.1582 - mape: 25.1582 - val_loss: 16.4783 - val_mape: 16.4783\n",
      "Epoch 49/300\n",
      "82/82 [==============================] - 0s 2ms/step - loss: 24.6487 - mape: 24.6487 - val_loss: 16.4914 - val_mape: 16.4914\n",
      "Epoch 50/300\n",
      "82/82 [==============================] - 0s 2ms/step - loss: 24.6138 - mape: 24.6138 - val_loss: 16.3917 - val_mape: 16.3917\n",
      "Epoch 51/300\n",
      "82/82 [==============================] - 0s 2ms/step - loss: 24.7635 - mape: 24.7635 - val_loss: 16.2954 - val_mape: 16.2954\n",
      "Epoch 52/300\n",
      "82/82 [==============================] - 0s 2ms/step - loss: 25.0999 - mape: 25.0999 - val_loss: 16.3228 - val_mape: 16.3228\n",
      "Epoch 53/300\n",
      "82/82 [==============================] - 0s 2ms/step - loss: 24.7558 - mape: 24.7558 - val_loss: 16.2870 - val_mape: 16.2870\n",
      "Epoch 54/300\n",
      "82/82 [==============================] - 0s 2ms/step - loss: 24.6010 - mape: 24.6010 - val_loss: 16.2611 - val_mape: 16.2611\n",
      "Epoch 55/300\n",
      "82/82 [==============================] - 0s 2ms/step - loss: 24.2316 - mape: 24.2316 - val_loss: 16.2352 - val_mape: 16.2352\n",
      "Epoch 56/300\n",
      "82/82 [==============================] - 0s 2ms/step - loss: 24.0345 - mape: 24.0345 - val_loss: 16.1900 - val_mape: 16.1900\n",
      "Epoch 57/300\n",
      "82/82 [==============================] - 0s 2ms/step - loss: 24.5984 - mape: 24.5984 - val_loss: 16.1875 - val_mape: 16.1875\n",
      "Epoch 58/300\n",
      "82/82 [==============================] - 0s 2ms/step - loss: 25.1858 - mape: 25.1858 - val_loss: 16.2171 - val_mape: 16.2171\n",
      "Epoch 59/300\n",
      "82/82 [==============================] - 0s 2ms/step - loss: 24.4380 - mape: 24.4380 - val_loss: 16.2121 - val_mape: 16.2121\n",
      "Epoch 60/300\n",
      "82/82 [==============================] - 0s 2ms/step - loss: 24.8100 - mape: 24.8100 - val_loss: 16.2198 - val_mape: 16.2198\n",
      "Epoch 61/300\n",
      "82/82 [==============================] - 0s 2ms/step - loss: 23.6677 - mape: 23.6677 - val_loss: 16.2215 - val_mape: 16.2215\n",
      "Epoch 62/300\n",
      "82/82 [==============================] - 0s 2ms/step - loss: 24.3156 - mape: 24.3156 - val_loss: 16.1675 - val_mape: 16.1675\n",
      "Epoch 63/300\n",
      "82/82 [==============================] - 0s 2ms/step - loss: 23.7946 - mape: 23.7946 - val_loss: 16.0883 - val_mape: 16.0883\n",
      "Epoch 64/300\n",
      "82/82 [==============================] - 0s 2ms/step - loss: 23.4891 - mape: 23.4891 - val_loss: 16.0566 - val_mape: 16.0566\n",
      "Epoch 65/300\n",
      "82/82 [==============================] - 0s 2ms/step - loss: 24.1146 - mape: 24.1146 - val_loss: 16.0349 - val_mape: 16.0349\n",
      "Epoch 66/300\n",
      "82/82 [==============================] - 0s 2ms/step - loss: 23.4890 - mape: 23.4890 - val_loss: 16.0061 - val_mape: 16.0061\n",
      "Epoch 67/300\n",
      "82/82 [==============================] - 0s 2ms/step - loss: 24.0207 - mape: 24.0207 - val_loss: 15.9767 - val_mape: 15.9767\n",
      "Epoch 68/300\n",
      "82/82 [==============================] - 0s 2ms/step - loss: 23.8836 - mape: 23.8836 - val_loss: 15.9468 - val_mape: 15.9468\n",
      "Epoch 69/300\n",
      "82/82 [==============================] - 0s 2ms/step - loss: 23.4518 - mape: 23.4518 - val_loss: 15.9766 - val_mape: 15.9766\n",
      "Epoch 70/300\n",
      "82/82 [==============================] - 0s 2ms/step - loss: 23.7973 - mape: 23.7973 - val_loss: 15.9365 - val_mape: 15.9365\n",
      "Epoch 71/300\n",
      "82/82 [==============================] - 0s 2ms/step - loss: 23.1600 - mape: 23.1600 - val_loss: 15.9155 - val_mape: 15.9155\n",
      "Epoch 72/300\n",
      "82/82 [==============================] - 0s 2ms/step - loss: 22.8122 - mape: 22.8122 - val_loss: 15.8904 - val_mape: 15.8904\n",
      "Epoch 73/300\n",
      "82/82 [==============================] - 0s 2ms/step - loss: 22.8359 - mape: 22.8359 - val_loss: 15.8543 - val_mape: 15.8543\n",
      "Epoch 74/300\n",
      "82/82 [==============================] - 0s 2ms/step - loss: 23.3156 - mape: 23.3156 - val_loss: 15.8448 - val_mape: 15.8448\n",
      "Epoch 75/300\n",
      "82/82 [==============================] - 0s 2ms/step - loss: 23.2696 - mape: 23.2696 - val_loss: 15.8256 - val_mape: 15.8256\n",
      "Epoch 76/300\n",
      "82/82 [==============================] - 0s 2ms/step - loss: 23.6439 - mape: 23.6439 - val_loss: 15.8003 - val_mape: 15.8003\n",
      "Epoch 77/300\n",
      "82/82 [==============================] - 0s 2ms/step - loss: 22.7559 - mape: 22.7559 - val_loss: 15.8303 - val_mape: 15.8303\n",
      "Epoch 78/300\n",
      "82/82 [==============================] - 0s 2ms/step - loss: 22.1133 - mape: 22.1133 - val_loss: 15.8400 - val_mape: 15.8400\n",
      "Epoch 79/300\n",
      "82/82 [==============================] - 0s 2ms/step - loss: 22.9902 - mape: 22.9902 - val_loss: 15.8099 - val_mape: 15.8099\n",
      "Epoch 80/300\n",
      "82/82 [==============================] - 0s 2ms/step - loss: 23.0057 - mape: 23.0057 - val_loss: 15.7453 - val_mape: 15.7453\n",
      "Epoch 81/300\n",
      "82/82 [==============================] - 0s 2ms/step - loss: 22.6885 - mape: 22.6885 - val_loss: 15.7828 - val_mape: 15.7828\n",
      "Epoch 82/300\n",
      "82/82 [==============================] - 0s 2ms/step - loss: 22.6640 - mape: 22.6640 - val_loss: 15.7273 - val_mape: 15.7273\n",
      "Epoch 83/300\n",
      "82/82 [==============================] - 0s 2ms/step - loss: 22.3772 - mape: 22.3772 - val_loss: 15.7235 - val_mape: 15.7235\n",
      "Epoch 84/300\n",
      "82/82 [==============================] - 0s 2ms/step - loss: 22.3369 - mape: 22.3369 - val_loss: 15.6912 - val_mape: 15.6912\n",
      "Epoch 85/300\n",
      "82/82 [==============================] - 0s 2ms/step - loss: 22.3187 - mape: 22.3187 - val_loss: 15.6999 - val_mape: 15.6999\n",
      "Epoch 86/300\n",
      "82/82 [==============================] - 0s 2ms/step - loss: 22.3211 - mape: 22.3211 - val_loss: 15.6421 - val_mape: 15.6421\n",
      "Epoch 87/300\n",
      "82/82 [==============================] - 0s 2ms/step - loss: 22.8487 - mape: 22.8487 - val_loss: 15.6639 - val_mape: 15.6639\n",
      "Epoch 88/300\n",
      "82/82 [==============================] - 0s 2ms/step - loss: 21.5818 - mape: 21.5818 - val_loss: 15.7025 - val_mape: 15.7025\n",
      "Epoch 89/300\n",
      "82/82 [==============================] - 0s 2ms/step - loss: 22.0977 - mape: 22.0977 - val_loss: 15.7343 - val_mape: 15.7343\n",
      "Epoch 90/300\n",
      "82/82 [==============================] - 0s 2ms/step - loss: 22.0580 - mape: 22.0580 - val_loss: 15.6642 - val_mape: 15.6642\n",
      "Epoch 91/300\n",
      "82/82 [==============================] - 0s 2ms/step - loss: 21.8939 - mape: 21.8939 - val_loss: 15.6270 - val_mape: 15.6270\n",
      "Epoch 92/300\n",
      "82/82 [==============================] - 0s 2ms/step - loss: 22.1316 - mape: 22.1316 - val_loss: 15.6131 - val_mape: 15.6131\n",
      "Epoch 93/300\n",
      "82/82 [==============================] - 0s 2ms/step - loss: 22.0487 - mape: 22.0487 - val_loss: 15.5946 - val_mape: 15.5946\n",
      "Epoch 94/300\n",
      "82/82 [==============================] - 0s 2ms/step - loss: 21.7934 - mape: 21.7934 - val_loss: 15.5937 - val_mape: 15.5937\n",
      "Epoch 95/300\n",
      "82/82 [==============================] - 0s 2ms/step - loss: 22.1308 - mape: 22.1308 - val_loss: 15.6095 - val_mape: 15.6095\n",
      "Epoch 96/300\n",
      "82/82 [==============================] - 0s 2ms/step - loss: 21.2673 - mape: 21.2673 - val_loss: 15.6316 - val_mape: 15.6316\n",
      "Epoch 97/300\n",
      "82/82 [==============================] - 0s 2ms/step - loss: 21.4855 - mape: 21.4855 - val_loss: 15.5759 - val_mape: 15.5759\n",
      "Epoch 98/300\n",
      "82/82 [==============================] - 0s 2ms/step - loss: 21.4066 - mape: 21.4066 - val_loss: 15.6257 - val_mape: 15.6257\n",
      "Epoch 99/300\n",
      "82/82 [==============================] - 0s 2ms/step - loss: 21.2951 - mape: 21.2951 - val_loss: 15.5582 - val_mape: 15.5582\n",
      "Epoch 100/300\n",
      "82/82 [==============================] - 0s 2ms/step - loss: 21.3204 - mape: 21.3204 - val_loss: 15.5599 - val_mape: 15.5599\n",
      "Epoch 101/300\n",
      "82/82 [==============================] - 0s 2ms/step - loss: 21.4939 - mape: 21.4939 - val_loss: 15.5961 - val_mape: 15.5961\n",
      "Epoch 102/300\n",
      "82/82 [==============================] - 0s 2ms/step - loss: 21.5736 - mape: 21.5736 - val_loss: 15.5260 - val_mape: 15.5260\n",
      "Epoch 103/300\n",
      "82/82 [==============================] - 0s 2ms/step - loss: 20.9865 - mape: 20.9865 - val_loss: 15.5468 - val_mape: 15.5468\n",
      "Epoch 104/300\n",
      "82/82 [==============================] - 0s 2ms/step - loss: 21.1909 - mape: 21.1909 - val_loss: 15.5121 - val_mape: 15.5121\n",
      "Epoch 105/300\n",
      "82/82 [==============================] - 0s 2ms/step - loss: 20.8957 - mape: 20.8957 - val_loss: 15.5007 - val_mape: 15.5007\n",
      "Epoch 106/300\n",
      "82/82 [==============================] - 0s 2ms/step - loss: 21.4475 - mape: 21.4475 - val_loss: 15.5053 - val_mape: 15.5053\n",
      "Epoch 107/300\n",
      "82/82 [==============================] - 0s 2ms/step - loss: 20.6518 - mape: 20.6518 - val_loss: 15.4821 - val_mape: 15.4821\n",
      "Epoch 108/300\n",
      "82/82 [==============================] - 0s 2ms/step - loss: 21.2832 - mape: 21.2832 - val_loss: 15.4787 - val_mape: 15.4787\n",
      "Epoch 109/300\n",
      "82/82 [==============================] - 0s 2ms/step - loss: 20.9785 - mape: 20.9785 - val_loss: 15.4660 - val_mape: 15.4660\n",
      "Epoch 110/300\n",
      "82/82 [==============================] - 0s 2ms/step - loss: 20.3561 - mape: 20.3561 - val_loss: 15.4581 - val_mape: 15.4581\n",
      "Epoch 111/300\n",
      "82/82 [==============================] - 0s 2ms/step - loss: 20.5518 - mape: 20.5518 - val_loss: 15.4563 - val_mape: 15.4563\n",
      "Epoch 112/300\n",
      "82/82 [==============================] - 0s 2ms/step - loss: 20.5270 - mape: 20.5270 - val_loss: 15.4572 - val_mape: 15.4572\n",
      "Epoch 113/300\n",
      "82/82 [==============================] - 0s 2ms/step - loss: 20.9199 - mape: 20.9199 - val_loss: 15.4447 - val_mape: 15.4447\n",
      "Epoch 114/300\n",
      "82/82 [==============================] - 0s 2ms/step - loss: 21.0047 - mape: 21.0047 - val_loss: 15.4520 - val_mape: 15.4520\n",
      "Epoch 115/300\n",
      "82/82 [==============================] - 0s 2ms/step - loss: 20.6323 - mape: 20.6323 - val_loss: 15.4494 - val_mape: 15.4494\n",
      "Epoch 116/300\n",
      "82/82 [==============================] - 0s 2ms/step - loss: 20.3251 - mape: 20.3251 - val_loss: 15.4615 - val_mape: 15.4615\n",
      "Epoch 117/300\n",
      "82/82 [==============================] - 0s 2ms/step - loss: 20.4242 - mape: 20.4242 - val_loss: 15.4594 - val_mape: 15.4594\n",
      "Epoch 118/300\n",
      "82/82 [==============================] - 0s 2ms/step - loss: 20.6018 - mape: 20.6018 - val_loss: 15.4638 - val_mape: 15.4638\n",
      "Epoch 119/300\n",
      "82/82 [==============================] - 0s 2ms/step - loss: 20.2397 - mape: 20.2397 - val_loss: 15.5807 - val_mape: 15.5807\n",
      "Epoch 120/300\n",
      "82/82 [==============================] - 0s 2ms/step - loss: 20.4044 - mape: 20.4044 - val_loss: 15.4232 - val_mape: 15.4232\n",
      "Epoch 121/300\n",
      "82/82 [==============================] - 0s 2ms/step - loss: 20.1838 - mape: 20.1838 - val_loss: 15.4265 - val_mape: 15.4265\n",
      "Epoch 122/300\n",
      "82/82 [==============================] - 0s 2ms/step - loss: 20.4923 - mape: 20.4923 - val_loss: 15.4089 - val_mape: 15.4089\n",
      "Epoch 123/300\n",
      "82/82 [==============================] - 0s 2ms/step - loss: 20.0825 - mape: 20.0825 - val_loss: 15.4158 - val_mape: 15.4158\n",
      "Epoch 124/300\n",
      "82/82 [==============================] - 0s 2ms/step - loss: 20.2024 - mape: 20.2024 - val_loss: 15.4218 - val_mape: 15.4218\n",
      "Epoch 125/300\n",
      "82/82 [==============================] - 0s 2ms/step - loss: 20.6572 - mape: 20.6572 - val_loss: 15.4773 - val_mape: 15.4773\n",
      "Epoch 126/300\n",
      "82/82 [==============================] - 0s 2ms/step - loss: 19.9850 - mape: 19.9850 - val_loss: 15.4118 - val_mape: 15.4118\n",
      "Epoch 127/300\n",
      "82/82 [==============================] - 0s 2ms/step - loss: 19.7335 - mape: 19.7335 - val_loss: 15.3981 - val_mape: 15.3981\n",
      "Epoch 128/300\n",
      "82/82 [==============================] - 0s 3ms/step - loss: 20.2168 - mape: 20.2168 - val_loss: 15.3929 - val_mape: 15.3929\n",
      "Epoch 129/300\n",
      "82/82 [==============================] - 0s 2ms/step - loss: 19.7611 - mape: 19.7611 - val_loss: 15.3990 - val_mape: 15.3990\n",
      "Epoch 130/300\n",
      "82/82 [==============================] - 0s 2ms/step - loss: 19.9649 - mape: 19.9649 - val_loss: 15.4553 - val_mape: 15.4553\n",
      "Epoch 131/300\n",
      "82/82 [==============================] - 0s 2ms/step - loss: 19.8216 - mape: 19.8216 - val_loss: 15.3990 - val_mape: 15.3990\n",
      "Epoch 132/300\n",
      "82/82 [==============================] - 0s 2ms/step - loss: 19.9207 - mape: 19.9207 - val_loss: 15.3983 - val_mape: 15.3983\n",
      "Epoch 133/300\n",
      "82/82 [==============================] - 0s 2ms/step - loss: 19.8835 - mape: 19.8835 - val_loss: 15.3928 - val_mape: 15.3928\n",
      "Epoch 134/300\n",
      "82/82 [==============================] - 0s 2ms/step - loss: 20.0107 - mape: 20.0107 - val_loss: 15.3747 - val_mape: 15.3747\n",
      "Epoch 135/300\n",
      "82/82 [==============================] - 0s 2ms/step - loss: 19.7124 - mape: 19.7124 - val_loss: 15.3956 - val_mape: 15.3956\n",
      "Epoch 136/300\n",
      "82/82 [==============================] - 0s 2ms/step - loss: 19.9238 - mape: 19.9238 - val_loss: 15.3676 - val_mape: 15.3676\n",
      "Epoch 137/300\n",
      "82/82 [==============================] - 0s 2ms/step - loss: 19.3098 - mape: 19.3098 - val_loss: 15.3654 - val_mape: 15.3654\n",
      "Epoch 138/300\n",
      "82/82 [==============================] - 0s 2ms/step - loss: 19.6632 - mape: 19.6632 - val_loss: 15.3708 - val_mape: 15.3708\n",
      "Epoch 139/300\n",
      "82/82 [==============================] - 0s 2ms/step - loss: 19.7169 - mape: 19.7169 - val_loss: 15.3481 - val_mape: 15.3481\n",
      "Epoch 140/300\n",
      "82/82 [==============================] - 0s 2ms/step - loss: 19.6408 - mape: 19.6408 - val_loss: 15.3437 - val_mape: 15.3437\n",
      "Epoch 141/300\n",
      "82/82 [==============================] - 0s 2ms/step - loss: 19.8792 - mape: 19.8792 - val_loss: 15.3618 - val_mape: 15.3618\n",
      "Epoch 142/300\n",
      "82/82 [==============================] - 0s 2ms/step - loss: 19.4599 - mape: 19.4599 - val_loss: 15.3477 - val_mape: 15.3477\n",
      "Epoch 143/300\n",
      "82/82 [==============================] - 0s 3ms/step - loss: 19.7603 - mape: 19.7603 - val_loss: 15.3379 - val_mape: 15.3379\n",
      "Epoch 144/300\n",
      "82/82 [==============================] - 0s 2ms/step - loss: 19.5116 - mape: 19.5116 - val_loss: 15.3247 - val_mape: 15.3247\n",
      "Epoch 145/300\n",
      "82/82 [==============================] - 0s 2ms/step - loss: 19.4647 - mape: 19.4647 - val_loss: 15.3252 - val_mape: 15.3252\n",
      "Epoch 146/300\n",
      "82/82 [==============================] - 0s 2ms/step - loss: 19.2204 - mape: 19.2204 - val_loss: 15.3406 - val_mape: 15.3406\n",
      "Epoch 147/300\n",
      "82/82 [==============================] - 0s 2ms/step - loss: 19.4789 - mape: 19.4789 - val_loss: 15.3182 - val_mape: 15.3182\n",
      "Epoch 148/300\n",
      "82/82 [==============================] - 0s 2ms/step - loss: 19.2828 - mape: 19.2828 - val_loss: 15.3168 - val_mape: 15.3168\n",
      "Epoch 149/300\n",
      "82/82 [==============================] - 0s 2ms/step - loss: 19.3361 - mape: 19.3361 - val_loss: 15.3164 - val_mape: 15.3164\n",
      "Epoch 150/300\n",
      "82/82 [==============================] - 0s 3ms/step - loss: 19.4138 - mape: 19.4138 - val_loss: 15.3013 - val_mape: 15.3013\n",
      "Epoch 151/300\n",
      "82/82 [==============================] - 0s 3ms/step - loss: 18.9946 - mape: 18.9946 - val_loss: 15.3050 - val_mape: 15.3050\n",
      "Epoch 152/300\n",
      "82/82 [==============================] - 0s 2ms/step - loss: 19.6526 - mape: 19.6526 - val_loss: 15.2922 - val_mape: 15.2922\n",
      "Epoch 153/300\n",
      "82/82 [==============================] - 0s 2ms/step - loss: 18.9387 - mape: 18.9387 - val_loss: 15.3048 - val_mape: 15.3048\n",
      "Epoch 154/300\n",
      "82/82 [==============================] - 0s 2ms/step - loss: 18.9759 - mape: 18.9759 - val_loss: 15.2881 - val_mape: 15.2881\n",
      "Epoch 155/300\n",
      "82/82 [==============================] - 0s 3ms/step - loss: 19.1548 - mape: 19.1548 - val_loss: 15.3021 - val_mape: 15.3021\n",
      "Epoch 156/300\n",
      "82/82 [==============================] - 0s 2ms/step - loss: 19.0519 - mape: 19.0519 - val_loss: 15.2911 - val_mape: 15.2911\n",
      "Epoch 157/300\n",
      "82/82 [==============================] - 0s 2ms/step - loss: 18.8633 - mape: 18.8633 - val_loss: 15.3218 - val_mape: 15.3218\n",
      "Epoch 158/300\n",
      "82/82 [==============================] - 0s 2ms/step - loss: 19.1946 - mape: 19.1946 - val_loss: 15.3607 - val_mape: 15.3607\n",
      "Epoch 159/300\n",
      "82/82 [==============================] - 0s 2ms/step - loss: 19.0052 - mape: 19.0052 - val_loss: 15.2862 - val_mape: 15.2862\n",
      "Epoch 160/300\n",
      "82/82 [==============================] - 0s 3ms/step - loss: 19.0747 - mape: 19.0747 - val_loss: 15.2965 - val_mape: 15.2965\n",
      "Epoch 161/300\n",
      "82/82 [==============================] - 0s 2ms/step - loss: 18.7951 - mape: 18.7951 - val_loss: 15.2759 - val_mape: 15.2759\n",
      "Epoch 162/300\n",
      "82/82 [==============================] - 0s 2ms/step - loss: 18.7693 - mape: 18.7693 - val_loss: 15.3175 - val_mape: 15.3175\n",
      "Epoch 163/300\n",
      "82/82 [==============================] - 0s 2ms/step - loss: 18.9306 - mape: 18.9306 - val_loss: 15.3200 - val_mape: 15.3200\n",
      "Epoch 164/300\n",
      "82/82 [==============================] - 0s 3ms/step - loss: 18.8964 - mape: 18.8964 - val_loss: 15.2881 - val_mape: 15.2881\n",
      "Epoch 165/300\n",
      "82/82 [==============================] - 0s 2ms/step - loss: 18.6804 - mape: 18.6804 - val_loss: 15.2969 - val_mape: 15.2969\n",
      "Epoch 166/300\n",
      "82/82 [==============================] - 0s 3ms/step - loss: 18.7765 - mape: 18.7765 - val_loss: 15.2874 - val_mape: 15.2874\n",
      "Epoch 167/300\n",
      "82/82 [==============================] - 0s 2ms/step - loss: 19.0311 - mape: 19.0311 - val_loss: 15.2975 - val_mape: 15.2975\n",
      "Epoch 168/300\n",
      "82/82 [==============================] - 0s 2ms/step - loss: 18.6110 - mape: 18.6110 - val_loss: 15.2889 - val_mape: 15.2889\n",
      "Epoch 169/300\n",
      "82/82 [==============================] - 0s 2ms/step - loss: 18.5166 - mape: 18.5166 - val_loss: 15.2738 - val_mape: 15.2738\n",
      "Epoch 170/300\n",
      "82/82 [==============================] - 0s 3ms/step - loss: 18.7321 - mape: 18.7321 - val_loss: 15.3097 - val_mape: 15.3097\n",
      "Epoch 171/300\n",
      "82/82 [==============================] - 0s 3ms/step - loss: 18.4168 - mape: 18.4168 - val_loss: 15.2816 - val_mape: 15.2816\n",
      "Epoch 172/300\n",
      "82/82 [==============================] - 0s 2ms/step - loss: 18.8732 - mape: 18.8732 - val_loss: 15.2765 - val_mape: 15.2765\n",
      "Epoch 173/300\n",
      "82/82 [==============================] - 0s 2ms/step - loss: 18.7802 - mape: 18.7802 - val_loss: 15.3053 - val_mape: 15.3053\n",
      "Epoch 174/300\n",
      "82/82 [==============================] - 0s 2ms/step - loss: 18.3870 - mape: 18.3870 - val_loss: 15.2591 - val_mape: 15.2591\n",
      "Epoch 175/300\n",
      "82/82 [==============================] - 0s 2ms/step - loss: 18.5887 - mape: 18.5887 - val_loss: 15.2515 - val_mape: 15.2515\n",
      "Epoch 176/300\n",
      "82/82 [==============================] - 0s 2ms/step - loss: 18.5617 - mape: 18.5617 - val_loss: 15.2799 - val_mape: 15.2799\n",
      "Epoch 177/300\n",
      "82/82 [==============================] - 0s 2ms/step - loss: 18.4191 - mape: 18.4191 - val_loss: 15.2850 - val_mape: 15.2850\n",
      "Epoch 178/300\n",
      "82/82 [==============================] - 0s 2ms/step - loss: 18.5283 - mape: 18.5283 - val_loss: 15.2895 - val_mape: 15.2895\n",
      "Epoch 179/300\n",
      "82/82 [==============================] - 0s 2ms/step - loss: 18.5486 - mape: 18.5486 - val_loss: 15.2672 - val_mape: 15.2672\n",
      "Epoch 180/300\n",
      "82/82 [==============================] - 0s 2ms/step - loss: 18.7753 - mape: 18.7753 - val_loss: 15.2667 - val_mape: 15.2667\n",
      "Epoch 181/300\n",
      "82/82 [==============================] - 0s 2ms/step - loss: 18.3010 - mape: 18.3010 - val_loss: 15.2836 - val_mape: 15.2836\n",
      "Epoch 182/300\n",
      "82/82 [==============================] - 0s 2ms/step - loss: 18.6324 - mape: 18.6324 - val_loss: 15.2716 - val_mape: 15.2716\n",
      "Epoch 183/300\n",
      "82/82 [==============================] - 0s 2ms/step - loss: 18.0396 - mape: 18.0396 - val_loss: 15.2919 - val_mape: 15.2919\n",
      "Epoch 184/300\n",
      "82/82 [==============================] - 0s 2ms/step - loss: 18.5777 - mape: 18.5777 - val_loss: 15.2726 - val_mape: 15.2726\n",
      "Epoch 185/300\n",
      "82/82 [==============================] - 0s 2ms/step - loss: 18.4013 - mape: 18.4013 - val_loss: 15.2975 - val_mape: 15.2975\n",
      "Epoch 186/300\n",
      "82/82 [==============================] - 0s 3ms/step - loss: 18.5177 - mape: 18.5177 - val_loss: 15.3311 - val_mape: 15.3311\n",
      "Epoch 187/300\n",
      "82/82 [==============================] - 0s 2ms/step - loss: 18.6638 - mape: 18.6638 - val_loss: 15.2813 - val_mape: 15.2813\n",
      "Epoch 188/300\n",
      "82/82 [==============================] - 0s 2ms/step - loss: 18.1729 - mape: 18.1729 - val_loss: 15.3145 - val_mape: 15.3145\n",
      "Epoch 189/300\n",
      "82/82 [==============================] - 0s 2ms/step - loss: 18.3168 - mape: 18.3168 - val_loss: 15.2738 - val_mape: 15.2738\n",
      "Epoch 190/300\n",
      "82/82 [==============================] - 0s 2ms/step - loss: 18.4077 - mape: 18.4077 - val_loss: 15.2782 - val_mape: 15.2782\n",
      "Epoch 191/300\n",
      "82/82 [==============================] - 0s 2ms/step - loss: 18.0211 - mape: 18.0211 - val_loss: 15.2890 - val_mape: 15.2890\n",
      "Epoch 192/300\n",
      "82/82 [==============================] - 0s 2ms/step - loss: 17.7039 - mape: 17.7039 - val_loss: 15.2886 - val_mape: 15.2886\n",
      "Epoch 193/300\n",
      "82/82 [==============================] - 0s 2ms/step - loss: 18.3562 - mape: 18.3562 - val_loss: 15.2969 - val_mape: 15.2969\n",
      "Epoch 194/300\n",
      "82/82 [==============================] - 0s 2ms/step - loss: 18.3798 - mape: 18.3798 - val_loss: 15.2652 - val_mape: 15.2652\n",
      "Epoch 195/300\n",
      "82/82 [==============================] - 0s 2ms/step - loss: 18.3988 - mape: 18.3988 - val_loss: 15.2409 - val_mape: 15.2409\n",
      "Epoch 196/300\n",
      "82/82 [==============================] - 0s 2ms/step - loss: 17.9293 - mape: 17.9293 - val_loss: 15.2841 - val_mape: 15.2841\n",
      "Epoch 197/300\n",
      "82/82 [==============================] - 0s 2ms/step - loss: 17.9153 - mape: 17.9153 - val_loss: 15.3105 - val_mape: 15.3105\n",
      "Epoch 198/300\n",
      "82/82 [==============================] - 0s 2ms/step - loss: 18.0465 - mape: 18.0465 - val_loss: 15.2621 - val_mape: 15.2621\n",
      "Epoch 199/300\n",
      "82/82 [==============================] - 0s 2ms/step - loss: 18.2566 - mape: 18.2566 - val_loss: 15.2686 - val_mape: 15.2686\n",
      "Epoch 200/300\n",
      "82/82 [==============================] - 0s 2ms/step - loss: 18.4126 - mape: 18.4126 - val_loss: 15.2636 - val_mape: 15.2636\n",
      "Epoch 201/300\n",
      "82/82 [==============================] - 0s 2ms/step - loss: 18.4850 - mape: 18.4850 - val_loss: 15.2544 - val_mape: 15.2544\n",
      "Epoch 202/300\n",
      "82/82 [==============================] - 0s 2ms/step - loss: 17.8613 - mape: 17.8613 - val_loss: 15.2812 - val_mape: 15.2812\n",
      "Epoch 203/300\n",
      "82/82 [==============================] - 0s 3ms/step - loss: 18.4169 - mape: 18.4169 - val_loss: 15.2348 - val_mape: 15.2348\n",
      "Epoch 204/300\n",
      "82/82 [==============================] - 0s 2ms/step - loss: 18.1967 - mape: 18.1967 - val_loss: 15.2497 - val_mape: 15.2497\n",
      "Epoch 205/300\n",
      "82/82 [==============================] - 0s 2ms/step - loss: 17.7228 - mape: 17.7228 - val_loss: 15.2577 - val_mape: 15.2577\n",
      "Epoch 206/300\n",
      "82/82 [==============================] - 0s 2ms/step - loss: 18.3678 - mape: 18.3678 - val_loss: 15.2769 - val_mape: 15.2769\n",
      "Epoch 207/300\n",
      "82/82 [==============================] - 0s 3ms/step - loss: 18.0854 - mape: 18.0854 - val_loss: 15.3238 - val_mape: 15.3238\n",
      "Epoch 208/300\n",
      "82/82 [==============================] - 0s 2ms/step - loss: 18.2038 - mape: 18.2038 - val_loss: 15.3018 - val_mape: 15.3018\n",
      "Epoch 209/300\n",
      "82/82 [==============================] - 0s 2ms/step - loss: 18.2954 - mape: 18.2954 - val_loss: 15.2460 - val_mape: 15.2460\n",
      "Epoch 210/300\n",
      "82/82 [==============================] - 0s 2ms/step - loss: 17.9999 - mape: 17.9999 - val_loss: 15.2810 - val_mape: 15.2810\n",
      "Epoch 211/300\n",
      "82/82 [==============================] - 0s 2ms/step - loss: 17.8798 - mape: 17.8798 - val_loss: 15.2729 - val_mape: 15.2729\n",
      "Epoch 212/300\n",
      "82/82 [==============================] - 0s 3ms/step - loss: 17.7456 - mape: 17.7456 - val_loss: 15.2396 - val_mape: 15.2396\n",
      "Epoch 213/300\n",
      "82/82 [==============================] - 0s 3ms/step - loss: 17.9980 - mape: 17.9980 - val_loss: 15.2442 - val_mape: 15.2442\n",
      "Epoch 214/300\n",
      "82/82 [==============================] - 0s 2ms/step - loss: 18.0775 - mape: 18.0775 - val_loss: 15.2658 - val_mape: 15.2658\n",
      "Epoch 215/300\n",
      "82/82 [==============================] - 0s 2ms/step - loss: 17.6153 - mape: 17.6153 - val_loss: 15.2990 - val_mape: 15.2990\n",
      "Epoch 216/300\n",
      "82/82 [==============================] - 0s 2ms/step - loss: 17.8268 - mape: 17.8268 - val_loss: 15.2765 - val_mape: 15.2765\n",
      "Epoch 217/300\n",
      "82/82 [==============================] - 0s 2ms/step - loss: 17.7404 - mape: 17.7404 - val_loss: 15.2657 - val_mape: 15.2657\n",
      "Epoch 218/300\n",
      "82/82 [==============================] - 0s 2ms/step - loss: 17.7973 - mape: 17.7973 - val_loss: 15.2379 - val_mape: 15.2379\n",
      "Epoch 219/300\n",
      "82/82 [==============================] - 0s 2ms/step - loss: 17.8485 - mape: 17.8485 - val_loss: 15.2198 - val_mape: 15.2198\n",
      "Epoch 220/300\n",
      "82/82 [==============================] - 0s 2ms/step - loss: 17.5596 - mape: 17.5596 - val_loss: 15.2637 - val_mape: 15.2637\n",
      "Epoch 221/300\n",
      "82/82 [==============================] - 0s 2ms/step - loss: 17.8339 - mape: 17.8339 - val_loss: 15.2396 - val_mape: 15.2396\n",
      "Epoch 222/300\n",
      "82/82 [==============================] - 0s 2ms/step - loss: 17.6576 - mape: 17.6576 - val_loss: 15.2509 - val_mape: 15.2509\n",
      "Epoch 223/300\n",
      "82/82 [==============================] - 0s 3ms/step - loss: 17.4111 - mape: 17.4111 - val_loss: 15.2386 - val_mape: 15.2386\n",
      "Epoch 224/300\n",
      "82/82 [==============================] - 0s 2ms/step - loss: 17.8228 - mape: 17.8228 - val_loss: 15.2664 - val_mape: 15.2664\n",
      "Epoch 225/300\n",
      "82/82 [==============================] - 0s 2ms/step - loss: 17.8121 - mape: 17.8121 - val_loss: 15.2118 - val_mape: 15.2118\n",
      "Epoch 226/300\n",
      "82/82 [==============================] - 0s 2ms/step - loss: 17.6217 - mape: 17.6217 - val_loss: 15.2170 - val_mape: 15.2170\n",
      "Epoch 227/300\n",
      "82/82 [==============================] - 0s 3ms/step - loss: 17.5347 - mape: 17.5347 - val_loss: 15.2143 - val_mape: 15.2143\n",
      "Epoch 228/300\n",
      "82/82 [==============================] - 0s 2ms/step - loss: 17.5876 - mape: 17.5876 - val_loss: 15.2830 - val_mape: 15.2830\n",
      "Epoch 229/300\n",
      "82/82 [==============================] - 0s 2ms/step - loss: 17.3742 - mape: 17.3742 - val_loss: 15.2229 - val_mape: 15.2229\n",
      "Epoch 230/300\n",
      "82/82 [==============================] - 0s 2ms/step - loss: 17.4301 - mape: 17.4301 - val_loss: 15.2212 - val_mape: 15.2212\n",
      "Epoch 231/300\n",
      "82/82 [==============================] - 0s 2ms/step - loss: 17.9335 - mape: 17.9335 - val_loss: 15.2516 - val_mape: 15.2516\n",
      "Epoch 232/300\n",
      "82/82 [==============================] - 0s 3ms/step - loss: 17.8575 - mape: 17.8575 - val_loss: 15.2320 - val_mape: 15.2320\n",
      "Epoch 233/300\n",
      "82/82 [==============================] - 0s 2ms/step - loss: 17.5114 - mape: 17.5114 - val_loss: 15.2361 - val_mape: 15.2361\n",
      "Epoch 234/300\n",
      "82/82 [==============================] - 0s 2ms/step - loss: 17.8892 - mape: 17.8892 - val_loss: 15.2663 - val_mape: 15.2663\n",
      "Epoch 235/300\n",
      "82/82 [==============================] - 0s 3ms/step - loss: 17.5204 - mape: 17.5204 - val_loss: 15.2473 - val_mape: 15.2473\n",
      "Epoch 236/300\n",
      "82/82 [==============================] - 0s 2ms/step - loss: 17.4862 - mape: 17.4862 - val_loss: 15.2334 - val_mape: 15.2334\n",
      "Epoch 237/300\n",
      "82/82 [==============================] - 0s 2ms/step - loss: 17.5842 - mape: 17.5842 - val_loss: 15.1999 - val_mape: 15.1999\n",
      "Epoch 238/300\n",
      "82/82 [==============================] - 0s 2ms/step - loss: 17.7657 - mape: 17.7657 - val_loss: 15.2295 - val_mape: 15.2295\n",
      "Epoch 239/300\n",
      "82/82 [==============================] - 0s 2ms/step - loss: 17.6514 - mape: 17.6514 - val_loss: 15.2406 - val_mape: 15.2406\n",
      "Epoch 240/300\n",
      "82/82 [==============================] - 0s 2ms/step - loss: 17.5692 - mape: 17.5692 - val_loss: 15.2013 - val_mape: 15.2013\n",
      "Epoch 241/300\n",
      "82/82 [==============================] - 0s 2ms/step - loss: 17.6687 - mape: 17.6687 - val_loss: 15.2046 - val_mape: 15.2046\n",
      "Epoch 242/300\n",
      "82/82 [==============================] - 0s 3ms/step - loss: 17.3971 - mape: 17.3971 - val_loss: 15.2597 - val_mape: 15.2597\n",
      "Epoch 243/300\n",
      "82/82 [==============================] - 0s 3ms/step - loss: 17.7665 - mape: 17.7665 - val_loss: 15.2288 - val_mape: 15.2288\n",
      "Epoch 244/300\n",
      "82/82 [==============================] - 0s 2ms/step - loss: 17.4246 - mape: 17.4246 - val_loss: 15.2107 - val_mape: 15.2107\n",
      "Epoch 245/300\n",
      "82/82 [==============================] - 0s 2ms/step - loss: 17.4128 - mape: 17.4128 - val_loss: 15.2105 - val_mape: 15.2105\n",
      "Epoch 246/300\n",
      "82/82 [==============================] - 0s 3ms/step - loss: 17.5327 - mape: 17.5327 - val_loss: 15.2293 - val_mape: 15.2293\n",
      "Epoch 247/300\n",
      "82/82 [==============================] - 0s 3ms/step - loss: 17.5468 - mape: 17.5468 - val_loss: 15.2784 - val_mape: 15.2784\n",
      "Epoch 248/300\n",
      "82/82 [==============================] - 0s 3ms/step - loss: 17.5167 - mape: 17.5167 - val_loss: 15.2350 - val_mape: 15.2350\n",
      "Epoch 249/300\n",
      "82/82 [==============================] - 0s 2ms/step - loss: 17.4412 - mape: 17.4412 - val_loss: 15.2288 - val_mape: 15.2288\n",
      "Epoch 250/300\n",
      "82/82 [==============================] - 0s 2ms/step - loss: 17.4891 - mape: 17.4891 - val_loss: 15.2403 - val_mape: 15.2403\n",
      "Epoch 251/300\n",
      "82/82 [==============================] - 0s 2ms/step - loss: 17.3795 - mape: 17.3795 - val_loss: 15.2403 - val_mape: 15.2403\n",
      "Epoch 252/300\n",
      "82/82 [==============================] - 0s 2ms/step - loss: 17.3842 - mape: 17.3842 - val_loss: 15.2287 - val_mape: 15.2287\n",
      "Epoch 253/300\n",
      "82/82 [==============================] - 0s 2ms/step - loss: 17.4184 - mape: 17.4184 - val_loss: 15.2289 - val_mape: 15.2289\n",
      "Epoch 254/300\n",
      "82/82 [==============================] - 0s 2ms/step - loss: 17.6317 - mape: 17.6317 - val_loss: 15.2142 - val_mape: 15.2142\n",
      "Epoch 255/300\n",
      "82/82 [==============================] - 0s 2ms/step - loss: 17.3539 - mape: 17.3539 - val_loss: 15.2250 - val_mape: 15.2250\n",
      "Epoch 256/300\n",
      "82/82 [==============================] - 0s 2ms/step - loss: 17.4728 - mape: 17.4728 - val_loss: 15.2446 - val_mape: 15.2446\n",
      "Epoch 257/300\n",
      "82/82 [==============================] - 0s 2ms/step - loss: 17.4615 - mape: 17.4615 - val_loss: 15.2161 - val_mape: 15.2161\n",
      "Epoch 258/300\n",
      "82/82 [==============================] - 0s 2ms/step - loss: 17.4650 - mape: 17.4650 - val_loss: 15.2388 - val_mape: 15.2388\n",
      "Epoch 259/300\n",
      "82/82 [==============================] - 0s 3ms/step - loss: 17.4392 - mape: 17.4392 - val_loss: 15.2435 - val_mape: 15.2435\n",
      "Epoch 260/300\n",
      "82/82 [==============================] - 0s 2ms/step - loss: 17.1938 - mape: 17.1938 - val_loss: 15.2432 - val_mape: 15.2432\n",
      "Epoch 261/300\n",
      "82/82 [==============================] - 0s 2ms/step - loss: 17.4773 - mape: 17.4773 - val_loss: 15.2247 - val_mape: 15.2247\n",
      "Epoch 262/300\n",
      "82/82 [==============================] - 0s 2ms/step - loss: 17.4395 - mape: 17.4395 - val_loss: 15.2223 - val_mape: 15.2223\n",
      "Epoch 263/300\n",
      "82/82 [==============================] - 0s 3ms/step - loss: 17.6763 - mape: 17.6763 - val_loss: 15.2304 - val_mape: 15.2304\n",
      "Epoch 264/300\n",
      "82/82 [==============================] - 0s 2ms/step - loss: 17.5017 - mape: 17.5017 - val_loss: 15.2300 - val_mape: 15.2300\n",
      "Epoch 265/300\n",
      "82/82 [==============================] - 0s 2ms/step - loss: 17.2085 - mape: 17.2085 - val_loss: 15.2351 - val_mape: 15.2351\n",
      "Epoch 266/300\n",
      "82/82 [==============================] - 0s 2ms/step - loss: 17.4874 - mape: 17.4874 - val_loss: 15.2369 - val_mape: 15.2369\n",
      "Epoch 267/300\n",
      "82/82 [==============================] - 0s 2ms/step - loss: 17.3436 - mape: 17.3436 - val_loss: 15.2751 - val_mape: 15.2751\n",
      "Epoch 268/300\n",
      "82/82 [==============================] - 0s 3ms/step - loss: 17.5233 - mape: 17.5233 - val_loss: 15.2637 - val_mape: 15.2637\n",
      "Epoch 269/300\n",
      "82/82 [==============================] - 0s 2ms/step - loss: 17.3671 - mape: 17.3671 - val_loss: 15.2392 - val_mape: 15.2392\n",
      "Epoch 270/300\n",
      "82/82 [==============================] - 0s 2ms/step - loss: 17.5519 - mape: 17.5519 - val_loss: 15.2435 - val_mape: 15.2435\n",
      "Epoch 271/300\n",
      "82/82 [==============================] - 0s 2ms/step - loss: 17.0670 - mape: 17.0670 - val_loss: 15.2528 - val_mape: 15.2528\n",
      "Epoch 272/300\n",
      "82/82 [==============================] - 0s 2ms/step - loss: 17.6219 - mape: 17.6219 - val_loss: 15.2476 - val_mape: 15.2476\n",
      "Epoch 273/300\n",
      "82/82 [==============================] - 0s 2ms/step - loss: 17.2116 - mape: 17.2116 - val_loss: 15.2598 - val_mape: 15.2598\n",
      "Epoch 274/300\n",
      "82/82 [==============================] - 0s 2ms/step - loss: 17.3282 - mape: 17.3282 - val_loss: 15.2673 - val_mape: 15.2673\n",
      "Epoch 275/300\n",
      "82/82 [==============================] - 0s 2ms/step - loss: 17.3413 - mape: 17.3413 - val_loss: 15.2369 - val_mape: 15.2369\n",
      "Epoch 276/300\n",
      "82/82 [==============================] - 0s 2ms/step - loss: 17.3935 - mape: 17.3935 - val_loss: 15.2410 - val_mape: 15.2410\n",
      "Epoch 277/300\n",
      "82/82 [==============================] - 0s 3ms/step - loss: 17.3914 - mape: 17.3914 - val_loss: 15.2515 - val_mape: 15.2515\n"
     ]
    }
   ],
   "source": [
    "model = Sequential()\n",
    "model.add(Dense(64,activation='relu',input_dim = 12))\n",
    "model.add(Dropout(0.1))\n",
    "model.add(Dense(1,activation='linear'))\n",
    "ad=optimizers.Adam(learning_rate= 0.00001466483330733626)\n",
    "model.compile(optimizer = ad, loss = 'mape', metrics = ['mape'])\n",
    "model_history=model.fit(trainX, trainY,validation_data=(testX,testY), batch_size = 32, epochs = 300,callbacks=[EarlyStopping(monitor='val_loss', patience=40)])"
   ]
  },
  {
   "cell_type": "code",
   "execution_count": 115,
   "id": "77c05906",
   "metadata": {
    "id": "77c05906"
   },
   "outputs": [],
   "source": [
    "def model_loss(history):\n",
    "    plt.figure(figsize=(8,4))\n",
    "    plt.plot(history.history['loss'], label='Train Loss')\n",
    "    plt.plot(history.history['val_loss'], label='Test Loss')\n",
    "    plt.title('model loss')\n",
    "    plt.ylabel('loss')\n",
    "    plt.xlabel('epochs')\n",
    "    plt.legend(loc='upper right')\n",
    "    plt.show();"
   ]
  },
  {
   "cell_type": "code",
   "execution_count": 116,
   "id": "6vZ-AXOUurmJ",
   "metadata": {
    "id": "6vZ-AXOUurmJ"
   },
   "outputs": [],
   "source": [
    "train_score = model.evaluate(trainX, trainY,verbose=0)\n",
    "test_score = model.evaluate(testX, testY,verbose=0)"
   ]
  },
  {
   "cell_type": "code",
   "execution_count": 117,
   "id": "45a22c27",
   "metadata": {
    "colab": {
     "base_uri": "https://localhost:8080/",
     "height": 329
    },
    "id": "45a22c27",
    "outputId": "7abd7a73-e387-47dd-948b-b6be9bee5a5d"
   },
   "outputs": [
    {
     "name": "stdout",
     "output_type": "stream",
     "text": [
      "Train MAPE : 15.76 \n",
      "Test MAPE : 15.25 \n"
     ]
    },
    {
     "data": {
      "image/png": "[encoded data removed]",
      "text/plain": [
       "<Figure size 576x288 with 1 Axes>"
      ]
     },
     "metadata": {
      "needs_background": "light"
     },
     "output_type": "display_data"
    }
   ],
   "source": [
    "train_predict = model.predict(trainX)\n",
    "test_predict = model.predict(testX)\n",
    "\n",
    "# invert predictions\n",
    "train_predict = scaler.inverse_transform(train_predict)\n",
    "trainY = scaler.inverse_transform([trainY])\n",
    "test_predict = scaler.inverse_transform(test_predict)\n",
    "testY = scaler.inverse_transform([testY])\n",
    "print('Train MAPE : %.2f ' % (train_score[1]))\n",
    "print('Test MAPE : %.2f ' % (test_score[1]))\n",
    "model_loss(model_history)"
   ]
  },
  {
   "cell_type": "code",
   "execution_count": 89,
   "id": "dc942f74",
   "metadata": {
    "id": "dc942f74"
   },
   "outputs": [],
   "source": [
    "import seaborn as sns"
   ]
  },
  {
   "cell_type": "code",
   "execution_count": 118,
   "id": "dee9bab8",
   "metadata": {
    "id": "dee9bab8"
   },
   "outputs": [],
   "source": [
    "def prediction_plot(testY, test_predict,look_back):\n",
    "    len_prediction=[x for x in range(2616,2896)]\n",
    "    plt.plot(trainY.reshape(-1,))\n",
    "    plt.plot(len_prediction, testY.reshape(-1,), marker='.', label='actual')\n",
    "    plt.plot(len_prediction, test_predict, 'g', label=\"prediction\")\n",
    "    plt.tight_layout()\n",
    "    sns.despine(top=True)\n",
    "    plt.subplots_adjust(left=0.07)\n",
    "    plt.ylabel('Units', size=15)\n",
    "    plt.xlabel('Time step', size=15)\n",
    "    plt.legend(fontsize=15)\n",
    "    plt.show()"
   ]
  },
  {
   "cell_type": "code",
   "execution_count": 119,
   "id": "363040b5",
   "metadata": {
    "colab": {
     "base_uri": "https://localhost:8080/",
     "height": 604
    },
    "id": "363040b5",
    "outputId": "b5600c80-e43f-4e53-9236-370332080017"
   },
   "outputs": [
    {
     "data": {
      "image/png": "[encoded data removed]",
      "text/plain": [
       "<Figure size 1080x576 with 1 Axes>"
      ]
     },
     "metadata": {
      "needs_background": "light"
     },
     "output_type": "display_data"
    }
   ],
   "source": [
    "test_predict = model.predict(testX)\n",
    "test_predict = scaler.inverse_transform(test_predict)\n",
    "prediction_plot(testY, test_predict,look_back)"
   ]
  },
  {
   "cell_type": "code",
   "execution_count": null,
   "id": "f8a7708c",
   "metadata": {
    "id": "f8a7708c"
   },
   "outputs": [],
   "source": []
  }
 ],
 "metadata": {
  "colab": {
   "collapsed_sections": [],
   "name": "daily_min_HPT_ANN_version_5.ipynb",
   "provenance": []
  },
  "kernelspec": {
   "display_name": "Python 3",
   "language": "python",
   "name": "python3"
  },
  "language_info": {
   "codemirror_mode": {
    "name": "ipython",
    "version": 3
   },
   "file_extension": ".py",
   "mimetype": "text/x-python",
   "name": "python",
   "nbconvert_exporter": "python",
   "pygments_lexer": "ipython3",
   "version": "3.8.8"
  }
 },
 "nbformat": 4,
 "nbformat_minor": 5
}
