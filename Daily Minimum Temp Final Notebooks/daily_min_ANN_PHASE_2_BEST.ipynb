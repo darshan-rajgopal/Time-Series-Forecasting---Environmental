{
 "cells": [
  {
   "cell_type": "code",
   "execution_count": 1,
   "id": "c2ef9b47",
   "metadata": {
    "id": "c2ef9b47"
   },
   "outputs": [],
   "source": [
    "import numpy as np\n",
    "import pandas as pd\n",
    "from tensorflow.keras.models import Sequential\n",
    "from tensorflow.keras.layers import LSTM\n",
    "from tensorflow.keras.layers import Dense\n",
    "from tensorflow.keras.layers import Flatten\n",
    "import matplotlib.pyplot as plt\n",
    "import warnings\n",
    "warnings.filterwarnings('ignore')\n",
    "%matplotlib inline"
   ]
  },
  {
   "cell_type": "code",
   "execution_count": 2,
   "id": "iGQk9lcRmucZ",
   "metadata": {
    "colab": {
     "base_uri": "https://localhost:8080/"
    },
    "id": "iGQk9lcRmucZ",
    "outputId": "97cf6d2c-9398-4d88-bd1e-7ca917d2ea52"
   },
   "outputs": [
    {
     "name": "stdout",
     "output_type": "stream",
     "text": [
      "Mounted at /content/drive\n"
     ]
    }
   ],
   "source": [
    "from google.colab import drive\n",
    "drive.mount('/content/drive')"
   ]
  },
  {
   "cell_type": "code",
   "execution_count": null,
   "id": "BxDZtfokj6Da",
   "metadata": {
    "colab": {
     "base_uri": "https://localhost:8080/",
     "height": 35
    },
    "id": "BxDZtfokj6Da",
    "outputId": "b20dcdbd-c02a-48ad-a576-4ba9370acae1"
   },
   "outputs": [
    {
     "data": {
      "application/vnd.google.colaboratory.intrinsic+json": {
       "type": "string"
      },
      "text/plain": [
       "'/device:GPU:0'"
      ]
     },
     "execution_count": 5,
     "metadata": {},
     "output_type": "execute_result"
    }
   ],
   "source": [
    "import tensorflow as tf\n",
    "tf.test.gpu_device_name()"
   ]
  },
  {
   "cell_type": "code",
   "execution_count": null,
   "id": "UDt4KrAxj6JS",
   "metadata": {
    "colab": {
     "base_uri": "https://localhost:8080/"
    },
    "id": "UDt4KrAxj6JS",
    "outputId": "9d528187-3aea-4259-a635-0d1eddbc47d0"
   },
   "outputs": [
    {
     "data": {
      "text/plain": [
       "[name: \"/device:CPU:0\"\n",
       " device_type: \"CPU\"\n",
       " memory_limit: 268435456\n",
       " locality {\n",
       " }\n",
       " incarnation: 14494480343520806349\n",
       " xla_global_id: -1, name: \"/device:GPU:0\"\n",
       " device_type: \"GPU\"\n",
       " memory_limit: 11320098816\n",
       " locality {\n",
       "   bus_id: 1\n",
       "   links {\n",
       "   }\n",
       " }\n",
       " incarnation: 1229225032833911937\n",
       " physical_device_desc: \"device: 0, name: Tesla K80, pci bus id: 0000:00:04.0, compute capability: 3.7\"\n",
       " xla_global_id: 416903419]"
      ]
     },
     "execution_count": 6,
     "metadata": {},
     "output_type": "execute_result"
    }
   ],
   "source": [
    "from tensorflow.python.client import device_lib\n",
    "device_lib.list_local_devices()"
   ]
  },
  {
   "cell_type": "code",
   "execution_count": 3,
   "id": "30d066a0",
   "metadata": {
    "colab": {
     "base_uri": "https://localhost:8080/",
     "height": 206
    },
    "id": "30d066a0",
    "outputId": "052e5fe3-44fc-412e-f892-c764984399c3"
   },
   "outputs": [
    {
     "data": {
      "text/html": [
       "\n",
       "  <div id=\"df-8c8a3f45-575a-405e-acf9-343b0150e4ff\">\n",
       "    <div class=\"colab-df-container\">\n",
       "      <div>\n",
       "<style scoped>\n",
       "    .dataframe tbody tr th:only-of-type {\n",
       "        vertical-align: middle;\n",
       "    }\n",
       "\n",
       "    .dataframe tbody tr th {\n",
       "        vertical-align: top;\n",
       "    }\n",
       "\n",
       "    .dataframe thead th {\n",
       "        text-align: right;\n",
       "    }\n",
       "</style>\n",
       "<table border=\"1\" class=\"dataframe\">\n",
       "  <thead>\n",
       "    <tr style=\"text-align: right;\">\n",
       "      <th></th>\n",
       "      <th>Date</th>\n",
       "      <th>Temp</th>\n",
       "    </tr>\n",
       "  </thead>\n",
       "  <tbody>\n",
       "    <tr>\n",
       "      <th>0</th>\n",
       "      <td>01-01-1981</td>\n",
       "      <td>20.7</td>\n",
       "    </tr>\n",
       "    <tr>\n",
       "      <th>1</th>\n",
       "      <td>02-01-1981</td>\n",
       "      <td>17.9</td>\n",
       "    </tr>\n",
       "    <tr>\n",
       "      <th>2</th>\n",
       "      <td>03-01-1981</td>\n",
       "      <td>18.8</td>\n",
       "    </tr>\n",
       "    <tr>\n",
       "      <th>3</th>\n",
       "      <td>04-01-1981</td>\n",
       "      <td>14.6</td>\n",
       "    </tr>\n",
       "    <tr>\n",
       "      <th>4</th>\n",
       "      <td>05-01-1981</td>\n",
       "      <td>15.8</td>\n",
       "    </tr>\n",
       "  </tbody>\n",
       "</table>\n",
       "</div>\n",
       "      <button class=\"colab-df-convert\" onclick=\"convertToInteractive('df-8c8a3f45-575a-405e-acf9-343b0150e4ff')\"\n",
       "              title=\"Convert this dataframe to an interactive table.\"\n",
       "              style=\"display:none;\">\n",
       "        \n",
       "  <svg xmlns=\"http://www.w3.org/2000/svg\" height=\"24px\"viewBox=\"0 0 24 24\"\n",
       "       width=\"24px\">\n",
       "    <path d=\"M0 0h24v24H0V0z\" fill=\"none\"/>\n",
       "    <path d=\"M18.56 5.44l.94 2.06.94-2.06 2.06-.94-2.06-.94-.94-2.06-.94 2.06-2.06.94zm-11 1L8.5 8.5l.94-2.06 2.06-.94-2.06-.94L8.5 2.5l-.94 2.06-2.06.94zm10 10l.94 2.06.94-2.06 2.06-.94-2.06-.94-.94-2.06-.94 2.06-2.06.94z\"/><path d=\"M17.41 7.96l-1.37-1.37c-.4-.4-.92-.59-1.43-.59-.52 0-1.04.2-1.43.59L10.3 9.45l-7.72 7.72c-.78.78-.78 2.05 0 2.83L4 21.41c.39.39.9.59 1.41.59.51 0 1.02-.2 1.41-.59l7.78-7.78 2.81-2.81c.8-.78.8-2.07 0-2.86zM5.41 20L4 18.59l7.72-7.72 1.47 1.35L5.41 20z\"/>\n",
       "  </svg>\n",
       "      </button>\n",
       "      \n",
       "  <style>\n",
       "    .colab-df-container {\n",
       "      display:flex;\n",
       "      flex-wrap:wrap;\n",
       "      gap: 12px;\n",
       "    }\n",
       "\n",
       "    .colab-df-convert {\n",
       "      background-color: #E8F0FE;\n",
       "      border: none;\n",
       "      border-radius: 50%;\n",
       "      cursor: pointer;\n",
       "      display: none;\n",
       "      fill: #1967D2;\n",
       "      height: 32px;\n",
       "      padding: 0 0 0 0;\n",
       "      width: 32px;\n",
       "    }\n",
       "\n",
       "    .colab-df-convert:hover {\n",
       "      background-color: #E2EBFA;\n",
       "      box-shadow: 0px 1px 2px rgba(60, 64, 67, 0.3), 0px 1px 3px 1px rgba(60, 64, 67, 0.15);\n",
       "      fill: #174EA6;\n",
       "    }\n",
       "\n",
       "    [theme=dark] .colab-df-convert {\n",
       "      background-color: #3B4455;\n",
       "      fill: #D2E3FC;\n",
       "    }\n",
       "\n",
       "    [theme=dark] .colab-df-convert:hover {\n",
       "      background-color: #434B5C;\n",
       "      box-shadow: 0px 1px 3px 1px rgba(0, 0, 0, 0.15);\n",
       "      filter: drop-shadow(0px 1px 2px rgba(0, 0, 0, 0.3));\n",
       "      fill: #FFFFFF;\n",
       "    }\n",
       "  </style>\n",
       "\n",
       "      <script>\n",
       "        const buttonEl =\n",
       "          document.querySelector('#df-8c8a3f45-575a-405e-acf9-343b0150e4ff button.colab-df-convert');\n",
       "        buttonEl.style.display =\n",
       "          google.colab.kernel.accessAllowed ? 'block' : 'none';\n",
       "\n",
       "        async function convertToInteractive(key) {\n",
       "          const element = document.querySelector('#df-8c8a3f45-575a-405e-acf9-343b0150e4ff');\n",
       "          const dataTable =\n",
       "            await google.colab.kernel.invokeFunction('convertToInteractive',\n",
       "                                                     [key], {});\n",
       "          if (!dataTable) return;\n",
       "\n",
       "          const docLinkHtml = 'Like what you see? Visit the ' +\n",
       "            '<a target=\"_blank\" href=https://colab.research.google.com/notebooks/data_table.ipynb>data table notebook</a>'\n",
       "            + ' to learn more about interactive tables.';\n",
       "          element.innerHTML = '';\n",
       "          dataTable['output_type'] = 'display_data';\n",
       "          await google.colab.output.renderOutput(dataTable, element);\n",
       "          const docLink = document.createElement('div');\n",
       "          docLink.innerHTML = docLinkHtml;\n",
       "          element.appendChild(docLink);\n",
       "        }\n",
       "      </script>\n",
       "    </div>\n",
       "  </div>\n",
       "  "
      ],
      "text/plain": [
       "         Date  Temp\n",
       "0  01-01-1981  20.7\n",
       "1  02-01-1981  17.9\n",
       "2  03-01-1981  18.8\n",
       "3  04-01-1981  14.6\n",
       "4  05-01-1981  15.8"
      ]
     },
     "execution_count": 3,
     "metadata": {},
     "output_type": "execute_result"
    }
   ],
   "source": [
    "df = pd.read_csv('/content/drive/MyDrive/Colab Notebooks/Environmental/Daily_Minimum_Temperatures.csv')\n",
    "df.head()"
   ]
  },
  {
   "cell_type": "code",
   "execution_count": 4,
   "id": "e2663bb4",
   "metadata": {
    "colab": {
     "base_uri": "https://localhost:8080/",
     "height": 206
    },
    "id": "e2663bb4",
    "outputId": "b969b267-2e6a-458f-fb1b-fd8cfc840497"
   },
   "outputs": [
    {
     "data": {
      "text/html": [
       "\n",
       "  <div id=\"df-c2c877d1-4db0-41ff-88b6-136a2328bb62\">\n",
       "    <div class=\"colab-df-container\">\n",
       "      <div>\n",
       "<style scoped>\n",
       "    .dataframe tbody tr th:only-of-type {\n",
       "        vertical-align: middle;\n",
       "    }\n",
       "\n",
       "    .dataframe tbody tr th {\n",
       "        vertical-align: top;\n",
       "    }\n",
       "\n",
       "    .dataframe thead th {\n",
       "        text-align: right;\n",
       "    }\n",
       "</style>\n",
       "<table border=\"1\" class=\"dataframe\">\n",
       "  <thead>\n",
       "    <tr style=\"text-align: right;\">\n",
       "      <th></th>\n",
       "      <th>Date</th>\n",
       "      <th>Temp</th>\n",
       "    </tr>\n",
       "  </thead>\n",
       "  <tbody>\n",
       "    <tr>\n",
       "      <th>2915</th>\n",
       "      <td>26-12-1988</td>\n",
       "      <td>9.5</td>\n",
       "    </tr>\n",
       "    <tr>\n",
       "      <th>2916</th>\n",
       "      <td>27-12-1988</td>\n",
       "      <td>12.9</td>\n",
       "    </tr>\n",
       "    <tr>\n",
       "      <th>2917</th>\n",
       "      <td>28-12-1988</td>\n",
       "      <td>12.9</td>\n",
       "    </tr>\n",
       "    <tr>\n",
       "      <th>2918</th>\n",
       "      <td>29-12-1988</td>\n",
       "      <td>14.8</td>\n",
       "    </tr>\n",
       "    <tr>\n",
       "      <th>2919</th>\n",
       "      <td>30-12-1988</td>\n",
       "      <td>14.1</td>\n",
       "    </tr>\n",
       "  </tbody>\n",
       "</table>\n",
       "</div>\n",
       "      <button class=\"colab-df-convert\" onclick=\"convertToInteractive('df-c2c877d1-4db0-41ff-88b6-136a2328bb62')\"\n",
       "              title=\"Convert this dataframe to an interactive table.\"\n",
       "              style=\"display:none;\">\n",
       "        \n",
       "  <svg xmlns=\"http://www.w3.org/2000/svg\" height=\"24px\"viewBox=\"0 0 24 24\"\n",
       "       width=\"24px\">\n",
       "    <path d=\"M0 0h24v24H0V0z\" fill=\"none\"/>\n",
       "    <path d=\"M18.56 5.44l.94 2.06.94-2.06 2.06-.94-2.06-.94-.94-2.06-.94 2.06-2.06.94zm-11 1L8.5 8.5l.94-2.06 2.06-.94-2.06-.94L8.5 2.5l-.94 2.06-2.06.94zm10 10l.94 2.06.94-2.06 2.06-.94-2.06-.94-.94-2.06-.94 2.06-2.06.94z\"/><path d=\"M17.41 7.96l-1.37-1.37c-.4-.4-.92-.59-1.43-.59-.52 0-1.04.2-1.43.59L10.3 9.45l-7.72 7.72c-.78.78-.78 2.05 0 2.83L4 21.41c.39.39.9.59 1.41.59.51 0 1.02-.2 1.41-.59l7.78-7.78 2.81-2.81c.8-.78.8-2.07 0-2.86zM5.41 20L4 18.59l7.72-7.72 1.47 1.35L5.41 20z\"/>\n",
       "  </svg>\n",
       "      </button>\n",
       "      \n",
       "  <style>\n",
       "    .colab-df-container {\n",
       "      display:flex;\n",
       "      flex-wrap:wrap;\n",
       "      gap: 12px;\n",
       "    }\n",
       "\n",
       "    .colab-df-convert {\n",
       "      background-color: #E8F0FE;\n",
       "      border: none;\n",
       "      border-radius: 50%;\n",
       "      cursor: pointer;\n",
       "      display: none;\n",
       "      fill: #1967D2;\n",
       "      height: 32px;\n",
       "      padding: 0 0 0 0;\n",
       "      width: 32px;\n",
       "    }\n",
       "\n",
       "    .colab-df-convert:hover {\n",
       "      background-color: #E2EBFA;\n",
       "      box-shadow: 0px 1px 2px rgba(60, 64, 67, 0.3), 0px 1px 3px 1px rgba(60, 64, 67, 0.15);\n",
       "      fill: #174EA6;\n",
       "    }\n",
       "\n",
       "    [theme=dark] .colab-df-convert {\n",
       "      background-color: #3B4455;\n",
       "      fill: #D2E3FC;\n",
       "    }\n",
       "\n",
       "    [theme=dark] .colab-df-convert:hover {\n",
       "      background-color: #434B5C;\n",
       "      box-shadow: 0px 1px 3px 1px rgba(0, 0, 0, 0.15);\n",
       "      filter: drop-shadow(0px 1px 2px rgba(0, 0, 0, 0.3));\n",
       "      fill: #FFFFFF;\n",
       "    }\n",
       "  </style>\n",
       "\n",
       "      <script>\n",
       "        const buttonEl =\n",
       "          document.querySelector('#df-c2c877d1-4db0-41ff-88b6-136a2328bb62 button.colab-df-convert');\n",
       "        buttonEl.style.display =\n",
       "          google.colab.kernel.accessAllowed ? 'block' : 'none';\n",
       "\n",
       "        async function convertToInteractive(key) {\n",
       "          const element = document.querySelector('#df-c2c877d1-4db0-41ff-88b6-136a2328bb62');\n",
       "          const dataTable =\n",
       "            await google.colab.kernel.invokeFunction('convertToInteractive',\n",
       "                                                     [key], {});\n",
       "          if (!dataTable) return;\n",
       "\n",
       "          const docLinkHtml = 'Like what you see? Visit the ' +\n",
       "            '<a target=\"_blank\" href=https://colab.research.google.com/notebooks/data_table.ipynb>data table notebook</a>'\n",
       "            + ' to learn more about interactive tables.';\n",
       "          element.innerHTML = '';\n",
       "          dataTable['output_type'] = 'display_data';\n",
       "          await google.colab.output.renderOutput(dataTable, element);\n",
       "          const docLink = document.createElement('div');\n",
       "          docLink.innerHTML = docLinkHtml;\n",
       "          element.appendChild(docLink);\n",
       "        }\n",
       "      </script>\n",
       "    </div>\n",
       "  </div>\n",
       "  "
      ],
      "text/plain": [
       "            Date  Temp\n",
       "2915  26-12-1988   9.5\n",
       "2916  27-12-1988  12.9\n",
       "2917  28-12-1988  12.9\n",
       "2918  29-12-1988  14.8\n",
       "2919  30-12-1988  14.1"
      ]
     },
     "execution_count": 4,
     "metadata": {},
     "output_type": "execute_result"
    }
   ],
   "source": [
    "df.tail()"
   ]
  },
  {
   "cell_type": "code",
   "execution_count": 5,
   "id": "0482272d",
   "metadata": {
    "colab": {
     "base_uri": "https://localhost:8080/"
    },
    "id": "0482272d",
    "outputId": "1304e12b-d475-468d-b2a2-c2248f822b41"
   },
   "outputs": [
    {
     "data": {
      "text/plain": [
       "(2920, 2)"
      ]
     },
     "execution_count": 5,
     "metadata": {},
     "output_type": "execute_result"
    }
   ],
   "source": [
    "df.shape"
   ]
  },
  {
   "cell_type": "code",
   "execution_count": 6,
   "id": "076f1ad3",
   "metadata": {
    "colab": {
     "base_uri": "https://localhost:8080/"
    },
    "id": "076f1ad3",
    "outputId": "c6988fcc-bd01-447f-b26c-3cbc625fce36"
   },
   "outputs": [
    {
     "name": "stdout",
     "output_type": "stream",
     "text": [
      "<class 'pandas.core.frame.DataFrame'>\n",
      "RangeIndex: 2920 entries, 0 to 2919\n",
      "Data columns (total 2 columns):\n",
      " #   Column  Non-Null Count  Dtype  \n",
      "---  ------  --------------  -----  \n",
      " 0   Date    2920 non-null   object \n",
      " 1   Temp    2920 non-null   float64\n",
      "dtypes: float64(1), object(1)\n",
      "memory usage: 45.8+ KB\n"
     ]
    }
   ],
   "source": [
    "df.info()"
   ]
  },
  {
   "cell_type": "code",
   "execution_count": 7,
   "id": "jLgRGWAPyy7Q",
   "metadata": {
    "id": "jLgRGWAPyy7Q"
   },
   "outputs": [],
   "source": [
    "time = pd.date_range(start='1/1/1981',periods=2920,freq='D')\n",
    "df['time_stamp'] = pd.DataFrame(time)\n",
    "df.drop(['Date'],axis=1,inplace=True)\n",
    "df = df.set_index('time_stamp')"
   ]
  },
  {
   "cell_type": "code",
   "execution_count": 8,
   "id": "D2Szvn_Jyy9y",
   "metadata": {
    "colab": {
     "base_uri": "https://localhost:8080/"
    },
    "id": "D2Szvn_Jyy9y",
    "outputId": "8c1a75da-d97c-4e9d-a00a-867b23a5ce46"
   },
   "outputs": [
    {
     "data": {
      "text/plain": [
       "Temp    0.0\n",
       "dtype: float64"
      ]
     },
     "execution_count": 8,
     "metadata": {},
     "output_type": "execute_result"
    }
   ],
   "source": [
    "df.min()"
   ]
  },
  {
   "cell_type": "code",
   "execution_count": 9,
   "id": "Z5G4wFuFzBQT",
   "metadata": {
    "id": "Z5G4wFuFzBQT"
   },
   "outputs": [],
   "source": [
    "df = df + 1"
   ]
  },
  {
   "cell_type": "code",
   "execution_count": 10,
   "id": "yBDUaFhPzMMb",
   "metadata": {
    "id": "yBDUaFhPzMMb"
   },
   "outputs": [],
   "source": [
    "plt.rcParams['figure.figsize'] = [15,8]"
   ]
  },
  {
   "cell_type": "code",
   "execution_count": 11,
   "id": "cIgSM89EzBTw",
   "metadata": {
    "colab": {
     "base_uri": "https://localhost:8080/",
     "height": 523
    },
    "id": "cIgSM89EzBTw",
    "outputId": "9c904536-849a-46e4-91c5-450eab6d2e57"
   },
   "outputs": [
    {
     "data": {
      "image/png": "[encoded data removed]",
      "text/plain": [
       "<Figure size 1080x576 with 1 Axes>"
      ]
     },
     "metadata": {
      "needs_background": "light"
     },
     "output_type": "display_data"
    }
   ],
   "source": [
    "plt.plot(df,color='green')\n",
    "plt.title('Daily Minimum Temperature',fontsize=20)\n",
    "plt.xlabel('Date',fontsize=15)\n",
    "plt.ylabel('Units',fontsize=15)\n",
    "plt.show()"
   ]
  },
  {
   "cell_type": "code",
   "execution_count": 12,
   "id": "bf59d3e0",
   "metadata": {
    "id": "bf59d3e0"
   },
   "outputs": [],
   "source": [
    "def convert2matrix(data_arr, look_back):\n",
    "    X, Y =[], []\n",
    "    for i in range(len(data_arr)-look_back):\n",
    "        d=i+look_back  \n",
    "        X.append(data_arr[i:d,0])\n",
    "        Y.append(data_arr[d,0])\n",
    "    return np.array(X), np.array(Y)"
   ]
  },
  {
   "cell_type": "code",
   "execution_count": 48,
   "id": "5CBL1GHqurmE",
   "metadata": {
    "id": "5CBL1GHqurmE"
   },
   "outputs": [],
   "source": [
    "from sklearn.preprocessing import MinMaxScaler\n",
    "#create numpy.ndarray \n",
    "df['Temp'] = df['Temp'].astype(np.float32)\n",
    "df_arr = df.values\n",
    "df_arr = np.reshape(df_arr, (-1, 1))\n",
    "scaler = MinMaxScaler(feature_range=(0.1, 1))\n",
    "df_arr = scaler.fit_transform(df_arr)"
   ]
  },
  {
   "cell_type": "code",
   "execution_count": 49,
   "id": "1cea6c5f",
   "metadata": {
    "id": "1cea6c5f"
   },
   "outputs": [],
   "source": [
    "#Split data set into testing dataset and train dataset\n",
    "train_size = 2625\n",
    "train, test =df_arr[0:train_size,:], df_arr[train_size:len(df_arr),:]\n",
    "# setup look_back window \n",
    "look_back = 3\n",
    "#convert dataset into right shape in order to input into the DNN\n",
    "trainX, trainY = convert2matrix(train, look_back)\n",
    "testX, testY = convert2matrix(test, look_back)"
   ]
  },
  {
   "cell_type": "code",
   "execution_count": 38,
   "id": "c7d46c39",
   "metadata": {
    "colab": {
     "base_uri": "https://localhost:8080/"
    },
    "id": "c7d46c39",
    "outputId": "19f168e4-35f8-4f60-cf9f-789efc862c8e"
   },
   "outputs": [
    {
     "name": "stdout",
     "output_type": "stream",
     "text": [
      "(2622, 3)\n",
      "(2622,)\n",
      "(292, 3)\n",
      "(292,)\n"
     ]
    }
   ],
   "source": [
    "print(trainX.shape)\n",
    "print(trainY.shape)\n",
    "print(testX.shape)\n",
    "print(testY.shape)"
   ]
  },
  {
   "cell_type": "code",
   "execution_count": 18,
   "id": "GIc1nRcCuP3G",
   "metadata": {
    "colab": {
     "base_uri": "https://localhost:8080/"
    },
    "id": "GIc1nRcCuP3G",
    "outputId": "f2200c25-6580-4896-c564-c8efed9d296f"
   },
   "outputs": [
    {
     "name": "stdout",
     "output_type": "stream",
     "text": [
      "\u001b[?25l\r",
      "\u001b[K     |██▌                             | 10 kB 17.9 MB/s eta 0:00:01\r",
      "\u001b[K     |█████                           | 20 kB 23.3 MB/s eta 0:00:01\r",
      "\u001b[K     |███████▍                        | 30 kB 26.6 MB/s eta 0:00:01\r",
      "\u001b[K     |█████████▉                      | 40 kB 29.4 MB/s eta 0:00:01\r",
      "\u001b[K     |████████████▎                   | 51 kB 30.5 MB/s eta 0:00:01\r",
      "\u001b[K     |██████████████▊                 | 61 kB 33.7 MB/s eta 0:00:01\r",
      "\u001b[K     |█████████████████▏              | 71 kB 34.3 MB/s eta 0:00:01\r",
      "\u001b[K     |███████████████████▋            | 81 kB 24.5 MB/s eta 0:00:01\r",
      "\u001b[K     |██████████████████████          | 92 kB 25.9 MB/s eta 0:00:01\r",
      "\u001b[K     |████████████████████████▌       | 102 kB 27.1 MB/s eta 0:00:01\r",
      "\u001b[K     |███████████████████████████     | 112 kB 27.1 MB/s eta 0:00:01\r",
      "\u001b[K     |█████████████████████████████▍  | 122 kB 27.1 MB/s eta 0:00:01\r",
      "\u001b[K     |███████████████████████████████▉| 133 kB 27.1 MB/s eta 0:00:01\r",
      "\u001b[K     |████████████████████████████████| 133 kB 27.1 MB/s \n",
      "\u001b[?25h"
     ]
    }
   ],
   "source": [
    "!pip install -q -U keras-tuner"
   ]
  },
  {
   "cell_type": "code",
   "execution_count": 19,
   "id": "M5te5ih0uP6u",
   "metadata": {
    "id": "M5te5ih0uP6u"
   },
   "outputs": [],
   "source": [
    "import pandas as pd\n",
    "from tensorflow import keras\n",
    "from tensorflow.keras import layers\n",
    "from keras_tuner.tuners import RandomSearch\n",
    "from tensorflow.keras.models import Sequential\n",
    "from tensorflow.keras.layers import LSTM\n",
    "from tensorflow.keras.layers import Dense,Dropout\n",
    "from tensorflow.keras.layers import Flatten\n",
    "import matplotlib.pyplot as plt"
   ]
  },
  {
   "cell_type": "code",
   "execution_count": null,
   "id": "rYiJC5hXuP_e",
   "metadata": {
    "id": "rYiJC5hXuP_e"
   },
   "outputs": [],
   "source": [
    "def build_model(hp):\n",
    "    model = keras.Sequential()\n",
    "    for i in range(hp.Int('num_layers', 1, 5)):\n",
    "        model.add(layers.Dense(units=hp.Int('units_' + str(i),\n",
    "                                            min_value=8,\n",
    "                                            max_value = 128,\n",
    "                                            step=8),\n",
    "                                            activation= \"relu\"))\n",
    "        if hp.Boolean(\"dropout\"):\n",
    "          model.add(Dropout(hp.Float('Dropout_rate',min_value=0,max_value=0.5,step=0.1)))\n",
    "    model.add(layers.Dense(1, activation='linear'))\n",
    "    model.compile(\n",
    "        optimizer=keras.optimizers.Adam(\n",
    "             hp.Float('learning_rate', min_value=1e-4, max_value=1e-1, sampling=\"log\")),\n",
    "        loss='mape',\n",
    "        metrics=['mape'])\n",
    "    return model"
   ]
  },
  {
   "cell_type": "code",
   "execution_count": null,
   "id": "2h_gRerjuQCT",
   "metadata": {
    "id": "2h_gRerjuQCT"
   },
   "outputs": [],
   "source": [
    "tuner = RandomSearch(\n",
    "    build_model,\n",
    "    objective='val_mape',\n",
    "    max_trials=10,\n",
    "    executions_per_trial=1,\n",
    "    directory='project',\n",
    "    project_name='loa_em_1')"
   ]
  },
  {
   "cell_type": "code",
   "execution_count": null,
   "id": "Dg5AHN3guQFu",
   "metadata": {
    "colab": {
     "base_uri": "https://localhost:8080/"
    },
    "id": "Dg5AHN3guQFu",
    "outputId": "ab1e94fe-de38-432d-f243-a270d3e089d0"
   },
   "outputs": [
    {
     "name": "stdout",
     "output_type": "stream",
     "text": [
      "Search space summary\n",
      "Default search space size: 4\n",
      "num_layers (Int)\n",
      "{'default': None, 'conditions': [], 'min_value': 1, 'max_value': 5, 'step': 1, 'sampling': None}\n",
      "units_0 (Int)\n",
      "{'default': None, 'conditions': [], 'min_value': 8, 'max_value': 128, 'step': 8, 'sampling': None}\n",
      "dropout (Boolean)\n",
      "{'default': False, 'conditions': []}\n",
      "learning_rate (Float)\n",
      "{'default': 0.0001, 'conditions': [], 'min_value': 0.0001, 'max_value': 0.1, 'step': None, 'sampling': 'log'}\n"
     ]
    }
   ],
   "source": [
    "tuner.search_space_summary()"
   ]
  },
  {
   "cell_type": "code",
   "execution_count": null,
   "id": "TiBXdF0K8Gpr",
   "metadata": {
    "colab": {
     "base_uri": "https://localhost:8080/"
    },
    "id": "TiBXdF0K8Gpr",
    "outputId": "a13c166b-8bc0-483f-c5b0-ec0f9c0e37b3"
   },
   "outputs": [
    {
     "name": "stdout",
     "output_type": "stream",
     "text": [
      "Trial 10 Complete [00h 00m 46s]\n",
      "val_mape: 14.95457935333252\n",
      "\n",
      "Best val_mape So Far: 14.95457935333252\n",
      "Total elapsed time: 00h 11m 24s\n",
      "INFO:tensorflow:Oracle triggered exit\n"
     ]
    }
   ],
   "source": [
    "tuner.search(trainX, trainY,\n",
    "             epochs=200,\n",
    "             batch_size=32,\n",
    "             validation_data=(testX, testY))"
   ]
  },
  {
   "cell_type": "code",
   "execution_count": null,
   "id": "VXXGH_RK8GsD",
   "metadata": {
    "colab": {
     "base_uri": "https://localhost:8080/"
    },
    "id": "VXXGH_RK8GsD",
    "outputId": "d893ddc2-eae1-4f32-f916-10b4b50fcc4b"
   },
   "outputs": [
    {
     "name": "stdout",
     "output_type": "stream",
     "text": [
      "Results summary\n",
      "Results in project/loa_em_1\n",
      "Showing 10 best trials\n",
      "Objective(name='val_mape', direction='min')\n",
      "Trial summary\n",
      "Hyperparameters:\n",
      "num_layers: 2\n",
      "units_0: 80\n",
      "dropout: True\n",
      "learning_rate: 0.0019466483330733626\n",
      "Dropout_rate: 0.1\n",
      "units_1: 120\n",
      "units_2: 112\n",
      "units_3: 56\n",
      "units_4: 96\n",
      "Score: 14.95457935333252\n",
      "Trial summary\n",
      "Hyperparameters:\n",
      "num_layers: 3\n",
      "units_0: 104\n",
      "dropout: False\n",
      "learning_rate: 0.0015377893817187592\n",
      "Dropout_rate: 0.1\n",
      "units_1: 48\n",
      "units_2: 16\n",
      "units_3: 8\n",
      "units_4: 128\n",
      "Score: 14.978797912597656\n",
      "Trial summary\n",
      "Hyperparameters:\n",
      "num_layers: 5\n",
      "units_0: 56\n",
      "dropout: True\n",
      "learning_rate: 0.021870957694520653\n",
      "Dropout_rate: 0.0\n",
      "units_1: 8\n",
      "units_2: 8\n",
      "units_3: 8\n",
      "units_4: 8\n",
      "Score: 14.993188858032227\n",
      "Trial summary\n",
      "Hyperparameters:\n",
      "num_layers: 3\n",
      "units_0: 120\n",
      "dropout: True\n",
      "learning_rate: 0.0007627145633271186\n",
      "Dropout_rate: 0.4\n",
      "units_1: 56\n",
      "units_2: 16\n",
      "units_3: 72\n",
      "units_4: 8\n",
      "Score: 15.078988075256348\n",
      "Trial summary\n",
      "Hyperparameters:\n",
      "num_layers: 3\n",
      "units_0: 16\n",
      "dropout: False\n",
      "learning_rate: 0.01720373114980776\n",
      "Dropout_rate: 0.5\n",
      "units_1: 64\n",
      "units_2: 16\n",
      "units_3: 80\n",
      "units_4: 24\n",
      "Score: 15.127800941467285\n",
      "Trial summary\n",
      "Hyperparameters:\n",
      "num_layers: 1\n",
      "units_0: 40\n",
      "dropout: False\n",
      "learning_rate: 0.019591307180532747\n",
      "Dropout_rate: 0.4\n",
      "units_1: 48\n",
      "units_2: 104\n",
      "units_3: 32\n",
      "units_4: 24\n",
      "Score: 15.261579513549805\n",
      "Trial summary\n",
      "Hyperparameters:\n",
      "num_layers: 2\n",
      "units_0: 112\n",
      "dropout: True\n",
      "learning_rate: 0.013310854808280577\n",
      "Dropout_rate: 0.30000000000000004\n",
      "units_1: 96\n",
      "units_2: 16\n",
      "units_3: 104\n",
      "units_4: 48\n",
      "Score: 15.410038948059082\n",
      "Trial summary\n",
      "Hyperparameters:\n",
      "num_layers: 3\n",
      "units_0: 120\n",
      "dropout: True\n",
      "learning_rate: 0.0046674722992577425\n",
      "Dropout_rate: 0.30000000000000004\n",
      "units_1: 40\n",
      "units_2: 72\n",
      "units_3: 80\n",
      "units_4: 32\n",
      "Score: 15.489952087402344\n",
      "Trial summary\n",
      "Hyperparameters:\n",
      "num_layers: 3\n",
      "units_0: 8\n",
      "dropout: False\n",
      "learning_rate: 0.04429855383531786\n",
      "Dropout_rate: 0.30000000000000004\n",
      "units_1: 120\n",
      "units_2: 32\n",
      "units_3: 48\n",
      "units_4: 128\n",
      "Score: 21.237632751464844\n",
      "Trial summary\n",
      "Hyperparameters:\n",
      "num_layers: 5\n",
      "units_0: 40\n",
      "dropout: True\n",
      "learning_rate: 0.0003246916786734415\n",
      "Dropout_rate: 0.4\n",
      "units_1: 120\n",
      "units_2: 24\n",
      "units_3: 56\n",
      "units_4: 80\n",
      "Score: 24.072776794433594\n"
     ]
    }
   ],
   "source": [
    "tuner.results_summary()"
   ]
  },
  {
   "cell_type": "code",
   "execution_count": null,
   "id": "FBpLenJ_DZMX",
   "metadata": {
    "id": "FBpLenJ_DZMX"
   },
   "outputs": [],
   "source": [
    "from warnings import filterwarnings\n",
    "filterwarnings('ignore')"
   ]
  },
  {
   "cell_type": "code",
   "execution_count": null,
   "id": "eL-a8rAv8Gvg",
   "metadata": {
    "colab": {
     "base_uri": "https://localhost:8080/"
    },
    "id": "eL-a8rAv8Gvg",
    "outputId": "7b538ba7-fe22-4bb0-e24e-b22000eee878"
   },
   "outputs": [
    {
     "name": "stdout",
     "output_type": "stream",
     "text": [
      "Model: \"sequential\"\n",
      "_________________________________________________________________\n",
      " Layer (type)                Output Shape              Param #   \n",
      "=================================================================\n",
      " dense (Dense)               (None, 80)                1040      \n",
      "                                                                 \n",
      " dropout (Dropout)           (None, 80)                0         \n",
      "                                                                 \n",
      " dense_1 (Dense)             (None, 120)               9720      \n",
      "                                                                 \n",
      " dropout_1 (Dropout)         (None, 120)               0         \n",
      "                                                                 \n",
      " dense_2 (Dense)             (None, 1)                 121       \n",
      "                                                                 \n",
      "=================================================================\n",
      "Total params: 10,881\n",
      "Trainable params: 10,881\n",
      "Non-trainable params: 0\n",
      "_________________________________________________________________\n",
      "WARNING:tensorflow:Unresolved object in checkpoint: (root).layer_with_weights-0.kernel\n",
      "WARNING:tensorflow:Unresolved object in checkpoint: (root).layer_with_weights-0.bias\n",
      "WARNING:tensorflow:Unresolved object in checkpoint: (root).layer_with_weights-1.kernel\n",
      "WARNING:tensorflow:Unresolved object in checkpoint: (root).layer_with_weights-1.bias\n",
      "WARNING:tensorflow:Unresolved object in checkpoint: (root).layer_with_weights-2.kernel\n",
      "WARNING:tensorflow:Unresolved object in checkpoint: (root).layer_with_weights-2.bias\n",
      "WARNING:tensorflow:Unresolved object in checkpoint: (root).layer_with_weights-3.kernel\n",
      "WARNING:tensorflow:Unresolved object in checkpoint: (root).layer_with_weights-3.bias\n",
      "WARNING:tensorflow:Unresolved object in checkpoint: (root).optimizer.iter\n",
      "WARNING:tensorflow:Unresolved object in checkpoint: (root).optimizer.beta_1\n",
      "WARNING:tensorflow:Unresolved object in checkpoint: (root).optimizer.beta_2\n",
      "WARNING:tensorflow:Unresolved object in checkpoint: (root).optimizer.decay\n",
      "WARNING:tensorflow:Unresolved object in checkpoint: (root).optimizer.learning_rate\n",
      "WARNING:tensorflow:Unresolved object in checkpoint: (root).optimizer's state 'm' for (root).layer_with_weights-0.kernel\n",
      "WARNING:tensorflow:Unresolved object in checkpoint: (root).optimizer's state 'm' for (root).layer_with_weights-0.bias\n",
      "WARNING:tensorflow:Unresolved object in checkpoint: (root).optimizer's state 'm' for (root).layer_with_weights-1.kernel\n",
      "WARNING:tensorflow:Unresolved object in checkpoint: (root).optimizer's state 'm' for (root).layer_with_weights-1.bias\n",
      "WARNING:tensorflow:Unresolved object in checkpoint: (root).optimizer's state 'm' for (root).layer_with_weights-2.kernel\n",
      "WARNING:tensorflow:Unresolved object in checkpoint: (root).optimizer's state 'm' for (root).layer_with_weights-2.bias\n",
      "WARNING:tensorflow:Unresolved object in checkpoint: (root).optimizer's state 'm' for (root).layer_with_weights-3.kernel\n",
      "WARNING:tensorflow:Unresolved object in checkpoint: (root).optimizer's state 'm' for (root).layer_with_weights-3.bias\n",
      "WARNING:tensorflow:Unresolved object in checkpoint: (root).optimizer's state 'v' for (root).layer_with_weights-0.kernel\n",
      "WARNING:tensorflow:Unresolved object in checkpoint: (root).optimizer's state 'v' for (root).layer_with_weights-0.bias\n",
      "WARNING:tensorflow:Unresolved object in checkpoint: (root).optimizer's state 'v' for (root).layer_with_weights-1.kernel\n",
      "WARNING:tensorflow:Unresolved object in checkpoint: (root).optimizer's state 'v' for (root).layer_with_weights-1.bias\n",
      "WARNING:tensorflow:Unresolved object in checkpoint: (root).optimizer's state 'v' for (root).layer_with_weights-2.kernel\n",
      "WARNING:tensorflow:Unresolved object in checkpoint: (root).optimizer's state 'v' for (root).layer_with_weights-2.bias\n",
      "WARNING:tensorflow:Unresolved object in checkpoint: (root).optimizer's state 'v' for (root).layer_with_weights-3.kernel\n",
      "WARNING:tensorflow:Unresolved object in checkpoint: (root).optimizer's state 'v' for (root).layer_with_weights-3.bias\n",
      "WARNING:tensorflow:A checkpoint was restored (e.g. tf.train.Checkpoint.restore or tf.keras.Model.load_weights) but not all checkpointed values were used. See above for specific issues. Use expect_partial() on the load status object, e.g. tf.train.Checkpoint.restore(...).expect_partial(), to silence these warnings, or use assert_consumed() to make the check explicit. See https://www.tensorflow.org/guide/checkpoint#loading_mechanics for details.\n"
     ]
    }
   ],
   "source": [
    "models = tuner.get_best_models(num_models=2)\n",
    "best_model = models[0]\n",
    "# Build the model.\n",
    "# Needed for `Sequential` without specified `input_shape`.\n",
    "best_model.build(input_shape=(None, 12))\n",
    "best_model.summary()"
   ]
  },
  {
   "cell_type": "code",
   "execution_count": 20,
   "id": "ovKDjDHZEmLV",
   "metadata": {
    "id": "ovKDjDHZEmLV"
   },
   "outputs": [],
   "source": [
    "from tensorflow.keras import optimizers\n",
    "from tensorflow.keras.callbacks import EarlyStopping"
   ]
  },
  {
   "cell_type": "code",
   "execution_count": 51,
   "id": "0e187ddc",
   "metadata": {
    "colab": {
     "base_uri": "https://localhost:8080/"
    },
    "id": "0e187ddc",
    "outputId": "3972e682-7b72-4f2b-8fb1-416c5ad3a4aa"
   },
   "outputs": [
    {
     "name": "stdout",
     "output_type": "stream",
     "text": [
      "Epoch 1/100\n",
      "82/82 [==============================] - 2s 13ms/step - loss: 91.5726 - mape: 91.5726 - val_loss: 89.7894 - val_mape: 89.7894\n",
      "Epoch 2/100\n",
      "82/82 [==============================] - 1s 9ms/step - loss: 87.6623 - mape: 87.6623 - val_loss: 85.5133 - val_mape: 85.5133\n",
      "Epoch 3/100\n",
      "82/82 [==============================] - 0s 6ms/step - loss: 82.8963 - mape: 82.8963 - val_loss: 80.6713 - val_mape: 80.6713\n",
      "Epoch 4/100\n",
      "82/82 [==============================] - 1s 6ms/step - loss: 78.2148 - mape: 78.2148 - val_loss: 76.1774 - val_mape: 76.1774\n",
      "Epoch 5/100\n",
      "82/82 [==============================] - 1s 6ms/step - loss: 73.6221 - mape: 73.6221 - val_loss: 71.5770 - val_mape: 71.5770\n",
      "Epoch 6/100\n",
      "82/82 [==============================] - 0s 6ms/step - loss: 68.8732 - mape: 68.8732 - val_loss: 66.7855 - val_mape: 66.7855\n",
      "Epoch 7/100\n",
      "82/82 [==============================] - 1s 7ms/step - loss: 64.0380 - mape: 64.0380 - val_loss: 62.0298 - val_mape: 62.0298\n",
      "Epoch 8/100\n",
      "82/82 [==============================] - 0s 6ms/step - loss: 59.2039 - mape: 59.2039 - val_loss: 56.9256 - val_mape: 56.9256\n",
      "Epoch 9/100\n",
      "82/82 [==============================] - 1s 6ms/step - loss: 54.0487 - mape: 54.0487 - val_loss: 51.7498 - val_mape: 51.7498\n",
      "Epoch 10/100\n",
      "82/82 [==============================] - 1s 6ms/step - loss: 48.9633 - mape: 48.9633 - val_loss: 46.5587 - val_mape: 46.5587\n",
      "Epoch 11/100\n",
      "82/82 [==============================] - 1s 6ms/step - loss: 43.8496 - mape: 43.8496 - val_loss: 41.1812 - val_mape: 41.1812\n",
      "Epoch 12/100\n",
      "82/82 [==============================] - 1s 6ms/step - loss: 38.7886 - mape: 38.7886 - val_loss: 35.9314 - val_mape: 35.9314\n",
      "Epoch 13/100\n",
      "82/82 [==============================] - 1s 6ms/step - loss: 33.9452 - mape: 33.9452 - val_loss: 31.1478 - val_mape: 31.1478\n",
      "Epoch 14/100\n",
      "82/82 [==============================] - 0s 6ms/step - loss: 29.5222 - mape: 29.5222 - val_loss: 26.8520 - val_mape: 26.8520\n",
      "Epoch 15/100\n",
      "82/82 [==============================] - 1s 6ms/step - loss: 25.6326 - mape: 25.6326 - val_loss: 23.3178 - val_mape: 23.3178\n",
      "Epoch 16/100\n",
      "82/82 [==============================] - 1s 7ms/step - loss: 22.4780 - mape: 22.4780 - val_loss: 20.6121 - val_mape: 20.6121\n",
      "Epoch 17/100\n",
      "82/82 [==============================] - 1s 6ms/step - loss: 20.3337 - mape: 20.3337 - val_loss: 18.7678 - val_mape: 18.7678\n",
      "Epoch 18/100\n",
      "82/82 [==============================] - 1s 6ms/step - loss: 18.9619 - mape: 18.9619 - val_loss: 17.6929 - val_mape: 17.6929\n",
      "Epoch 19/100\n",
      "82/82 [==============================] - 1s 7ms/step - loss: 18.1931 - mape: 18.1931 - val_loss: 17.1318 - val_mape: 17.1318\n",
      "Epoch 20/100\n",
      "82/82 [==============================] - 1s 6ms/step - loss: 17.7989 - mape: 17.7989 - val_loss: 16.8591 - val_mape: 16.8591\n",
      "Epoch 21/100\n",
      "82/82 [==============================] - 1s 6ms/step - loss: 17.5969 - mape: 17.5969 - val_loss: 16.7044 - val_mape: 16.7044\n",
      "Epoch 22/100\n",
      "82/82 [==============================] - 1s 6ms/step - loss: 17.4837 - mape: 17.4837 - val_loss: 16.6215 - val_mape: 16.6215\n",
      "Epoch 23/100\n",
      "82/82 [==============================] - 1s 6ms/step - loss: 17.4104 - mape: 17.4104 - val_loss: 16.5375 - val_mape: 16.5375\n",
      "Epoch 24/100\n",
      "82/82 [==============================] - 1s 7ms/step - loss: 17.3436 - mape: 17.3436 - val_loss: 16.4858 - val_mape: 16.4858\n",
      "Epoch 25/100\n",
      "82/82 [==============================] - 1s 7ms/step - loss: 17.2944 - mape: 17.2944 - val_loss: 16.4405 - val_mape: 16.4405\n",
      "Epoch 26/100\n",
      "82/82 [==============================] - 1s 6ms/step - loss: 17.2505 - mape: 17.2505 - val_loss: 16.4025 - val_mape: 16.4025\n",
      "Epoch 27/100\n",
      "82/82 [==============================] - 1s 7ms/step - loss: 17.2094 - mape: 17.2094 - val_loss: 16.3646 - val_mape: 16.3646\n",
      "Epoch 28/100\n",
      "82/82 [==============================] - 1s 6ms/step - loss: 17.1651 - mape: 17.1651 - val_loss: 16.3305 - val_mape: 16.3305\n",
      "Epoch 29/100\n",
      "82/82 [==============================] - 1s 6ms/step - loss: 17.1198 - mape: 17.1198 - val_loss: 16.2843 - val_mape: 16.2843\n",
      "Epoch 30/100\n",
      "82/82 [==============================] - 1s 7ms/step - loss: 17.0765 - mape: 17.0765 - val_loss: 16.2436 - val_mape: 16.2436\n",
      "Epoch 31/100\n",
      "82/82 [==============================] - 1s 7ms/step - loss: 17.0333 - mape: 17.0333 - val_loss: 16.2085 - val_mape: 16.2085\n",
      "Epoch 32/100\n",
      "82/82 [==============================] - 1s 7ms/step - loss: 16.9924 - mape: 16.9924 - val_loss: 16.1772 - val_mape: 16.1772\n",
      "Epoch 33/100\n",
      "82/82 [==============================] - 1s 6ms/step - loss: 16.9409 - mape: 16.9409 - val_loss: 16.1183 - val_mape: 16.1183\n",
      "Epoch 34/100\n",
      "82/82 [==============================] - 1s 6ms/step - loss: 16.8846 - mape: 16.8846 - val_loss: 16.0791 - val_mape: 16.0791\n",
      "Epoch 35/100\n",
      "82/82 [==============================] - 1s 7ms/step - loss: 16.8372 - mape: 16.8372 - val_loss: 16.0267 - val_mape: 16.0267\n",
      "Epoch 36/100\n",
      "82/82 [==============================] - 1s 7ms/step - loss: 16.7933 - mape: 16.7933 - val_loss: 16.0115 - val_mape: 16.0115\n",
      "Epoch 37/100\n",
      "82/82 [==============================] - 1s 6ms/step - loss: 16.7613 - mape: 16.7613 - val_loss: 15.9752 - val_mape: 15.9752\n",
      "Epoch 38/100\n",
      "82/82 [==============================] - 0s 6ms/step - loss: 16.7286 - mape: 16.7286 - val_loss: 15.9277 - val_mape: 15.9277\n",
      "Epoch 39/100\n",
      "82/82 [==============================] - 0s 6ms/step - loss: 16.6954 - mape: 16.6954 - val_loss: 15.8830 - val_mape: 15.8830\n",
      "Epoch 40/100\n",
      "82/82 [==============================] - 1s 6ms/step - loss: 16.6651 - mape: 16.6651 - val_loss: 15.8642 - val_mape: 15.8642\n",
      "Epoch 41/100\n",
      "82/82 [==============================] - 1s 6ms/step - loss: 16.6310 - mape: 16.6310 - val_loss: 15.8563 - val_mape: 15.8563\n",
      "Epoch 42/100\n",
      "82/82 [==============================] - 1s 6ms/step - loss: 16.6021 - mape: 16.6021 - val_loss: 15.8197 - val_mape: 15.8197\n",
      "Epoch 43/100\n",
      "82/82 [==============================] - 1s 6ms/step - loss: 16.5694 - mape: 16.5694 - val_loss: 15.7726 - val_mape: 15.7726\n",
      "Epoch 44/100\n",
      "82/82 [==============================] - 1s 7ms/step - loss: 16.5393 - mape: 16.5393 - val_loss: 15.7553 - val_mape: 15.7553\n",
      "Epoch 45/100\n",
      "82/82 [==============================] - 0s 6ms/step - loss: 16.5101 - mape: 16.5101 - val_loss: 15.7157 - val_mape: 15.7157\n",
      "Epoch 46/100\n",
      "82/82 [==============================] - 1s 6ms/step - loss: 16.4828 - mape: 16.4828 - val_loss: 15.7041 - val_mape: 15.7041\n",
      "Epoch 47/100\n",
      "82/82 [==============================] - 0s 6ms/step - loss: 16.4514 - mape: 16.4514 - val_loss: 15.6601 - val_mape: 15.6601\n",
      "Epoch 48/100\n",
      "82/82 [==============================] - 1s 6ms/step - loss: 16.4224 - mape: 16.4224 - val_loss: 15.6327 - val_mape: 15.6327\n",
      "Epoch 49/100\n",
      "82/82 [==============================] - 1s 6ms/step - loss: 16.3919 - mape: 16.3919 - val_loss: 15.6157 - val_mape: 15.6157\n",
      "Epoch 50/100\n",
      "82/82 [==============================] - 1s 6ms/step - loss: 16.3738 - mape: 16.3738 - val_loss: 15.5895 - val_mape: 15.5895\n",
      "Epoch 51/100\n",
      "82/82 [==============================] - 0s 6ms/step - loss: 16.3431 - mape: 16.3431 - val_loss: 15.5804 - val_mape: 15.5804\n",
      "Epoch 52/100\n",
      "82/82 [==============================] - 1s 7ms/step - loss: 16.3262 - mape: 16.3262 - val_loss: 15.5512 - val_mape: 15.5512\n",
      "Epoch 53/100\n",
      "82/82 [==============================] - 0s 6ms/step - loss: 16.3027 - mape: 16.3027 - val_loss: 15.5372 - val_mape: 15.5372\n",
      "Epoch 54/100\n",
      "82/82 [==============================] - 1s 6ms/step - loss: 16.2861 - mape: 16.2861 - val_loss: 15.5337 - val_mape: 15.5337\n",
      "Epoch 55/100\n",
      "82/82 [==============================] - 0s 6ms/step - loss: 16.2652 - mape: 16.2652 - val_loss: 15.5106 - val_mape: 15.5106\n",
      "Epoch 56/100\n",
      "82/82 [==============================] - 1s 6ms/step - loss: 16.2517 - mape: 16.2517 - val_loss: 15.4915 - val_mape: 15.4915\n",
      "Epoch 57/100\n",
      "82/82 [==============================] - 0s 6ms/step - loss: 16.2399 - mape: 16.2399 - val_loss: 15.5005 - val_mape: 15.5005\n",
      "Epoch 58/100\n",
      "82/82 [==============================] - 0s 6ms/step - loss: 16.2183 - mape: 16.2183 - val_loss: 15.4767 - val_mape: 15.4767\n",
      "Epoch 59/100\n",
      "82/82 [==============================] - 1s 6ms/step - loss: 16.2074 - mape: 16.2074 - val_loss: 15.4744 - val_mape: 15.4744\n",
      "Epoch 60/100\n",
      "82/82 [==============================] - 1s 7ms/step - loss: 16.1864 - mape: 16.1864 - val_loss: 15.4689 - val_mape: 15.4689\n",
      "Epoch 61/100\n",
      "82/82 [==============================] - 1s 6ms/step - loss: 16.1714 - mape: 16.1714 - val_loss: 15.4706 - val_mape: 15.4706\n",
      "Epoch 62/100\n",
      "82/82 [==============================] - 1s 6ms/step - loss: 16.1615 - mape: 16.1615 - val_loss: 15.4667 - val_mape: 15.4667\n",
      "Epoch 63/100\n",
      "82/82 [==============================] - 0s 6ms/step - loss: 16.1480 - mape: 16.1480 - val_loss: 15.4557 - val_mape: 15.4557\n",
      "Epoch 64/100\n",
      "82/82 [==============================] - 1s 6ms/step - loss: 16.1376 - mape: 16.1376 - val_loss: 15.4568 - val_mape: 15.4568\n",
      "Epoch 65/100\n",
      "82/82 [==============================] - 0s 6ms/step - loss: 16.1275 - mape: 16.1275 - val_loss: 15.4402 - val_mape: 15.4402\n",
      "Epoch 66/100\n",
      "82/82 [==============================] - 1s 6ms/step - loss: 16.1168 - mape: 16.1168 - val_loss: 15.4344 - val_mape: 15.4344\n",
      "Epoch 67/100\n",
      "82/82 [==============================] - 1s 6ms/step - loss: 16.1139 - mape: 16.1139 - val_loss: 15.4301 - val_mape: 15.4301\n",
      "Epoch 68/100\n",
      "82/82 [==============================] - 0s 6ms/step - loss: 16.1011 - mape: 16.1011 - val_loss: 15.4272 - val_mape: 15.4272\n",
      "Epoch 69/100\n",
      "82/82 [==============================] - 0s 6ms/step - loss: 16.0944 - mape: 16.0944 - val_loss: 15.4192 - val_mape: 15.4192\n",
      "Epoch 70/100\n",
      "82/82 [==============================] - 1s 7ms/step - loss: 16.0870 - mape: 16.0870 - val_loss: 15.4316 - val_mape: 15.4316\n",
      "Epoch 71/100\n",
      "82/82 [==============================] - 0s 6ms/step - loss: 16.0756 - mape: 16.0756 - val_loss: 15.4266 - val_mape: 15.4266\n",
      "Epoch 72/100\n",
      "82/82 [==============================] - 1s 6ms/step - loss: 16.0682 - mape: 16.0682 - val_loss: 15.4299 - val_mape: 15.4299\n",
      "Epoch 73/100\n",
      "82/82 [==============================] - 1s 6ms/step - loss: 16.0573 - mape: 16.0573 - val_loss: 15.4199 - val_mape: 15.4199\n",
      "Epoch 74/100\n",
      "82/82 [==============================] - 1s 6ms/step - loss: 16.0542 - mape: 16.0542 - val_loss: 15.4185 - val_mape: 15.4185\n",
      "Epoch 75/100\n",
      "82/82 [==============================] - 0s 6ms/step - loss: 16.0449 - mape: 16.0449 - val_loss: 15.4202 - val_mape: 15.4202\n",
      "Epoch 76/100\n",
      "82/82 [==============================] - 1s 6ms/step - loss: 16.0363 - mape: 16.0363 - val_loss: 15.4392 - val_mape: 15.4392\n",
      "Epoch 77/100\n",
      "82/82 [==============================] - 1s 7ms/step - loss: 16.0284 - mape: 16.0284 - val_loss: 15.4116 - val_mape: 15.4116\n",
      "Epoch 78/100\n",
      "82/82 [==============================] - 0s 6ms/step - loss: 16.0233 - mape: 16.0233 - val_loss: 15.3978 - val_mape: 15.3978\n",
      "Epoch 79/100\n",
      "82/82 [==============================] - 0s 6ms/step - loss: 16.0089 - mape: 16.0089 - val_loss: 15.4077 - val_mape: 15.4077\n",
      "Epoch 80/100\n",
      "82/82 [==============================] - 1s 6ms/step - loss: 16.0052 - mape: 16.0052 - val_loss: 15.4231 - val_mape: 15.4231\n",
      "Epoch 81/100\n",
      "82/82 [==============================] - 1s 6ms/step - loss: 15.9952 - mape: 15.9952 - val_loss: 15.3975 - val_mape: 15.3975\n",
      "Epoch 82/100\n",
      "82/82 [==============================] - 1s 7ms/step - loss: 15.9926 - mape: 15.9926 - val_loss: 15.3925 - val_mape: 15.3925\n",
      "Epoch 83/100\n",
      "82/82 [==============================] - 0s 6ms/step - loss: 15.9786 - mape: 15.9786 - val_loss: 15.4035 - val_mape: 15.4035\n",
      "Epoch 84/100\n",
      "82/82 [==============================] - 1s 6ms/step - loss: 15.9818 - mape: 15.9818 - val_loss: 15.4060 - val_mape: 15.4060\n",
      "Epoch 85/100\n",
      "82/82 [==============================] - 0s 6ms/step - loss: 15.9670 - mape: 15.9670 - val_loss: 15.4051 - val_mape: 15.4051\n",
      "Epoch 86/100\n",
      "82/82 [==============================] - 1s 6ms/step - loss: 15.9615 - mape: 15.9615 - val_loss: 15.4104 - val_mape: 15.4104\n",
      "Epoch 87/100\n",
      "82/82 [==============================] - 1s 6ms/step - loss: 15.9535 - mape: 15.9535 - val_loss: 15.3930 - val_mape: 15.3930\n",
      "Epoch 88/100\n",
      "82/82 [==============================] - 1s 7ms/step - loss: 15.9487 - mape: 15.9487 - val_loss: 15.3947 - val_mape: 15.3947\n",
      "Epoch 89/100\n",
      "82/82 [==============================] - 1s 6ms/step - loss: 15.9361 - mape: 15.9361 - val_loss: 15.3883 - val_mape: 15.3883\n",
      "Epoch 90/100\n",
      "82/82 [==============================] - 1s 7ms/step - loss: 15.9246 - mape: 15.9246 - val_loss: 15.3729 - val_mape: 15.3729\n",
      "Epoch 91/100\n",
      "82/82 [==============================] - 1s 7ms/step - loss: 15.9169 - mape: 15.9169 - val_loss: 15.3905 - val_mape: 15.3905\n",
      "Epoch 92/100\n",
      "82/82 [==============================] - 1s 7ms/step - loss: 15.9157 - mape: 15.9157 - val_loss: 15.3835 - val_mape: 15.3835\n",
      "Epoch 93/100\n",
      "82/82 [==============================] - 1s 7ms/step - loss: 15.9186 - mape: 15.9186 - val_loss: 15.3729 - val_mape: 15.3729\n",
      "Epoch 94/100\n",
      "82/82 [==============================] - 1s 7ms/step - loss: 15.9051 - mape: 15.9051 - val_loss: 15.3668 - val_mape: 15.3668\n",
      "Epoch 95/100\n",
      "82/82 [==============================] - 1s 6ms/step - loss: 15.8991 - mape: 15.8991 - val_loss: 15.3976 - val_mape: 15.3976\n",
      "Epoch 96/100\n",
      "82/82 [==============================] - 1s 6ms/step - loss: 15.8953 - mape: 15.8953 - val_loss: 15.3693 - val_mape: 15.3693\n",
      "Epoch 97/100\n",
      "82/82 [==============================] - 1s 6ms/step - loss: 15.8950 - mape: 15.8950 - val_loss: 15.3767 - val_mape: 15.3767\n",
      "Epoch 98/100\n",
      "82/82 [==============================] - 1s 6ms/step - loss: 15.8924 - mape: 15.8924 - val_loss: 15.3835 - val_mape: 15.3835\n",
      "Epoch 99/100\n",
      "82/82 [==============================] - 1s 7ms/step - loss: 15.8901 - mape: 15.8901 - val_loss: 15.3782 - val_mape: 15.3782\n",
      "Epoch 100/100\n",
      "82/82 [==============================] - 1s 7ms/step - loss: 15.8833 - mape: 15.8833 - val_loss: 15.3790 - val_mape: 15.3790\n"
     ]
    }
   ],
   "source": [
    "model = Sequential()\n",
    "model.add(Dense(512,activation='relu',input_dim = 3))\n",
    "model.add(Dense(256,activation='relu'))\n",
    "model.add(Dense(128,activation='relu'))\n",
    "model.add(Dense(64,activation='relu'))\n",
    "model.add(Dense(32,activation='relu'))\n",
    "model.add(Dense(1,activation='linear'))\n",
    "ad=optimizers.Adam(learning_rate= 0.00000166483330733626)\n",
    "model.compile(optimizer = ad, loss = 'mape', metrics = ['mape'])\n",
    "model_history=model.fit(trainX, trainY,validation_data=(testX,testY), batch_size = 32, epochs = 100)"
   ]
  },
  {
   "cell_type": "code",
   "execution_count": 40,
   "id": "77c05906",
   "metadata": {
    "id": "77c05906"
   },
   "outputs": [],
   "source": [
    "def model_loss(history):\n",
    "    plt.figure(figsize=(8,4))\n",
    "    plt.plot(history.history['loss'], label='Train Loss')\n",
    "    plt.plot(history.history['val_loss'], label='Test Loss')\n",
    "    plt.title('model loss')\n",
    "    plt.ylabel('loss')\n",
    "    plt.xlabel('epochs')\n",
    "    plt.legend(loc='upper right')\n",
    "    plt.show();"
   ]
  },
  {
   "cell_type": "code",
   "execution_count": 52,
   "id": "6vZ-AXOUurmJ",
   "metadata": {
    "id": "6vZ-AXOUurmJ"
   },
   "outputs": [],
   "source": [
    "train_score = model.evaluate(trainX, trainY,verbose=0)\n",
    "test_score = model.evaluate(testX, testY,verbose=0)"
   ]
  },
  {
   "cell_type": "code",
   "execution_count": 53,
   "id": "45a22c27",
   "metadata": {
    "colab": {
     "base_uri": "https://localhost:8080/",
     "height": 329
    },
    "id": "45a22c27",
    "outputId": "937f5592-06a3-424f-ed3c-c205c528fe5f"
   },
   "outputs": [
    {
     "name": "stdout",
     "output_type": "stream",
     "text": [
      "Train MAPE : 15.88 \n",
      "Test MAPE : 15.38 \n"
     ]
    },
    {
     "data": {
      "image/png": "[encoded data removed]",
      "text/plain": [
       "<Figure size 576x288 with 1 Axes>"
      ]
     },
     "metadata": {
      "needs_background": "light"
     },
     "output_type": "display_data"
    }
   ],
   "source": [
    "train_predict = model.predict(trainX)\n",
    "test_predict = model.predict(testX)\n",
    "\n",
    "# invert predictions\n",
    "train_predict = scaler.inverse_transform(train_predict)\n",
    "trainY = scaler.inverse_transform([trainY])\n",
    "test_predict = scaler.inverse_transform(test_predict)\n",
    "testY = scaler.inverse_transform([testY])\n",
    "print('Train MAPE : %.2f ' % (train_score[1]))\n",
    "print('Test MAPE : %.2f ' % (test_score[1]))\n",
    "model_loss(model_history)"
   ]
  },
  {
   "cell_type": "code",
   "execution_count": 33,
   "id": "dc942f74",
   "metadata": {
    "id": "dc942f74"
   },
   "outputs": [],
   "source": [
    "import seaborn as sns"
   ]
  },
  {
   "cell_type": "code",
   "execution_count": 54,
   "id": "dee9bab8",
   "metadata": {
    "id": "dee9bab8"
   },
   "outputs": [],
   "source": [
    "def prediction_plot(testY, test_predict,look_back):\n",
    "    len_prediction=[x for x in range(2622,2914)]\n",
    "    plt.plot(trainY.reshape(-1,))\n",
    "    plt.plot(len_prediction, testY.reshape(-1,), marker='.', label='actual')\n",
    "    plt.plot(len_prediction, test_predict, 'g', label=\"prediction\")\n",
    "    plt.tight_layout()\n",
    "    sns.despine(top=True)\n",
    "    plt.subplots_adjust(left=0.07)\n",
    "    plt.ylabel('Units', size=15)\n",
    "    plt.xlabel('Time step', size=15)\n",
    "    plt.legend(fontsize=15)\n",
    "    plt.show()"
   ]
  },
  {
   "cell_type": "code",
   "execution_count": 55,
   "id": "363040b5",
   "metadata": {
    "colab": {
     "base_uri": "https://localhost:8080/",
     "height": 604
    },
    "id": "363040b5",
    "outputId": "8a51294d-7268-4206-c970-969ec6053fc6"
   },
   "outputs": [
    {
     "data": {
      "image/png": "[encoded data removed]",
      "text/plain": [
       "<Figure size 1080x576 with 1 Axes>"
      ]
     },
     "metadata": {
      "needs_background": "light"
     },
     "output_type": "display_data"
    }
   ],
   "source": [
    "test_predict = model.predict(testX)\n",
    "test_predict = scaler.inverse_transform(test_predict)\n",
    "prediction_plot(testY, test_predict,look_back)"
   ]
  },
  {
   "cell_type": "code",
   "execution_count": null,
   "id": "f8a7708c",
   "metadata": {
    "id": "f8a7708c"
   },
   "outputs": [],
   "source": []
  }
 ],
 "metadata": {
  "colab": {
   "collapsed_sections": [],
   "name": "daily_min_HPT_ANN_complex_model.ipynb",
   "provenance": []
  },
  "kernelspec": {
   "display_name": "Python 3",
   "language": "python",
   "name": "python3"
  },
  "language_info": {
   "codemirror_mode": {
    "name": "ipython",
    "version": 3
   },
   "file_extension": ".py",
   "mimetype": "text/x-python",
   "name": "python",
   "nbconvert_exporter": "python",
   "pygments_lexer": "ipython3",
   "version": "3.8.8"
  }
 },
 "nbformat": 4,
 "nbformat_minor": 5
}
