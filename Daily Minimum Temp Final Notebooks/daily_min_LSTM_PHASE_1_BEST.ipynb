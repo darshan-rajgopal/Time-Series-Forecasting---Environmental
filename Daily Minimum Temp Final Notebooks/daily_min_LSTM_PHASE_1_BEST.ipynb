{
 "cells": [
  {
   "cell_type": "code",
   "execution_count": 1,
   "id": "c2ef9b47",
   "metadata": {
    "id": "c2ef9b47"
   },
   "outputs": [],
   "source": [
    "import numpy as np\n",
    "import pandas as pd\n",
    "from tensorflow.keras.models import Sequential\n",
    "from tensorflow.keras.layers import LSTM\n",
    "from tensorflow.keras.layers import Dense\n",
    "from tensorflow.keras.layers import Flatten\n",
    "import matplotlib.pyplot as plt\n",
    "import warnings\n",
    "warnings.filterwarnings('ignore')\n",
    "%matplotlib inline"
   ]
  },
  {
   "cell_type": "code",
   "execution_count": 2,
   "id": "iGQk9lcRmucZ",
   "metadata": {
    "colab": {
     "base_uri": "https://localhost:8080/"
    },
    "id": "iGQk9lcRmucZ",
    "outputId": "86871155-1d4c-4e5a-bfdb-6157f508e4b1"
   },
   "outputs": [
    {
     "name": "stdout",
     "output_type": "stream",
     "text": [
      "Mounted at /content/drive\n"
     ]
    }
   ],
   "source": [
    "from google.colab import drive\n",
    "drive.mount('/content/drive')"
   ]
  },
  {
   "cell_type": "code",
   "execution_count": null,
   "id": "BxDZtfokj6Da",
   "metadata": {
    "colab": {
     "base_uri": "https://localhost:8080/",
     "height": 35
    },
    "id": "BxDZtfokj6Da",
    "outputId": "b20dcdbd-c02a-48ad-a576-4ba9370acae1"
   },
   "outputs": [
    {
     "data": {
      "application/vnd.google.colaboratory.intrinsic+json": {
       "type": "string"
      },
      "text/plain": [
       "'/device:GPU:0'"
      ]
     },
     "execution_count": 5,
     "metadata": {},
     "output_type": "execute_result"
    }
   ],
   "source": [
    "import tensorflow as tf\n",
    "tf.test.gpu_device_name()"
   ]
  },
  {
   "cell_type": "code",
   "execution_count": null,
   "id": "UDt4KrAxj6JS",
   "metadata": {
    "colab": {
     "base_uri": "https://localhost:8080/"
    },
    "id": "UDt4KrAxj6JS",
    "outputId": "9d528187-3aea-4259-a635-0d1eddbc47d0"
   },
   "outputs": [
    {
     "data": {
      "text/plain": [
       "[name: \"/device:CPU:0\"\n",
       " device_type: \"CPU\"\n",
       " memory_limit: 268435456\n",
       " locality {\n",
       " }\n",
       " incarnation: 14494480343520806349\n",
       " xla_global_id: -1, name: \"/device:GPU:0\"\n",
       " device_type: \"GPU\"\n",
       " memory_limit: 11320098816\n",
       " locality {\n",
       "   bus_id: 1\n",
       "   links {\n",
       "   }\n",
       " }\n",
       " incarnation: 1229225032833911937\n",
       " physical_device_desc: \"device: 0, name: Tesla K80, pci bus id: 0000:00:04.0, compute capability: 3.7\"\n",
       " xla_global_id: 416903419]"
      ]
     },
     "execution_count": 6,
     "metadata": {},
     "output_type": "execute_result"
    }
   ],
   "source": [
    "from tensorflow.python.client import device_lib\n",
    "device_lib.list_local_devices()"
   ]
  },
  {
   "cell_type": "code",
   "execution_count": 76,
   "id": "30d066a0",
   "metadata": {
    "colab": {
     "base_uri": "https://localhost:8080/",
     "height": 206
    },
    "id": "30d066a0",
    "outputId": "fb5aaa2f-5231-4f18-ce97-03dce584ee0e"
   },
   "outputs": [
    {
     "data": {
      "text/html": [
       "\n",
       "  <div id=\"df-8d9aed93-470e-4601-8652-b1278afe413e\">\n",
       "    <div class=\"colab-df-container\">\n",
       "      <div>\n",
       "<style scoped>\n",
       "    .dataframe tbody tr th:only-of-type {\n",
       "        vertical-align: middle;\n",
       "    }\n",
       "\n",
       "    .dataframe tbody tr th {\n",
       "        vertical-align: top;\n",
       "    }\n",
       "\n",
       "    .dataframe thead th {\n",
       "        text-align: right;\n",
       "    }\n",
       "</style>\n",
       "<table border=\"1\" class=\"dataframe\">\n",
       "  <thead>\n",
       "    <tr style=\"text-align: right;\">\n",
       "      <th></th>\n",
       "      <th>Date</th>\n",
       "      <th>Temp</th>\n",
       "    </tr>\n",
       "  </thead>\n",
       "  <tbody>\n",
       "    <tr>\n",
       "      <th>0</th>\n",
       "      <td>01-01-1981</td>\n",
       "      <td>20.7</td>\n",
       "    </tr>\n",
       "    <tr>\n",
       "      <th>1</th>\n",
       "      <td>02-01-1981</td>\n",
       "      <td>17.9</td>\n",
       "    </tr>\n",
       "    <tr>\n",
       "      <th>2</th>\n",
       "      <td>03-01-1981</td>\n",
       "      <td>18.8</td>\n",
       "    </tr>\n",
       "    <tr>\n",
       "      <th>3</th>\n",
       "      <td>04-01-1981</td>\n",
       "      <td>14.6</td>\n",
       "    </tr>\n",
       "    <tr>\n",
       "      <th>4</th>\n",
       "      <td>05-01-1981</td>\n",
       "      <td>15.8</td>\n",
       "    </tr>\n",
       "  </tbody>\n",
       "</table>\n",
       "</div>\n",
       "      <button class=\"colab-df-convert\" onclick=\"convertToInteractive('df-8d9aed93-470e-4601-8652-b1278afe413e')\"\n",
       "              title=\"Convert this dataframe to an interactive table.\"\n",
       "              style=\"display:none;\">\n",
       "        \n",
       "  <svg xmlns=\"http://www.w3.org/2000/svg\" height=\"24px\"viewBox=\"0 0 24 24\"\n",
       "       width=\"24px\">\n",
       "    <path d=\"M0 0h24v24H0V0z\" fill=\"none\"/>\n",
       "    <path d=\"M18.56 5.44l.94 2.06.94-2.06 2.06-.94-2.06-.94-.94-2.06-.94 2.06-2.06.94zm-11 1L8.5 8.5l.94-2.06 2.06-.94-2.06-.94L8.5 2.5l-.94 2.06-2.06.94zm10 10l.94 2.06.94-2.06 2.06-.94-2.06-.94-.94-2.06-.94 2.06-2.06.94z\"/><path d=\"M17.41 7.96l-1.37-1.37c-.4-.4-.92-.59-1.43-.59-.52 0-1.04.2-1.43.59L10.3 9.45l-7.72 7.72c-.78.78-.78 2.05 0 2.83L4 21.41c.39.39.9.59 1.41.59.51 0 1.02-.2 1.41-.59l7.78-7.78 2.81-2.81c.8-.78.8-2.07 0-2.86zM5.41 20L4 18.59l7.72-7.72 1.47 1.35L5.41 20z\"/>\n",
       "  </svg>\n",
       "      </button>\n",
       "      \n",
       "  <style>\n",
       "    .colab-df-container {\n",
       "      display:flex;\n",
       "      flex-wrap:wrap;\n",
       "      gap: 12px;\n",
       "    }\n",
       "\n",
       "    .colab-df-convert {\n",
       "      background-color: #E8F0FE;\n",
       "      border: none;\n",
       "      border-radius: 50%;\n",
       "      cursor: pointer;\n",
       "      display: none;\n",
       "      fill: #1967D2;\n",
       "      height: 32px;\n",
       "      padding: 0 0 0 0;\n",
       "      width: 32px;\n",
       "    }\n",
       "\n",
       "    .colab-df-convert:hover {\n",
       "      background-color: #E2EBFA;\n",
       "      box-shadow: 0px 1px 2px rgba(60, 64, 67, 0.3), 0px 1px 3px 1px rgba(60, 64, 67, 0.15);\n",
       "      fill: #174EA6;\n",
       "    }\n",
       "\n",
       "    [theme=dark] .colab-df-convert {\n",
       "      background-color: #3B4455;\n",
       "      fill: #D2E3FC;\n",
       "    }\n",
       "\n",
       "    [theme=dark] .colab-df-convert:hover {\n",
       "      background-color: #434B5C;\n",
       "      box-shadow: 0px 1px 3px 1px rgba(0, 0, 0, 0.15);\n",
       "      filter: drop-shadow(0px 1px 2px rgba(0, 0, 0, 0.3));\n",
       "      fill: #FFFFFF;\n",
       "    }\n",
       "  </style>\n",
       "\n",
       "      <script>\n",
       "        const buttonEl =\n",
       "          document.querySelector('#df-8d9aed93-470e-4601-8652-b1278afe413e button.colab-df-convert');\n",
       "        buttonEl.style.display =\n",
       "          google.colab.kernel.accessAllowed ? 'block' : 'none';\n",
       "\n",
       "        async function convertToInteractive(key) {\n",
       "          const element = document.querySelector('#df-8d9aed93-470e-4601-8652-b1278afe413e');\n",
       "          const dataTable =\n",
       "            await google.colab.kernel.invokeFunction('convertToInteractive',\n",
       "                                                     [key], {});\n",
       "          if (!dataTable) return;\n",
       "\n",
       "          const docLinkHtml = 'Like what you see? Visit the ' +\n",
       "            '<a target=\"_blank\" href=https://colab.research.google.com/notebooks/data_table.ipynb>data table notebook</a>'\n",
       "            + ' to learn more about interactive tables.';\n",
       "          element.innerHTML = '';\n",
       "          dataTable['output_type'] = 'display_data';\n",
       "          await google.colab.output.renderOutput(dataTable, element);\n",
       "          const docLink = document.createElement('div');\n",
       "          docLink.innerHTML = docLinkHtml;\n",
       "          element.appendChild(docLink);\n",
       "        }\n",
       "      </script>\n",
       "    </div>\n",
       "  </div>\n",
       "  "
      ],
      "text/plain": [
       "         Date  Temp\n",
       "0  01-01-1981  20.7\n",
       "1  02-01-1981  17.9\n",
       "2  03-01-1981  18.8\n",
       "3  04-01-1981  14.6\n",
       "4  05-01-1981  15.8"
      ]
     },
     "execution_count": 76,
     "metadata": {},
     "output_type": "execute_result"
    }
   ],
   "source": [
    "df = pd.read_csv('/content/drive/MyDrive/Colab Notebooks/Environmental/Daily_Minimum_Temperatures.csv')\n",
    "df.head()"
   ]
  },
  {
   "cell_type": "code",
   "execution_count": 4,
   "id": "e2663bb4",
   "metadata": {
    "colab": {
     "base_uri": "https://localhost:8080/",
     "height": 206
    },
    "id": "e2663bb4",
    "outputId": "a7cb6f9b-f216-4eb9-ca6e-9ff204f9ac2d"
   },
   "outputs": [
    {
     "data": {
      "text/html": [
       "\n",
       "  <div id=\"df-5460e029-ac82-482a-a518-bcaee4869589\">\n",
       "    <div class=\"colab-df-container\">\n",
       "      <div>\n",
       "<style scoped>\n",
       "    .dataframe tbody tr th:only-of-type {\n",
       "        vertical-align: middle;\n",
       "    }\n",
       "\n",
       "    .dataframe tbody tr th {\n",
       "        vertical-align: top;\n",
       "    }\n",
       "\n",
       "    .dataframe thead th {\n",
       "        text-align: right;\n",
       "    }\n",
       "</style>\n",
       "<table border=\"1\" class=\"dataframe\">\n",
       "  <thead>\n",
       "    <tr style=\"text-align: right;\">\n",
       "      <th></th>\n",
       "      <th>Date</th>\n",
       "      <th>Temp</th>\n",
       "    </tr>\n",
       "  </thead>\n",
       "  <tbody>\n",
       "    <tr>\n",
       "      <th>2915</th>\n",
       "      <td>26-12-1988</td>\n",
       "      <td>9.5</td>\n",
       "    </tr>\n",
       "    <tr>\n",
       "      <th>2916</th>\n",
       "      <td>27-12-1988</td>\n",
       "      <td>12.9</td>\n",
       "    </tr>\n",
       "    <tr>\n",
       "      <th>2917</th>\n",
       "      <td>28-12-1988</td>\n",
       "      <td>12.9</td>\n",
       "    </tr>\n",
       "    <tr>\n",
       "      <th>2918</th>\n",
       "      <td>29-12-1988</td>\n",
       "      <td>14.8</td>\n",
       "    </tr>\n",
       "    <tr>\n",
       "      <th>2919</th>\n",
       "      <td>30-12-1988</td>\n",
       "      <td>14.1</td>\n",
       "    </tr>\n",
       "  </tbody>\n",
       "</table>\n",
       "</div>\n",
       "      <button class=\"colab-df-convert\" onclick=\"convertToInteractive('df-5460e029-ac82-482a-a518-bcaee4869589')\"\n",
       "              title=\"Convert this dataframe to an interactive table.\"\n",
       "              style=\"display:none;\">\n",
       "        \n",
       "  <svg xmlns=\"http://www.w3.org/2000/svg\" height=\"24px\"viewBox=\"0 0 24 24\"\n",
       "       width=\"24px\">\n",
       "    <path d=\"M0 0h24v24H0V0z\" fill=\"none\"/>\n",
       "    <path d=\"M18.56 5.44l.94 2.06.94-2.06 2.06-.94-2.06-.94-.94-2.06-.94 2.06-2.06.94zm-11 1L8.5 8.5l.94-2.06 2.06-.94-2.06-.94L8.5 2.5l-.94 2.06-2.06.94zm10 10l.94 2.06.94-2.06 2.06-.94-2.06-.94-.94-2.06-.94 2.06-2.06.94z\"/><path d=\"M17.41 7.96l-1.37-1.37c-.4-.4-.92-.59-1.43-.59-.52 0-1.04.2-1.43.59L10.3 9.45l-7.72 7.72c-.78.78-.78 2.05 0 2.83L4 21.41c.39.39.9.59 1.41.59.51 0 1.02-.2 1.41-.59l7.78-7.78 2.81-2.81c.8-.78.8-2.07 0-2.86zM5.41 20L4 18.59l7.72-7.72 1.47 1.35L5.41 20z\"/>\n",
       "  </svg>\n",
       "      </button>\n",
       "      \n",
       "  <style>\n",
       "    .colab-df-container {\n",
       "      display:flex;\n",
       "      flex-wrap:wrap;\n",
       "      gap: 12px;\n",
       "    }\n",
       "\n",
       "    .colab-df-convert {\n",
       "      background-color: #E8F0FE;\n",
       "      border: none;\n",
       "      border-radius: 50%;\n",
       "      cursor: pointer;\n",
       "      display: none;\n",
       "      fill: #1967D2;\n",
       "      height: 32px;\n",
       "      padding: 0 0 0 0;\n",
       "      width: 32px;\n",
       "    }\n",
       "\n",
       "    .colab-df-convert:hover {\n",
       "      background-color: #E2EBFA;\n",
       "      box-shadow: 0px 1px 2px rgba(60, 64, 67, 0.3), 0px 1px 3px 1px rgba(60, 64, 67, 0.15);\n",
       "      fill: #174EA6;\n",
       "    }\n",
       "\n",
       "    [theme=dark] .colab-df-convert {\n",
       "      background-color: #3B4455;\n",
       "      fill: #D2E3FC;\n",
       "    }\n",
       "\n",
       "    [theme=dark] .colab-df-convert:hover {\n",
       "      background-color: #434B5C;\n",
       "      box-shadow: 0px 1px 3px 1px rgba(0, 0, 0, 0.15);\n",
       "      filter: drop-shadow(0px 1px 2px rgba(0, 0, 0, 0.3));\n",
       "      fill: #FFFFFF;\n",
       "    }\n",
       "  </style>\n",
       "\n",
       "      <script>\n",
       "        const buttonEl =\n",
       "          document.querySelector('#df-5460e029-ac82-482a-a518-bcaee4869589 button.colab-df-convert');\n",
       "        buttonEl.style.display =\n",
       "          google.colab.kernel.accessAllowed ? 'block' : 'none';\n",
       "\n",
       "        async function convertToInteractive(key) {\n",
       "          const element = document.querySelector('#df-5460e029-ac82-482a-a518-bcaee4869589');\n",
       "          const dataTable =\n",
       "            await google.colab.kernel.invokeFunction('convertToInteractive',\n",
       "                                                     [key], {});\n",
       "          if (!dataTable) return;\n",
       "\n",
       "          const docLinkHtml = 'Like what you see? Visit the ' +\n",
       "            '<a target=\"_blank\" href=https://colab.research.google.com/notebooks/data_table.ipynb>data table notebook</a>'\n",
       "            + ' to learn more about interactive tables.';\n",
       "          element.innerHTML = '';\n",
       "          dataTable['output_type'] = 'display_data';\n",
       "          await google.colab.output.renderOutput(dataTable, element);\n",
       "          const docLink = document.createElement('div');\n",
       "          docLink.innerHTML = docLinkHtml;\n",
       "          element.appendChild(docLink);\n",
       "        }\n",
       "      </script>\n",
       "    </div>\n",
       "  </div>\n",
       "  "
      ],
      "text/plain": [
       "            Date  Temp\n",
       "2915  26-12-1988   9.5\n",
       "2916  27-12-1988  12.9\n",
       "2917  28-12-1988  12.9\n",
       "2918  29-12-1988  14.8\n",
       "2919  30-12-1988  14.1"
      ]
     },
     "execution_count": 4,
     "metadata": {},
     "output_type": "execute_result"
    }
   ],
   "source": [
    "df.tail()"
   ]
  },
  {
   "cell_type": "code",
   "execution_count": null,
   "id": "0482272d",
   "metadata": {
    "colab": {
     "base_uri": "https://localhost:8080/"
    },
    "id": "0482272d",
    "outputId": "66ec37cb-9ce4-4311-904e-b5d692fb9711"
   },
   "outputs": [
    {
     "data": {
      "text/plain": [
       "(2920, 2)"
      ]
     },
     "execution_count": 10,
     "metadata": {},
     "output_type": "execute_result"
    }
   ],
   "source": [
    "df.shape"
   ]
  },
  {
   "cell_type": "code",
   "execution_count": null,
   "id": "076f1ad3",
   "metadata": {
    "colab": {
     "base_uri": "https://localhost:8080/"
    },
    "id": "076f1ad3",
    "outputId": "178c5cd7-5a1a-477c-994d-13f1a6dd6afa"
   },
   "outputs": [
    {
     "name": "stdout",
     "output_type": "stream",
     "text": [
      "<class 'pandas.core.frame.DataFrame'>\n",
      "RangeIndex: 2920 entries, 0 to 2919\n",
      "Data columns (total 2 columns):\n",
      " #   Column  Non-Null Count  Dtype  \n",
      "---  ------  --------------  -----  \n",
      " 0   Date    2920 non-null   object \n",
      " 1   Temp    2920 non-null   float64\n",
      "dtypes: float64(1), object(1)\n",
      "memory usage: 45.8+ KB\n"
     ]
    }
   ],
   "source": [
    "df.info()"
   ]
  },
  {
   "cell_type": "code",
   "execution_count": 77,
   "id": "jLgRGWAPyy7Q",
   "metadata": {
    "id": "jLgRGWAPyy7Q"
   },
   "outputs": [],
   "source": [
    "time = pd.date_range(start='1/1/1981',periods=2920,freq='D')\n",
    "df['time_stamp'] = pd.DataFrame(time)\n",
    "df.drop(['Date'],axis=1,inplace=True)\n",
    "df = df.set_index('time_stamp')"
   ]
  },
  {
   "cell_type": "code",
   "execution_count": null,
   "id": "D2Szvn_Jyy9y",
   "metadata": {
    "colab": {
     "base_uri": "https://localhost:8080/"
    },
    "id": "D2Szvn_Jyy9y",
    "outputId": "b5fd6a37-c068-4a8f-8012-91b5f7e33d40"
   },
   "outputs": [
    {
     "data": {
      "text/plain": [
       "Temp    0.0\n",
       "dtype: float64"
      ]
     },
     "execution_count": 6,
     "metadata": {},
     "output_type": "execute_result"
    }
   ],
   "source": [
    "df.min()"
   ]
  },
  {
   "cell_type": "code",
   "execution_count": 78,
   "id": "Z5G4wFuFzBQT",
   "metadata": {
    "id": "Z5G4wFuFzBQT"
   },
   "outputs": [],
   "source": [
    "df = df + 1"
   ]
  },
  {
   "cell_type": "code",
   "execution_count": 7,
   "id": "yBDUaFhPzMMb",
   "metadata": {
    "id": "yBDUaFhPzMMb"
   },
   "outputs": [],
   "source": [
    "plt.rcParams['figure.figsize'] = [15,8]"
   ]
  },
  {
   "cell_type": "code",
   "execution_count": null,
   "id": "cIgSM89EzBTw",
   "metadata": {
    "colab": {
     "base_uri": "https://localhost:8080/",
     "height": 523
    },
    "id": "cIgSM89EzBTw",
    "outputId": "df0b9fb4-911b-44fa-daff-deec91c4cd9a"
   },
   "outputs": [
    {
     "data": {
      "image/png": "[encoded data removed]",
      "text/plain": [
       "<Figure size 1080x576 with 1 Axes>"
      ]
     },
     "metadata": {
      "needs_background": "light"
     },
     "output_type": "display_data"
    }
   ],
   "source": [
    "plt.plot(df,color='green')\n",
    "plt.title('Daily Minimum Temperature',fontsize=20)\n",
    "plt.xlabel('Date',fontsize=15)\n",
    "plt.ylabel('Units',fontsize=15)\n",
    "plt.show()"
   ]
  },
  {
   "cell_type": "code",
   "execution_count": 50,
   "id": "bf59d3e0",
   "metadata": {
    "id": "bf59d3e0"
   },
   "outputs": [],
   "source": [
    "def convert2matrix(data_arr, look_back):\n",
    "    X, Y =[], []\n",
    "    for i in range(len(data_arr)-look_back):\n",
    "        d=i+look_back  \n",
    "        X.append(data_arr[i:d,0])\n",
    "        Y.append(data_arr[d,0])\n",
    "    return np.array(X), np.array(Y)"
   ]
  },
  {
   "cell_type": "code",
   "execution_count": 79,
   "id": "5CBL1GHqurmE",
   "metadata": {
    "id": "5CBL1GHqurmE"
   },
   "outputs": [],
   "source": [
    "from sklearn.preprocessing import MinMaxScaler\n",
    "#create numpy.ndarray \n",
    "df['Temp'] = df['Temp'].astype(np.float32)\n",
    "df_arr = df.values\n",
    "df_arr = np.reshape(df_arr, (-1, 1))\n",
    "scaler = MinMaxScaler(feature_range=(0.1, 1))\n",
    "df_arr = scaler.fit_transform(df_arr)"
   ]
  },
  {
   "cell_type": "code",
   "execution_count": 80,
   "id": "1cea6c5f",
   "metadata": {
    "id": "1cea6c5f"
   },
   "outputs": [],
   "source": [
    "#Split data set into testing dataset and train dataset\n",
    "train_size = 2628\n",
    "train, test =df_arr[0:train_size,:], df_arr[train_size:len(df_arr),:]\n",
    "# setup look_back window \n",
    "look_back = 12\n",
    "#convert dataset into right shape in order to input into the DNN\n",
    "trainX, trainY = convert2matrix(train, look_back)\n",
    "testX, testY = convert2matrix(test, look_back)\n",
    "trainX = np.reshape(trainX, (trainX.shape[0], 1, trainX.shape[1]))\n",
    "testX = np.reshape(testX, (testX.shape[0], 1, testX.shape[1]))"
   ]
  },
  {
   "cell_type": "code",
   "execution_count": 53,
   "id": "c7d46c39",
   "metadata": {
    "colab": {
     "base_uri": "https://localhost:8080/"
    },
    "id": "c7d46c39",
    "outputId": "41dbbebf-84f6-477f-db97-1c01bde250f4"
   },
   "outputs": [
    {
     "name": "stdout",
     "output_type": "stream",
     "text": [
      "(2616, 1, 12)\n",
      "(2616,)\n",
      "(280, 1, 12)\n",
      "(280,)\n"
     ]
    }
   ],
   "source": [
    "print(trainX.shape)\n",
    "print(trainY.shape)\n",
    "print(testX.shape)\n",
    "print(testY.shape)"
   ]
  },
  {
   "cell_type": "code",
   "execution_count": 54,
   "id": "GIc1nRcCuP3G",
   "metadata": {
    "id": "GIc1nRcCuP3G"
   },
   "outputs": [],
   "source": [
    "!pip install -q -U keras-tuner"
   ]
  },
  {
   "cell_type": "code",
   "execution_count": 13,
   "id": "M5te5ih0uP6u",
   "metadata": {
    "id": "M5te5ih0uP6u"
   },
   "outputs": [],
   "source": [
    "import pandas as pd\n",
    "from tensorflow import keras\n",
    "from tensorflow.keras import layers\n",
    "from keras_tuner.tuners import RandomSearch\n",
    "from tensorflow.keras.models import Sequential\n",
    "from tensorflow.keras.layers import LSTM\n",
    "from tensorflow.keras.layers import Dense,Dropout,SimpleRNN\n",
    "from tensorflow.keras.layers import Flatten\n",
    "import matplotlib.pyplot as plt"
   ]
  },
  {
   "cell_type": "code",
   "execution_count": 14,
   "id": "rYiJC5hXuP_e",
   "metadata": {
    "id": "rYiJC5hXuP_e"
   },
   "outputs": [],
   "source": [
    "def build_model(hp):\n",
    "    model = keras.Sequential()\n",
    "    model.add(LSTM(hp.Int('rnn_layer',min_value=4,max_value=96,step=4), activation=\"relu\",input_shape=(1,look_back),recurrent_dropout = hp.Choice(\"first_recurrent_dropout\",[0.1,0.2,0.3],default=0.2)))\n",
    "    model.add(Dense(hp.Int('dense_layer',min_value=4,max_value=96,step=4),activation=\"relu\"))\n",
    "    model.add(Dropout(hp.Float('Dropout_rate',min_value=0,max_value=0.5,step=0.1)))\n",
    "    model.add(layers.Dense(1, activation='linear'))\n",
    "    model.compile(\n",
    "        optimizer=keras.optimizers.Adam(\n",
    "             hp.Float('learning_rate', min_value=1e-4, max_value=1e-1, sampling=\"log\")),\n",
    "        loss='mape',\n",
    "        metrics=['mape'])\n",
    "    return model"
   ]
  },
  {
   "cell_type": "code",
   "execution_count": 15,
   "id": "2h_gRerjuQCT",
   "metadata": {
    "id": "2h_gRerjuQCT"
   },
   "outputs": [],
   "source": [
    "tuner = RandomSearch(\n",
    "    build_model,\n",
    "    objective='val_mape',\n",
    "    max_trials=10,\n",
    "    executions_per_trial=1,\n",
    "    directory='project',\n",
    "    project_name='loa_em_1')"
   ]
  },
  {
   "cell_type": "code",
   "execution_count": 16,
   "id": "Dg5AHN3guQFu",
   "metadata": {
    "colab": {
     "base_uri": "https://localhost:8080/"
    },
    "id": "Dg5AHN3guQFu",
    "outputId": "9344070e-13cf-419b-8bff-c0f02d2fdd2d"
   },
   "outputs": [
    {
     "name": "stdout",
     "output_type": "stream",
     "text": [
      "Search space summary\n",
      "Default search space size: 5\n",
      "rnn_layer (Int)\n",
      "{'default': None, 'conditions': [], 'min_value': 4, 'max_value': 96, 'step': 4, 'sampling': None}\n",
      "first_recurrent_dropout (Choice)\n",
      "{'default': 0.2, 'conditions': [], 'values': [0.1, 0.2, 0.3], 'ordered': True}\n",
      "dense_layer (Int)\n",
      "{'default': None, 'conditions': [], 'min_value': 4, 'max_value': 96, 'step': 4, 'sampling': None}\n",
      "Dropout_rate (Float)\n",
      "{'default': 0.0, 'conditions': [], 'min_value': 0.0, 'max_value': 0.5, 'step': 0.1, 'sampling': None}\n",
      "learning_rate (Float)\n",
      "{'default': 0.0001, 'conditions': [], 'min_value': 0.0001, 'max_value': 0.1, 'step': None, 'sampling': 'log'}\n"
     ]
    }
   ],
   "source": [
    "tuner.search_space_summary()"
   ]
  },
  {
   "cell_type": "code",
   "execution_count": 17,
   "id": "TiBXdF0K8Gpr",
   "metadata": {
    "colab": {
     "base_uri": "https://localhost:8080/"
    },
    "id": "TiBXdF0K8Gpr",
    "outputId": "4e491eab-a8c2-4b81-eaca-d52f9352412e"
   },
   "outputs": [
    {
     "name": "stdout",
     "output_type": "stream",
     "text": [
      "Trial 10 Complete [00h 01m 00s]\n",
      "val_mape: 14.800355911254883\n",
      "\n",
      "Best val_mape So Far: 14.800355911254883\n",
      "Total elapsed time: 00h 12m 07s\n",
      "INFO:tensorflow:Oracle triggered exit\n"
     ]
    }
   ],
   "source": [
    "tuner.search(trainX, trainY,\n",
    "             epochs=200,\n",
    "             batch_size=32,\n",
    "             validation_data=(testX, testY))"
   ]
  },
  {
   "cell_type": "code",
   "execution_count": 18,
   "id": "VXXGH_RK8GsD",
   "metadata": {
    "colab": {
     "base_uri": "https://localhost:8080/"
    },
    "id": "VXXGH_RK8GsD",
    "outputId": "63f73cb3-5042-4e9a-a808-8f300ac967fd"
   },
   "outputs": [
    {
     "name": "stdout",
     "output_type": "stream",
     "text": [
      "Results summary\n",
      "Results in project/loa_em_1\n",
      "Showing 10 best trials\n",
      "Objective(name='val_mape', direction='min')\n",
      "Trial summary\n",
      "Hyperparameters:\n",
      "rnn_layer: 60\n",
      "first_recurrent_dropout: 0.2\n",
      "dense_layer: 44\n",
      "Dropout_rate: 0.30000000000000004\n",
      "learning_rate: 0.0007130320872076316\n",
      "Score: 14.800355911254883\n",
      "Trial summary\n",
      "Hyperparameters:\n",
      "rnn_layer: 28\n",
      "first_recurrent_dropout: 0.1\n",
      "dense_layer: 84\n",
      "Dropout_rate: 0.5\n",
      "learning_rate: 0.0006314363630459197\n",
      "Score: 14.823513984680176\n",
      "Trial summary\n",
      "Hyperparameters:\n",
      "rnn_layer: 84\n",
      "first_recurrent_dropout: 0.3\n",
      "dense_layer: 48\n",
      "Dropout_rate: 0.1\n",
      "learning_rate: 0.0008451537528325535\n",
      "Score: 14.851983070373535\n",
      "Trial summary\n",
      "Hyperparameters:\n",
      "rnn_layer: 28\n",
      "first_recurrent_dropout: 0.2\n",
      "dense_layer: 12\n",
      "Dropout_rate: 0.2\n",
      "learning_rate: 0.0012526626350960555\n",
      "Score: 14.934165954589844\n",
      "Trial summary\n",
      "Hyperparameters:\n",
      "rnn_layer: 40\n",
      "first_recurrent_dropout: 0.3\n",
      "dense_layer: 20\n",
      "Dropout_rate: 0.1\n",
      "learning_rate: 0.0002182433505738606\n",
      "Score: 14.965188980102539\n",
      "Trial summary\n",
      "Hyperparameters:\n",
      "rnn_layer: 76\n",
      "first_recurrent_dropout: 0.1\n",
      "dense_layer: 28\n",
      "Dropout_rate: 0.1\n",
      "learning_rate: 0.005592893488446031\n",
      "Score: 15.003710746765137\n",
      "Trial summary\n",
      "Hyperparameters:\n",
      "rnn_layer: 92\n",
      "first_recurrent_dropout: 0.1\n",
      "dense_layer: 76\n",
      "Dropout_rate: 0.1\n",
      "learning_rate: 0.000254443997044843\n",
      "Score: 15.018628120422363\n",
      "Trial summary\n",
      "Hyperparameters:\n",
      "rnn_layer: 12\n",
      "first_recurrent_dropout: 0.1\n",
      "dense_layer: 52\n",
      "Dropout_rate: 0.0\n",
      "learning_rate: 0.0005236421701868515\n",
      "Score: 15.029387474060059\n",
      "Trial summary\n",
      "Hyperparameters:\n",
      "rnn_layer: 40\n",
      "first_recurrent_dropout: 0.3\n",
      "dense_layer: 68\n",
      "Dropout_rate: 0.30000000000000004\n",
      "learning_rate: 0.00015402605993744176\n",
      "Score: 15.088098526000977\n",
      "Trial summary\n",
      "Hyperparameters:\n",
      "rnn_layer: 8\n",
      "first_recurrent_dropout: 0.1\n",
      "dense_layer: 28\n",
      "Dropout_rate: 0.2\n",
      "learning_rate: 0.008514542675036612\n",
      "Score: 15.096012115478516\n"
     ]
    }
   ],
   "source": [
    "tuner.results_summary()"
   ]
  },
  {
   "cell_type": "code",
   "execution_count": 19,
   "id": "FBpLenJ_DZMX",
   "metadata": {
    "id": "FBpLenJ_DZMX"
   },
   "outputs": [],
   "source": [
    "from warnings import filterwarnings\n",
    "filterwarnings('ignore')"
   ]
  },
  {
   "cell_type": "code",
   "execution_count": 20,
   "id": "eL-a8rAv8Gvg",
   "metadata": {
    "colab": {
     "base_uri": "https://localhost:8080/"
    },
    "id": "eL-a8rAv8Gvg",
    "outputId": "d6cc4d30-0ded-4015-e0e4-983829405a6f"
   },
   "outputs": [
    {
     "name": "stdout",
     "output_type": "stream",
     "text": [
      "Model: \"sequential\"\n",
      "_________________________________________________________________\n",
      " Layer (type)                Output Shape              Param #   \n",
      "=================================================================\n",
      " lstm (LSTM)                 (None, 60)                17520     \n",
      "                                                                 \n",
      " dense (Dense)               (None, 44)                2684      \n",
      "                                                                 \n",
      " dropout (Dropout)           (None, 44)                0         \n",
      "                                                                 \n",
      " dense_1 (Dense)             (None, 1)                 45        \n",
      "                                                                 \n",
      "=================================================================\n",
      "Total params: 20,249\n",
      "Trainable params: 20,249\n",
      "Non-trainable params: 0\n",
      "_________________________________________________________________\n"
     ]
    }
   ],
   "source": [
    "models = tuner.get_best_models(num_models=2)\n",
    "best_model = models[0]\n",
    "# Build the model.\n",
    "# Needed for `Sequential` without specified `input_shape`.\n",
    "best_model.build(input_shape=(None, 12))\n",
    "best_model.summary()"
   ]
  },
  {
   "cell_type": "code",
   "execution_count": 21,
   "id": "ovKDjDHZEmLV",
   "metadata": {
    "id": "ovKDjDHZEmLV"
   },
   "outputs": [],
   "source": [
    "from tensorflow.keras import optimizers\n",
    "from tensorflow.keras.callbacks import EarlyStopping"
   ]
  },
  {
   "cell_type": "code",
   "execution_count": 81,
   "id": "0e187ddc",
   "metadata": {
    "colab": {
     "base_uri": "https://localhost:8080/"
    },
    "id": "0e187ddc",
    "outputId": "ae07c1f4-6112-4513-9c64-d5895d55a2df"
   },
   "outputs": [
    {
     "name": "stdout",
     "output_type": "stream",
     "text": [
      "Epoch 1/200\n",
      "82/82 [==============================] - 6s 11ms/step - loss: 95.9439 - mape: 95.9439 - val_loss: 91.4260 - val_mape: 91.4260\n",
      "Epoch 2/200\n",
      "82/82 [==============================] - 0s 6ms/step - loss: 84.0254 - mape: 84.0254 - val_loss: 74.4843 - val_mape: 74.4843\n",
      "Epoch 3/200\n",
      "82/82 [==============================] - 0s 6ms/step - loss: 54.9588 - mape: 54.9588 - val_loss: 28.4087 - val_mape: 28.4087\n",
      "Epoch 4/200\n",
      "82/82 [==============================] - 1s 6ms/step - loss: 20.0773 - mape: 20.0773 - val_loss: 17.4567 - val_mape: 17.4567\n",
      "Epoch 5/200\n",
      "82/82 [==============================] - 1s 6ms/step - loss: 18.7815 - mape: 18.7815 - val_loss: 17.2651 - val_mape: 17.2651\n",
      "Epoch 6/200\n",
      "82/82 [==============================] - 0s 6ms/step - loss: 18.6386 - mape: 18.6386 - val_loss: 17.0388 - val_mape: 17.0388\n",
      "Epoch 7/200\n",
      "82/82 [==============================] - 1s 6ms/step - loss: 18.4706 - mape: 18.4706 - val_loss: 16.8126 - val_mape: 16.8126\n",
      "Epoch 8/200\n",
      "82/82 [==============================] - 1s 6ms/step - loss: 18.3401 - mape: 18.3401 - val_loss: 16.7982 - val_mape: 16.7982\n",
      "Epoch 9/200\n",
      "82/82 [==============================] - 0s 6ms/step - loss: 18.2024 - mape: 18.2024 - val_loss: 16.9428 - val_mape: 16.9428\n",
      "Epoch 10/200\n",
      "82/82 [==============================] - 0s 6ms/step - loss: 18.0461 - mape: 18.0461 - val_loss: 16.5036 - val_mape: 16.5036\n",
      "Epoch 11/200\n",
      "82/82 [==============================] - 0s 6ms/step - loss: 17.9268 - mape: 17.9268 - val_loss: 16.5297 - val_mape: 16.5297\n",
      "Epoch 12/200\n",
      "82/82 [==============================] - 0s 6ms/step - loss: 17.7843 - mape: 17.7843 - val_loss: 16.3623 - val_mape: 16.3623\n",
      "Epoch 13/200\n",
      "82/82 [==============================] - 1s 6ms/step - loss: 17.6667 - mape: 17.6667 - val_loss: 16.4176 - val_mape: 16.4176\n",
      "Epoch 14/200\n",
      "82/82 [==============================] - 1s 6ms/step - loss: 17.5849 - mape: 17.5849 - val_loss: 16.3604 - val_mape: 16.3604\n",
      "Epoch 15/200\n",
      "82/82 [==============================] - 1s 6ms/step - loss: 17.4519 - mape: 17.4519 - val_loss: 16.0789 - val_mape: 16.0789\n",
      "Epoch 16/200\n",
      "82/82 [==============================] - 0s 6ms/step - loss: 17.3163 - mape: 17.3163 - val_loss: 16.0092 - val_mape: 16.0092\n",
      "Epoch 17/200\n",
      "82/82 [==============================] - 0s 6ms/step - loss: 17.2179 - mape: 17.2179 - val_loss: 15.9962 - val_mape: 15.9962\n",
      "Epoch 18/200\n",
      "82/82 [==============================] - 0s 6ms/step - loss: 17.1471 - mape: 17.1471 - val_loss: 15.9008 - val_mape: 15.9008\n",
      "Epoch 19/200\n",
      "82/82 [==============================] - 1s 6ms/step - loss: 17.0348 - mape: 17.0348 - val_loss: 15.8772 - val_mape: 15.8772\n",
      "Epoch 20/200\n",
      "82/82 [==============================] - 1s 6ms/step - loss: 16.9258 - mape: 16.9258 - val_loss: 15.7874 - val_mape: 15.7874\n",
      "Epoch 21/200\n",
      "82/82 [==============================] - 0s 6ms/step - loss: 16.8412 - mape: 16.8412 - val_loss: 15.7360 - val_mape: 15.7360\n",
      "Epoch 22/200\n",
      "82/82 [==============================] - 1s 6ms/step - loss: 16.7476 - mape: 16.7476 - val_loss: 15.7343 - val_mape: 15.7343\n",
      "Epoch 23/200\n",
      "82/82 [==============================] - 0s 6ms/step - loss: 16.6828 - mape: 16.6828 - val_loss: 15.6556 - val_mape: 15.6556\n",
      "Epoch 24/200\n",
      "82/82 [==============================] - 0s 6ms/step - loss: 16.5950 - mape: 16.5950 - val_loss: 15.6774 - val_mape: 15.6774\n",
      "Epoch 25/200\n",
      "82/82 [==============================] - 1s 6ms/step - loss: 16.5277 - mape: 16.5277 - val_loss: 15.6271 - val_mape: 15.6271\n",
      "Epoch 26/200\n",
      "82/82 [==============================] - 0s 6ms/step - loss: 16.4802 - mape: 16.4802 - val_loss: 15.5980 - val_mape: 15.5980\n",
      "Epoch 27/200\n",
      "82/82 [==============================] - 0s 6ms/step - loss: 16.4370 - mape: 16.4370 - val_loss: 15.5616 - val_mape: 15.5616\n",
      "Epoch 28/200\n",
      "82/82 [==============================] - 0s 6ms/step - loss: 16.3880 - mape: 16.3880 - val_loss: 15.5706 - val_mape: 15.5706\n",
      "Epoch 29/200\n",
      "82/82 [==============================] - 1s 6ms/step - loss: 16.3521 - mape: 16.3521 - val_loss: 15.5528 - val_mape: 15.5528\n",
      "Epoch 30/200\n",
      "82/82 [==============================] - 0s 6ms/step - loss: 16.2900 - mape: 16.2900 - val_loss: 15.6558 - val_mape: 15.6558\n",
      "Epoch 31/200\n",
      "82/82 [==============================] - 1s 6ms/step - loss: 16.2798 - mape: 16.2798 - val_loss: 15.5881 - val_mape: 15.5881\n",
      "Epoch 32/200\n",
      "82/82 [==============================] - 0s 6ms/step - loss: 16.3116 - mape: 16.3116 - val_loss: 15.5527 - val_mape: 15.5527\n",
      "Epoch 33/200\n",
      "82/82 [==============================] - 0s 6ms/step - loss: 16.2358 - mape: 16.2358 - val_loss: 15.5638 - val_mape: 15.5638\n",
      "Epoch 34/200\n",
      "82/82 [==============================] - 0s 6ms/step - loss: 16.1977 - mape: 16.1977 - val_loss: 15.4754 - val_mape: 15.4754\n",
      "Epoch 35/200\n",
      "82/82 [==============================] - 1s 6ms/step - loss: 16.2154 - mape: 16.2154 - val_loss: 15.4417 - val_mape: 15.4417\n",
      "Epoch 36/200\n",
      "82/82 [==============================] - 0s 6ms/step - loss: 16.1595 - mape: 16.1595 - val_loss: 15.4425 - val_mape: 15.4425\n",
      "Epoch 37/200\n",
      "82/82 [==============================] - 0s 6ms/step - loss: 16.1047 - mape: 16.1047 - val_loss: 15.4947 - val_mape: 15.4947\n",
      "Epoch 38/200\n",
      "82/82 [==============================] - 1s 6ms/step - loss: 16.1349 - mape: 16.1349 - val_loss: 15.4891 - val_mape: 15.4891\n",
      "Epoch 39/200\n",
      "82/82 [==============================] - 0s 6ms/step - loss: 16.1501 - mape: 16.1501 - val_loss: 15.9188 - val_mape: 15.9188\n",
      "Epoch 40/200\n",
      "82/82 [==============================] - 1s 6ms/step - loss: 16.1094 - mape: 16.1094 - val_loss: 15.4272 - val_mape: 15.4272\n",
      "Epoch 41/200\n",
      "82/82 [==============================] - 1s 6ms/step - loss: 16.0921 - mape: 16.0921 - val_loss: 15.4523 - val_mape: 15.4523\n",
      "Epoch 42/200\n",
      "82/82 [==============================] - 1s 6ms/step - loss: 16.0494 - mape: 16.0494 - val_loss: 15.4691 - val_mape: 15.4691\n",
      "Epoch 43/200\n",
      "82/82 [==============================] - 1s 6ms/step - loss: 16.0763 - mape: 16.0763 - val_loss: 15.4718 - val_mape: 15.4718\n",
      "Epoch 44/200\n",
      "82/82 [==============================] - 1s 6ms/step - loss: 16.0800 - mape: 16.0800 - val_loss: 15.4237 - val_mape: 15.4237\n",
      "Epoch 45/200\n",
      "82/82 [==============================] - 1s 6ms/step - loss: 16.0536 - mape: 16.0536 - val_loss: 15.4196 - val_mape: 15.4196\n",
      "Epoch 46/200\n",
      "82/82 [==============================] - 0s 6ms/step - loss: 16.0168 - mape: 16.0168 - val_loss: 15.4490 - val_mape: 15.4490\n",
      "Epoch 47/200\n",
      "82/82 [==============================] - 1s 6ms/step - loss: 16.0011 - mape: 16.0011 - val_loss: 15.4268 - val_mape: 15.4268\n",
      "Epoch 48/200\n",
      "82/82 [==============================] - 0s 6ms/step - loss: 15.9786 - mape: 15.9786 - val_loss: 15.4968 - val_mape: 15.4968\n",
      "Epoch 49/200\n",
      "82/82 [==============================] - 1s 6ms/step - loss: 16.0354 - mape: 16.0354 - val_loss: 15.4116 - val_mape: 15.4116\n",
      "Epoch 50/200\n",
      "82/82 [==============================] - 1s 6ms/step - loss: 16.0127 - mape: 16.0127 - val_loss: 15.4273 - val_mape: 15.4273\n",
      "Epoch 51/200\n",
      "82/82 [==============================] - 1s 6ms/step - loss: 15.9948 - mape: 15.9948 - val_loss: 15.4116 - val_mape: 15.4116\n",
      "Epoch 52/200\n",
      "82/82 [==============================] - 1s 7ms/step - loss: 15.9795 - mape: 15.9795 - val_loss: 15.4202 - val_mape: 15.4202\n",
      "Epoch 53/200\n",
      "82/82 [==============================] - 1s 6ms/step - loss: 15.9701 - mape: 15.9701 - val_loss: 15.4484 - val_mape: 15.4484\n",
      "Epoch 54/200\n",
      "82/82 [==============================] - 0s 6ms/step - loss: 15.9584 - mape: 15.9584 - val_loss: 15.4338 - val_mape: 15.4338\n",
      "Epoch 55/200\n",
      "82/82 [==============================] - 1s 7ms/step - loss: 15.9819 - mape: 15.9819 - val_loss: 15.3959 - val_mape: 15.3959\n",
      "Epoch 56/200\n",
      "82/82 [==============================] - 0s 6ms/step - loss: 15.9327 - mape: 15.9327 - val_loss: 15.4060 - val_mape: 15.4060\n",
      "Epoch 57/200\n",
      "82/82 [==============================] - 1s 6ms/step - loss: 15.9006 - mape: 15.9006 - val_loss: 15.4152 - val_mape: 15.4152\n",
      "Epoch 58/200\n",
      "82/82 [==============================] - 1s 6ms/step - loss: 15.9642 - mape: 15.9642 - val_loss: 15.6349 - val_mape: 15.6349\n",
      "Epoch 59/200\n",
      "82/82 [==============================] - 1s 6ms/step - loss: 15.9552 - mape: 15.9552 - val_loss: 15.3933 - val_mape: 15.3933\n",
      "Epoch 60/200\n",
      "82/82 [==============================] - 0s 6ms/step - loss: 15.9158 - mape: 15.9158 - val_loss: 15.5024 - val_mape: 15.5024\n",
      "Epoch 61/200\n",
      "82/82 [==============================] - 1s 6ms/step - loss: 15.9717 - mape: 15.9717 - val_loss: 15.3850 - val_mape: 15.3850\n",
      "Epoch 62/200\n",
      "82/82 [==============================] - 0s 6ms/step - loss: 15.9463 - mape: 15.9463 - val_loss: 15.4642 - val_mape: 15.4642\n",
      "Epoch 63/200\n",
      "82/82 [==============================] - 1s 6ms/step - loss: 15.9137 - mape: 15.9137 - val_loss: 15.3864 - val_mape: 15.3864\n",
      "Epoch 64/200\n",
      "82/82 [==============================] - 1s 6ms/step - loss: 15.9416 - mape: 15.9416 - val_loss: 15.3814 - val_mape: 15.3814\n",
      "Epoch 65/200\n",
      "82/82 [==============================] - 1s 6ms/step - loss: 15.9052 - mape: 15.9052 - val_loss: 15.3810 - val_mape: 15.3810\n",
      "Epoch 66/200\n",
      "82/82 [==============================] - 0s 6ms/step - loss: 15.9099 - mape: 15.9099 - val_loss: 15.4428 - val_mape: 15.4428\n",
      "Epoch 67/200\n",
      "82/82 [==============================] - 1s 6ms/step - loss: 15.8872 - mape: 15.8872 - val_loss: 15.6863 - val_mape: 15.6863\n",
      "Epoch 68/200\n",
      "82/82 [==============================] - 0s 6ms/step - loss: 15.9277 - mape: 15.9277 - val_loss: 15.4425 - val_mape: 15.4425\n",
      "Epoch 69/200\n",
      "82/82 [==============================] - 1s 6ms/step - loss: 15.8911 - mape: 15.8911 - val_loss: 15.3704 - val_mape: 15.3704\n",
      "Epoch 70/200\n",
      "82/82 [==============================] - 0s 6ms/step - loss: 15.8918 - mape: 15.8918 - val_loss: 15.3913 - val_mape: 15.3913\n",
      "Epoch 71/200\n",
      "82/82 [==============================] - 1s 6ms/step - loss: 15.8698 - mape: 15.8698 - val_loss: 15.3674 - val_mape: 15.3674\n",
      "Epoch 72/200\n",
      "82/82 [==============================] - 0s 6ms/step - loss: 15.9005 - mape: 15.9005 - val_loss: 15.4188 - val_mape: 15.4188\n",
      "Epoch 73/200\n",
      "82/82 [==============================] - 1s 6ms/step - loss: 15.8976 - mape: 15.8976 - val_loss: 15.4271 - val_mape: 15.4271\n",
      "Epoch 74/200\n",
      "82/82 [==============================] - 0s 6ms/step - loss: 15.8914 - mape: 15.8914 - val_loss: 15.4098 - val_mape: 15.4098\n",
      "Epoch 75/200\n",
      "82/82 [==============================] - 1s 6ms/step - loss: 15.8706 - mape: 15.8706 - val_loss: 15.3763 - val_mape: 15.3763\n",
      "Epoch 76/200\n",
      "82/82 [==============================] - 1s 6ms/step - loss: 15.8716 - mape: 15.8716 - val_loss: 15.4195 - val_mape: 15.4195\n",
      "Epoch 77/200\n",
      "82/82 [==============================] - 1s 6ms/step - loss: 15.8316 - mape: 15.8316 - val_loss: 15.4236 - val_mape: 15.4236\n",
      "Epoch 78/200\n",
      "82/82 [==============================] - 1s 6ms/step - loss: 15.8548 - mape: 15.8548 - val_loss: 15.3693 - val_mape: 15.3693\n",
      "Epoch 79/200\n",
      "82/82 [==============================] - 1s 6ms/step - loss: 15.8853 - mape: 15.8853 - val_loss: 15.4239 - val_mape: 15.4239\n",
      "Epoch 80/200\n",
      "82/82 [==============================] - 1s 6ms/step - loss: 15.8600 - mape: 15.8600 - val_loss: 15.4700 - val_mape: 15.4700\n",
      "Epoch 81/200\n",
      "82/82 [==============================] - 1s 6ms/step - loss: 15.8393 - mape: 15.8393 - val_loss: 15.3549 - val_mape: 15.3549\n",
      "Epoch 82/200\n",
      "82/82 [==============================] - 1s 6ms/step - loss: 15.8834 - mape: 15.8834 - val_loss: 15.4052 - val_mape: 15.4052\n",
      "Epoch 83/200\n",
      "82/82 [==============================] - 1s 6ms/step - loss: 15.8471 - mape: 15.8471 - val_loss: 15.3531 - val_mape: 15.3531\n",
      "Epoch 84/200\n",
      "82/82 [==============================] - 1s 6ms/step - loss: 15.8329 - mape: 15.8329 - val_loss: 15.3848 - val_mape: 15.3848\n",
      "Epoch 85/200\n",
      "82/82 [==============================] - 1s 6ms/step - loss: 15.8162 - mape: 15.8162 - val_loss: 15.3554 - val_mape: 15.3554\n",
      "Epoch 86/200\n",
      "82/82 [==============================] - 1s 6ms/step - loss: 15.8111 - mape: 15.8111 - val_loss: 15.3973 - val_mape: 15.3973\n",
      "Epoch 87/200\n",
      "82/82 [==============================] - 1s 6ms/step - loss: 15.8218 - mape: 15.8218 - val_loss: 15.4100 - val_mape: 15.4100\n",
      "Epoch 88/200\n",
      "82/82 [==============================] - 1s 6ms/step - loss: 15.8579 - mape: 15.8579 - val_loss: 15.3418 - val_mape: 15.3418\n",
      "Epoch 89/200\n",
      "82/82 [==============================] - 0s 6ms/step - loss: 15.8613 - mape: 15.8613 - val_loss: 15.3444 - val_mape: 15.3444\n",
      "Epoch 90/200\n",
      "82/82 [==============================] - 1s 6ms/step - loss: 15.8299 - mape: 15.8299 - val_loss: 15.3429 - val_mape: 15.3429\n",
      "Epoch 91/200\n",
      "82/82 [==============================] - 1s 6ms/step - loss: 15.7800 - mape: 15.7800 - val_loss: 15.3459 - val_mape: 15.3459\n",
      "Epoch 92/200\n",
      "82/82 [==============================] - 1s 6ms/step - loss: 15.7873 - mape: 15.7873 - val_loss: 15.3734 - val_mape: 15.3734\n",
      "Epoch 93/200\n",
      "82/82 [==============================] - 1s 6ms/step - loss: 15.8465 - mape: 15.8465 - val_loss: 15.4278 - val_mape: 15.4278\n",
      "Epoch 94/200\n",
      "82/82 [==============================] - 1s 6ms/step - loss: 15.8163 - mape: 15.8163 - val_loss: 15.3807 - val_mape: 15.3807\n",
      "Epoch 95/200\n",
      "82/82 [==============================] - 1s 6ms/step - loss: 15.8021 - mape: 15.8021 - val_loss: 15.3396 - val_mape: 15.3396\n",
      "Epoch 96/200\n",
      "82/82 [==============================] - 1s 6ms/step - loss: 15.8200 - mape: 15.8200 - val_loss: 15.4511 - val_mape: 15.4511\n",
      "Epoch 97/200\n",
      "82/82 [==============================] - 0s 6ms/step - loss: 15.7653 - mape: 15.7653 - val_loss: 15.3599 - val_mape: 15.3599\n",
      "Epoch 98/200\n",
      "82/82 [==============================] - 1s 7ms/step - loss: 15.8004 - mape: 15.8004 - val_loss: 15.3324 - val_mape: 15.3324\n",
      "Epoch 99/200\n",
      "82/82 [==============================] - 1s 7ms/step - loss: 15.7644 - mape: 15.7644 - val_loss: 15.3897 - val_mape: 15.3897\n",
      "Epoch 100/200\n",
      "82/82 [==============================] - 1s 6ms/step - loss: 15.7751 - mape: 15.7751 - val_loss: 15.3527 - val_mape: 15.3527\n",
      "Epoch 101/200\n",
      "82/82 [==============================] - 1s 6ms/step - loss: 15.7583 - mape: 15.7583 - val_loss: 15.4015 - val_mape: 15.4015\n",
      "Epoch 102/200\n",
      "82/82 [==============================] - 1s 6ms/step - loss: 15.7649 - mape: 15.7649 - val_loss: 15.6526 - val_mape: 15.6526\n",
      "Epoch 103/200\n",
      "82/82 [==============================] - 0s 6ms/step - loss: 15.8362 - mape: 15.8362 - val_loss: 15.6178 - val_mape: 15.6178\n",
      "Epoch 104/200\n",
      "82/82 [==============================] - 1s 6ms/step - loss: 15.7343 - mape: 15.7343 - val_loss: 15.5020 - val_mape: 15.5020\n",
      "Epoch 105/200\n",
      "82/82 [==============================] - 0s 6ms/step - loss: 15.8031 - mape: 15.8031 - val_loss: 15.3309 - val_mape: 15.3309\n",
      "Epoch 106/200\n",
      "82/82 [==============================] - 1s 6ms/step - loss: 15.7192 - mape: 15.7192 - val_loss: 15.3311 - val_mape: 15.3311\n",
      "Epoch 107/200\n",
      "82/82 [==============================] - 1s 6ms/step - loss: 15.7225 - mape: 15.7225 - val_loss: 15.3712 - val_mape: 15.3712\n",
      "Epoch 108/200\n",
      "82/82 [==============================] - 1s 6ms/step - loss: 15.7153 - mape: 15.7153 - val_loss: 15.3027 - val_mape: 15.3027\n",
      "Epoch 109/200\n",
      "82/82 [==============================] - 1s 6ms/step - loss: 15.7164 - mape: 15.7164 - val_loss: 15.3030 - val_mape: 15.3030\n",
      "Epoch 110/200\n",
      "82/82 [==============================] - 1s 6ms/step - loss: 15.7213 - mape: 15.7213 - val_loss: 15.3656 - val_mape: 15.3656\n",
      "Epoch 111/200\n",
      "82/82 [==============================] - 1s 6ms/step - loss: 15.7180 - mape: 15.7180 - val_loss: 15.3212 - val_mape: 15.3212\n",
      "Epoch 112/200\n",
      "82/82 [==============================] - 1s 7ms/step - loss: 15.7000 - mape: 15.7000 - val_loss: 15.3231 - val_mape: 15.3231\n",
      "Epoch 113/200\n",
      "82/82 [==============================] - 1s 6ms/step - loss: 15.7060 - mape: 15.7060 - val_loss: 15.2929 - val_mape: 15.2929\n",
      "Epoch 114/200\n",
      "82/82 [==============================] - 1s 6ms/step - loss: 15.7519 - mape: 15.7519 - val_loss: 15.3293 - val_mape: 15.3293\n",
      "Epoch 115/200\n",
      "82/82 [==============================] - 1s 6ms/step - loss: 15.6757 - mape: 15.6757 - val_loss: 15.4857 - val_mape: 15.4857\n",
      "Epoch 116/200\n",
      "82/82 [==============================] - 1s 6ms/step - loss: 15.7286 - mape: 15.7286 - val_loss: 15.2966 - val_mape: 15.2966\n",
      "Epoch 117/200\n",
      "82/82 [==============================] - 1s 6ms/step - loss: 15.6884 - mape: 15.6884 - val_loss: 15.5103 - val_mape: 15.5103\n",
      "Epoch 118/200\n",
      "82/82 [==============================] - 1s 7ms/step - loss: 15.6745 - mape: 15.6745 - val_loss: 15.4552 - val_mape: 15.4552\n",
      "Epoch 119/200\n",
      "82/82 [==============================] - 1s 6ms/step - loss: 15.6885 - mape: 15.6885 - val_loss: 15.2968 - val_mape: 15.2968\n",
      "Epoch 120/200\n",
      "82/82 [==============================] - 1s 6ms/step - loss: 15.6638 - mape: 15.6638 - val_loss: 15.3115 - val_mape: 15.3115\n",
      "Epoch 121/200\n",
      "82/82 [==============================] - 1s 6ms/step - loss: 15.6556 - mape: 15.6556 - val_loss: 15.2929 - val_mape: 15.2929\n",
      "Epoch 122/200\n",
      "82/82 [==============================] - 1s 6ms/step - loss: 15.6663 - mape: 15.6663 - val_loss: 15.4220 - val_mape: 15.4220\n",
      "Epoch 123/200\n",
      "82/82 [==============================] - 1s 6ms/step - loss: 15.6875 - mape: 15.6875 - val_loss: 15.2932 - val_mape: 15.2932\n",
      "Epoch 124/200\n",
      "82/82 [==============================] - 1s 7ms/step - loss: 15.6472 - mape: 15.6472 - val_loss: 15.3170 - val_mape: 15.3170\n",
      "Epoch 125/200\n",
      "82/82 [==============================] - 1s 6ms/step - loss: 15.6413 - mape: 15.6413 - val_loss: 15.2965 - val_mape: 15.2965\n",
      "Epoch 126/200\n",
      "82/82 [==============================] - 1s 7ms/step - loss: 15.6631 - mape: 15.6631 - val_loss: 15.3582 - val_mape: 15.3582\n",
      "Epoch 127/200\n",
      "82/82 [==============================] - 0s 6ms/step - loss: 15.6367 - mape: 15.6367 - val_loss: 15.2944 - val_mape: 15.2944\n",
      "Epoch 128/200\n",
      "82/82 [==============================] - 1s 6ms/step - loss: 15.6177 - mape: 15.6177 - val_loss: 15.2930 - val_mape: 15.2930\n",
      "Epoch 129/200\n",
      "82/82 [==============================] - 0s 6ms/step - loss: 15.6296 - mape: 15.6296 - val_loss: 15.2830 - val_mape: 15.2830\n",
      "Epoch 130/200\n",
      "82/82 [==============================] - 1s 6ms/step - loss: 15.6526 - mape: 15.6526 - val_loss: 15.2646 - val_mape: 15.2646\n",
      "Epoch 131/200\n",
      "82/82 [==============================] - 0s 6ms/step - loss: 15.5876 - mape: 15.5876 - val_loss: 15.3058 - val_mape: 15.3058\n",
      "Epoch 132/200\n",
      "82/82 [==============================] - 1s 7ms/step - loss: 15.5989 - mape: 15.5989 - val_loss: 15.3435 - val_mape: 15.3435\n",
      "Epoch 133/200\n",
      "82/82 [==============================] - 1s 6ms/step - loss: 15.5939 - mape: 15.5939 - val_loss: 15.2916 - val_mape: 15.2916\n",
      "Epoch 134/200\n",
      "82/82 [==============================] - 1s 6ms/step - loss: 15.5401 - mape: 15.5401 - val_loss: 15.2786 - val_mape: 15.2786\n",
      "Epoch 135/200\n",
      "82/82 [==============================] - 0s 6ms/step - loss: 15.6013 - mape: 15.6013 - val_loss: 15.3379 - val_mape: 15.3379\n",
      "Epoch 136/200\n",
      "82/82 [==============================] - 0s 6ms/step - loss: 15.5652 - mape: 15.5652 - val_loss: 15.2625 - val_mape: 15.2625\n",
      "Epoch 137/200\n",
      "82/82 [==============================] - 0s 6ms/step - loss: 15.5890 - mape: 15.5890 - val_loss: 15.2809 - val_mape: 15.2809\n",
      "Epoch 138/200\n",
      "82/82 [==============================] - 0s 6ms/step - loss: 15.5659 - mape: 15.5659 - val_loss: 15.3671 - val_mape: 15.3671\n",
      "Epoch 139/200\n",
      "82/82 [==============================] - 0s 6ms/step - loss: 15.6079 - mape: 15.6079 - val_loss: 15.3133 - val_mape: 15.3133\n",
      "Epoch 140/200\n",
      "82/82 [==============================] - 1s 6ms/step - loss: 15.6074 - mape: 15.6074 - val_loss: 15.2991 - val_mape: 15.2991\n",
      "Epoch 141/200\n",
      "82/82 [==============================] - 1s 6ms/step - loss: 15.6273 - mape: 15.6273 - val_loss: 15.5341 - val_mape: 15.5341\n",
      "Epoch 142/200\n",
      "82/82 [==============================] - 1s 6ms/step - loss: 15.5478 - mape: 15.5478 - val_loss: 15.2407 - val_mape: 15.2407\n",
      "Epoch 143/200\n",
      "82/82 [==============================] - 1s 6ms/step - loss: 15.5532 - mape: 15.5532 - val_loss: 15.2842 - val_mape: 15.2842\n",
      "Epoch 144/200\n",
      "82/82 [==============================] - 0s 6ms/step - loss: 15.5333 - mape: 15.5333 - val_loss: 15.2244 - val_mape: 15.2244\n",
      "Epoch 145/200\n",
      "82/82 [==============================] - 1s 6ms/step - loss: 15.5234 - mape: 15.5234 - val_loss: 15.3050 - val_mape: 15.3050\n",
      "Epoch 146/200\n",
      "82/82 [==============================] - 1s 6ms/step - loss: 15.5260 - mape: 15.5260 - val_loss: 15.3109 - val_mape: 15.3109\n",
      "Epoch 147/200\n",
      "82/82 [==============================] - 1s 6ms/step - loss: 15.4902 - mape: 15.4902 - val_loss: 15.2447 - val_mape: 15.2447\n",
      "Epoch 148/200\n",
      "82/82 [==============================] - 1s 6ms/step - loss: 15.5289 - mape: 15.5289 - val_loss: 15.2456 - val_mape: 15.2456\n",
      "Epoch 149/200\n",
      "82/82 [==============================] - 0s 6ms/step - loss: 15.5043 - mape: 15.5043 - val_loss: 15.3377 - val_mape: 15.3377\n",
      "Epoch 150/200\n",
      "82/82 [==============================] - 1s 6ms/step - loss: 15.4847 - mape: 15.4847 - val_loss: 15.4336 - val_mape: 15.4336\n",
      "Epoch 151/200\n",
      "82/82 [==============================] - 1s 6ms/step - loss: 15.5283 - mape: 15.5283 - val_loss: 15.2132 - val_mape: 15.2132\n",
      "Epoch 152/200\n",
      "82/82 [==============================] - 1s 6ms/step - loss: 15.4556 - mape: 15.4556 - val_loss: 15.2650 - val_mape: 15.2650\n",
      "Epoch 153/200\n",
      "82/82 [==============================] - 1s 6ms/step - loss: 15.4580 - mape: 15.4580 - val_loss: 15.2429 - val_mape: 15.2429\n",
      "Epoch 154/200\n",
      "82/82 [==============================] - 1s 6ms/step - loss: 15.5690 - mape: 15.5690 - val_loss: 15.3063 - val_mape: 15.3063\n",
      "Epoch 155/200\n",
      "82/82 [==============================] - 1s 6ms/step - loss: 15.5420 - mape: 15.5420 - val_loss: 15.1852 - val_mape: 15.1852\n",
      "Epoch 156/200\n",
      "82/82 [==============================] - 1s 6ms/step - loss: 15.4793 - mape: 15.4793 - val_loss: 15.2679 - val_mape: 15.2679\n",
      "Epoch 157/200\n",
      "82/82 [==============================] - 1s 6ms/step - loss: 15.4523 - mape: 15.4523 - val_loss: 15.1975 - val_mape: 15.1975\n",
      "Epoch 158/200\n",
      "82/82 [==============================] - 0s 6ms/step - loss: 15.4533 - mape: 15.4533 - val_loss: 15.2517 - val_mape: 15.2517\n",
      "Epoch 159/200\n",
      "82/82 [==============================] - 1s 6ms/step - loss: 15.4951 - mape: 15.4951 - val_loss: 15.3679 - val_mape: 15.3679\n",
      "Epoch 160/200\n",
      "82/82 [==============================] - 1s 6ms/step - loss: 15.4085 - mape: 15.4085 - val_loss: 15.1690 - val_mape: 15.1690\n",
      "Epoch 161/200\n",
      "82/82 [==============================] - 1s 6ms/step - loss: 15.4382 - mape: 15.4382 - val_loss: 15.3719 - val_mape: 15.3719\n",
      "Epoch 162/200\n",
      "82/82 [==============================] - 1s 6ms/step - loss: 15.4379 - mape: 15.4379 - val_loss: 15.2743 - val_mape: 15.2743\n",
      "Epoch 163/200\n",
      "82/82 [==============================] - 1s 6ms/step - loss: 15.4530 - mape: 15.4530 - val_loss: 15.2128 - val_mape: 15.2128\n",
      "Epoch 164/200\n",
      "82/82 [==============================] - 1s 6ms/step - loss: 15.4400 - mape: 15.4400 - val_loss: 15.1670 - val_mape: 15.1670\n",
      "Epoch 165/200\n",
      "82/82 [==============================] - 1s 7ms/step - loss: 15.4732 - mape: 15.4732 - val_loss: 15.2093 - val_mape: 15.2093\n",
      "Epoch 166/200\n",
      "82/82 [==============================] - 0s 6ms/step - loss: 15.4179 - mape: 15.4179 - val_loss: 15.2638 - val_mape: 15.2638\n",
      "Epoch 167/200\n",
      "82/82 [==============================] - 1s 6ms/step - loss: 15.3869 - mape: 15.3869 - val_loss: 15.1686 - val_mape: 15.1686\n",
      "Epoch 168/200\n",
      "82/82 [==============================] - 1s 6ms/step - loss: 15.4122 - mape: 15.4122 - val_loss: 15.1606 - val_mape: 15.1606\n",
      "Epoch 169/200\n",
      "82/82 [==============================] - 1s 6ms/step - loss: 15.4024 - mape: 15.4024 - val_loss: 15.1547 - val_mape: 15.1547\n",
      "Epoch 170/200\n",
      "82/82 [==============================] - 1s 6ms/step - loss: 15.3749 - mape: 15.3749 - val_loss: 15.1555 - val_mape: 15.1555\n",
      "Epoch 171/200\n",
      "82/82 [==============================] - 1s 6ms/step - loss: 15.3866 - mape: 15.3866 - val_loss: 15.0988 - val_mape: 15.0988\n",
      "Epoch 172/200\n",
      "82/82 [==============================] - 1s 6ms/step - loss: 15.4103 - mape: 15.4103 - val_loss: 15.3368 - val_mape: 15.3368\n",
      "Epoch 173/200\n",
      "82/82 [==============================] - 1s 7ms/step - loss: 15.4466 - mape: 15.4466 - val_loss: 15.1213 - val_mape: 15.1213\n",
      "Epoch 174/200\n",
      "82/82 [==============================] - 0s 6ms/step - loss: 15.3462 - mape: 15.3462 - val_loss: 15.1875 - val_mape: 15.1875\n",
      "Epoch 175/200\n",
      "82/82 [==============================] - 1s 6ms/step - loss: 15.3929 - mape: 15.3929 - val_loss: 15.1463 - val_mape: 15.1463\n",
      "Epoch 176/200\n",
      "82/82 [==============================] - 1s 6ms/step - loss: 15.3656 - mape: 15.3656 - val_loss: 15.1916 - val_mape: 15.1916\n",
      "Epoch 177/200\n",
      "82/82 [==============================] - 1s 7ms/step - loss: 15.3563 - mape: 15.3563 - val_loss: 15.2091 - val_mape: 15.2091\n",
      "Epoch 178/200\n",
      "82/82 [==============================] - 1s 6ms/step - loss: 15.3606 - mape: 15.3606 - val_loss: 15.1052 - val_mape: 15.1052\n",
      "Epoch 179/200\n",
      "82/82 [==============================] - 1s 6ms/step - loss: 15.3370 - mape: 15.3370 - val_loss: 15.2551 - val_mape: 15.2551\n",
      "Epoch 180/200\n",
      "82/82 [==============================] - 1s 6ms/step - loss: 15.3840 - mape: 15.3840 - val_loss: 15.1058 - val_mape: 15.1058\n",
      "Epoch 181/200\n",
      "82/82 [==============================] - 1s 6ms/step - loss: 15.3536 - mape: 15.3536 - val_loss: 15.1432 - val_mape: 15.1432\n",
      "Epoch 182/200\n",
      "82/82 [==============================] - 1s 7ms/step - loss: 15.3541 - mape: 15.3541 - val_loss: 15.0937 - val_mape: 15.0937\n",
      "Epoch 183/200\n",
      "82/82 [==============================] - 1s 7ms/step - loss: 15.3906 - mape: 15.3906 - val_loss: 15.1069 - val_mape: 15.1069\n",
      "Epoch 184/200\n",
      "82/82 [==============================] - 1s 6ms/step - loss: 15.3374 - mape: 15.3374 - val_loss: 15.0873 - val_mape: 15.0873\n",
      "Epoch 185/200\n",
      "82/82 [==============================] - 1s 6ms/step - loss: 15.3312 - mape: 15.3312 - val_loss: 15.1445 - val_mape: 15.1445\n",
      "Epoch 186/200\n",
      "82/82 [==============================] - 1s 6ms/step - loss: 15.3249 - mape: 15.3249 - val_loss: 15.7019 - val_mape: 15.7019\n",
      "Epoch 187/200\n",
      "82/82 [==============================] - 1s 7ms/step - loss: 15.3810 - mape: 15.3810 - val_loss: 15.3154 - val_mape: 15.3154\n",
      "Epoch 188/200\n",
      "82/82 [==============================] - 1s 6ms/step - loss: 15.3499 - mape: 15.3499 - val_loss: 15.1146 - val_mape: 15.1146\n",
      "Epoch 189/200\n",
      "82/82 [==============================] - 1s 6ms/step - loss: 15.3047 - mape: 15.3047 - val_loss: 15.1265 - val_mape: 15.1265\n",
      "Epoch 190/200\n",
      "82/82 [==============================] - 1s 6ms/step - loss: 15.3479 - mape: 15.3479 - val_loss: 15.0891 - val_mape: 15.0891\n",
      "Epoch 191/200\n",
      "82/82 [==============================] - 1s 6ms/step - loss: 15.3084 - mape: 15.3084 - val_loss: 15.0724 - val_mape: 15.0724\n",
      "Epoch 192/200\n",
      "82/82 [==============================] - 0s 6ms/step - loss: 15.3437 - mape: 15.3437 - val_loss: 15.2327 - val_mape: 15.2327\n",
      "Epoch 193/200\n",
      "82/82 [==============================] - 1s 6ms/step - loss: 15.3288 - mape: 15.3288 - val_loss: 15.1078 - val_mape: 15.1078\n",
      "Epoch 194/200\n",
      "82/82 [==============================] - 1s 6ms/step - loss: 15.3366 - mape: 15.3366 - val_loss: 15.0847 - val_mape: 15.0847\n",
      "Epoch 195/200\n",
      "82/82 [==============================] - 1s 6ms/step - loss: 15.2937 - mape: 15.2937 - val_loss: 15.1047 - val_mape: 15.1047\n",
      "Epoch 196/200\n",
      "82/82 [==============================] - 1s 6ms/step - loss: 15.3271 - mape: 15.3271 - val_loss: 15.0672 - val_mape: 15.0672\n",
      "Epoch 197/200\n",
      "82/82 [==============================] - 0s 6ms/step - loss: 15.3101 - mape: 15.3101 - val_loss: 15.0975 - val_mape: 15.0975\n",
      "Epoch 198/200\n",
      "82/82 [==============================] - 1s 6ms/step - loss: 15.3225 - mape: 15.3225 - val_loss: 15.0897 - val_mape: 15.0897\n",
      "Epoch 199/200\n",
      "82/82 [==============================] - 1s 6ms/step - loss: 15.3431 - mape: 15.3431 - val_loss: 15.3056 - val_mape: 15.3056\n",
      "Epoch 200/200\n",
      "82/82 [==============================] - 1s 6ms/step - loss: 15.2963 - mape: 15.2963 - val_loss: 15.1198 - val_mape: 15.1198\n"
     ]
    }
   ],
   "source": [
    "model = Sequential()\n",
    "model.add(LSTM(128,activation='relu',input_dim = 12,return_sequences=True,recurrent_dropout=0.3))\n",
    "model.add(LSTM(32,activation='relu',recurrent_dropout=0.1))\n",
    "model.add(Dense(1,activation='linear'))\n",
    "ad=optimizers.Adam(learning_rate= 0.0001130320872076316)\n",
    "model.compile(optimizer = ad, loss = 'mape', metrics = ['mape'])\n",
    "model_history=model.fit(trainX, trainY,validation_data=(testX,testY), batch_size = 32, epochs = 200,callbacks=[EarlyStopping(monitor='val_loss', patience=140)])"
   ]
  },
  {
   "cell_type": "code",
   "execution_count": 82,
   "id": "77c05906",
   "metadata": {
    "id": "77c05906"
   },
   "outputs": [],
   "source": [
    "def model_loss(history):\n",
    "    plt.figure(figsize=(8,4))\n",
    "    plt.plot(history.history['loss'], label='Train Loss')\n",
    "    plt.plot(history.history['val_loss'], label='Test Loss')\n",
    "    plt.title('model loss')\n",
    "    plt.ylabel('loss')\n",
    "    plt.xlabel('epochs')\n",
    "    plt.legend(loc='upper right')\n",
    "    plt.show();"
   ]
  },
  {
   "cell_type": "code",
   "execution_count": 83,
   "id": "6vZ-AXOUurmJ",
   "metadata": {
    "id": "6vZ-AXOUurmJ"
   },
   "outputs": [],
   "source": [
    "train_score = model.evaluate(trainX, trainY,verbose=0)\n",
    "test_score = model.evaluate(testX, testY,verbose=0)"
   ]
  },
  {
   "cell_type": "code",
   "execution_count": 84,
   "id": "45a22c27",
   "metadata": {
    "colab": {
     "base_uri": "https://localhost:8080/",
     "height": 329
    },
    "id": "45a22c27",
    "outputId": "4afbd9a4-7bb8-4637-ba88-35603960d0a3"
   },
   "outputs": [
    {
     "name": "stdout",
     "output_type": "stream",
     "text": [
      "Train MAPE : 15.28 \n",
      "Test MAPE : 15.12 \n"
     ]
    },
    {
     "data": {
      "image/png": "[encoded data removed]",
      "text/plain": [
       "<Figure size 576x288 with 1 Axes>"
      ]
     },
     "metadata": {
      "needs_background": "light"
     },
     "output_type": "display_data"
    }
   ],
   "source": [
    "train_predict = model.predict(trainX)\n",
    "test_predict = model.predict(testX)\n",
    "\n",
    "# invert predictions\n",
    "train_predict = scaler.inverse_transform(train_predict)\n",
    "trainY = scaler.inverse_transform([trainY])\n",
    "test_predict = scaler.inverse_transform(test_predict)\n",
    "testY = scaler.inverse_transform([testY])\n",
    "print('Train MAPE : %.2f ' % (train_score[1]))\n",
    "print('Test MAPE : %.2f ' % (test_score[1]))\n",
    "model_loss(model_history)"
   ]
  },
  {
   "cell_type": "code",
   "execution_count": 44,
   "id": "dc942f74",
   "metadata": {
    "id": "dc942f74"
   },
   "outputs": [],
   "source": [
    "import seaborn as sns"
   ]
  },
  {
   "cell_type": "code",
   "execution_count": 85,
   "id": "dee9bab8",
   "metadata": {
    "id": "dee9bab8"
   },
   "outputs": [],
   "source": [
    "def prediction_plot(testY, test_predict,look_back):\n",
    "    len_prediction=[x for x in range(2616,2896)]\n",
    "    plt.plot(trainY.reshape(-1,))\n",
    "    plt.plot(len_prediction, testY.reshape(-1,), marker='.', label='actual')\n",
    "    plt.plot(len_prediction, test_predict, 'g', label=\"prediction\")\n",
    "    plt.tight_layout()\n",
    "    sns.despine(top=True)\n",
    "    plt.subplots_adjust(left=0.07)\n",
    "    plt.ylabel('Units', size=15)\n",
    "    plt.xlabel('Time step', size=15)\n",
    "    plt.legend(fontsize=15)\n",
    "    plt.show()"
   ]
  },
  {
   "cell_type": "code",
   "execution_count": 86,
   "id": "363040b5",
   "metadata": {
    "colab": {
     "base_uri": "https://localhost:8080/",
     "height": 604
    },
    "id": "363040b5",
    "outputId": "29614655-c287-4cad-9663-ac4494ef834f"
   },
   "outputs": [
    {
     "data": {
      "image/png": "[encoded data removed]",
      "text/plain": [
       "<Figure size 1080x576 with 1 Axes>"
      ]
     },
     "metadata": {
      "needs_background": "light"
     },
     "output_type": "display_data"
    }
   ],
   "source": [
    "test_predict = model.predict(testX)\n",
    "test_predict = scaler.inverse_transform(test_predict)\n",
    "prediction_plot(testY, test_predict,look_back)"
   ]
  },
  {
   "cell_type": "code",
   "execution_count": null,
   "id": "f8a7708c",
   "metadata": {
    "id": "f8a7708c"
   },
   "outputs": [],
   "source": []
  }
 ],
 "metadata": {
  "colab": {
   "collapsed_sections": [],
   "name": "daily_min_HPT_LSTM_version_4.ipynb",
   "provenance": []
  },
  "kernelspec": {
   "display_name": "Python 3",
   "language": "python",
   "name": "python3"
  },
  "language_info": {
   "codemirror_mode": {
    "name": "ipython",
    "version": 3
   },
   "file_extension": ".py",
   "mimetype": "text/x-python",
   "name": "python",
   "nbconvert_exporter": "python",
   "pygments_lexer": "ipython3",
   "version": "3.8.8"
  }
 },
 "nbformat": 4,
 "nbformat_minor": 5
}
