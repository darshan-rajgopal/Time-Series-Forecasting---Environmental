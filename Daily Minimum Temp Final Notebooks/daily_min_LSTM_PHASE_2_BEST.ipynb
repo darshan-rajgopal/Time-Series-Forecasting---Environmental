{
  "cells": [
    {
      "cell_type": "code",
      "execution_count": 1,
      "id": "c2ef9b47",
      "metadata": {
        "id": "c2ef9b47"
      },
      "outputs": [],
      "source": [
        "import numpy as np\n",
        "import pandas as pd\n",
        "from tensorflow.keras.models import Sequential\n",
        "from tensorflow.keras.layers import LSTM\n",
        "from tensorflow.keras.layers import Dense\n",
        "from tensorflow.keras.layers import Flatten\n",
        "import matplotlib.pyplot as plt\n",
        "import warnings\n",
        "warnings.filterwarnings('ignore')\n",
        "%matplotlib inline"
      ]
    },
    {
      "cell_type": "code",
      "execution_count": 2,
      "id": "iGQk9lcRmucZ",
      "metadata": {
        "colab": {
          "base_uri": "https://localhost:8080/"
        },
        "id": "iGQk9lcRmucZ",
        "outputId": "96ea5dfc-ed9b-4acf-b4f2-5c2128ebfac6"
      },
      "outputs": [
        {
          "output_type": "stream",
          "name": "stdout",
          "text": [
            "Mounted at /content/drive\n"
          ]
        }
      ],
      "source": [
        "from google.colab import drive\n",
        "drive.mount('/content/drive')"
      ]
    },
    {
      "cell_type": "code",
      "execution_count": null,
      "id": "BxDZtfokj6Da",
      "metadata": {
        "colab": {
          "base_uri": "https://localhost:8080/",
          "height": 35
        },
        "id": "BxDZtfokj6Da",
        "outputId": "b20dcdbd-c02a-48ad-a576-4ba9370acae1"
      },
      "outputs": [
        {
          "data": {
            "application/vnd.google.colaboratory.intrinsic+json": {
              "type": "string"
            },
            "text/plain": [
              "'/device:GPU:0'"
            ]
          },
          "execution_count": 5,
          "metadata": {},
          "output_type": "execute_result"
        }
      ],
      "source": [
        "import tensorflow as tf\n",
        "tf.test.gpu_device_name()"
      ]
    },
    {
      "cell_type": "code",
      "execution_count": null,
      "id": "UDt4KrAxj6JS",
      "metadata": {
        "colab": {
          "base_uri": "https://localhost:8080/"
        },
        "id": "UDt4KrAxj6JS",
        "outputId": "9d528187-3aea-4259-a635-0d1eddbc47d0"
      },
      "outputs": [
        {
          "data": {
            "text/plain": [
              "[name: \"/device:CPU:0\"\n",
              " device_type: \"CPU\"\n",
              " memory_limit: 268435456\n",
              " locality {\n",
              " }\n",
              " incarnation: 14494480343520806349\n",
              " xla_global_id: -1, name: \"/device:GPU:0\"\n",
              " device_type: \"GPU\"\n",
              " memory_limit: 11320098816\n",
              " locality {\n",
              "   bus_id: 1\n",
              "   links {\n",
              "   }\n",
              " }\n",
              " incarnation: 1229225032833911937\n",
              " physical_device_desc: \"device: 0, name: Tesla K80, pci bus id: 0000:00:04.0, compute capability: 3.7\"\n",
              " xla_global_id: 416903419]"
            ]
          },
          "execution_count": 6,
          "metadata": {},
          "output_type": "execute_result"
        }
      ],
      "source": [
        "from tensorflow.python.client import device_lib\n",
        "device_lib.list_local_devices()"
      ]
    },
    {
      "cell_type": "code",
      "execution_count": 3,
      "id": "30d066a0",
      "metadata": {
        "colab": {
          "base_uri": "https://localhost:8080/",
          "height": 206
        },
        "id": "30d066a0",
        "outputId": "e74dfa29-ce61-47a4-f0f0-4655157d56dd"
      },
      "outputs": [
        {
          "output_type": "execute_result",
          "data": {
            "text/plain": [
              "         Date  Temp\n",
              "0  01-01-1981  20.7\n",
              "1  02-01-1981  17.9\n",
              "2  03-01-1981  18.8\n",
              "3  04-01-1981  14.6\n",
              "4  05-01-1981  15.8"
            ],
            "text/html": [
              "\n",
              "  <div id=\"df-d650d888-fe02-406a-ba7d-203f4adce31f\">\n",
              "    <div class=\"colab-df-container\">\n",
              "      <div>\n",
              "<style scoped>\n",
              "    .dataframe tbody tr th:only-of-type {\n",
              "        vertical-align: middle;\n",
              "    }\n",
              "\n",
              "    .dataframe tbody tr th {\n",
              "        vertical-align: top;\n",
              "    }\n",
              "\n",
              "    .dataframe thead th {\n",
              "        text-align: right;\n",
              "    }\n",
              "</style>\n",
              "<table border=\"1\" class=\"dataframe\">\n",
              "  <thead>\n",
              "    <tr style=\"text-align: right;\">\n",
              "      <th></th>\n",
              "      <th>Date</th>\n",
              "      <th>Temp</th>\n",
              "    </tr>\n",
              "  </thead>\n",
              "  <tbody>\n",
              "    <tr>\n",
              "      <th>0</th>\n",
              "      <td>01-01-1981</td>\n",
              "      <td>20.7</td>\n",
              "    </tr>\n",
              "    <tr>\n",
              "      <th>1</th>\n",
              "      <td>02-01-1981</td>\n",
              "      <td>17.9</td>\n",
              "    </tr>\n",
              "    <tr>\n",
              "      <th>2</th>\n",
              "      <td>03-01-1981</td>\n",
              "      <td>18.8</td>\n",
              "    </tr>\n",
              "    <tr>\n",
              "      <th>3</th>\n",
              "      <td>04-01-1981</td>\n",
              "      <td>14.6</td>\n",
              "    </tr>\n",
              "    <tr>\n",
              "      <th>4</th>\n",
              "      <td>05-01-1981</td>\n",
              "      <td>15.8</td>\n",
              "    </tr>\n",
              "  </tbody>\n",
              "</table>\n",
              "</div>\n",
              "      <button class=\"colab-df-convert\" onclick=\"convertToInteractive('df-d650d888-fe02-406a-ba7d-203f4adce31f')\"\n",
              "              title=\"Convert this dataframe to an interactive table.\"\n",
              "              style=\"display:none;\">\n",
              "        \n",
              "  <svg xmlns=\"http://www.w3.org/2000/svg\" height=\"24px\"viewBox=\"0 0 24 24\"\n",
              "       width=\"24px\">\n",
              "    <path d=\"M0 0h24v24H0V0z\" fill=\"none\"/>\n",
              "    <path d=\"M18.56 5.44l.94 2.06.94-2.06 2.06-.94-2.06-.94-.94-2.06-.94 2.06-2.06.94zm-11 1L8.5 8.5l.94-2.06 2.06-.94-2.06-.94L8.5 2.5l-.94 2.06-2.06.94zm10 10l.94 2.06.94-2.06 2.06-.94-2.06-.94-.94-2.06-.94 2.06-2.06.94z\"/><path d=\"M17.41 7.96l-1.37-1.37c-.4-.4-.92-.59-1.43-.59-.52 0-1.04.2-1.43.59L10.3 9.45l-7.72 7.72c-.78.78-.78 2.05 0 2.83L4 21.41c.39.39.9.59 1.41.59.51 0 1.02-.2 1.41-.59l7.78-7.78 2.81-2.81c.8-.78.8-2.07 0-2.86zM5.41 20L4 18.59l7.72-7.72 1.47 1.35L5.41 20z\"/>\n",
              "  </svg>\n",
              "      </button>\n",
              "      \n",
              "  <style>\n",
              "    .colab-df-container {\n",
              "      display:flex;\n",
              "      flex-wrap:wrap;\n",
              "      gap: 12px;\n",
              "    }\n",
              "\n",
              "    .colab-df-convert {\n",
              "      background-color: #E8F0FE;\n",
              "      border: none;\n",
              "      border-radius: 50%;\n",
              "      cursor: pointer;\n",
              "      display: none;\n",
              "      fill: #1967D2;\n",
              "      height: 32px;\n",
              "      padding: 0 0 0 0;\n",
              "      width: 32px;\n",
              "    }\n",
              "\n",
              "    .colab-df-convert:hover {\n",
              "      background-color: #E2EBFA;\n",
              "      box-shadow: 0px 1px 2px rgba(60, 64, 67, 0.3), 0px 1px 3px 1px rgba(60, 64, 67, 0.15);\n",
              "      fill: #174EA6;\n",
              "    }\n",
              "\n",
              "    [theme=dark] .colab-df-convert {\n",
              "      background-color: #3B4455;\n",
              "      fill: #D2E3FC;\n",
              "    }\n",
              "\n",
              "    [theme=dark] .colab-df-convert:hover {\n",
              "      background-color: #434B5C;\n",
              "      box-shadow: 0px 1px 3px 1px rgba(0, 0, 0, 0.15);\n",
              "      filter: drop-shadow(0px 1px 2px rgba(0, 0, 0, 0.3));\n",
              "      fill: #FFFFFF;\n",
              "    }\n",
              "  </style>\n",
              "\n",
              "      <script>\n",
              "        const buttonEl =\n",
              "          document.querySelector('#df-d650d888-fe02-406a-ba7d-203f4adce31f button.colab-df-convert');\n",
              "        buttonEl.style.display =\n",
              "          google.colab.kernel.accessAllowed ? 'block' : 'none';\n",
              "\n",
              "        async function convertToInteractive(key) {\n",
              "          const element = document.querySelector('#df-d650d888-fe02-406a-ba7d-203f4adce31f');\n",
              "          const dataTable =\n",
              "            await google.colab.kernel.invokeFunction('convertToInteractive',\n",
              "                                                     [key], {});\n",
              "          if (!dataTable) return;\n",
              "\n",
              "          const docLinkHtml = 'Like what you see? Visit the ' +\n",
              "            '<a target=\"_blank\" href=https://colab.research.google.com/notebooks/data_table.ipynb>data table notebook</a>'\n",
              "            + ' to learn more about interactive tables.';\n",
              "          element.innerHTML = '';\n",
              "          dataTable['output_type'] = 'display_data';\n",
              "          await google.colab.output.renderOutput(dataTable, element);\n",
              "          const docLink = document.createElement('div');\n",
              "          docLink.innerHTML = docLinkHtml;\n",
              "          element.appendChild(docLink);\n",
              "        }\n",
              "      </script>\n",
              "    </div>\n",
              "  </div>\n",
              "  "
            ]
          },
          "metadata": {},
          "execution_count": 3
        }
      ],
      "source": [
        "df = pd.read_csv('/content/drive/MyDrive/Colab Notebooks/Environmental/Daily_Minimum_Temperatures.csv')\n",
        "df.head()"
      ]
    },
    {
      "cell_type": "code",
      "execution_count": 4,
      "id": "e2663bb4",
      "metadata": {
        "colab": {
          "base_uri": "https://localhost:8080/",
          "height": 206
        },
        "id": "e2663bb4",
        "outputId": "31a1f052-a536-474f-9e53-7b2425088633"
      },
      "outputs": [
        {
          "output_type": "execute_result",
          "data": {
            "text/plain": [
              "            Date  Temp\n",
              "2915  26-12-1988   9.5\n",
              "2916  27-12-1988  12.9\n",
              "2917  28-12-1988  12.9\n",
              "2918  29-12-1988  14.8\n",
              "2919  30-12-1988  14.1"
            ],
            "text/html": [
              "\n",
              "  <div id=\"df-311296f0-90f0-4b01-bb84-e0454b947a79\">\n",
              "    <div class=\"colab-df-container\">\n",
              "      <div>\n",
              "<style scoped>\n",
              "    .dataframe tbody tr th:only-of-type {\n",
              "        vertical-align: middle;\n",
              "    }\n",
              "\n",
              "    .dataframe tbody tr th {\n",
              "        vertical-align: top;\n",
              "    }\n",
              "\n",
              "    .dataframe thead th {\n",
              "        text-align: right;\n",
              "    }\n",
              "</style>\n",
              "<table border=\"1\" class=\"dataframe\">\n",
              "  <thead>\n",
              "    <tr style=\"text-align: right;\">\n",
              "      <th></th>\n",
              "      <th>Date</th>\n",
              "      <th>Temp</th>\n",
              "    </tr>\n",
              "  </thead>\n",
              "  <tbody>\n",
              "    <tr>\n",
              "      <th>2915</th>\n",
              "      <td>26-12-1988</td>\n",
              "      <td>9.5</td>\n",
              "    </tr>\n",
              "    <tr>\n",
              "      <th>2916</th>\n",
              "      <td>27-12-1988</td>\n",
              "      <td>12.9</td>\n",
              "    </tr>\n",
              "    <tr>\n",
              "      <th>2917</th>\n",
              "      <td>28-12-1988</td>\n",
              "      <td>12.9</td>\n",
              "    </tr>\n",
              "    <tr>\n",
              "      <th>2918</th>\n",
              "      <td>29-12-1988</td>\n",
              "      <td>14.8</td>\n",
              "    </tr>\n",
              "    <tr>\n",
              "      <th>2919</th>\n",
              "      <td>30-12-1988</td>\n",
              "      <td>14.1</td>\n",
              "    </tr>\n",
              "  </tbody>\n",
              "</table>\n",
              "</div>\n",
              "      <button class=\"colab-df-convert\" onclick=\"convertToInteractive('df-311296f0-90f0-4b01-bb84-e0454b947a79')\"\n",
              "              title=\"Convert this dataframe to an interactive table.\"\n",
              "              style=\"display:none;\">\n",
              "        \n",
              "  <svg xmlns=\"http://www.w3.org/2000/svg\" height=\"24px\"viewBox=\"0 0 24 24\"\n",
              "       width=\"24px\">\n",
              "    <path d=\"M0 0h24v24H0V0z\" fill=\"none\"/>\n",
              "    <path d=\"M18.56 5.44l.94 2.06.94-2.06 2.06-.94-2.06-.94-.94-2.06-.94 2.06-2.06.94zm-11 1L8.5 8.5l.94-2.06 2.06-.94-2.06-.94L8.5 2.5l-.94 2.06-2.06.94zm10 10l.94 2.06.94-2.06 2.06-.94-2.06-.94-.94-2.06-.94 2.06-2.06.94z\"/><path d=\"M17.41 7.96l-1.37-1.37c-.4-.4-.92-.59-1.43-.59-.52 0-1.04.2-1.43.59L10.3 9.45l-7.72 7.72c-.78.78-.78 2.05 0 2.83L4 21.41c.39.39.9.59 1.41.59.51 0 1.02-.2 1.41-.59l7.78-7.78 2.81-2.81c.8-.78.8-2.07 0-2.86zM5.41 20L4 18.59l7.72-7.72 1.47 1.35L5.41 20z\"/>\n",
              "  </svg>\n",
              "      </button>\n",
              "      \n",
              "  <style>\n",
              "    .colab-df-container {\n",
              "      display:flex;\n",
              "      flex-wrap:wrap;\n",
              "      gap: 12px;\n",
              "    }\n",
              "\n",
              "    .colab-df-convert {\n",
              "      background-color: #E8F0FE;\n",
              "      border: none;\n",
              "      border-radius: 50%;\n",
              "      cursor: pointer;\n",
              "      display: none;\n",
              "      fill: #1967D2;\n",
              "      height: 32px;\n",
              "      padding: 0 0 0 0;\n",
              "      width: 32px;\n",
              "    }\n",
              "\n",
              "    .colab-df-convert:hover {\n",
              "      background-color: #E2EBFA;\n",
              "      box-shadow: 0px 1px 2px rgba(60, 64, 67, 0.3), 0px 1px 3px 1px rgba(60, 64, 67, 0.15);\n",
              "      fill: #174EA6;\n",
              "    }\n",
              "\n",
              "    [theme=dark] .colab-df-convert {\n",
              "      background-color: #3B4455;\n",
              "      fill: #D2E3FC;\n",
              "    }\n",
              "\n",
              "    [theme=dark] .colab-df-convert:hover {\n",
              "      background-color: #434B5C;\n",
              "      box-shadow: 0px 1px 3px 1px rgba(0, 0, 0, 0.15);\n",
              "      filter: drop-shadow(0px 1px 2px rgba(0, 0, 0, 0.3));\n",
              "      fill: #FFFFFF;\n",
              "    }\n",
              "  </style>\n",
              "\n",
              "      <script>\n",
              "        const buttonEl =\n",
              "          document.querySelector('#df-311296f0-90f0-4b01-bb84-e0454b947a79 button.colab-df-convert');\n",
              "        buttonEl.style.display =\n",
              "          google.colab.kernel.accessAllowed ? 'block' : 'none';\n",
              "\n",
              "        async function convertToInteractive(key) {\n",
              "          const element = document.querySelector('#df-311296f0-90f0-4b01-bb84-e0454b947a79');\n",
              "          const dataTable =\n",
              "            await google.colab.kernel.invokeFunction('convertToInteractive',\n",
              "                                                     [key], {});\n",
              "          if (!dataTable) return;\n",
              "\n",
              "          const docLinkHtml = 'Like what you see? Visit the ' +\n",
              "            '<a target=\"_blank\" href=https://colab.research.google.com/notebooks/data_table.ipynb>data table notebook</a>'\n",
              "            + ' to learn more about interactive tables.';\n",
              "          element.innerHTML = '';\n",
              "          dataTable['output_type'] = 'display_data';\n",
              "          await google.colab.output.renderOutput(dataTable, element);\n",
              "          const docLink = document.createElement('div');\n",
              "          docLink.innerHTML = docLinkHtml;\n",
              "          element.appendChild(docLink);\n",
              "        }\n",
              "      </script>\n",
              "    </div>\n",
              "  </div>\n",
              "  "
            ]
          },
          "metadata": {},
          "execution_count": 4
        }
      ],
      "source": [
        "df.tail()"
      ]
    },
    {
      "cell_type": "code",
      "execution_count": null,
      "id": "0482272d",
      "metadata": {
        "colab": {
          "base_uri": "https://localhost:8080/"
        },
        "id": "0482272d",
        "outputId": "66ec37cb-9ce4-4311-904e-b5d692fb9711"
      },
      "outputs": [
        {
          "data": {
            "text/plain": [
              "(2920, 2)"
            ]
          },
          "execution_count": 10,
          "metadata": {},
          "output_type": "execute_result"
        }
      ],
      "source": [
        "df.shape"
      ]
    },
    {
      "cell_type": "code",
      "execution_count": null,
      "id": "076f1ad3",
      "metadata": {
        "colab": {
          "base_uri": "https://localhost:8080/"
        },
        "id": "076f1ad3",
        "outputId": "178c5cd7-5a1a-477c-994d-13f1a6dd6afa"
      },
      "outputs": [
        {
          "name": "stdout",
          "output_type": "stream",
          "text": [
            "<class 'pandas.core.frame.DataFrame'>\n",
            "RangeIndex: 2920 entries, 0 to 2919\n",
            "Data columns (total 2 columns):\n",
            " #   Column  Non-Null Count  Dtype  \n",
            "---  ------  --------------  -----  \n",
            " 0   Date    2920 non-null   object \n",
            " 1   Temp    2920 non-null   float64\n",
            "dtypes: float64(1), object(1)\n",
            "memory usage: 45.8+ KB\n"
          ]
        }
      ],
      "source": [
        "df.info()"
      ]
    },
    {
      "cell_type": "code",
      "execution_count": 5,
      "id": "jLgRGWAPyy7Q",
      "metadata": {
        "id": "jLgRGWAPyy7Q"
      },
      "outputs": [],
      "source": [
        "time = pd.date_range(start='1/1/1981',periods=2920,freq='D')\n",
        "df['time_stamp'] = pd.DataFrame(time)\n",
        "df.drop(['Date'],axis=1,inplace=True)\n",
        "df = df.set_index('time_stamp')"
      ]
    },
    {
      "cell_type": "code",
      "execution_count": null,
      "id": "D2Szvn_Jyy9y",
      "metadata": {
        "colab": {
          "base_uri": "https://localhost:8080/"
        },
        "id": "D2Szvn_Jyy9y",
        "outputId": "b5fd6a37-c068-4a8f-8012-91b5f7e33d40"
      },
      "outputs": [
        {
          "output_type": "execute_result",
          "data": {
            "text/plain": [
              "Temp    0.0\n",
              "dtype: float64"
            ]
          },
          "metadata": {},
          "execution_count": 6
        }
      ],
      "source": [
        "df.min()"
      ]
    },
    {
      "cell_type": "code",
      "execution_count": 6,
      "id": "Z5G4wFuFzBQT",
      "metadata": {
        "id": "Z5G4wFuFzBQT"
      },
      "outputs": [],
      "source": [
        "df = df + 1"
      ]
    },
    {
      "cell_type": "code",
      "execution_count": 7,
      "id": "yBDUaFhPzMMb",
      "metadata": {
        "id": "yBDUaFhPzMMb"
      },
      "outputs": [],
      "source": [
        "plt.rcParams['figure.figsize'] = [15,8]"
      ]
    },
    {
      "cell_type": "code",
      "execution_count": 8,
      "id": "cIgSM89EzBTw",
      "metadata": {
        "colab": {
          "base_uri": "https://localhost:8080/",
          "height": 523
        },
        "id": "cIgSM89EzBTw",
        "outputId": "97ebdd01-23dd-4eeb-ee39-8b89417cc63f"
      },
      "outputs": [
        {
          "output_type": "display_data",
          "data": {
            "text/plain": [
              "<Figure size 1080x576 with 1 Axes>"
            ],
            "image/png": "[encoded data removed]"
          },
          "metadata": {
            "needs_background": "light"
          }
        }
      ],
      "source": [
        "plt.plot(df,color='green')\n",
        "plt.title('Daily Minimum Temperature',fontsize=20)\n",
        "plt.xlabel('Date',fontsize=15)\n",
        "plt.ylabel('Units',fontsize=15)\n",
        "plt.show()"
      ]
    },
    {
      "cell_type": "code",
      "execution_count": 9,
      "id": "bf59d3e0",
      "metadata": {
        "id": "bf59d3e0"
      },
      "outputs": [],
      "source": [
        "def convert2matrix(data_arr, look_back):\n",
        "    X, Y =[], []\n",
        "    for i in range(len(data_arr)-look_back):\n",
        "        d=i+look_back  \n",
        "        X.append(data_arr[i:d,0])\n",
        "        Y.append(data_arr[d,0])\n",
        "    return np.array(X), np.array(Y)"
      ]
    },
    {
      "cell_type": "code",
      "execution_count": 10,
      "id": "5CBL1GHqurmE",
      "metadata": {
        "id": "5CBL1GHqurmE"
      },
      "outputs": [],
      "source": [
        "from sklearn.preprocessing import MinMaxScaler\n",
        "#create numpy.ndarray \n",
        "df['Temp'] = df['Temp'].astype(np.float32)\n",
        "df_arr = df.values\n",
        "df_arr = np.reshape(df_arr, (-1, 1))\n",
        "scaler = MinMaxScaler(feature_range=(0.1, 1))\n",
        "df_arr = scaler.fit_transform(df_arr)"
      ]
    },
    {
      "cell_type": "code",
      "execution_count": 11,
      "id": "1cea6c5f",
      "metadata": {
        "id": "1cea6c5f"
      },
      "outputs": [],
      "source": [
        "#Split data set into testing dataset and train dataset\n",
        "train_size = 2625\n",
        "train, test =df_arr[0:train_size,:], df_arr[train_size:len(df_arr),:]\n",
        "# setup look_back window \n",
        "look_back = 3\n",
        "#convert dataset into right shape in order to input into the DNN\n",
        "trainX, trainY = convert2matrix(train, look_back)\n",
        "testX, testY = convert2matrix(test, look_back)\n",
        "trainX = np.reshape(trainX, (trainX.shape[0], 1, trainX.shape[1]))\n",
        "testX = np.reshape(testX, (testX.shape[0], 1, testX.shape[1]))"
      ]
    },
    {
      "cell_type": "code",
      "execution_count": 12,
      "id": "c7d46c39",
      "metadata": {
        "colab": {
          "base_uri": "https://localhost:8080/"
        },
        "id": "c7d46c39",
        "outputId": "81dacabe-ef51-4722-c835-e8d3674604bb"
      },
      "outputs": [
        {
          "output_type": "stream",
          "name": "stdout",
          "text": [
            "(2622, 1, 3)\n",
            "(2622,)\n",
            "(292, 1, 3)\n",
            "(292,)\n"
          ]
        }
      ],
      "source": [
        "print(trainX.shape)\n",
        "print(trainY.shape)\n",
        "print(testX.shape)\n",
        "print(testY.shape)"
      ]
    },
    {
      "cell_type": "code",
      "execution_count": 14,
      "id": "GIc1nRcCuP3G",
      "metadata": {
        "id": "GIc1nRcCuP3G",
        "colab": {
          "base_uri": "https://localhost:8080/"
        },
        "outputId": "d92ded7c-1f56-442d-d6c8-84916c880681"
      },
      "outputs": [
        {
          "output_type": "stream",
          "name": "stdout",
          "text": [
            "\u001b[?25l\r\u001b[K     |██▌                             | 10 kB 27.7 MB/s eta 0:00:01\r\u001b[K     |█████                           | 20 kB 33.0 MB/s eta 0:00:01\r\u001b[K     |███████▍                        | 30 kB 37.3 MB/s eta 0:00:01\r\u001b[K     |█████████▉                      | 40 kB 29.3 MB/s eta 0:00:01\r\u001b[K     |████████████▎                   | 51 kB 19.9 MB/s eta 0:00:01\r\u001b[K     |██████████████▊                 | 61 kB 22.3 MB/s eta 0:00:01\r\u001b[K     |█████████████████▏              | 71 kB 23.8 MB/s eta 0:00:01\r\u001b[K     |███████████████████▋            | 81 kB 24.7 MB/s eta 0:00:01\r\u001b[K     |██████████████████████          | 92 kB 26.7 MB/s eta 0:00:01\r\u001b[K     |████████████████████████▌       | 102 kB 27.6 MB/s eta 0:00:01\r\u001b[K     |███████████████████████████     | 112 kB 27.6 MB/s eta 0:00:01\r\u001b[K     |█████████████████████████████▍  | 122 kB 27.6 MB/s eta 0:00:01\r\u001b[K     |███████████████████████████████▉| 133 kB 27.6 MB/s eta 0:00:01\r\u001b[K     |████████████████████████████████| 133 kB 27.6 MB/s \n",
            "\u001b[?25h"
          ]
        }
      ],
      "source": [
        "!pip install -q -U keras-tuner"
      ]
    },
    {
      "cell_type": "code",
      "execution_count": 15,
      "id": "M5te5ih0uP6u",
      "metadata": {
        "id": "M5te5ih0uP6u"
      },
      "outputs": [],
      "source": [
        "import pandas as pd\n",
        "from tensorflow import keras\n",
        "from tensorflow.keras import layers\n",
        "from keras_tuner.tuners import RandomSearch\n",
        "from tensorflow.keras.models import Sequential\n",
        "from tensorflow.keras.layers import LSTM\n",
        "from tensorflow.keras.layers import Dense,Dropout,SimpleRNN\n",
        "from tensorflow.keras.layers import Flatten\n",
        "import matplotlib.pyplot as plt"
      ]
    },
    {
      "cell_type": "code",
      "execution_count": null,
      "id": "rYiJC5hXuP_e",
      "metadata": {
        "id": "rYiJC5hXuP_e"
      },
      "outputs": [],
      "source": [
        "def build_model(hp):\n",
        "    model = keras.Sequential()\n",
        "    model.add(LSTM(hp.Int('rnn_layer',min_value=4,max_value=96,step=4), activation=\"relu\",input_shape=(1,look_back),recurrent_dropout = hp.Choice(\"first_recurrent_dropout\",[0.1,0.2,0.3],default=0.2)))\n",
        "    model.add(Dense(hp.Int('dense_layer',min_value=4,max_value=96,step=4),activation=\"relu\"))\n",
        "    model.add(Dropout(hp.Float('Dropout_rate',min_value=0,max_value=0.5,step=0.1)))\n",
        "    model.add(layers.Dense(1, activation='linear'))\n",
        "    model.compile(\n",
        "        optimizer=keras.optimizers.Adam(\n",
        "             hp.Float('learning_rate', min_value=1e-4, max_value=1e-1, sampling=\"log\")),\n",
        "        loss='mape',\n",
        "        metrics=['mape'])\n",
        "    return model"
      ]
    },
    {
      "cell_type": "code",
      "execution_count": null,
      "id": "2h_gRerjuQCT",
      "metadata": {
        "id": "2h_gRerjuQCT"
      },
      "outputs": [],
      "source": [
        "tuner = RandomSearch(\n",
        "    build_model,\n",
        "    objective='val_mape',\n",
        "    max_trials=10,\n",
        "    executions_per_trial=1,\n",
        "    directory='project',\n",
        "    project_name='loa_em_1')"
      ]
    },
    {
      "cell_type": "code",
      "execution_count": null,
      "id": "Dg5AHN3guQFu",
      "metadata": {
        "colab": {
          "base_uri": "https://localhost:8080/"
        },
        "id": "Dg5AHN3guQFu",
        "outputId": "9344070e-13cf-419b-8bff-c0f02d2fdd2d"
      },
      "outputs": [
        {
          "output_type": "stream",
          "name": "stdout",
          "text": [
            "Search space summary\n",
            "Default search space size: 5\n",
            "rnn_layer (Int)\n",
            "{'default': None, 'conditions': [], 'min_value': 4, 'max_value': 96, 'step': 4, 'sampling': None}\n",
            "first_recurrent_dropout (Choice)\n",
            "{'default': 0.2, 'conditions': [], 'values': [0.1, 0.2, 0.3], 'ordered': True}\n",
            "dense_layer (Int)\n",
            "{'default': None, 'conditions': [], 'min_value': 4, 'max_value': 96, 'step': 4, 'sampling': None}\n",
            "Dropout_rate (Float)\n",
            "{'default': 0.0, 'conditions': [], 'min_value': 0.0, 'max_value': 0.5, 'step': 0.1, 'sampling': None}\n",
            "learning_rate (Float)\n",
            "{'default': 0.0001, 'conditions': [], 'min_value': 0.0001, 'max_value': 0.1, 'step': None, 'sampling': 'log'}\n"
          ]
        }
      ],
      "source": [
        "tuner.search_space_summary()"
      ]
    },
    {
      "cell_type": "code",
      "execution_count": null,
      "id": "TiBXdF0K8Gpr",
      "metadata": {
        "colab": {
          "base_uri": "https://localhost:8080/"
        },
        "id": "TiBXdF0K8Gpr",
        "outputId": "4e491eab-a8c2-4b81-eaca-d52f9352412e"
      },
      "outputs": [
        {
          "output_type": "stream",
          "name": "stdout",
          "text": [
            "Trial 10 Complete [00h 01m 00s]\n",
            "val_mape: 14.800355911254883\n",
            "\n",
            "Best val_mape So Far: 14.800355911254883\n",
            "Total elapsed time: 00h 12m 07s\n",
            "INFO:tensorflow:Oracle triggered exit\n"
          ]
        }
      ],
      "source": [
        "tuner.search(trainX, trainY,\n",
        "             epochs=200,\n",
        "             batch_size=32,\n",
        "             validation_data=(testX, testY))"
      ]
    },
    {
      "cell_type": "code",
      "execution_count": null,
      "id": "VXXGH_RK8GsD",
      "metadata": {
        "colab": {
          "base_uri": "https://localhost:8080/"
        },
        "id": "VXXGH_RK8GsD",
        "outputId": "63f73cb3-5042-4e9a-a808-8f300ac967fd"
      },
      "outputs": [
        {
          "output_type": "stream",
          "name": "stdout",
          "text": [
            "Results summary\n",
            "Results in project/loa_em_1\n",
            "Showing 10 best trials\n",
            "Objective(name='val_mape', direction='min')\n",
            "Trial summary\n",
            "Hyperparameters:\n",
            "rnn_layer: 60\n",
            "first_recurrent_dropout: 0.2\n",
            "dense_layer: 44\n",
            "Dropout_rate: 0.30000000000000004\n",
            "learning_rate: 0.0007130320872076316\n",
            "Score: 14.800355911254883\n",
            "Trial summary\n",
            "Hyperparameters:\n",
            "rnn_layer: 28\n",
            "first_recurrent_dropout: 0.1\n",
            "dense_layer: 84\n",
            "Dropout_rate: 0.5\n",
            "learning_rate: 0.0006314363630459197\n",
            "Score: 14.823513984680176\n",
            "Trial summary\n",
            "Hyperparameters:\n",
            "rnn_layer: 84\n",
            "first_recurrent_dropout: 0.3\n",
            "dense_layer: 48\n",
            "Dropout_rate: 0.1\n",
            "learning_rate: 0.0008451537528325535\n",
            "Score: 14.851983070373535\n",
            "Trial summary\n",
            "Hyperparameters:\n",
            "rnn_layer: 28\n",
            "first_recurrent_dropout: 0.2\n",
            "dense_layer: 12\n",
            "Dropout_rate: 0.2\n",
            "learning_rate: 0.0012526626350960555\n",
            "Score: 14.934165954589844\n",
            "Trial summary\n",
            "Hyperparameters:\n",
            "rnn_layer: 40\n",
            "first_recurrent_dropout: 0.3\n",
            "dense_layer: 20\n",
            "Dropout_rate: 0.1\n",
            "learning_rate: 0.0002182433505738606\n",
            "Score: 14.965188980102539\n",
            "Trial summary\n",
            "Hyperparameters:\n",
            "rnn_layer: 76\n",
            "first_recurrent_dropout: 0.1\n",
            "dense_layer: 28\n",
            "Dropout_rate: 0.1\n",
            "learning_rate: 0.005592893488446031\n",
            "Score: 15.003710746765137\n",
            "Trial summary\n",
            "Hyperparameters:\n",
            "rnn_layer: 92\n",
            "first_recurrent_dropout: 0.1\n",
            "dense_layer: 76\n",
            "Dropout_rate: 0.1\n",
            "learning_rate: 0.000254443997044843\n",
            "Score: 15.018628120422363\n",
            "Trial summary\n",
            "Hyperparameters:\n",
            "rnn_layer: 12\n",
            "first_recurrent_dropout: 0.1\n",
            "dense_layer: 52\n",
            "Dropout_rate: 0.0\n",
            "learning_rate: 0.0005236421701868515\n",
            "Score: 15.029387474060059\n",
            "Trial summary\n",
            "Hyperparameters:\n",
            "rnn_layer: 40\n",
            "first_recurrent_dropout: 0.3\n",
            "dense_layer: 68\n",
            "Dropout_rate: 0.30000000000000004\n",
            "learning_rate: 0.00015402605993744176\n",
            "Score: 15.088098526000977\n",
            "Trial summary\n",
            "Hyperparameters:\n",
            "rnn_layer: 8\n",
            "first_recurrent_dropout: 0.1\n",
            "dense_layer: 28\n",
            "Dropout_rate: 0.2\n",
            "learning_rate: 0.008514542675036612\n",
            "Score: 15.096012115478516\n"
          ]
        }
      ],
      "source": [
        "tuner.results_summary()"
      ]
    },
    {
      "cell_type": "code",
      "execution_count": null,
      "id": "FBpLenJ_DZMX",
      "metadata": {
        "id": "FBpLenJ_DZMX"
      },
      "outputs": [],
      "source": [
        "from warnings import filterwarnings\n",
        "filterwarnings('ignore')"
      ]
    },
    {
      "cell_type": "code",
      "execution_count": null,
      "id": "eL-a8rAv8Gvg",
      "metadata": {
        "colab": {
          "base_uri": "https://localhost:8080/"
        },
        "id": "eL-a8rAv8Gvg",
        "outputId": "d6cc4d30-0ded-4015-e0e4-983829405a6f"
      },
      "outputs": [
        {
          "output_type": "stream",
          "name": "stdout",
          "text": [
            "Model: \"sequential\"\n",
            "_________________________________________________________________\n",
            " Layer (type)                Output Shape              Param #   \n",
            "=================================================================\n",
            " lstm (LSTM)                 (None, 60)                17520     \n",
            "                                                                 \n",
            " dense (Dense)               (None, 44)                2684      \n",
            "                                                                 \n",
            " dropout (Dropout)           (None, 44)                0         \n",
            "                                                                 \n",
            " dense_1 (Dense)             (None, 1)                 45        \n",
            "                                                                 \n",
            "=================================================================\n",
            "Total params: 20,249\n",
            "Trainable params: 20,249\n",
            "Non-trainable params: 0\n",
            "_________________________________________________________________\n"
          ]
        }
      ],
      "source": [
        "models = tuner.get_best_models(num_models=2)\n",
        "best_model = models[0]\n",
        "# Build the model.\n",
        "# Needed for `Sequential` without specified `input_shape`.\n",
        "best_model.build(input_shape=(None, 12))\n",
        "best_model.summary()"
      ]
    },
    {
      "cell_type": "code",
      "execution_count": 16,
      "id": "ovKDjDHZEmLV",
      "metadata": {
        "id": "ovKDjDHZEmLV"
      },
      "outputs": [],
      "source": [
        "from tensorflow.keras import optimizers\n",
        "from tensorflow.keras.callbacks import EarlyStopping\n",
        "from tensorflow.keras.layers import Bidirectional"
      ]
    },
    {
      "cell_type": "code",
      "execution_count": 17,
      "id": "0e187ddc",
      "metadata": {
        "colab": {
          "base_uri": "https://localhost:8080/"
        },
        "id": "0e187ddc",
        "outputId": "f0eded6a-3f81-4baa-92d3-ae4e0ba25806"
      },
      "outputs": [
        {
          "output_type": "stream",
          "name": "stdout",
          "text": [
            "Epoch 1/200\n",
            "82/82 [==============================] - 11s 19ms/step - loss: 95.7995 - mape: 95.7995 - val_loss: 91.7367 - val_mape: 91.7367\n",
            "Epoch 2/200\n",
            "82/82 [==============================] - 0s 6ms/step - loss: 85.5393 - mape: 85.5393 - val_loss: 78.7912 - val_mape: 78.7912\n",
            "Epoch 3/200\n",
            "82/82 [==============================] - 0s 6ms/step - loss: 67.9408 - mape: 67.9408 - val_loss: 56.1534 - val_mape: 56.1534\n",
            "Epoch 4/200\n",
            "82/82 [==============================] - 0s 6ms/step - loss: 39.6325 - mape: 39.6325 - val_loss: 23.1660 - val_mape: 23.1660\n",
            "Epoch 5/200\n",
            "82/82 [==============================] - 0s 6ms/step - loss: 19.3317 - mape: 19.3317 - val_loss: 16.6429 - val_mape: 16.6429\n",
            "Epoch 6/200\n",
            "82/82 [==============================] - 0s 5ms/step - loss: 18.1896 - mape: 18.1896 - val_loss: 16.5911 - val_mape: 16.5911\n",
            "Epoch 7/200\n",
            "82/82 [==============================] - 0s 5ms/step - loss: 18.0667 - mape: 18.0667 - val_loss: 16.5683 - val_mape: 16.5683\n",
            "Epoch 8/200\n",
            "82/82 [==============================] - 0s 5ms/step - loss: 17.9766 - mape: 17.9766 - val_loss: 16.6416 - val_mape: 16.6416\n",
            "Epoch 9/200\n",
            "82/82 [==============================] - 0s 5ms/step - loss: 17.8852 - mape: 17.8852 - val_loss: 16.4834 - val_mape: 16.4834\n",
            "Epoch 10/200\n",
            "82/82 [==============================] - 0s 6ms/step - loss: 17.7802 - mape: 17.7802 - val_loss: 16.4216 - val_mape: 16.4216\n",
            "Epoch 11/200\n",
            "82/82 [==============================] - 1s 6ms/step - loss: 17.6453 - mape: 17.6453 - val_loss: 16.4626 - val_mape: 16.4626\n",
            "Epoch 12/200\n",
            "82/82 [==============================] - 0s 6ms/step - loss: 17.5568 - mape: 17.5568 - val_loss: 16.4812 - val_mape: 16.4812\n",
            "Epoch 13/200\n",
            "82/82 [==============================] - 0s 5ms/step - loss: 17.4697 - mape: 17.4697 - val_loss: 16.3013 - val_mape: 16.3013\n",
            "Epoch 14/200\n",
            "82/82 [==============================] - 0s 5ms/step - loss: 17.4080 - mape: 17.4080 - val_loss: 16.2891 - val_mape: 16.2891\n",
            "Epoch 15/200\n",
            "82/82 [==============================] - 0s 5ms/step - loss: 17.3178 - mape: 17.3178 - val_loss: 16.4573 - val_mape: 16.4573\n",
            "Epoch 16/200\n",
            "82/82 [==============================] - 0s 6ms/step - loss: 17.2895 - mape: 17.2895 - val_loss: 16.2001 - val_mape: 16.2001\n",
            "Epoch 17/200\n",
            "82/82 [==============================] - 0s 6ms/step - loss: 17.1801 - mape: 17.1801 - val_loss: 16.1983 - val_mape: 16.1983\n",
            "Epoch 18/200\n",
            "82/82 [==============================] - 1s 6ms/step - loss: 17.1194 - mape: 17.1194 - val_loss: 16.1116 - val_mape: 16.1116\n",
            "Epoch 19/200\n",
            "82/82 [==============================] - 0s 6ms/step - loss: 17.0742 - mape: 17.0742 - val_loss: 16.1170 - val_mape: 16.1170\n",
            "Epoch 20/200\n",
            "82/82 [==============================] - 0s 6ms/step - loss: 17.0106 - mape: 17.0106 - val_loss: 16.0585 - val_mape: 16.0585\n",
            "Epoch 21/200\n",
            "82/82 [==============================] - 0s 5ms/step - loss: 16.9905 - mape: 16.9905 - val_loss: 16.1465 - val_mape: 16.1465\n",
            "Epoch 22/200\n",
            "82/82 [==============================] - 1s 6ms/step - loss: 16.9461 - mape: 16.9461 - val_loss: 16.0476 - val_mape: 16.0476\n",
            "Epoch 23/200\n",
            "82/82 [==============================] - 1s 6ms/step - loss: 16.8846 - mape: 16.8846 - val_loss: 16.0344 - val_mape: 16.0344\n",
            "Epoch 24/200\n",
            "82/82 [==============================] - 1s 6ms/step - loss: 16.9171 - mape: 16.9171 - val_loss: 15.9303 - val_mape: 15.9303\n",
            "Epoch 25/200\n",
            "82/82 [==============================] - 1s 6ms/step - loss: 16.8110 - mape: 16.8110 - val_loss: 15.9467 - val_mape: 15.9467\n",
            "Epoch 26/200\n",
            "82/82 [==============================] - 0s 5ms/step - loss: 16.7610 - mape: 16.7610 - val_loss: 15.8841 - val_mape: 15.8841\n",
            "Epoch 27/200\n",
            "82/82 [==============================] - 0s 6ms/step - loss: 16.7628 - mape: 16.7628 - val_loss: 15.8691 - val_mape: 15.8691\n",
            "Epoch 28/200\n",
            "82/82 [==============================] - 0s 6ms/step - loss: 16.7224 - mape: 16.7224 - val_loss: 15.9175 - val_mape: 15.9175\n",
            "Epoch 29/200\n",
            "82/82 [==============================] - 0s 6ms/step - loss: 16.7000 - mape: 16.7000 - val_loss: 15.8352 - val_mape: 15.8352\n",
            "Epoch 30/200\n",
            "82/82 [==============================] - 0s 6ms/step - loss: 16.6363 - mape: 16.6363 - val_loss: 15.7940 - val_mape: 15.7940\n",
            "Epoch 31/200\n",
            "82/82 [==============================] - 0s 5ms/step - loss: 16.6152 - mape: 16.6152 - val_loss: 15.7611 - val_mape: 15.7611\n",
            "Epoch 32/200\n",
            "82/82 [==============================] - 0s 6ms/step - loss: 16.5947 - mape: 16.5947 - val_loss: 15.8418 - val_mape: 15.8418\n",
            "Epoch 33/200\n",
            "82/82 [==============================] - 0s 6ms/step - loss: 16.5713 - mape: 16.5713 - val_loss: 15.7471 - val_mape: 15.7471\n",
            "Epoch 34/200\n",
            "82/82 [==============================] - 0s 6ms/step - loss: 16.5308 - mape: 16.5308 - val_loss: 15.7275 - val_mape: 15.7275\n",
            "Epoch 35/200\n",
            "82/82 [==============================] - 0s 5ms/step - loss: 16.5107 - mape: 16.5107 - val_loss: 15.6929 - val_mape: 15.6929\n",
            "Epoch 36/200\n",
            "82/82 [==============================] - 0s 6ms/step - loss: 16.4865 - mape: 16.4865 - val_loss: 15.7220 - val_mape: 15.7220\n",
            "Epoch 37/200\n",
            "82/82 [==============================] - 0s 6ms/step - loss: 16.4701 - mape: 16.4701 - val_loss: 15.6355 - val_mape: 15.6355\n",
            "Epoch 38/200\n",
            "82/82 [==============================] - 0s 5ms/step - loss: 16.4818 - mape: 16.4818 - val_loss: 15.6158 - val_mape: 15.6158\n",
            "Epoch 39/200\n",
            "82/82 [==============================] - 1s 6ms/step - loss: 16.4152 - mape: 16.4152 - val_loss: 15.6025 - val_mape: 15.6025\n",
            "Epoch 40/200\n",
            "82/82 [==============================] - 1s 6ms/step - loss: 16.4096 - mape: 16.4096 - val_loss: 15.8999 - val_mape: 15.8999\n",
            "Epoch 41/200\n",
            "82/82 [==============================] - 0s 5ms/step - loss: 16.4156 - mape: 16.4156 - val_loss: 15.5961 - val_mape: 15.5961\n",
            "Epoch 42/200\n",
            "82/82 [==============================] - 0s 6ms/step - loss: 16.3748 - mape: 16.3748 - val_loss: 15.5718 - val_mape: 15.5718\n",
            "Epoch 43/200\n",
            "82/82 [==============================] - 0s 6ms/step - loss: 16.3570 - mape: 16.3570 - val_loss: 15.6522 - val_mape: 15.6522\n",
            "Epoch 44/200\n",
            "82/82 [==============================] - 0s 6ms/step - loss: 16.3379 - mape: 16.3379 - val_loss: 15.7566 - val_mape: 15.7566\n",
            "Epoch 45/200\n",
            "82/82 [==============================] - 0s 5ms/step - loss: 16.3530 - mape: 16.3530 - val_loss: 15.6276 - val_mape: 15.6276\n",
            "Epoch 46/200\n",
            "82/82 [==============================] - 0s 5ms/step - loss: 16.3216 - mape: 16.3216 - val_loss: 15.5428 - val_mape: 15.5428\n",
            "Epoch 47/200\n",
            "82/82 [==============================] - 0s 6ms/step - loss: 16.3243 - mape: 16.3243 - val_loss: 15.5700 - val_mape: 15.5700\n",
            "Epoch 48/200\n",
            "82/82 [==============================] - 0s 6ms/step - loss: 16.2918 - mape: 16.2918 - val_loss: 15.7209 - val_mape: 15.7209\n",
            "Epoch 49/200\n",
            "82/82 [==============================] - 0s 5ms/step - loss: 16.2682 - mape: 16.2682 - val_loss: 15.6632 - val_mape: 15.6632\n",
            "Epoch 50/200\n",
            "82/82 [==============================] - 0s 5ms/step - loss: 16.2588 - mape: 16.2588 - val_loss: 15.5867 - val_mape: 15.5867\n",
            "Epoch 51/200\n",
            "82/82 [==============================] - 0s 5ms/step - loss: 16.2582 - mape: 16.2582 - val_loss: 15.5239 - val_mape: 15.5239\n",
            "Epoch 52/200\n",
            "82/82 [==============================] - 0s 5ms/step - loss: 16.2334 - mape: 16.2334 - val_loss: 15.6153 - val_mape: 15.6153\n",
            "Epoch 53/200\n",
            "82/82 [==============================] - 0s 6ms/step - loss: 16.2093 - mape: 16.2093 - val_loss: 15.6074 - val_mape: 15.6074\n",
            "Epoch 54/200\n",
            "82/82 [==============================] - 0s 5ms/step - loss: 16.2252 - mape: 16.2252 - val_loss: 15.4895 - val_mape: 15.4895\n",
            "Epoch 55/200\n",
            "82/82 [==============================] - 0s 5ms/step - loss: 16.2274 - mape: 16.2274 - val_loss: 15.4606 - val_mape: 15.4606\n",
            "Epoch 56/200\n",
            "82/82 [==============================] - 0s 5ms/step - loss: 16.2161 - mape: 16.2161 - val_loss: 15.4999 - val_mape: 15.4999\n",
            "Epoch 57/200\n",
            "82/82 [==============================] - 0s 6ms/step - loss: 16.1852 - mape: 16.1852 - val_loss: 15.5352 - val_mape: 15.5352\n",
            "Epoch 58/200\n",
            "82/82 [==============================] - 0s 5ms/step - loss: 16.1664 - mape: 16.1664 - val_loss: 15.5413 - val_mape: 15.5413\n",
            "Epoch 59/200\n",
            "82/82 [==============================] - 0s 5ms/step - loss: 16.1447 - mape: 16.1447 - val_loss: 15.5689 - val_mape: 15.5689\n",
            "Epoch 60/200\n",
            "82/82 [==============================] - 0s 5ms/step - loss: 16.1564 - mape: 16.1564 - val_loss: 15.6071 - val_mape: 15.6071\n",
            "Epoch 61/200\n",
            "82/82 [==============================] - 0s 5ms/step - loss: 16.1467 - mape: 16.1467 - val_loss: 15.5207 - val_mape: 15.5207\n",
            "Epoch 62/200\n",
            "82/82 [==============================] - 0s 6ms/step - loss: 16.1636 - mape: 16.1636 - val_loss: 15.6406 - val_mape: 15.6406\n",
            "Epoch 63/200\n",
            "82/82 [==============================] - 0s 5ms/step - loss: 16.1414 - mape: 16.1414 - val_loss: 15.5606 - val_mape: 15.5606\n",
            "Epoch 64/200\n",
            "82/82 [==============================] - 0s 5ms/step - loss: 16.0981 - mape: 16.0981 - val_loss: 15.4302 - val_mape: 15.4302\n",
            "Epoch 65/200\n",
            "82/82 [==============================] - 0s 5ms/step - loss: 16.1799 - mape: 16.1799 - val_loss: 15.7105 - val_mape: 15.7105\n",
            "Epoch 66/200\n",
            "82/82 [==============================] - 1s 6ms/step - loss: 16.1095 - mape: 16.1095 - val_loss: 15.4803 - val_mape: 15.4803\n",
            "Epoch 67/200\n",
            "82/82 [==============================] - 0s 5ms/step - loss: 16.0904 - mape: 16.0904 - val_loss: 15.4222 - val_mape: 15.4222\n",
            "Epoch 68/200\n",
            "82/82 [==============================] - 0s 6ms/step - loss: 16.0854 - mape: 16.0854 - val_loss: 15.4222 - val_mape: 15.4222\n",
            "Epoch 69/200\n",
            "82/82 [==============================] - 0s 5ms/step - loss: 16.0871 - mape: 16.0871 - val_loss: 15.4293 - val_mape: 15.4293\n",
            "Epoch 70/200\n",
            "82/82 [==============================] - 0s 6ms/step - loss: 16.0760 - mape: 16.0760 - val_loss: 15.4721 - val_mape: 15.4721\n",
            "Epoch 71/200\n",
            "82/82 [==============================] - 0s 6ms/step - loss: 16.0858 - mape: 16.0858 - val_loss: 15.7027 - val_mape: 15.7027\n",
            "Epoch 72/200\n",
            "82/82 [==============================] - 0s 5ms/step - loss: 16.1046 - mape: 16.1046 - val_loss: 15.4513 - val_mape: 15.4513\n",
            "Epoch 73/200\n",
            "82/82 [==============================] - 0s 6ms/step - loss: 16.0539 - mape: 16.0539 - val_loss: 15.4982 - val_mape: 15.4982\n",
            "Epoch 74/200\n",
            "82/82 [==============================] - 0s 5ms/step - loss: 16.0419 - mape: 16.0419 - val_loss: 15.4281 - val_mape: 15.4281\n",
            "Epoch 75/200\n",
            "82/82 [==============================] - 0s 5ms/step - loss: 16.0635 - mape: 16.0635 - val_loss: 15.6286 - val_mape: 15.6286\n",
            "Epoch 76/200\n",
            "82/82 [==============================] - 0s 5ms/step - loss: 16.0402 - mape: 16.0402 - val_loss: 15.4515 - val_mape: 15.4515\n",
            "Epoch 77/200\n",
            "82/82 [==============================] - 0s 6ms/step - loss: 16.0375 - mape: 16.0375 - val_loss: 15.4452 - val_mape: 15.4452\n",
            "Epoch 78/200\n",
            "82/82 [==============================] - 0s 5ms/step - loss: 16.0224 - mape: 16.0224 - val_loss: 15.4355 - val_mape: 15.4355\n",
            "Epoch 79/200\n",
            "82/82 [==============================] - 0s 5ms/step - loss: 16.0300 - mape: 16.0300 - val_loss: 15.4648 - val_mape: 15.4648\n",
            "Epoch 80/200\n",
            "82/82 [==============================] - 0s 5ms/step - loss: 16.0158 - mape: 16.0158 - val_loss: 15.4584 - val_mape: 15.4584\n",
            "Epoch 81/200\n",
            "82/82 [==============================] - 0s 6ms/step - loss: 15.9977 - mape: 15.9977 - val_loss: 15.4504 - val_mape: 15.4504\n",
            "Epoch 82/200\n",
            "82/82 [==============================] - 0s 5ms/step - loss: 16.0024 - mape: 16.0024 - val_loss: 15.4313 - val_mape: 15.4313\n",
            "Epoch 83/200\n",
            "82/82 [==============================] - 0s 5ms/step - loss: 15.9983 - mape: 15.9983 - val_loss: 15.5418 - val_mape: 15.5418\n",
            "Epoch 84/200\n",
            "82/82 [==============================] - 0s 6ms/step - loss: 16.0028 - mape: 16.0028 - val_loss: 15.5239 - val_mape: 15.5239\n",
            "Epoch 85/200\n",
            "82/82 [==============================] - 1s 6ms/step - loss: 15.9932 - mape: 15.9932 - val_loss: 15.4440 - val_mape: 15.4440\n",
            "Epoch 86/200\n",
            "82/82 [==============================] - 1s 6ms/step - loss: 15.9825 - mape: 15.9825 - val_loss: 15.4344 - val_mape: 15.4344\n",
            "Epoch 87/200\n",
            "82/82 [==============================] - 1s 6ms/step - loss: 15.9992 - mape: 15.9992 - val_loss: 15.5079 - val_mape: 15.5079\n",
            "Epoch 88/200\n",
            "82/82 [==============================] - 1s 6ms/step - loss: 15.9512 - mape: 15.9512 - val_loss: 15.8176 - val_mape: 15.8176\n",
            "Epoch 89/200\n",
            "82/82 [==============================] - 1s 6ms/step - loss: 15.9969 - mape: 15.9969 - val_loss: 15.4542 - val_mape: 15.4542\n",
            "Epoch 90/200\n",
            "82/82 [==============================] - 1s 6ms/step - loss: 15.9829 - mape: 15.9829 - val_loss: 15.5453 - val_mape: 15.5453\n",
            "Epoch 91/200\n",
            "82/82 [==============================] - 1s 6ms/step - loss: 15.9647 - mape: 15.9647 - val_loss: 15.4826 - val_mape: 15.4826\n",
            "Epoch 92/200\n",
            "82/82 [==============================] - 0s 6ms/step - loss: 15.9768 - mape: 15.9768 - val_loss: 15.4404 - val_mape: 15.4404\n",
            "Epoch 93/200\n",
            "82/82 [==============================] - 0s 6ms/step - loss: 15.9387 - mape: 15.9387 - val_loss: 15.4484 - val_mape: 15.4484\n",
            "Epoch 94/200\n",
            "82/82 [==============================] - 0s 6ms/step - loss: 15.9402 - mape: 15.9402 - val_loss: 15.4620 - val_mape: 15.4620\n",
            "Epoch 95/200\n",
            "82/82 [==============================] - 1s 6ms/step - loss: 15.9530 - mape: 15.9530 - val_loss: 15.4358 - val_mape: 15.4358\n",
            "Epoch 96/200\n",
            "82/82 [==============================] - 0s 6ms/step - loss: 15.9403 - mape: 15.9403 - val_loss: 15.4498 - val_mape: 15.4498\n",
            "Epoch 97/200\n",
            "82/82 [==============================] - 0s 6ms/step - loss: 15.9502 - mape: 15.9502 - val_loss: 15.4971 - val_mape: 15.4971\n",
            "Epoch 98/200\n",
            "82/82 [==============================] - 1s 6ms/step - loss: 15.9240 - mape: 15.9240 - val_loss: 15.5257 - val_mape: 15.5257\n",
            "Epoch 99/200\n",
            "82/82 [==============================] - 1s 7ms/step - loss: 15.9368 - mape: 15.9368 - val_loss: 15.4470 - val_mape: 15.4470\n",
            "Epoch 100/200\n",
            "82/82 [==============================] - 1s 6ms/step - loss: 15.9476 - mape: 15.9476 - val_loss: 15.4754 - val_mape: 15.4754\n",
            "Epoch 101/200\n",
            "82/82 [==============================] - 1s 6ms/step - loss: 15.9205 - mape: 15.9205 - val_loss: 15.6623 - val_mape: 15.6623\n",
            "Epoch 102/200\n",
            "82/82 [==============================] - 1s 6ms/step - loss: 15.9416 - mape: 15.9416 - val_loss: 15.5591 - val_mape: 15.5591\n",
            "Epoch 103/200\n",
            "82/82 [==============================] - 1s 6ms/step - loss: 15.9316 - mape: 15.9316 - val_loss: 15.5507 - val_mape: 15.5507\n",
            "Epoch 104/200\n",
            "82/82 [==============================] - 1s 6ms/step - loss: 15.9212 - mape: 15.9212 - val_loss: 15.4355 - val_mape: 15.4355\n",
            "Epoch 105/200\n",
            "82/82 [==============================] - 1s 6ms/step - loss: 15.9495 - mape: 15.9495 - val_loss: 15.4263 - val_mape: 15.4263\n",
            "Epoch 106/200\n",
            "82/82 [==============================] - 1s 6ms/step - loss: 15.9300 - mape: 15.9300 - val_loss: 15.4251 - val_mape: 15.4251\n",
            "Epoch 107/200\n",
            "82/82 [==============================] - 0s 6ms/step - loss: 15.9082 - mape: 15.9082 - val_loss: 15.4383 - val_mape: 15.4383\n",
            "Epoch 108/200\n",
            "82/82 [==============================] - 1s 6ms/step - loss: 15.9165 - mape: 15.9165 - val_loss: 15.4449 - val_mape: 15.4449\n",
            "Epoch 109/200\n",
            "82/82 [==============================] - 0s 6ms/step - loss: 15.9080 - mape: 15.9080 - val_loss: 15.4410 - val_mape: 15.4410\n",
            "Epoch 110/200\n",
            "82/82 [==============================] - 0s 5ms/step - loss: 15.8961 - mape: 15.8961 - val_loss: 15.5913 - val_mape: 15.5913\n",
            "Epoch 111/200\n",
            "82/82 [==============================] - 0s 5ms/step - loss: 15.8867 - mape: 15.8867 - val_loss: 15.5396 - val_mape: 15.5396\n",
            "Epoch 112/200\n",
            "82/82 [==============================] - 0s 6ms/step - loss: 15.8830 - mape: 15.8830 - val_loss: 15.4266 - val_mape: 15.4266\n",
            "Epoch 113/200\n",
            "82/82 [==============================] - 0s 6ms/step - loss: 15.8753 - mape: 15.8753 - val_loss: 15.4145 - val_mape: 15.4145\n",
            "Epoch 114/200\n",
            "82/82 [==============================] - 0s 6ms/step - loss: 15.8715 - mape: 15.8715 - val_loss: 15.4295 - val_mape: 15.4295\n",
            "Epoch 115/200\n",
            "82/82 [==============================] - 0s 6ms/step - loss: 15.9112 - mape: 15.9112 - val_loss: 15.4487 - val_mape: 15.4487\n",
            "Epoch 116/200\n",
            "82/82 [==============================] - 1s 6ms/step - loss: 15.8817 - mape: 15.8817 - val_loss: 15.4599 - val_mape: 15.4599\n",
            "Epoch 117/200\n",
            "82/82 [==============================] - 1s 6ms/step - loss: 15.8778 - mape: 15.8778 - val_loss: 15.4195 - val_mape: 15.4195\n",
            "Epoch 118/200\n",
            "82/82 [==============================] - 0s 5ms/step - loss: 15.8769 - mape: 15.8769 - val_loss: 15.4170 - val_mape: 15.4170\n",
            "Epoch 119/200\n",
            "82/82 [==============================] - 0s 5ms/step - loss: 15.8786 - mape: 15.8786 - val_loss: 15.4622 - val_mape: 15.4622\n",
            "Epoch 120/200\n",
            "82/82 [==============================] - 1s 6ms/step - loss: 15.8907 - mape: 15.8907 - val_loss: 15.4620 - val_mape: 15.4620\n",
            "Epoch 121/200\n",
            "82/82 [==============================] - 0s 6ms/step - loss: 15.8705 - mape: 15.8705 - val_loss: 15.4117 - val_mape: 15.4117\n",
            "Epoch 122/200\n",
            "82/82 [==============================] - 0s 6ms/step - loss: 15.8848 - mape: 15.8848 - val_loss: 15.4161 - val_mape: 15.4161\n",
            "Epoch 123/200\n",
            "82/82 [==============================] - 0s 6ms/step - loss: 15.8985 - mape: 15.8985 - val_loss: 15.4257 - val_mape: 15.4257\n",
            "Epoch 124/200\n",
            "82/82 [==============================] - 0s 5ms/step - loss: 15.8721 - mape: 15.8721 - val_loss: 15.4136 - val_mape: 15.4136\n",
            "Epoch 125/200\n",
            "82/82 [==============================] - 0s 6ms/step - loss: 15.8579 - mape: 15.8579 - val_loss: 15.6897 - val_mape: 15.6897\n",
            "Epoch 126/200\n",
            "82/82 [==============================] - 0s 6ms/step - loss: 15.8603 - mape: 15.8603 - val_loss: 15.4956 - val_mape: 15.4956\n",
            "Epoch 127/200\n",
            "82/82 [==============================] - 0s 5ms/step - loss: 15.8901 - mape: 15.8901 - val_loss: 15.4055 - val_mape: 15.4055\n",
            "Epoch 128/200\n",
            "82/82 [==============================] - 0s 6ms/step - loss: 15.8559 - mape: 15.8559 - val_loss: 15.3996 - val_mape: 15.3996\n",
            "Epoch 129/200\n",
            "82/82 [==============================] - 0s 6ms/step - loss: 15.8611 - mape: 15.8611 - val_loss: 15.4324 - val_mape: 15.4324\n",
            "Epoch 130/200\n",
            "82/82 [==============================] - 0s 6ms/step - loss: 15.8557 - mape: 15.8557 - val_loss: 15.4345 - val_mape: 15.4345\n",
            "Epoch 131/200\n",
            "82/82 [==============================] - 0s 5ms/step - loss: 15.8440 - mape: 15.8440 - val_loss: 15.4124 - val_mape: 15.4124\n",
            "Epoch 132/200\n",
            "82/82 [==============================] - 0s 6ms/step - loss: 15.8536 - mape: 15.8536 - val_loss: 15.4209 - val_mape: 15.4209\n",
            "Epoch 133/200\n",
            "82/82 [==============================] - 0s 5ms/step - loss: 15.8520 - mape: 15.8520 - val_loss: 15.3881 - val_mape: 15.3881\n",
            "Epoch 134/200\n",
            "82/82 [==============================] - 0s 6ms/step - loss: 15.8474 - mape: 15.8474 - val_loss: 15.4979 - val_mape: 15.4979\n",
            "Epoch 135/200\n",
            "82/82 [==============================] - 0s 5ms/step - loss: 15.8386 - mape: 15.8386 - val_loss: 15.6039 - val_mape: 15.6039\n",
            "Epoch 136/200\n",
            "82/82 [==============================] - 1s 6ms/step - loss: 15.8606 - mape: 15.8606 - val_loss: 15.4741 - val_mape: 15.4741\n",
            "Epoch 137/200\n",
            "82/82 [==============================] - 0s 5ms/step - loss: 15.8530 - mape: 15.8530 - val_loss: 15.3816 - val_mape: 15.3816\n",
            "Epoch 138/200\n",
            "82/82 [==============================] - 0s 5ms/step - loss: 15.8410 - mape: 15.8410 - val_loss: 15.4210 - val_mape: 15.4210\n",
            "Epoch 139/200\n",
            "82/82 [==============================] - 0s 5ms/step - loss: 15.8328 - mape: 15.8328 - val_loss: 15.3598 - val_mape: 15.3598\n",
            "Epoch 140/200\n",
            "82/82 [==============================] - 0s 5ms/step - loss: 15.8361 - mape: 15.8361 - val_loss: 15.4553 - val_mape: 15.4553\n",
            "Epoch 141/200\n",
            "82/82 [==============================] - 0s 5ms/step - loss: 15.8288 - mape: 15.8288 - val_loss: 15.4432 - val_mape: 15.4432\n",
            "Epoch 142/200\n",
            "82/82 [==============================] - 0s 5ms/step - loss: 15.8517 - mape: 15.8517 - val_loss: 15.3643 - val_mape: 15.3643\n",
            "Epoch 143/200\n",
            "82/82 [==============================] - 1s 6ms/step - loss: 15.8305 - mape: 15.8305 - val_loss: 15.3752 - val_mape: 15.3752\n",
            "Epoch 144/200\n",
            "82/82 [==============================] - 1s 6ms/step - loss: 15.8363 - mape: 15.8363 - val_loss: 15.3494 - val_mape: 15.3494\n",
            "Epoch 145/200\n",
            "82/82 [==============================] - 1s 6ms/step - loss: 15.8223 - mape: 15.8223 - val_loss: 15.3636 - val_mape: 15.3636\n",
            "Epoch 146/200\n",
            "82/82 [==============================] - 0s 6ms/step - loss: 15.8113 - mape: 15.8113 - val_loss: 15.3728 - val_mape: 15.3728\n",
            "Epoch 147/200\n",
            "82/82 [==============================] - 0s 6ms/step - loss: 15.8135 - mape: 15.8135 - val_loss: 15.5838 - val_mape: 15.5838\n",
            "Epoch 148/200\n",
            "82/82 [==============================] - 0s 6ms/step - loss: 15.8404 - mape: 15.8404 - val_loss: 15.3923 - val_mape: 15.3923\n",
            "Epoch 149/200\n",
            "82/82 [==============================] - 1s 6ms/step - loss: 15.7936 - mape: 15.7936 - val_loss: 15.5720 - val_mape: 15.5720\n",
            "Epoch 150/200\n",
            "82/82 [==============================] - 1s 6ms/step - loss: 15.8498 - mape: 15.8498 - val_loss: 15.3849 - val_mape: 15.3849\n",
            "Epoch 151/200\n",
            "82/82 [==============================] - 0s 6ms/step - loss: 15.8095 - mape: 15.8095 - val_loss: 15.3558 - val_mape: 15.3558\n",
            "Epoch 152/200\n",
            "82/82 [==============================] - 0s 6ms/step - loss: 15.8083 - mape: 15.8083 - val_loss: 15.3389 - val_mape: 15.3389\n",
            "Epoch 153/200\n",
            "82/82 [==============================] - 1s 7ms/step - loss: 15.8077 - mape: 15.8077 - val_loss: 15.4092 - val_mape: 15.4092\n",
            "Epoch 154/200\n",
            "82/82 [==============================] - 0s 5ms/step - loss: 15.8194 - mape: 15.8194 - val_loss: 15.3715 - val_mape: 15.3715\n",
            "Epoch 155/200\n",
            "82/82 [==============================] - 1s 13ms/step - loss: 15.8236 - mape: 15.8236 - val_loss: 15.4086 - val_mape: 15.4086\n",
            "Epoch 156/200\n",
            "82/82 [==============================] - 1s 6ms/step - loss: 15.8480 - mape: 15.8480 - val_loss: 15.3791 - val_mape: 15.3791\n",
            "Epoch 157/200\n",
            "82/82 [==============================] - 0s 6ms/step - loss: 15.7969 - mape: 15.7969 - val_loss: 15.3379 - val_mape: 15.3379\n",
            "Epoch 158/200\n",
            "82/82 [==============================] - 1s 6ms/step - loss: 15.8131 - mape: 15.8131 - val_loss: 15.3508 - val_mape: 15.3508\n",
            "Epoch 159/200\n",
            "82/82 [==============================] - 0s 5ms/step - loss: 15.7839 - mape: 15.7839 - val_loss: 15.4113 - val_mape: 15.4113\n",
            "Epoch 160/200\n",
            "82/82 [==============================] - 0s 6ms/step - loss: 15.8141 - mape: 15.8141 - val_loss: 15.3315 - val_mape: 15.3315\n",
            "Epoch 161/200\n",
            "82/82 [==============================] - 0s 6ms/step - loss: 15.7880 - mape: 15.7880 - val_loss: 15.3397 - val_mape: 15.3397\n",
            "Epoch 162/200\n",
            "82/82 [==============================] - 0s 6ms/step - loss: 15.7928 - mape: 15.7928 - val_loss: 15.3695 - val_mape: 15.3695\n",
            "Epoch 163/200\n",
            "82/82 [==============================] - 0s 6ms/step - loss: 15.7997 - mape: 15.7997 - val_loss: 15.3271 - val_mape: 15.3271\n",
            "Epoch 164/200\n",
            "82/82 [==============================] - 0s 6ms/step - loss: 15.7987 - mape: 15.7987 - val_loss: 15.3307 - val_mape: 15.3307\n",
            "Epoch 165/200\n",
            "82/82 [==============================] - 0s 5ms/step - loss: 15.7838 - mape: 15.7838 - val_loss: 15.3454 - val_mape: 15.3454\n",
            "Epoch 166/200\n",
            "82/82 [==============================] - 0s 6ms/step - loss: 15.7925 - mape: 15.7925 - val_loss: 15.3353 - val_mape: 15.3353\n",
            "Epoch 167/200\n",
            "82/82 [==============================] - 0s 5ms/step - loss: 15.7970 - mape: 15.7970 - val_loss: 15.3602 - val_mape: 15.3602\n",
            "Epoch 168/200\n",
            "82/82 [==============================] - 0s 6ms/step - loss: 15.7908 - mape: 15.7908 - val_loss: 15.3134 - val_mape: 15.3134\n",
            "Epoch 169/200\n",
            "82/82 [==============================] - 0s 6ms/step - loss: 15.7867 - mape: 15.7867 - val_loss: 15.4098 - val_mape: 15.4098\n",
            "Epoch 170/200\n",
            "82/82 [==============================] - 0s 6ms/step - loss: 15.7884 - mape: 15.7884 - val_loss: 15.3428 - val_mape: 15.3428\n",
            "Epoch 171/200\n",
            "82/82 [==============================] - 0s 6ms/step - loss: 15.7882 - mape: 15.7882 - val_loss: 15.3685 - val_mape: 15.3685\n",
            "Epoch 172/200\n",
            "82/82 [==============================] - 0s 5ms/step - loss: 15.8118 - mape: 15.8118 - val_loss: 15.3499 - val_mape: 15.3499\n",
            "Epoch 173/200\n",
            "82/82 [==============================] - 0s 6ms/step - loss: 15.7840 - mape: 15.7840 - val_loss: 15.3713 - val_mape: 15.3713\n",
            "Epoch 174/200\n",
            "82/82 [==============================] - 0s 5ms/step - loss: 15.7698 - mape: 15.7698 - val_loss: 15.3847 - val_mape: 15.3847\n",
            "Epoch 175/200\n",
            "82/82 [==============================] - 1s 6ms/step - loss: 15.7829 - mape: 15.7829 - val_loss: 15.3103 - val_mape: 15.3103\n",
            "Epoch 176/200\n",
            "82/82 [==============================] - 1s 6ms/step - loss: 15.7924 - mape: 15.7924 - val_loss: 15.3367 - val_mape: 15.3367\n",
            "Epoch 177/200\n",
            "82/82 [==============================] - 0s 6ms/step - loss: 15.7836 - mape: 15.7836 - val_loss: 15.3329 - val_mape: 15.3329\n",
            "Epoch 178/200\n",
            "82/82 [==============================] - 0s 5ms/step - loss: 15.7677 - mape: 15.7677 - val_loss: 15.3303 - val_mape: 15.3303\n",
            "Epoch 179/200\n",
            "82/82 [==============================] - 0s 6ms/step - loss: 15.7691 - mape: 15.7691 - val_loss: 15.3101 - val_mape: 15.3101\n",
            "Epoch 180/200\n",
            "82/82 [==============================] - 0s 6ms/step - loss: 15.7820 - mape: 15.7820 - val_loss: 15.3974 - val_mape: 15.3974\n",
            "Epoch 181/200\n",
            "82/82 [==============================] - 0s 6ms/step - loss: 15.7806 - mape: 15.7806 - val_loss: 15.3119 - val_mape: 15.3119\n",
            "Epoch 182/200\n",
            "82/82 [==============================] - 0s 5ms/step - loss: 15.7799 - mape: 15.7799 - val_loss: 15.3067 - val_mape: 15.3067\n",
            "Epoch 183/200\n",
            "82/82 [==============================] - 0s 6ms/step - loss: 15.7692 - mape: 15.7692 - val_loss: 15.4012 - val_mape: 15.4012\n",
            "Epoch 184/200\n",
            "82/82 [==============================] - 0s 5ms/step - loss: 15.7878 - mape: 15.7878 - val_loss: 15.3746 - val_mape: 15.3746\n",
            "Epoch 185/200\n",
            "82/82 [==============================] - 0s 5ms/step - loss: 15.8109 - mape: 15.8109 - val_loss: 15.3399 - val_mape: 15.3399\n",
            "Epoch 186/200\n",
            "82/82 [==============================] - 1s 6ms/step - loss: 15.7859 - mape: 15.7859 - val_loss: 15.3386 - val_mape: 15.3386\n",
            "Epoch 187/200\n",
            "82/82 [==============================] - 0s 6ms/step - loss: 15.7700 - mape: 15.7700 - val_loss: 15.2787 - val_mape: 15.2787\n",
            "Epoch 188/200\n",
            "82/82 [==============================] - 0s 6ms/step - loss: 15.7773 - mape: 15.7773 - val_loss: 15.3016 - val_mape: 15.3016\n",
            "Epoch 189/200\n",
            "82/82 [==============================] - 0s 5ms/step - loss: 15.7679 - mape: 15.7679 - val_loss: 15.3084 - val_mape: 15.3084\n",
            "Epoch 190/200\n",
            "82/82 [==============================] - 0s 6ms/step - loss: 15.7605 - mape: 15.7605 - val_loss: 15.3920 - val_mape: 15.3920\n",
            "Epoch 191/200\n",
            "82/82 [==============================] - 0s 5ms/step - loss: 15.7571 - mape: 15.7571 - val_loss: 15.3737 - val_mape: 15.3737\n",
            "Epoch 192/200\n",
            "82/82 [==============================] - 1s 6ms/step - loss: 15.7781 - mape: 15.7781 - val_loss: 15.3745 - val_mape: 15.3745\n",
            "Epoch 193/200\n",
            "82/82 [==============================] - 1s 7ms/step - loss: 15.7719 - mape: 15.7719 - val_loss: 15.2954 - val_mape: 15.2954\n",
            "Epoch 194/200\n",
            "82/82 [==============================] - 0s 6ms/step - loss: 15.8142 - mape: 15.8142 - val_loss: 15.5554 - val_mape: 15.5554\n",
            "Epoch 195/200\n",
            "82/82 [==============================] - 0s 6ms/step - loss: 15.7572 - mape: 15.7572 - val_loss: 15.3039 - val_mape: 15.3039\n",
            "Epoch 196/200\n",
            "82/82 [==============================] - 1s 11ms/step - loss: 15.7536 - mape: 15.7536 - val_loss: 15.2924 - val_mape: 15.2924\n",
            "Epoch 197/200\n",
            "82/82 [==============================] - 1s 6ms/step - loss: 15.7725 - mape: 15.7725 - val_loss: 15.2857 - val_mape: 15.2857\n",
            "Epoch 198/200\n",
            "82/82 [==============================] - 1s 13ms/step - loss: 15.7594 - mape: 15.7594 - val_loss: 15.3182 - val_mape: 15.3182\n",
            "Epoch 199/200\n",
            "82/82 [==============================] - 1s 10ms/step - loss: 15.7596 - mape: 15.7596 - val_loss: 15.3358 - val_mape: 15.3358\n",
            "Epoch 200/200\n",
            "82/82 [==============================] - 1s 7ms/step - loss: 15.7322 - mape: 15.7322 - val_loss: 15.2971 - val_mape: 15.2971\n"
          ]
        }
      ],
      "source": [
        "model = Sequential()\n",
        "model.add(LSTM(128,activation='relu',input_dim = 3,return_sequences=True,recurrent_dropout=0.3))\n",
        "model.add(LSTM(32,activation='relu',recurrent_dropout=0.1))\n",
        "model.add(Dense(1,activation='linear'))\n",
        "ad=optimizers.Adam(learning_rate= 0.0001130320872076316)\n",
        "model.compile(optimizer = ad, loss = 'mape', metrics = ['mape'])\n",
        "model_history=model.fit(trainX, trainY,validation_data=(testX,testY), batch_size = 32, epochs = 200)"
      ]
    },
    {
      "cell_type": "code",
      "execution_count": 18,
      "id": "77c05906",
      "metadata": {
        "id": "77c05906"
      },
      "outputs": [],
      "source": [
        "def model_loss(history):\n",
        "    plt.figure(figsize=(8,4))\n",
        "    plt.plot(history.history['loss'], label='Train Loss')\n",
        "    plt.plot(history.history['val_loss'], label='Test Loss')\n",
        "    plt.title('model loss')\n",
        "    plt.ylabel('loss')\n",
        "    plt.xlabel('epochs')\n",
        "    plt.legend(loc='upper right')\n",
        "    plt.show();"
      ]
    },
    {
      "cell_type": "code",
      "execution_count": 19,
      "id": "6vZ-AXOUurmJ",
      "metadata": {
        "id": "6vZ-AXOUurmJ"
      },
      "outputs": [],
      "source": [
        "train_score = model.evaluate(trainX, trainY,verbose=0)\n",
        "test_score = model.evaluate(testX, testY,verbose=0)"
      ]
    },
    {
      "cell_type": "code",
      "execution_count": 20,
      "id": "45a22c27",
      "metadata": {
        "colab": {
          "base_uri": "https://localhost:8080/",
          "height": 329
        },
        "id": "45a22c27",
        "outputId": "df2c2460-ea2e-48e3-bb7c-ed8c0738c899"
      },
      "outputs": [
        {
          "output_type": "stream",
          "name": "stdout",
          "text": [
            "Train MAPE : 15.79 \n",
            "Test MAPE : 15.30 \n"
          ]
        },
        {
          "output_type": "display_data",
          "data": {
            "text/plain": [
              "<Figure size 576x288 with 1 Axes>"
            ],
            "image/png": "[encoded data removed]"
          },
          "metadata": {
            "needs_background": "light"
          }
        }
      ],
      "source": [
        "train_predict = model.predict(trainX)\n",
        "test_predict = model.predict(testX)\n",
        "\n",
        "# invert predictions\n",
        "train_predict = scaler.inverse_transform(train_predict)\n",
        "trainY = scaler.inverse_transform([trainY])\n",
        "test_predict = scaler.inverse_transform(test_predict)\n",
        "testY = scaler.inverse_transform([testY])\n",
        "print('Train MAPE : %.2f ' % (train_score[1]))\n",
        "print('Test MAPE : %.2f ' % (test_score[1]))\n",
        "model_loss(model_history)"
      ]
    },
    {
      "cell_type": "code",
      "execution_count": 21,
      "id": "dc942f74",
      "metadata": {
        "id": "dc942f74"
      },
      "outputs": [],
      "source": [
        "import seaborn as sns"
      ]
    },
    {
      "cell_type": "code",
      "execution_count": 23,
      "id": "dee9bab8",
      "metadata": {
        "id": "dee9bab8"
      },
      "outputs": [],
      "source": [
        "def prediction_plot(testY, test_predict,look_back):\n",
        "    len_prediction=[x for x in range(2622,2914)]\n",
        "    plt.plot(trainY.reshape(-1,))\n",
        "    plt.plot(len_prediction, testY.reshape(-1,), marker='.', label='actual')\n",
        "    plt.plot(len_prediction, test_predict, 'g', label=\"prediction\")\n",
        "    plt.tight_layout()\n",
        "    sns.despine(top=True)\n",
        "    plt.subplots_adjust(left=0.07)\n",
        "    plt.ylabel('Units', size=15)\n",
        "    plt.xlabel('Time step', size=15)\n",
        "    plt.legend(fontsize=15)\n",
        "    plt.show()"
      ]
    },
    {
      "cell_type": "code",
      "execution_count": 24,
      "id": "363040b5",
      "metadata": {
        "colab": {
          "base_uri": "https://localhost:8080/",
          "height": 604
        },
        "id": "363040b5",
        "outputId": "4702d319-4cb6-43d0-87bd-bf03693d398f"
      },
      "outputs": [
        {
          "output_type": "display_data",
          "data": {
            "text/plain": [
              "<Figure size 1080x576 with 1 Axes>"
            ],
            "image/png": "[encoded data removed]"
          },
          "metadata": {
            "needs_background": "light"
          }
        }
      ],
      "source": [
        "test_predict = model.predict(testX)\n",
        "test_predict = scaler.inverse_transform(test_predict)\n",
        "prediction_plot(testY, test_predict,look_back)"
      ]
    },
    {
      "cell_type": "code",
      "execution_count": null,
      "id": "f8a7708c",
      "metadata": {
        "id": "f8a7708c"
      },
      "outputs": [],
      "source": [
        ""
      ]
    }
  ],
  "metadata": {
    "colab": {
      "collapsed_sections": [],
      "name": "daily_min_HPT_LSTM_base_model.ipynb",
      "provenance": []
    },
    "kernelspec": {
      "display_name": "Python 3",
      "language": "python",
      "name": "python3"
    },
    "language_info": {
      "codemirror_mode": {
        "name": "ipython",
        "version": 3
      },
      "file_extension": ".py",
      "mimetype": "text/x-python",
      "name": "python",
      "nbconvert_exporter": "python",
      "pygments_lexer": "ipython3",
      "version": "3.8.8"
    }
  },
  "nbformat": 4,
  "nbformat_minor": 5
}