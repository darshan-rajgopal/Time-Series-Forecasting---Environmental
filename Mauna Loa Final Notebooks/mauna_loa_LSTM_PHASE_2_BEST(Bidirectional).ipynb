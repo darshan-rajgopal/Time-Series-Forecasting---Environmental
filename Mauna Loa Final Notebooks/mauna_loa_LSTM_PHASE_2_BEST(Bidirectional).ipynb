{
 "cells": [
  {
   "cell_type": "code",
   "execution_count": 1,
   "id": "c2ef9b47",
   "metadata": {
    "id": "c2ef9b47"
   },
   "outputs": [],
   "source": [
    "import numpy as np\n",
    "import pandas as pd\n",
    "from tensorflow.keras.models import Sequential\n",
    "from tensorflow.keras.layers import LSTM\n",
    "from tensorflow.keras.layers import Dense\n",
    "from tensorflow.keras.layers import Flatten\n",
    "import matplotlib.pyplot as plt\n",
    "import warnings\n",
    "warnings.filterwarnings('ignore')\n",
    "%matplotlib inline"
   ]
  },
  {
   "cell_type": "code",
   "execution_count": 2,
   "id": "iGQk9lcRmucZ",
   "metadata": {
    "colab": {
     "base_uri": "https://localhost:8080/"
    },
    "id": "iGQk9lcRmucZ",
    "outputId": "46622019-4367-443e-cc05-4c187c42e8c6"
   },
   "outputs": [
    {
     "name": "stdout",
     "output_type": "stream",
     "text": [
      "Mounted at /content/drive\n"
     ]
    }
   ],
   "source": [
    "from google.colab import drive\n",
    "drive.mount('/content/drive')"
   ]
  },
  {
   "cell_type": "code",
   "execution_count": null,
   "id": "BxDZtfokj6Da",
   "metadata": {
    "colab": {
     "base_uri": "https://localhost:8080/",
     "height": 35
    },
    "id": "BxDZtfokj6Da",
    "outputId": "b20dcdbd-c02a-48ad-a576-4ba9370acae1"
   },
   "outputs": [
    {
     "data": {
      "application/vnd.google.colaboratory.intrinsic+json": {
       "type": "string"
      },
      "text/plain": [
       "'/device:GPU:0'"
      ]
     },
     "execution_count": 5,
     "metadata": {},
     "output_type": "execute_result"
    }
   ],
   "source": [
    "import tensorflow as tf\n",
    "tf.test.gpu_device_name()"
   ]
  },
  {
   "cell_type": "code",
   "execution_count": null,
   "id": "UDt4KrAxj6JS",
   "metadata": {
    "colab": {
     "base_uri": "https://localhost:8080/"
    },
    "id": "UDt4KrAxj6JS",
    "outputId": "9d528187-3aea-4259-a635-0d1eddbc47d0"
   },
   "outputs": [
    {
     "data": {
      "text/plain": [
       "[name: \"/device:CPU:0\"\n",
       " device_type: \"CPU\"\n",
       " memory_limit: 268435456\n",
       " locality {\n",
       " }\n",
       " incarnation: 14494480343520806349\n",
       " xla_global_id: -1, name: \"/device:GPU:0\"\n",
       " device_type: \"GPU\"\n",
       " memory_limit: 11320098816\n",
       " locality {\n",
       "   bus_id: 1\n",
       "   links {\n",
       "   }\n",
       " }\n",
       " incarnation: 1229225032833911937\n",
       " physical_device_desc: \"device: 0, name: Tesla K80, pci bus id: 0000:00:04.0, compute capability: 3.7\"\n",
       " xla_global_id: 416903419]"
      ]
     },
     "execution_count": 6,
     "metadata": {},
     "output_type": "execute_result"
    }
   ],
   "source": [
    "from tensorflow.python.client import device_lib\n",
    "device_lib.list_local_devices()"
   ]
  },
  {
   "cell_type": "code",
   "execution_count": 3,
   "id": "30d066a0",
   "metadata": {
    "colab": {
     "base_uri": "https://localhost:8080/",
     "height": 206
    },
    "id": "30d066a0",
    "outputId": "7bc2b052-e611-4994-a6f9-1d81e50df959"
   },
   "outputs": [
    {
     "data": {
      "text/html": [
       "\n",
       "  <div id=\"df-8ec4a126-2be1-46c0-a27f-2fc56a0c32da\">\n",
       "    <div class=\"colab-df-container\">\n",
       "      <div>\n",
       "<style scoped>\n",
       "    .dataframe tbody tr th:only-of-type {\n",
       "        vertical-align: middle;\n",
       "    }\n",
       "\n",
       "    .dataframe tbody tr th {\n",
       "        vertical-align: top;\n",
       "    }\n",
       "\n",
       "    .dataframe thead th {\n",
       "        text-align: right;\n",
       "    }\n",
       "</style>\n",
       "<table border=\"1\" class=\"dataframe\">\n",
       "  <thead>\n",
       "    <tr style=\"text-align: right;\">\n",
       "      <th></th>\n",
       "      <th>Year</th>\n",
       "      <th>Month</th>\n",
       "      <th>Day</th>\n",
       "      <th>Year(decimal)</th>\n",
       "      <th>CO2(PPM)</th>\n",
       "    </tr>\n",
       "  </thead>\n",
       "  <tbody>\n",
       "    <tr>\n",
       "      <th>0</th>\n",
       "      <td>1974</td>\n",
       "      <td>5</td>\n",
       "      <td>19</td>\n",
       "      <td>1974.3795</td>\n",
       "      <td>333.37</td>\n",
       "    </tr>\n",
       "    <tr>\n",
       "      <th>1</th>\n",
       "      <td>1974</td>\n",
       "      <td>5</td>\n",
       "      <td>26</td>\n",
       "      <td>1974.3986</td>\n",
       "      <td>332.95</td>\n",
       "    </tr>\n",
       "    <tr>\n",
       "      <th>2</th>\n",
       "      <td>1974</td>\n",
       "      <td>6</td>\n",
       "      <td>2</td>\n",
       "      <td>1974.4178</td>\n",
       "      <td>332.35</td>\n",
       "    </tr>\n",
       "    <tr>\n",
       "      <th>3</th>\n",
       "      <td>1974</td>\n",
       "      <td>6</td>\n",
       "      <td>9</td>\n",
       "      <td>1974.4370</td>\n",
       "      <td>332.20</td>\n",
       "    </tr>\n",
       "    <tr>\n",
       "      <th>4</th>\n",
       "      <td>1974</td>\n",
       "      <td>6</td>\n",
       "      <td>16</td>\n",
       "      <td>1974.4562</td>\n",
       "      <td>332.37</td>\n",
       "    </tr>\n",
       "  </tbody>\n",
       "</table>\n",
       "</div>\n",
       "      <button class=\"colab-df-convert\" onclick=\"convertToInteractive('df-8ec4a126-2be1-46c0-a27f-2fc56a0c32da')\"\n",
       "              title=\"Convert this dataframe to an interactive table.\"\n",
       "              style=\"display:none;\">\n",
       "        \n",
       "  <svg xmlns=\"http://www.w3.org/2000/svg\" height=\"24px\"viewBox=\"0 0 24 24\"\n",
       "       width=\"24px\">\n",
       "    <path d=\"M0 0h24v24H0V0z\" fill=\"none\"/>\n",
       "    <path d=\"M18.56 5.44l.94 2.06.94-2.06 2.06-.94-2.06-.94-.94-2.06-.94 2.06-2.06.94zm-11 1L8.5 8.5l.94-2.06 2.06-.94-2.06-.94L8.5 2.5l-.94 2.06-2.06.94zm10 10l.94 2.06.94-2.06 2.06-.94-2.06-.94-.94-2.06-.94 2.06-2.06.94z\"/><path d=\"M17.41 7.96l-1.37-1.37c-.4-.4-.92-.59-1.43-.59-.52 0-1.04.2-1.43.59L10.3 9.45l-7.72 7.72c-.78.78-.78 2.05 0 2.83L4 21.41c.39.39.9.59 1.41.59.51 0 1.02-.2 1.41-.59l7.78-7.78 2.81-2.81c.8-.78.8-2.07 0-2.86zM5.41 20L4 18.59l7.72-7.72 1.47 1.35L5.41 20z\"/>\n",
       "  </svg>\n",
       "      </button>\n",
       "      \n",
       "  <style>\n",
       "    .colab-df-container {\n",
       "      display:flex;\n",
       "      flex-wrap:wrap;\n",
       "      gap: 12px;\n",
       "    }\n",
       "\n",
       "    .colab-df-convert {\n",
       "      background-color: #E8F0FE;\n",
       "      border: none;\n",
       "      border-radius: 50%;\n",
       "      cursor: pointer;\n",
       "      display: none;\n",
       "      fill: #1967D2;\n",
       "      height: 32px;\n",
       "      padding: 0 0 0 0;\n",
       "      width: 32px;\n",
       "    }\n",
       "\n",
       "    .colab-df-convert:hover {\n",
       "      background-color: #E2EBFA;\n",
       "      box-shadow: 0px 1px 2px rgba(60, 64, 67, 0.3), 0px 1px 3px 1px rgba(60, 64, 67, 0.15);\n",
       "      fill: #174EA6;\n",
       "    }\n",
       "\n",
       "    [theme=dark] .colab-df-convert {\n",
       "      background-color: #3B4455;\n",
       "      fill: #D2E3FC;\n",
       "    }\n",
       "\n",
       "    [theme=dark] .colab-df-convert:hover {\n",
       "      background-color: #434B5C;\n",
       "      box-shadow: 0px 1px 3px 1px rgba(0, 0, 0, 0.15);\n",
       "      filter: drop-shadow(0px 1px 2px rgba(0, 0, 0, 0.3));\n",
       "      fill: #FFFFFF;\n",
       "    }\n",
       "  </style>\n",
       "\n",
       "      <script>\n",
       "        const buttonEl =\n",
       "          document.querySelector('#df-8ec4a126-2be1-46c0-a27f-2fc56a0c32da button.colab-df-convert');\n",
       "        buttonEl.style.display =\n",
       "          google.colab.kernel.accessAllowed ? 'block' : 'none';\n",
       "\n",
       "        async function convertToInteractive(key) {\n",
       "          const element = document.querySelector('#df-8ec4a126-2be1-46c0-a27f-2fc56a0c32da');\n",
       "          const dataTable =\n",
       "            await google.colab.kernel.invokeFunction('convertToInteractive',\n",
       "                                                     [key], {});\n",
       "          if (!dataTable) return;\n",
       "\n",
       "          const docLinkHtml = 'Like what you see? Visit the ' +\n",
       "            '<a target=\"_blank\" href=https://colab.research.google.com/notebooks/data_table.ipynb>data table notebook</a>'\n",
       "            + ' to learn more about interactive tables.';\n",
       "          element.innerHTML = '';\n",
       "          dataTable['output_type'] = 'display_data';\n",
       "          await google.colab.output.renderOutput(dataTable, element);\n",
       "          const docLink = document.createElement('div');\n",
       "          docLink.innerHTML = docLinkHtml;\n",
       "          element.appendChild(docLink);\n",
       "        }\n",
       "      </script>\n",
       "    </div>\n",
       "  </div>\n",
       "  "
      ],
      "text/plain": [
       "   Year  Month  Day  Year(decimal)  CO2(PPM)\n",
       "0  1974      5   19      1974.3795    333.37\n",
       "1  1974      5   26      1974.3986    332.95\n",
       "2  1974      6    2      1974.4178    332.35\n",
       "3  1974      6    9      1974.4370    332.20\n",
       "4  1974      6   16      1974.4562    332.37"
      ]
     },
     "execution_count": 3,
     "metadata": {},
     "output_type": "execute_result"
    }
   ],
   "source": [
    "df_new = pd.read_csv('/content/drive/MyDrive/Colab Notebooks/Environmental/Mouna_Loa_Weekly_Data.csv')\n",
    "df_new.head()"
   ]
  },
  {
   "cell_type": "code",
   "execution_count": 4,
   "id": "e2663bb4",
   "metadata": {
    "colab": {
     "base_uri": "https://localhost:8080/",
     "height": 206
    },
    "id": "e2663bb4",
    "outputId": "c3dbd051-2898-4762-e5df-d9c5c7461a0c"
   },
   "outputs": [
    {
     "data": {
      "text/html": [
       "\n",
       "  <div id=\"df-0e2b1021-94da-4fc5-8ed5-f1bd30ce3a71\">\n",
       "    <div class=\"colab-df-container\">\n",
       "      <div>\n",
       "<style scoped>\n",
       "    .dataframe tbody tr th:only-of-type {\n",
       "        vertical-align: middle;\n",
       "    }\n",
       "\n",
       "    .dataframe tbody tr th {\n",
       "        vertical-align: top;\n",
       "    }\n",
       "\n",
       "    .dataframe thead th {\n",
       "        text-align: right;\n",
       "    }\n",
       "</style>\n",
       "<table border=\"1\" class=\"dataframe\">\n",
       "  <thead>\n",
       "    <tr style=\"text-align: right;\">\n",
       "      <th></th>\n",
       "      <th>Year</th>\n",
       "      <th>Month</th>\n",
       "      <th>Day</th>\n",
       "      <th>Year(decimal)</th>\n",
       "      <th>CO2(PPM)</th>\n",
       "    </tr>\n",
       "  </thead>\n",
       "  <tbody>\n",
       "    <tr>\n",
       "      <th>2472</th>\n",
       "      <td>2021</td>\n",
       "      <td>10</td>\n",
       "      <td>3</td>\n",
       "      <td>2021.7548</td>\n",
       "      <td>413.63</td>\n",
       "    </tr>\n",
       "    <tr>\n",
       "      <th>2473</th>\n",
       "      <td>2021</td>\n",
       "      <td>10</td>\n",
       "      <td>10</td>\n",
       "      <td>2021.7740</td>\n",
       "      <td>413.89</td>\n",
       "    </tr>\n",
       "    <tr>\n",
       "      <th>2474</th>\n",
       "      <td>2021</td>\n",
       "      <td>10</td>\n",
       "      <td>17</td>\n",
       "      <td>2021.7932</td>\n",
       "      <td>414.36</td>\n",
       "    </tr>\n",
       "    <tr>\n",
       "      <th>2475</th>\n",
       "      <td>2021</td>\n",
       "      <td>10</td>\n",
       "      <td>24</td>\n",
       "      <td>2021.8123</td>\n",
       "      <td>413.90</td>\n",
       "    </tr>\n",
       "    <tr>\n",
       "      <th>2476</th>\n",
       "      <td>2021</td>\n",
       "      <td>10</td>\n",
       "      <td>31</td>\n",
       "      <td>2021.8315</td>\n",
       "      <td>414.17</td>\n",
       "    </tr>\n",
       "  </tbody>\n",
       "</table>\n",
       "</div>\n",
       "      <button class=\"colab-df-convert\" onclick=\"convertToInteractive('df-0e2b1021-94da-4fc5-8ed5-f1bd30ce3a71')\"\n",
       "              title=\"Convert this dataframe to an interactive table.\"\n",
       "              style=\"display:none;\">\n",
       "        \n",
       "  <svg xmlns=\"http://www.w3.org/2000/svg\" height=\"24px\"viewBox=\"0 0 24 24\"\n",
       "       width=\"24px\">\n",
       "    <path d=\"M0 0h24v24H0V0z\" fill=\"none\"/>\n",
       "    <path d=\"M18.56 5.44l.94 2.06.94-2.06 2.06-.94-2.06-.94-.94-2.06-.94 2.06-2.06.94zm-11 1L8.5 8.5l.94-2.06 2.06-.94-2.06-.94L8.5 2.5l-.94 2.06-2.06.94zm10 10l.94 2.06.94-2.06 2.06-.94-2.06-.94-.94-2.06-.94 2.06-2.06.94z\"/><path d=\"M17.41 7.96l-1.37-1.37c-.4-.4-.92-.59-1.43-.59-.52 0-1.04.2-1.43.59L10.3 9.45l-7.72 7.72c-.78.78-.78 2.05 0 2.83L4 21.41c.39.39.9.59 1.41.59.51 0 1.02-.2 1.41-.59l7.78-7.78 2.81-2.81c.8-.78.8-2.07 0-2.86zM5.41 20L4 18.59l7.72-7.72 1.47 1.35L5.41 20z\"/>\n",
       "  </svg>\n",
       "      </button>\n",
       "      \n",
       "  <style>\n",
       "    .colab-df-container {\n",
       "      display:flex;\n",
       "      flex-wrap:wrap;\n",
       "      gap: 12px;\n",
       "    }\n",
       "\n",
       "    .colab-df-convert {\n",
       "      background-color: #E8F0FE;\n",
       "      border: none;\n",
       "      border-radius: 50%;\n",
       "      cursor: pointer;\n",
       "      display: none;\n",
       "      fill: #1967D2;\n",
       "      height: 32px;\n",
       "      padding: 0 0 0 0;\n",
       "      width: 32px;\n",
       "    }\n",
       "\n",
       "    .colab-df-convert:hover {\n",
       "      background-color: #E2EBFA;\n",
       "      box-shadow: 0px 1px 2px rgba(60, 64, 67, 0.3), 0px 1px 3px 1px rgba(60, 64, 67, 0.15);\n",
       "      fill: #174EA6;\n",
       "    }\n",
       "\n",
       "    [theme=dark] .colab-df-convert {\n",
       "      background-color: #3B4455;\n",
       "      fill: #D2E3FC;\n",
       "    }\n",
       "\n",
       "    [theme=dark] .colab-df-convert:hover {\n",
       "      background-color: #434B5C;\n",
       "      box-shadow: 0px 1px 3px 1px rgba(0, 0, 0, 0.15);\n",
       "      filter: drop-shadow(0px 1px 2px rgba(0, 0, 0, 0.3));\n",
       "      fill: #FFFFFF;\n",
       "    }\n",
       "  </style>\n",
       "\n",
       "      <script>\n",
       "        const buttonEl =\n",
       "          document.querySelector('#df-0e2b1021-94da-4fc5-8ed5-f1bd30ce3a71 button.colab-df-convert');\n",
       "        buttonEl.style.display =\n",
       "          google.colab.kernel.accessAllowed ? 'block' : 'none';\n",
       "\n",
       "        async function convertToInteractive(key) {\n",
       "          const element = document.querySelector('#df-0e2b1021-94da-4fc5-8ed5-f1bd30ce3a71');\n",
       "          const dataTable =\n",
       "            await google.colab.kernel.invokeFunction('convertToInteractive',\n",
       "                                                     [key], {});\n",
       "          if (!dataTable) return;\n",
       "\n",
       "          const docLinkHtml = 'Like what you see? Visit the ' +\n",
       "            '<a target=\"_blank\" href=https://colab.research.google.com/notebooks/data_table.ipynb>data table notebook</a>'\n",
       "            + ' to learn more about interactive tables.';\n",
       "          element.innerHTML = '';\n",
       "          dataTable['output_type'] = 'display_data';\n",
       "          await google.colab.output.renderOutput(dataTable, element);\n",
       "          const docLink = document.createElement('div');\n",
       "          docLink.innerHTML = docLinkHtml;\n",
       "          element.appendChild(docLink);\n",
       "        }\n",
       "      </script>\n",
       "    </div>\n",
       "  </div>\n",
       "  "
      ],
      "text/plain": [
       "      Year  Month  Day  Year(decimal)  CO2(PPM)\n",
       "2472  2021     10    3      2021.7548    413.63\n",
       "2473  2021     10   10      2021.7740    413.89\n",
       "2474  2021     10   17      2021.7932    414.36\n",
       "2475  2021     10   24      2021.8123    413.90\n",
       "2476  2021     10   31      2021.8315    414.17"
      ]
     },
     "execution_count": 4,
     "metadata": {},
     "output_type": "execute_result"
    }
   ],
   "source": [
    "df_new.tail()"
   ]
  },
  {
   "cell_type": "code",
   "execution_count": null,
   "id": "0482272d",
   "metadata": {
    "colab": {
     "base_uri": "https://localhost:8080/"
    },
    "id": "0482272d",
    "outputId": "776ac443-ad6b-4564-f8e0-1f7bd74c25a7"
   },
   "outputs": [
    {
     "data": {
      "text/plain": [
       "(2477, 5)"
      ]
     },
     "execution_count": 5,
     "metadata": {},
     "output_type": "execute_result"
    }
   ],
   "source": [
    "df_new.shape"
   ]
  },
  {
   "cell_type": "code",
   "execution_count": null,
   "id": "076f1ad3",
   "metadata": {
    "colab": {
     "base_uri": "https://localhost:8080/"
    },
    "id": "076f1ad3",
    "outputId": "85d3513e-4003-46c9-c4de-170eb5f2bf2d"
   },
   "outputs": [
    {
     "name": "stdout",
     "output_type": "stream",
     "text": [
      "<class 'pandas.core.frame.DataFrame'>\n",
      "RangeIndex: 2477 entries, 0 to 2476\n",
      "Data columns (total 5 columns):\n",
      " #   Column         Non-Null Count  Dtype  \n",
      "---  ------         --------------  -----  \n",
      " 0   Year           2477 non-null   int64  \n",
      " 1   Month          2477 non-null   int64  \n",
      " 2   Day            2477 non-null   int64  \n",
      " 3   Year(decimal)  2477 non-null   float64\n",
      " 4   CO2(PPM)       2477 non-null   float64\n",
      "dtypes: float64(2), int64(3)\n",
      "memory usage: 96.9 KB\n"
     ]
    }
   ],
   "source": [
    "df_new.info()"
   ]
  },
  {
   "cell_type": "code",
   "execution_count": null,
   "id": "GQllVmimXbew",
   "metadata": {
    "colab": {
     "base_uri": "https://localhost:8080/"
    },
    "id": "GQllVmimXbew",
    "outputId": "4ac7ccfe-1115-4f1a-e41c-b857312a5a47"
   },
   "outputs": [
    {
     "data": {
      "text/plain": [
       "-999.99"
      ]
     },
     "execution_count": 7,
     "metadata": {},
     "output_type": "execute_result"
    }
   ],
   "source": [
    "df_new['CO2(PPM)'].min()"
   ]
  },
  {
   "cell_type": "code",
   "execution_count": 5,
   "id": "1oFqHGwzXbhI",
   "metadata": {
    "id": "1oFqHGwzXbhI"
   },
   "outputs": [],
   "source": [
    "df_new.replace(-999.99,np.nan,inplace=True)\n",
    "df = df_new.fillna(df_new.rolling(7,min_periods=1).mean())"
   ]
  },
  {
   "cell_type": "code",
   "execution_count": null,
   "id": "x2rdBSU9Xbkd",
   "metadata": {
    "colab": {
     "base_uri": "https://localhost:8080/"
    },
    "id": "x2rdBSU9Xbkd",
    "outputId": "0f664fda-72bf-419d-de54-c4f86374d4a0"
   },
   "outputs": [
    {
     "data": {
      "text/plain": [
       "Year             0\n",
       "Month            0\n",
       "Day              0\n",
       "Year(decimal)    0\n",
       "CO2(PPM)         0\n",
       "dtype: int64"
      ]
     },
     "execution_count": 6,
     "metadata": {},
     "output_type": "execute_result"
    }
   ],
   "source": [
    "df.isnull().sum()"
   ]
  },
  {
   "cell_type": "code",
   "execution_count": 6,
   "id": "93827e39",
   "metadata": {
    "id": "93827e39"
   },
   "outputs": [],
   "source": [
    "time = pd.date_range(start='5/19/1974',periods=2477,freq='W')\n",
    "df['time_stamp'] = pd.DataFrame(time)\n",
    "df.drop(['Year','Month','Year(decimal)','Day'],axis=1,inplace=True)\n",
    "df = df.set_index('time_stamp')"
   ]
  },
  {
   "cell_type": "code",
   "execution_count": 7,
   "id": "S0kNKRMAocKq",
   "metadata": {
    "id": "S0kNKRMAocKq"
   },
   "outputs": [],
   "source": [
    "df.columns=['CO2_PPM']"
   ]
  },
  {
   "cell_type": "code",
   "execution_count": null,
   "id": "522f2b8e",
   "metadata": {
    "colab": {
     "base_uri": "https://localhost:8080/",
     "height": 238
    },
    "id": "522f2b8e",
    "outputId": "523ad8a2-a155-46eb-82ea-9584af404c27"
   },
   "outputs": [
    {
     "data": {
      "text/html": [
       "\n",
       "  <div id=\"df-1758bc81-6de1-424b-b6f2-094d9ee9f242\">\n",
       "    <div class=\"colab-df-container\">\n",
       "      <div>\n",
       "<style scoped>\n",
       "    .dataframe tbody tr th:only-of-type {\n",
       "        vertical-align: middle;\n",
       "    }\n",
       "\n",
       "    .dataframe tbody tr th {\n",
       "        vertical-align: top;\n",
       "    }\n",
       "\n",
       "    .dataframe thead th {\n",
       "        text-align: right;\n",
       "    }\n",
       "</style>\n",
       "<table border=\"1\" class=\"dataframe\">\n",
       "  <thead>\n",
       "    <tr style=\"text-align: right;\">\n",
       "      <th></th>\n",
       "      <th>CO2_PPM</th>\n",
       "    </tr>\n",
       "    <tr>\n",
       "      <th>time_stamp</th>\n",
       "      <th></th>\n",
       "    </tr>\n",
       "  </thead>\n",
       "  <tbody>\n",
       "    <tr>\n",
       "      <th>1974-05-19</th>\n",
       "      <td>333.37</td>\n",
       "    </tr>\n",
       "    <tr>\n",
       "      <th>1974-05-26</th>\n",
       "      <td>332.95</td>\n",
       "    </tr>\n",
       "    <tr>\n",
       "      <th>1974-06-02</th>\n",
       "      <td>332.35</td>\n",
       "    </tr>\n",
       "    <tr>\n",
       "      <th>1974-06-09</th>\n",
       "      <td>332.20</td>\n",
       "    </tr>\n",
       "    <tr>\n",
       "      <th>1974-06-16</th>\n",
       "      <td>332.37</td>\n",
       "    </tr>\n",
       "  </tbody>\n",
       "</table>\n",
       "</div>\n",
       "      <button class=\"colab-df-convert\" onclick=\"convertToInteractive('df-1758bc81-6de1-424b-b6f2-094d9ee9f242')\"\n",
       "              title=\"Convert this dataframe to an interactive table.\"\n",
       "              style=\"display:none;\">\n",
       "        \n",
       "  <svg xmlns=\"http://www.w3.org/2000/svg\" height=\"24px\"viewBox=\"0 0 24 24\"\n",
       "       width=\"24px\">\n",
       "    <path d=\"M0 0h24v24H0V0z\" fill=\"none\"/>\n",
       "    <path d=\"M18.56 5.44l.94 2.06.94-2.06 2.06-.94-2.06-.94-.94-2.06-.94 2.06-2.06.94zm-11 1L8.5 8.5l.94-2.06 2.06-.94-2.06-.94L8.5 2.5l-.94 2.06-2.06.94zm10 10l.94 2.06.94-2.06 2.06-.94-2.06-.94-.94-2.06-.94 2.06-2.06.94z\"/><path d=\"M17.41 7.96l-1.37-1.37c-.4-.4-.92-.59-1.43-.59-.52 0-1.04.2-1.43.59L10.3 9.45l-7.72 7.72c-.78.78-.78 2.05 0 2.83L4 21.41c.39.39.9.59 1.41.59.51 0 1.02-.2 1.41-.59l7.78-7.78 2.81-2.81c.8-.78.8-2.07 0-2.86zM5.41 20L4 18.59l7.72-7.72 1.47 1.35L5.41 20z\"/>\n",
       "  </svg>\n",
       "      </button>\n",
       "      \n",
       "  <style>\n",
       "    .colab-df-container {\n",
       "      display:flex;\n",
       "      flex-wrap:wrap;\n",
       "      gap: 12px;\n",
       "    }\n",
       "\n",
       "    .colab-df-convert {\n",
       "      background-color: #E8F0FE;\n",
       "      border: none;\n",
       "      border-radius: 50%;\n",
       "      cursor: pointer;\n",
       "      display: none;\n",
       "      fill: #1967D2;\n",
       "      height: 32px;\n",
       "      padding: 0 0 0 0;\n",
       "      width: 32px;\n",
       "    }\n",
       "\n",
       "    .colab-df-convert:hover {\n",
       "      background-color: #E2EBFA;\n",
       "      box-shadow: 0px 1px 2px rgba(60, 64, 67, 0.3), 0px 1px 3px 1px rgba(60, 64, 67, 0.15);\n",
       "      fill: #174EA6;\n",
       "    }\n",
       "\n",
       "    [theme=dark] .colab-df-convert {\n",
       "      background-color: #3B4455;\n",
       "      fill: #D2E3FC;\n",
       "    }\n",
       "\n",
       "    [theme=dark] .colab-df-convert:hover {\n",
       "      background-color: #434B5C;\n",
       "      box-shadow: 0px 1px 3px 1px rgba(0, 0, 0, 0.15);\n",
       "      filter: drop-shadow(0px 1px 2px rgba(0, 0, 0, 0.3));\n",
       "      fill: #FFFFFF;\n",
       "    }\n",
       "  </style>\n",
       "\n",
       "      <script>\n",
       "        const buttonEl =\n",
       "          document.querySelector('#df-1758bc81-6de1-424b-b6f2-094d9ee9f242 button.colab-df-convert');\n",
       "        buttonEl.style.display =\n",
       "          google.colab.kernel.accessAllowed ? 'block' : 'none';\n",
       "\n",
       "        async function convertToInteractive(key) {\n",
       "          const element = document.querySelector('#df-1758bc81-6de1-424b-b6f2-094d9ee9f242');\n",
       "          const dataTable =\n",
       "            await google.colab.kernel.invokeFunction('convertToInteractive',\n",
       "                                                     [key], {});\n",
       "          if (!dataTable) return;\n",
       "\n",
       "          const docLinkHtml = 'Like what you see? Visit the ' +\n",
       "            '<a target=\"_blank\" href=https://colab.research.google.com/notebooks/data_table.ipynb>data table notebook</a>'\n",
       "            + ' to learn more about interactive tables.';\n",
       "          element.innerHTML = '';\n",
       "          dataTable['output_type'] = 'display_data';\n",
       "          await google.colab.output.renderOutput(dataTable, element);\n",
       "          const docLink = document.createElement('div');\n",
       "          docLink.innerHTML = docLinkHtml;\n",
       "          element.appendChild(docLink);\n",
       "        }\n",
       "      </script>\n",
       "    </div>\n",
       "  </div>\n",
       "  "
      ],
      "text/plain": [
       "            CO2_PPM\n",
       "time_stamp         \n",
       "1974-05-19   333.37\n",
       "1974-05-26   332.95\n",
       "1974-06-02   332.35\n",
       "1974-06-09   332.20\n",
       "1974-06-16   332.37"
      ]
     },
     "execution_count": 12,
     "metadata": {},
     "output_type": "execute_result"
    }
   ],
   "source": [
    "df.head()"
   ]
  },
  {
   "cell_type": "code",
   "execution_count": null,
   "id": "7N0Xc0zT5atx",
   "metadata": {
    "colab": {
     "base_uri": "https://localhost:8080/",
     "height": 238
    },
    "id": "7N0Xc0zT5atx",
    "outputId": "14c8bebe-4377-42f6-bade-38a5b73e0c73"
   },
   "outputs": [
    {
     "data": {
      "text/html": [
       "\n",
       "  <div id=\"df-cdc0bf0b-4859-47d4-aa8b-35fff9fa2dc7\">\n",
       "    <div class=\"colab-df-container\">\n",
       "      <div>\n",
       "<style scoped>\n",
       "    .dataframe tbody tr th:only-of-type {\n",
       "        vertical-align: middle;\n",
       "    }\n",
       "\n",
       "    .dataframe tbody tr th {\n",
       "        vertical-align: top;\n",
       "    }\n",
       "\n",
       "    .dataframe thead th {\n",
       "        text-align: right;\n",
       "    }\n",
       "</style>\n",
       "<table border=\"1\" class=\"dataframe\">\n",
       "  <thead>\n",
       "    <tr style=\"text-align: right;\">\n",
       "      <th></th>\n",
       "      <th>CO2_PPM</th>\n",
       "    </tr>\n",
       "    <tr>\n",
       "      <th>time_stamp</th>\n",
       "      <th></th>\n",
       "    </tr>\n",
       "  </thead>\n",
       "  <tbody>\n",
       "    <tr>\n",
       "      <th>2021-10-03</th>\n",
       "      <td>413.63</td>\n",
       "    </tr>\n",
       "    <tr>\n",
       "      <th>2021-10-10</th>\n",
       "      <td>413.89</td>\n",
       "    </tr>\n",
       "    <tr>\n",
       "      <th>2021-10-17</th>\n",
       "      <td>414.36</td>\n",
       "    </tr>\n",
       "    <tr>\n",
       "      <th>2021-10-24</th>\n",
       "      <td>413.90</td>\n",
       "    </tr>\n",
       "    <tr>\n",
       "      <th>2021-10-31</th>\n",
       "      <td>414.17</td>\n",
       "    </tr>\n",
       "  </tbody>\n",
       "</table>\n",
       "</div>\n",
       "      <button class=\"colab-df-convert\" onclick=\"convertToInteractive('df-cdc0bf0b-4859-47d4-aa8b-35fff9fa2dc7')\"\n",
       "              title=\"Convert this dataframe to an interactive table.\"\n",
       "              style=\"display:none;\">\n",
       "        \n",
       "  <svg xmlns=\"http://www.w3.org/2000/svg\" height=\"24px\"viewBox=\"0 0 24 24\"\n",
       "       width=\"24px\">\n",
       "    <path d=\"M0 0h24v24H0V0z\" fill=\"none\"/>\n",
       "    <path d=\"M18.56 5.44l.94 2.06.94-2.06 2.06-.94-2.06-.94-.94-2.06-.94 2.06-2.06.94zm-11 1L8.5 8.5l.94-2.06 2.06-.94-2.06-.94L8.5 2.5l-.94 2.06-2.06.94zm10 10l.94 2.06.94-2.06 2.06-.94-2.06-.94-.94-2.06-.94 2.06-2.06.94z\"/><path d=\"M17.41 7.96l-1.37-1.37c-.4-.4-.92-.59-1.43-.59-.52 0-1.04.2-1.43.59L10.3 9.45l-7.72 7.72c-.78.78-.78 2.05 0 2.83L4 21.41c.39.39.9.59 1.41.59.51 0 1.02-.2 1.41-.59l7.78-7.78 2.81-2.81c.8-.78.8-2.07 0-2.86zM5.41 20L4 18.59l7.72-7.72 1.47 1.35L5.41 20z\"/>\n",
       "  </svg>\n",
       "      </button>\n",
       "      \n",
       "  <style>\n",
       "    .colab-df-container {\n",
       "      display:flex;\n",
       "      flex-wrap:wrap;\n",
       "      gap: 12px;\n",
       "    }\n",
       "\n",
       "    .colab-df-convert {\n",
       "      background-color: #E8F0FE;\n",
       "      border: none;\n",
       "      border-radius: 50%;\n",
       "      cursor: pointer;\n",
       "      display: none;\n",
       "      fill: #1967D2;\n",
       "      height: 32px;\n",
       "      padding: 0 0 0 0;\n",
       "      width: 32px;\n",
       "    }\n",
       "\n",
       "    .colab-df-convert:hover {\n",
       "      background-color: #E2EBFA;\n",
       "      box-shadow: 0px 1px 2px rgba(60, 64, 67, 0.3), 0px 1px 3px 1px rgba(60, 64, 67, 0.15);\n",
       "      fill: #174EA6;\n",
       "    }\n",
       "\n",
       "    [theme=dark] .colab-df-convert {\n",
       "      background-color: #3B4455;\n",
       "      fill: #D2E3FC;\n",
       "    }\n",
       "\n",
       "    [theme=dark] .colab-df-convert:hover {\n",
       "      background-color: #434B5C;\n",
       "      box-shadow: 0px 1px 3px 1px rgba(0, 0, 0, 0.15);\n",
       "      filter: drop-shadow(0px 1px 2px rgba(0, 0, 0, 0.3));\n",
       "      fill: #FFFFFF;\n",
       "    }\n",
       "  </style>\n",
       "\n",
       "      <script>\n",
       "        const buttonEl =\n",
       "          document.querySelector('#df-cdc0bf0b-4859-47d4-aa8b-35fff9fa2dc7 button.colab-df-convert');\n",
       "        buttonEl.style.display =\n",
       "          google.colab.kernel.accessAllowed ? 'block' : 'none';\n",
       "\n",
       "        async function convertToInteractive(key) {\n",
       "          const element = document.querySelector('#df-cdc0bf0b-4859-47d4-aa8b-35fff9fa2dc7');\n",
       "          const dataTable =\n",
       "            await google.colab.kernel.invokeFunction('convertToInteractive',\n",
       "                                                     [key], {});\n",
       "          if (!dataTable) return;\n",
       "\n",
       "          const docLinkHtml = 'Like what you see? Visit the ' +\n",
       "            '<a target=\"_blank\" href=https://colab.research.google.com/notebooks/data_table.ipynb>data table notebook</a>'\n",
       "            + ' to learn more about interactive tables.';\n",
       "          element.innerHTML = '';\n",
       "          dataTable['output_type'] = 'display_data';\n",
       "          await google.colab.output.renderOutput(dataTable, element);\n",
       "          const docLink = document.createElement('div');\n",
       "          docLink.innerHTML = docLinkHtml;\n",
       "          element.appendChild(docLink);\n",
       "        }\n",
       "      </script>\n",
       "    </div>\n",
       "  </div>\n",
       "  "
      ],
      "text/plain": [
       "            CO2_PPM\n",
       "time_stamp         \n",
       "2021-10-03   413.63\n",
       "2021-10-10   413.89\n",
       "2021-10-17   414.36\n",
       "2021-10-24   413.90\n",
       "2021-10-31   414.17"
      ]
     },
     "execution_count": 13,
     "metadata": {},
     "output_type": "execute_result"
    }
   ],
   "source": [
    "df.tail()"
   ]
  },
  {
   "cell_type": "code",
   "execution_count": 8,
   "id": "bQk15MFgouDq",
   "metadata": {
    "id": "bQk15MFgouDq"
   },
   "outputs": [],
   "source": [
    "plt.rcParams['figure.figsize'] = [15,8]"
   ]
  },
  {
   "cell_type": "code",
   "execution_count": 9,
   "id": "3b098ae2",
   "metadata": {
    "colab": {
     "base_uri": "https://localhost:8080/",
     "height": 523
    },
    "id": "3b098ae2",
    "outputId": "bef3c369-3ddf-47c8-f15c-4c6b6821e41a"
   },
   "outputs": [
    {
     "data": {
      "image/png": "[encoded data removed]",
      "text/plain": [
       "<Figure size 1080x576 with 1 Axes>"
      ]
     },
     "metadata": {
      "needs_background": "light"
     },
     "output_type": "display_data"
    }
   ],
   "source": [
    "plt.plot(df,color='green')\n",
    "plt.title('Weekly C02 Emission From Mauna Loa',fontsize=20)\n",
    "plt.xlabel('Date',fontsize=15)\n",
    "plt.ylabel('Units',fontsize=15)\n",
    "plt.show()"
   ]
  },
  {
   "cell_type": "code",
   "execution_count": 10,
   "id": "bf59d3e0",
   "metadata": {
    "id": "bf59d3e0"
   },
   "outputs": [],
   "source": [
    "def convert2matrix(data_arr, look_back):\n",
    "    X, Y =[], []\n",
    "    for i in range(len(data_arr)-look_back):\n",
    "        d=i+look_back  \n",
    "        X.append(data_arr[i:d,0])\n",
    "        Y.append(data_arr[d,0])\n",
    "    return np.array(X), np.array(Y)"
   ]
  },
  {
   "cell_type": "code",
   "execution_count": 39,
   "id": "5CBL1GHqurmE",
   "metadata": {
    "id": "5CBL1GHqurmE"
   },
   "outputs": [],
   "source": [
    "from sklearn.preprocessing import MinMaxScaler\n",
    "#create numpy.ndarray \n",
    "df['CO2_PPM'] = df['CO2_PPM'].astype(np.float32)\n",
    "df_arr = df.values\n",
    "df_arr = np.reshape(df_arr, (-1, 1))\n",
    "scaler = MinMaxScaler(feature_range=(0.1, 1))\n",
    "df_arr = scaler.fit_transform(df_arr)"
   ]
  },
  {
   "cell_type": "code",
   "execution_count": 40,
   "id": "1cea6c5f",
   "metadata": {
    "id": "1cea6c5f"
   },
   "outputs": [],
   "source": [
    "#Split data set into testing dataset and train dataset\n",
    "train_size = 2230\n",
    "train, test =df_arr[0:train_size,:], df_arr[train_size:len(df_arr),:]\n",
    "# setup look_back window \n",
    "look_back = 5\n",
    "#convert dataset into right shape in order to input into the DNN\n",
    "trainX, trainY = convert2matrix(train, look_back)\n",
    "testX, testY = convert2matrix(test, look_back)\n",
    "trainX = np.reshape(trainX, (trainX.shape[0], 1, trainX.shape[1]))\n",
    "testX = np.reshape(testX, (testX.shape[0], 1, testX.shape[1]))"
   ]
  },
  {
   "cell_type": "code",
   "execution_count": 13,
   "id": "c7d46c39",
   "metadata": {
    "colab": {
     "base_uri": "https://localhost:8080/"
    },
    "id": "c7d46c39",
    "outputId": "059da74b-33ec-49b5-b034-e341b263f9cc"
   },
   "outputs": [
    {
     "name": "stdout",
     "output_type": "stream",
     "text": [
      "(2225, 1, 5)\n",
      "(2225,)\n",
      "(242, 1, 5)\n",
      "(242,)\n"
     ]
    }
   ],
   "source": [
    "print(trainX.shape)\n",
    "print(trainY.shape)\n",
    "print(testX.shape)\n",
    "print(testY.shape)"
   ]
  },
  {
   "cell_type": "code",
   "execution_count": 15,
   "id": "GIc1nRcCuP3G",
   "metadata": {
    "colab": {
     "base_uri": "https://localhost:8080/"
    },
    "id": "GIc1nRcCuP3G",
    "outputId": "c68a2f42-0f18-4ca1-dad7-16dbbe647db1"
   },
   "outputs": [
    {
     "name": "stdout",
     "output_type": "stream",
     "text": [
      "\u001b[?25l\r",
      "\u001b[K     |██▌                             | 10 kB 21.1 MB/s eta 0:00:01\r",
      "\u001b[K     |█████                           | 20 kB 15.8 MB/s eta 0:00:01\r",
      "\u001b[K     |███████▍                        | 30 kB 10.1 MB/s eta 0:00:01\r",
      "\u001b[K     |█████████▉                      | 40 kB 8.7 MB/s eta 0:00:01\r",
      "\u001b[K     |████████████▎                   | 51 kB 3.8 MB/s eta 0:00:01\r",
      "\u001b[K     |██████████████▊                 | 61 kB 4.5 MB/s eta 0:00:01\r",
      "\u001b[K     |█████████████████▏              | 71 kB 4.7 MB/s eta 0:00:01\r",
      "\u001b[K     |███████████████████▋            | 81 kB 4.8 MB/s eta 0:00:01\r",
      "\u001b[K     |██████████████████████          | 92 kB 5.3 MB/s eta 0:00:01\r",
      "\u001b[K     |████████████████████████▌       | 102 kB 4.4 MB/s eta 0:00:01\r",
      "\u001b[K     |███████████████████████████     | 112 kB 4.4 MB/s eta 0:00:01\r",
      "\u001b[K     |█████████████████████████████▍  | 122 kB 4.4 MB/s eta 0:00:01\r",
      "\u001b[K     |███████████████████████████████▉| 133 kB 4.4 MB/s eta 0:00:01\r",
      "\u001b[K     |████████████████████████████████| 133 kB 4.4 MB/s \n",
      "\u001b[?25h"
     ]
    }
   ],
   "source": [
    "!pip install -q -U keras-tuner"
   ]
  },
  {
   "cell_type": "code",
   "execution_count": 16,
   "id": "M5te5ih0uP6u",
   "metadata": {
    "id": "M5te5ih0uP6u"
   },
   "outputs": [],
   "source": [
    "import pandas as pd\n",
    "from tensorflow import keras\n",
    "from tensorflow.keras import layers\n",
    "from keras_tuner.tuners import RandomSearch\n",
    "from tensorflow.keras.models import Sequential\n",
    "from tensorflow.keras.layers import LSTM\n",
    "from tensorflow.keras.layers import Dense,Dropout,SimpleRNN\n",
    "from tensorflow.keras.layers import Flatten\n",
    "import matplotlib.pyplot as plt"
   ]
  },
  {
   "cell_type": "code",
   "execution_count": null,
   "id": "rYiJC5hXuP_e",
   "metadata": {
    "id": "rYiJC5hXuP_e"
   },
   "outputs": [],
   "source": [
    "def build_model(hp):\n",
    "    model = keras.Sequential()\n",
    "    model.add(LSTM(hp.Int('rnn_layer',min_value=4,max_value=96,step=4), activation=\"relu\",input_shape=(1,look_back),recurrent_dropout = hp.Choice(\"first_recurrent_dropout\",[0.1,0.2,0.3],default=0.2)))\n",
    "    model.add(Dense(hp.Int('dense_layer',min_value=4,max_value=96,step=4),activation=\"relu\"))\n",
    "    model.add(Dropout(hp.Float('Dropout_rate',min_value=0,max_value=0.5,step=0.1)))\n",
    "    model.add(layers.Dense(1, activation='linear'))\n",
    "    model.compile(\n",
    "        optimizer=keras.optimizers.Adam(\n",
    "             hp.Float('learning_rate', min_value=1e-4, max_value=1e-1, sampling=\"log\")),\n",
    "        loss='mape',\n",
    "        metrics=['mape'])\n",
    "    return model"
   ]
  },
  {
   "cell_type": "code",
   "execution_count": null,
   "id": "2h_gRerjuQCT",
   "metadata": {
    "id": "2h_gRerjuQCT"
   },
   "outputs": [],
   "source": [
    "tuner = RandomSearch(\n",
    "    build_model,\n",
    "    objective='val_mape',\n",
    "    max_trials=10,\n",
    "    executions_per_trial=1,\n",
    "    directory='project',\n",
    "    project_name='loa_em_1')"
   ]
  },
  {
   "cell_type": "code",
   "execution_count": null,
   "id": "Dg5AHN3guQFu",
   "metadata": {
    "colab": {
     "base_uri": "https://localhost:8080/"
    },
    "id": "Dg5AHN3guQFu",
    "outputId": "694e12b9-5957-4e86-8bdc-d5a0e52ac0c2"
   },
   "outputs": [
    {
     "name": "stdout",
     "output_type": "stream",
     "text": [
      "Search space summary\n",
      "Default search space size: 5\n",
      "rnn_layer (Int)\n",
      "{'default': None, 'conditions': [], 'min_value': 4, 'max_value': 96, 'step': 4, 'sampling': None}\n",
      "first_recurrent_dropout (Choice)\n",
      "{'default': 0.2, 'conditions': [], 'values': [0.1, 0.2, 0.3], 'ordered': True}\n",
      "dense_layer (Int)\n",
      "{'default': None, 'conditions': [], 'min_value': 4, 'max_value': 96, 'step': 4, 'sampling': None}\n",
      "Dropout_rate (Float)\n",
      "{'default': 0.0, 'conditions': [], 'min_value': 0.0, 'max_value': 0.5, 'step': 0.1, 'sampling': None}\n",
      "learning_rate (Float)\n",
      "{'default': 0.0001, 'conditions': [], 'min_value': 0.0001, 'max_value': 0.1, 'step': None, 'sampling': 'log'}\n"
     ]
    }
   ],
   "source": [
    "tuner.search_space_summary()"
   ]
  },
  {
   "cell_type": "code",
   "execution_count": null,
   "id": "TiBXdF0K8Gpr",
   "metadata": {
    "colab": {
     "base_uri": "https://localhost:8080/"
    },
    "id": "TiBXdF0K8Gpr",
    "outputId": "9884aeb5-229d-4360-9f04-a04272f6f246"
   },
   "outputs": [
    {
     "name": "stdout",
     "output_type": "stream",
     "text": [
      "Trial 10 Complete [00h 01m 07s]\n",
      "val_mape: 0.47922512888908386\n",
      "\n",
      "Best val_mape So Far: 0.4684917628765106\n",
      "Total elapsed time: 00h 12m 49s\n",
      "INFO:tensorflow:Oracle triggered exit\n"
     ]
    }
   ],
   "source": [
    "tuner.search(trainX, trainY,\n",
    "             epochs=200,\n",
    "             batch_size=33,\n",
    "             validation_data=(testX, testY))"
   ]
  },
  {
   "cell_type": "code",
   "execution_count": null,
   "id": "VXXGH_RK8GsD",
   "metadata": {
    "colab": {
     "base_uri": "https://localhost:8080/"
    },
    "id": "VXXGH_RK8GsD",
    "outputId": "c87fdcc6-e207-4724-ad45-fe5e520449be"
   },
   "outputs": [
    {
     "name": "stdout",
     "output_type": "stream",
     "text": [
      "Results summary\n",
      "Results in project/loa_em_1\n",
      "Showing 10 best trials\n",
      "Objective(name='val_mape', direction='min')\n",
      "Trial summary\n",
      "Hyperparameters:\n",
      "rnn_layer: 76\n",
      "first_recurrent_dropout: 0.3\n",
      "dense_layer: 28\n",
      "Dropout_rate: 0.0\n",
      "learning_rate: 0.0007062940414508486\n",
      "Score: 0.4684917628765106\n",
      "Trial summary\n",
      "Hyperparameters:\n",
      "rnn_layer: 24\n",
      "first_recurrent_dropout: 0.3\n",
      "dense_layer: 80\n",
      "Dropout_rate: 0.30000000000000004\n",
      "learning_rate: 0.0039273683450240056\n",
      "Score: 0.47922512888908386\n",
      "Trial summary\n",
      "Hyperparameters:\n",
      "rnn_layer: 36\n",
      "first_recurrent_dropout: 0.2\n",
      "dense_layer: 64\n",
      "Dropout_rate: 0.0\n",
      "learning_rate: 0.020764742941149803\n",
      "Score: 0.47985491156578064\n",
      "Trial summary\n",
      "Hyperparameters:\n",
      "rnn_layer: 60\n",
      "first_recurrent_dropout: 0.3\n",
      "dense_layer: 84\n",
      "Dropout_rate: 0.2\n",
      "learning_rate: 0.0008218430847227947\n",
      "Score: 0.494182825088501\n",
      "Trial summary\n",
      "Hyperparameters:\n",
      "rnn_layer: 36\n",
      "first_recurrent_dropout: 0.1\n",
      "dense_layer: 44\n",
      "Dropout_rate: 0.2\n",
      "learning_rate: 0.010302251063280697\n",
      "Score: 0.5000973343849182\n",
      "Trial summary\n",
      "Hyperparameters:\n",
      "rnn_layer: 36\n",
      "first_recurrent_dropout: 0.3\n",
      "dense_layer: 16\n",
      "Dropout_rate: 0.30000000000000004\n",
      "learning_rate: 0.04200067183748815\n",
      "Score: 0.5617093443870544\n",
      "Trial summary\n",
      "Hyperparameters:\n",
      "rnn_layer: 8\n",
      "first_recurrent_dropout: 0.1\n",
      "dense_layer: 68\n",
      "Dropout_rate: 0.4\n",
      "learning_rate: 0.0006942253665257933\n",
      "Score: 0.6860242486000061\n",
      "Trial summary\n",
      "Hyperparameters:\n",
      "rnn_layer: 60\n",
      "first_recurrent_dropout: 0.1\n",
      "dense_layer: 16\n",
      "Dropout_rate: 0.30000000000000004\n",
      "learning_rate: 0.0003789357442556485\n",
      "Score: 0.7074643969535828\n",
      "Trial summary\n",
      "Hyperparameters:\n",
      "rnn_layer: 8\n",
      "first_recurrent_dropout: 0.3\n",
      "dense_layer: 40\n",
      "Dropout_rate: 0.30000000000000004\n",
      "learning_rate: 0.0015173732021127955\n",
      "Score: 0.9309297204017639\n",
      "Trial summary\n",
      "Hyperparameters:\n",
      "rnn_layer: 4\n",
      "first_recurrent_dropout: 0.3\n",
      "dense_layer: 24\n",
      "Dropout_rate: 0.5\n",
      "learning_rate: 0.0013443802578955487\n",
      "Score: 7.947453498840332\n"
     ]
    }
   ],
   "source": [
    "tuner.results_summary()"
   ]
  },
  {
   "cell_type": "code",
   "execution_count": null,
   "id": "FBpLenJ_DZMX",
   "metadata": {
    "id": "FBpLenJ_DZMX"
   },
   "outputs": [],
   "source": [
    "from warnings import filterwarnings\n",
    "filterwarnings('ignore')"
   ]
  },
  {
   "cell_type": "code",
   "execution_count": null,
   "id": "eL-a8rAv8Gvg",
   "metadata": {
    "colab": {
     "base_uri": "https://localhost:8080/"
    },
    "id": "eL-a8rAv8Gvg",
    "outputId": "1e1307e4-e5dd-4ffa-f4b6-12c3a1f33d37"
   },
   "outputs": [
    {
     "name": "stdout",
     "output_type": "stream",
     "text": [
      "Model: \"sequential\"\n",
      "_________________________________________________________________\n",
      " Layer (type)                Output Shape              Param #   \n",
      "=================================================================\n",
      " lstm (LSTM)                 (None, 76)                24928     \n",
      "                                                                 \n",
      " dense (Dense)               (None, 28)                2156      \n",
      "                                                                 \n",
      " dropout (Dropout)           (None, 28)                0         \n",
      "                                                                 \n",
      " dense_1 (Dense)             (None, 1)                 29        \n",
      "                                                                 \n",
      "=================================================================\n",
      "Total params: 27,113\n",
      "Trainable params: 27,113\n",
      "Non-trainable params: 0\n",
      "_________________________________________________________________\n"
     ]
    }
   ],
   "source": [
    "models = tuner.get_best_models(num_models=2)\n",
    "best_model = models[0]\n",
    "# Build the model.\n",
    "# Needed for `Sequential` without specified `input_shape`.\n",
    "best_model.build(input_shape=(None, 5))\n",
    "best_model.summary()"
   ]
  },
  {
   "cell_type": "code",
   "execution_count": 17,
   "id": "ovKDjDHZEmLV",
   "metadata": {
    "id": "ovKDjDHZEmLV"
   },
   "outputs": [],
   "source": [
    "from tensorflow.keras import optimizers\n",
    "from tensorflow.keras.callbacks import EarlyStopping\n",
    "from tensorflow.keras.layers import Bidirectional"
   ]
  },
  {
   "cell_type": "code",
   "execution_count": 41,
   "id": "0e187ddc",
   "metadata": {
    "colab": {
     "base_uri": "https://localhost:8080/"
    },
    "id": "0e187ddc",
    "outputId": "06847751-981e-466c-a8e8-7355d196ced0"
   },
   "outputs": [
    {
     "name": "stdout",
     "output_type": "stream",
     "text": [
      "Epoch 1/200\n",
      "68/68 [==============================] - 5s 11ms/step - loss: 81.2906 - mape: 81.2906 - val_loss: 71.2153 - val_mape: 71.2153\n",
      "Epoch 2/200\n",
      "68/68 [==============================] - 0s 5ms/step - loss: 47.7127 - mape: 47.7127 - val_loss: 38.5891 - val_mape: 38.5891\n",
      "Epoch 3/200\n",
      "68/68 [==============================] - 1s 9ms/step - loss: 16.5953 - mape: 16.5953 - val_loss: 6.6161 - val_mape: 6.6161\n",
      "Epoch 4/200\n",
      "68/68 [==============================] - 1s 11ms/step - loss: 8.3099 - mape: 8.3099 - val_loss: 1.0327 - val_mape: 1.0327\n",
      "Epoch 5/200\n",
      "68/68 [==============================] - 0s 5ms/step - loss: 5.3095 - mape: 5.3095 - val_loss: 2.8352 - val_mape: 2.8352\n",
      "Epoch 6/200\n",
      "68/68 [==============================] - 0s 5ms/step - loss: 3.7585 - mape: 3.7585 - val_loss: 4.1019 - val_mape: 4.1019\n",
      "Epoch 7/200\n",
      "68/68 [==============================] - 0s 5ms/step - loss: 3.3291 - mape: 3.3291 - val_loss: 6.6826 - val_mape: 6.6826\n",
      "Epoch 8/200\n",
      "68/68 [==============================] - 0s 5ms/step - loss: 3.1961 - mape: 3.1961 - val_loss: 5.3496 - val_mape: 5.3496\n",
      "Epoch 9/200\n",
      "68/68 [==============================] - 0s 5ms/step - loss: 3.0982 - mape: 3.0982 - val_loss: 5.9904 - val_mape: 5.9904\n",
      "Epoch 10/200\n",
      "68/68 [==============================] - 0s 5ms/step - loss: 3.0232 - mape: 3.0232 - val_loss: 5.4283 - val_mape: 5.4283\n",
      "Epoch 11/200\n",
      "68/68 [==============================] - 0s 5ms/step - loss: 2.9314 - mape: 2.9314 - val_loss: 5.6543 - val_mape: 5.6543\n",
      "Epoch 12/200\n",
      "68/68 [==============================] - 0s 6ms/step - loss: 2.8692 - mape: 2.8692 - val_loss: 5.5734 - val_mape: 5.5734\n",
      "Epoch 13/200\n",
      "68/68 [==============================] - 0s 5ms/step - loss: 2.8073 - mape: 2.8073 - val_loss: 5.1697 - val_mape: 5.1697\n",
      "Epoch 14/200\n",
      "68/68 [==============================] - 0s 5ms/step - loss: 2.7474 - mape: 2.7474 - val_loss: 4.3918 - val_mape: 4.3918\n",
      "Epoch 15/200\n",
      "68/68 [==============================] - 0s 5ms/step - loss: 2.6497 - mape: 2.6497 - val_loss: 3.8332 - val_mape: 3.8332\n",
      "Epoch 16/200\n",
      "68/68 [==============================] - 0s 5ms/step - loss: 2.5907 - mape: 2.5907 - val_loss: 3.2048 - val_mape: 3.2048\n",
      "Epoch 17/200\n",
      "68/68 [==============================] - 0s 5ms/step - loss: 2.5278 - mape: 2.5278 - val_loss: 4.0460 - val_mape: 4.0460\n",
      "Epoch 18/200\n",
      "68/68 [==============================] - 0s 5ms/step - loss: 2.4500 - mape: 2.4500 - val_loss: 4.2291 - val_mape: 4.2291\n",
      "Epoch 19/200\n",
      "68/68 [==============================] - 0s 5ms/step - loss: 2.3891 - mape: 2.3891 - val_loss: 3.2519 - val_mape: 3.2519\n",
      "Epoch 20/200\n",
      "68/68 [==============================] - 0s 5ms/step - loss: 2.3164 - mape: 2.3164 - val_loss: 2.1535 - val_mape: 2.1535\n",
      "Epoch 21/200\n",
      "68/68 [==============================] - 0s 5ms/step - loss: 2.2832 - mape: 2.2832 - val_loss: 2.3041 - val_mape: 2.3041\n",
      "Epoch 22/200\n",
      "68/68 [==============================] - 0s 5ms/step - loss: 2.2098 - mape: 2.2098 - val_loss: 3.1056 - val_mape: 3.1056\n",
      "Epoch 23/200\n",
      "68/68 [==============================] - 0s 5ms/step - loss: 2.1712 - mape: 2.1712 - val_loss: 1.3485 - val_mape: 1.3485\n",
      "Epoch 24/200\n",
      "68/68 [==============================] - 0s 5ms/step - loss: 2.1349 - mape: 2.1349 - val_loss: 1.8219 - val_mape: 1.8219\n",
      "Epoch 25/200\n",
      "68/68 [==============================] - 0s 6ms/step - loss: 2.1104 - mape: 2.1104 - val_loss: 2.3787 - val_mape: 2.3787\n",
      "Epoch 26/200\n",
      "68/68 [==============================] - 0s 5ms/step - loss: 2.0863 - mape: 2.0863 - val_loss: 1.2600 - val_mape: 1.2600\n",
      "Epoch 27/200\n",
      "68/68 [==============================] - 0s 5ms/step - loss: 2.0630 - mape: 2.0630 - val_loss: 1.3584 - val_mape: 1.3584\n",
      "Epoch 28/200\n",
      "68/68 [==============================] - 0s 5ms/step - loss: 2.0770 - mape: 2.0770 - val_loss: 1.3336 - val_mape: 1.3336\n",
      "Epoch 29/200\n",
      "68/68 [==============================] - 0s 5ms/step - loss: 2.0292 - mape: 2.0292 - val_loss: 1.1303 - val_mape: 1.1303\n",
      "Epoch 30/200\n",
      "68/68 [==============================] - 0s 5ms/step - loss: 2.0228 - mape: 2.0228 - val_loss: 1.6965 - val_mape: 1.6965\n",
      "Epoch 31/200\n",
      "68/68 [==============================] - 0s 6ms/step - loss: 2.0195 - mape: 2.0195 - val_loss: 1.0284 - val_mape: 1.0284\n",
      "Epoch 32/200\n",
      "68/68 [==============================] - 0s 6ms/step - loss: 2.0309 - mape: 2.0309 - val_loss: 1.0735 - val_mape: 1.0735\n",
      "Epoch 33/200\n",
      "68/68 [==============================] - 0s 6ms/step - loss: 1.9941 - mape: 1.9941 - val_loss: 0.9854 - val_mape: 0.9854\n",
      "Epoch 34/200\n",
      "68/68 [==============================] - 0s 6ms/step - loss: 1.9917 - mape: 1.9917 - val_loss: 0.9151 - val_mape: 0.9151\n",
      "Epoch 35/200\n",
      "68/68 [==============================] - 0s 5ms/step - loss: 1.9774 - mape: 1.9774 - val_loss: 0.8795 - val_mape: 0.8795\n",
      "Epoch 36/200\n",
      "68/68 [==============================] - 0s 5ms/step - loss: 1.9646 - mape: 1.9646 - val_loss: 1.0023 - val_mape: 1.0023\n",
      "Epoch 37/200\n",
      "68/68 [==============================] - 0s 5ms/step - loss: 1.9723 - mape: 1.9723 - val_loss: 1.2222 - val_mape: 1.2222\n",
      "Epoch 38/200\n",
      "68/68 [==============================] - 0s 5ms/step - loss: 1.9561 - mape: 1.9561 - val_loss: 1.0122 - val_mape: 1.0122\n",
      "Epoch 39/200\n",
      "68/68 [==============================] - 0s 5ms/step - loss: 1.9910 - mape: 1.9910 - val_loss: 0.8778 - val_mape: 0.8778\n",
      "Epoch 40/200\n",
      "68/68 [==============================] - 0s 5ms/step - loss: 1.9990 - mape: 1.9990 - val_loss: 0.8335 - val_mape: 0.8335\n",
      "Epoch 41/200\n",
      "68/68 [==============================] - 0s 5ms/step - loss: 1.9529 - mape: 1.9529 - val_loss: 0.8979 - val_mape: 0.8979\n",
      "Epoch 42/200\n",
      "68/68 [==============================] - 0s 5ms/step - loss: 1.9234 - mape: 1.9234 - val_loss: 0.8656 - val_mape: 0.8656\n",
      "Epoch 43/200\n",
      "68/68 [==============================] - 0s 6ms/step - loss: 1.9189 - mape: 1.9189 - val_loss: 0.8012 - val_mape: 0.8012\n",
      "Epoch 44/200\n",
      "68/68 [==============================] - 0s 5ms/step - loss: 1.9071 - mape: 1.9071 - val_loss: 1.0197 - val_mape: 1.0197\n",
      "Epoch 45/200\n",
      "68/68 [==============================] - 0s 5ms/step - loss: 1.9048 - mape: 1.9048 - val_loss: 0.9310 - val_mape: 0.9310\n",
      "Epoch 46/200\n",
      "68/68 [==============================] - 0s 5ms/step - loss: 1.8873 - mape: 1.8873 - val_loss: 0.7886 - val_mape: 0.7886\n",
      "Epoch 47/200\n",
      "68/68 [==============================] - 0s 5ms/step - loss: 1.8958 - mape: 1.8958 - val_loss: 0.8093 - val_mape: 0.8093\n",
      "Epoch 48/200\n",
      "68/68 [==============================] - 0s 6ms/step - loss: 1.8840 - mape: 1.8840 - val_loss: 0.8192 - val_mape: 0.8192\n",
      "Epoch 49/200\n",
      "68/68 [==============================] - 0s 6ms/step - loss: 1.9027 - mape: 1.9027 - val_loss: 0.8151 - val_mape: 0.8151\n",
      "Epoch 50/200\n",
      "68/68 [==============================] - 0s 5ms/step - loss: 1.8853 - mape: 1.8853 - val_loss: 0.9462 - val_mape: 0.9462\n",
      "Epoch 51/200\n",
      "68/68 [==============================] - 0s 5ms/step - loss: 1.8584 - mape: 1.8584 - val_loss: 0.8570 - val_mape: 0.8570\n",
      "Epoch 52/200\n",
      "68/68 [==============================] - 0s 5ms/step - loss: 1.8521 - mape: 1.8521 - val_loss: 0.8630 - val_mape: 0.8630\n",
      "Epoch 53/200\n",
      "68/68 [==============================] - 0s 5ms/step - loss: 1.8627 - mape: 1.8627 - val_loss: 0.7592 - val_mape: 0.7592\n",
      "Epoch 54/200\n",
      "68/68 [==============================] - 0s 5ms/step - loss: 1.8384 - mape: 1.8384 - val_loss: 1.3403 - val_mape: 1.3403\n",
      "Epoch 55/200\n",
      "68/68 [==============================] - 0s 5ms/step - loss: 1.8333 - mape: 1.8333 - val_loss: 0.7504 - val_mape: 0.7504\n",
      "Epoch 56/200\n",
      "68/68 [==============================] - 0s 5ms/step - loss: 1.8144 - mape: 1.8144 - val_loss: 0.7466 - val_mape: 0.7466\n",
      "Epoch 57/200\n",
      "68/68 [==============================] - 0s 5ms/step - loss: 1.8013 - mape: 1.8013 - val_loss: 0.9319 - val_mape: 0.9319\n",
      "Epoch 58/200\n",
      "68/68 [==============================] - 0s 5ms/step - loss: 1.8065 - mape: 1.8065 - val_loss: 0.8533 - val_mape: 0.8533\n",
      "Epoch 59/200\n",
      "68/68 [==============================] - 0s 5ms/step - loss: 1.7811 - mape: 1.7811 - val_loss: 1.0100 - val_mape: 1.0100\n",
      "Epoch 60/200\n",
      "68/68 [==============================] - 0s 6ms/step - loss: 1.7879 - mape: 1.7879 - val_loss: 0.8043 - val_mape: 0.8043\n",
      "Epoch 61/200\n",
      "68/68 [==============================] - 0s 5ms/step - loss: 1.7871 - mape: 1.7871 - val_loss: 0.9518 - val_mape: 0.9518\n",
      "Epoch 62/200\n",
      "68/68 [==============================] - 0s 5ms/step - loss: 1.7881 - mape: 1.7881 - val_loss: 0.9227 - val_mape: 0.9227\n",
      "Epoch 63/200\n",
      "68/68 [==============================] - 0s 5ms/step - loss: 1.7678 - mape: 1.7678 - val_loss: 0.7358 - val_mape: 0.7358\n",
      "Epoch 64/200\n",
      "68/68 [==============================] - 0s 5ms/step - loss: 1.7551 - mape: 1.7551 - val_loss: 0.8030 - val_mape: 0.8030\n",
      "Epoch 65/200\n",
      "68/68 [==============================] - 0s 5ms/step - loss: 1.7595 - mape: 1.7595 - val_loss: 0.7591 - val_mape: 0.7591\n",
      "Epoch 66/200\n",
      "68/68 [==============================] - 0s 5ms/step - loss: 1.7307 - mape: 1.7307 - val_loss: 0.7403 - val_mape: 0.7403\n",
      "Epoch 67/200\n",
      "68/68 [==============================] - 0s 5ms/step - loss: 1.7200 - mape: 1.7200 - val_loss: 0.7293 - val_mape: 0.7293\n",
      "Epoch 68/200\n",
      "68/68 [==============================] - 0s 6ms/step - loss: 1.7281 - mape: 1.7281 - val_loss: 1.0696 - val_mape: 1.0696\n",
      "Epoch 69/200\n",
      "68/68 [==============================] - 0s 5ms/step - loss: 1.7134 - mape: 1.7134 - val_loss: 0.8980 - val_mape: 0.8980\n",
      "Epoch 70/200\n",
      "68/68 [==============================] - 0s 5ms/step - loss: 1.7092 - mape: 1.7092 - val_loss: 0.7238 - val_mape: 0.7238\n",
      "Epoch 71/200\n",
      "68/68 [==============================] - 0s 5ms/step - loss: 1.7175 - mape: 1.7175 - val_loss: 0.8975 - val_mape: 0.8975\n",
      "Epoch 72/200\n",
      "68/68 [==============================] - 0s 5ms/step - loss: 1.7124 - mape: 1.7124 - val_loss: 0.7008 - val_mape: 0.7008\n",
      "Epoch 73/200\n",
      "68/68 [==============================] - 0s 5ms/step - loss: 1.6864 - mape: 1.6864 - val_loss: 1.0199 - val_mape: 1.0199\n",
      "Epoch 74/200\n",
      "68/68 [==============================] - 0s 5ms/step - loss: 1.6764 - mape: 1.6764 - val_loss: 0.6988 - val_mape: 0.6988\n",
      "Epoch 75/200\n",
      "68/68 [==============================] - 0s 5ms/step - loss: 1.6732 - mape: 1.6732 - val_loss: 0.7030 - val_mape: 0.7030\n",
      "Epoch 76/200\n",
      "68/68 [==============================] - 0s 5ms/step - loss: 1.6549 - mape: 1.6549 - val_loss: 0.6794 - val_mape: 0.6794\n",
      "Epoch 77/200\n",
      "68/68 [==============================] - 0s 5ms/step - loss: 1.6594 - mape: 1.6594 - val_loss: 0.7707 - val_mape: 0.7707\n",
      "Epoch 78/200\n",
      "68/68 [==============================] - 0s 5ms/step - loss: 1.6461 - mape: 1.6461 - val_loss: 0.7337 - val_mape: 0.7337\n",
      "Epoch 79/200\n",
      "68/68 [==============================] - 0s 5ms/step - loss: 1.6512 - mape: 1.6512 - val_loss: 0.7760 - val_mape: 0.7760\n",
      "Epoch 80/200\n",
      "68/68 [==============================] - 0s 5ms/step - loss: 1.6557 - mape: 1.6557 - val_loss: 0.6796 - val_mape: 0.6796\n",
      "Epoch 81/200\n",
      "68/68 [==============================] - 0s 5ms/step - loss: 1.6361 - mape: 1.6361 - val_loss: 0.6819 - val_mape: 0.6819\n",
      "Epoch 82/200\n",
      "68/68 [==============================] - 0s 5ms/step - loss: 1.6193 - mape: 1.6193 - val_loss: 0.6508 - val_mape: 0.6508\n",
      "Epoch 83/200\n",
      "68/68 [==============================] - 0s 5ms/step - loss: 1.6111 - mape: 1.6111 - val_loss: 0.9366 - val_mape: 0.9366\n",
      "Epoch 84/200\n",
      "68/68 [==============================] - 0s 5ms/step - loss: 1.6011 - mape: 1.6011 - val_loss: 0.8326 - val_mape: 0.8326\n",
      "Epoch 85/200\n",
      "68/68 [==============================] - 0s 5ms/step - loss: 1.5888 - mape: 1.5888 - val_loss: 0.6339 - val_mape: 0.6339\n",
      "Epoch 86/200\n",
      "68/68 [==============================] - 0s 5ms/step - loss: 1.5873 - mape: 1.5873 - val_loss: 0.6865 - val_mape: 0.6865\n",
      "Epoch 87/200\n",
      "68/68 [==============================] - 0s 5ms/step - loss: 1.5970 - mape: 1.5970 - val_loss: 0.9711 - val_mape: 0.9711\n",
      "Epoch 88/200\n",
      "68/68 [==============================] - 0s 5ms/step - loss: 1.5705 - mape: 1.5705 - val_loss: 0.7112 - val_mape: 0.7112\n",
      "Epoch 89/200\n",
      "68/68 [==============================] - 0s 5ms/step - loss: 1.5820 - mape: 1.5820 - val_loss: 0.6655 - val_mape: 0.6655\n",
      "Epoch 90/200\n",
      "68/68 [==============================] - 0s 5ms/step - loss: 1.5747 - mape: 1.5747 - val_loss: 0.6197 - val_mape: 0.6197\n",
      "Epoch 91/200\n",
      "68/68 [==============================] - 0s 6ms/step - loss: 1.5637 - mape: 1.5637 - val_loss: 0.6777 - val_mape: 0.6777\n",
      "Epoch 92/200\n",
      "68/68 [==============================] - 0s 5ms/step - loss: 1.5470 - mape: 1.5470 - val_loss: 0.6166 - val_mape: 0.6166\n",
      "Epoch 93/200\n",
      "68/68 [==============================] - 0s 5ms/step - loss: 1.5407 - mape: 1.5407 - val_loss: 0.7891 - val_mape: 0.7891\n",
      "Epoch 94/200\n",
      "68/68 [==============================] - 0s 5ms/step - loss: 1.5517 - mape: 1.5517 - val_loss: 0.6282 - val_mape: 0.6282\n",
      "Epoch 95/200\n",
      "68/68 [==============================] - 0s 5ms/step - loss: 1.5290 - mape: 1.5290 - val_loss: 0.6520 - val_mape: 0.6520\n",
      "Epoch 96/200\n",
      "68/68 [==============================] - 0s 5ms/step - loss: 1.5252 - mape: 1.5252 - val_loss: 0.5989 - val_mape: 0.5989\n",
      "Epoch 97/200\n",
      "68/68 [==============================] - 0s 5ms/step - loss: 1.5109 - mape: 1.5109 - val_loss: 0.7658 - val_mape: 0.7658\n",
      "Epoch 98/200\n",
      "68/68 [==============================] - 0s 5ms/step - loss: 1.4953 - mape: 1.4953 - val_loss: 0.6304 - val_mape: 0.6304\n",
      "Epoch 99/200\n",
      "68/68 [==============================] - 0s 5ms/step - loss: 1.5460 - mape: 1.5460 - val_loss: 0.5993 - val_mape: 0.5993\n",
      "Epoch 100/200\n",
      "68/68 [==============================] - 0s 5ms/step - loss: 1.4881 - mape: 1.4881 - val_loss: 0.9361 - val_mape: 0.9361\n",
      "Epoch 101/200\n",
      "68/68 [==============================] - 0s 5ms/step - loss: 1.5315 - mape: 1.5315 - val_loss: 0.6225 - val_mape: 0.6225\n",
      "Epoch 102/200\n",
      "68/68 [==============================] - 0s 5ms/step - loss: 1.5023 - mape: 1.5023 - val_loss: 0.6000 - val_mape: 0.6000\n",
      "Epoch 103/200\n",
      "68/68 [==============================] - 0s 5ms/step - loss: 1.4662 - mape: 1.4662 - val_loss: 0.7921 - val_mape: 0.7921\n",
      "Epoch 104/200\n",
      "68/68 [==============================] - 0s 5ms/step - loss: 1.4598 - mape: 1.4598 - val_loss: 0.7739 - val_mape: 0.7739\n",
      "Epoch 105/200\n",
      "68/68 [==============================] - 0s 5ms/step - loss: 1.4754 - mape: 1.4754 - val_loss: 0.5752 - val_mape: 0.5752\n",
      "Epoch 106/200\n",
      "68/68 [==============================] - 0s 5ms/step - loss: 1.4559 - mape: 1.4559 - val_loss: 0.6042 - val_mape: 0.6042\n",
      "Epoch 107/200\n",
      "68/68 [==============================] - 0s 5ms/step - loss: 1.4908 - mape: 1.4908 - val_loss: 0.7223 - val_mape: 0.7223\n",
      "Epoch 108/200\n",
      "68/68 [==============================] - 0s 5ms/step - loss: 1.4495 - mape: 1.4495 - val_loss: 0.5662 - val_mape: 0.5662\n",
      "Epoch 109/200\n",
      "68/68 [==============================] - 0s 5ms/step - loss: 1.4948 - mape: 1.4948 - val_loss: 0.6939 - val_mape: 0.6939\n",
      "Epoch 110/200\n",
      "68/68 [==============================] - 0s 5ms/step - loss: 1.4563 - mape: 1.4563 - val_loss: 0.5831 - val_mape: 0.5831\n",
      "Epoch 111/200\n",
      "68/68 [==============================] - 0s 5ms/step - loss: 1.4304 - mape: 1.4304 - val_loss: 0.5711 - val_mape: 0.5711\n",
      "Epoch 112/200\n",
      "68/68 [==============================] - 0s 5ms/step - loss: 1.4438 - mape: 1.4438 - val_loss: 0.7427 - val_mape: 0.7427\n",
      "Epoch 113/200\n",
      "68/68 [==============================] - 0s 5ms/step - loss: 1.4503 - mape: 1.4503 - val_loss: 0.7176 - val_mape: 0.7176\n",
      "Epoch 114/200\n",
      "68/68 [==============================] - 0s 5ms/step - loss: 1.4087 - mape: 1.4087 - val_loss: 0.5828 - val_mape: 0.5828\n",
      "Epoch 115/200\n",
      "68/68 [==============================] - 0s 6ms/step - loss: 1.4244 - mape: 1.4244 - val_loss: 0.5852 - val_mape: 0.5852\n",
      "Epoch 116/200\n",
      "68/68 [==============================] - 0s 5ms/step - loss: 1.3975 - mape: 1.3975 - val_loss: 0.6230 - val_mape: 0.6230\n",
      "Epoch 117/200\n",
      "68/68 [==============================] - 0s 5ms/step - loss: 1.4257 - mape: 1.4257 - val_loss: 0.5652 - val_mape: 0.5652\n",
      "Epoch 118/200\n",
      "68/68 [==============================] - 0s 6ms/step - loss: 1.3820 - mape: 1.3820 - val_loss: 0.5610 - val_mape: 0.5610\n",
      "Epoch 119/200\n",
      "68/68 [==============================] - 0s 5ms/step - loss: 1.3965 - mape: 1.3965 - val_loss: 0.5544 - val_mape: 0.5544\n",
      "Epoch 120/200\n",
      "68/68 [==============================] - 0s 6ms/step - loss: 1.3986 - mape: 1.3986 - val_loss: 0.6579 - val_mape: 0.6579\n",
      "Epoch 121/200\n",
      "68/68 [==============================] - 0s 5ms/step - loss: 1.3955 - mape: 1.3955 - val_loss: 0.5393 - val_mape: 0.5393\n",
      "Epoch 122/200\n",
      "68/68 [==============================] - 0s 5ms/step - loss: 1.3725 - mape: 1.3725 - val_loss: 0.5404 - val_mape: 0.5404\n",
      "Epoch 123/200\n",
      "68/68 [==============================] - 0s 5ms/step - loss: 1.3780 - mape: 1.3780 - val_loss: 0.5970 - val_mape: 0.5970\n",
      "Epoch 124/200\n",
      "68/68 [==============================] - 0s 5ms/step - loss: 1.3873 - mape: 1.3873 - val_loss: 0.7305 - val_mape: 0.7305\n",
      "Epoch 125/200\n",
      "68/68 [==============================] - 0s 5ms/step - loss: 1.3868 - mape: 1.3868 - val_loss: 0.5721 - val_mape: 0.5721\n",
      "Epoch 126/200\n",
      "68/68 [==============================] - 0s 6ms/step - loss: 1.3560 - mape: 1.3560 - val_loss: 0.5401 - val_mape: 0.5401\n",
      "Epoch 127/200\n",
      "68/68 [==============================] - 0s 5ms/step - loss: 1.3492 - mape: 1.3492 - val_loss: 0.5274 - val_mape: 0.5274\n",
      "Epoch 128/200\n",
      "68/68 [==============================] - 0s 5ms/step - loss: 1.3692 - mape: 1.3692 - val_loss: 0.7757 - val_mape: 0.7757\n",
      "Epoch 129/200\n",
      "68/68 [==============================] - 0s 6ms/step - loss: 1.3676 - mape: 1.3676 - val_loss: 0.5233 - val_mape: 0.5233\n",
      "Epoch 130/200\n",
      "68/68 [==============================] - 0s 6ms/step - loss: 1.3350 - mape: 1.3350 - val_loss: 0.5901 - val_mape: 0.5901\n",
      "Epoch 131/200\n",
      "68/68 [==============================] - 0s 6ms/step - loss: 1.3621 - mape: 1.3621 - val_loss: 0.5691 - val_mape: 0.5691\n",
      "Epoch 132/200\n",
      "68/68 [==============================] - 0s 5ms/step - loss: 1.3366 - mape: 1.3366 - val_loss: 0.5852 - val_mape: 0.5852\n",
      "Epoch 133/200\n",
      "68/68 [==============================] - 0s 5ms/step - loss: 1.3303 - mape: 1.3303 - val_loss: 0.5192 - val_mape: 0.5192\n",
      "Epoch 134/200\n",
      "68/68 [==============================] - 0s 6ms/step - loss: 1.3285 - mape: 1.3285 - val_loss: 0.5141 - val_mape: 0.5141\n",
      "Epoch 135/200\n",
      "68/68 [==============================] - 0s 5ms/step - loss: 1.3388 - mape: 1.3388 - val_loss: 0.5217 - val_mape: 0.5217\n",
      "Epoch 136/200\n",
      "68/68 [==============================] - 0s 5ms/step - loss: 1.3117 - mape: 1.3117 - val_loss: 0.5358 - val_mape: 0.5358\n",
      "Epoch 137/200\n",
      "68/68 [==============================] - 0s 5ms/step - loss: 1.3116 - mape: 1.3116 - val_loss: 0.5129 - val_mape: 0.5129\n",
      "Epoch 138/200\n",
      "68/68 [==============================] - 0s 5ms/step - loss: 1.3140 - mape: 1.3140 - val_loss: 0.8640 - val_mape: 0.8640\n",
      "Epoch 139/200\n",
      "68/68 [==============================] - 0s 5ms/step - loss: 1.3249 - mape: 1.3249 - val_loss: 0.8187 - val_mape: 0.8187\n",
      "Epoch 140/200\n",
      "68/68 [==============================] - 0s 5ms/step - loss: 1.3181 - mape: 1.3181 - val_loss: 0.5123 - val_mape: 0.5123\n",
      "Epoch 141/200\n",
      "68/68 [==============================] - 0s 5ms/step - loss: 1.2910 - mape: 1.2910 - val_loss: 0.6019 - val_mape: 0.6019\n",
      "Epoch 142/200\n",
      "68/68 [==============================] - 0s 5ms/step - loss: 1.2996 - mape: 1.2996 - val_loss: 0.6783 - val_mape: 0.6783\n",
      "Epoch 143/200\n",
      "68/68 [==============================] - 0s 5ms/step - loss: 1.3076 - mape: 1.3076 - val_loss: 0.5248 - val_mape: 0.5248\n",
      "Epoch 144/200\n",
      "68/68 [==============================] - 0s 5ms/step - loss: 1.3055 - mape: 1.3055 - val_loss: 0.5347 - val_mape: 0.5347\n",
      "Epoch 145/200\n",
      "68/68 [==============================] - 0s 5ms/step - loss: 1.2890 - mape: 1.2890 - val_loss: 0.5351 - val_mape: 0.5351\n",
      "Epoch 146/200\n",
      "68/68 [==============================] - 0s 6ms/step - loss: 1.2823 - mape: 1.2823 - val_loss: 0.5007 - val_mape: 0.5007\n",
      "Epoch 147/200\n",
      "68/68 [==============================] - 0s 5ms/step - loss: 1.2791 - mape: 1.2791 - val_loss: 0.7099 - val_mape: 0.7099\n",
      "Epoch 148/200\n",
      "68/68 [==============================] - 0s 5ms/step - loss: 1.2722 - mape: 1.2722 - val_loss: 0.5286 - val_mape: 0.5286\n",
      "Epoch 149/200\n",
      "68/68 [==============================] - 0s 5ms/step - loss: 1.2657 - mape: 1.2657 - val_loss: 0.5680 - val_mape: 0.5680\n",
      "Epoch 150/200\n",
      "68/68 [==============================] - 0s 5ms/step - loss: 1.2901 - mape: 1.2901 - val_loss: 0.5264 - val_mape: 0.5264\n",
      "Epoch 151/200\n",
      "68/68 [==============================] - 0s 5ms/step - loss: 1.2672 - mape: 1.2672 - val_loss: 0.4932 - val_mape: 0.4932\n",
      "Epoch 152/200\n",
      "68/68 [==============================] - 0s 5ms/step - loss: 1.2533 - mape: 1.2533 - val_loss: 0.6349 - val_mape: 0.6349\n",
      "Epoch 153/200\n",
      "68/68 [==============================] - 0s 5ms/step - loss: 1.2468 - mape: 1.2468 - val_loss: 0.7239 - val_mape: 0.7239\n",
      "Epoch 154/200\n",
      "68/68 [==============================] - 0s 5ms/step - loss: 1.2784 - mape: 1.2784 - val_loss: 0.6793 - val_mape: 0.6793\n",
      "Epoch 155/200\n",
      "68/68 [==============================] - 0s 5ms/step - loss: 1.2602 - mape: 1.2602 - val_loss: 0.7622 - val_mape: 0.7622\n",
      "Epoch 156/200\n",
      "68/68 [==============================] - 0s 5ms/step - loss: 1.2797 - mape: 1.2797 - val_loss: 0.5507 - val_mape: 0.5507\n",
      "Epoch 157/200\n",
      "68/68 [==============================] - 0s 5ms/step - loss: 1.2444 - mape: 1.2444 - val_loss: 0.4877 - val_mape: 0.4877\n",
      "Epoch 158/200\n",
      "68/68 [==============================] - 0s 5ms/step - loss: 1.2591 - mape: 1.2591 - val_loss: 0.5084 - val_mape: 0.5084\n",
      "Epoch 159/200\n",
      "68/68 [==============================] - 0s 5ms/step - loss: 1.2460 - mape: 1.2460 - val_loss: 0.7401 - val_mape: 0.7401\n",
      "Epoch 160/200\n",
      "68/68 [==============================] - 0s 5ms/step - loss: 1.2681 - mape: 1.2681 - val_loss: 0.4849 - val_mape: 0.4849\n",
      "Epoch 161/200\n",
      "68/68 [==============================] - 0s 5ms/step - loss: 1.2323 - mape: 1.2323 - val_loss: 0.5095 - val_mape: 0.5095\n",
      "Epoch 162/200\n",
      "68/68 [==============================] - 0s 5ms/step - loss: 1.2526 - mape: 1.2526 - val_loss: 0.7983 - val_mape: 0.7983\n",
      "Epoch 163/200\n",
      "68/68 [==============================] - 0s 5ms/step - loss: 1.2293 - mape: 1.2293 - val_loss: 0.5421 - val_mape: 0.5421\n",
      "Epoch 164/200\n",
      "68/68 [==============================] - 0s 5ms/step - loss: 1.2170 - mape: 1.2170 - val_loss: 0.4834 - val_mape: 0.4834\n",
      "Epoch 165/200\n",
      "68/68 [==============================] - 0s 5ms/step - loss: 1.2189 - mape: 1.2189 - val_loss: 0.5527 - val_mape: 0.5527\n",
      "Epoch 166/200\n",
      "68/68 [==============================] - 0s 5ms/step - loss: 1.2331 - mape: 1.2331 - val_loss: 0.4858 - val_mape: 0.4858\n",
      "Epoch 167/200\n",
      "68/68 [==============================] - 0s 5ms/step - loss: 1.2217 - mape: 1.2217 - val_loss: 0.4916 - val_mape: 0.4916\n",
      "Epoch 168/200\n",
      "68/68 [==============================] - 0s 6ms/step - loss: 1.2543 - mape: 1.2543 - val_loss: 0.4918 - val_mape: 0.4918\n",
      "Epoch 169/200\n",
      "68/68 [==============================] - 0s 5ms/step - loss: 1.2338 - mape: 1.2338 - val_loss: 0.5297 - val_mape: 0.5297\n",
      "Epoch 170/200\n",
      "68/68 [==============================] - 0s 5ms/step - loss: 1.2271 - mape: 1.2271 - val_loss: 0.5185 - val_mape: 0.5185\n",
      "Epoch 171/200\n",
      "68/68 [==============================] - 0s 5ms/step - loss: 1.2111 - mape: 1.2111 - val_loss: 0.4814 - val_mape: 0.4814\n",
      "Epoch 172/200\n",
      "68/68 [==============================] - 0s 5ms/step - loss: 1.2123 - mape: 1.2123 - val_loss: 0.4875 - val_mape: 0.4875\n",
      "Epoch 173/200\n",
      "68/68 [==============================] - 0s 5ms/step - loss: 1.2277 - mape: 1.2277 - val_loss: 0.5241 - val_mape: 0.5241\n",
      "Epoch 174/200\n",
      "68/68 [==============================] - 0s 5ms/step - loss: 1.2276 - mape: 1.2276 - val_loss: 0.6679 - val_mape: 0.6679\n",
      "Epoch 175/200\n",
      "68/68 [==============================] - 0s 5ms/step - loss: 1.2006 - mape: 1.2006 - val_loss: 0.4953 - val_mape: 0.4953\n",
      "Epoch 176/200\n",
      "68/68 [==============================] - 0s 5ms/step - loss: 1.2110 - mape: 1.2110 - val_loss: 0.6698 - val_mape: 0.6698\n",
      "Epoch 177/200\n",
      "68/68 [==============================] - 0s 5ms/step - loss: 1.2330 - mape: 1.2330 - val_loss: 0.4909 - val_mape: 0.4909\n",
      "Epoch 178/200\n",
      "68/68 [==============================] - 0s 5ms/step - loss: 1.1904 - mape: 1.1904 - val_loss: 0.6451 - val_mape: 0.6451\n",
      "Epoch 179/200\n",
      "68/68 [==============================] - 0s 5ms/step - loss: 1.2176 - mape: 1.2176 - val_loss: 0.4884 - val_mape: 0.4884\n",
      "Epoch 180/200\n",
      "68/68 [==============================] - 0s 5ms/step - loss: 1.2105 - mape: 1.2105 - val_loss: 0.4821 - val_mape: 0.4821\n",
      "Epoch 181/200\n",
      "68/68 [==============================] - 0s 5ms/step - loss: 1.1939 - mape: 1.1939 - val_loss: 0.6519 - val_mape: 0.6519\n",
      "Epoch 182/200\n",
      "68/68 [==============================] - 0s 5ms/step - loss: 1.2297 - mape: 1.2297 - val_loss: 0.5978 - val_mape: 0.5978\n",
      "Epoch 183/200\n",
      "68/68 [==============================] - 0s 5ms/step - loss: 1.1980 - mape: 1.1980 - val_loss: 0.6522 - val_mape: 0.6522\n",
      "Epoch 184/200\n",
      "68/68 [==============================] - 0s 5ms/step - loss: 1.1859 - mape: 1.1859 - val_loss: 0.4990 - val_mape: 0.4990\n",
      "Epoch 185/200\n",
      "68/68 [==============================] - 1s 10ms/step - loss: 1.2031 - mape: 1.2031 - val_loss: 0.5670 - val_mape: 0.5670\n",
      "Epoch 186/200\n",
      "68/68 [==============================] - 1s 7ms/step - loss: 1.1987 - mape: 1.1987 - val_loss: 0.4878 - val_mape: 0.4878\n",
      "Epoch 187/200\n",
      "68/68 [==============================] - 1s 11ms/step - loss: 1.1912 - mape: 1.1912 - val_loss: 0.5437 - val_mape: 0.5437\n",
      "Epoch 188/200\n",
      "68/68 [==============================] - 1s 8ms/step - loss: 1.1996 - mape: 1.1996 - val_loss: 0.5537 - val_mape: 0.5537\n",
      "Epoch 189/200\n",
      "68/68 [==============================] - 0s 5ms/step - loss: 1.1905 - mape: 1.1905 - val_loss: 0.5311 - val_mape: 0.5311\n",
      "Epoch 190/200\n",
      "68/68 [==============================] - 0s 5ms/step - loss: 1.1740 - mape: 1.1740 - val_loss: 0.4946 - val_mape: 0.4946\n",
      "Epoch 191/200\n",
      "68/68 [==============================] - 0s 6ms/step - loss: 1.1776 - mape: 1.1776 - val_loss: 0.7299 - val_mape: 0.7299\n",
      "Epoch 192/200\n",
      "68/68 [==============================] - 0s 5ms/step - loss: 1.1918 - mape: 1.1918 - val_loss: 0.4959 - val_mape: 0.4959\n",
      "Epoch 193/200\n",
      "68/68 [==============================] - 0s 5ms/step - loss: 1.2172 - mape: 1.2172 - val_loss: 0.4791 - val_mape: 0.4791\n",
      "Epoch 194/200\n",
      "68/68 [==============================] - 0s 5ms/step - loss: 1.1822 - mape: 1.1822 - val_loss: 0.4740 - val_mape: 0.4740\n",
      "Epoch 195/200\n",
      "68/68 [==============================] - 0s 5ms/step - loss: 1.1767 - mape: 1.1767 - val_loss: 0.5094 - val_mape: 0.5094\n",
      "Epoch 196/200\n",
      "68/68 [==============================] - 0s 5ms/step - loss: 1.1776 - mape: 1.1776 - val_loss: 0.5166 - val_mape: 0.5166\n",
      "Epoch 197/200\n",
      "68/68 [==============================] - 0s 5ms/step - loss: 1.1799 - mape: 1.1799 - val_loss: 0.7046 - val_mape: 0.7046\n",
      "Epoch 198/200\n",
      "68/68 [==============================] - 0s 5ms/step - loss: 1.1693 - mape: 1.1693 - val_loss: 0.4764 - val_mape: 0.4764\n",
      "Epoch 199/200\n",
      "68/68 [==============================] - 0s 6ms/step - loss: 1.1682 - mape: 1.1682 - val_loss: 0.6249 - val_mape: 0.6249\n",
      "Epoch 200/200\n",
      "68/68 [==============================] - 0s 5ms/step - loss: 1.1684 - mape: 1.1684 - val_loss: 0.4758 - val_mape: 0.4758\n"
     ]
    }
   ],
   "source": [
    "model = Sequential()\n",
    "model.add(Bidirectional(LSTM(100,activation='relu',input_dim = 5)))\n",
    "model.add(Dense(1,activation='linear'))\n",
    "ad=optimizers.Adam(learning_rate=0.0002062940414508486)\n",
    "model.compile(optimizer = ad, loss = 'mape', metrics = ['mape'])\n",
    "model_history=model.fit(trainX, trainY,validation_data=(testX,testY), batch_size = 33, epochs = 200)"
   ]
  },
  {
   "cell_type": "code",
   "execution_count": 42,
   "id": "77c05906",
   "metadata": {
    "id": "77c05906"
   },
   "outputs": [],
   "source": [
    "def model_loss(history):\n",
    "    plt.figure(figsize=(8,4))\n",
    "    plt.plot(history.history['loss'], label='Train Loss')\n",
    "    plt.plot(history.history['val_loss'], label='Test Loss')\n",
    "    plt.title('model loss')\n",
    "    plt.ylabel('loss')\n",
    "    plt.xlabel('epochs')\n",
    "    plt.legend(loc='upper right')\n",
    "    plt.show();"
   ]
  },
  {
   "cell_type": "code",
   "execution_count": 43,
   "id": "6vZ-AXOUurmJ",
   "metadata": {
    "id": "6vZ-AXOUurmJ"
   },
   "outputs": [],
   "source": [
    "train_score = model.evaluate(trainX, trainY,verbose=0)\n",
    "test_score = model.evaluate(testX, testY,verbose=0)"
   ]
  },
  {
   "cell_type": "code",
   "execution_count": 44,
   "id": "45a22c27",
   "metadata": {
    "colab": {
     "base_uri": "https://localhost:8080/",
     "height": 329
    },
    "id": "45a22c27",
    "outputId": "63c1b8ba-8505-42a3-a4b5-aad340d3915a"
   },
   "outputs": [
    {
     "name": "stdout",
     "output_type": "stream",
     "text": [
      "Train MAPE : 1.15 \n",
      "Test MAPE : 0.48 \n"
     ]
    },
    {
     "data": {
      "image/png": "[encoded data removed]",
      "text/plain": [
       "<Figure size 576x288 with 1 Axes>"
      ]
     },
     "metadata": {
      "needs_background": "light"
     },
     "output_type": "display_data"
    }
   ],
   "source": [
    "train_predict = model.predict(trainX)\n",
    "test_predict = model.predict(testX)\n",
    "\n",
    "# invert predictions\n",
    "train_predict = scaler.inverse_transform(train_predict)\n",
    "trainY = scaler.inverse_transform([trainY])\n",
    "test_predict = scaler.inverse_transform(test_predict)\n",
    "testY = scaler.inverse_transform([testY])\n",
    "print('Train MAPE : %.2f ' % (train_score[1]))\n",
    "print('Test MAPE : %.2f ' % (test_score[1]))\n",
    "model_loss(model_history)"
   ]
  },
  {
   "cell_type": "code",
   "execution_count": 45,
   "id": "dc942f74",
   "metadata": {
    "id": "dc942f74"
   },
   "outputs": [],
   "source": [
    "import seaborn as sns"
   ]
  },
  {
   "cell_type": "code",
   "execution_count": 37,
   "id": "dee9bab8",
   "metadata": {
    "id": "dee9bab8"
   },
   "outputs": [],
   "source": [
    "def prediction_plot(testY, test_predict,look_back):\n",
    "    len_prediction=[x for x in range(2225,2467)]\n",
    "    plt.plot(trainY.reshape(-1,))\n",
    "    plt.plot(len_prediction, testY.reshape(-1,), marker='.', label='actual')\n",
    "    plt.plot(len_prediction, test_predict, 'g', label=\"prediction\")\n",
    "    plt.tight_layout()\n",
    "    sns.despine(top=True)\n",
    "    plt.subplots_adjust(left=0.07)\n",
    "    plt.ylabel('Units', size=15)\n",
    "    plt.xlabel('Time step', size=15)\n",
    "    plt.legend(fontsize=15)\n",
    "    plt.show()"
   ]
  },
  {
   "cell_type": "code",
   "execution_count": 46,
   "id": "363040b5",
   "metadata": {
    "colab": {
     "base_uri": "https://localhost:8080/",
     "height": 604
    },
    "id": "363040b5",
    "outputId": "9271d052-3902-4202-9297-e2f0bc9b99c0"
   },
   "outputs": [
    {
     "data": {
      "image/png": "[encoded data removed]",
      "text/plain": [
       "<Figure size 1080x576 with 1 Axes>"
      ]
     },
     "metadata": {
      "needs_background": "light"
     },
     "output_type": "display_data"
    }
   ],
   "source": [
    "test_predict = model.predict(testX)\n",
    "test_predict = scaler.inverse_transform(test_predict)\n",
    "prediction_plot(testY, test_predict,look_back)"
   ]
  },
  {
   "cell_type": "code",
   "execution_count": null,
   "id": "f8a7708c",
   "metadata": {
    "id": "f8a7708c"
   },
   "outputs": [],
   "source": []
  }
 ],
 "metadata": {
  "colab": {
   "collapsed_sections": [],
   "name": "mauna_loa_HPT_LSTM_bidirectional_model.ipynb",
   "provenance": []
  },
  "kernelspec": {
   "display_name": "Python 3",
   "language": "python",
   "name": "python3"
  },
  "language_info": {
   "codemirror_mode": {
    "name": "ipython",
    "version": 3
   },
   "file_extension": ".py",
   "mimetype": "text/x-python",
   "name": "python",
   "nbconvert_exporter": "python",
   "pygments_lexer": "ipython3",
   "version": "3.8.8"
  }
 },
 "nbformat": 4,
 "nbformat_minor": 5
}
