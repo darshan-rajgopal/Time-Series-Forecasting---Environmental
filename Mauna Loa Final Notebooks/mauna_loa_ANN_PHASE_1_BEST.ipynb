{
 "cells": [
  {
   "cell_type": "code",
   "execution_count": 1,
   "id": "c2ef9b47",
   "metadata": {
    "id": "c2ef9b47"
   },
   "outputs": [],
   "source": [
    "import numpy as np\n",
    "import pandas as pd\n",
    "from tensorflow.keras.models import Sequential\n",
    "from tensorflow.keras.layers import LSTM\n",
    "from tensorflow.keras.layers import Dense\n",
    "from tensorflow.keras.layers import Flatten\n",
    "import matplotlib.pyplot as plt\n",
    "import warnings\n",
    "warnings.filterwarnings('ignore')\n",
    "%matplotlib inline"
   ]
  },
  {
   "cell_type": "code",
   "execution_count": 2,
   "id": "iGQk9lcRmucZ",
   "metadata": {
    "colab": {
     "base_uri": "https://localhost:8080/"
    },
    "id": "iGQk9lcRmucZ",
    "outputId": "c3ea812e-a881-40b9-bf12-2aa02a3116b1"
   },
   "outputs": [
    {
     "name": "stdout",
     "output_type": "stream",
     "text": [
      "Mounted at /content/drive\n"
     ]
    }
   ],
   "source": [
    "from google.colab import drive\n",
    "drive.mount('/content/drive')"
   ]
  },
  {
   "cell_type": "code",
   "execution_count": null,
   "id": "BxDZtfokj6Da",
   "metadata": {
    "colab": {
     "base_uri": "https://localhost:8080/",
     "height": 35
    },
    "id": "BxDZtfokj6Da",
    "outputId": "b20dcdbd-c02a-48ad-a576-4ba9370acae1"
   },
   "outputs": [
    {
     "data": {
      "application/vnd.google.colaboratory.intrinsic+json": {
       "type": "string"
      },
      "text/plain": [
       "'/device:GPU:0'"
      ]
     },
     "execution_count": 5,
     "metadata": {},
     "output_type": "execute_result"
    }
   ],
   "source": [
    "import tensorflow as tf\n",
    "tf.test.gpu_device_name()"
   ]
  },
  {
   "cell_type": "code",
   "execution_count": null,
   "id": "UDt4KrAxj6JS",
   "metadata": {
    "colab": {
     "base_uri": "https://localhost:8080/"
    },
    "id": "UDt4KrAxj6JS",
    "outputId": "9d528187-3aea-4259-a635-0d1eddbc47d0"
   },
   "outputs": [
    {
     "data": {
      "text/plain": [
       "[name: \"/device:CPU:0\"\n",
       " device_type: \"CPU\"\n",
       " memory_limit: 268435456\n",
       " locality {\n",
       " }\n",
       " incarnation: 14494480343520806349\n",
       " xla_global_id: -1, name: \"/device:GPU:0\"\n",
       " device_type: \"GPU\"\n",
       " memory_limit: 11320098816\n",
       " locality {\n",
       "   bus_id: 1\n",
       "   links {\n",
       "   }\n",
       " }\n",
       " incarnation: 1229225032833911937\n",
       " physical_device_desc: \"device: 0, name: Tesla K80, pci bus id: 0000:00:04.0, compute capability: 3.7\"\n",
       " xla_global_id: 416903419]"
      ]
     },
     "execution_count": 6,
     "metadata": {},
     "output_type": "execute_result"
    }
   ],
   "source": [
    "from tensorflow.python.client import device_lib\n",
    "device_lib.list_local_devices()"
   ]
  },
  {
   "cell_type": "code",
   "execution_count": 45,
   "id": "30d066a0",
   "metadata": {
    "colab": {
     "base_uri": "https://localhost:8080/",
     "height": 206
    },
    "id": "30d066a0",
    "outputId": "3c569267-9502-4327-f901-72b6cae23a62"
   },
   "outputs": [
    {
     "data": {
      "text/html": [
       "\n",
       "  <div id=\"df-69264e5c-e021-4565-9090-c36f8b4987cd\">\n",
       "    <div class=\"colab-df-container\">\n",
       "      <div>\n",
       "<style scoped>\n",
       "    .dataframe tbody tr th:only-of-type {\n",
       "        vertical-align: middle;\n",
       "    }\n",
       "\n",
       "    .dataframe tbody tr th {\n",
       "        vertical-align: top;\n",
       "    }\n",
       "\n",
       "    .dataframe thead th {\n",
       "        text-align: right;\n",
       "    }\n",
       "</style>\n",
       "<table border=\"1\" class=\"dataframe\">\n",
       "  <thead>\n",
       "    <tr style=\"text-align: right;\">\n",
       "      <th></th>\n",
       "      <th>Year</th>\n",
       "      <th>Month</th>\n",
       "      <th>Day</th>\n",
       "      <th>Year(decimal)</th>\n",
       "      <th>CO2(PPM)</th>\n",
       "    </tr>\n",
       "  </thead>\n",
       "  <tbody>\n",
       "    <tr>\n",
       "      <th>0</th>\n",
       "      <td>1974</td>\n",
       "      <td>5</td>\n",
       "      <td>19</td>\n",
       "      <td>1974.3795</td>\n",
       "      <td>333.37</td>\n",
       "    </tr>\n",
       "    <tr>\n",
       "      <th>1</th>\n",
       "      <td>1974</td>\n",
       "      <td>5</td>\n",
       "      <td>26</td>\n",
       "      <td>1974.3986</td>\n",
       "      <td>332.95</td>\n",
       "    </tr>\n",
       "    <tr>\n",
       "      <th>2</th>\n",
       "      <td>1974</td>\n",
       "      <td>6</td>\n",
       "      <td>2</td>\n",
       "      <td>1974.4178</td>\n",
       "      <td>332.35</td>\n",
       "    </tr>\n",
       "    <tr>\n",
       "      <th>3</th>\n",
       "      <td>1974</td>\n",
       "      <td>6</td>\n",
       "      <td>9</td>\n",
       "      <td>1974.4370</td>\n",
       "      <td>332.20</td>\n",
       "    </tr>\n",
       "    <tr>\n",
       "      <th>4</th>\n",
       "      <td>1974</td>\n",
       "      <td>6</td>\n",
       "      <td>16</td>\n",
       "      <td>1974.4562</td>\n",
       "      <td>332.37</td>\n",
       "    </tr>\n",
       "  </tbody>\n",
       "</table>\n",
       "</div>\n",
       "      <button class=\"colab-df-convert\" onclick=\"convertToInteractive('df-69264e5c-e021-4565-9090-c36f8b4987cd')\"\n",
       "              title=\"Convert this dataframe to an interactive table.\"\n",
       "              style=\"display:none;\">\n",
       "        \n",
       "  <svg xmlns=\"http://www.w3.org/2000/svg\" height=\"24px\"viewBox=\"0 0 24 24\"\n",
       "       width=\"24px\">\n",
       "    <path d=\"M0 0h24v24H0V0z\" fill=\"none\"/>\n",
       "    <path d=\"M18.56 5.44l.94 2.06.94-2.06 2.06-.94-2.06-.94-.94-2.06-.94 2.06-2.06.94zm-11 1L8.5 8.5l.94-2.06 2.06-.94-2.06-.94L8.5 2.5l-.94 2.06-2.06.94zm10 10l.94 2.06.94-2.06 2.06-.94-2.06-.94-.94-2.06-.94 2.06-2.06.94z\"/><path d=\"M17.41 7.96l-1.37-1.37c-.4-.4-.92-.59-1.43-.59-.52 0-1.04.2-1.43.59L10.3 9.45l-7.72 7.72c-.78.78-.78 2.05 0 2.83L4 21.41c.39.39.9.59 1.41.59.51 0 1.02-.2 1.41-.59l7.78-7.78 2.81-2.81c.8-.78.8-2.07 0-2.86zM5.41 20L4 18.59l7.72-7.72 1.47 1.35L5.41 20z\"/>\n",
       "  </svg>\n",
       "      </button>\n",
       "      \n",
       "  <style>\n",
       "    .colab-df-container {\n",
       "      display:flex;\n",
       "      flex-wrap:wrap;\n",
       "      gap: 12px;\n",
       "    }\n",
       "\n",
       "    .colab-df-convert {\n",
       "      background-color: #E8F0FE;\n",
       "      border: none;\n",
       "      border-radius: 50%;\n",
       "      cursor: pointer;\n",
       "      display: none;\n",
       "      fill: #1967D2;\n",
       "      height: 32px;\n",
       "      padding: 0 0 0 0;\n",
       "      width: 32px;\n",
       "    }\n",
       "\n",
       "    .colab-df-convert:hover {\n",
       "      background-color: #E2EBFA;\n",
       "      box-shadow: 0px 1px 2px rgba(60, 64, 67, 0.3), 0px 1px 3px 1px rgba(60, 64, 67, 0.15);\n",
       "      fill: #174EA6;\n",
       "    }\n",
       "\n",
       "    [theme=dark] .colab-df-convert {\n",
       "      background-color: #3B4455;\n",
       "      fill: #D2E3FC;\n",
       "    }\n",
       "\n",
       "    [theme=dark] .colab-df-convert:hover {\n",
       "      background-color: #434B5C;\n",
       "      box-shadow: 0px 1px 3px 1px rgba(0, 0, 0, 0.15);\n",
       "      filter: drop-shadow(0px 1px 2px rgba(0, 0, 0, 0.3));\n",
       "      fill: #FFFFFF;\n",
       "    }\n",
       "  </style>\n",
       "\n",
       "      <script>\n",
       "        const buttonEl =\n",
       "          document.querySelector('#df-69264e5c-e021-4565-9090-c36f8b4987cd button.colab-df-convert');\n",
       "        buttonEl.style.display =\n",
       "          google.colab.kernel.accessAllowed ? 'block' : 'none';\n",
       "\n",
       "        async function convertToInteractive(key) {\n",
       "          const element = document.querySelector('#df-69264e5c-e021-4565-9090-c36f8b4987cd');\n",
       "          const dataTable =\n",
       "            await google.colab.kernel.invokeFunction('convertToInteractive',\n",
       "                                                     [key], {});\n",
       "          if (!dataTable) return;\n",
       "\n",
       "          const docLinkHtml = 'Like what you see? Visit the ' +\n",
       "            '<a target=\"_blank\" href=https://colab.research.google.com/notebooks/data_table.ipynb>data table notebook</a>'\n",
       "            + ' to learn more about interactive tables.';\n",
       "          element.innerHTML = '';\n",
       "          dataTable['output_type'] = 'display_data';\n",
       "          await google.colab.output.renderOutput(dataTable, element);\n",
       "          const docLink = document.createElement('div');\n",
       "          docLink.innerHTML = docLinkHtml;\n",
       "          element.appendChild(docLink);\n",
       "        }\n",
       "      </script>\n",
       "    </div>\n",
       "  </div>\n",
       "  "
      ],
      "text/plain": [
       "   Year  Month  Day  Year(decimal)  CO2(PPM)\n",
       "0  1974      5   19      1974.3795    333.37\n",
       "1  1974      5   26      1974.3986    332.95\n",
       "2  1974      6    2      1974.4178    332.35\n",
       "3  1974      6    9      1974.4370    332.20\n",
       "4  1974      6   16      1974.4562    332.37"
      ]
     },
     "execution_count": 45,
     "metadata": {},
     "output_type": "execute_result"
    }
   ],
   "source": [
    "df_new = pd.read_csv('/content/drive/MyDrive/Colab Notebooks/Environmental/Mouna_Loa_Weekly_Data.csv')\n",
    "df_new.head()"
   ]
  },
  {
   "cell_type": "code",
   "execution_count": 9,
   "id": "e2663bb4",
   "metadata": {
    "colab": {
     "base_uri": "https://localhost:8080/",
     "height": 206
    },
    "id": "e2663bb4",
    "outputId": "770ae1b3-31b7-4b51-867a-90fda4b9eb67"
   },
   "outputs": [
    {
     "data": {
      "text/html": [
       "\n",
       "  <div id=\"df-fa1c129d-7db4-47cb-80fb-7ca044d61b43\">\n",
       "    <div class=\"colab-df-container\">\n",
       "      <div>\n",
       "<style scoped>\n",
       "    .dataframe tbody tr th:only-of-type {\n",
       "        vertical-align: middle;\n",
       "    }\n",
       "\n",
       "    .dataframe tbody tr th {\n",
       "        vertical-align: top;\n",
       "    }\n",
       "\n",
       "    .dataframe thead th {\n",
       "        text-align: right;\n",
       "    }\n",
       "</style>\n",
       "<table border=\"1\" class=\"dataframe\">\n",
       "  <thead>\n",
       "    <tr style=\"text-align: right;\">\n",
       "      <th></th>\n",
       "      <th>Year</th>\n",
       "      <th>Month</th>\n",
       "      <th>Day</th>\n",
       "      <th>Year(decimal)</th>\n",
       "      <th>CO2(PPM)</th>\n",
       "    </tr>\n",
       "  </thead>\n",
       "  <tbody>\n",
       "    <tr>\n",
       "      <th>2472</th>\n",
       "      <td>2021</td>\n",
       "      <td>10</td>\n",
       "      <td>3</td>\n",
       "      <td>2021.7548</td>\n",
       "      <td>413.63</td>\n",
       "    </tr>\n",
       "    <tr>\n",
       "      <th>2473</th>\n",
       "      <td>2021</td>\n",
       "      <td>10</td>\n",
       "      <td>10</td>\n",
       "      <td>2021.7740</td>\n",
       "      <td>413.89</td>\n",
       "    </tr>\n",
       "    <tr>\n",
       "      <th>2474</th>\n",
       "      <td>2021</td>\n",
       "      <td>10</td>\n",
       "      <td>17</td>\n",
       "      <td>2021.7932</td>\n",
       "      <td>414.36</td>\n",
       "    </tr>\n",
       "    <tr>\n",
       "      <th>2475</th>\n",
       "      <td>2021</td>\n",
       "      <td>10</td>\n",
       "      <td>24</td>\n",
       "      <td>2021.8123</td>\n",
       "      <td>413.90</td>\n",
       "    </tr>\n",
       "    <tr>\n",
       "      <th>2476</th>\n",
       "      <td>2021</td>\n",
       "      <td>10</td>\n",
       "      <td>31</td>\n",
       "      <td>2021.8315</td>\n",
       "      <td>414.17</td>\n",
       "    </tr>\n",
       "  </tbody>\n",
       "</table>\n",
       "</div>\n",
       "      <button class=\"colab-df-convert\" onclick=\"convertToInteractive('df-fa1c129d-7db4-47cb-80fb-7ca044d61b43')\"\n",
       "              title=\"Convert this dataframe to an interactive table.\"\n",
       "              style=\"display:none;\">\n",
       "        \n",
       "  <svg xmlns=\"http://www.w3.org/2000/svg\" height=\"24px\"viewBox=\"0 0 24 24\"\n",
       "       width=\"24px\">\n",
       "    <path d=\"M0 0h24v24H0V0z\" fill=\"none\"/>\n",
       "    <path d=\"M18.56 5.44l.94 2.06.94-2.06 2.06-.94-2.06-.94-.94-2.06-.94 2.06-2.06.94zm-11 1L8.5 8.5l.94-2.06 2.06-.94-2.06-.94L8.5 2.5l-.94 2.06-2.06.94zm10 10l.94 2.06.94-2.06 2.06-.94-2.06-.94-.94-2.06-.94 2.06-2.06.94z\"/><path d=\"M17.41 7.96l-1.37-1.37c-.4-.4-.92-.59-1.43-.59-.52 0-1.04.2-1.43.59L10.3 9.45l-7.72 7.72c-.78.78-.78 2.05 0 2.83L4 21.41c.39.39.9.59 1.41.59.51 0 1.02-.2 1.41-.59l7.78-7.78 2.81-2.81c.8-.78.8-2.07 0-2.86zM5.41 20L4 18.59l7.72-7.72 1.47 1.35L5.41 20z\"/>\n",
       "  </svg>\n",
       "      </button>\n",
       "      \n",
       "  <style>\n",
       "    .colab-df-container {\n",
       "      display:flex;\n",
       "      flex-wrap:wrap;\n",
       "      gap: 12px;\n",
       "    }\n",
       "\n",
       "    .colab-df-convert {\n",
       "      background-color: #E8F0FE;\n",
       "      border: none;\n",
       "      border-radius: 50%;\n",
       "      cursor: pointer;\n",
       "      display: none;\n",
       "      fill: #1967D2;\n",
       "      height: 32px;\n",
       "      padding: 0 0 0 0;\n",
       "      width: 32px;\n",
       "    }\n",
       "\n",
       "    .colab-df-convert:hover {\n",
       "      background-color: #E2EBFA;\n",
       "      box-shadow: 0px 1px 2px rgba(60, 64, 67, 0.3), 0px 1px 3px 1px rgba(60, 64, 67, 0.15);\n",
       "      fill: #174EA6;\n",
       "    }\n",
       "\n",
       "    [theme=dark] .colab-df-convert {\n",
       "      background-color: #3B4455;\n",
       "      fill: #D2E3FC;\n",
       "    }\n",
       "\n",
       "    [theme=dark] .colab-df-convert:hover {\n",
       "      background-color: #434B5C;\n",
       "      box-shadow: 0px 1px 3px 1px rgba(0, 0, 0, 0.15);\n",
       "      filter: drop-shadow(0px 1px 2px rgba(0, 0, 0, 0.3));\n",
       "      fill: #FFFFFF;\n",
       "    }\n",
       "  </style>\n",
       "\n",
       "      <script>\n",
       "        const buttonEl =\n",
       "          document.querySelector('#df-fa1c129d-7db4-47cb-80fb-7ca044d61b43 button.colab-df-convert');\n",
       "        buttonEl.style.display =\n",
       "          google.colab.kernel.accessAllowed ? 'block' : 'none';\n",
       "\n",
       "        async function convertToInteractive(key) {\n",
       "          const element = document.querySelector('#df-fa1c129d-7db4-47cb-80fb-7ca044d61b43');\n",
       "          const dataTable =\n",
       "            await google.colab.kernel.invokeFunction('convertToInteractive',\n",
       "                                                     [key], {});\n",
       "          if (!dataTable) return;\n",
       "\n",
       "          const docLinkHtml = 'Like what you see? Visit the ' +\n",
       "            '<a target=\"_blank\" href=https://colab.research.google.com/notebooks/data_table.ipynb>data table notebook</a>'\n",
       "            + ' to learn more about interactive tables.';\n",
       "          element.innerHTML = '';\n",
       "          dataTable['output_type'] = 'display_data';\n",
       "          await google.colab.output.renderOutput(dataTable, element);\n",
       "          const docLink = document.createElement('div');\n",
       "          docLink.innerHTML = docLinkHtml;\n",
       "          element.appendChild(docLink);\n",
       "        }\n",
       "      </script>\n",
       "    </div>\n",
       "  </div>\n",
       "  "
      ],
      "text/plain": [
       "      Year  Month  Day  Year(decimal)  CO2(PPM)\n",
       "2472  2021     10    3      2021.7548    413.63\n",
       "2473  2021     10   10      2021.7740    413.89\n",
       "2474  2021     10   17      2021.7932    414.36\n",
       "2475  2021     10   24      2021.8123    413.90\n",
       "2476  2021     10   31      2021.8315    414.17"
      ]
     },
     "execution_count": 9,
     "metadata": {},
     "output_type": "execute_result"
    }
   ],
   "source": [
    "df_new.tail()"
   ]
  },
  {
   "cell_type": "code",
   "execution_count": 10,
   "id": "0482272d",
   "metadata": {
    "colab": {
     "base_uri": "https://localhost:8080/"
    },
    "id": "0482272d",
    "outputId": "62ae7df7-d61a-489e-c631-1e373fd402fc"
   },
   "outputs": [
    {
     "data": {
      "text/plain": [
       "(2477, 5)"
      ]
     },
     "execution_count": 10,
     "metadata": {},
     "output_type": "execute_result"
    }
   ],
   "source": [
    "df_new.shape"
   ]
  },
  {
   "cell_type": "code",
   "execution_count": 11,
   "id": "076f1ad3",
   "metadata": {
    "colab": {
     "base_uri": "https://localhost:8080/"
    },
    "id": "076f1ad3",
    "outputId": "0bdef35f-93bc-4e00-b1df-bf8730081e19"
   },
   "outputs": [
    {
     "name": "stdout",
     "output_type": "stream",
     "text": [
      "<class 'pandas.core.frame.DataFrame'>\n",
      "RangeIndex: 2477 entries, 0 to 2476\n",
      "Data columns (total 5 columns):\n",
      " #   Column         Non-Null Count  Dtype  \n",
      "---  ------         --------------  -----  \n",
      " 0   Year           2477 non-null   int64  \n",
      " 1   Month          2477 non-null   int64  \n",
      " 2   Day            2477 non-null   int64  \n",
      " 3   Year(decimal)  2477 non-null   float64\n",
      " 4   CO2(PPM)       2477 non-null   float64\n",
      "dtypes: float64(2), int64(3)\n",
      "memory usage: 96.9 KB\n"
     ]
    }
   ],
   "source": [
    "df_new.info()"
   ]
  },
  {
   "cell_type": "code",
   "execution_count": 46,
   "id": "GQllVmimXbew",
   "metadata": {
    "colab": {
     "base_uri": "https://localhost:8080/"
    },
    "id": "GQllVmimXbew",
    "outputId": "d0e16406-3e5c-4bb6-f9a5-b4c44e201ef2"
   },
   "outputs": [
    {
     "data": {
      "text/plain": [
       "-999.99"
      ]
     },
     "execution_count": 46,
     "metadata": {},
     "output_type": "execute_result"
    }
   ],
   "source": [
    "df_new['CO2(PPM)'].min()"
   ]
  },
  {
   "cell_type": "code",
   "execution_count": 47,
   "id": "1oFqHGwzXbhI",
   "metadata": {
    "id": "1oFqHGwzXbhI"
   },
   "outputs": [],
   "source": [
    "df_new.replace(-999.99,np.nan,inplace=True)\n",
    "df = df_new.fillna(df_new.rolling(7,min_periods=1).mean())"
   ]
  },
  {
   "cell_type": "code",
   "execution_count": 48,
   "id": "x2rdBSU9Xbkd",
   "metadata": {
    "colab": {
     "base_uri": "https://localhost:8080/"
    },
    "id": "x2rdBSU9Xbkd",
    "outputId": "b47be569-883d-4c6c-ffeb-12d2e48b1e1c"
   },
   "outputs": [
    {
     "data": {
      "text/plain": [
       "Year             0\n",
       "Month            0\n",
       "Day              0\n",
       "Year(decimal)    0\n",
       "CO2(PPM)         0\n",
       "dtype: int64"
      ]
     },
     "execution_count": 48,
     "metadata": {},
     "output_type": "execute_result"
    }
   ],
   "source": [
    "df.isnull().sum()"
   ]
  },
  {
   "cell_type": "code",
   "execution_count": 49,
   "id": "93827e39",
   "metadata": {
    "id": "93827e39"
   },
   "outputs": [],
   "source": [
    "time = pd.date_range(start='5/19/1974',periods=2477,freq='W')\n",
    "df['time_stamp'] = pd.DataFrame(time)\n",
    "df.drop(['Year','Month','Year(decimal)','Day'],axis=1,inplace=True)\n",
    "df = df.set_index('time_stamp')"
   ]
  },
  {
   "cell_type": "code",
   "execution_count": 50,
   "id": "S0kNKRMAocKq",
   "metadata": {
    "id": "S0kNKRMAocKq"
   },
   "outputs": [],
   "source": [
    "df.columns=['CO2_PPM']"
   ]
  },
  {
   "cell_type": "code",
   "execution_count": 17,
   "id": "522f2b8e",
   "metadata": {
    "colab": {
     "base_uri": "https://localhost:8080/",
     "height": 238
    },
    "id": "522f2b8e",
    "outputId": "7c83f60a-7a77-4e6f-f634-f726cc9383ce"
   },
   "outputs": [
    {
     "data": {
      "text/html": [
       "\n",
       "  <div id=\"df-09aae819-01ea-4e14-877a-55efb62f572a\">\n",
       "    <div class=\"colab-df-container\">\n",
       "      <div>\n",
       "<style scoped>\n",
       "    .dataframe tbody tr th:only-of-type {\n",
       "        vertical-align: middle;\n",
       "    }\n",
       "\n",
       "    .dataframe tbody tr th {\n",
       "        vertical-align: top;\n",
       "    }\n",
       "\n",
       "    .dataframe thead th {\n",
       "        text-align: right;\n",
       "    }\n",
       "</style>\n",
       "<table border=\"1\" class=\"dataframe\">\n",
       "  <thead>\n",
       "    <tr style=\"text-align: right;\">\n",
       "      <th></th>\n",
       "      <th>CO2_PPM</th>\n",
       "    </tr>\n",
       "    <tr>\n",
       "      <th>time_stamp</th>\n",
       "      <th></th>\n",
       "    </tr>\n",
       "  </thead>\n",
       "  <tbody>\n",
       "    <tr>\n",
       "      <th>1974-05-19</th>\n",
       "      <td>333.37</td>\n",
       "    </tr>\n",
       "    <tr>\n",
       "      <th>1974-05-26</th>\n",
       "      <td>332.95</td>\n",
       "    </tr>\n",
       "    <tr>\n",
       "      <th>1974-06-02</th>\n",
       "      <td>332.35</td>\n",
       "    </tr>\n",
       "    <tr>\n",
       "      <th>1974-06-09</th>\n",
       "      <td>332.20</td>\n",
       "    </tr>\n",
       "    <tr>\n",
       "      <th>1974-06-16</th>\n",
       "      <td>332.37</td>\n",
       "    </tr>\n",
       "  </tbody>\n",
       "</table>\n",
       "</div>\n",
       "      <button class=\"colab-df-convert\" onclick=\"convertToInteractive('df-09aae819-01ea-4e14-877a-55efb62f572a')\"\n",
       "              title=\"Convert this dataframe to an interactive table.\"\n",
       "              style=\"display:none;\">\n",
       "        \n",
       "  <svg xmlns=\"http://www.w3.org/2000/svg\" height=\"24px\"viewBox=\"0 0 24 24\"\n",
       "       width=\"24px\">\n",
       "    <path d=\"M0 0h24v24H0V0z\" fill=\"none\"/>\n",
       "    <path d=\"M18.56 5.44l.94 2.06.94-2.06 2.06-.94-2.06-.94-.94-2.06-.94 2.06-2.06.94zm-11 1L8.5 8.5l.94-2.06 2.06-.94-2.06-.94L8.5 2.5l-.94 2.06-2.06.94zm10 10l.94 2.06.94-2.06 2.06-.94-2.06-.94-.94-2.06-.94 2.06-2.06.94z\"/><path d=\"M17.41 7.96l-1.37-1.37c-.4-.4-.92-.59-1.43-.59-.52 0-1.04.2-1.43.59L10.3 9.45l-7.72 7.72c-.78.78-.78 2.05 0 2.83L4 21.41c.39.39.9.59 1.41.59.51 0 1.02-.2 1.41-.59l7.78-7.78 2.81-2.81c.8-.78.8-2.07 0-2.86zM5.41 20L4 18.59l7.72-7.72 1.47 1.35L5.41 20z\"/>\n",
       "  </svg>\n",
       "      </button>\n",
       "      \n",
       "  <style>\n",
       "    .colab-df-container {\n",
       "      display:flex;\n",
       "      flex-wrap:wrap;\n",
       "      gap: 12px;\n",
       "    }\n",
       "\n",
       "    .colab-df-convert {\n",
       "      background-color: #E8F0FE;\n",
       "      border: none;\n",
       "      border-radius: 50%;\n",
       "      cursor: pointer;\n",
       "      display: none;\n",
       "      fill: #1967D2;\n",
       "      height: 32px;\n",
       "      padding: 0 0 0 0;\n",
       "      width: 32px;\n",
       "    }\n",
       "\n",
       "    .colab-df-convert:hover {\n",
       "      background-color: #E2EBFA;\n",
       "      box-shadow: 0px 1px 2px rgba(60, 64, 67, 0.3), 0px 1px 3px 1px rgba(60, 64, 67, 0.15);\n",
       "      fill: #174EA6;\n",
       "    }\n",
       "\n",
       "    [theme=dark] .colab-df-convert {\n",
       "      background-color: #3B4455;\n",
       "      fill: #D2E3FC;\n",
       "    }\n",
       "\n",
       "    [theme=dark] .colab-df-convert:hover {\n",
       "      background-color: #434B5C;\n",
       "      box-shadow: 0px 1px 3px 1px rgba(0, 0, 0, 0.15);\n",
       "      filter: drop-shadow(0px 1px 2px rgba(0, 0, 0, 0.3));\n",
       "      fill: #FFFFFF;\n",
       "    }\n",
       "  </style>\n",
       "\n",
       "      <script>\n",
       "        const buttonEl =\n",
       "          document.querySelector('#df-09aae819-01ea-4e14-877a-55efb62f572a button.colab-df-convert');\n",
       "        buttonEl.style.display =\n",
       "          google.colab.kernel.accessAllowed ? 'block' : 'none';\n",
       "\n",
       "        async function convertToInteractive(key) {\n",
       "          const element = document.querySelector('#df-09aae819-01ea-4e14-877a-55efb62f572a');\n",
       "          const dataTable =\n",
       "            await google.colab.kernel.invokeFunction('convertToInteractive',\n",
       "                                                     [key], {});\n",
       "          if (!dataTable) return;\n",
       "\n",
       "          const docLinkHtml = 'Like what you see? Visit the ' +\n",
       "            '<a target=\"_blank\" href=https://colab.research.google.com/notebooks/data_table.ipynb>data table notebook</a>'\n",
       "            + ' to learn more about interactive tables.';\n",
       "          element.innerHTML = '';\n",
       "          dataTable['output_type'] = 'display_data';\n",
       "          await google.colab.output.renderOutput(dataTable, element);\n",
       "          const docLink = document.createElement('div');\n",
       "          docLink.innerHTML = docLinkHtml;\n",
       "          element.appendChild(docLink);\n",
       "        }\n",
       "      </script>\n",
       "    </div>\n",
       "  </div>\n",
       "  "
      ],
      "text/plain": [
       "            CO2_PPM\n",
       "time_stamp         \n",
       "1974-05-19   333.37\n",
       "1974-05-26   332.95\n",
       "1974-06-02   332.35\n",
       "1974-06-09   332.20\n",
       "1974-06-16   332.37"
      ]
     },
     "execution_count": 17,
     "metadata": {},
     "output_type": "execute_result"
    }
   ],
   "source": [
    "df.head()"
   ]
  },
  {
   "cell_type": "code",
   "execution_count": 18,
   "id": "7N0Xc0zT5atx",
   "metadata": {
    "colab": {
     "base_uri": "https://localhost:8080/",
     "height": 238
    },
    "id": "7N0Xc0zT5atx",
    "outputId": "52c4b2dd-7047-46d6-ffc6-d3c3b4efd136"
   },
   "outputs": [
    {
     "data": {
      "text/html": [
       "\n",
       "  <div id=\"df-561fa2a7-e7ba-4914-950b-e75ebc6e7683\">\n",
       "    <div class=\"colab-df-container\">\n",
       "      <div>\n",
       "<style scoped>\n",
       "    .dataframe tbody tr th:only-of-type {\n",
       "        vertical-align: middle;\n",
       "    }\n",
       "\n",
       "    .dataframe tbody tr th {\n",
       "        vertical-align: top;\n",
       "    }\n",
       "\n",
       "    .dataframe thead th {\n",
       "        text-align: right;\n",
       "    }\n",
       "</style>\n",
       "<table border=\"1\" class=\"dataframe\">\n",
       "  <thead>\n",
       "    <tr style=\"text-align: right;\">\n",
       "      <th></th>\n",
       "      <th>CO2_PPM</th>\n",
       "    </tr>\n",
       "    <tr>\n",
       "      <th>time_stamp</th>\n",
       "      <th></th>\n",
       "    </tr>\n",
       "  </thead>\n",
       "  <tbody>\n",
       "    <tr>\n",
       "      <th>2021-10-03</th>\n",
       "      <td>413.63</td>\n",
       "    </tr>\n",
       "    <tr>\n",
       "      <th>2021-10-10</th>\n",
       "      <td>413.89</td>\n",
       "    </tr>\n",
       "    <tr>\n",
       "      <th>2021-10-17</th>\n",
       "      <td>414.36</td>\n",
       "    </tr>\n",
       "    <tr>\n",
       "      <th>2021-10-24</th>\n",
       "      <td>413.90</td>\n",
       "    </tr>\n",
       "    <tr>\n",
       "      <th>2021-10-31</th>\n",
       "      <td>414.17</td>\n",
       "    </tr>\n",
       "  </tbody>\n",
       "</table>\n",
       "</div>\n",
       "      <button class=\"colab-df-convert\" onclick=\"convertToInteractive('df-561fa2a7-e7ba-4914-950b-e75ebc6e7683')\"\n",
       "              title=\"Convert this dataframe to an interactive table.\"\n",
       "              style=\"display:none;\">\n",
       "        \n",
       "  <svg xmlns=\"http://www.w3.org/2000/svg\" height=\"24px\"viewBox=\"0 0 24 24\"\n",
       "       width=\"24px\">\n",
       "    <path d=\"M0 0h24v24H0V0z\" fill=\"none\"/>\n",
       "    <path d=\"M18.56 5.44l.94 2.06.94-2.06 2.06-.94-2.06-.94-.94-2.06-.94 2.06-2.06.94zm-11 1L8.5 8.5l.94-2.06 2.06-.94-2.06-.94L8.5 2.5l-.94 2.06-2.06.94zm10 10l.94 2.06.94-2.06 2.06-.94-2.06-.94-.94-2.06-.94 2.06-2.06.94z\"/><path d=\"M17.41 7.96l-1.37-1.37c-.4-.4-.92-.59-1.43-.59-.52 0-1.04.2-1.43.59L10.3 9.45l-7.72 7.72c-.78.78-.78 2.05 0 2.83L4 21.41c.39.39.9.59 1.41.59.51 0 1.02-.2 1.41-.59l7.78-7.78 2.81-2.81c.8-.78.8-2.07 0-2.86zM5.41 20L4 18.59l7.72-7.72 1.47 1.35L5.41 20z\"/>\n",
       "  </svg>\n",
       "      </button>\n",
       "      \n",
       "  <style>\n",
       "    .colab-df-container {\n",
       "      display:flex;\n",
       "      flex-wrap:wrap;\n",
       "      gap: 12px;\n",
       "    }\n",
       "\n",
       "    .colab-df-convert {\n",
       "      background-color: #E8F0FE;\n",
       "      border: none;\n",
       "      border-radius: 50%;\n",
       "      cursor: pointer;\n",
       "      display: none;\n",
       "      fill: #1967D2;\n",
       "      height: 32px;\n",
       "      padding: 0 0 0 0;\n",
       "      width: 32px;\n",
       "    }\n",
       "\n",
       "    .colab-df-convert:hover {\n",
       "      background-color: #E2EBFA;\n",
       "      box-shadow: 0px 1px 2px rgba(60, 64, 67, 0.3), 0px 1px 3px 1px rgba(60, 64, 67, 0.15);\n",
       "      fill: #174EA6;\n",
       "    }\n",
       "\n",
       "    [theme=dark] .colab-df-convert {\n",
       "      background-color: #3B4455;\n",
       "      fill: #D2E3FC;\n",
       "    }\n",
       "\n",
       "    [theme=dark] .colab-df-convert:hover {\n",
       "      background-color: #434B5C;\n",
       "      box-shadow: 0px 1px 3px 1px rgba(0, 0, 0, 0.15);\n",
       "      filter: drop-shadow(0px 1px 2px rgba(0, 0, 0, 0.3));\n",
       "      fill: #FFFFFF;\n",
       "    }\n",
       "  </style>\n",
       "\n",
       "      <script>\n",
       "        const buttonEl =\n",
       "          document.querySelector('#df-561fa2a7-e7ba-4914-950b-e75ebc6e7683 button.colab-df-convert');\n",
       "        buttonEl.style.display =\n",
       "          google.colab.kernel.accessAllowed ? 'block' : 'none';\n",
       "\n",
       "        async function convertToInteractive(key) {\n",
       "          const element = document.querySelector('#df-561fa2a7-e7ba-4914-950b-e75ebc6e7683');\n",
       "          const dataTable =\n",
       "            await google.colab.kernel.invokeFunction('convertToInteractive',\n",
       "                                                     [key], {});\n",
       "          if (!dataTable) return;\n",
       "\n",
       "          const docLinkHtml = 'Like what you see? Visit the ' +\n",
       "            '<a target=\"_blank\" href=https://colab.research.google.com/notebooks/data_table.ipynb>data table notebook</a>'\n",
       "            + ' to learn more about interactive tables.';\n",
       "          element.innerHTML = '';\n",
       "          dataTable['output_type'] = 'display_data';\n",
       "          await google.colab.output.renderOutput(dataTable, element);\n",
       "          const docLink = document.createElement('div');\n",
       "          docLink.innerHTML = docLinkHtml;\n",
       "          element.appendChild(docLink);\n",
       "        }\n",
       "      </script>\n",
       "    </div>\n",
       "  </div>\n",
       "  "
      ],
      "text/plain": [
       "            CO2_PPM\n",
       "time_stamp         \n",
       "2021-10-03   413.63\n",
       "2021-10-10   413.89\n",
       "2021-10-17   414.36\n",
       "2021-10-24   413.90\n",
       "2021-10-31   414.17"
      ]
     },
     "execution_count": 18,
     "metadata": {},
     "output_type": "execute_result"
    }
   ],
   "source": [
    "df.tail()"
   ]
  },
  {
   "cell_type": "code",
   "execution_count": 51,
   "id": "bQk15MFgouDq",
   "metadata": {
    "id": "bQk15MFgouDq"
   },
   "outputs": [],
   "source": [
    "plt.rcParams['figure.figsize'] = [15,8]"
   ]
  },
  {
   "cell_type": "code",
   "execution_count": 22,
   "id": "3b098ae2",
   "metadata": {
    "colab": {
     "base_uri": "https://localhost:8080/",
     "height": 523
    },
    "id": "3b098ae2",
    "outputId": "96a90b94-55fa-4e6d-fa38-519878fa51ae"
   },
   "outputs": [
    {
     "data": {
      "image/png": "[encoded data removed]",
      "text/plain": [
       "<Figure size 1080x576 with 1 Axes>"
      ]
     },
     "metadata": {
      "needs_background": "light"
     },
     "output_type": "display_data"
    }
   ],
   "source": [
    "plt.plot(df,color='green')\n",
    "plt.title('Weekly C02 Emission From Mauna Loa',fontsize=20)\n",
    "plt.xlabel('Date',fontsize=15)\n",
    "plt.ylabel('Units',fontsize=15)\n",
    "plt.show()"
   ]
  },
  {
   "cell_type": "code",
   "execution_count": 52,
   "id": "bf59d3e0",
   "metadata": {
    "id": "bf59d3e0"
   },
   "outputs": [],
   "source": [
    "def convert2matrix(data_arr, look_back):\n",
    "    X, Y =[], []\n",
    "    for i in range(len(data_arr)-look_back):\n",
    "        d=i+look_back  \n",
    "        X.append(data_arr[i:d,0])\n",
    "        Y.append(data_arr[d,0])\n",
    "    return np.array(X), np.array(Y)"
   ]
  },
  {
   "cell_type": "code",
   "execution_count": 53,
   "id": "5CBL1GHqurmE",
   "metadata": {
    "id": "5CBL1GHqurmE"
   },
   "outputs": [],
   "source": [
    "from sklearn.preprocessing import MinMaxScaler\n",
    "#create numpy.ndarray \n",
    "df['CO2_PPM'] = df['CO2_PPM'].astype(np.float32)\n",
    "df_arr = df.values\n",
    "df_arr = np.reshape(df_arr, (-1, 1))\n",
    "scaler = MinMaxScaler(feature_range=(0.1, 1))\n",
    "df_arr = scaler.fit_transform(df_arr)"
   ]
  },
  {
   "cell_type": "code",
   "execution_count": 54,
   "id": "1cea6c5f",
   "metadata": {
    "id": "1cea6c5f"
   },
   "outputs": [],
   "source": [
    "#Split data set into testing dataset and train dataset\n",
    "train_size = 2230\n",
    "train, test =df_arr[0:train_size,:], df_arr[train_size:len(df_arr),:]\n",
    "# setup look_back window \n",
    "look_back = 5\n",
    "#convert dataset into right shape in order to input into the DNN\n",
    "trainX, trainY = convert2matrix(train, look_back)\n",
    "testX, testY = convert2matrix(test, look_back)"
   ]
  },
  {
   "cell_type": "code",
   "execution_count": 26,
   "id": "c7d46c39",
   "metadata": {
    "colab": {
     "base_uri": "https://localhost:8080/"
    },
    "id": "c7d46c39",
    "outputId": "00ee05fb-0df8-4071-febb-30a46e3c9bf9"
   },
   "outputs": [
    {
     "name": "stdout",
     "output_type": "stream",
     "text": [
      "(2225, 5)\n",
      "(2225,)\n",
      "(242, 5)\n",
      "(242,)\n"
     ]
    }
   ],
   "source": [
    "print(trainX.shape)\n",
    "print(trainY.shape)\n",
    "print(testX.shape)\n",
    "print(testY.shape)"
   ]
  },
  {
   "cell_type": "code",
   "execution_count": 27,
   "id": "GIc1nRcCuP3G",
   "metadata": {
    "colab": {
     "base_uri": "https://localhost:8080/"
    },
    "id": "GIc1nRcCuP3G",
    "outputId": "d05fc306-26fc-40f7-8b2a-690a43c9aa9a"
   },
   "outputs": [
    {
     "name": "stdout",
     "output_type": "stream",
     "text": [
      "\u001b[?25l\r",
      "\u001b[K     |███▍                            | 10 kB 19.5 MB/s eta 0:00:01\r",
      "\u001b[K     |██████▊                         | 20 kB 25.1 MB/s eta 0:00:01\r",
      "\u001b[K     |██████████                      | 30 kB 29.6 MB/s eta 0:00:01\r",
      "\u001b[K     |█████████████▍                  | 40 kB 27.3 MB/s eta 0:00:01\r",
      "\u001b[K     |████████████████▊               | 51 kB 11.1 MB/s eta 0:00:01\r",
      "\u001b[K     |████████████████████            | 61 kB 10.5 MB/s eta 0:00:01\r",
      "\u001b[K     |███████████████████████▍        | 71 kB 9.2 MB/s eta 0:00:01\r",
      "\u001b[K     |██████████████████████████▊     | 81 kB 10.0 MB/s eta 0:00:01\r",
      "\u001b[K     |██████████████████████████████  | 92 kB 11.0 MB/s eta 0:00:01\r",
      "\u001b[K     |████████████████████████████████| 98 kB 4.5 MB/s \n",
      "\u001b[?25h"
     ]
    }
   ],
   "source": [
    "!pip install -q -U keras-tuner"
   ]
  },
  {
   "cell_type": "code",
   "execution_count": 28,
   "id": "M5te5ih0uP6u",
   "metadata": {
    "id": "M5te5ih0uP6u"
   },
   "outputs": [],
   "source": [
    "import pandas as pd\n",
    "from tensorflow import keras\n",
    "from tensorflow.keras import layers\n",
    "from keras_tuner.tuners import RandomSearch\n",
    "from tensorflow.keras.models import Sequential\n",
    "from tensorflow.keras.layers import LSTM\n",
    "from tensorflow.keras.layers import Dense,Dropout\n",
    "from tensorflow.keras.layers import Flatten\n",
    "import matplotlib.pyplot as plt"
   ]
  },
  {
   "cell_type": "code",
   "execution_count": 29,
   "id": "rYiJC5hXuP_e",
   "metadata": {
    "id": "rYiJC5hXuP_e"
   },
   "outputs": [],
   "source": [
    "def build_model(hp):\n",
    "    model = keras.Sequential()\n",
    "    for i in range(hp.Int('num_layers', 1, 5)):\n",
    "        model.add(layers.Dense(units=hp.Int('units_' + str(i),\n",
    "                                            min_value=8,\n",
    "                                            max_value = 64,\n",
    "                                            step=8),\n",
    "                                            activation= \"relu\"))\n",
    "        if hp.Boolean(\"dropout\"):\n",
    "          model.add(Dropout(hp.Float('Dropout_rate',min_value=0,max_value=0.5,step=0.1)))\n",
    "    model.add(layers.Dense(1, activation='linear'))\n",
    "    model.compile(\n",
    "        optimizer=keras.optimizers.Adam(\n",
    "             hp.Float('learning_rate', min_value=1e-4, max_value=1e-1, sampling=\"log\")),\n",
    "        loss='mape',\n",
    "        metrics=['mape'])\n",
    "    return model"
   ]
  },
  {
   "cell_type": "code",
   "execution_count": 30,
   "id": "2h_gRerjuQCT",
   "metadata": {
    "id": "2h_gRerjuQCT"
   },
   "outputs": [],
   "source": [
    "tuner = RandomSearch(\n",
    "    build_model,\n",
    "    objective='val_mape',\n",
    "    max_trials=10,\n",
    "    executions_per_trial=1,\n",
    "    directory='project',\n",
    "    project_name='loa_em_1')"
   ]
  },
  {
   "cell_type": "code",
   "execution_count": 31,
   "id": "Dg5AHN3guQFu",
   "metadata": {
    "colab": {
     "base_uri": "https://localhost:8080/"
    },
    "id": "Dg5AHN3guQFu",
    "outputId": "0daa64b8-d94f-4b5c-a57a-d2d3dafb803c"
   },
   "outputs": [
    {
     "name": "stdout",
     "output_type": "stream",
     "text": [
      "Search space summary\n",
      "Default search space size: 4\n",
      "num_layers (Int)\n",
      "{'default': None, 'conditions': [], 'min_value': 1, 'max_value': 5, 'step': 1, 'sampling': None}\n",
      "units_0 (Int)\n",
      "{'default': None, 'conditions': [], 'min_value': 8, 'max_value': 64, 'step': 8, 'sampling': None}\n",
      "dropout (Boolean)\n",
      "{'default': False, 'conditions': []}\n",
      "learning_rate (Float)\n",
      "{'default': 0.0001, 'conditions': [], 'min_value': 0.0001, 'max_value': 0.1, 'step': None, 'sampling': 'log'}\n"
     ]
    }
   ],
   "source": [
    "tuner.search_space_summary()"
   ]
  },
  {
   "cell_type": "code",
   "execution_count": 32,
   "id": "TiBXdF0K8Gpr",
   "metadata": {
    "colab": {
     "base_uri": "https://localhost:8080/"
    },
    "id": "TiBXdF0K8Gpr",
    "outputId": "c7c7983d-ac46-4602-b460-7c6f0639a9db"
   },
   "outputs": [
    {
     "name": "stdout",
     "output_type": "stream",
     "text": [
      "Trial 10 Complete [00h 00m 35s]\n",
      "val_mape: 2.2224204540252686\n",
      "\n",
      "Best val_mape So Far: 0.46881303191185\n",
      "Total elapsed time: 00h 06m 15s\n",
      "INFO:tensorflow:Oracle triggered exit\n"
     ]
    }
   ],
   "source": [
    "tuner.search(trainX, trainY,\n",
    "             epochs=200,\n",
    "             batch_size=33,\n",
    "             validation_data=(testX, testY))"
   ]
  },
  {
   "cell_type": "code",
   "execution_count": 33,
   "id": "VXXGH_RK8GsD",
   "metadata": {
    "colab": {
     "base_uri": "https://localhost:8080/"
    },
    "id": "VXXGH_RK8GsD",
    "outputId": "592f62f5-e78b-411c-9ebe-191fa2db7c26"
   },
   "outputs": [
    {
     "name": "stdout",
     "output_type": "stream",
     "text": [
      "Results summary\n",
      "Results in project/loa_em_1\n",
      "Showing 10 best trials\n",
      "Objective(name='val_mape', direction='min')\n",
      "Trial summary\n",
      "Hyperparameters:\n",
      "num_layers: 2\n",
      "units_0: 32\n",
      "dropout: False\n",
      "learning_rate: 0.0004581017397685277\n",
      "Dropout_rate: 0.4\n",
      "units_1: 8\n",
      "Score: 0.46881303191185\n",
      "Trial summary\n",
      "Hyperparameters:\n",
      "num_layers: 1\n",
      "units_0: 16\n",
      "dropout: False\n",
      "learning_rate: 0.08609990515791306\n",
      "Dropout_rate: 0.4\n",
      "units_1: 16\n",
      "Score: 0.47107285261154175\n",
      "Trial summary\n",
      "Hyperparameters:\n",
      "num_layers: 4\n",
      "units_0: 24\n",
      "dropout: False\n",
      "learning_rate: 0.0014507956460961468\n",
      "Dropout_rate: 0.2\n",
      "units_1: 32\n",
      "units_2: 32\n",
      "units_3: 16\n",
      "Score: 0.4728447496891022\n",
      "Trial summary\n",
      "Hyperparameters:\n",
      "num_layers: 2\n",
      "units_0: 48\n",
      "dropout: False\n",
      "learning_rate: 0.006535620815456911\n",
      "Dropout_rate: 0.4\n",
      "units_1: 24\n",
      "Score: 0.47846871614456177\n",
      "Trial summary\n",
      "Hyperparameters:\n",
      "num_layers: 1\n",
      "units_0: 16\n",
      "dropout: True\n",
      "learning_rate: 0.00015834362549924747\n",
      "Dropout_rate: 0.0\n",
      "Score: 0.5207825899124146\n",
      "Trial summary\n",
      "Hyperparameters:\n",
      "num_layers: 2\n",
      "units_0: 16\n",
      "dropout: True\n",
      "learning_rate: 0.004573807613782554\n",
      "Dropout_rate: 0.1\n",
      "units_1: 56\n",
      "units_2: 40\n",
      "units_3: 40\n",
      "Score: 2.2224204540252686\n",
      "Trial summary\n",
      "Hyperparameters:\n",
      "num_layers: 4\n",
      "units_0: 64\n",
      "dropout: True\n",
      "learning_rate: 0.006581054818744375\n",
      "Dropout_rate: 0.1\n",
      "units_1: 24\n",
      "units_2: 64\n",
      "units_3: 24\n",
      "Score: 4.044888019561768\n",
      "Trial summary\n",
      "Hyperparameters:\n",
      "num_layers: 2\n",
      "units_0: 48\n",
      "dropout: True\n",
      "learning_rate: 0.0009505229883063265\n",
      "Dropout_rate: 0.30000000000000004\n",
      "units_1: 64\n",
      "Score: 11.226784706115723\n",
      "Trial summary\n",
      "Hyperparameters:\n",
      "num_layers: 4\n",
      "units_0: 16\n",
      "dropout: True\n",
      "learning_rate: 0.0008546915367504593\n",
      "Dropout_rate: 0.4\n",
      "units_1: 56\n",
      "units_2: 8\n",
      "units_3: 8\n",
      "Score: 40.88188552856445\n",
      "Trial summary\n",
      "Hyperparameters:\n",
      "num_layers: 2\n",
      "units_0: 56\n",
      "dropout: True\n",
      "learning_rate: 0.08046804769389222\n",
      "Dropout_rate: 0.1\n",
      "units_1: 24\n",
      "Score: 52.55991744995117\n"
     ]
    }
   ],
   "source": [
    "tuner.results_summary()"
   ]
  },
  {
   "cell_type": "code",
   "execution_count": 34,
   "id": "FBpLenJ_DZMX",
   "metadata": {
    "id": "FBpLenJ_DZMX"
   },
   "outputs": [],
   "source": [
    "from warnings import filterwarnings\n",
    "filterwarnings('ignore')"
   ]
  },
  {
   "cell_type": "code",
   "execution_count": 35,
   "id": "eL-a8rAv8Gvg",
   "metadata": {
    "colab": {
     "base_uri": "https://localhost:8080/"
    },
    "id": "eL-a8rAv8Gvg",
    "outputId": "bd09b625-f5af-4651-cc9b-d8594d586618"
   },
   "outputs": [
    {
     "name": "stdout",
     "output_type": "stream",
     "text": [
      "Model: \"sequential\"\n",
      "_________________________________________________________________\n",
      " Layer (type)                Output Shape              Param #   \n",
      "=================================================================\n",
      " dense (Dense)               (None, 32)                192       \n",
      "                                                                 \n",
      " dense_1 (Dense)             (None, 8)                 264       \n",
      "                                                                 \n",
      " dense_2 (Dense)             (None, 1)                 9         \n",
      "                                                                 \n",
      "=================================================================\n",
      "Total params: 465\n",
      "Trainable params: 465\n",
      "Non-trainable params: 0\n",
      "_________________________________________________________________\n"
     ]
    }
   ],
   "source": [
    "models = tuner.get_best_models(num_models=2)\n",
    "best_model = models[0]\n",
    "# Build the model.\n",
    "# Needed for `Sequential` without specified `input_shape`.\n",
    "best_model.build(input_shape=(None, 5))\n",
    "best_model.summary()"
   ]
  },
  {
   "cell_type": "code",
   "execution_count": 37,
   "id": "ovKDjDHZEmLV",
   "metadata": {
    "id": "ovKDjDHZEmLV"
   },
   "outputs": [],
   "source": [
    "from tensorflow.keras import optimizers\n",
    "from tensorflow.keras.callbacks import EarlyStopping"
   ]
  },
  {
   "cell_type": "code",
   "execution_count": 58,
   "id": "0e187ddc",
   "metadata": {
    "colab": {
     "base_uri": "https://localhost:8080/"
    },
    "id": "0e187ddc",
    "outputId": "dbb6bdbf-40f6-49fd-9df6-d3b1cf936c68"
   },
   "outputs": [
    {
     "name": "stdout",
     "output_type": "stream",
     "text": [
      "Epoch 1/300\n",
      "68/68 [==============================] - 1s 4ms/step - loss: 35.4735 - mape: 35.4735 - val_loss: 33.0951 - val_mape: 33.0951\n",
      "Epoch 2/300\n",
      "68/68 [==============================] - 0s 2ms/step - loss: 27.7586 - mape: 27.7586 - val_loss: 26.9005 - val_mape: 26.9005\n",
      "Epoch 3/300\n",
      "68/68 [==============================] - 0s 2ms/step - loss: 19.9076 - mape: 19.9076 - val_loss: 20.6034 - val_mape: 20.6034\n",
      "Epoch 4/300\n",
      "68/68 [==============================] - 0s 2ms/step - loss: 12.6201 - mape: 12.6201 - val_loss: 14.6987 - val_mape: 14.6987\n",
      "Epoch 5/300\n",
      "68/68 [==============================] - 0s 2ms/step - loss: 7.8921 - mape: 7.8921 - val_loss: 10.1722 - val_mape: 10.1722\n",
      "Epoch 6/300\n",
      "68/68 [==============================] - 0s 2ms/step - loss: 5.8347 - mape: 5.8347 - val_loss: 7.2810 - val_mape: 7.2810\n",
      "Epoch 7/300\n",
      "68/68 [==============================] - 0s 2ms/step - loss: 5.0016 - mape: 5.0016 - val_loss: 5.7309 - val_mape: 5.7309\n",
      "Epoch 8/300\n",
      "68/68 [==============================] - 0s 2ms/step - loss: 4.4940 - mape: 4.4940 - val_loss: 4.9191 - val_mape: 4.9191\n",
      "Epoch 9/300\n",
      "68/68 [==============================] - 0s 2ms/step - loss: 3.9982 - mape: 3.9982 - val_loss: 4.3400 - val_mape: 4.3400\n",
      "Epoch 10/300\n",
      "68/68 [==============================] - 0s 2ms/step - loss: 3.4819 - mape: 3.4819 - val_loss: 3.6008 - val_mape: 3.6008\n",
      "Epoch 11/300\n",
      "68/68 [==============================] - 0s 2ms/step - loss: 2.9502 - mape: 2.9502 - val_loss: 2.9714 - val_mape: 2.9714\n",
      "Epoch 12/300\n",
      "68/68 [==============================] - 0s 2ms/step - loss: 2.4244 - mape: 2.4244 - val_loss: 2.2300 - val_mape: 2.2300\n",
      "Epoch 13/300\n",
      "68/68 [==============================] - 0s 2ms/step - loss: 1.9369 - mape: 1.9369 - val_loss: 1.4730 - val_mape: 1.4730\n",
      "Epoch 14/300\n",
      "68/68 [==============================] - 0s 2ms/step - loss: 1.5519 - mape: 1.5519 - val_loss: 0.9233 - val_mape: 0.9233\n",
      "Epoch 15/300\n",
      "68/68 [==============================] - 0s 2ms/step - loss: 1.3219 - mape: 1.3219 - val_loss: 0.6767 - val_mape: 0.6767\n",
      "Epoch 16/300\n",
      "68/68 [==============================] - 0s 2ms/step - loss: 1.2292 - mape: 1.2292 - val_loss: 0.5686 - val_mape: 0.5686\n",
      "Epoch 17/300\n",
      "68/68 [==============================] - 0s 2ms/step - loss: 1.1966 - mape: 1.1966 - val_loss: 0.5287 - val_mape: 0.5287\n",
      "Epoch 18/300\n",
      "68/68 [==============================] - 0s 2ms/step - loss: 1.1866 - mape: 1.1866 - val_loss: 0.5193 - val_mape: 0.5193\n",
      "Epoch 19/300\n",
      "68/68 [==============================] - 0s 2ms/step - loss: 1.1866 - mape: 1.1866 - val_loss: 0.5202 - val_mape: 0.5202\n",
      "Epoch 20/300\n",
      "68/68 [==============================] - 0s 2ms/step - loss: 1.1843 - mape: 1.1843 - val_loss: 0.5199 - val_mape: 0.5199\n",
      "Epoch 21/300\n",
      "68/68 [==============================] - 0s 2ms/step - loss: 1.1853 - mape: 1.1853 - val_loss: 0.5190 - val_mape: 0.5190\n",
      "Epoch 22/300\n",
      "68/68 [==============================] - 0s 2ms/step - loss: 1.1831 - mape: 1.1831 - val_loss: 0.5187 - val_mape: 0.5187\n",
      "Epoch 23/300\n",
      "68/68 [==============================] - 0s 2ms/step - loss: 1.1819 - mape: 1.1819 - val_loss: 0.5201 - val_mape: 0.5201\n",
      "Epoch 24/300\n",
      "68/68 [==============================] - 0s 2ms/step - loss: 1.1833 - mape: 1.1833 - val_loss: 0.5184 - val_mape: 0.5184\n",
      "Epoch 25/300\n",
      "68/68 [==============================] - 0s 2ms/step - loss: 1.1835 - mape: 1.1835 - val_loss: 0.5187 - val_mape: 0.5187\n",
      "Epoch 26/300\n",
      "68/68 [==============================] - 0s 2ms/step - loss: 1.1841 - mape: 1.1841 - val_loss: 0.5243 - val_mape: 0.5243\n",
      "Epoch 27/300\n",
      "68/68 [==============================] - 0s 2ms/step - loss: 1.1819 - mape: 1.1819 - val_loss: 0.5202 - val_mape: 0.5202\n",
      "Epoch 28/300\n",
      "68/68 [==============================] - 0s 2ms/step - loss: 1.1836 - mape: 1.1836 - val_loss: 0.5268 - val_mape: 0.5268\n",
      "Epoch 29/300\n",
      "68/68 [==============================] - 0s 2ms/step - loss: 1.1822 - mape: 1.1822 - val_loss: 0.5428 - val_mape: 0.5428\n",
      "Epoch 30/300\n",
      "68/68 [==============================] - 0s 2ms/step - loss: 1.1810 - mape: 1.1810 - val_loss: 0.5304 - val_mape: 0.5304\n",
      "Epoch 31/300\n",
      "68/68 [==============================] - 0s 2ms/step - loss: 1.1877 - mape: 1.1877 - val_loss: 0.5220 - val_mape: 0.5220\n",
      "Epoch 32/300\n",
      "68/68 [==============================] - 0s 2ms/step - loss: 1.1814 - mape: 1.1814 - val_loss: 0.5299 - val_mape: 0.5299\n",
      "Epoch 33/300\n",
      "68/68 [==============================] - 0s 2ms/step - loss: 1.1820 - mape: 1.1820 - val_loss: 0.5168 - val_mape: 0.5168\n",
      "Epoch 34/300\n",
      "68/68 [==============================] - 0s 2ms/step - loss: 1.1808 - mape: 1.1808 - val_loss: 0.5234 - val_mape: 0.5234\n",
      "Epoch 35/300\n",
      "68/68 [==============================] - 0s 2ms/step - loss: 1.1796 - mape: 1.1796 - val_loss: 0.5203 - val_mape: 0.5203\n",
      "Epoch 36/300\n",
      "68/68 [==============================] - 0s 2ms/step - loss: 1.1784 - mape: 1.1784 - val_loss: 0.5169 - val_mape: 0.5169\n",
      "Epoch 37/300\n",
      "68/68 [==============================] - 0s 2ms/step - loss: 1.1817 - mape: 1.1817 - val_loss: 0.5163 - val_mape: 0.5163\n",
      "Epoch 38/300\n",
      "68/68 [==============================] - 0s 2ms/step - loss: 1.1816 - mape: 1.1816 - val_loss: 0.5198 - val_mape: 0.5198\n",
      "Epoch 39/300\n",
      "68/68 [==============================] - 0s 2ms/step - loss: 1.1778 - mape: 1.1778 - val_loss: 0.5156 - val_mape: 0.5156\n",
      "Epoch 40/300\n",
      "68/68 [==============================] - 0s 2ms/step - loss: 1.1795 - mape: 1.1795 - val_loss: 0.5345 - val_mape: 0.5345\n",
      "Epoch 41/300\n",
      "68/68 [==============================] - 0s 2ms/step - loss: 1.1813 - mape: 1.1813 - val_loss: 0.5336 - val_mape: 0.5336\n",
      "Epoch 42/300\n",
      "68/68 [==============================] - 0s 2ms/step - loss: 1.1795 - mape: 1.1795 - val_loss: 0.5306 - val_mape: 0.5306\n",
      "Epoch 43/300\n",
      "68/68 [==============================] - 0s 2ms/step - loss: 1.1757 - mape: 1.1757 - val_loss: 0.5206 - val_mape: 0.5206\n",
      "Epoch 44/300\n",
      "68/68 [==============================] - 0s 2ms/step - loss: 1.1761 - mape: 1.1761 - val_loss: 0.5151 - val_mape: 0.5151\n",
      "Epoch 45/300\n",
      "68/68 [==============================] - 0s 2ms/step - loss: 1.1758 - mape: 1.1758 - val_loss: 0.5218 - val_mape: 0.5218\n",
      "Epoch 46/300\n",
      "68/68 [==============================] - 0s 2ms/step - loss: 1.1760 - mape: 1.1760 - val_loss: 0.5165 - val_mape: 0.5165\n",
      "Epoch 47/300\n",
      "68/68 [==============================] - 0s 2ms/step - loss: 1.1766 - mape: 1.1766 - val_loss: 0.5193 - val_mape: 0.5193\n",
      "Epoch 48/300\n",
      "68/68 [==============================] - 0s 2ms/step - loss: 1.1736 - mape: 1.1736 - val_loss: 0.5182 - val_mape: 0.5182\n",
      "Epoch 49/300\n",
      "68/68 [==============================] - 0s 2ms/step - loss: 1.1756 - mape: 1.1756 - val_loss: 0.5164 - val_mape: 0.5164\n",
      "Epoch 50/300\n",
      "68/68 [==============================] - 0s 2ms/step - loss: 1.1756 - mape: 1.1756 - val_loss: 0.5135 - val_mape: 0.5135\n",
      "Epoch 51/300\n",
      "68/68 [==============================] - 0s 2ms/step - loss: 1.1725 - mape: 1.1725 - val_loss: 0.5195 - val_mape: 0.5195\n",
      "Epoch 52/300\n",
      "68/68 [==============================] - 0s 2ms/step - loss: 1.1770 - mape: 1.1770 - val_loss: 0.5161 - val_mape: 0.5161\n",
      "Epoch 53/300\n",
      "68/68 [==============================] - 0s 2ms/step - loss: 1.1773 - mape: 1.1773 - val_loss: 0.5323 - val_mape: 0.5323\n",
      "Epoch 54/300\n",
      "68/68 [==============================] - 0s 2ms/step - loss: 1.1786 - mape: 1.1786 - val_loss: 0.5253 - val_mape: 0.5253\n",
      "Epoch 55/300\n",
      "68/68 [==============================] - 0s 2ms/step - loss: 1.1699 - mape: 1.1699 - val_loss: 0.5206 - val_mape: 0.5206\n",
      "Epoch 56/300\n",
      "68/68 [==============================] - 0s 2ms/step - loss: 1.1733 - mape: 1.1733 - val_loss: 0.5162 - val_mape: 0.5162\n",
      "Epoch 57/300\n",
      "68/68 [==============================] - 0s 2ms/step - loss: 1.1711 - mape: 1.1711 - val_loss: 0.5217 - val_mape: 0.5217\n",
      "Epoch 58/300\n",
      "68/68 [==============================] - 0s 2ms/step - loss: 1.1716 - mape: 1.1716 - val_loss: 0.5215 - val_mape: 0.5215\n",
      "Epoch 59/300\n",
      "68/68 [==============================] - 0s 2ms/step - loss: 1.1718 - mape: 1.1718 - val_loss: 0.5189 - val_mape: 0.5189\n",
      "Epoch 60/300\n",
      "68/68 [==============================] - 0s 2ms/step - loss: 1.1691 - mape: 1.1691 - val_loss: 0.5184 - val_mape: 0.5184\n",
      "Epoch 61/300\n",
      "68/68 [==============================] - 0s 2ms/step - loss: 1.1715 - mape: 1.1715 - val_loss: 0.5142 - val_mape: 0.5142\n",
      "Epoch 62/300\n",
      "68/68 [==============================] - 0s 2ms/step - loss: 1.1682 - mape: 1.1682 - val_loss: 0.5151 - val_mape: 0.5151\n",
      "Epoch 63/300\n",
      "68/68 [==============================] - 0s 2ms/step - loss: 1.1746 - mape: 1.1746 - val_loss: 0.5150 - val_mape: 0.5150\n",
      "Epoch 64/300\n",
      "68/68 [==============================] - 0s 2ms/step - loss: 1.1668 - mape: 1.1668 - val_loss: 0.5675 - val_mape: 0.5675\n",
      "Epoch 65/300\n",
      "68/68 [==============================] - 0s 2ms/step - loss: 1.1721 - mape: 1.1721 - val_loss: 0.5411 - val_mape: 0.5411\n",
      "Epoch 66/300\n",
      "68/68 [==============================] - 0s 2ms/step - loss: 1.1645 - mape: 1.1645 - val_loss: 0.5234 - val_mape: 0.5234\n",
      "Epoch 67/300\n",
      "68/68 [==============================] - 0s 2ms/step - loss: 1.1689 - mape: 1.1689 - val_loss: 0.5111 - val_mape: 0.5111\n",
      "Epoch 68/300\n",
      "68/68 [==============================] - 0s 2ms/step - loss: 1.1659 - mape: 1.1659 - val_loss: 0.5111 - val_mape: 0.5111\n",
      "Epoch 69/300\n",
      "68/68 [==============================] - 0s 2ms/step - loss: 1.1667 - mape: 1.1667 - val_loss: 0.5495 - val_mape: 0.5495\n",
      "Epoch 70/300\n",
      "68/68 [==============================] - 0s 2ms/step - loss: 1.1816 - mape: 1.1816 - val_loss: 0.5109 - val_mape: 0.5109\n",
      "Epoch 71/300\n",
      "68/68 [==============================] - 0s 2ms/step - loss: 1.1653 - mape: 1.1653 - val_loss: 0.5233 - val_mape: 0.5233\n",
      "Epoch 72/300\n",
      "68/68 [==============================] - 0s 2ms/step - loss: 1.1669 - mape: 1.1669 - val_loss: 0.5130 - val_mape: 0.5130\n",
      "Epoch 73/300\n",
      "68/68 [==============================] - 0s 2ms/step - loss: 1.1628 - mape: 1.1628 - val_loss: 0.5353 - val_mape: 0.5353\n",
      "Epoch 74/300\n",
      "68/68 [==============================] - 0s 2ms/step - loss: 1.1649 - mape: 1.1649 - val_loss: 0.5090 - val_mape: 0.5090\n",
      "Epoch 75/300\n",
      "68/68 [==============================] - 0s 2ms/step - loss: 1.1640 - mape: 1.1640 - val_loss: 0.5296 - val_mape: 0.5296\n",
      "Epoch 76/300\n",
      "68/68 [==============================] - 0s 2ms/step - loss: 1.1652 - mape: 1.1652 - val_loss: 0.5085 - val_mape: 0.5085\n",
      "Epoch 77/300\n",
      "68/68 [==============================] - 0s 2ms/step - loss: 1.1616 - mape: 1.1616 - val_loss: 0.5085 - val_mape: 0.5085\n",
      "Epoch 78/300\n",
      "68/68 [==============================] - 0s 2ms/step - loss: 1.1616 - mape: 1.1616 - val_loss: 0.5084 - val_mape: 0.5084\n",
      "Epoch 79/300\n",
      "68/68 [==============================] - 0s 2ms/step - loss: 1.1629 - mape: 1.1629 - val_loss: 0.5306 - val_mape: 0.5306\n",
      "Epoch 80/300\n",
      "68/68 [==============================] - 0s 2ms/step - loss: 1.1615 - mape: 1.1615 - val_loss: 0.5211 - val_mape: 0.5211\n",
      "Epoch 81/300\n",
      "68/68 [==============================] - 0s 2ms/step - loss: 1.1621 - mape: 1.1621 - val_loss: 0.5086 - val_mape: 0.5086\n",
      "Epoch 82/300\n",
      "68/68 [==============================] - 0s 2ms/step - loss: 1.1600 - mape: 1.1600 - val_loss: 0.5124 - val_mape: 0.5124\n",
      "Epoch 83/300\n",
      "68/68 [==============================] - 0s 2ms/step - loss: 1.1658 - mape: 1.1658 - val_loss: 0.5074 - val_mape: 0.5074\n",
      "Epoch 84/300\n",
      "68/68 [==============================] - 0s 2ms/step - loss: 1.1611 - mape: 1.1611 - val_loss: 0.5090 - val_mape: 0.5090\n",
      "Epoch 85/300\n",
      "68/68 [==============================] - 0s 2ms/step - loss: 1.1618 - mape: 1.1618 - val_loss: 0.5090 - val_mape: 0.5090\n",
      "Epoch 86/300\n",
      "68/68 [==============================] - 0s 2ms/step - loss: 1.1612 - mape: 1.1612 - val_loss: 0.5109 - val_mape: 0.5109\n",
      "Epoch 87/300\n",
      "68/68 [==============================] - 0s 2ms/step - loss: 1.1573 - mape: 1.1573 - val_loss: 0.5155 - val_mape: 0.5155\n",
      "Epoch 88/300\n",
      "68/68 [==============================] - 0s 2ms/step - loss: 1.1611 - mape: 1.1611 - val_loss: 0.5190 - val_mape: 0.5190\n",
      "Epoch 89/300\n",
      "68/68 [==============================] - 0s 2ms/step - loss: 1.1569 - mape: 1.1569 - val_loss: 0.5298 - val_mape: 0.5298\n",
      "Epoch 90/300\n",
      "68/68 [==============================] - 0s 2ms/step - loss: 1.1605 - mape: 1.1605 - val_loss: 0.5136 - val_mape: 0.5136\n",
      "Epoch 91/300\n",
      "68/68 [==============================] - 0s 2ms/step - loss: 1.1561 - mape: 1.1561 - val_loss: 0.5068 - val_mape: 0.5068\n",
      "Epoch 92/300\n",
      "68/68 [==============================] - 0s 2ms/step - loss: 1.1595 - mape: 1.1595 - val_loss: 0.5053 - val_mape: 0.5053\n",
      "Epoch 93/300\n",
      "68/68 [==============================] - 0s 2ms/step - loss: 1.1645 - mape: 1.1645 - val_loss: 0.5051 - val_mape: 0.5051\n",
      "Epoch 94/300\n",
      "68/68 [==============================] - 0s 2ms/step - loss: 1.1597 - mape: 1.1597 - val_loss: 0.5046 - val_mape: 0.5046\n",
      "Epoch 95/300\n",
      "68/68 [==============================] - 0s 2ms/step - loss: 1.1560 - mape: 1.1560 - val_loss: 0.5145 - val_mape: 0.5145\n",
      "Epoch 96/300\n",
      "68/68 [==============================] - 0s 2ms/step - loss: 1.1542 - mape: 1.1542 - val_loss: 0.5073 - val_mape: 0.5073\n",
      "Epoch 97/300\n",
      "68/68 [==============================] - 0s 2ms/step - loss: 1.1530 - mape: 1.1530 - val_loss: 0.5072 - val_mape: 0.5072\n",
      "Epoch 98/300\n",
      "68/68 [==============================] - 0s 2ms/step - loss: 1.1526 - mape: 1.1526 - val_loss: 0.5252 - val_mape: 0.5252\n",
      "Epoch 99/300\n",
      "68/68 [==============================] - 0s 2ms/step - loss: 1.1501 - mape: 1.1501 - val_loss: 0.5047 - val_mape: 0.5047\n",
      "Epoch 100/300\n",
      "68/68 [==============================] - 0s 2ms/step - loss: 1.1538 - mape: 1.1538 - val_loss: 0.5036 - val_mape: 0.5036\n",
      "Epoch 101/300\n",
      "68/68 [==============================] - 0s 2ms/step - loss: 1.1559 - mape: 1.1559 - val_loss: 0.5041 - val_mape: 0.5041\n",
      "Epoch 102/300\n",
      "68/68 [==============================] - 0s 2ms/step - loss: 1.1603 - mape: 1.1603 - val_loss: 0.5067 - val_mape: 0.5067\n",
      "Epoch 103/300\n",
      "68/68 [==============================] - 0s 2ms/step - loss: 1.1536 - mape: 1.1536 - val_loss: 0.5032 - val_mape: 0.5032\n",
      "Epoch 104/300\n",
      "68/68 [==============================] - 0s 2ms/step - loss: 1.1509 - mape: 1.1509 - val_loss: 0.5049 - val_mape: 0.5049\n",
      "Epoch 105/300\n",
      "68/68 [==============================] - 0s 2ms/step - loss: 1.1522 - mape: 1.1522 - val_loss: 0.5026 - val_mape: 0.5026\n",
      "Epoch 106/300\n",
      "68/68 [==============================] - 0s 2ms/step - loss: 1.1523 - mape: 1.1523 - val_loss: 0.5036 - val_mape: 0.5036\n",
      "Epoch 107/300\n",
      "68/68 [==============================] - 0s 2ms/step - loss: 1.1541 - mape: 1.1541 - val_loss: 0.5335 - val_mape: 0.5335\n",
      "Epoch 108/300\n",
      "68/68 [==============================] - 0s 2ms/step - loss: 1.1523 - mape: 1.1523 - val_loss: 0.5061 - val_mape: 0.5061\n",
      "Epoch 109/300\n",
      "68/68 [==============================] - 0s 2ms/step - loss: 1.1521 - mape: 1.1521 - val_loss: 0.5072 - val_mape: 0.5072\n",
      "Epoch 110/300\n",
      "68/68 [==============================] - 0s 2ms/step - loss: 1.1502 - mape: 1.1502 - val_loss: 0.5164 - val_mape: 0.5164\n",
      "Epoch 111/300\n",
      "68/68 [==============================] - 0s 2ms/step - loss: 1.1576 - mape: 1.1576 - val_loss: 0.5019 - val_mape: 0.5019\n",
      "Epoch 112/300\n",
      "68/68 [==============================] - 0s 2ms/step - loss: 1.1472 - mape: 1.1472 - val_loss: 0.5090 - val_mape: 0.5090\n",
      "Epoch 113/300\n",
      "68/68 [==============================] - 0s 2ms/step - loss: 1.1484 - mape: 1.1484 - val_loss: 0.5017 - val_mape: 0.5017\n",
      "Epoch 114/300\n",
      "68/68 [==============================] - 0s 2ms/step - loss: 1.1493 - mape: 1.1493 - val_loss: 0.5079 - val_mape: 0.5079\n",
      "Epoch 115/300\n",
      "68/68 [==============================] - 0s 2ms/step - loss: 1.1516 - mape: 1.1516 - val_loss: 0.5017 - val_mape: 0.5017\n",
      "Epoch 116/300\n",
      "68/68 [==============================] - 0s 2ms/step - loss: 1.1539 - mape: 1.1539 - val_loss: 0.5066 - val_mape: 0.5066\n",
      "Epoch 117/300\n",
      "68/68 [==============================] - 0s 2ms/step - loss: 1.1485 - mape: 1.1485 - val_loss: 0.5031 - val_mape: 0.5031\n",
      "Epoch 118/300\n",
      "68/68 [==============================] - 0s 2ms/step - loss: 1.1464 - mape: 1.1464 - val_loss: 0.5134 - val_mape: 0.5134\n",
      "Epoch 119/300\n",
      "68/68 [==============================] - 0s 2ms/step - loss: 1.1463 - mape: 1.1463 - val_loss: 0.5060 - val_mape: 0.5060\n",
      "Epoch 120/300\n",
      "68/68 [==============================] - 0s 2ms/step - loss: 1.1498 - mape: 1.1498 - val_loss: 0.5095 - val_mape: 0.5095\n",
      "Epoch 121/300\n",
      "68/68 [==============================] - 0s 2ms/step - loss: 1.1482 - mape: 1.1482 - val_loss: 0.5014 - val_mape: 0.5014\n",
      "Epoch 122/300\n",
      "68/68 [==============================] - 0s 2ms/step - loss: 1.1482 - mape: 1.1482 - val_loss: 0.5187 - val_mape: 0.5187\n",
      "Epoch 123/300\n",
      "68/68 [==============================] - 0s 2ms/step - loss: 1.1589 - mape: 1.1589 - val_loss: 0.5009 - val_mape: 0.5009\n",
      "Epoch 124/300\n",
      "68/68 [==============================] - 0s 2ms/step - loss: 1.1474 - mape: 1.1474 - val_loss: 0.5049 - val_mape: 0.5049\n",
      "Epoch 125/300\n",
      "68/68 [==============================] - 0s 2ms/step - loss: 1.1551 - mape: 1.1551 - val_loss: 0.5115 - val_mape: 0.5115\n",
      "Epoch 126/300\n",
      "68/68 [==============================] - 0s 2ms/step - loss: 1.1440 - mape: 1.1440 - val_loss: 0.5052 - val_mape: 0.5052\n",
      "Epoch 127/300\n",
      "68/68 [==============================] - 0s 2ms/step - loss: 1.1447 - mape: 1.1447 - val_loss: 0.5046 - val_mape: 0.5046\n",
      "Epoch 128/300\n",
      "68/68 [==============================] - 0s 2ms/step - loss: 1.1459 - mape: 1.1459 - val_loss: 0.5075 - val_mape: 0.5075\n",
      "Epoch 129/300\n",
      "68/68 [==============================] - 0s 2ms/step - loss: 1.1434 - mape: 1.1434 - val_loss: 0.5224 - val_mape: 0.5224\n",
      "Epoch 130/300\n",
      "68/68 [==============================] - 0s 2ms/step - loss: 1.1432 - mape: 1.1432 - val_loss: 0.5363 - val_mape: 0.5363\n",
      "Epoch 131/300\n",
      "68/68 [==============================] - 0s 2ms/step - loss: 1.1441 - mape: 1.1441 - val_loss: 0.5189 - val_mape: 0.5189\n",
      "Epoch 132/300\n",
      "68/68 [==============================] - 0s 2ms/step - loss: 1.1437 - mape: 1.1437 - val_loss: 0.5030 - val_mape: 0.5030\n",
      "Epoch 133/300\n",
      "68/68 [==============================] - 0s 2ms/step - loss: 1.1424 - mape: 1.1424 - val_loss: 0.5008 - val_mape: 0.5008\n",
      "Epoch 134/300\n",
      "68/68 [==============================] - 0s 2ms/step - loss: 1.1409 - mape: 1.1409 - val_loss: 0.5022 - val_mape: 0.5022\n",
      "Epoch 135/300\n",
      "68/68 [==============================] - 0s 2ms/step - loss: 1.1445 - mape: 1.1445 - val_loss: 0.5017 - val_mape: 0.5017\n",
      "Epoch 136/300\n",
      "68/68 [==============================] - 0s 2ms/step - loss: 1.1439 - mape: 1.1439 - val_loss: 0.5067 - val_mape: 0.5067\n",
      "Epoch 137/300\n",
      "68/68 [==============================] - 0s 2ms/step - loss: 1.1427 - mape: 1.1427 - val_loss: 0.5051 - val_mape: 0.5051\n",
      "Epoch 138/300\n",
      "68/68 [==============================] - 0s 2ms/step - loss: 1.1398 - mape: 1.1398 - val_loss: 0.5088 - val_mape: 0.5088\n",
      "Epoch 139/300\n",
      "68/68 [==============================] - 0s 2ms/step - loss: 1.1394 - mape: 1.1394 - val_loss: 0.4985 - val_mape: 0.4985\n",
      "Epoch 140/300\n",
      "68/68 [==============================] - 0s 2ms/step - loss: 1.1394 - mape: 1.1394 - val_loss: 0.5041 - val_mape: 0.5041\n",
      "Epoch 141/300\n",
      "68/68 [==============================] - 0s 2ms/step - loss: 1.1424 - mape: 1.1424 - val_loss: 0.5567 - val_mape: 0.5567\n",
      "Epoch 142/300\n",
      "68/68 [==============================] - 0s 2ms/step - loss: 1.1420 - mape: 1.1420 - val_loss: 0.4976 - val_mape: 0.4976\n",
      "Epoch 143/300\n",
      "68/68 [==============================] - 0s 2ms/step - loss: 1.1439 - mape: 1.1439 - val_loss: 0.5016 - val_mape: 0.5016\n",
      "Epoch 144/300\n",
      "68/68 [==============================] - 0s 2ms/step - loss: 1.1426 - mape: 1.1426 - val_loss: 0.4971 - val_mape: 0.4971\n",
      "Epoch 145/300\n",
      "68/68 [==============================] - 0s 2ms/step - loss: 1.1372 - mape: 1.1372 - val_loss: 0.4987 - val_mape: 0.4987\n",
      "Epoch 146/300\n",
      "68/68 [==============================] - 0s 2ms/step - loss: 1.1389 - mape: 1.1389 - val_loss: 0.4967 - val_mape: 0.4967\n",
      "Epoch 147/300\n",
      "68/68 [==============================] - 0s 2ms/step - loss: 1.1422 - mape: 1.1422 - val_loss: 0.4969 - val_mape: 0.4969\n",
      "Epoch 148/300\n",
      "68/68 [==============================] - 0s 2ms/step - loss: 1.1405 - mape: 1.1405 - val_loss: 0.5189 - val_mape: 0.5189\n",
      "Epoch 149/300\n",
      "68/68 [==============================] - 0s 2ms/step - loss: 1.1454 - mape: 1.1454 - val_loss: 0.5021 - val_mape: 0.5021\n",
      "Epoch 150/300\n",
      "68/68 [==============================] - 0s 2ms/step - loss: 1.1368 - mape: 1.1368 - val_loss: 0.4973 - val_mape: 0.4973\n",
      "Epoch 151/300\n",
      "68/68 [==============================] - 0s 2ms/step - loss: 1.1396 - mape: 1.1396 - val_loss: 0.4989 - val_mape: 0.4989\n",
      "Epoch 152/300\n",
      "68/68 [==============================] - 0s 2ms/step - loss: 1.1400 - mape: 1.1400 - val_loss: 0.4986 - val_mape: 0.4986\n",
      "Epoch 153/300\n",
      "68/68 [==============================] - 0s 2ms/step - loss: 1.1366 - mape: 1.1366 - val_loss: 0.5249 - val_mape: 0.5249\n",
      "Epoch 154/300\n",
      "68/68 [==============================] - 0s 2ms/step - loss: 1.1385 - mape: 1.1385 - val_loss: 0.4962 - val_mape: 0.4962\n",
      "Epoch 155/300\n",
      "68/68 [==============================] - 0s 2ms/step - loss: 1.1352 - mape: 1.1352 - val_loss: 0.4999 - val_mape: 0.4999\n",
      "Epoch 156/300\n",
      "68/68 [==============================] - 0s 2ms/step - loss: 1.1376 - mape: 1.1376 - val_loss: 0.5017 - val_mape: 0.5017\n",
      "Epoch 157/300\n",
      "68/68 [==============================] - 0s 2ms/step - loss: 1.1412 - mape: 1.1412 - val_loss: 0.5094 - val_mape: 0.5094\n",
      "Epoch 158/300\n",
      "68/68 [==============================] - 0s 2ms/step - loss: 1.1322 - mape: 1.1322 - val_loss: 0.4960 - val_mape: 0.4960\n",
      "Epoch 159/300\n",
      "68/68 [==============================] - 0s 2ms/step - loss: 1.1386 - mape: 1.1386 - val_loss: 0.4997 - val_mape: 0.4997\n",
      "Epoch 160/300\n",
      "68/68 [==============================] - 0s 2ms/step - loss: 1.1333 - mape: 1.1333 - val_loss: 0.4979 - val_mape: 0.4979\n",
      "Epoch 161/300\n",
      "68/68 [==============================] - 0s 2ms/step - loss: 1.1353 - mape: 1.1353 - val_loss: 0.5088 - val_mape: 0.5088\n",
      "Epoch 162/300\n",
      "68/68 [==============================] - 0s 2ms/step - loss: 1.1371 - mape: 1.1371 - val_loss: 0.5006 - val_mape: 0.5006\n",
      "Epoch 163/300\n",
      "68/68 [==============================] - 0s 2ms/step - loss: 1.1319 - mape: 1.1319 - val_loss: 0.5321 - val_mape: 0.5321\n",
      "Epoch 164/300\n",
      "68/68 [==============================] - 0s 2ms/step - loss: 1.1411 - mape: 1.1411 - val_loss: 0.5098 - val_mape: 0.5098\n",
      "Epoch 165/300\n",
      "68/68 [==============================] - 0s 2ms/step - loss: 1.1417 - mape: 1.1417 - val_loss: 0.5196 - val_mape: 0.5196\n",
      "Epoch 166/300\n",
      "68/68 [==============================] - 0s 2ms/step - loss: 1.1333 - mape: 1.1333 - val_loss: 0.5030 - val_mape: 0.5030\n",
      "Epoch 167/300\n",
      "68/68 [==============================] - 0s 2ms/step - loss: 1.1361 - mape: 1.1361 - val_loss: 0.4956 - val_mape: 0.4956\n",
      "Epoch 168/300\n",
      "68/68 [==============================] - 0s 2ms/step - loss: 1.1316 - mape: 1.1316 - val_loss: 0.4952 - val_mape: 0.4952\n",
      "Epoch 169/300\n",
      "68/68 [==============================] - 0s 2ms/step - loss: 1.1312 - mape: 1.1312 - val_loss: 0.4946 - val_mape: 0.4946\n",
      "Epoch 170/300\n",
      "68/68 [==============================] - 0s 2ms/step - loss: 1.1316 - mape: 1.1316 - val_loss: 0.4975 - val_mape: 0.4975\n",
      "Epoch 171/300\n",
      "68/68 [==============================] - 0s 2ms/step - loss: 1.1365 - mape: 1.1365 - val_loss: 0.4970 - val_mape: 0.4970\n",
      "Epoch 172/300\n",
      "68/68 [==============================] - 0s 2ms/step - loss: 1.1330 - mape: 1.1330 - val_loss: 0.5058 - val_mape: 0.5058\n",
      "Epoch 173/300\n",
      "68/68 [==============================] - 0s 2ms/step - loss: 1.1322 - mape: 1.1322 - val_loss: 0.4948 - val_mape: 0.4948\n",
      "Epoch 174/300\n",
      "68/68 [==============================] - 0s 2ms/step - loss: 1.1331 - mape: 1.1331 - val_loss: 0.5031 - val_mape: 0.5031\n",
      "Epoch 175/300\n",
      "68/68 [==============================] - 0s 2ms/step - loss: 1.1316 - mape: 1.1316 - val_loss: 0.4931 - val_mape: 0.4931\n",
      "Epoch 176/300\n",
      "68/68 [==============================] - 0s 2ms/step - loss: 1.1314 - mape: 1.1314 - val_loss: 0.4946 - val_mape: 0.4946\n",
      "Epoch 177/300\n",
      "68/68 [==============================] - 0s 2ms/step - loss: 1.1335 - mape: 1.1335 - val_loss: 0.5018 - val_mape: 0.5018\n",
      "Epoch 178/300\n",
      "68/68 [==============================] - 0s 2ms/step - loss: 1.1313 - mape: 1.1313 - val_loss: 0.4978 - val_mape: 0.4978\n",
      "Epoch 179/300\n",
      "68/68 [==============================] - 0s 2ms/step - loss: 1.1307 - mape: 1.1307 - val_loss: 0.5001 - val_mape: 0.5001\n",
      "Epoch 180/300\n",
      "68/68 [==============================] - 0s 2ms/step - loss: 1.1285 - mape: 1.1285 - val_loss: 0.5067 - val_mape: 0.5067\n",
      "Epoch 181/300\n",
      "68/68 [==============================] - 0s 2ms/step - loss: 1.1284 - mape: 1.1284 - val_loss: 0.5225 - val_mape: 0.5225\n",
      "Epoch 182/300\n",
      "68/68 [==============================] - 0s 2ms/step - loss: 1.1309 - mape: 1.1309 - val_loss: 0.5029 - val_mape: 0.5029\n",
      "Epoch 183/300\n",
      "68/68 [==============================] - 0s 2ms/step - loss: 1.1315 - mape: 1.1315 - val_loss: 0.4992 - val_mape: 0.4992\n",
      "Epoch 184/300\n",
      "68/68 [==============================] - 0s 2ms/step - loss: 1.1273 - mape: 1.1273 - val_loss: 0.4969 - val_mape: 0.4969\n",
      "Epoch 185/300\n",
      "68/68 [==============================] - 0s 2ms/step - loss: 1.1276 - mape: 1.1276 - val_loss: 0.4971 - val_mape: 0.4971\n",
      "Epoch 186/300\n",
      "68/68 [==============================] - 0s 2ms/step - loss: 1.1290 - mape: 1.1290 - val_loss: 0.4924 - val_mape: 0.4924\n",
      "Epoch 187/300\n",
      "68/68 [==============================] - 0s 2ms/step - loss: 1.1326 - mape: 1.1326 - val_loss: 0.5168 - val_mape: 0.5168\n",
      "Epoch 188/300\n",
      "68/68 [==============================] - 0s 2ms/step - loss: 1.1288 - mape: 1.1288 - val_loss: 0.4974 - val_mape: 0.4974\n",
      "Epoch 189/300\n",
      "68/68 [==============================] - 0s 2ms/step - loss: 1.1292 - mape: 1.1292 - val_loss: 0.5042 - val_mape: 0.5042\n",
      "Epoch 190/300\n",
      "68/68 [==============================] - 0s 2ms/step - loss: 1.1277 - mape: 1.1277 - val_loss: 0.4985 - val_mape: 0.4985\n",
      "Epoch 191/300\n",
      "68/68 [==============================] - 0s 2ms/step - loss: 1.1256 - mape: 1.1256 - val_loss: 0.5010 - val_mape: 0.5010\n",
      "Epoch 192/300\n",
      "68/68 [==============================] - 0s 2ms/step - loss: 1.1264 - mape: 1.1264 - val_loss: 0.5096 - val_mape: 0.5096\n",
      "Epoch 193/300\n",
      "68/68 [==============================] - 0s 2ms/step - loss: 1.1261 - mape: 1.1261 - val_loss: 0.4916 - val_mape: 0.4916\n",
      "Epoch 194/300\n",
      "68/68 [==============================] - 0s 2ms/step - loss: 1.1304 - mape: 1.1304 - val_loss: 0.4911 - val_mape: 0.4911\n",
      "Epoch 195/300\n",
      "68/68 [==============================] - 0s 2ms/step - loss: 1.1316 - mape: 1.1316 - val_loss: 0.4910 - val_mape: 0.4910\n",
      "Epoch 196/300\n",
      "68/68 [==============================] - 0s 2ms/step - loss: 1.1282 - mape: 1.1282 - val_loss: 0.4966 - val_mape: 0.4966\n",
      "Epoch 197/300\n",
      "68/68 [==============================] - 0s 2ms/step - loss: 1.1294 - mape: 1.1294 - val_loss: 0.5086 - val_mape: 0.5086\n",
      "Epoch 198/300\n",
      "68/68 [==============================] - 0s 2ms/step - loss: 1.1258 - mape: 1.1258 - val_loss: 0.4917 - val_mape: 0.4917\n",
      "Epoch 199/300\n",
      "68/68 [==============================] - 0s 2ms/step - loss: 1.1281 - mape: 1.1281 - val_loss: 0.4914 - val_mape: 0.4914\n",
      "Epoch 200/300\n",
      "68/68 [==============================] - 0s 2ms/step - loss: 1.1343 - mape: 1.1343 - val_loss: 0.5289 - val_mape: 0.5289\n",
      "Epoch 201/300\n",
      "68/68 [==============================] - 0s 2ms/step - loss: 1.1226 - mape: 1.1226 - val_loss: 0.5652 - val_mape: 0.5652\n",
      "Epoch 202/300\n",
      "68/68 [==============================] - 0s 2ms/step - loss: 1.1332 - mape: 1.1332 - val_loss: 0.4932 - val_mape: 0.4932\n",
      "Epoch 203/300\n",
      "68/68 [==============================] - 0s 2ms/step - loss: 1.1223 - mape: 1.1223 - val_loss: 0.4997 - val_mape: 0.4997\n",
      "Epoch 204/300\n",
      "68/68 [==============================] - 0s 2ms/step - loss: 1.1271 - mape: 1.1271 - val_loss: 0.5156 - val_mape: 0.5156\n",
      "Epoch 205/300\n",
      "68/68 [==============================] - 0s 2ms/step - loss: 1.1234 - mape: 1.1234 - val_loss: 0.5289 - val_mape: 0.5289\n",
      "Epoch 206/300\n",
      "68/68 [==============================] - 0s 2ms/step - loss: 1.1233 - mape: 1.1233 - val_loss: 0.4968 - val_mape: 0.4968\n",
      "Epoch 207/300\n",
      "68/68 [==============================] - 0s 2ms/step - loss: 1.1239 - mape: 1.1239 - val_loss: 0.4935 - val_mape: 0.4935\n",
      "Epoch 208/300\n",
      "68/68 [==============================] - 0s 2ms/step - loss: 1.1253 - mape: 1.1253 - val_loss: 0.4991 - val_mape: 0.4991\n",
      "Epoch 209/300\n",
      "68/68 [==============================] - 0s 2ms/step - loss: 1.1252 - mape: 1.1252 - val_loss: 0.4906 - val_mape: 0.4906\n",
      "Epoch 210/300\n",
      "68/68 [==============================] - 0s 2ms/step - loss: 1.1262 - mape: 1.1262 - val_loss: 0.5110 - val_mape: 0.5110\n",
      "Epoch 211/300\n",
      "68/68 [==============================] - 0s 2ms/step - loss: 1.1265 - mape: 1.1265 - val_loss: 0.5400 - val_mape: 0.5400\n",
      "Epoch 212/300\n",
      "68/68 [==============================] - 0s 2ms/step - loss: 1.1284 - mape: 1.1284 - val_loss: 0.4906 - val_mape: 0.4906\n",
      "Epoch 213/300\n",
      "68/68 [==============================] - 0s 2ms/step - loss: 1.1216 - mape: 1.1216 - val_loss: 0.4895 - val_mape: 0.4895\n",
      "Epoch 214/300\n",
      "68/68 [==============================] - 0s 2ms/step - loss: 1.1262 - mape: 1.1262 - val_loss: 0.4993 - val_mape: 0.4993\n",
      "Epoch 215/300\n",
      "68/68 [==============================] - 0s 2ms/step - loss: 1.1236 - mape: 1.1236 - val_loss: 0.4893 - val_mape: 0.4893\n",
      "Epoch 216/300\n",
      "68/68 [==============================] - 0s 2ms/step - loss: 1.1203 - mape: 1.1203 - val_loss: 0.5133 - val_mape: 0.5133\n",
      "Epoch 217/300\n",
      "68/68 [==============================] - 0s 2ms/step - loss: 1.1248 - mape: 1.1248 - val_loss: 0.4891 - val_mape: 0.4891\n",
      "Epoch 218/300\n",
      "68/68 [==============================] - 0s 2ms/step - loss: 1.1275 - mape: 1.1275 - val_loss: 0.4982 - val_mape: 0.4982\n",
      "Epoch 219/300\n",
      "68/68 [==============================] - 0s 2ms/step - loss: 1.1212 - mape: 1.1212 - val_loss: 0.4922 - val_mape: 0.4922\n",
      "Epoch 220/300\n",
      "68/68 [==============================] - 0s 2ms/step - loss: 1.1248 - mape: 1.1248 - val_loss: 0.4890 - val_mape: 0.4890\n",
      "Epoch 221/300\n",
      "68/68 [==============================] - 0s 2ms/step - loss: 1.1228 - mape: 1.1228 - val_loss: 0.4984 - val_mape: 0.4984\n",
      "Epoch 222/300\n",
      "68/68 [==============================] - 0s 2ms/step - loss: 1.1225 - mape: 1.1225 - val_loss: 0.5157 - val_mape: 0.5157\n",
      "Epoch 223/300\n",
      "68/68 [==============================] - 0s 2ms/step - loss: 1.1199 - mape: 1.1199 - val_loss: 0.5152 - val_mape: 0.5152\n",
      "Epoch 224/300\n",
      "68/68 [==============================] - 0s 2ms/step - loss: 1.1322 - mape: 1.1322 - val_loss: 0.4889 - val_mape: 0.4889\n",
      "Epoch 225/300\n",
      "68/68 [==============================] - 0s 2ms/step - loss: 1.1197 - mape: 1.1197 - val_loss: 0.4925 - val_mape: 0.4925\n",
      "Epoch 226/300\n",
      "68/68 [==============================] - 0s 2ms/step - loss: 1.1223 - mape: 1.1223 - val_loss: 0.4939 - val_mape: 0.4939\n",
      "Epoch 227/300\n",
      "68/68 [==============================] - 0s 2ms/step - loss: 1.1215 - mape: 1.1215 - val_loss: 0.5208 - val_mape: 0.5208\n",
      "Epoch 228/300\n",
      "68/68 [==============================] - 0s 2ms/step - loss: 1.1249 - mape: 1.1249 - val_loss: 0.4953 - val_mape: 0.4953\n",
      "Epoch 229/300\n",
      "68/68 [==============================] - 0s 2ms/step - loss: 1.1245 - mape: 1.1245 - val_loss: 0.4986 - val_mape: 0.4986\n",
      "Epoch 230/300\n",
      "68/68 [==============================] - 0s 2ms/step - loss: 1.1235 - mape: 1.1235 - val_loss: 0.4941 - val_mape: 0.4941\n",
      "Epoch 231/300\n",
      "68/68 [==============================] - 0s 2ms/step - loss: 1.1211 - mape: 1.1211 - val_loss: 0.5040 - val_mape: 0.5040\n",
      "Epoch 232/300\n",
      "68/68 [==============================] - 0s 2ms/step - loss: 1.1208 - mape: 1.1208 - val_loss: 0.5054 - val_mape: 0.5054\n",
      "Epoch 233/300\n",
      "68/68 [==============================] - 0s 2ms/step - loss: 1.1242 - mape: 1.1242 - val_loss: 0.4978 - val_mape: 0.4978\n",
      "Epoch 234/300\n",
      "68/68 [==============================] - 0s 2ms/step - loss: 1.1191 - mape: 1.1191 - val_loss: 0.4909 - val_mape: 0.4909\n",
      "Epoch 235/300\n",
      "68/68 [==============================] - 0s 2ms/step - loss: 1.1214 - mape: 1.1214 - val_loss: 0.4985 - val_mape: 0.4985\n",
      "Epoch 236/300\n",
      "68/68 [==============================] - 0s 2ms/step - loss: 1.1326 - mape: 1.1326 - val_loss: 0.4960 - val_mape: 0.4960\n",
      "Epoch 237/300\n",
      "68/68 [==============================] - 0s 2ms/step - loss: 1.1218 - mape: 1.1218 - val_loss: 0.5000 - val_mape: 0.5000\n",
      "Epoch 238/300\n",
      "68/68 [==============================] - 0s 2ms/step - loss: 1.1195 - mape: 1.1195 - val_loss: 0.5004 - val_mape: 0.5004\n",
      "Epoch 239/300\n",
      "68/68 [==============================] - 0s 2ms/step - loss: 1.1230 - mape: 1.1230 - val_loss: 0.4882 - val_mape: 0.4882\n",
      "Epoch 240/300\n",
      "68/68 [==============================] - 0s 2ms/step - loss: 1.1230 - mape: 1.1230 - val_loss: 0.4881 - val_mape: 0.4881\n",
      "Epoch 241/300\n",
      "68/68 [==============================] - 0s 2ms/step - loss: 1.1180 - mape: 1.1180 - val_loss: 0.4940 - val_mape: 0.4940\n",
      "Epoch 242/300\n",
      "68/68 [==============================] - 0s 2ms/step - loss: 1.1167 - mape: 1.1167 - val_loss: 0.4913 - val_mape: 0.4913\n",
      "Epoch 243/300\n",
      "68/68 [==============================] - 0s 2ms/step - loss: 1.1156 - mape: 1.1156 - val_loss: 0.5006 - val_mape: 0.5006\n",
      "Epoch 244/300\n",
      "68/68 [==============================] - 0s 2ms/step - loss: 1.1178 - mape: 1.1178 - val_loss: 0.5097 - val_mape: 0.5097\n",
      "Epoch 245/300\n",
      "68/68 [==============================] - 0s 2ms/step - loss: 1.1161 - mape: 1.1161 - val_loss: 0.4908 - val_mape: 0.4908\n",
      "Epoch 246/300\n",
      "68/68 [==============================] - 0s 2ms/step - loss: 1.1178 - mape: 1.1178 - val_loss: 0.4873 - val_mape: 0.4873\n",
      "Epoch 247/300\n",
      "68/68 [==============================] - 0s 2ms/step - loss: 1.1176 - mape: 1.1176 - val_loss: 0.4888 - val_mape: 0.4888\n",
      "Epoch 248/300\n",
      "68/68 [==============================] - 0s 2ms/step - loss: 1.1166 - mape: 1.1166 - val_loss: 0.4890 - val_mape: 0.4890\n",
      "Epoch 249/300\n",
      "68/68 [==============================] - 0s 2ms/step - loss: 1.1192 - mape: 1.1192 - val_loss: 0.5131 - val_mape: 0.5131\n",
      "Epoch 250/300\n",
      "68/68 [==============================] - 0s 2ms/step - loss: 1.1192 - mape: 1.1192 - val_loss: 0.4940 - val_mape: 0.4940\n",
      "Epoch 251/300\n",
      "68/68 [==============================] - 0s 2ms/step - loss: 1.1160 - mape: 1.1160 - val_loss: 0.4869 - val_mape: 0.4869\n",
      "Epoch 252/300\n",
      "68/68 [==============================] - 0s 2ms/step - loss: 1.1255 - mape: 1.1255 - val_loss: 0.4905 - val_mape: 0.4905\n",
      "Epoch 253/300\n",
      "68/68 [==============================] - 0s 2ms/step - loss: 1.1169 - mape: 1.1169 - val_loss: 0.5167 - val_mape: 0.5167\n",
      "Epoch 254/300\n",
      "68/68 [==============================] - 0s 2ms/step - loss: 1.1207 - mape: 1.1207 - val_loss: 0.4890 - val_mape: 0.4890\n",
      "Epoch 255/300\n",
      "68/68 [==============================] - 0s 2ms/step - loss: 1.1192 - mape: 1.1192 - val_loss: 0.4965 - val_mape: 0.4965\n",
      "Epoch 256/300\n",
      "68/68 [==============================] - 0s 3ms/step - loss: 1.1183 - mape: 1.1183 - val_loss: 0.4898 - val_mape: 0.4898\n",
      "Epoch 257/300\n",
      "68/68 [==============================] - 0s 2ms/step - loss: 1.1177 - mape: 1.1177 - val_loss: 0.5011 - val_mape: 0.5011\n",
      "Epoch 258/300\n",
      "68/68 [==============================] - 0s 2ms/step - loss: 1.1152 - mape: 1.1152 - val_loss: 0.4865 - val_mape: 0.4865\n",
      "Epoch 259/300\n",
      "68/68 [==============================] - 0s 2ms/step - loss: 1.1205 - mape: 1.1205 - val_loss: 0.4956 - val_mape: 0.4956\n",
      "Epoch 260/300\n",
      "68/68 [==============================] - 0s 2ms/step - loss: 1.1184 - mape: 1.1184 - val_loss: 0.4861 - val_mape: 0.4861\n",
      "Epoch 261/300\n",
      "68/68 [==============================] - 0s 2ms/step - loss: 1.1173 - mape: 1.1173 - val_loss: 0.4884 - val_mape: 0.4884\n",
      "Epoch 262/300\n",
      "68/68 [==============================] - 0s 2ms/step - loss: 1.1164 - mape: 1.1164 - val_loss: 0.4871 - val_mape: 0.4871\n",
      "Epoch 263/300\n",
      "68/68 [==============================] - 0s 2ms/step - loss: 1.1130 - mape: 1.1130 - val_loss: 0.5111 - val_mape: 0.5111\n",
      "Epoch 264/300\n",
      "68/68 [==============================] - 0s 2ms/step - loss: 1.1210 - mape: 1.1210 - val_loss: 0.5007 - val_mape: 0.5007\n",
      "Epoch 265/300\n",
      "68/68 [==============================] - 0s 2ms/step - loss: 1.1309 - mape: 1.1309 - val_loss: 0.5328 - val_mape: 0.5328\n",
      "Epoch 266/300\n",
      "68/68 [==============================] - 0s 2ms/step - loss: 1.1170 - mape: 1.1170 - val_loss: 0.4906 - val_mape: 0.4906\n",
      "Epoch 267/300\n",
      "68/68 [==============================] - 0s 2ms/step - loss: 1.1139 - mape: 1.1139 - val_loss: 0.4862 - val_mape: 0.4862\n",
      "Epoch 268/300\n",
      "68/68 [==============================] - 0s 2ms/step - loss: 1.1135 - mape: 1.1135 - val_loss: 0.4869 - val_mape: 0.4869\n",
      "Epoch 269/300\n",
      "68/68 [==============================] - 0s 2ms/step - loss: 1.1176 - mape: 1.1176 - val_loss: 0.4916 - val_mape: 0.4916\n",
      "Epoch 270/300\n",
      "68/68 [==============================] - 0s 2ms/step - loss: 1.1148 - mape: 1.1148 - val_loss: 0.5029 - val_mape: 0.5029\n",
      "Epoch 271/300\n",
      "68/68 [==============================] - 0s 2ms/step - loss: 1.1194 - mape: 1.1194 - val_loss: 0.5005 - val_mape: 0.5005\n",
      "Epoch 272/300\n",
      "68/68 [==============================] - 0s 2ms/step - loss: 1.1167 - mape: 1.1167 - val_loss: 0.4876 - val_mape: 0.4876\n",
      "Epoch 273/300\n",
      "68/68 [==============================] - 0s 2ms/step - loss: 1.1139 - mape: 1.1139 - val_loss: 0.4855 - val_mape: 0.4855\n",
      "Epoch 274/300\n",
      "68/68 [==============================] - 0s 2ms/step - loss: 1.1137 - mape: 1.1137 - val_loss: 0.5152 - val_mape: 0.5152\n",
      "Epoch 275/300\n",
      "68/68 [==============================] - 0s 2ms/step - loss: 1.1154 - mape: 1.1154 - val_loss: 0.4903 - val_mape: 0.4903\n",
      "Epoch 276/300\n",
      "68/68 [==============================] - 0s 2ms/step - loss: 1.1155 - mape: 1.1155 - val_loss: 0.4951 - val_mape: 0.4951\n",
      "Epoch 277/300\n",
      "68/68 [==============================] - 0s 2ms/step - loss: 1.1172 - mape: 1.1172 - val_loss: 0.4853 - val_mape: 0.4853\n",
      "Epoch 278/300\n",
      "68/68 [==============================] - 0s 2ms/step - loss: 1.1121 - mape: 1.1121 - val_loss: 0.4873 - val_mape: 0.4873\n",
      "Epoch 279/300\n",
      "68/68 [==============================] - 0s 2ms/step - loss: 1.1152 - mape: 1.1152 - val_loss: 0.5029 - val_mape: 0.5029\n",
      "Epoch 280/300\n",
      "68/68 [==============================] - 0s 2ms/step - loss: 1.1104 - mape: 1.1104 - val_loss: 0.4920 - val_mape: 0.4920\n",
      "Epoch 281/300\n",
      "68/68 [==============================] - 0s 2ms/step - loss: 1.1145 - mape: 1.1145 - val_loss: 0.4851 - val_mape: 0.4851\n",
      "Epoch 282/300\n",
      "68/68 [==============================] - 0s 2ms/step - loss: 1.1231 - mape: 1.1231 - val_loss: 0.4911 - val_mape: 0.4911\n",
      "Epoch 283/300\n",
      "68/68 [==============================] - 0s 2ms/step - loss: 1.1141 - mape: 1.1141 - val_loss: 0.5086 - val_mape: 0.5086\n",
      "Epoch 284/300\n",
      "68/68 [==============================] - 0s 2ms/step - loss: 1.1172 - mape: 1.1172 - val_loss: 0.4877 - val_mape: 0.4877\n",
      "Epoch 285/300\n",
      "68/68 [==============================] - 0s 2ms/step - loss: 1.1145 - mape: 1.1145 - val_loss: 0.4906 - val_mape: 0.4906\n",
      "Epoch 286/300\n",
      "68/68 [==============================] - 0s 2ms/step - loss: 1.1136 - mape: 1.1136 - val_loss: 0.4872 - val_mape: 0.4872\n",
      "Epoch 287/300\n",
      "68/68 [==============================] - 0s 2ms/step - loss: 1.1121 - mape: 1.1121 - val_loss: 0.4987 - val_mape: 0.4987\n",
      "Epoch 288/300\n",
      "68/68 [==============================] - 0s 2ms/step - loss: 1.1117 - mape: 1.1117 - val_loss: 0.4855 - val_mape: 0.4855\n",
      "Epoch 289/300\n",
      "68/68 [==============================] - 0s 2ms/step - loss: 1.1128 - mape: 1.1128 - val_loss: 0.4906 - val_mape: 0.4906\n",
      "Epoch 290/300\n",
      "68/68 [==============================] - 0s 2ms/step - loss: 1.1112 - mape: 1.1112 - val_loss: 0.4845 - val_mape: 0.4845\n",
      "Epoch 291/300\n",
      "68/68 [==============================] - 0s 2ms/step - loss: 1.1116 - mape: 1.1116 - val_loss: 0.4846 - val_mape: 0.4846\n",
      "Epoch 292/300\n",
      "68/68 [==============================] - 0s 2ms/step - loss: 1.1083 - mape: 1.1083 - val_loss: 0.5272 - val_mape: 0.5272\n",
      "Epoch 293/300\n",
      "68/68 [==============================] - 0s 2ms/step - loss: 1.1180 - mape: 1.1180 - val_loss: 0.4998 - val_mape: 0.4998\n",
      "Epoch 294/300\n",
      "68/68 [==============================] - 0s 2ms/step - loss: 1.1114 - mape: 1.1114 - val_loss: 0.4845 - val_mape: 0.4845\n",
      "Epoch 295/300\n",
      "68/68 [==============================] - 0s 2ms/step - loss: 1.1104 - mape: 1.1104 - val_loss: 0.4854 - val_mape: 0.4854\n",
      "Epoch 296/300\n",
      "68/68 [==============================] - 0s 2ms/step - loss: 1.1178 - mape: 1.1178 - val_loss: 0.4866 - val_mape: 0.4866\n",
      "Epoch 297/300\n",
      "68/68 [==============================] - 0s 2ms/step - loss: 1.1115 - mape: 1.1115 - val_loss: 0.4873 - val_mape: 0.4873\n",
      "Epoch 298/300\n",
      "68/68 [==============================] - 0s 2ms/step - loss: 1.1098 - mape: 1.1098 - val_loss: 0.4901 - val_mape: 0.4901\n",
      "Epoch 299/300\n",
      "68/68 [==============================] - 0s 2ms/step - loss: 1.1118 - mape: 1.1118 - val_loss: 0.5010 - val_mape: 0.5010\n",
      "Epoch 300/300\n",
      "68/68 [==============================] - 0s 3ms/step - loss: 1.1138 - mape: 1.1138 - val_loss: 0.4848 - val_mape: 0.4848\n"
     ]
    }
   ],
   "source": [
    "model = Sequential()\n",
    "model.add(Dense(8,activation='relu',input_dim = 5))\n",
    "model.add(Dense(1,activation='linear'))\n",
    "ad=optimizers.Adam(learning_rate=0.00005581017397685277)\n",
    "model.compile(optimizer = ad, loss = 'mape', metrics = ['mape'])\n",
    "model_history=model.fit(trainX, trainY,validation_data=(testX,testY), batch_size = 33, epochs = 300,callbacks=[EarlyStopping(monitor='val_loss', patience=40)])"
   ]
  },
  {
   "cell_type": "code",
   "execution_count": 59,
   "id": "77c05906",
   "metadata": {
    "id": "77c05906"
   },
   "outputs": [],
   "source": [
    "def model_loss(history):\n",
    "    plt.figure(figsize=(8,4))\n",
    "    plt.plot(history.history['loss'], label='Train Loss')\n",
    "    plt.plot(history.history['val_loss'], label='Test Loss')\n",
    "    plt.title('model loss')\n",
    "    plt.ylabel('loss')\n",
    "    plt.xlabel('epochs')\n",
    "    plt.legend(loc='upper right')\n",
    "    plt.show();"
   ]
  },
  {
   "cell_type": "code",
   "execution_count": 60,
   "id": "6vZ-AXOUurmJ",
   "metadata": {
    "id": "6vZ-AXOUurmJ"
   },
   "outputs": [],
   "source": [
    "train_score = model.evaluate(trainX, trainY,verbose=0)\n",
    "test_score = model.evaluate(testX, testY,verbose=0)"
   ]
  },
  {
   "cell_type": "code",
   "execution_count": 61,
   "id": "45a22c27",
   "metadata": {
    "colab": {
     "base_uri": "https://localhost:8080/",
     "height": 330
    },
    "id": "45a22c27",
    "outputId": "28945c85-f4c4-42bd-fe3b-3d46dfab22af"
   },
   "outputs": [
    {
     "name": "stdout",
     "output_type": "stream",
     "text": [
      "Train MAPE : 1.11 \n",
      "Test MAPE : 0.48 \n"
     ]
    },
    {
     "data": {
      "image/png": "[encoded data removed]",
      "text/plain": [
       "<Figure size 576x288 with 1 Axes>"
      ]
     },
     "metadata": {
      "needs_background": "light"
     },
     "output_type": "display_data"
    }
   ],
   "source": [
    "train_predict = model.predict(trainX)\n",
    "test_predict = model.predict(testX)\n",
    "\n",
    "# invert predictions\n",
    "train_predict = scaler.inverse_transform(train_predict)\n",
    "trainY = scaler.inverse_transform([trainY])\n",
    "test_predict = scaler.inverse_transform(test_predict)\n",
    "testY = scaler.inverse_transform([testY])\n",
    "print('Train MAPE : %.2f ' % (train_score[1]))\n",
    "print('Test MAPE : %.2f ' % (test_score[1]))\n",
    "model_loss(model_history)"
   ]
  },
  {
   "cell_type": "code",
   "execution_count": 62,
   "id": "dc942f74",
   "metadata": {
    "id": "dc942f74"
   },
   "outputs": [],
   "source": [
    "import seaborn as sns"
   ]
  },
  {
   "cell_type": "code",
   "execution_count": 63,
   "id": "dee9bab8",
   "metadata": {
    "id": "dee9bab8"
   },
   "outputs": [],
   "source": [
    "def prediction_plot(testY, test_predict,look_back):\n",
    "    len_prediction=[x for x in range(2225,2467)]\n",
    "    plt.plot(trainY.reshape(-1,))\n",
    "    plt.plot(len_prediction, testY.reshape(-1,), marker='.', label='actual')\n",
    "    plt.plot(len_prediction, test_predict, 'g', label=\"prediction\")\n",
    "    plt.tight_layout()\n",
    "    sns.despine(top=True)\n",
    "    plt.subplots_adjust(left=0.07)\n",
    "    plt.ylabel('Units', size=15)\n",
    "    plt.xlabel('Time step', size=15)\n",
    "    plt.legend(fontsize=15)\n",
    "    plt.show()"
   ]
  },
  {
   "cell_type": "code",
   "execution_count": 64,
   "id": "363040b5",
   "metadata": {
    "colab": {
     "base_uri": "https://localhost:8080/",
     "height": 604
    },
    "id": "363040b5",
    "outputId": "2610d6cd-4e3b-41b8-b9b5-343781006627"
   },
   "outputs": [
    {
     "data": {
      "image/png": "[encoded data removed]",
      "text/plain": [
       "<Figure size 1080x576 with 1 Axes>"
      ]
     },
     "metadata": {
      "needs_background": "light"
     },
     "output_type": "display_data"
    }
   ],
   "source": [
    "test_predict = model.predict(testX)\n",
    "test_predict = scaler.inverse_transform(test_predict)\n",
    "prediction_plot(testY, test_predict,look_back)"
   ]
  },
  {
   "cell_type": "code",
   "execution_count": null,
   "id": "f8a7708c",
   "metadata": {
    "id": "f8a7708c"
   },
   "outputs": [],
   "source": []
  }
 ],
 "metadata": {
  "colab": {
   "collapsed_sections": [],
   "name": "mauna_loa_HPT_ANN_version_2.ipynb",
   "provenance": []
  },
  "kernelspec": {
   "display_name": "Python 3",
   "language": "python",
   "name": "python3"
  },
  "language_info": {
   "codemirror_mode": {
    "name": "ipython",
    "version": 3
   },
   "file_extension": ".py",
   "mimetype": "text/x-python",
   "name": "python",
   "nbconvert_exporter": "python",
   "pygments_lexer": "ipython3",
   "version": "3.8.8"
  }
 },
 "nbformat": 4,
 "nbformat_minor": 5
}
