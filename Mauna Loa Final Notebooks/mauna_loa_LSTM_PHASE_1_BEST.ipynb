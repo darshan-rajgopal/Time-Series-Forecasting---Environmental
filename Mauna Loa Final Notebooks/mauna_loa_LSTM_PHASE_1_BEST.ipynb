{
 "cells": [
  {
   "cell_type": "code",
   "execution_count": 1,
   "id": "c2ef9b47",
   "metadata": {
    "id": "c2ef9b47"
   },
   "outputs": [],
   "source": [
    "import numpy as np\n",
    "import pandas as pd\n",
    "from tensorflow.keras.models import Sequential\n",
    "from tensorflow.keras.layers import LSTM\n",
    "from tensorflow.keras.layers import Dense\n",
    "from tensorflow.keras.layers import Flatten\n",
    "import matplotlib.pyplot as plt\n",
    "import warnings\n",
    "warnings.filterwarnings('ignore')\n",
    "%matplotlib inline"
   ]
  },
  {
   "cell_type": "code",
   "execution_count": 2,
   "id": "iGQk9lcRmucZ",
   "metadata": {
    "colab": {
     "base_uri": "https://localhost:8080/"
    },
    "id": "iGQk9lcRmucZ",
    "outputId": "c27838d3-a7fb-45a7-933d-0e542521282a"
   },
   "outputs": [
    {
     "name": "stdout",
     "output_type": "stream",
     "text": [
      "Mounted at /content/drive\n"
     ]
    }
   ],
   "source": [
    "from google.colab import drive\n",
    "drive.mount('/content/drive')"
   ]
  },
  {
   "cell_type": "code",
   "execution_count": null,
   "id": "BxDZtfokj6Da",
   "metadata": {
    "colab": {
     "base_uri": "https://localhost:8080/",
     "height": 35
    },
    "id": "BxDZtfokj6Da",
    "outputId": "b20dcdbd-c02a-48ad-a576-4ba9370acae1"
   },
   "outputs": [
    {
     "data": {
      "application/vnd.google.colaboratory.intrinsic+json": {
       "type": "string"
      },
      "text/plain": [
       "'/device:GPU:0'"
      ]
     },
     "execution_count": 5,
     "metadata": {},
     "output_type": "execute_result"
    }
   ],
   "source": [
    "import tensorflow as tf\n",
    "tf.test.gpu_device_name()"
   ]
  },
  {
   "cell_type": "code",
   "execution_count": null,
   "id": "UDt4KrAxj6JS",
   "metadata": {
    "colab": {
     "base_uri": "https://localhost:8080/"
    },
    "id": "UDt4KrAxj6JS",
    "outputId": "9d528187-3aea-4259-a635-0d1eddbc47d0"
   },
   "outputs": [
    {
     "data": {
      "text/plain": [
       "[name: \"/device:CPU:0\"\n",
       " device_type: \"CPU\"\n",
       " memory_limit: 268435456\n",
       " locality {\n",
       " }\n",
       " incarnation: 14494480343520806349\n",
       " xla_global_id: -1, name: \"/device:GPU:0\"\n",
       " device_type: \"GPU\"\n",
       " memory_limit: 11320098816\n",
       " locality {\n",
       "   bus_id: 1\n",
       "   links {\n",
       "   }\n",
       " }\n",
       " incarnation: 1229225032833911937\n",
       " physical_device_desc: \"device: 0, name: Tesla K80, pci bus id: 0000:00:04.0, compute capability: 3.7\"\n",
       " xla_global_id: 416903419]"
      ]
     },
     "execution_count": 6,
     "metadata": {},
     "output_type": "execute_result"
    }
   ],
   "source": [
    "from tensorflow.python.client import device_lib\n",
    "device_lib.list_local_devices()"
   ]
  },
  {
   "cell_type": "code",
   "execution_count": 70,
   "id": "30d066a0",
   "metadata": {
    "colab": {
     "base_uri": "https://localhost:8080/",
     "height": 206
    },
    "id": "30d066a0",
    "outputId": "1da9ee12-2f99-4f39-fd4c-c413c38aaf05"
   },
   "outputs": [
    {
     "data": {
      "text/html": [
       "\n",
       "  <div id=\"df-7efc2cde-94c1-4892-b4ad-bde787639481\">\n",
       "    <div class=\"colab-df-container\">\n",
       "      <div>\n",
       "<style scoped>\n",
       "    .dataframe tbody tr th:only-of-type {\n",
       "        vertical-align: middle;\n",
       "    }\n",
       "\n",
       "    .dataframe tbody tr th {\n",
       "        vertical-align: top;\n",
       "    }\n",
       "\n",
       "    .dataframe thead th {\n",
       "        text-align: right;\n",
       "    }\n",
       "</style>\n",
       "<table border=\"1\" class=\"dataframe\">\n",
       "  <thead>\n",
       "    <tr style=\"text-align: right;\">\n",
       "      <th></th>\n",
       "      <th>Year</th>\n",
       "      <th>Month</th>\n",
       "      <th>Day</th>\n",
       "      <th>Year(decimal)</th>\n",
       "      <th>CO2(PPM)</th>\n",
       "    </tr>\n",
       "  </thead>\n",
       "  <tbody>\n",
       "    <tr>\n",
       "      <th>0</th>\n",
       "      <td>1974</td>\n",
       "      <td>5</td>\n",
       "      <td>19</td>\n",
       "      <td>1974.3795</td>\n",
       "      <td>333.37</td>\n",
       "    </tr>\n",
       "    <tr>\n",
       "      <th>1</th>\n",
       "      <td>1974</td>\n",
       "      <td>5</td>\n",
       "      <td>26</td>\n",
       "      <td>1974.3986</td>\n",
       "      <td>332.95</td>\n",
       "    </tr>\n",
       "    <tr>\n",
       "      <th>2</th>\n",
       "      <td>1974</td>\n",
       "      <td>6</td>\n",
       "      <td>2</td>\n",
       "      <td>1974.4178</td>\n",
       "      <td>332.35</td>\n",
       "    </tr>\n",
       "    <tr>\n",
       "      <th>3</th>\n",
       "      <td>1974</td>\n",
       "      <td>6</td>\n",
       "      <td>9</td>\n",
       "      <td>1974.4370</td>\n",
       "      <td>332.20</td>\n",
       "    </tr>\n",
       "    <tr>\n",
       "      <th>4</th>\n",
       "      <td>1974</td>\n",
       "      <td>6</td>\n",
       "      <td>16</td>\n",
       "      <td>1974.4562</td>\n",
       "      <td>332.37</td>\n",
       "    </tr>\n",
       "  </tbody>\n",
       "</table>\n",
       "</div>\n",
       "      <button class=\"colab-df-convert\" onclick=\"convertToInteractive('df-7efc2cde-94c1-4892-b4ad-bde787639481')\"\n",
       "              title=\"Convert this dataframe to an interactive table.\"\n",
       "              style=\"display:none;\">\n",
       "        \n",
       "  <svg xmlns=\"http://www.w3.org/2000/svg\" height=\"24px\"viewBox=\"0 0 24 24\"\n",
       "       width=\"24px\">\n",
       "    <path d=\"M0 0h24v24H0V0z\" fill=\"none\"/>\n",
       "    <path d=\"M18.56 5.44l.94 2.06.94-2.06 2.06-.94-2.06-.94-.94-2.06-.94 2.06-2.06.94zm-11 1L8.5 8.5l.94-2.06 2.06-.94-2.06-.94L8.5 2.5l-.94 2.06-2.06.94zm10 10l.94 2.06.94-2.06 2.06-.94-2.06-.94-.94-2.06-.94 2.06-2.06.94z\"/><path d=\"M17.41 7.96l-1.37-1.37c-.4-.4-.92-.59-1.43-.59-.52 0-1.04.2-1.43.59L10.3 9.45l-7.72 7.72c-.78.78-.78 2.05 0 2.83L4 21.41c.39.39.9.59 1.41.59.51 0 1.02-.2 1.41-.59l7.78-7.78 2.81-2.81c.8-.78.8-2.07 0-2.86zM5.41 20L4 18.59l7.72-7.72 1.47 1.35L5.41 20z\"/>\n",
       "  </svg>\n",
       "      </button>\n",
       "      \n",
       "  <style>\n",
       "    .colab-df-container {\n",
       "      display:flex;\n",
       "      flex-wrap:wrap;\n",
       "      gap: 12px;\n",
       "    }\n",
       "\n",
       "    .colab-df-convert {\n",
       "      background-color: #E8F0FE;\n",
       "      border: none;\n",
       "      border-radius: 50%;\n",
       "      cursor: pointer;\n",
       "      display: none;\n",
       "      fill: #1967D2;\n",
       "      height: 32px;\n",
       "      padding: 0 0 0 0;\n",
       "      width: 32px;\n",
       "    }\n",
       "\n",
       "    .colab-df-convert:hover {\n",
       "      background-color: #E2EBFA;\n",
       "      box-shadow: 0px 1px 2px rgba(60, 64, 67, 0.3), 0px 1px 3px 1px rgba(60, 64, 67, 0.15);\n",
       "      fill: #174EA6;\n",
       "    }\n",
       "\n",
       "    [theme=dark] .colab-df-convert {\n",
       "      background-color: #3B4455;\n",
       "      fill: #D2E3FC;\n",
       "    }\n",
       "\n",
       "    [theme=dark] .colab-df-convert:hover {\n",
       "      background-color: #434B5C;\n",
       "      box-shadow: 0px 1px 3px 1px rgba(0, 0, 0, 0.15);\n",
       "      filter: drop-shadow(0px 1px 2px rgba(0, 0, 0, 0.3));\n",
       "      fill: #FFFFFF;\n",
       "    }\n",
       "  </style>\n",
       "\n",
       "      <script>\n",
       "        const buttonEl =\n",
       "          document.querySelector('#df-7efc2cde-94c1-4892-b4ad-bde787639481 button.colab-df-convert');\n",
       "        buttonEl.style.display =\n",
       "          google.colab.kernel.accessAllowed ? 'block' : 'none';\n",
       "\n",
       "        async function convertToInteractive(key) {\n",
       "          const element = document.querySelector('#df-7efc2cde-94c1-4892-b4ad-bde787639481');\n",
       "          const dataTable =\n",
       "            await google.colab.kernel.invokeFunction('convertToInteractive',\n",
       "                                                     [key], {});\n",
       "          if (!dataTable) return;\n",
       "\n",
       "          const docLinkHtml = 'Like what you see? Visit the ' +\n",
       "            '<a target=\"_blank\" href=https://colab.research.google.com/notebooks/data_table.ipynb>data table notebook</a>'\n",
       "            + ' to learn more about interactive tables.';\n",
       "          element.innerHTML = '';\n",
       "          dataTable['output_type'] = 'display_data';\n",
       "          await google.colab.output.renderOutput(dataTable, element);\n",
       "          const docLink = document.createElement('div');\n",
       "          docLink.innerHTML = docLinkHtml;\n",
       "          element.appendChild(docLink);\n",
       "        }\n",
       "      </script>\n",
       "    </div>\n",
       "  </div>\n",
       "  "
      ],
      "text/plain": [
       "   Year  Month  Day  Year(decimal)  CO2(PPM)\n",
       "0  1974      5   19      1974.3795    333.37\n",
       "1  1974      5   26      1974.3986    332.95\n",
       "2  1974      6    2      1974.4178    332.35\n",
       "3  1974      6    9      1974.4370    332.20\n",
       "4  1974      6   16      1974.4562    332.37"
      ]
     },
     "execution_count": 70,
     "metadata": {},
     "output_type": "execute_result"
    }
   ],
   "source": [
    "df_new = pd.read_csv('/content/drive/MyDrive/Colab Notebooks/Environmental/Mouna_Loa_Weekly_Data.csv')\n",
    "df_new.head()"
   ]
  },
  {
   "cell_type": "code",
   "execution_count": 4,
   "id": "e2663bb4",
   "metadata": {
    "colab": {
     "base_uri": "https://localhost:8080/",
     "height": 206
    },
    "id": "e2663bb4",
    "outputId": "77add1d4-404c-457c-96d2-dc67674cf868"
   },
   "outputs": [
    {
     "data": {
      "text/html": [
       "\n",
       "  <div id=\"df-32ed37ff-3dac-4f87-b308-447d8f5efa94\">\n",
       "    <div class=\"colab-df-container\">\n",
       "      <div>\n",
       "<style scoped>\n",
       "    .dataframe tbody tr th:only-of-type {\n",
       "        vertical-align: middle;\n",
       "    }\n",
       "\n",
       "    .dataframe tbody tr th {\n",
       "        vertical-align: top;\n",
       "    }\n",
       "\n",
       "    .dataframe thead th {\n",
       "        text-align: right;\n",
       "    }\n",
       "</style>\n",
       "<table border=\"1\" class=\"dataframe\">\n",
       "  <thead>\n",
       "    <tr style=\"text-align: right;\">\n",
       "      <th></th>\n",
       "      <th>Year</th>\n",
       "      <th>Month</th>\n",
       "      <th>Day</th>\n",
       "      <th>Year(decimal)</th>\n",
       "      <th>CO2(PPM)</th>\n",
       "    </tr>\n",
       "  </thead>\n",
       "  <tbody>\n",
       "    <tr>\n",
       "      <th>2472</th>\n",
       "      <td>2021</td>\n",
       "      <td>10</td>\n",
       "      <td>3</td>\n",
       "      <td>2021.7548</td>\n",
       "      <td>413.63</td>\n",
       "    </tr>\n",
       "    <tr>\n",
       "      <th>2473</th>\n",
       "      <td>2021</td>\n",
       "      <td>10</td>\n",
       "      <td>10</td>\n",
       "      <td>2021.7740</td>\n",
       "      <td>413.89</td>\n",
       "    </tr>\n",
       "    <tr>\n",
       "      <th>2474</th>\n",
       "      <td>2021</td>\n",
       "      <td>10</td>\n",
       "      <td>17</td>\n",
       "      <td>2021.7932</td>\n",
       "      <td>414.36</td>\n",
       "    </tr>\n",
       "    <tr>\n",
       "      <th>2475</th>\n",
       "      <td>2021</td>\n",
       "      <td>10</td>\n",
       "      <td>24</td>\n",
       "      <td>2021.8123</td>\n",
       "      <td>413.90</td>\n",
       "    </tr>\n",
       "    <tr>\n",
       "      <th>2476</th>\n",
       "      <td>2021</td>\n",
       "      <td>10</td>\n",
       "      <td>31</td>\n",
       "      <td>2021.8315</td>\n",
       "      <td>414.17</td>\n",
       "    </tr>\n",
       "  </tbody>\n",
       "</table>\n",
       "</div>\n",
       "      <button class=\"colab-df-convert\" onclick=\"convertToInteractive('df-32ed37ff-3dac-4f87-b308-447d8f5efa94')\"\n",
       "              title=\"Convert this dataframe to an interactive table.\"\n",
       "              style=\"display:none;\">\n",
       "        \n",
       "  <svg xmlns=\"http://www.w3.org/2000/svg\" height=\"24px\"viewBox=\"0 0 24 24\"\n",
       "       width=\"24px\">\n",
       "    <path d=\"M0 0h24v24H0V0z\" fill=\"none\"/>\n",
       "    <path d=\"M18.56 5.44l.94 2.06.94-2.06 2.06-.94-2.06-.94-.94-2.06-.94 2.06-2.06.94zm-11 1L8.5 8.5l.94-2.06 2.06-.94-2.06-.94L8.5 2.5l-.94 2.06-2.06.94zm10 10l.94 2.06.94-2.06 2.06-.94-2.06-.94-.94-2.06-.94 2.06-2.06.94z\"/><path d=\"M17.41 7.96l-1.37-1.37c-.4-.4-.92-.59-1.43-.59-.52 0-1.04.2-1.43.59L10.3 9.45l-7.72 7.72c-.78.78-.78 2.05 0 2.83L4 21.41c.39.39.9.59 1.41.59.51 0 1.02-.2 1.41-.59l7.78-7.78 2.81-2.81c.8-.78.8-2.07 0-2.86zM5.41 20L4 18.59l7.72-7.72 1.47 1.35L5.41 20z\"/>\n",
       "  </svg>\n",
       "      </button>\n",
       "      \n",
       "  <style>\n",
       "    .colab-df-container {\n",
       "      display:flex;\n",
       "      flex-wrap:wrap;\n",
       "      gap: 12px;\n",
       "    }\n",
       "\n",
       "    .colab-df-convert {\n",
       "      background-color: #E8F0FE;\n",
       "      border: none;\n",
       "      border-radius: 50%;\n",
       "      cursor: pointer;\n",
       "      display: none;\n",
       "      fill: #1967D2;\n",
       "      height: 32px;\n",
       "      padding: 0 0 0 0;\n",
       "      width: 32px;\n",
       "    }\n",
       "\n",
       "    .colab-df-convert:hover {\n",
       "      background-color: #E2EBFA;\n",
       "      box-shadow: 0px 1px 2px rgba(60, 64, 67, 0.3), 0px 1px 3px 1px rgba(60, 64, 67, 0.15);\n",
       "      fill: #174EA6;\n",
       "    }\n",
       "\n",
       "    [theme=dark] .colab-df-convert {\n",
       "      background-color: #3B4455;\n",
       "      fill: #D2E3FC;\n",
       "    }\n",
       "\n",
       "    [theme=dark] .colab-df-convert:hover {\n",
       "      background-color: #434B5C;\n",
       "      box-shadow: 0px 1px 3px 1px rgba(0, 0, 0, 0.15);\n",
       "      filter: drop-shadow(0px 1px 2px rgba(0, 0, 0, 0.3));\n",
       "      fill: #FFFFFF;\n",
       "    }\n",
       "  </style>\n",
       "\n",
       "      <script>\n",
       "        const buttonEl =\n",
       "          document.querySelector('#df-32ed37ff-3dac-4f87-b308-447d8f5efa94 button.colab-df-convert');\n",
       "        buttonEl.style.display =\n",
       "          google.colab.kernel.accessAllowed ? 'block' : 'none';\n",
       "\n",
       "        async function convertToInteractive(key) {\n",
       "          const element = document.querySelector('#df-32ed37ff-3dac-4f87-b308-447d8f5efa94');\n",
       "          const dataTable =\n",
       "            await google.colab.kernel.invokeFunction('convertToInteractive',\n",
       "                                                     [key], {});\n",
       "          if (!dataTable) return;\n",
       "\n",
       "          const docLinkHtml = 'Like what you see? Visit the ' +\n",
       "            '<a target=\"_blank\" href=https://colab.research.google.com/notebooks/data_table.ipynb>data table notebook</a>'\n",
       "            + ' to learn more about interactive tables.';\n",
       "          element.innerHTML = '';\n",
       "          dataTable['output_type'] = 'display_data';\n",
       "          await google.colab.output.renderOutput(dataTable, element);\n",
       "          const docLink = document.createElement('div');\n",
       "          docLink.innerHTML = docLinkHtml;\n",
       "          element.appendChild(docLink);\n",
       "        }\n",
       "      </script>\n",
       "    </div>\n",
       "  </div>\n",
       "  "
      ],
      "text/plain": [
       "      Year  Month  Day  Year(decimal)  CO2(PPM)\n",
       "2472  2021     10    3      2021.7548    413.63\n",
       "2473  2021     10   10      2021.7740    413.89\n",
       "2474  2021     10   17      2021.7932    414.36\n",
       "2475  2021     10   24      2021.8123    413.90\n",
       "2476  2021     10   31      2021.8315    414.17"
      ]
     },
     "execution_count": 4,
     "metadata": {},
     "output_type": "execute_result"
    }
   ],
   "source": [
    "df_new.tail()"
   ]
  },
  {
   "cell_type": "code",
   "execution_count": null,
   "id": "0482272d",
   "metadata": {
    "colab": {
     "base_uri": "https://localhost:8080/"
    },
    "id": "0482272d",
    "outputId": "776ac443-ad6b-4564-f8e0-1f7bd74c25a7"
   },
   "outputs": [
    {
     "data": {
      "text/plain": [
       "(2477, 5)"
      ]
     },
     "execution_count": 5,
     "metadata": {},
     "output_type": "execute_result"
    }
   ],
   "source": [
    "df_new.shape"
   ]
  },
  {
   "cell_type": "code",
   "execution_count": null,
   "id": "076f1ad3",
   "metadata": {
    "colab": {
     "base_uri": "https://localhost:8080/"
    },
    "id": "076f1ad3",
    "outputId": "85d3513e-4003-46c9-c4de-170eb5f2bf2d"
   },
   "outputs": [
    {
     "name": "stdout",
     "output_type": "stream",
     "text": [
      "<class 'pandas.core.frame.DataFrame'>\n",
      "RangeIndex: 2477 entries, 0 to 2476\n",
      "Data columns (total 5 columns):\n",
      " #   Column         Non-Null Count  Dtype  \n",
      "---  ------         --------------  -----  \n",
      " 0   Year           2477 non-null   int64  \n",
      " 1   Month          2477 non-null   int64  \n",
      " 2   Day            2477 non-null   int64  \n",
      " 3   Year(decimal)  2477 non-null   float64\n",
      " 4   CO2(PPM)       2477 non-null   float64\n",
      "dtypes: float64(2), int64(3)\n",
      "memory usage: 96.9 KB\n"
     ]
    }
   ],
   "source": [
    "df_new.info()"
   ]
  },
  {
   "cell_type": "code",
   "execution_count": null,
   "id": "GQllVmimXbew",
   "metadata": {
    "colab": {
     "base_uri": "https://localhost:8080/"
    },
    "id": "GQllVmimXbew",
    "outputId": "4ac7ccfe-1115-4f1a-e41c-b857312a5a47"
   },
   "outputs": [
    {
     "data": {
      "text/plain": [
       "-999.99"
      ]
     },
     "execution_count": 7,
     "metadata": {},
     "output_type": "execute_result"
    }
   ],
   "source": [
    "df_new['CO2(PPM)'].min()"
   ]
  },
  {
   "cell_type": "code",
   "execution_count": 71,
   "id": "1oFqHGwzXbhI",
   "metadata": {
    "id": "1oFqHGwzXbhI"
   },
   "outputs": [],
   "source": [
    "df_new.replace(-999.99,np.nan,inplace=True)\n",
    "df = df_new.fillna(df_new.rolling(7,min_periods=1).mean())"
   ]
  },
  {
   "cell_type": "code",
   "execution_count": 6,
   "id": "x2rdBSU9Xbkd",
   "metadata": {
    "colab": {
     "base_uri": "https://localhost:8080/"
    },
    "id": "x2rdBSU9Xbkd",
    "outputId": "0f664fda-72bf-419d-de54-c4f86374d4a0"
   },
   "outputs": [
    {
     "data": {
      "text/plain": [
       "Year             0\n",
       "Month            0\n",
       "Day              0\n",
       "Year(decimal)    0\n",
       "CO2(PPM)         0\n",
       "dtype: int64"
      ]
     },
     "execution_count": 6,
     "metadata": {},
     "output_type": "execute_result"
    }
   ],
   "source": [
    "df.isnull().sum()"
   ]
  },
  {
   "cell_type": "code",
   "execution_count": 72,
   "id": "93827e39",
   "metadata": {
    "id": "93827e39"
   },
   "outputs": [],
   "source": [
    "time = pd.date_range(start='5/19/1974',periods=2477,freq='W')\n",
    "df['time_stamp'] = pd.DataFrame(time)\n",
    "df.drop(['Year','Month','Year(decimal)','Day'],axis=1,inplace=True)\n",
    "df = df.set_index('time_stamp')"
   ]
  },
  {
   "cell_type": "code",
   "execution_count": 73,
   "id": "S0kNKRMAocKq",
   "metadata": {
    "id": "S0kNKRMAocKq"
   },
   "outputs": [],
   "source": [
    "df.columns=['CO2_PPM']"
   ]
  },
  {
   "cell_type": "code",
   "execution_count": null,
   "id": "522f2b8e",
   "metadata": {
    "colab": {
     "base_uri": "https://localhost:8080/",
     "height": 238
    },
    "id": "522f2b8e",
    "outputId": "523ad8a2-a155-46eb-82ea-9584af404c27"
   },
   "outputs": [
    {
     "data": {
      "text/html": [
       "\n",
       "  <div id=\"df-1758bc81-6de1-424b-b6f2-094d9ee9f242\">\n",
       "    <div class=\"colab-df-container\">\n",
       "      <div>\n",
       "<style scoped>\n",
       "    .dataframe tbody tr th:only-of-type {\n",
       "        vertical-align: middle;\n",
       "    }\n",
       "\n",
       "    .dataframe tbody tr th {\n",
       "        vertical-align: top;\n",
       "    }\n",
       "\n",
       "    .dataframe thead th {\n",
       "        text-align: right;\n",
       "    }\n",
       "</style>\n",
       "<table border=\"1\" class=\"dataframe\">\n",
       "  <thead>\n",
       "    <tr style=\"text-align: right;\">\n",
       "      <th></th>\n",
       "      <th>CO2_PPM</th>\n",
       "    </tr>\n",
       "    <tr>\n",
       "      <th>time_stamp</th>\n",
       "      <th></th>\n",
       "    </tr>\n",
       "  </thead>\n",
       "  <tbody>\n",
       "    <tr>\n",
       "      <th>1974-05-19</th>\n",
       "      <td>333.37</td>\n",
       "    </tr>\n",
       "    <tr>\n",
       "      <th>1974-05-26</th>\n",
       "      <td>332.95</td>\n",
       "    </tr>\n",
       "    <tr>\n",
       "      <th>1974-06-02</th>\n",
       "      <td>332.35</td>\n",
       "    </tr>\n",
       "    <tr>\n",
       "      <th>1974-06-09</th>\n",
       "      <td>332.20</td>\n",
       "    </tr>\n",
       "    <tr>\n",
       "      <th>1974-06-16</th>\n",
       "      <td>332.37</td>\n",
       "    </tr>\n",
       "  </tbody>\n",
       "</table>\n",
       "</div>\n",
       "      <button class=\"colab-df-convert\" onclick=\"convertToInteractive('df-1758bc81-6de1-424b-b6f2-094d9ee9f242')\"\n",
       "              title=\"Convert this dataframe to an interactive table.\"\n",
       "              style=\"display:none;\">\n",
       "        \n",
       "  <svg xmlns=\"http://www.w3.org/2000/svg\" height=\"24px\"viewBox=\"0 0 24 24\"\n",
       "       width=\"24px\">\n",
       "    <path d=\"M0 0h24v24H0V0z\" fill=\"none\"/>\n",
       "    <path d=\"M18.56 5.44l.94 2.06.94-2.06 2.06-.94-2.06-.94-.94-2.06-.94 2.06-2.06.94zm-11 1L8.5 8.5l.94-2.06 2.06-.94-2.06-.94L8.5 2.5l-.94 2.06-2.06.94zm10 10l.94 2.06.94-2.06 2.06-.94-2.06-.94-.94-2.06-.94 2.06-2.06.94z\"/><path d=\"M17.41 7.96l-1.37-1.37c-.4-.4-.92-.59-1.43-.59-.52 0-1.04.2-1.43.59L10.3 9.45l-7.72 7.72c-.78.78-.78 2.05 0 2.83L4 21.41c.39.39.9.59 1.41.59.51 0 1.02-.2 1.41-.59l7.78-7.78 2.81-2.81c.8-.78.8-2.07 0-2.86zM5.41 20L4 18.59l7.72-7.72 1.47 1.35L5.41 20z\"/>\n",
       "  </svg>\n",
       "      </button>\n",
       "      \n",
       "  <style>\n",
       "    .colab-df-container {\n",
       "      display:flex;\n",
       "      flex-wrap:wrap;\n",
       "      gap: 12px;\n",
       "    }\n",
       "\n",
       "    .colab-df-convert {\n",
       "      background-color: #E8F0FE;\n",
       "      border: none;\n",
       "      border-radius: 50%;\n",
       "      cursor: pointer;\n",
       "      display: none;\n",
       "      fill: #1967D2;\n",
       "      height: 32px;\n",
       "      padding: 0 0 0 0;\n",
       "      width: 32px;\n",
       "    }\n",
       "\n",
       "    .colab-df-convert:hover {\n",
       "      background-color: #E2EBFA;\n",
       "      box-shadow: 0px 1px 2px rgba(60, 64, 67, 0.3), 0px 1px 3px 1px rgba(60, 64, 67, 0.15);\n",
       "      fill: #174EA6;\n",
       "    }\n",
       "\n",
       "    [theme=dark] .colab-df-convert {\n",
       "      background-color: #3B4455;\n",
       "      fill: #D2E3FC;\n",
       "    }\n",
       "\n",
       "    [theme=dark] .colab-df-convert:hover {\n",
       "      background-color: #434B5C;\n",
       "      box-shadow: 0px 1px 3px 1px rgba(0, 0, 0, 0.15);\n",
       "      filter: drop-shadow(0px 1px 2px rgba(0, 0, 0, 0.3));\n",
       "      fill: #FFFFFF;\n",
       "    }\n",
       "  </style>\n",
       "\n",
       "      <script>\n",
       "        const buttonEl =\n",
       "          document.querySelector('#df-1758bc81-6de1-424b-b6f2-094d9ee9f242 button.colab-df-convert');\n",
       "        buttonEl.style.display =\n",
       "          google.colab.kernel.accessAllowed ? 'block' : 'none';\n",
       "\n",
       "        async function convertToInteractive(key) {\n",
       "          const element = document.querySelector('#df-1758bc81-6de1-424b-b6f2-094d9ee9f242');\n",
       "          const dataTable =\n",
       "            await google.colab.kernel.invokeFunction('convertToInteractive',\n",
       "                                                     [key], {});\n",
       "          if (!dataTable) return;\n",
       "\n",
       "          const docLinkHtml = 'Like what you see? Visit the ' +\n",
       "            '<a target=\"_blank\" href=https://colab.research.google.com/notebooks/data_table.ipynb>data table notebook</a>'\n",
       "            + ' to learn more about interactive tables.';\n",
       "          element.innerHTML = '';\n",
       "          dataTable['output_type'] = 'display_data';\n",
       "          await google.colab.output.renderOutput(dataTable, element);\n",
       "          const docLink = document.createElement('div');\n",
       "          docLink.innerHTML = docLinkHtml;\n",
       "          element.appendChild(docLink);\n",
       "        }\n",
       "      </script>\n",
       "    </div>\n",
       "  </div>\n",
       "  "
      ],
      "text/plain": [
       "            CO2_PPM\n",
       "time_stamp         \n",
       "1974-05-19   333.37\n",
       "1974-05-26   332.95\n",
       "1974-06-02   332.35\n",
       "1974-06-09   332.20\n",
       "1974-06-16   332.37"
      ]
     },
     "execution_count": 12,
     "metadata": {},
     "output_type": "execute_result"
    }
   ],
   "source": [
    "df.head()"
   ]
  },
  {
   "cell_type": "code",
   "execution_count": null,
   "id": "7N0Xc0zT5atx",
   "metadata": {
    "colab": {
     "base_uri": "https://localhost:8080/",
     "height": 238
    },
    "id": "7N0Xc0zT5atx",
    "outputId": "14c8bebe-4377-42f6-bade-38a5b73e0c73"
   },
   "outputs": [
    {
     "data": {
      "text/html": [
       "\n",
       "  <div id=\"df-cdc0bf0b-4859-47d4-aa8b-35fff9fa2dc7\">\n",
       "    <div class=\"colab-df-container\">\n",
       "      <div>\n",
       "<style scoped>\n",
       "    .dataframe tbody tr th:only-of-type {\n",
       "        vertical-align: middle;\n",
       "    }\n",
       "\n",
       "    .dataframe tbody tr th {\n",
       "        vertical-align: top;\n",
       "    }\n",
       "\n",
       "    .dataframe thead th {\n",
       "        text-align: right;\n",
       "    }\n",
       "</style>\n",
       "<table border=\"1\" class=\"dataframe\">\n",
       "  <thead>\n",
       "    <tr style=\"text-align: right;\">\n",
       "      <th></th>\n",
       "      <th>CO2_PPM</th>\n",
       "    </tr>\n",
       "    <tr>\n",
       "      <th>time_stamp</th>\n",
       "      <th></th>\n",
       "    </tr>\n",
       "  </thead>\n",
       "  <tbody>\n",
       "    <tr>\n",
       "      <th>2021-10-03</th>\n",
       "      <td>413.63</td>\n",
       "    </tr>\n",
       "    <tr>\n",
       "      <th>2021-10-10</th>\n",
       "      <td>413.89</td>\n",
       "    </tr>\n",
       "    <tr>\n",
       "      <th>2021-10-17</th>\n",
       "      <td>414.36</td>\n",
       "    </tr>\n",
       "    <tr>\n",
       "      <th>2021-10-24</th>\n",
       "      <td>413.90</td>\n",
       "    </tr>\n",
       "    <tr>\n",
       "      <th>2021-10-31</th>\n",
       "      <td>414.17</td>\n",
       "    </tr>\n",
       "  </tbody>\n",
       "</table>\n",
       "</div>\n",
       "      <button class=\"colab-df-convert\" onclick=\"convertToInteractive('df-cdc0bf0b-4859-47d4-aa8b-35fff9fa2dc7')\"\n",
       "              title=\"Convert this dataframe to an interactive table.\"\n",
       "              style=\"display:none;\">\n",
       "        \n",
       "  <svg xmlns=\"http://www.w3.org/2000/svg\" height=\"24px\"viewBox=\"0 0 24 24\"\n",
       "       width=\"24px\">\n",
       "    <path d=\"M0 0h24v24H0V0z\" fill=\"none\"/>\n",
       "    <path d=\"M18.56 5.44l.94 2.06.94-2.06 2.06-.94-2.06-.94-.94-2.06-.94 2.06-2.06.94zm-11 1L8.5 8.5l.94-2.06 2.06-.94-2.06-.94L8.5 2.5l-.94 2.06-2.06.94zm10 10l.94 2.06.94-2.06 2.06-.94-2.06-.94-.94-2.06-.94 2.06-2.06.94z\"/><path d=\"M17.41 7.96l-1.37-1.37c-.4-.4-.92-.59-1.43-.59-.52 0-1.04.2-1.43.59L10.3 9.45l-7.72 7.72c-.78.78-.78 2.05 0 2.83L4 21.41c.39.39.9.59 1.41.59.51 0 1.02-.2 1.41-.59l7.78-7.78 2.81-2.81c.8-.78.8-2.07 0-2.86zM5.41 20L4 18.59l7.72-7.72 1.47 1.35L5.41 20z\"/>\n",
       "  </svg>\n",
       "      </button>\n",
       "      \n",
       "  <style>\n",
       "    .colab-df-container {\n",
       "      display:flex;\n",
       "      flex-wrap:wrap;\n",
       "      gap: 12px;\n",
       "    }\n",
       "\n",
       "    .colab-df-convert {\n",
       "      background-color: #E8F0FE;\n",
       "      border: none;\n",
       "      border-radius: 50%;\n",
       "      cursor: pointer;\n",
       "      display: none;\n",
       "      fill: #1967D2;\n",
       "      height: 32px;\n",
       "      padding: 0 0 0 0;\n",
       "      width: 32px;\n",
       "    }\n",
       "\n",
       "    .colab-df-convert:hover {\n",
       "      background-color: #E2EBFA;\n",
       "      box-shadow: 0px 1px 2px rgba(60, 64, 67, 0.3), 0px 1px 3px 1px rgba(60, 64, 67, 0.15);\n",
       "      fill: #174EA6;\n",
       "    }\n",
       "\n",
       "    [theme=dark] .colab-df-convert {\n",
       "      background-color: #3B4455;\n",
       "      fill: #D2E3FC;\n",
       "    }\n",
       "\n",
       "    [theme=dark] .colab-df-convert:hover {\n",
       "      background-color: #434B5C;\n",
       "      box-shadow: 0px 1px 3px 1px rgba(0, 0, 0, 0.15);\n",
       "      filter: drop-shadow(0px 1px 2px rgba(0, 0, 0, 0.3));\n",
       "      fill: #FFFFFF;\n",
       "    }\n",
       "  </style>\n",
       "\n",
       "      <script>\n",
       "        const buttonEl =\n",
       "          document.querySelector('#df-cdc0bf0b-4859-47d4-aa8b-35fff9fa2dc7 button.colab-df-convert');\n",
       "        buttonEl.style.display =\n",
       "          google.colab.kernel.accessAllowed ? 'block' : 'none';\n",
       "\n",
       "        async function convertToInteractive(key) {\n",
       "          const element = document.querySelector('#df-cdc0bf0b-4859-47d4-aa8b-35fff9fa2dc7');\n",
       "          const dataTable =\n",
       "            await google.colab.kernel.invokeFunction('convertToInteractive',\n",
       "                                                     [key], {});\n",
       "          if (!dataTable) return;\n",
       "\n",
       "          const docLinkHtml = 'Like what you see? Visit the ' +\n",
       "            '<a target=\"_blank\" href=https://colab.research.google.com/notebooks/data_table.ipynb>data table notebook</a>'\n",
       "            + ' to learn more about interactive tables.';\n",
       "          element.innerHTML = '';\n",
       "          dataTable['output_type'] = 'display_data';\n",
       "          await google.colab.output.renderOutput(dataTable, element);\n",
       "          const docLink = document.createElement('div');\n",
       "          docLink.innerHTML = docLinkHtml;\n",
       "          element.appendChild(docLink);\n",
       "        }\n",
       "      </script>\n",
       "    </div>\n",
       "  </div>\n",
       "  "
      ],
      "text/plain": [
       "            CO2_PPM\n",
       "time_stamp         \n",
       "2021-10-03   413.63\n",
       "2021-10-10   413.89\n",
       "2021-10-17   414.36\n",
       "2021-10-24   413.90\n",
       "2021-10-31   414.17"
      ]
     },
     "execution_count": 13,
     "metadata": {},
     "output_type": "execute_result"
    }
   ],
   "source": [
    "df.tail()"
   ]
  },
  {
   "cell_type": "code",
   "execution_count": 9,
   "id": "bQk15MFgouDq",
   "metadata": {
    "id": "bQk15MFgouDq"
   },
   "outputs": [],
   "source": [
    "plt.rcParams['figure.figsize'] = [15,8]"
   ]
  },
  {
   "cell_type": "code",
   "execution_count": null,
   "id": "3b098ae2",
   "metadata": {
    "colab": {
     "base_uri": "https://localhost:8080/",
     "height": 523
    },
    "id": "3b098ae2",
    "outputId": "ca6e5439-0c68-43aa-cbf2-8a61ac2cafc4"
   },
   "outputs": [
    {
     "data": {
      "image/png": "[encoded data removed]",
      "text/plain": [
       "<Figure size 1080x576 with 1 Axes>"
      ]
     },
     "metadata": {
      "needs_background": "light"
     },
     "output_type": "display_data"
    }
   ],
   "source": [
    "plt.plot(df,color='green')\n",
    "plt.title('Weekly C02 Emission From Mauna Loa',fontsize=20)\n",
    "plt.xlabel('Date',fontsize=15)\n",
    "plt.ylabel('Units',fontsize=15)\n",
    "plt.show()"
   ]
  },
  {
   "cell_type": "code",
   "execution_count": 74,
   "id": "bf59d3e0",
   "metadata": {
    "id": "bf59d3e0"
   },
   "outputs": [],
   "source": [
    "def convert2matrix(data_arr, look_back):\n",
    "    X, Y =[], []\n",
    "    for i in range(len(data_arr)-look_back):\n",
    "        d=i+look_back  \n",
    "        X.append(data_arr[i:d,0])\n",
    "        Y.append(data_arr[d,0])\n",
    "    return np.array(X), np.array(Y)"
   ]
  },
  {
   "cell_type": "code",
   "execution_count": 75,
   "id": "5CBL1GHqurmE",
   "metadata": {
    "id": "5CBL1GHqurmE"
   },
   "outputs": [],
   "source": [
    "from sklearn.preprocessing import MinMaxScaler\n",
    "#create numpy.ndarray \n",
    "df['CO2_PPM'] = df['CO2_PPM'].astype(np.float32)\n",
    "df_arr = df.values\n",
    "df_arr = np.reshape(df_arr, (-1, 1))\n",
    "scaler = MinMaxScaler(feature_range=(0.1, 1))\n",
    "df_arr = scaler.fit_transform(df_arr)"
   ]
  },
  {
   "cell_type": "code",
   "execution_count": 76,
   "id": "1cea6c5f",
   "metadata": {
    "id": "1cea6c5f"
   },
   "outputs": [],
   "source": [
    "#Split data set into testing dataset and train dataset\n",
    "train_size = 2230\n",
    "train, test =df_arr[0:train_size,:], df_arr[train_size:len(df_arr),:]\n",
    "# setup look_back window \n",
    "look_back = 5\n",
    "#convert dataset into right shape in order to input into the DNN\n",
    "trainX, trainY = convert2matrix(train, look_back)\n",
    "testX, testY = convert2matrix(test, look_back)\n",
    "trainX = np.reshape(trainX, (trainX.shape[0], 1, trainX.shape[1]))\n",
    "testX = np.reshape(testX, (testX.shape[0], 1, testX.shape[1]))"
   ]
  },
  {
   "cell_type": "code",
   "execution_count": 13,
   "id": "c7d46c39",
   "metadata": {
    "colab": {
     "base_uri": "https://localhost:8080/"
    },
    "id": "c7d46c39",
    "outputId": "d9701b93-2a21-4929-9a2e-fbac35f34a3f"
   },
   "outputs": [
    {
     "name": "stdout",
     "output_type": "stream",
     "text": [
      "(2225, 1, 5)\n",
      "(2225,)\n",
      "(242, 1, 5)\n",
      "(242,)\n"
     ]
    }
   ],
   "source": [
    "print(trainX.shape)\n",
    "print(trainY.shape)\n",
    "print(testX.shape)\n",
    "print(testY.shape)"
   ]
  },
  {
   "cell_type": "code",
   "execution_count": 14,
   "id": "GIc1nRcCuP3G",
   "metadata": {
    "colab": {
     "base_uri": "https://localhost:8080/"
    },
    "id": "GIc1nRcCuP3G",
    "outputId": "d5481bc7-7c71-4b6d-9c0f-4944aa1cbce1"
   },
   "outputs": [
    {
     "name": "stdout",
     "output_type": "stream",
     "text": [
      "\u001b[?25l\r",
      "\u001b[K     |███▍                            | 10 kB 24.6 MB/s eta 0:00:01\r",
      "\u001b[K     |██████▊                         | 20 kB 20.5 MB/s eta 0:00:01\r",
      "\u001b[K     |██████████                      | 30 kB 11.4 MB/s eta 0:00:01\r",
      "\u001b[K     |█████████████▍                  | 40 kB 9.5 MB/s eta 0:00:01\r",
      "\u001b[K     |████████████████▊               | 51 kB 5.5 MB/s eta 0:00:01\r",
      "\u001b[K     |████████████████████            | 61 kB 5.6 MB/s eta 0:00:01\r",
      "\u001b[K     |███████████████████████▍        | 71 kB 5.8 MB/s eta 0:00:01\r",
      "\u001b[K     |██████████████████████████▊     | 81 kB 6.4 MB/s eta 0:00:01\r",
      "\u001b[K     |██████████████████████████████  | 92 kB 6.5 MB/s eta 0:00:01\r",
      "\u001b[K     |████████████████████████████████| 98 kB 3.4 MB/s \n",
      "\u001b[?25h"
     ]
    }
   ],
   "source": [
    "!pip install -q -U keras-tuner"
   ]
  },
  {
   "cell_type": "code",
   "execution_count": 15,
   "id": "M5te5ih0uP6u",
   "metadata": {
    "id": "M5te5ih0uP6u"
   },
   "outputs": [],
   "source": [
    "import pandas as pd\n",
    "from tensorflow import keras\n",
    "from tensorflow.keras import layers\n",
    "from keras_tuner.tuners import RandomSearch\n",
    "from tensorflow.keras.models import Sequential\n",
    "from tensorflow.keras.layers import LSTM\n",
    "from tensorflow.keras.layers import Dense,Dropout,SimpleRNN\n",
    "from tensorflow.keras.layers import Flatten\n",
    "import matplotlib.pyplot as plt"
   ]
  },
  {
   "cell_type": "code",
   "execution_count": 16,
   "id": "rYiJC5hXuP_e",
   "metadata": {
    "id": "rYiJC5hXuP_e"
   },
   "outputs": [],
   "source": [
    "def build_model(hp):\n",
    "    model = keras.Sequential()\n",
    "    model.add(LSTM(hp.Int('rnn_layer',min_value=4,max_value=96,step=4), activation=\"relu\",input_shape=(1,look_back),recurrent_dropout = hp.Choice(\"first_recurrent_dropout\",[0.1,0.2,0.3],default=0.2)))\n",
    "    model.add(Dense(hp.Int('dense_layer',min_value=4,max_value=96,step=4),activation=\"relu\"))\n",
    "    model.add(Dropout(hp.Float('Dropout_rate',min_value=0,max_value=0.5,step=0.1)))\n",
    "    model.add(layers.Dense(1, activation='linear'))\n",
    "    model.compile(\n",
    "        optimizer=keras.optimizers.Adam(\n",
    "             hp.Float('learning_rate', min_value=1e-4, max_value=1e-1, sampling=\"log\")),\n",
    "        loss='mape',\n",
    "        metrics=['mape'])\n",
    "    return model"
   ]
  },
  {
   "cell_type": "code",
   "execution_count": 17,
   "id": "2h_gRerjuQCT",
   "metadata": {
    "id": "2h_gRerjuQCT"
   },
   "outputs": [],
   "source": [
    "tuner = RandomSearch(\n",
    "    build_model,\n",
    "    objective='val_mape',\n",
    "    max_trials=10,\n",
    "    executions_per_trial=1,\n",
    "    directory='project',\n",
    "    project_name='loa_em_1')"
   ]
  },
  {
   "cell_type": "code",
   "execution_count": 18,
   "id": "Dg5AHN3guQFu",
   "metadata": {
    "colab": {
     "base_uri": "https://localhost:8080/"
    },
    "id": "Dg5AHN3guQFu",
    "outputId": "694e12b9-5957-4e86-8bdc-d5a0e52ac0c2"
   },
   "outputs": [
    {
     "name": "stdout",
     "output_type": "stream",
     "text": [
      "Search space summary\n",
      "Default search space size: 5\n",
      "rnn_layer (Int)\n",
      "{'default': None, 'conditions': [], 'min_value': 4, 'max_value': 96, 'step': 4, 'sampling': None}\n",
      "first_recurrent_dropout (Choice)\n",
      "{'default': 0.2, 'conditions': [], 'values': [0.1, 0.2, 0.3], 'ordered': True}\n",
      "dense_layer (Int)\n",
      "{'default': None, 'conditions': [], 'min_value': 4, 'max_value': 96, 'step': 4, 'sampling': None}\n",
      "Dropout_rate (Float)\n",
      "{'default': 0.0, 'conditions': [], 'min_value': 0.0, 'max_value': 0.5, 'step': 0.1, 'sampling': None}\n",
      "learning_rate (Float)\n",
      "{'default': 0.0001, 'conditions': [], 'min_value': 0.0001, 'max_value': 0.1, 'step': None, 'sampling': 'log'}\n"
     ]
    }
   ],
   "source": [
    "tuner.search_space_summary()"
   ]
  },
  {
   "cell_type": "code",
   "execution_count": 19,
   "id": "TiBXdF0K8Gpr",
   "metadata": {
    "colab": {
     "base_uri": "https://localhost:8080/"
    },
    "id": "TiBXdF0K8Gpr",
    "outputId": "9884aeb5-229d-4360-9f04-a04272f6f246"
   },
   "outputs": [
    {
     "name": "stdout",
     "output_type": "stream",
     "text": [
      "Trial 10 Complete [00h 01m 07s]\n",
      "val_mape: 0.47922512888908386\n",
      "\n",
      "Best val_mape So Far: 0.4684917628765106\n",
      "Total elapsed time: 00h 12m 49s\n",
      "INFO:tensorflow:Oracle triggered exit\n"
     ]
    }
   ],
   "source": [
    "tuner.search(trainX, trainY,\n",
    "             epochs=200,\n",
    "             batch_size=33,\n",
    "             validation_data=(testX, testY))"
   ]
  },
  {
   "cell_type": "code",
   "execution_count": 20,
   "id": "VXXGH_RK8GsD",
   "metadata": {
    "colab": {
     "base_uri": "https://localhost:8080/"
    },
    "id": "VXXGH_RK8GsD",
    "outputId": "c87fdcc6-e207-4724-ad45-fe5e520449be"
   },
   "outputs": [
    {
     "name": "stdout",
     "output_type": "stream",
     "text": [
      "Results summary\n",
      "Results in project/loa_em_1\n",
      "Showing 10 best trials\n",
      "Objective(name='val_mape', direction='min')\n",
      "Trial summary\n",
      "Hyperparameters:\n",
      "rnn_layer: 76\n",
      "first_recurrent_dropout: 0.3\n",
      "dense_layer: 28\n",
      "Dropout_rate: 0.0\n",
      "learning_rate: 0.0007062940414508486\n",
      "Score: 0.4684917628765106\n",
      "Trial summary\n",
      "Hyperparameters:\n",
      "rnn_layer: 24\n",
      "first_recurrent_dropout: 0.3\n",
      "dense_layer: 80\n",
      "Dropout_rate: 0.30000000000000004\n",
      "learning_rate: 0.0039273683450240056\n",
      "Score: 0.47922512888908386\n",
      "Trial summary\n",
      "Hyperparameters:\n",
      "rnn_layer: 36\n",
      "first_recurrent_dropout: 0.2\n",
      "dense_layer: 64\n",
      "Dropout_rate: 0.0\n",
      "learning_rate: 0.020764742941149803\n",
      "Score: 0.47985491156578064\n",
      "Trial summary\n",
      "Hyperparameters:\n",
      "rnn_layer: 60\n",
      "first_recurrent_dropout: 0.3\n",
      "dense_layer: 84\n",
      "Dropout_rate: 0.2\n",
      "learning_rate: 0.0008218430847227947\n",
      "Score: 0.494182825088501\n",
      "Trial summary\n",
      "Hyperparameters:\n",
      "rnn_layer: 36\n",
      "first_recurrent_dropout: 0.1\n",
      "dense_layer: 44\n",
      "Dropout_rate: 0.2\n",
      "learning_rate: 0.010302251063280697\n",
      "Score: 0.5000973343849182\n",
      "Trial summary\n",
      "Hyperparameters:\n",
      "rnn_layer: 36\n",
      "first_recurrent_dropout: 0.3\n",
      "dense_layer: 16\n",
      "Dropout_rate: 0.30000000000000004\n",
      "learning_rate: 0.04200067183748815\n",
      "Score: 0.5617093443870544\n",
      "Trial summary\n",
      "Hyperparameters:\n",
      "rnn_layer: 8\n",
      "first_recurrent_dropout: 0.1\n",
      "dense_layer: 68\n",
      "Dropout_rate: 0.4\n",
      "learning_rate: 0.0006942253665257933\n",
      "Score: 0.6860242486000061\n",
      "Trial summary\n",
      "Hyperparameters:\n",
      "rnn_layer: 60\n",
      "first_recurrent_dropout: 0.1\n",
      "dense_layer: 16\n",
      "Dropout_rate: 0.30000000000000004\n",
      "learning_rate: 0.0003789357442556485\n",
      "Score: 0.7074643969535828\n",
      "Trial summary\n",
      "Hyperparameters:\n",
      "rnn_layer: 8\n",
      "first_recurrent_dropout: 0.3\n",
      "dense_layer: 40\n",
      "Dropout_rate: 0.30000000000000004\n",
      "learning_rate: 0.0015173732021127955\n",
      "Score: 0.9309297204017639\n",
      "Trial summary\n",
      "Hyperparameters:\n",
      "rnn_layer: 4\n",
      "first_recurrent_dropout: 0.3\n",
      "dense_layer: 24\n",
      "Dropout_rate: 0.5\n",
      "learning_rate: 0.0013443802578955487\n",
      "Score: 7.947453498840332\n"
     ]
    }
   ],
   "source": [
    "tuner.results_summary()"
   ]
  },
  {
   "cell_type": "code",
   "execution_count": null,
   "id": "FBpLenJ_DZMX",
   "metadata": {
    "id": "FBpLenJ_DZMX"
   },
   "outputs": [],
   "source": [
    "from warnings import filterwarnings\n",
    "filterwarnings('ignore')"
   ]
  },
  {
   "cell_type": "code",
   "execution_count": 21,
   "id": "eL-a8rAv8Gvg",
   "metadata": {
    "colab": {
     "base_uri": "https://localhost:8080/"
    },
    "id": "eL-a8rAv8Gvg",
    "outputId": "1e1307e4-e5dd-4ffa-f4b6-12c3a1f33d37"
   },
   "outputs": [
    {
     "name": "stdout",
     "output_type": "stream",
     "text": [
      "Model: \"sequential\"\n",
      "_________________________________________________________________\n",
      " Layer (type)                Output Shape              Param #   \n",
      "=================================================================\n",
      " lstm (LSTM)                 (None, 76)                24928     \n",
      "                                                                 \n",
      " dense (Dense)               (None, 28)                2156      \n",
      "                                                                 \n",
      " dropout (Dropout)           (None, 28)                0         \n",
      "                                                                 \n",
      " dense_1 (Dense)             (None, 1)                 29        \n",
      "                                                                 \n",
      "=================================================================\n",
      "Total params: 27,113\n",
      "Trainable params: 27,113\n",
      "Non-trainable params: 0\n",
      "_________________________________________________________________\n"
     ]
    }
   ],
   "source": [
    "models = tuner.get_best_models(num_models=2)\n",
    "best_model = models[0]\n",
    "# Build the model.\n",
    "# Needed for `Sequential` without specified `input_shape`.\n",
    "best_model.build(input_shape=(None, 5))\n",
    "best_model.summary()"
   ]
  },
  {
   "cell_type": "code",
   "execution_count": 22,
   "id": "ovKDjDHZEmLV",
   "metadata": {
    "id": "ovKDjDHZEmLV"
   },
   "outputs": [],
   "source": [
    "from tensorflow.keras import optimizers\n",
    "from tensorflow.keras.callbacks import EarlyStopping"
   ]
  },
  {
   "cell_type": "code",
   "execution_count": 81,
   "id": "0e187ddc",
   "metadata": {
    "colab": {
     "base_uri": "https://localhost:8080/"
    },
    "id": "0e187ddc",
    "outputId": "0887aade-971e-48cd-a385-c9135f12e075"
   },
   "outputs": [
    {
     "name": "stdout",
     "output_type": "stream",
     "text": [
      "Epoch 1/200\n",
      "68/68 [==============================] - 3s 10ms/step - loss: 88.2742 - mape: 88.2742 - val_loss: 81.3045 - val_mape: 81.3045\n",
      "Epoch 2/200\n",
      "68/68 [==============================] - 0s 5ms/step - loss: 63.7850 - mape: 63.7850 - val_loss: 58.2855 - val_mape: 58.2855\n",
      "Epoch 3/200\n",
      "68/68 [==============================] - 0s 5ms/step - loss: 34.5223 - mape: 34.5223 - val_loss: 28.2683 - val_mape: 28.2683\n",
      "Epoch 4/200\n",
      "68/68 [==============================] - 0s 5ms/step - loss: 13.9420 - mape: 13.9420 - val_loss: 4.1877 - val_mape: 4.1877\n",
      "Epoch 5/200\n",
      "68/68 [==============================] - 0s 5ms/step - loss: 8.5722 - mape: 8.5722 - val_loss: 1.2758 - val_mape: 1.2758\n",
      "Epoch 6/200\n",
      "68/68 [==============================] - 0s 5ms/step - loss: 6.0534 - mape: 6.0534 - val_loss: 3.3738 - val_mape: 3.3738\n",
      "Epoch 7/200\n",
      "68/68 [==============================] - 0s 5ms/step - loss: 4.6379 - mape: 4.6379 - val_loss: 5.9416 - val_mape: 5.9416\n",
      "Epoch 8/200\n",
      "68/68 [==============================] - 0s 6ms/step - loss: 4.0408 - mape: 4.0408 - val_loss: 6.7951 - val_mape: 6.7951\n",
      "Epoch 9/200\n",
      "68/68 [==============================] - 0s 5ms/step - loss: 3.7969 - mape: 3.7969 - val_loss: 7.4257 - val_mape: 7.4257\n",
      "Epoch 10/200\n",
      "68/68 [==============================] - 0s 5ms/step - loss: 3.6753 - mape: 3.6753 - val_loss: 8.2600 - val_mape: 8.2600\n",
      "Epoch 11/200\n",
      "68/68 [==============================] - 0s 5ms/step - loss: 3.5970 - mape: 3.5970 - val_loss: 7.4388 - val_mape: 7.4388\n",
      "Epoch 12/200\n",
      "68/68 [==============================] - 0s 5ms/step - loss: 3.5190 - mape: 3.5190 - val_loss: 7.9453 - val_mape: 7.9453\n",
      "Epoch 13/200\n",
      "68/68 [==============================] - 0s 6ms/step - loss: 3.4481 - mape: 3.4481 - val_loss: 7.7387 - val_mape: 7.7387\n",
      "Epoch 14/200\n",
      "68/68 [==============================] - 0s 5ms/step - loss: 3.3680 - mape: 3.3680 - val_loss: 6.8586 - val_mape: 6.8586\n",
      "Epoch 15/200\n",
      "68/68 [==============================] - 0s 5ms/step - loss: 3.2840 - mape: 3.2840 - val_loss: 7.1980 - val_mape: 7.1980\n",
      "Epoch 16/200\n",
      "68/68 [==============================] - 0s 5ms/step - loss: 3.2178 - mape: 3.2178 - val_loss: 6.5217 - val_mape: 6.5217\n",
      "Epoch 17/200\n",
      "68/68 [==============================] - 0s 6ms/step - loss: 3.1302 - mape: 3.1302 - val_loss: 6.5242 - val_mape: 6.5242\n",
      "Epoch 18/200\n",
      "68/68 [==============================] - 0s 5ms/step - loss: 3.0340 - mape: 3.0340 - val_loss: 5.6891 - val_mape: 5.6891\n",
      "Epoch 19/200\n",
      "68/68 [==============================] - 0s 6ms/step - loss: 2.9474 - mape: 2.9474 - val_loss: 5.9061 - val_mape: 5.9061\n",
      "Epoch 20/200\n",
      "68/68 [==============================] - 0s 5ms/step - loss: 2.8451 - mape: 2.8451 - val_loss: 5.6159 - val_mape: 5.6159\n",
      "Epoch 21/200\n",
      "68/68 [==============================] - 0s 6ms/step - loss: 2.7531 - mape: 2.7531 - val_loss: 5.1360 - val_mape: 5.1360\n",
      "Epoch 22/200\n",
      "68/68 [==============================] - 0s 5ms/step - loss: 2.6580 - mape: 2.6580 - val_loss: 4.0079 - val_mape: 4.0079\n",
      "Epoch 23/200\n",
      "68/68 [==============================] - 0s 5ms/step - loss: 2.5592 - mape: 2.5592 - val_loss: 3.7782 - val_mape: 3.7782\n",
      "Epoch 24/200\n",
      "68/68 [==============================] - 0s 5ms/step - loss: 2.4704 - mape: 2.4704 - val_loss: 3.3094 - val_mape: 3.3094\n",
      "Epoch 25/200\n",
      "68/68 [==============================] - 0s 5ms/step - loss: 2.3727 - mape: 2.3727 - val_loss: 2.9630 - val_mape: 2.9630\n",
      "Epoch 26/200\n",
      "68/68 [==============================] - 0s 5ms/step - loss: 2.3040 - mape: 2.3040 - val_loss: 2.5174 - val_mape: 2.5174\n",
      "Epoch 27/200\n",
      "68/68 [==============================] - 0s 6ms/step - loss: 2.2389 - mape: 2.2389 - val_loss: 2.2113 - val_mape: 2.2113\n",
      "Epoch 28/200\n",
      "68/68 [==============================] - 0s 5ms/step - loss: 2.1833 - mape: 2.1833 - val_loss: 2.1349 - val_mape: 2.1349\n",
      "Epoch 29/200\n",
      "68/68 [==============================] - 0s 5ms/step - loss: 2.1544 - mape: 2.1544 - val_loss: 2.0833 - val_mape: 2.0833\n",
      "Epoch 30/200\n",
      "68/68 [==============================] - 0s 6ms/step - loss: 2.1217 - mape: 2.1217 - val_loss: 1.5649 - val_mape: 1.5649\n",
      "Epoch 31/200\n",
      "68/68 [==============================] - 0s 6ms/step - loss: 2.1045 - mape: 2.1045 - val_loss: 1.7818 - val_mape: 1.7818\n",
      "Epoch 32/200\n",
      "68/68 [==============================] - 0s 6ms/step - loss: 2.0855 - mape: 2.0855 - val_loss: 1.6330 - val_mape: 1.6330\n",
      "Epoch 33/200\n",
      "68/68 [==============================] - 0s 6ms/step - loss: 2.0894 - mape: 2.0894 - val_loss: 1.7911 - val_mape: 1.7911\n",
      "Epoch 34/200\n",
      "68/68 [==============================] - 0s 5ms/step - loss: 2.0726 - mape: 2.0726 - val_loss: 1.2740 - val_mape: 1.2740\n",
      "Epoch 35/200\n",
      "68/68 [==============================] - 0s 6ms/step - loss: 2.0442 - mape: 2.0442 - val_loss: 1.7358 - val_mape: 1.7358\n",
      "Epoch 36/200\n",
      "68/68 [==============================] - 0s 5ms/step - loss: 2.0329 - mape: 2.0329 - val_loss: 1.7996 - val_mape: 1.7996\n",
      "Epoch 37/200\n",
      "68/68 [==============================] - 0s 5ms/step - loss: 2.0374 - mape: 2.0374 - val_loss: 1.3449 - val_mape: 1.3449\n",
      "Epoch 38/200\n",
      "68/68 [==============================] - 0s 5ms/step - loss: 2.0316 - mape: 2.0316 - val_loss: 1.0401 - val_mape: 1.0401\n",
      "Epoch 39/200\n",
      "68/68 [==============================] - 0s 5ms/step - loss: 2.0227 - mape: 2.0227 - val_loss: 1.1902 - val_mape: 1.1902\n",
      "Epoch 40/200\n",
      "68/68 [==============================] - 0s 5ms/step - loss: 2.0068 - mape: 2.0068 - val_loss: 0.8808 - val_mape: 0.8808\n",
      "Epoch 41/200\n",
      "68/68 [==============================] - 0s 6ms/step - loss: 2.0034 - mape: 2.0034 - val_loss: 1.5020 - val_mape: 1.5020\n",
      "Epoch 42/200\n",
      "68/68 [==============================] - 0s 5ms/step - loss: 2.0062 - mape: 2.0062 - val_loss: 1.1311 - val_mape: 1.1311\n",
      "Epoch 43/200\n",
      "68/68 [==============================] - 0s 6ms/step - loss: 2.0055 - mape: 2.0055 - val_loss: 1.0102 - val_mape: 1.0102\n",
      "Epoch 44/200\n",
      "68/68 [==============================] - 0s 5ms/step - loss: 1.9901 - mape: 1.9901 - val_loss: 0.9371 - val_mape: 0.9371\n",
      "Epoch 45/200\n",
      "68/68 [==============================] - 0s 5ms/step - loss: 1.9714 - mape: 1.9714 - val_loss: 0.9475 - val_mape: 0.9475\n",
      "Epoch 46/200\n",
      "68/68 [==============================] - 0s 6ms/step - loss: 1.9666 - mape: 1.9666 - val_loss: 1.1154 - val_mape: 1.1154\n",
      "Epoch 47/200\n",
      "68/68 [==============================] - 0s 6ms/step - loss: 1.9672 - mape: 1.9672 - val_loss: 0.9051 - val_mape: 0.9051\n",
      "Epoch 48/200\n",
      "68/68 [==============================] - 0s 6ms/step - loss: 1.9653 - mape: 1.9653 - val_loss: 0.8568 - val_mape: 0.8568\n",
      "Epoch 49/200\n",
      "68/68 [==============================] - 0s 6ms/step - loss: 1.9518 - mape: 1.9518 - val_loss: 0.8293 - val_mape: 0.8293\n",
      "Epoch 50/200\n",
      "68/68 [==============================] - 0s 6ms/step - loss: 1.9484 - mape: 1.9484 - val_loss: 0.8388 - val_mape: 0.8388\n",
      "Epoch 51/200\n",
      "68/68 [==============================] - 0s 5ms/step - loss: 1.9296 - mape: 1.9296 - val_loss: 0.9015 - val_mape: 0.9015\n",
      "Epoch 52/200\n",
      "68/68 [==============================] - 0s 5ms/step - loss: 1.9220 - mape: 1.9220 - val_loss: 1.0251 - val_mape: 1.0251\n",
      "Epoch 53/200\n",
      "68/68 [==============================] - 0s 6ms/step - loss: 1.9339 - mape: 1.9339 - val_loss: 0.8878 - val_mape: 0.8878\n",
      "Epoch 54/200\n",
      "68/68 [==============================] - 0s 6ms/step - loss: 1.9204 - mape: 1.9204 - val_loss: 1.0010 - val_mape: 1.0010\n",
      "Epoch 55/200\n",
      "68/68 [==============================] - 0s 6ms/step - loss: 1.9055 - mape: 1.9055 - val_loss: 0.8578 - val_mape: 0.8578\n",
      "Epoch 56/200\n",
      "68/68 [==============================] - 0s 6ms/step - loss: 1.8953 - mape: 1.8953 - val_loss: 0.8057 - val_mape: 0.8057\n",
      "Epoch 57/200\n",
      "68/68 [==============================] - 0s 6ms/step - loss: 1.8904 - mape: 1.8904 - val_loss: 0.8951 - val_mape: 0.8951\n",
      "Epoch 58/200\n",
      "68/68 [==============================] - 0s 6ms/step - loss: 1.9013 - mape: 1.9013 - val_loss: 0.7969 - val_mape: 0.7969\n",
      "Epoch 59/200\n",
      "68/68 [==============================] - 0s 6ms/step - loss: 1.8856 - mape: 1.8856 - val_loss: 0.8005 - val_mape: 0.8005\n",
      "Epoch 60/200\n",
      "68/68 [==============================] - 0s 5ms/step - loss: 1.8865 - mape: 1.8865 - val_loss: 0.8194 - val_mape: 0.8194\n",
      "Epoch 61/200\n",
      "68/68 [==============================] - 0s 5ms/step - loss: 1.8705 - mape: 1.8705 - val_loss: 0.8461 - val_mape: 0.8461\n",
      "Epoch 62/200\n",
      "68/68 [==============================] - 0s 6ms/step - loss: 1.8595 - mape: 1.8595 - val_loss: 0.7915 - val_mape: 0.7915\n",
      "Epoch 63/200\n",
      "68/68 [==============================] - 0s 5ms/step - loss: 1.8802 - mape: 1.8802 - val_loss: 0.8948 - val_mape: 0.8948\n",
      "Epoch 64/200\n",
      "68/68 [==============================] - 0s 5ms/step - loss: 1.8461 - mape: 1.8461 - val_loss: 0.7970 - val_mape: 0.7970\n",
      "Epoch 65/200\n",
      "68/68 [==============================] - 0s 6ms/step - loss: 1.8550 - mape: 1.8550 - val_loss: 0.8394 - val_mape: 0.8394\n",
      "Epoch 66/200\n",
      "68/68 [==============================] - 0s 5ms/step - loss: 1.8454 - mape: 1.8454 - val_loss: 0.9287 - val_mape: 0.9287\n",
      "Epoch 67/200\n",
      "68/68 [==============================] - 0s 6ms/step - loss: 1.8504 - mape: 1.8504 - val_loss: 0.8603 - val_mape: 0.8603\n",
      "Epoch 68/200\n",
      "68/68 [==============================] - 0s 5ms/step - loss: 1.8292 - mape: 1.8292 - val_loss: 0.8475 - val_mape: 0.8475\n",
      "Epoch 69/200\n",
      "68/68 [==============================] - 0s 6ms/step - loss: 1.8290 - mape: 1.8290 - val_loss: 0.8689 - val_mape: 0.8689\n",
      "Epoch 70/200\n",
      "68/68 [==============================] - 0s 6ms/step - loss: 1.8068 - mape: 1.8068 - val_loss: 0.7621 - val_mape: 0.7621\n",
      "Epoch 71/200\n",
      "68/68 [==============================] - 0s 6ms/step - loss: 1.8083 - mape: 1.8083 - val_loss: 0.7517 - val_mape: 0.7517\n",
      "Epoch 72/200\n",
      "68/68 [==============================] - 0s 6ms/step - loss: 1.8027 - mape: 1.8027 - val_loss: 0.7482 - val_mape: 0.7482\n",
      "Epoch 73/200\n",
      "68/68 [==============================] - 0s 6ms/step - loss: 1.7883 - mape: 1.7883 - val_loss: 0.8477 - val_mape: 0.8477\n",
      "Epoch 74/200\n",
      "68/68 [==============================] - 0s 6ms/step - loss: 1.7970 - mape: 1.7970 - val_loss: 1.0906 - val_mape: 1.0906\n",
      "Epoch 75/200\n",
      "68/68 [==============================] - 0s 6ms/step - loss: 1.7915 - mape: 1.7915 - val_loss: 0.7816 - val_mape: 0.7816\n",
      "Epoch 76/200\n",
      "68/68 [==============================] - 0s 6ms/step - loss: 1.7815 - mape: 1.7815 - val_loss: 0.8028 - val_mape: 0.8028\n",
      "Epoch 77/200\n",
      "68/68 [==============================] - 0s 6ms/step - loss: 1.7767 - mape: 1.7767 - val_loss: 0.7305 - val_mape: 0.7305\n",
      "Epoch 78/200\n",
      "68/68 [==============================] - 0s 6ms/step - loss: 1.7967 - mape: 1.7967 - val_loss: 0.7935 - val_mape: 0.7935\n",
      "Epoch 79/200\n",
      "68/68 [==============================] - 0s 6ms/step - loss: 1.7693 - mape: 1.7693 - val_loss: 0.7348 - val_mape: 0.7348\n",
      "Epoch 80/200\n",
      "68/68 [==============================] - 0s 6ms/step - loss: 1.7765 - mape: 1.7765 - val_loss: 0.7721 - val_mape: 0.7721\n",
      "Epoch 81/200\n",
      "68/68 [==============================] - 0s 6ms/step - loss: 1.7441 - mape: 1.7441 - val_loss: 0.7136 - val_mape: 0.7136\n",
      "Epoch 82/200\n",
      "68/68 [==============================] - 0s 6ms/step - loss: 1.7633 - mape: 1.7633 - val_loss: 0.7378 - val_mape: 0.7378\n",
      "Epoch 83/200\n",
      "68/68 [==============================] - 0s 6ms/step - loss: 1.7287 - mape: 1.7287 - val_loss: 0.7122 - val_mape: 0.7122\n",
      "Epoch 84/200\n",
      "68/68 [==============================] - 0s 5ms/step - loss: 1.7271 - mape: 1.7271 - val_loss: 1.0227 - val_mape: 1.0227\n",
      "Epoch 85/200\n",
      "68/68 [==============================] - 0s 6ms/step - loss: 1.7334 - mape: 1.7334 - val_loss: 0.9135 - val_mape: 0.9135\n",
      "Epoch 86/200\n",
      "68/68 [==============================] - 0s 6ms/step - loss: 1.7202 - mape: 1.7202 - val_loss: 0.7740 - val_mape: 0.7740\n",
      "Epoch 87/200\n",
      "68/68 [==============================] - 0s 6ms/step - loss: 1.7078 - mape: 1.7078 - val_loss: 0.9581 - val_mape: 0.9581\n",
      "Epoch 88/200\n",
      "68/68 [==============================] - 0s 6ms/step - loss: 1.7178 - mape: 1.7178 - val_loss: 0.8446 - val_mape: 0.8446\n",
      "Epoch 89/200\n",
      "68/68 [==============================] - 0s 6ms/step - loss: 1.6913 - mape: 1.6913 - val_loss: 0.9435 - val_mape: 0.9435\n",
      "Epoch 90/200\n",
      "68/68 [==============================] - 0s 5ms/step - loss: 1.7078 - mape: 1.7078 - val_loss: 0.7505 - val_mape: 0.7505\n",
      "Epoch 91/200\n",
      "68/68 [==============================] - 0s 6ms/step - loss: 1.6918 - mape: 1.6918 - val_loss: 0.9806 - val_mape: 0.9806\n",
      "Epoch 92/200\n",
      "68/68 [==============================] - 0s 6ms/step - loss: 1.6983 - mape: 1.6983 - val_loss: 0.6949 - val_mape: 0.6949\n",
      "Epoch 93/200\n",
      "68/68 [==============================] - 0s 6ms/step - loss: 1.6867 - mape: 1.6867 - val_loss: 0.7514 - val_mape: 0.7514\n",
      "Epoch 94/200\n",
      "68/68 [==============================] - 0s 6ms/step - loss: 1.6717 - mape: 1.6717 - val_loss: 0.7261 - val_mape: 0.7261\n",
      "Epoch 95/200\n",
      "68/68 [==============================] - 0s 6ms/step - loss: 1.6628 - mape: 1.6628 - val_loss: 0.8914 - val_mape: 0.8914\n",
      "Epoch 96/200\n",
      "68/68 [==============================] - 0s 6ms/step - loss: 1.6704 - mape: 1.6704 - val_loss: 0.9533 - val_mape: 0.9533\n",
      "Epoch 97/200\n",
      "68/68 [==============================] - 0s 5ms/step - loss: 1.6674 - mape: 1.6674 - val_loss: 0.7053 - val_mape: 0.7053\n",
      "Epoch 98/200\n",
      "68/68 [==============================] - 0s 6ms/step - loss: 1.6559 - mape: 1.6559 - val_loss: 0.6761 - val_mape: 0.6761\n",
      "Epoch 99/200\n",
      "68/68 [==============================] - 0s 6ms/step - loss: 1.6616 - mape: 1.6616 - val_loss: 0.8886 - val_mape: 0.8886\n",
      "Epoch 100/200\n",
      "68/68 [==============================] - 0s 6ms/step - loss: 1.6445 - mape: 1.6445 - val_loss: 0.6791 - val_mape: 0.6791\n",
      "Epoch 101/200\n",
      "68/68 [==============================] - 0s 6ms/step - loss: 1.6455 - mape: 1.6455 - val_loss: 0.6520 - val_mape: 0.6520\n",
      "Epoch 102/200\n",
      "68/68 [==============================] - 0s 6ms/step - loss: 1.6238 - mape: 1.6238 - val_loss: 0.7428 - val_mape: 0.7428\n",
      "Epoch 103/200\n",
      "68/68 [==============================] - 0s 5ms/step - loss: 1.6265 - mape: 1.6265 - val_loss: 0.6567 - val_mape: 0.6567\n",
      "Epoch 104/200\n",
      "68/68 [==============================] - 0s 6ms/step - loss: 1.6104 - mape: 1.6104 - val_loss: 0.6633 - val_mape: 0.6633\n",
      "Epoch 105/200\n",
      "68/68 [==============================] - 0s 5ms/step - loss: 1.6063 - mape: 1.6063 - val_loss: 0.6408 - val_mape: 0.6408\n",
      "Epoch 106/200\n",
      "68/68 [==============================] - 0s 5ms/step - loss: 1.6100 - mape: 1.6100 - val_loss: 0.6723 - val_mape: 0.6723\n",
      "Epoch 107/200\n",
      "68/68 [==============================] - 0s 5ms/step - loss: 1.6033 - mape: 1.6033 - val_loss: 0.6352 - val_mape: 0.6352\n",
      "Epoch 108/200\n",
      "68/68 [==============================] - 0s 5ms/step - loss: 1.5836 - mape: 1.5836 - val_loss: 0.6976 - val_mape: 0.6976\n",
      "Epoch 109/200\n",
      "68/68 [==============================] - 0s 6ms/step - loss: 1.5778 - mape: 1.5778 - val_loss: 0.6334 - val_mape: 0.6334\n",
      "Epoch 110/200\n",
      "68/68 [==============================] - 0s 6ms/step - loss: 1.5882 - mape: 1.5882 - val_loss: 0.6580 - val_mape: 0.6580\n",
      "Epoch 111/200\n",
      "68/68 [==============================] - 0s 5ms/step - loss: 1.5711 - mape: 1.5711 - val_loss: 0.6281 - val_mape: 0.6281\n",
      "Epoch 112/200\n",
      "68/68 [==============================] - 0s 5ms/step - loss: 1.5641 - mape: 1.5641 - val_loss: 0.6210 - val_mape: 0.6210\n",
      "Epoch 113/200\n",
      "68/68 [==============================] - 0s 6ms/step - loss: 1.5574 - mape: 1.5574 - val_loss: 0.7667 - val_mape: 0.7667\n",
      "Epoch 114/200\n",
      "68/68 [==============================] - 0s 5ms/step - loss: 1.5575 - mape: 1.5575 - val_loss: 0.6299 - val_mape: 0.6299\n",
      "Epoch 115/200\n",
      "68/68 [==============================] - 0s 5ms/step - loss: 1.5709 - mape: 1.5709 - val_loss: 0.6539 - val_mape: 0.6539\n",
      "Epoch 116/200\n",
      "68/68 [==============================] - 0s 5ms/step - loss: 1.5558 - mape: 1.5558 - val_loss: 0.6261 - val_mape: 0.6261\n",
      "Epoch 117/200\n",
      "68/68 [==============================] - 0s 5ms/step - loss: 1.5537 - mape: 1.5537 - val_loss: 0.6846 - val_mape: 0.6846\n",
      "Epoch 118/200\n",
      "68/68 [==============================] - 0s 5ms/step - loss: 1.5389 - mape: 1.5389 - val_loss: 0.6598 - val_mape: 0.6598\n",
      "Epoch 119/200\n",
      "68/68 [==============================] - 0s 5ms/step - loss: 1.5283 - mape: 1.5283 - val_loss: 0.6009 - val_mape: 0.6009\n",
      "Epoch 120/200\n",
      "68/68 [==============================] - 0s 5ms/step - loss: 1.5326 - mape: 1.5326 - val_loss: 0.8597 - val_mape: 0.8597\n",
      "Epoch 121/200\n",
      "68/68 [==============================] - 0s 5ms/step - loss: 1.5266 - mape: 1.5266 - val_loss: 0.7589 - val_mape: 0.7589\n",
      "Epoch 122/200\n",
      "68/68 [==============================] - 0s 5ms/step - loss: 1.5487 - mape: 1.5487 - val_loss: 0.9620 - val_mape: 0.9620\n",
      "Epoch 123/200\n",
      "68/68 [==============================] - 0s 6ms/step - loss: 1.5213 - mape: 1.5213 - val_loss: 0.6014 - val_mape: 0.6014\n",
      "Epoch 124/200\n",
      "68/68 [==============================] - 0s 6ms/step - loss: 1.4966 - mape: 1.4966 - val_loss: 0.6343 - val_mape: 0.6343\n",
      "Epoch 125/200\n",
      "68/68 [==============================] - 0s 5ms/step - loss: 1.4992 - mape: 1.4992 - val_loss: 0.6022 - val_mape: 0.6022\n",
      "Epoch 126/200\n",
      "68/68 [==============================] - 0s 6ms/step - loss: 1.5185 - mape: 1.5185 - val_loss: 0.6083 - val_mape: 0.6083\n",
      "Epoch 127/200\n",
      "68/68 [==============================] - 0s 5ms/step - loss: 1.5023 - mape: 1.5023 - val_loss: 0.5917 - val_mape: 0.5917\n",
      "Epoch 128/200\n",
      "68/68 [==============================] - 0s 6ms/step - loss: 1.5029 - mape: 1.5029 - val_loss: 0.6008 - val_mape: 0.6008\n",
      "Epoch 129/200\n",
      "68/68 [==============================] - 0s 6ms/step - loss: 1.4714 - mape: 1.4714 - val_loss: 0.5820 - val_mape: 0.5820\n",
      "Epoch 130/200\n",
      "68/68 [==============================] - 0s 6ms/step - loss: 1.4755 - mape: 1.4755 - val_loss: 0.6434 - val_mape: 0.6434\n",
      "Epoch 131/200\n",
      "68/68 [==============================] - 0s 6ms/step - loss: 1.4784 - mape: 1.4784 - val_loss: 0.6143 - val_mape: 0.6143\n",
      "Epoch 132/200\n",
      "68/68 [==============================] - 0s 5ms/step - loss: 1.4654 - mape: 1.4654 - val_loss: 0.5748 - val_mape: 0.5748\n",
      "Epoch 133/200\n",
      "68/68 [==============================] - 0s 5ms/step - loss: 1.4733 - mape: 1.4733 - val_loss: 0.5692 - val_mape: 0.5692\n",
      "Epoch 134/200\n",
      "68/68 [==============================] - 0s 5ms/step - loss: 1.4571 - mape: 1.4571 - val_loss: 0.6077 - val_mape: 0.6077\n",
      "Epoch 135/200\n",
      "68/68 [==============================] - 0s 5ms/step - loss: 1.4579 - mape: 1.4579 - val_loss: 0.5646 - val_mape: 0.5646\n",
      "Epoch 136/200\n",
      "68/68 [==============================] - 0s 5ms/step - loss: 1.4448 - mape: 1.4448 - val_loss: 0.5688 - val_mape: 0.5688\n",
      "Epoch 137/200\n",
      "68/68 [==============================] - 0s 6ms/step - loss: 1.4579 - mape: 1.4579 - val_loss: 0.5612 - val_mape: 0.5612\n",
      "Epoch 138/200\n",
      "68/68 [==============================] - 0s 5ms/step - loss: 1.4256 - mape: 1.4256 - val_loss: 0.5677 - val_mape: 0.5677\n",
      "Epoch 139/200\n",
      "68/68 [==============================] - 0s 6ms/step - loss: 1.4307 - mape: 1.4307 - val_loss: 0.5577 - val_mape: 0.5577\n",
      "Epoch 140/200\n",
      "68/68 [==============================] - 0s 5ms/step - loss: 1.4504 - mape: 1.4504 - val_loss: 0.6300 - val_mape: 0.6300\n",
      "Epoch 141/200\n",
      "68/68 [==============================] - 0s 5ms/step - loss: 1.4311 - mape: 1.4311 - val_loss: 0.9194 - val_mape: 0.9194\n",
      "Epoch 142/200\n",
      "68/68 [==============================] - 0s 5ms/step - loss: 1.4234 - mape: 1.4234 - val_loss: 0.5614 - val_mape: 0.5614\n",
      "Epoch 143/200\n",
      "68/68 [==============================] - 0s 6ms/step - loss: 1.4098 - mape: 1.4098 - val_loss: 0.5636 - val_mape: 0.5636\n",
      "Epoch 144/200\n",
      "68/68 [==============================] - 0s 5ms/step - loss: 1.4285 - mape: 1.4285 - val_loss: 0.5854 - val_mape: 0.5854\n",
      "Epoch 145/200\n",
      "68/68 [==============================] - 0s 6ms/step - loss: 1.4124 - mape: 1.4124 - val_loss: 0.5689 - val_mape: 0.5689\n",
      "Epoch 146/200\n",
      "68/68 [==============================] - 0s 5ms/step - loss: 1.4117 - mape: 1.4117 - val_loss: 0.5950 - val_mape: 0.5950\n",
      "Epoch 147/200\n",
      "68/68 [==============================] - 0s 6ms/step - loss: 1.4116 - mape: 1.4116 - val_loss: 0.5740 - val_mape: 0.5740\n",
      "Epoch 148/200\n",
      "68/68 [==============================] - 0s 5ms/step - loss: 1.3993 - mape: 1.3993 - val_loss: 0.6372 - val_mape: 0.6372\n",
      "Epoch 149/200\n",
      "68/68 [==============================] - 0s 6ms/step - loss: 1.4077 - mape: 1.4077 - val_loss: 0.5430 - val_mape: 0.5430\n",
      "Epoch 150/200\n",
      "68/68 [==============================] - 0s 6ms/step - loss: 1.3829 - mape: 1.3829 - val_loss: 0.5914 - val_mape: 0.5914\n",
      "Epoch 151/200\n",
      "68/68 [==============================] - 0s 5ms/step - loss: 1.3966 - mape: 1.3966 - val_loss: 0.5470 - val_mape: 0.5470\n",
      "Epoch 152/200\n",
      "68/68 [==============================] - 0s 5ms/step - loss: 1.3890 - mape: 1.3890 - val_loss: 0.6622 - val_mape: 0.6622\n",
      "Epoch 153/200\n",
      "68/68 [==============================] - 0s 5ms/step - loss: 1.4090 - mape: 1.4090 - val_loss: 0.5940 - val_mape: 0.5940\n",
      "Epoch 154/200\n",
      "68/68 [==============================] - 0s 6ms/step - loss: 1.3727 - mape: 1.3727 - val_loss: 0.5504 - val_mape: 0.5504\n",
      "Epoch 155/200\n",
      "68/68 [==============================] - 0s 6ms/step - loss: 1.3604 - mape: 1.3604 - val_loss: 0.5636 - val_mape: 0.5636\n",
      "Epoch 156/200\n",
      "68/68 [==============================] - 0s 5ms/step - loss: 1.3599 - mape: 1.3599 - val_loss: 0.6955 - val_mape: 0.6955\n",
      "Epoch 157/200\n",
      "68/68 [==============================] - 0s 6ms/step - loss: 1.3809 - mape: 1.3809 - val_loss: 0.5271 - val_mape: 0.5271\n",
      "Epoch 158/200\n",
      "68/68 [==============================] - 0s 6ms/step - loss: 1.3979 - mape: 1.3979 - val_loss: 0.5272 - val_mape: 0.5272\n",
      "Epoch 159/200\n",
      "68/68 [==============================] - 0s 6ms/step - loss: 1.3497 - mape: 1.3497 - val_loss: 0.7403 - val_mape: 0.7403\n",
      "Epoch 160/200\n",
      "68/68 [==============================] - 0s 5ms/step - loss: 1.3444 - mape: 1.3444 - val_loss: 0.6200 - val_mape: 0.6200\n",
      "Epoch 161/200\n",
      "68/68 [==============================] - 0s 6ms/step - loss: 1.3704 - mape: 1.3704 - val_loss: 0.6099 - val_mape: 0.6099\n",
      "Epoch 162/200\n",
      "68/68 [==============================] - 0s 5ms/step - loss: 1.3422 - mape: 1.3422 - val_loss: 0.5453 - val_mape: 0.5453\n",
      "Epoch 163/200\n",
      "68/68 [==============================] - 0s 6ms/step - loss: 1.3400 - mape: 1.3400 - val_loss: 0.5186 - val_mape: 0.5186\n",
      "Epoch 164/200\n",
      "68/68 [==============================] - 0s 6ms/step - loss: 1.3336 - mape: 1.3336 - val_loss: 0.5272 - val_mape: 0.5272\n",
      "Epoch 165/200\n",
      "68/68 [==============================] - 0s 6ms/step - loss: 1.3257 - mape: 1.3257 - val_loss: 0.5585 - val_mape: 0.5585\n",
      "Epoch 166/200\n",
      "68/68 [==============================] - 0s 6ms/step - loss: 1.3213 - mape: 1.3213 - val_loss: 0.6054 - val_mape: 0.6054\n",
      "Epoch 167/200\n",
      "68/68 [==============================] - 0s 6ms/step - loss: 1.3317 - mape: 1.3317 - val_loss: 0.5466 - val_mape: 0.5466\n",
      "Epoch 168/200\n",
      "68/68 [==============================] - 0s 6ms/step - loss: 1.3182 - mape: 1.3182 - val_loss: 0.5187 - val_mape: 0.5187\n",
      "Epoch 169/200\n",
      "68/68 [==============================] - 0s 5ms/step - loss: 1.3151 - mape: 1.3151 - val_loss: 0.5502 - val_mape: 0.5502\n",
      "Epoch 170/200\n",
      "68/68 [==============================] - 0s 6ms/step - loss: 1.3117 - mape: 1.3117 - val_loss: 0.5113 - val_mape: 0.5113\n",
      "Epoch 171/200\n",
      "68/68 [==============================] - 0s 6ms/step - loss: 1.3426 - mape: 1.3426 - val_loss: 0.6602 - val_mape: 0.6602\n",
      "Epoch 172/200\n",
      "68/68 [==============================] - 0s 6ms/step - loss: 1.3202 - mape: 1.3202 - val_loss: 0.5187 - val_mape: 0.5187\n",
      "Epoch 173/200\n",
      "68/68 [==============================] - 0s 6ms/step - loss: 1.3010 - mape: 1.3010 - val_loss: 0.5046 - val_mape: 0.5046\n",
      "Epoch 174/200\n",
      "68/68 [==============================] - 0s 6ms/step - loss: 1.3031 - mape: 1.3031 - val_loss: 0.5340 - val_mape: 0.5340\n",
      "Epoch 175/200\n",
      "68/68 [==============================] - 0s 6ms/step - loss: 1.2922 - mape: 1.2922 - val_loss: 0.5043 - val_mape: 0.5043\n",
      "Epoch 176/200\n",
      "68/68 [==============================] - 0s 6ms/step - loss: 1.3020 - mape: 1.3020 - val_loss: 0.7119 - val_mape: 0.7119\n",
      "Epoch 177/200\n",
      "68/68 [==============================] - 0s 5ms/step - loss: 1.2916 - mape: 1.2916 - val_loss: 0.5765 - val_mape: 0.5765\n",
      "Epoch 178/200\n",
      "68/68 [==============================] - 0s 6ms/step - loss: 1.2899 - mape: 1.2899 - val_loss: 0.4997 - val_mape: 0.4997\n",
      "Epoch 179/200\n",
      "68/68 [==============================] - 0s 6ms/step - loss: 1.2816 - mape: 1.2816 - val_loss: 0.7270 - val_mape: 0.7270\n",
      "Epoch 180/200\n",
      "68/68 [==============================] - 0s 6ms/step - loss: 1.2984 - mape: 1.2984 - val_loss: 0.5637 - val_mape: 0.5637\n",
      "Epoch 181/200\n",
      "68/68 [==============================] - 0s 5ms/step - loss: 1.2787 - mape: 1.2787 - val_loss: 0.5438 - val_mape: 0.5438\n",
      "Epoch 182/200\n",
      "68/68 [==============================] - 0s 6ms/step - loss: 1.2985 - mape: 1.2985 - val_loss: 0.5278 - val_mape: 0.5278\n",
      "Epoch 183/200\n",
      "68/68 [==============================] - 0s 6ms/step - loss: 1.2600 - mape: 1.2600 - val_loss: 0.5339 - val_mape: 0.5339\n",
      "Epoch 184/200\n",
      "68/68 [==============================] - 0s 6ms/step - loss: 1.2827 - mape: 1.2827 - val_loss: 0.5211 - val_mape: 0.5211\n",
      "Epoch 185/200\n",
      "68/68 [==============================] - 0s 6ms/step - loss: 1.2619 - mape: 1.2619 - val_loss: 0.5258 - val_mape: 0.5258\n",
      "Epoch 186/200\n",
      "68/68 [==============================] - 0s 6ms/step - loss: 1.2771 - mape: 1.2771 - val_loss: 0.5455 - val_mape: 0.5455\n",
      "Epoch 187/200\n",
      "68/68 [==============================] - 0s 6ms/step - loss: 1.2692 - mape: 1.2692 - val_loss: 0.5407 - val_mape: 0.5407\n",
      "Epoch 188/200\n",
      "68/68 [==============================] - 0s 6ms/step - loss: 1.2573 - mape: 1.2573 - val_loss: 0.5341 - val_mape: 0.5341\n",
      "Epoch 189/200\n",
      "68/68 [==============================] - 0s 6ms/step - loss: 1.2826 - mape: 1.2826 - val_loss: 0.5663 - val_mape: 0.5663\n",
      "Epoch 190/200\n",
      "68/68 [==============================] - 0s 6ms/step - loss: 1.2936 - mape: 1.2936 - val_loss: 0.6458 - val_mape: 0.6458\n",
      "Epoch 191/200\n",
      "68/68 [==============================] - 0s 6ms/step - loss: 1.2613 - mape: 1.2613 - val_loss: 0.4893 - val_mape: 0.4893\n",
      "Epoch 192/200\n",
      "68/68 [==============================] - 0s 6ms/step - loss: 1.2783 - mape: 1.2783 - val_loss: 0.5001 - val_mape: 0.5001\n",
      "Epoch 193/200\n",
      "68/68 [==============================] - 0s 6ms/step - loss: 1.2532 - mape: 1.2532 - val_loss: 0.5012 - val_mape: 0.5012\n",
      "Epoch 194/200\n",
      "68/68 [==============================] - 0s 6ms/step - loss: 1.2506 - mape: 1.2506 - val_loss: 0.5132 - val_mape: 0.5132\n",
      "Epoch 195/200\n",
      "68/68 [==============================] - 0s 5ms/step - loss: 1.2429 - mape: 1.2429 - val_loss: 0.6085 - val_mape: 0.6085\n",
      "Epoch 196/200\n",
      "68/68 [==============================] - 0s 5ms/step - loss: 1.2353 - mape: 1.2353 - val_loss: 0.4854 - val_mape: 0.4854\n",
      "Epoch 197/200\n",
      "68/68 [==============================] - 0s 5ms/step - loss: 1.2592 - mape: 1.2592 - val_loss: 0.5541 - val_mape: 0.5541\n",
      "Epoch 198/200\n",
      "68/68 [==============================] - 0s 5ms/step - loss: 1.2303 - mape: 1.2303 - val_loss: 0.5197 - val_mape: 0.5197\n",
      "Epoch 199/200\n",
      "68/68 [==============================] - 0s 6ms/step - loss: 1.2393 - mape: 1.2393 - val_loss: 0.6171 - val_mape: 0.6171\n",
      "Epoch 200/200\n",
      "68/68 [==============================] - 0s 6ms/step - loss: 1.2536 - mape: 1.2536 - val_loss: 0.4858 - val_mape: 0.4858\n"
     ]
    }
   ],
   "source": [
    "model = Sequential()\n",
    "model.add(LSTM(100,activation='relu',input_dim = 5,recurrent_dropout=0.4))\n",
    "model.add(Dense(1,activation='linear'))\n",
    "ad=optimizers.Adam(learning_rate=0.0002062940414508486)\n",
    "model.compile(optimizer = ad, loss = 'mape', metrics = ['mape'])\n",
    "model_history=model.fit(trainX, trainY,validation_data=(testX,testY), batch_size = 33, epochs = 200,callbacks=[EarlyStopping(monitor='val_loss', patience=100)])"
   ]
  },
  {
   "cell_type": "code",
   "execution_count": 82,
   "id": "77c05906",
   "metadata": {
    "id": "77c05906"
   },
   "outputs": [],
   "source": [
    "def model_loss(history):\n",
    "    plt.figure(figsize=(8,4))\n",
    "    plt.plot(history.history['loss'], label='Train Loss')\n",
    "    plt.plot(history.history['val_loss'], label='Test Loss')\n",
    "    plt.title('model loss')\n",
    "    plt.ylabel('loss')\n",
    "    plt.xlabel('epochs')\n",
    "    plt.legend(loc='upper right')\n",
    "    plt.show();"
   ]
  },
  {
   "cell_type": "code",
   "execution_count": 83,
   "id": "6vZ-AXOUurmJ",
   "metadata": {
    "id": "6vZ-AXOUurmJ"
   },
   "outputs": [],
   "source": [
    "train_score = model.evaluate(trainX, trainY,verbose=0)\n",
    "test_score = model.evaluate(testX, testY,verbose=0)"
   ]
  },
  {
   "cell_type": "code",
   "execution_count": 84,
   "id": "45a22c27",
   "metadata": {
    "colab": {
     "base_uri": "https://localhost:8080/",
     "height": 329
    },
    "id": "45a22c27",
    "outputId": "bac065ac-0e68-41f1-b5fb-cdde26f3483b"
   },
   "outputs": [
    {
     "name": "stdout",
     "output_type": "stream",
     "text": [
      "Train MAPE : 1.22 \n",
      "Test MAPE : 0.49 \n"
     ]
    },
    {
     "data": {
      "image/png": "[encoded data removed]",
      "text/plain": [
       "<Figure size 576x288 with 1 Axes>"
      ]
     },
     "metadata": {
      "needs_background": "light"
     },
     "output_type": "display_data"
    }
   ],
   "source": [
    "train_predict = model.predict(trainX)\n",
    "test_predict = model.predict(testX)\n",
    "\n",
    "# invert predictions\n",
    "train_predict = scaler.inverse_transform(train_predict)\n",
    "trainY = scaler.inverse_transform([trainY])\n",
    "test_predict = scaler.inverse_transform(test_predict)\n",
    "testY = scaler.inverse_transform([testY])\n",
    "print('Train MAPE : %.2f ' % (train_score[1]))\n",
    "print('Test MAPE : %.2f ' % (test_score[1]))\n",
    "model_loss(model_history)"
   ]
  },
  {
   "cell_type": "code",
   "execution_count": 67,
   "id": "dc942f74",
   "metadata": {
    "id": "dc942f74"
   },
   "outputs": [],
   "source": [
    "import seaborn as sns"
   ]
  },
  {
   "cell_type": "code",
   "execution_count": 85,
   "id": "dee9bab8",
   "metadata": {
    "id": "dee9bab8"
   },
   "outputs": [],
   "source": [
    "def prediction_plot(testY, test_predict,look_back):\n",
    "    len_prediction=[x for x in range(2225,2467)]\n",
    "    plt.plot(trainY.reshape(-1,))\n",
    "    plt.plot(len_prediction, testY.reshape(-1,), marker='.', label='actual')\n",
    "    plt.plot(len_prediction, test_predict, 'g', label=\"prediction\")\n",
    "    plt.tight_layout()\n",
    "    sns.despine(top=True)\n",
    "    plt.subplots_adjust(left=0.07)\n",
    "    plt.ylabel('Units', size=15)\n",
    "    plt.xlabel('Time step', size=15)\n",
    "    plt.legend(fontsize=15)\n",
    "    plt.show()"
   ]
  },
  {
   "cell_type": "code",
   "execution_count": 86,
   "id": "363040b5",
   "metadata": {
    "colab": {
     "base_uri": "https://localhost:8080/",
     "height": 604
    },
    "id": "363040b5",
    "outputId": "2249c2b5-c98d-4f38-c055-5b04373f1967"
   },
   "outputs": [
    {
     "data": {
      "image/png": "[encoded data removed]",
      "text/plain": [
       "<Figure size 1080x576 with 1 Axes>"
      ]
     },
     "metadata": {
      "needs_background": "light"
     },
     "output_type": "display_data"
    }
   ],
   "source": [
    "test_predict = model.predict(testX)\n",
    "test_predict = scaler.inverse_transform(test_predict)\n",
    "prediction_plot(testY, test_predict,look_back)"
   ]
  },
  {
   "cell_type": "code",
   "execution_count": null,
   "id": "f8a7708c",
   "metadata": {
    "id": "f8a7708c"
   },
   "outputs": [],
   "source": []
  }
 ],
 "metadata": {
  "colab": {
   "collapsed_sections": [],
   "name": "mauna_loa_HPT_LSTM_version_2.ipynb",
   "provenance": []
  },
  "kernelspec": {
   "display_name": "Python 3",
   "language": "python",
   "name": "python3"
  },
  "language_info": {
   "codemirror_mode": {
    "name": "ipython",
    "version": 3
   },
   "file_extension": ".py",
   "mimetype": "text/x-python",
   "name": "python",
   "nbconvert_exporter": "python",
   "pygments_lexer": "ipython3",
   "version": "3.8.8"
  }
 },
 "nbformat": 4,
 "nbformat_minor": 5
}
