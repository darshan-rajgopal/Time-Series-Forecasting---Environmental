{
 "cells": [
  {
   "cell_type": "code",
   "execution_count": 1,
   "id": "c2ef9b47",
   "metadata": {
    "id": "c2ef9b47"
   },
   "outputs": [],
   "source": [
    "import numpy as np\n",
    "import pandas as pd\n",
    "from tensorflow.keras.models import Sequential\n",
    "from tensorflow.keras.layers import LSTM\n",
    "from tensorflow.keras.layers import Dense\n",
    "from tensorflow.keras.layers import Flatten\n",
    "import matplotlib.pyplot as plt\n",
    "import warnings\n",
    "warnings.filterwarnings('ignore')\n",
    "%matplotlib inline"
   ]
  },
  {
   "cell_type": "code",
   "execution_count": 2,
   "id": "iGQk9lcRmucZ",
   "metadata": {
    "colab": {
     "base_uri": "https://localhost:8080/"
    },
    "id": "iGQk9lcRmucZ",
    "outputId": "8448dfed-709b-47cb-dd8d-fc79796c442a"
   },
   "outputs": [
    {
     "name": "stdout",
     "output_type": "stream",
     "text": [
      "Mounted at /content/drive\n"
     ]
    }
   ],
   "source": [
    "from google.colab import drive\n",
    "drive.mount('/content/drive')"
   ]
  },
  {
   "cell_type": "code",
   "execution_count": null,
   "id": "BxDZtfokj6Da",
   "metadata": {
    "colab": {
     "base_uri": "https://localhost:8080/",
     "height": 35
    },
    "id": "BxDZtfokj6Da",
    "outputId": "b20dcdbd-c02a-48ad-a576-4ba9370acae1"
   },
   "outputs": [
    {
     "data": {
      "application/vnd.google.colaboratory.intrinsic+json": {
       "type": "string"
      },
      "text/plain": [
       "'/device:GPU:0'"
      ]
     },
     "execution_count": 5,
     "metadata": {},
     "output_type": "execute_result"
    }
   ],
   "source": [
    "import tensorflow as tf\n",
    "tf.test.gpu_device_name()"
   ]
  },
  {
   "cell_type": "code",
   "execution_count": null,
   "id": "UDt4KrAxj6JS",
   "metadata": {
    "colab": {
     "base_uri": "https://localhost:8080/"
    },
    "id": "UDt4KrAxj6JS",
    "outputId": "9d528187-3aea-4259-a635-0d1eddbc47d0"
   },
   "outputs": [
    {
     "data": {
      "text/plain": [
       "[name: \"/device:CPU:0\"\n",
       " device_type: \"CPU\"\n",
       " memory_limit: 268435456\n",
       " locality {\n",
       " }\n",
       " incarnation: 14494480343520806349\n",
       " xla_global_id: -1, name: \"/device:GPU:0\"\n",
       " device_type: \"GPU\"\n",
       " memory_limit: 11320098816\n",
       " locality {\n",
       "   bus_id: 1\n",
       "   links {\n",
       "   }\n",
       " }\n",
       " incarnation: 1229225032833911937\n",
       " physical_device_desc: \"device: 0, name: Tesla K80, pci bus id: 0000:00:04.0, compute capability: 3.7\"\n",
       " xla_global_id: 416903419]"
      ]
     },
     "execution_count": 6,
     "metadata": {},
     "output_type": "execute_result"
    }
   ],
   "source": [
    "from tensorflow.python.client import device_lib\n",
    "device_lib.list_local_devices()"
   ]
  },
  {
   "cell_type": "code",
   "execution_count": 45,
   "id": "30d066a0",
   "metadata": {
    "colab": {
     "base_uri": "https://localhost:8080/",
     "height": 206
    },
    "id": "30d066a0",
    "outputId": "afcff4bf-a6d9-4a67-a0d8-8339a317cd7a"
   },
   "outputs": [
    {
     "data": {
      "text/html": [
       "\n",
       "  <div id=\"df-80d8b2ca-e1c5-4a14-ab11-9885a35669cb\">\n",
       "    <div class=\"colab-df-container\">\n",
       "      <div>\n",
       "<style scoped>\n",
       "    .dataframe tbody tr th:only-of-type {\n",
       "        vertical-align: middle;\n",
       "    }\n",
       "\n",
       "    .dataframe tbody tr th {\n",
       "        vertical-align: top;\n",
       "    }\n",
       "\n",
       "    .dataframe thead th {\n",
       "        text-align: right;\n",
       "    }\n",
       "</style>\n",
       "<table border=\"1\" class=\"dataframe\">\n",
       "  <thead>\n",
       "    <tr style=\"text-align: right;\">\n",
       "      <th></th>\n",
       "      <th>Year</th>\n",
       "      <th>Month</th>\n",
       "      <th>Day</th>\n",
       "      <th>Year(decimal)</th>\n",
       "      <th>CO2(PPM)</th>\n",
       "    </tr>\n",
       "  </thead>\n",
       "  <tbody>\n",
       "    <tr>\n",
       "      <th>0</th>\n",
       "      <td>1974</td>\n",
       "      <td>5</td>\n",
       "      <td>19</td>\n",
       "      <td>1974.3795</td>\n",
       "      <td>333.37</td>\n",
       "    </tr>\n",
       "    <tr>\n",
       "      <th>1</th>\n",
       "      <td>1974</td>\n",
       "      <td>5</td>\n",
       "      <td>26</td>\n",
       "      <td>1974.3986</td>\n",
       "      <td>332.95</td>\n",
       "    </tr>\n",
       "    <tr>\n",
       "      <th>2</th>\n",
       "      <td>1974</td>\n",
       "      <td>6</td>\n",
       "      <td>2</td>\n",
       "      <td>1974.4178</td>\n",
       "      <td>332.35</td>\n",
       "    </tr>\n",
       "    <tr>\n",
       "      <th>3</th>\n",
       "      <td>1974</td>\n",
       "      <td>6</td>\n",
       "      <td>9</td>\n",
       "      <td>1974.4370</td>\n",
       "      <td>332.20</td>\n",
       "    </tr>\n",
       "    <tr>\n",
       "      <th>4</th>\n",
       "      <td>1974</td>\n",
       "      <td>6</td>\n",
       "      <td>16</td>\n",
       "      <td>1974.4562</td>\n",
       "      <td>332.37</td>\n",
       "    </tr>\n",
       "  </tbody>\n",
       "</table>\n",
       "</div>\n",
       "      <button class=\"colab-df-convert\" onclick=\"convertToInteractive('df-80d8b2ca-e1c5-4a14-ab11-9885a35669cb')\"\n",
       "              title=\"Convert this dataframe to an interactive table.\"\n",
       "              style=\"display:none;\">\n",
       "        \n",
       "  <svg xmlns=\"http://www.w3.org/2000/svg\" height=\"24px\"viewBox=\"0 0 24 24\"\n",
       "       width=\"24px\">\n",
       "    <path d=\"M0 0h24v24H0V0z\" fill=\"none\"/>\n",
       "    <path d=\"M18.56 5.44l.94 2.06.94-2.06 2.06-.94-2.06-.94-.94-2.06-.94 2.06-2.06.94zm-11 1L8.5 8.5l.94-2.06 2.06-.94-2.06-.94L8.5 2.5l-.94 2.06-2.06.94zm10 10l.94 2.06.94-2.06 2.06-.94-2.06-.94-.94-2.06-.94 2.06-2.06.94z\"/><path d=\"M17.41 7.96l-1.37-1.37c-.4-.4-.92-.59-1.43-.59-.52 0-1.04.2-1.43.59L10.3 9.45l-7.72 7.72c-.78.78-.78 2.05 0 2.83L4 21.41c.39.39.9.59 1.41.59.51 0 1.02-.2 1.41-.59l7.78-7.78 2.81-2.81c.8-.78.8-2.07 0-2.86zM5.41 20L4 18.59l7.72-7.72 1.47 1.35L5.41 20z\"/>\n",
       "  </svg>\n",
       "      </button>\n",
       "      \n",
       "  <style>\n",
       "    .colab-df-container {\n",
       "      display:flex;\n",
       "      flex-wrap:wrap;\n",
       "      gap: 12px;\n",
       "    }\n",
       "\n",
       "    .colab-df-convert {\n",
       "      background-color: #E8F0FE;\n",
       "      border: none;\n",
       "      border-radius: 50%;\n",
       "      cursor: pointer;\n",
       "      display: none;\n",
       "      fill: #1967D2;\n",
       "      height: 32px;\n",
       "      padding: 0 0 0 0;\n",
       "      width: 32px;\n",
       "    }\n",
       "\n",
       "    .colab-df-convert:hover {\n",
       "      background-color: #E2EBFA;\n",
       "      box-shadow: 0px 1px 2px rgba(60, 64, 67, 0.3), 0px 1px 3px 1px rgba(60, 64, 67, 0.15);\n",
       "      fill: #174EA6;\n",
       "    }\n",
       "\n",
       "    [theme=dark] .colab-df-convert {\n",
       "      background-color: #3B4455;\n",
       "      fill: #D2E3FC;\n",
       "    }\n",
       "\n",
       "    [theme=dark] .colab-df-convert:hover {\n",
       "      background-color: #434B5C;\n",
       "      box-shadow: 0px 1px 3px 1px rgba(0, 0, 0, 0.15);\n",
       "      filter: drop-shadow(0px 1px 2px rgba(0, 0, 0, 0.3));\n",
       "      fill: #FFFFFF;\n",
       "    }\n",
       "  </style>\n",
       "\n",
       "      <script>\n",
       "        const buttonEl =\n",
       "          document.querySelector('#df-80d8b2ca-e1c5-4a14-ab11-9885a35669cb button.colab-df-convert');\n",
       "        buttonEl.style.display =\n",
       "          google.colab.kernel.accessAllowed ? 'block' : 'none';\n",
       "\n",
       "        async function convertToInteractive(key) {\n",
       "          const element = document.querySelector('#df-80d8b2ca-e1c5-4a14-ab11-9885a35669cb');\n",
       "          const dataTable =\n",
       "            await google.colab.kernel.invokeFunction('convertToInteractive',\n",
       "                                                     [key], {});\n",
       "          if (!dataTable) return;\n",
       "\n",
       "          const docLinkHtml = 'Like what you see? Visit the ' +\n",
       "            '<a target=\"_blank\" href=https://colab.research.google.com/notebooks/data_table.ipynb>data table notebook</a>'\n",
       "            + ' to learn more about interactive tables.';\n",
       "          element.innerHTML = '';\n",
       "          dataTable['output_type'] = 'display_data';\n",
       "          await google.colab.output.renderOutput(dataTable, element);\n",
       "          const docLink = document.createElement('div');\n",
       "          docLink.innerHTML = docLinkHtml;\n",
       "          element.appendChild(docLink);\n",
       "        }\n",
       "      </script>\n",
       "    </div>\n",
       "  </div>\n",
       "  "
      ],
      "text/plain": [
       "   Year  Month  Day  Year(decimal)  CO2(PPM)\n",
       "0  1974      5   19      1974.3795    333.37\n",
       "1  1974      5   26      1974.3986    332.95\n",
       "2  1974      6    2      1974.4178    332.35\n",
       "3  1974      6    9      1974.4370    332.20\n",
       "4  1974      6   16      1974.4562    332.37"
      ]
     },
     "execution_count": 45,
     "metadata": {},
     "output_type": "execute_result"
    }
   ],
   "source": [
    "df_new = pd.read_csv('/content/drive/MyDrive/Colab Notebooks/Environmental/Mouna_Loa_Weekly_Data.csv')\n",
    "df_new.head()"
   ]
  },
  {
   "cell_type": "code",
   "execution_count": 4,
   "id": "e2663bb4",
   "metadata": {
    "colab": {
     "base_uri": "https://localhost:8080/",
     "height": 206
    },
    "id": "e2663bb4",
    "outputId": "11181b07-867b-41a8-daa2-cb2c01a917e4"
   },
   "outputs": [
    {
     "data": {
      "text/html": [
       "\n",
       "  <div id=\"df-34303a23-2d75-4124-a1a4-536280ab8361\">\n",
       "    <div class=\"colab-df-container\">\n",
       "      <div>\n",
       "<style scoped>\n",
       "    .dataframe tbody tr th:only-of-type {\n",
       "        vertical-align: middle;\n",
       "    }\n",
       "\n",
       "    .dataframe tbody tr th {\n",
       "        vertical-align: top;\n",
       "    }\n",
       "\n",
       "    .dataframe thead th {\n",
       "        text-align: right;\n",
       "    }\n",
       "</style>\n",
       "<table border=\"1\" class=\"dataframe\">\n",
       "  <thead>\n",
       "    <tr style=\"text-align: right;\">\n",
       "      <th></th>\n",
       "      <th>Year</th>\n",
       "      <th>Month</th>\n",
       "      <th>Day</th>\n",
       "      <th>Year(decimal)</th>\n",
       "      <th>CO2(PPM)</th>\n",
       "    </tr>\n",
       "  </thead>\n",
       "  <tbody>\n",
       "    <tr>\n",
       "      <th>2472</th>\n",
       "      <td>2021</td>\n",
       "      <td>10</td>\n",
       "      <td>3</td>\n",
       "      <td>2021.7548</td>\n",
       "      <td>413.63</td>\n",
       "    </tr>\n",
       "    <tr>\n",
       "      <th>2473</th>\n",
       "      <td>2021</td>\n",
       "      <td>10</td>\n",
       "      <td>10</td>\n",
       "      <td>2021.7740</td>\n",
       "      <td>413.89</td>\n",
       "    </tr>\n",
       "    <tr>\n",
       "      <th>2474</th>\n",
       "      <td>2021</td>\n",
       "      <td>10</td>\n",
       "      <td>17</td>\n",
       "      <td>2021.7932</td>\n",
       "      <td>414.36</td>\n",
       "    </tr>\n",
       "    <tr>\n",
       "      <th>2475</th>\n",
       "      <td>2021</td>\n",
       "      <td>10</td>\n",
       "      <td>24</td>\n",
       "      <td>2021.8123</td>\n",
       "      <td>413.90</td>\n",
       "    </tr>\n",
       "    <tr>\n",
       "      <th>2476</th>\n",
       "      <td>2021</td>\n",
       "      <td>10</td>\n",
       "      <td>31</td>\n",
       "      <td>2021.8315</td>\n",
       "      <td>414.17</td>\n",
       "    </tr>\n",
       "  </tbody>\n",
       "</table>\n",
       "</div>\n",
       "      <button class=\"colab-df-convert\" onclick=\"convertToInteractive('df-34303a23-2d75-4124-a1a4-536280ab8361')\"\n",
       "              title=\"Convert this dataframe to an interactive table.\"\n",
       "              style=\"display:none;\">\n",
       "        \n",
       "  <svg xmlns=\"http://www.w3.org/2000/svg\" height=\"24px\"viewBox=\"0 0 24 24\"\n",
       "       width=\"24px\">\n",
       "    <path d=\"M0 0h24v24H0V0z\" fill=\"none\"/>\n",
       "    <path d=\"M18.56 5.44l.94 2.06.94-2.06 2.06-.94-2.06-.94-.94-2.06-.94 2.06-2.06.94zm-11 1L8.5 8.5l.94-2.06 2.06-.94-2.06-.94L8.5 2.5l-.94 2.06-2.06.94zm10 10l.94 2.06.94-2.06 2.06-.94-2.06-.94-.94-2.06-.94 2.06-2.06.94z\"/><path d=\"M17.41 7.96l-1.37-1.37c-.4-.4-.92-.59-1.43-.59-.52 0-1.04.2-1.43.59L10.3 9.45l-7.72 7.72c-.78.78-.78 2.05 0 2.83L4 21.41c.39.39.9.59 1.41.59.51 0 1.02-.2 1.41-.59l7.78-7.78 2.81-2.81c.8-.78.8-2.07 0-2.86zM5.41 20L4 18.59l7.72-7.72 1.47 1.35L5.41 20z\"/>\n",
       "  </svg>\n",
       "      </button>\n",
       "      \n",
       "  <style>\n",
       "    .colab-df-container {\n",
       "      display:flex;\n",
       "      flex-wrap:wrap;\n",
       "      gap: 12px;\n",
       "    }\n",
       "\n",
       "    .colab-df-convert {\n",
       "      background-color: #E8F0FE;\n",
       "      border: none;\n",
       "      border-radius: 50%;\n",
       "      cursor: pointer;\n",
       "      display: none;\n",
       "      fill: #1967D2;\n",
       "      height: 32px;\n",
       "      padding: 0 0 0 0;\n",
       "      width: 32px;\n",
       "    }\n",
       "\n",
       "    .colab-df-convert:hover {\n",
       "      background-color: #E2EBFA;\n",
       "      box-shadow: 0px 1px 2px rgba(60, 64, 67, 0.3), 0px 1px 3px 1px rgba(60, 64, 67, 0.15);\n",
       "      fill: #174EA6;\n",
       "    }\n",
       "\n",
       "    [theme=dark] .colab-df-convert {\n",
       "      background-color: #3B4455;\n",
       "      fill: #D2E3FC;\n",
       "    }\n",
       "\n",
       "    [theme=dark] .colab-df-convert:hover {\n",
       "      background-color: #434B5C;\n",
       "      box-shadow: 0px 1px 3px 1px rgba(0, 0, 0, 0.15);\n",
       "      filter: drop-shadow(0px 1px 2px rgba(0, 0, 0, 0.3));\n",
       "      fill: #FFFFFF;\n",
       "    }\n",
       "  </style>\n",
       "\n",
       "      <script>\n",
       "        const buttonEl =\n",
       "          document.querySelector('#df-34303a23-2d75-4124-a1a4-536280ab8361 button.colab-df-convert');\n",
       "        buttonEl.style.display =\n",
       "          google.colab.kernel.accessAllowed ? 'block' : 'none';\n",
       "\n",
       "        async function convertToInteractive(key) {\n",
       "          const element = document.querySelector('#df-34303a23-2d75-4124-a1a4-536280ab8361');\n",
       "          const dataTable =\n",
       "            await google.colab.kernel.invokeFunction('convertToInteractive',\n",
       "                                                     [key], {});\n",
       "          if (!dataTable) return;\n",
       "\n",
       "          const docLinkHtml = 'Like what you see? Visit the ' +\n",
       "            '<a target=\"_blank\" href=https://colab.research.google.com/notebooks/data_table.ipynb>data table notebook</a>'\n",
       "            + ' to learn more about interactive tables.';\n",
       "          element.innerHTML = '';\n",
       "          dataTable['output_type'] = 'display_data';\n",
       "          await google.colab.output.renderOutput(dataTable, element);\n",
       "          const docLink = document.createElement('div');\n",
       "          docLink.innerHTML = docLinkHtml;\n",
       "          element.appendChild(docLink);\n",
       "        }\n",
       "      </script>\n",
       "    </div>\n",
       "  </div>\n",
       "  "
      ],
      "text/plain": [
       "      Year  Month  Day  Year(decimal)  CO2(PPM)\n",
       "2472  2021     10    3      2021.7548    413.63\n",
       "2473  2021     10   10      2021.7740    413.89\n",
       "2474  2021     10   17      2021.7932    414.36\n",
       "2475  2021     10   24      2021.8123    413.90\n",
       "2476  2021     10   31      2021.8315    414.17"
      ]
     },
     "execution_count": 4,
     "metadata": {},
     "output_type": "execute_result"
    }
   ],
   "source": [
    "df_new.tail()"
   ]
  },
  {
   "cell_type": "code",
   "execution_count": 5,
   "id": "0482272d",
   "metadata": {
    "colab": {
     "base_uri": "https://localhost:8080/"
    },
    "id": "0482272d",
    "outputId": "776ac443-ad6b-4564-f8e0-1f7bd74c25a7"
   },
   "outputs": [
    {
     "data": {
      "text/plain": [
       "(2477, 5)"
      ]
     },
     "execution_count": 5,
     "metadata": {},
     "output_type": "execute_result"
    }
   ],
   "source": [
    "df_new.shape"
   ]
  },
  {
   "cell_type": "code",
   "execution_count": 6,
   "id": "076f1ad3",
   "metadata": {
    "colab": {
     "base_uri": "https://localhost:8080/"
    },
    "id": "076f1ad3",
    "outputId": "85d3513e-4003-46c9-c4de-170eb5f2bf2d"
   },
   "outputs": [
    {
     "name": "stdout",
     "output_type": "stream",
     "text": [
      "<class 'pandas.core.frame.DataFrame'>\n",
      "RangeIndex: 2477 entries, 0 to 2476\n",
      "Data columns (total 5 columns):\n",
      " #   Column         Non-Null Count  Dtype  \n",
      "---  ------         --------------  -----  \n",
      " 0   Year           2477 non-null   int64  \n",
      " 1   Month          2477 non-null   int64  \n",
      " 2   Day            2477 non-null   int64  \n",
      " 3   Year(decimal)  2477 non-null   float64\n",
      " 4   CO2(PPM)       2477 non-null   float64\n",
      "dtypes: float64(2), int64(3)\n",
      "memory usage: 96.9 KB\n"
     ]
    }
   ],
   "source": [
    "df_new.info()"
   ]
  },
  {
   "cell_type": "code",
   "execution_count": 7,
   "id": "GQllVmimXbew",
   "metadata": {
    "colab": {
     "base_uri": "https://localhost:8080/"
    },
    "id": "GQllVmimXbew",
    "outputId": "4ac7ccfe-1115-4f1a-e41c-b857312a5a47"
   },
   "outputs": [
    {
     "data": {
      "text/plain": [
       "-999.99"
      ]
     },
     "execution_count": 7,
     "metadata": {},
     "output_type": "execute_result"
    }
   ],
   "source": [
    "df_new['CO2(PPM)'].min()"
   ]
  },
  {
   "cell_type": "code",
   "execution_count": 46,
   "id": "1oFqHGwzXbhI",
   "metadata": {
    "id": "1oFqHGwzXbhI"
   },
   "outputs": [],
   "source": [
    "df_new.replace(-999.99,np.nan,inplace=True)\n",
    "df = df_new.fillna(df_new.rolling(7,min_periods=1).mean())"
   ]
  },
  {
   "cell_type": "code",
   "execution_count": 9,
   "id": "x2rdBSU9Xbkd",
   "metadata": {
    "colab": {
     "base_uri": "https://localhost:8080/"
    },
    "id": "x2rdBSU9Xbkd",
    "outputId": "40e6d1cb-6c43-44fc-f7c3-91b5977fe09d"
   },
   "outputs": [
    {
     "data": {
      "text/plain": [
       "Year             0\n",
       "Month            0\n",
       "Day              0\n",
       "Year(decimal)    0\n",
       "CO2(PPM)         0\n",
       "dtype: int64"
      ]
     },
     "execution_count": 9,
     "metadata": {},
     "output_type": "execute_result"
    }
   ],
   "source": [
    "df.isnull().sum()"
   ]
  },
  {
   "cell_type": "code",
   "execution_count": 47,
   "id": "93827e39",
   "metadata": {
    "id": "93827e39"
   },
   "outputs": [],
   "source": [
    "time = pd.date_range(start='5/19/1974',periods=2477,freq='W')\n",
    "df['time_stamp'] = pd.DataFrame(time)\n",
    "df.drop(['Year','Month','Year(decimal)','Day'],axis=1,inplace=True)\n",
    "df = df.set_index('time_stamp')"
   ]
  },
  {
   "cell_type": "code",
   "execution_count": 48,
   "id": "S0kNKRMAocKq",
   "metadata": {
    "id": "S0kNKRMAocKq"
   },
   "outputs": [],
   "source": [
    "df.columns=['CO2_PPM']"
   ]
  },
  {
   "cell_type": "code",
   "execution_count": 12,
   "id": "522f2b8e",
   "metadata": {
    "colab": {
     "base_uri": "https://localhost:8080/",
     "height": 238
    },
    "id": "522f2b8e",
    "outputId": "523ad8a2-a155-46eb-82ea-9584af404c27"
   },
   "outputs": [
    {
     "data": {
      "text/html": [
       "\n",
       "  <div id=\"df-1758bc81-6de1-424b-b6f2-094d9ee9f242\">\n",
       "    <div class=\"colab-df-container\">\n",
       "      <div>\n",
       "<style scoped>\n",
       "    .dataframe tbody tr th:only-of-type {\n",
       "        vertical-align: middle;\n",
       "    }\n",
       "\n",
       "    .dataframe tbody tr th {\n",
       "        vertical-align: top;\n",
       "    }\n",
       "\n",
       "    .dataframe thead th {\n",
       "        text-align: right;\n",
       "    }\n",
       "</style>\n",
       "<table border=\"1\" class=\"dataframe\">\n",
       "  <thead>\n",
       "    <tr style=\"text-align: right;\">\n",
       "      <th></th>\n",
       "      <th>CO2_PPM</th>\n",
       "    </tr>\n",
       "    <tr>\n",
       "      <th>time_stamp</th>\n",
       "      <th></th>\n",
       "    </tr>\n",
       "  </thead>\n",
       "  <tbody>\n",
       "    <tr>\n",
       "      <th>1974-05-19</th>\n",
       "      <td>333.37</td>\n",
       "    </tr>\n",
       "    <tr>\n",
       "      <th>1974-05-26</th>\n",
       "      <td>332.95</td>\n",
       "    </tr>\n",
       "    <tr>\n",
       "      <th>1974-06-02</th>\n",
       "      <td>332.35</td>\n",
       "    </tr>\n",
       "    <tr>\n",
       "      <th>1974-06-09</th>\n",
       "      <td>332.20</td>\n",
       "    </tr>\n",
       "    <tr>\n",
       "      <th>1974-06-16</th>\n",
       "      <td>332.37</td>\n",
       "    </tr>\n",
       "  </tbody>\n",
       "</table>\n",
       "</div>\n",
       "      <button class=\"colab-df-convert\" onclick=\"convertToInteractive('df-1758bc81-6de1-424b-b6f2-094d9ee9f242')\"\n",
       "              title=\"Convert this dataframe to an interactive table.\"\n",
       "              style=\"display:none;\">\n",
       "        \n",
       "  <svg xmlns=\"http://www.w3.org/2000/svg\" height=\"24px\"viewBox=\"0 0 24 24\"\n",
       "       width=\"24px\">\n",
       "    <path d=\"M0 0h24v24H0V0z\" fill=\"none\"/>\n",
       "    <path d=\"M18.56 5.44l.94 2.06.94-2.06 2.06-.94-2.06-.94-.94-2.06-.94 2.06-2.06.94zm-11 1L8.5 8.5l.94-2.06 2.06-.94-2.06-.94L8.5 2.5l-.94 2.06-2.06.94zm10 10l.94 2.06.94-2.06 2.06-.94-2.06-.94-.94-2.06-.94 2.06-2.06.94z\"/><path d=\"M17.41 7.96l-1.37-1.37c-.4-.4-.92-.59-1.43-.59-.52 0-1.04.2-1.43.59L10.3 9.45l-7.72 7.72c-.78.78-.78 2.05 0 2.83L4 21.41c.39.39.9.59 1.41.59.51 0 1.02-.2 1.41-.59l7.78-7.78 2.81-2.81c.8-.78.8-2.07 0-2.86zM5.41 20L4 18.59l7.72-7.72 1.47 1.35L5.41 20z\"/>\n",
       "  </svg>\n",
       "      </button>\n",
       "      \n",
       "  <style>\n",
       "    .colab-df-container {\n",
       "      display:flex;\n",
       "      flex-wrap:wrap;\n",
       "      gap: 12px;\n",
       "    }\n",
       "\n",
       "    .colab-df-convert {\n",
       "      background-color: #E8F0FE;\n",
       "      border: none;\n",
       "      border-radius: 50%;\n",
       "      cursor: pointer;\n",
       "      display: none;\n",
       "      fill: #1967D2;\n",
       "      height: 32px;\n",
       "      padding: 0 0 0 0;\n",
       "      width: 32px;\n",
       "    }\n",
       "\n",
       "    .colab-df-convert:hover {\n",
       "      background-color: #E2EBFA;\n",
       "      box-shadow: 0px 1px 2px rgba(60, 64, 67, 0.3), 0px 1px 3px 1px rgba(60, 64, 67, 0.15);\n",
       "      fill: #174EA6;\n",
       "    }\n",
       "\n",
       "    [theme=dark] .colab-df-convert {\n",
       "      background-color: #3B4455;\n",
       "      fill: #D2E3FC;\n",
       "    }\n",
       "\n",
       "    [theme=dark] .colab-df-convert:hover {\n",
       "      background-color: #434B5C;\n",
       "      box-shadow: 0px 1px 3px 1px rgba(0, 0, 0, 0.15);\n",
       "      filter: drop-shadow(0px 1px 2px rgba(0, 0, 0, 0.3));\n",
       "      fill: #FFFFFF;\n",
       "    }\n",
       "  </style>\n",
       "\n",
       "      <script>\n",
       "        const buttonEl =\n",
       "          document.querySelector('#df-1758bc81-6de1-424b-b6f2-094d9ee9f242 button.colab-df-convert');\n",
       "        buttonEl.style.display =\n",
       "          google.colab.kernel.accessAllowed ? 'block' : 'none';\n",
       "\n",
       "        async function convertToInteractive(key) {\n",
       "          const element = document.querySelector('#df-1758bc81-6de1-424b-b6f2-094d9ee9f242');\n",
       "          const dataTable =\n",
       "            await google.colab.kernel.invokeFunction('convertToInteractive',\n",
       "                                                     [key], {});\n",
       "          if (!dataTable) return;\n",
       "\n",
       "          const docLinkHtml = 'Like what you see? Visit the ' +\n",
       "            '<a target=\"_blank\" href=https://colab.research.google.com/notebooks/data_table.ipynb>data table notebook</a>'\n",
       "            + ' to learn more about interactive tables.';\n",
       "          element.innerHTML = '';\n",
       "          dataTable['output_type'] = 'display_data';\n",
       "          await google.colab.output.renderOutput(dataTable, element);\n",
       "          const docLink = document.createElement('div');\n",
       "          docLink.innerHTML = docLinkHtml;\n",
       "          element.appendChild(docLink);\n",
       "        }\n",
       "      </script>\n",
       "    </div>\n",
       "  </div>\n",
       "  "
      ],
      "text/plain": [
       "            CO2_PPM\n",
       "time_stamp         \n",
       "1974-05-19   333.37\n",
       "1974-05-26   332.95\n",
       "1974-06-02   332.35\n",
       "1974-06-09   332.20\n",
       "1974-06-16   332.37"
      ]
     },
     "execution_count": 12,
     "metadata": {},
     "output_type": "execute_result"
    }
   ],
   "source": [
    "df.head()"
   ]
  },
  {
   "cell_type": "code",
   "execution_count": 13,
   "id": "7N0Xc0zT5atx",
   "metadata": {
    "colab": {
     "base_uri": "https://localhost:8080/",
     "height": 238
    },
    "id": "7N0Xc0zT5atx",
    "outputId": "14c8bebe-4377-42f6-bade-38a5b73e0c73"
   },
   "outputs": [
    {
     "data": {
      "text/html": [
       "\n",
       "  <div id=\"df-cdc0bf0b-4859-47d4-aa8b-35fff9fa2dc7\">\n",
       "    <div class=\"colab-df-container\">\n",
       "      <div>\n",
       "<style scoped>\n",
       "    .dataframe tbody tr th:only-of-type {\n",
       "        vertical-align: middle;\n",
       "    }\n",
       "\n",
       "    .dataframe tbody tr th {\n",
       "        vertical-align: top;\n",
       "    }\n",
       "\n",
       "    .dataframe thead th {\n",
       "        text-align: right;\n",
       "    }\n",
       "</style>\n",
       "<table border=\"1\" class=\"dataframe\">\n",
       "  <thead>\n",
       "    <tr style=\"text-align: right;\">\n",
       "      <th></th>\n",
       "      <th>CO2_PPM</th>\n",
       "    </tr>\n",
       "    <tr>\n",
       "      <th>time_stamp</th>\n",
       "      <th></th>\n",
       "    </tr>\n",
       "  </thead>\n",
       "  <tbody>\n",
       "    <tr>\n",
       "      <th>2021-10-03</th>\n",
       "      <td>413.63</td>\n",
       "    </tr>\n",
       "    <tr>\n",
       "      <th>2021-10-10</th>\n",
       "      <td>413.89</td>\n",
       "    </tr>\n",
       "    <tr>\n",
       "      <th>2021-10-17</th>\n",
       "      <td>414.36</td>\n",
       "    </tr>\n",
       "    <tr>\n",
       "      <th>2021-10-24</th>\n",
       "      <td>413.90</td>\n",
       "    </tr>\n",
       "    <tr>\n",
       "      <th>2021-10-31</th>\n",
       "      <td>414.17</td>\n",
       "    </tr>\n",
       "  </tbody>\n",
       "</table>\n",
       "</div>\n",
       "      <button class=\"colab-df-convert\" onclick=\"convertToInteractive('df-cdc0bf0b-4859-47d4-aa8b-35fff9fa2dc7')\"\n",
       "              title=\"Convert this dataframe to an interactive table.\"\n",
       "              style=\"display:none;\">\n",
       "        \n",
       "  <svg xmlns=\"http://www.w3.org/2000/svg\" height=\"24px\"viewBox=\"0 0 24 24\"\n",
       "       width=\"24px\">\n",
       "    <path d=\"M0 0h24v24H0V0z\" fill=\"none\"/>\n",
       "    <path d=\"M18.56 5.44l.94 2.06.94-2.06 2.06-.94-2.06-.94-.94-2.06-.94 2.06-2.06.94zm-11 1L8.5 8.5l.94-2.06 2.06-.94-2.06-.94L8.5 2.5l-.94 2.06-2.06.94zm10 10l.94 2.06.94-2.06 2.06-.94-2.06-.94-.94-2.06-.94 2.06-2.06.94z\"/><path d=\"M17.41 7.96l-1.37-1.37c-.4-.4-.92-.59-1.43-.59-.52 0-1.04.2-1.43.59L10.3 9.45l-7.72 7.72c-.78.78-.78 2.05 0 2.83L4 21.41c.39.39.9.59 1.41.59.51 0 1.02-.2 1.41-.59l7.78-7.78 2.81-2.81c.8-.78.8-2.07 0-2.86zM5.41 20L4 18.59l7.72-7.72 1.47 1.35L5.41 20z\"/>\n",
       "  </svg>\n",
       "      </button>\n",
       "      \n",
       "  <style>\n",
       "    .colab-df-container {\n",
       "      display:flex;\n",
       "      flex-wrap:wrap;\n",
       "      gap: 12px;\n",
       "    }\n",
       "\n",
       "    .colab-df-convert {\n",
       "      background-color: #E8F0FE;\n",
       "      border: none;\n",
       "      border-radius: 50%;\n",
       "      cursor: pointer;\n",
       "      display: none;\n",
       "      fill: #1967D2;\n",
       "      height: 32px;\n",
       "      padding: 0 0 0 0;\n",
       "      width: 32px;\n",
       "    }\n",
       "\n",
       "    .colab-df-convert:hover {\n",
       "      background-color: #E2EBFA;\n",
       "      box-shadow: 0px 1px 2px rgba(60, 64, 67, 0.3), 0px 1px 3px 1px rgba(60, 64, 67, 0.15);\n",
       "      fill: #174EA6;\n",
       "    }\n",
       "\n",
       "    [theme=dark] .colab-df-convert {\n",
       "      background-color: #3B4455;\n",
       "      fill: #D2E3FC;\n",
       "    }\n",
       "\n",
       "    [theme=dark] .colab-df-convert:hover {\n",
       "      background-color: #434B5C;\n",
       "      box-shadow: 0px 1px 3px 1px rgba(0, 0, 0, 0.15);\n",
       "      filter: drop-shadow(0px 1px 2px rgba(0, 0, 0, 0.3));\n",
       "      fill: #FFFFFF;\n",
       "    }\n",
       "  </style>\n",
       "\n",
       "      <script>\n",
       "        const buttonEl =\n",
       "          document.querySelector('#df-cdc0bf0b-4859-47d4-aa8b-35fff9fa2dc7 button.colab-df-convert');\n",
       "        buttonEl.style.display =\n",
       "          google.colab.kernel.accessAllowed ? 'block' : 'none';\n",
       "\n",
       "        async function convertToInteractive(key) {\n",
       "          const element = document.querySelector('#df-cdc0bf0b-4859-47d4-aa8b-35fff9fa2dc7');\n",
       "          const dataTable =\n",
       "            await google.colab.kernel.invokeFunction('convertToInteractive',\n",
       "                                                     [key], {});\n",
       "          if (!dataTable) return;\n",
       "\n",
       "          const docLinkHtml = 'Like what you see? Visit the ' +\n",
       "            '<a target=\"_blank\" href=https://colab.research.google.com/notebooks/data_table.ipynb>data table notebook</a>'\n",
       "            + ' to learn more about interactive tables.';\n",
       "          element.innerHTML = '';\n",
       "          dataTable['output_type'] = 'display_data';\n",
       "          await google.colab.output.renderOutput(dataTable, element);\n",
       "          const docLink = document.createElement('div');\n",
       "          docLink.innerHTML = docLinkHtml;\n",
       "          element.appendChild(docLink);\n",
       "        }\n",
       "      </script>\n",
       "    </div>\n",
       "  </div>\n",
       "  "
      ],
      "text/plain": [
       "            CO2_PPM\n",
       "time_stamp         \n",
       "2021-10-03   413.63\n",
       "2021-10-10   413.89\n",
       "2021-10-17   414.36\n",
       "2021-10-24   413.90\n",
       "2021-10-31   414.17"
      ]
     },
     "execution_count": 13,
     "metadata": {},
     "output_type": "execute_result"
    }
   ],
   "source": [
    "df.tail()"
   ]
  },
  {
   "cell_type": "code",
   "execution_count": 14,
   "id": "bQk15MFgouDq",
   "metadata": {
    "id": "bQk15MFgouDq"
   },
   "outputs": [],
   "source": [
    "plt.rcParams['figure.figsize'] = [15,8]"
   ]
  },
  {
   "cell_type": "code",
   "execution_count": 15,
   "id": "3b098ae2",
   "metadata": {
    "colab": {
     "base_uri": "https://localhost:8080/",
     "height": 523
    },
    "id": "3b098ae2",
    "outputId": "ca6e5439-0c68-43aa-cbf2-8a61ac2cafc4"
   },
   "outputs": [
    {
     "data": {
      "image/png": "[encoded data removed]",
      "text/plain": [
       "<Figure size 1080x576 with 1 Axes>"
      ]
     },
     "metadata": {
      "needs_background": "light"
     },
     "output_type": "display_data"
    }
   ],
   "source": [
    "plt.plot(df,color='green')\n",
    "plt.title('Weekly C02 Emission From Mauna Loa',fontsize=20)\n",
    "plt.xlabel('Date',fontsize=15)\n",
    "plt.ylabel('Units',fontsize=15)\n",
    "plt.show()"
   ]
  },
  {
   "cell_type": "code",
   "execution_count": 16,
   "id": "bf59d3e0",
   "metadata": {
    "id": "bf59d3e0"
   },
   "outputs": [],
   "source": [
    "def convert2matrix(data_arr, look_back):\n",
    "    X, Y =[], []\n",
    "    for i in range(len(data_arr)-look_back):\n",
    "        d=i+look_back  \n",
    "        X.append(data_arr[i:d,0])\n",
    "        Y.append(data_arr[d,0])\n",
    "    return np.array(X), np.array(Y)"
   ]
  },
  {
   "cell_type": "code",
   "execution_count": 49,
   "id": "5CBL1GHqurmE",
   "metadata": {
    "id": "5CBL1GHqurmE"
   },
   "outputs": [],
   "source": [
    "from sklearn.preprocessing import MinMaxScaler\n",
    "#create numpy.ndarray \n",
    "df['CO2_PPM'] = df['CO2_PPM'].astype(np.float32)\n",
    "df_arr = df.values\n",
    "df_arr = np.reshape(df_arr, (-1, 1))\n",
    "scaler = MinMaxScaler(feature_range=(0.1, 1))\n",
    "df_arr = scaler.fit_transform(df_arr)"
   ]
  },
  {
   "cell_type": "code",
   "execution_count": 50,
   "id": "1cea6c5f",
   "metadata": {
    "id": "1cea6c5f"
   },
   "outputs": [],
   "source": [
    "#Split data set into testing dataset and train dataset\n",
    "train_size = 2230\n",
    "train, test =df_arr[0:train_size,:], df_arr[train_size:len(df_arr),:]\n",
    "# setup look_back window \n",
    "look_back = 5\n",
    "#convert dataset into right shape in order to input into the DNN\n",
    "trainX, trainY = convert2matrix(train, look_back)\n",
    "testX, testY = convert2matrix(test, look_back)\n",
    "trainX = np.reshape(trainX, (trainX.shape[0], 1, trainX.shape[1]))\n",
    "testX = np.reshape(testX, (testX.shape[0], 1, testX.shape[1]))"
   ]
  },
  {
   "cell_type": "code",
   "execution_count": 25,
   "id": "c7d46c39",
   "metadata": {
    "colab": {
     "base_uri": "https://localhost:8080/"
    },
    "id": "c7d46c39",
    "outputId": "f36cbbf3-a0aa-44c4-96c0-75cdf3465052"
   },
   "outputs": [
    {
     "name": "stdout",
     "output_type": "stream",
     "text": [
      "(2225, 1, 5)\n",
      "(2225,)\n",
      "(242, 1, 5)\n",
      "(242,)\n"
     ]
    }
   ],
   "source": [
    "print(trainX.shape)\n",
    "print(trainY.shape)\n",
    "print(testX.shape)\n",
    "print(testY.shape)"
   ]
  },
  {
   "cell_type": "code",
   "execution_count": 26,
   "id": "GIc1nRcCuP3G",
   "metadata": {
    "colab": {
     "base_uri": "https://localhost:8080/"
    },
    "id": "GIc1nRcCuP3G",
    "outputId": "e9669637-865c-48c6-892a-ec3e572550ff"
   },
   "outputs": [
    {
     "name": "stdout",
     "output_type": "stream",
     "text": [
      "\u001b[?25l\r",
      "\u001b[K     |███▍                            | 10 kB 28.1 MB/s eta 0:00:01\r",
      "\u001b[K     |██████▊                         | 20 kB 29.3 MB/s eta 0:00:01\r",
      "\u001b[K     |██████████                      | 30 kB 33.7 MB/s eta 0:00:01\r",
      "\u001b[K     |█████████████▍                  | 40 kB 37.9 MB/s eta 0:00:01\r",
      "\u001b[K     |████████████████▊               | 51 kB 41.7 MB/s eta 0:00:01\r",
      "\u001b[K     |████████████████████            | 61 kB 30.7 MB/s eta 0:00:01\r",
      "\u001b[K     |███████████████████████▍        | 71 kB 27.7 MB/s eta 0:00:01\r",
      "\u001b[K     |██████████████████████████▊     | 81 kB 28.2 MB/s eta 0:00:01\r",
      "\u001b[K     |██████████████████████████████  | 92 kB 26.6 MB/s eta 0:00:01\r",
      "\u001b[K     |████████████████████████████████| 98 kB 5.9 MB/s \n",
      "\u001b[?25h"
     ]
    }
   ],
   "source": [
    "!pip install -q -U keras-tuner"
   ]
  },
  {
   "cell_type": "code",
   "execution_count": 28,
   "id": "M5te5ih0uP6u",
   "metadata": {
    "id": "M5te5ih0uP6u"
   },
   "outputs": [],
   "source": [
    "import pandas as pd\n",
    "from tensorflow import keras\n",
    "from tensorflow.keras import layers\n",
    "from keras_tuner.tuners import RandomSearch\n",
    "from tensorflow.keras.models import Sequential\n",
    "from tensorflow.keras.layers import LSTM\n",
    "from tensorflow.keras.layers import Dense,Dropout,SimpleRNN\n",
    "from tensorflow.keras.layers import Flatten\n",
    "import matplotlib.pyplot as plt"
   ]
  },
  {
   "cell_type": "code",
   "execution_count": 30,
   "id": "rYiJC5hXuP_e",
   "metadata": {
    "id": "rYiJC5hXuP_e"
   },
   "outputs": [],
   "source": [
    "def build_model(hp):\n",
    "    model = keras.Sequential()\n",
    "    model.add(SimpleRNN(hp.Int('rnn_layer',min_value=4,max_value=96,step=4), activation=\"relu\",input_shape=(1,look_back),recurrent_dropout = hp.Choice(\"first_recurrent_dropout\",[0.1,0.2,0.3],default=0.2)))\n",
    "    model.add(Dense(hp.Int('dense_layer',min_value=4,max_value=96,step=4),activation=\"relu\"))\n",
    "    model.add(Dropout(hp.Float('Dropout_rate',min_value=0,max_value=0.5,step=0.1)))\n",
    "    model.add(layers.Dense(1, activation='linear'))\n",
    "    model.compile(\n",
    "        optimizer=keras.optimizers.Adam(\n",
    "             hp.Float('learning_rate', min_value=1e-4, max_value=1e-1, sampling=\"log\")),\n",
    "        loss='mape',\n",
    "        metrics=['mape'])\n",
    "    return model"
   ]
  },
  {
   "cell_type": "code",
   "execution_count": 31,
   "id": "2h_gRerjuQCT",
   "metadata": {
    "id": "2h_gRerjuQCT"
   },
   "outputs": [],
   "source": [
    "tuner = RandomSearch(\n",
    "    build_model,\n",
    "    objective='val_mape',\n",
    "    max_trials=10,\n",
    "    executions_per_trial=1,\n",
    "    directory='project',\n",
    "    project_name='loa_em_1')"
   ]
  },
  {
   "cell_type": "code",
   "execution_count": 32,
   "id": "Dg5AHN3guQFu",
   "metadata": {
    "colab": {
     "base_uri": "https://localhost:8080/"
    },
    "id": "Dg5AHN3guQFu",
    "outputId": "725f6629-fe86-4865-b4f3-fedda47924ff"
   },
   "outputs": [
    {
     "name": "stdout",
     "output_type": "stream",
     "text": [
      "Search space summary\n",
      "Default search space size: 5\n",
      "rnn_layer (Int)\n",
      "{'default': None, 'conditions': [], 'min_value': 4, 'max_value': 96, 'step': 4, 'sampling': None}\n",
      "first_recurrent_dropout (Choice)\n",
      "{'default': 0.2, 'conditions': [], 'values': [0.1, 0.2, 0.3], 'ordered': True}\n",
      "dense_layer (Int)\n",
      "{'default': None, 'conditions': [], 'min_value': 4, 'max_value': 96, 'step': 4, 'sampling': None}\n",
      "Dropout_rate (Float)\n",
      "{'default': 0.0, 'conditions': [], 'min_value': 0.0, 'max_value': 0.5, 'step': 0.1, 'sampling': None}\n",
      "learning_rate (Float)\n",
      "{'default': 0.0001, 'conditions': [], 'min_value': 0.0001, 'max_value': 0.1, 'step': None, 'sampling': 'log'}\n"
     ]
    }
   ],
   "source": [
    "tuner.search_space_summary()"
   ]
  },
  {
   "cell_type": "code",
   "execution_count": 33,
   "id": "TiBXdF0K8Gpr",
   "metadata": {
    "colab": {
     "base_uri": "https://localhost:8080/"
    },
    "id": "TiBXdF0K8Gpr",
    "outputId": "60b8f9d5-c255-4cfd-f8e5-e20ade59ee74"
   },
   "outputs": [
    {
     "name": "stdout",
     "output_type": "stream",
     "text": [
      "Trial 10 Complete [00h 00m 42s]\n",
      "val_mape: 0.4720008075237274\n",
      "\n",
      "Best val_mape So Far: 0.4720008075237274\n",
      "Total elapsed time: 00h 08m 31s\n",
      "INFO:tensorflow:Oracle triggered exit\n"
     ]
    }
   ],
   "source": [
    "tuner.search(trainX, trainY,\n",
    "             epochs=200,\n",
    "             batch_size=33,\n",
    "             validation_data=(testX, testY))"
   ]
  },
  {
   "cell_type": "code",
   "execution_count": 34,
   "id": "VXXGH_RK8GsD",
   "metadata": {
    "colab": {
     "base_uri": "https://localhost:8080/"
    },
    "id": "VXXGH_RK8GsD",
    "outputId": "002f9486-7d19-4512-dda5-734cf063cb16"
   },
   "outputs": [
    {
     "name": "stdout",
     "output_type": "stream",
     "text": [
      "Results summary\n",
      "Results in project/loa_em_1\n",
      "Showing 10 best trials\n",
      "Objective(name='val_mape', direction='min')\n",
      "Trial summary\n",
      "Hyperparameters:\n",
      "rnn_layer: 32\n",
      "first_recurrent_dropout: 0.1\n",
      "dense_layer: 16\n",
      "Dropout_rate: 0.0\n",
      "learning_rate: 0.0032626007343494624\n",
      "Score: 0.4720008075237274\n",
      "Trial summary\n",
      "Hyperparameters:\n",
      "rnn_layer: 80\n",
      "first_recurrent_dropout: 0.2\n",
      "dense_layer: 32\n",
      "Dropout_rate: 0.30000000000000004\n",
      "learning_rate: 0.04833503716670173\n",
      "Score: 0.4786186218261719\n",
      "Trial summary\n",
      "Hyperparameters:\n",
      "rnn_layer: 80\n",
      "first_recurrent_dropout: 0.1\n",
      "dense_layer: 52\n",
      "Dropout_rate: 0.2\n",
      "learning_rate: 0.03029533978936301\n",
      "Score: 0.4942636489868164\n",
      "Trial summary\n",
      "Hyperparameters:\n",
      "rnn_layer: 84\n",
      "first_recurrent_dropout: 0.1\n",
      "dense_layer: 80\n",
      "Dropout_rate: 0.30000000000000004\n",
      "learning_rate: 0.010604459766301734\n",
      "Score: 0.49488842487335205\n",
      "Trial summary\n",
      "Hyperparameters:\n",
      "rnn_layer: 40\n",
      "first_recurrent_dropout: 0.1\n",
      "dense_layer: 80\n",
      "Dropout_rate: 0.1\n",
      "learning_rate: 0.005212802935732381\n",
      "Score: 0.49581480026245117\n",
      "Trial summary\n",
      "Hyperparameters:\n",
      "rnn_layer: 60\n",
      "first_recurrent_dropout: 0.2\n",
      "dense_layer: 88\n",
      "Dropout_rate: 0.30000000000000004\n",
      "learning_rate: 0.0002024386997309907\n",
      "Score: 0.5122365951538086\n",
      "Trial summary\n",
      "Hyperparameters:\n",
      "rnn_layer: 8\n",
      "first_recurrent_dropout: 0.2\n",
      "dense_layer: 24\n",
      "Dropout_rate: 0.2\n",
      "learning_rate: 0.007570940045780223\n",
      "Score: 0.5302566885948181\n",
      "Trial summary\n",
      "Hyperparameters:\n",
      "rnn_layer: 40\n",
      "first_recurrent_dropout: 0.2\n",
      "dense_layer: 80\n",
      "Dropout_rate: 0.4\n",
      "learning_rate: 0.00012504906299234925\n",
      "Score: 0.6027926206588745\n",
      "Trial summary\n",
      "Hyperparameters:\n",
      "rnn_layer: 20\n",
      "first_recurrent_dropout: 0.2\n",
      "dense_layer: 24\n",
      "Dropout_rate: 0.4\n",
      "learning_rate: 0.0012527956279272613\n",
      "Score: 0.605655312538147\n",
      "Trial summary\n",
      "Hyperparameters:\n",
      "rnn_layer: 36\n",
      "first_recurrent_dropout: 0.2\n",
      "dense_layer: 12\n",
      "Dropout_rate: 0.4\n",
      "learning_rate: 0.002036384672388979\n",
      "Score: 4.321458339691162\n"
     ]
    }
   ],
   "source": [
    "tuner.results_summary()"
   ]
  },
  {
   "cell_type": "code",
   "execution_count": 35,
   "id": "FBpLenJ_DZMX",
   "metadata": {
    "id": "FBpLenJ_DZMX"
   },
   "outputs": [],
   "source": [
    "from warnings import filterwarnings\n",
    "filterwarnings('ignore')"
   ]
  },
  {
   "cell_type": "code",
   "execution_count": 36,
   "id": "eL-a8rAv8Gvg",
   "metadata": {
    "colab": {
     "base_uri": "https://localhost:8080/"
    },
    "id": "eL-a8rAv8Gvg",
    "outputId": "788d946a-cf14-4d3e-bb9a-9d3070501d72"
   },
   "outputs": [
    {
     "name": "stdout",
     "output_type": "stream",
     "text": [
      "Model: \"sequential\"\n",
      "_________________________________________________________________\n",
      " Layer (type)                Output Shape              Param #   \n",
      "=================================================================\n",
      " simple_rnn (SimpleRNN)      (None, 32)                1216      \n",
      "                                                                 \n",
      " dense (Dense)               (None, 16)                528       \n",
      "                                                                 \n",
      " dropout (Dropout)           (None, 16)                0         \n",
      "                                                                 \n",
      " dense_1 (Dense)             (None, 1)                 17        \n",
      "                                                                 \n",
      "=================================================================\n",
      "Total params: 1,761\n",
      "Trainable params: 1,761\n",
      "Non-trainable params: 0\n",
      "_________________________________________________________________\n"
     ]
    }
   ],
   "source": [
    "models = tuner.get_best_models(num_models=2)\n",
    "best_model = models[0]\n",
    "# Build the model.\n",
    "# Needed for `Sequential` without specified `input_shape`.\n",
    "best_model.build(input_shape=(None, 5))\n",
    "best_model.summary()"
   ]
  },
  {
   "cell_type": "code",
   "execution_count": 37,
   "id": "ovKDjDHZEmLV",
   "metadata": {
    "id": "ovKDjDHZEmLV"
   },
   "outputs": [],
   "source": [
    "from tensorflow.keras import optimizers\n",
    "from tensorflow.keras.callbacks import EarlyStopping"
   ]
  },
  {
   "cell_type": "code",
   "execution_count": 51,
   "id": "0e187ddc",
   "metadata": {
    "colab": {
     "base_uri": "https://localhost:8080/"
    },
    "id": "0e187ddc",
    "outputId": "f08ade93-f986-4431-df37-775e526f6c07"
   },
   "outputs": [
    {
     "name": "stdout",
     "output_type": "stream",
     "text": [
      "Epoch 1/200\n",
      "68/68 [==============================] - 3s 10ms/step - loss: 24.1646 - mape: 24.1646 - val_loss: 6.8459 - val_mape: 6.8459\n",
      "Epoch 2/200\n",
      "68/68 [==============================] - 0s 5ms/step - loss: 4.5988 - mape: 4.5988 - val_loss: 1.2564 - val_mape: 1.2564\n",
      "Epoch 3/200\n",
      "68/68 [==============================] - 0s 5ms/step - loss: 2.3968 - mape: 2.3968 - val_loss: 0.9832 - val_mape: 0.9832\n",
      "Epoch 4/200\n",
      "68/68 [==============================] - 0s 4ms/step - loss: 2.2768 - mape: 2.2768 - val_loss: 1.0761 - val_mape: 1.0761\n",
      "Epoch 5/200\n",
      "68/68 [==============================] - 0s 5ms/step - loss: 2.2062 - mape: 2.2062 - val_loss: 0.9113 - val_mape: 0.9113\n",
      "Epoch 6/200\n",
      "68/68 [==============================] - 0s 5ms/step - loss: 2.1336 - mape: 2.1336 - val_loss: 0.8942 - val_mape: 0.8942\n",
      "Epoch 7/200\n",
      "68/68 [==============================] - 0s 5ms/step - loss: 2.1150 - mape: 2.1150 - val_loss: 0.8609 - val_mape: 0.8609\n",
      "Epoch 8/200\n",
      "68/68 [==============================] - 0s 5ms/step - loss: 2.0329 - mape: 2.0329 - val_loss: 0.8434 - val_mape: 0.8434\n",
      "Epoch 9/200\n",
      "68/68 [==============================] - 0s 6ms/step - loss: 1.9998 - mape: 1.9998 - val_loss: 0.8258 - val_mape: 0.8258\n",
      "Epoch 10/200\n",
      "68/68 [==============================] - 0s 5ms/step - loss: 1.9289 - mape: 1.9289 - val_loss: 0.9470 - val_mape: 0.9470\n",
      "Epoch 11/200\n",
      "68/68 [==============================] - 0s 5ms/step - loss: 1.8722 - mape: 1.8722 - val_loss: 0.7829 - val_mape: 0.7829\n",
      "Epoch 12/200\n",
      "68/68 [==============================] - 0s 5ms/step - loss: 1.8204 - mape: 1.8204 - val_loss: 0.8533 - val_mape: 0.8533\n",
      "Epoch 13/200\n",
      "68/68 [==============================] - 0s 5ms/step - loss: 1.8048 - mape: 1.8048 - val_loss: 0.8335 - val_mape: 0.8335\n",
      "Epoch 14/200\n",
      "68/68 [==============================] - 0s 5ms/step - loss: 1.7145 - mape: 1.7145 - val_loss: 0.7204 - val_mape: 0.7204\n",
      "Epoch 15/200\n",
      "68/68 [==============================] - 0s 5ms/step - loss: 1.6892 - mape: 1.6892 - val_loss: 0.7211 - val_mape: 0.7211\n",
      "Epoch 16/200\n",
      "68/68 [==============================] - 0s 4ms/step - loss: 1.6617 - mape: 1.6617 - val_loss: 0.8334 - val_mape: 0.8334\n",
      "Epoch 17/200\n",
      "68/68 [==============================] - 0s 5ms/step - loss: 1.5876 - mape: 1.5876 - val_loss: 0.6694 - val_mape: 0.6694\n",
      "Epoch 18/200\n",
      "68/68 [==============================] - 0s 3ms/step - loss: 1.5741 - mape: 1.5741 - val_loss: 0.7144 - val_mape: 0.7144\n",
      "Epoch 19/200\n",
      "68/68 [==============================] - 0s 3ms/step - loss: 1.6392 - mape: 1.6392 - val_loss: 1.0894 - val_mape: 1.0894\n",
      "Epoch 20/200\n",
      "68/68 [==============================] - 0s 3ms/step - loss: 1.5343 - mape: 1.5343 - val_loss: 0.6299 - val_mape: 0.6299\n",
      "Epoch 21/200\n",
      "68/68 [==============================] - 0s 3ms/step - loss: 1.4834 - mape: 1.4834 - val_loss: 0.7761 - val_mape: 0.7761\n",
      "Epoch 22/200\n",
      "68/68 [==============================] - 0s 3ms/step - loss: 1.4714 - mape: 1.4714 - val_loss: 0.6069 - val_mape: 0.6069\n",
      "Epoch 23/200\n",
      "68/68 [==============================] - 0s 3ms/step - loss: 1.4017 - mape: 1.4017 - val_loss: 0.5996 - val_mape: 0.5996\n",
      "Epoch 24/200\n",
      "68/68 [==============================] - 0s 3ms/step - loss: 1.4061 - mape: 1.4061 - val_loss: 0.7094 - val_mape: 0.7094\n",
      "Epoch 25/200\n",
      "68/68 [==============================] - 0s 2ms/step - loss: 1.3592 - mape: 1.3592 - val_loss: 0.6258 - val_mape: 0.6258\n",
      "Epoch 26/200\n",
      "68/68 [==============================] - 0s 3ms/step - loss: 1.4174 - mape: 1.4174 - val_loss: 0.5947 - val_mape: 0.5947\n",
      "Epoch 27/200\n",
      "68/68 [==============================] - 0s 2ms/step - loss: 1.3684 - mape: 1.3684 - val_loss: 0.6203 - val_mape: 0.6203\n",
      "Epoch 28/200\n",
      "68/68 [==============================] - 0s 3ms/step - loss: 1.3227 - mape: 1.3227 - val_loss: 0.8181 - val_mape: 0.8181\n",
      "Epoch 29/200\n",
      "68/68 [==============================] - 0s 3ms/step - loss: 1.3138 - mape: 1.3138 - val_loss: 0.5537 - val_mape: 0.5537\n",
      "Epoch 30/200\n",
      "68/68 [==============================] - 0s 3ms/step - loss: 1.2722 - mape: 1.2722 - val_loss: 0.6584 - val_mape: 0.6584\n",
      "Epoch 31/200\n",
      "68/68 [==============================] - 0s 2ms/step - loss: 1.3207 - mape: 1.3207 - val_loss: 0.5548 - val_mape: 0.5548\n",
      "Epoch 32/200\n",
      "68/68 [==============================] - 0s 3ms/step - loss: 1.2491 - mape: 1.2491 - val_loss: 0.5533 - val_mape: 0.5533\n",
      "Epoch 33/200\n",
      "68/68 [==============================] - 0s 3ms/step - loss: 1.2302 - mape: 1.2302 - val_loss: 0.6129 - val_mape: 0.6129\n",
      "Epoch 34/200\n",
      "68/68 [==============================] - 0s 3ms/step - loss: 1.2356 - mape: 1.2356 - val_loss: 0.5256 - val_mape: 0.5256\n",
      "Epoch 35/200\n",
      "68/68 [==============================] - 0s 3ms/step - loss: 1.2091 - mape: 1.2091 - val_loss: 0.5504 - val_mape: 0.5504\n",
      "Epoch 36/200\n",
      "68/68 [==============================] - 0s 2ms/step - loss: 1.1937 - mape: 1.1937 - val_loss: 0.5320 - val_mape: 0.5320\n",
      "Epoch 37/200\n",
      "68/68 [==============================] - 0s 2ms/step - loss: 1.2076 - mape: 1.2076 - val_loss: 0.5213 - val_mape: 0.5213\n",
      "Epoch 38/200\n",
      "68/68 [==============================] - 0s 3ms/step - loss: 1.2678 - mape: 1.2678 - val_loss: 0.5079 - val_mape: 0.5079\n",
      "Epoch 39/200\n",
      "68/68 [==============================] - 0s 3ms/step - loss: 1.2233 - mape: 1.2233 - val_loss: 0.5079 - val_mape: 0.5079\n",
      "Epoch 40/200\n",
      "68/68 [==============================] - 0s 3ms/step - loss: 1.2040 - mape: 1.2040 - val_loss: 0.8673 - val_mape: 0.8673\n",
      "Epoch 41/200\n",
      "68/68 [==============================] - 0s 3ms/step - loss: 1.1959 - mape: 1.1959 - val_loss: 0.5170 - val_mape: 0.5170\n",
      "Epoch 42/200\n",
      "68/68 [==============================] - 0s 3ms/step - loss: 1.1736 - mape: 1.1736 - val_loss: 0.6848 - val_mape: 0.6848\n",
      "Epoch 43/200\n",
      "68/68 [==============================] - 0s 2ms/step - loss: 1.1762 - mape: 1.1762 - val_loss: 0.5384 - val_mape: 0.5384\n",
      "Epoch 44/200\n",
      "68/68 [==============================] - 0s 3ms/step - loss: 1.1747 - mape: 1.1747 - val_loss: 0.5077 - val_mape: 0.5077\n",
      "Epoch 45/200\n",
      "68/68 [==============================] - 0s 2ms/step - loss: 1.1865 - mape: 1.1865 - val_loss: 0.5964 - val_mape: 0.5964\n",
      "Epoch 46/200\n",
      "68/68 [==============================] - 0s 3ms/step - loss: 1.1708 - mape: 1.1708 - val_loss: 0.6699 - val_mape: 0.6699\n",
      "Epoch 47/200\n",
      "68/68 [==============================] - 0s 3ms/step - loss: 1.2090 - mape: 1.2090 - val_loss: 0.7044 - val_mape: 0.7044\n",
      "Epoch 48/200\n",
      "68/68 [==============================] - 0s 2ms/step - loss: 1.1478 - mape: 1.1478 - val_loss: 0.4849 - val_mape: 0.4849\n",
      "Epoch 49/200\n",
      "68/68 [==============================] - 0s 3ms/step - loss: 1.1701 - mape: 1.1701 - val_loss: 0.6544 - val_mape: 0.6544\n",
      "Epoch 50/200\n",
      "68/68 [==============================] - 0s 3ms/step - loss: 1.2401 - mape: 1.2401 - val_loss: 0.4896 - val_mape: 0.4896\n",
      "Epoch 51/200\n",
      "68/68 [==============================] - 0s 3ms/step - loss: 1.2246 - mape: 1.2246 - val_loss: 0.5508 - val_mape: 0.5508\n",
      "Epoch 52/200\n",
      "68/68 [==============================] - 0s 3ms/step - loss: 1.1928 - mape: 1.1928 - val_loss: 0.6185 - val_mape: 0.6185\n",
      "Epoch 53/200\n",
      "68/68 [==============================] - 0s 3ms/step - loss: 1.1781 - mape: 1.1781 - val_loss: 0.4829 - val_mape: 0.4829\n",
      "Epoch 54/200\n",
      "68/68 [==============================] - 0s 2ms/step - loss: 1.1352 - mape: 1.1352 - val_loss: 0.5857 - val_mape: 0.5857\n",
      "Epoch 55/200\n",
      "68/68 [==============================] - 0s 2ms/step - loss: 1.1340 - mape: 1.1340 - val_loss: 0.5712 - val_mape: 0.5712\n",
      "Epoch 56/200\n",
      "68/68 [==============================] - 0s 3ms/step - loss: 1.1810 - mape: 1.1810 - val_loss: 0.5059 - val_mape: 0.5059\n",
      "Epoch 57/200\n",
      "68/68 [==============================] - 0s 3ms/step - loss: 1.1373 - mape: 1.1373 - val_loss: 0.4814 - val_mape: 0.4814\n",
      "Epoch 58/200\n",
      "68/68 [==============================] - 0s 3ms/step - loss: 1.1224 - mape: 1.1224 - val_loss: 0.5042 - val_mape: 0.5042\n",
      "Epoch 59/200\n",
      "68/68 [==============================] - 0s 2ms/step - loss: 1.1753 - mape: 1.1753 - val_loss: 0.7532 - val_mape: 0.7532\n",
      "Epoch 60/200\n",
      "68/68 [==============================] - 0s 3ms/step - loss: 1.1941 - mape: 1.1941 - val_loss: 0.4802 - val_mape: 0.4802\n",
      "Epoch 61/200\n",
      "68/68 [==============================] - 0s 3ms/step - loss: 1.1494 - mape: 1.1494 - val_loss: 0.4748 - val_mape: 0.4748\n",
      "Epoch 62/200\n",
      "68/68 [==============================] - 0s 3ms/step - loss: 1.1476 - mape: 1.1476 - val_loss: 0.5323 - val_mape: 0.5323\n",
      "Epoch 63/200\n",
      "68/68 [==============================] - 0s 3ms/step - loss: 1.1592 - mape: 1.1592 - val_loss: 0.4951 - val_mape: 0.4951\n",
      "Epoch 64/200\n",
      "68/68 [==============================] - 0s 3ms/step - loss: 1.1381 - mape: 1.1381 - val_loss: 0.4885 - val_mape: 0.4885\n",
      "Epoch 65/200\n",
      "68/68 [==============================] - 0s 3ms/step - loss: 1.1502 - mape: 1.1502 - val_loss: 0.4800 - val_mape: 0.4800\n",
      "Epoch 66/200\n",
      "68/68 [==============================] - 0s 3ms/step - loss: 1.1269 - mape: 1.1269 - val_loss: 0.4832 - val_mape: 0.4832\n",
      "Epoch 67/200\n",
      "68/68 [==============================] - 0s 3ms/step - loss: 1.1758 - mape: 1.1758 - val_loss: 0.5074 - val_mape: 0.5074\n",
      "Epoch 68/200\n",
      "68/68 [==============================] - 0s 3ms/step - loss: 1.1441 - mape: 1.1441 - val_loss: 0.4816 - val_mape: 0.4816\n",
      "Epoch 69/200\n",
      "68/68 [==============================] - 0s 2ms/step - loss: 1.1450 - mape: 1.1450 - val_loss: 0.4733 - val_mape: 0.4733\n",
      "Epoch 70/200\n",
      "68/68 [==============================] - 0s 3ms/step - loss: 1.1410 - mape: 1.1410 - val_loss: 0.7452 - val_mape: 0.7452\n",
      "Epoch 71/200\n",
      "68/68 [==============================] - 0s 3ms/step - loss: 1.1199 - mape: 1.1199 - val_loss: 0.5020 - val_mape: 0.5020\n",
      "Epoch 72/200\n",
      "68/68 [==============================] - 0s 3ms/step - loss: 1.1344 - mape: 1.1344 - val_loss: 0.4723 - val_mape: 0.4723\n",
      "Epoch 73/200\n",
      "68/68 [==============================] - 0s 3ms/step - loss: 1.1312 - mape: 1.1312 - val_loss: 0.5945 - val_mape: 0.5945\n",
      "Epoch 74/200\n",
      "68/68 [==============================] - 0s 3ms/step - loss: 1.2954 - mape: 1.2954 - val_loss: 0.5129 - val_mape: 0.5129\n",
      "Epoch 75/200\n",
      "68/68 [==============================] - 0s 2ms/step - loss: 1.1390 - mape: 1.1390 - val_loss: 0.5026 - val_mape: 0.5026\n",
      "Epoch 76/200\n",
      "68/68 [==============================] - 0s 3ms/step - loss: 1.1661 - mape: 1.1661 - val_loss: 0.4748 - val_mape: 0.4748\n",
      "Epoch 77/200\n",
      "68/68 [==============================] - 0s 3ms/step - loss: 1.1458 - mape: 1.1458 - val_loss: 0.4824 - val_mape: 0.4824\n",
      "Epoch 78/200\n",
      "68/68 [==============================] - 0s 2ms/step - loss: 1.1347 - mape: 1.1347 - val_loss: 0.5182 - val_mape: 0.5182\n",
      "Epoch 79/200\n",
      "68/68 [==============================] - 0s 3ms/step - loss: 1.1504 - mape: 1.1504 - val_loss: 0.4981 - val_mape: 0.4981\n",
      "Epoch 80/200\n",
      "68/68 [==============================] - 0s 3ms/step - loss: 1.1261 - mape: 1.1261 - val_loss: 0.5102 - val_mape: 0.5102\n",
      "Epoch 81/200\n",
      "68/68 [==============================] - 0s 3ms/step - loss: 1.1567 - mape: 1.1567 - val_loss: 0.5591 - val_mape: 0.5591\n",
      "Epoch 82/200\n",
      "68/68 [==============================] - 0s 3ms/step - loss: 1.1471 - mape: 1.1471 - val_loss: 0.5073 - val_mape: 0.5073\n",
      "Epoch 83/200\n",
      "68/68 [==============================] - 0s 3ms/step - loss: 1.1259 - mape: 1.1259 - val_loss: 0.4745 - val_mape: 0.4745\n",
      "Epoch 84/200\n",
      "68/68 [==============================] - 0s 3ms/step - loss: 1.1594 - mape: 1.1594 - val_loss: 0.5978 - val_mape: 0.5978\n",
      "Epoch 85/200\n",
      "68/68 [==============================] - 0s 2ms/step - loss: 1.1438 - mape: 1.1438 - val_loss: 0.4781 - val_mape: 0.4781\n",
      "Epoch 86/200\n",
      "68/68 [==============================] - 0s 3ms/step - loss: 1.1575 - mape: 1.1575 - val_loss: 0.4806 - val_mape: 0.4806\n",
      "Epoch 87/200\n",
      "68/68 [==============================] - 0s 3ms/step - loss: 1.1438 - mape: 1.1438 - val_loss: 0.4694 - val_mape: 0.4694\n",
      "Epoch 88/200\n",
      "68/68 [==============================] - 0s 3ms/step - loss: 1.1352 - mape: 1.1352 - val_loss: 0.6627 - val_mape: 0.6627\n",
      "Epoch 89/200\n",
      "68/68 [==============================] - 0s 3ms/step - loss: 1.1446 - mape: 1.1446 - val_loss: 0.4900 - val_mape: 0.4900\n",
      "Epoch 90/200\n",
      "68/68 [==============================] - 0s 3ms/step - loss: 1.1376 - mape: 1.1376 - val_loss: 0.5052 - val_mape: 0.5052\n",
      "Epoch 91/200\n",
      "68/68 [==============================] - 0s 3ms/step - loss: 1.1175 - mape: 1.1175 - val_loss: 0.4728 - val_mape: 0.4728\n",
      "Epoch 92/200\n",
      "68/68 [==============================] - 0s 3ms/step - loss: 1.1102 - mape: 1.1102 - val_loss: 0.4839 - val_mape: 0.4839\n",
      "Epoch 93/200\n",
      "68/68 [==============================] - 0s 3ms/step - loss: 1.1341 - mape: 1.1341 - val_loss: 0.5549 - val_mape: 0.5549\n",
      "Epoch 94/200\n",
      "68/68 [==============================] - 0s 2ms/step - loss: 1.1478 - mape: 1.1478 - val_loss: 0.4963 - val_mape: 0.4963\n",
      "Epoch 95/200\n",
      "68/68 [==============================] - 0s 3ms/step - loss: 1.1855 - mape: 1.1855 - val_loss: 0.4935 - val_mape: 0.4935\n",
      "Epoch 96/200\n",
      "68/68 [==============================] - 0s 3ms/step - loss: 1.1547 - mape: 1.1547 - val_loss: 0.5023 - val_mape: 0.5023\n",
      "Epoch 97/200\n",
      "68/68 [==============================] - 0s 3ms/step - loss: 1.1260 - mape: 1.1260 - val_loss: 0.4748 - val_mape: 0.4748\n",
      "Epoch 98/200\n",
      "68/68 [==============================] - 0s 3ms/step - loss: 1.1259 - mape: 1.1259 - val_loss: 0.4681 - val_mape: 0.4681\n",
      "Epoch 99/200\n",
      "68/68 [==============================] - 0s 3ms/step - loss: 1.1441 - mape: 1.1441 - val_loss: 0.4838 - val_mape: 0.4838\n",
      "Epoch 100/200\n",
      "68/68 [==============================] - 0s 3ms/step - loss: 1.1819 - mape: 1.1819 - val_loss: 0.6241 - val_mape: 0.6241\n",
      "Epoch 101/200\n",
      "68/68 [==============================] - 0s 3ms/step - loss: 1.1399 - mape: 1.1399 - val_loss: 0.4777 - val_mape: 0.4777\n",
      "Epoch 102/200\n",
      "68/68 [==============================] - 0s 3ms/step - loss: 1.1109 - mape: 1.1109 - val_loss: 0.5133 - val_mape: 0.5133\n",
      "Epoch 103/200\n",
      "68/68 [==============================] - 0s 3ms/step - loss: 1.1124 - mape: 1.1124 - val_loss: 0.4940 - val_mape: 0.4940\n",
      "Epoch 104/200\n",
      "68/68 [==============================] - 0s 3ms/step - loss: 1.1106 - mape: 1.1106 - val_loss: 0.4669 - val_mape: 0.4669\n",
      "Epoch 105/200\n",
      "68/68 [==============================] - 0s 7ms/step - loss: 1.1051 - mape: 1.1051 - val_loss: 0.4992 - val_mape: 0.4992\n",
      "Epoch 106/200\n",
      "68/68 [==============================] - 1s 8ms/step - loss: 1.1514 - mape: 1.1514 - val_loss: 0.5368 - val_mape: 0.5368\n",
      "Epoch 107/200\n",
      "68/68 [==============================] - 1s 8ms/step - loss: 1.1549 - mape: 1.1549 - val_loss: 0.4728 - val_mape: 0.4728\n",
      "Epoch 108/200\n",
      "68/68 [==============================] - 0s 5ms/step - loss: 1.1378 - mape: 1.1378 - val_loss: 0.4664 - val_mape: 0.4664\n",
      "Epoch 109/200\n",
      "68/68 [==============================] - 0s 3ms/step - loss: 1.1390 - mape: 1.1390 - val_loss: 0.5025 - val_mape: 0.5025\n",
      "Epoch 110/200\n",
      "68/68 [==============================] - 0s 3ms/step - loss: 1.1970 - mape: 1.1970 - val_loss: 0.4670 - val_mape: 0.4670\n",
      "Epoch 111/200\n",
      "68/68 [==============================] - 0s 3ms/step - loss: 1.1357 - mape: 1.1357 - val_loss: 0.4702 - val_mape: 0.4702\n",
      "Epoch 112/200\n",
      "68/68 [==============================] - 0s 3ms/step - loss: 1.1550 - mape: 1.1550 - val_loss: 0.6749 - val_mape: 0.6749\n",
      "Epoch 113/200\n",
      "68/68 [==============================] - 0s 3ms/step - loss: 1.1527 - mape: 1.1527 - val_loss: 0.4640 - val_mape: 0.4640\n",
      "Epoch 114/200\n",
      "68/68 [==============================] - 0s 3ms/step - loss: 1.1427 - mape: 1.1427 - val_loss: 0.6851 - val_mape: 0.6851\n",
      "Epoch 115/200\n",
      "68/68 [==============================] - 0s 3ms/step - loss: 1.1270 - mape: 1.1270 - val_loss: 0.6272 - val_mape: 0.6272\n",
      "Epoch 116/200\n",
      "68/68 [==============================] - 0s 3ms/step - loss: 1.1306 - mape: 1.1306 - val_loss: 0.5251 - val_mape: 0.5251\n",
      "Epoch 117/200\n",
      "68/68 [==============================] - 0s 3ms/step - loss: 1.1776 - mape: 1.1776 - val_loss: 0.4786 - val_mape: 0.4786\n",
      "Epoch 118/200\n",
      "68/68 [==============================] - 0s 2ms/step - loss: 1.1069 - mape: 1.1069 - val_loss: 0.4751 - val_mape: 0.4751\n",
      "Epoch 119/200\n",
      "68/68 [==============================] - 0s 3ms/step - loss: 1.1359 - mape: 1.1359 - val_loss: 0.5418 - val_mape: 0.5418\n",
      "Epoch 120/200\n",
      "68/68 [==============================] - 0s 2ms/step - loss: 1.1305 - mape: 1.1305 - val_loss: 0.5074 - val_mape: 0.5074\n",
      "Epoch 121/200\n",
      "68/68 [==============================] - 0s 3ms/step - loss: 1.0969 - mape: 1.0969 - val_loss: 0.5450 - val_mape: 0.5450\n",
      "Epoch 122/200\n",
      "68/68 [==============================] - 0s 2ms/step - loss: 1.1101 - mape: 1.1101 - val_loss: 0.4895 - val_mape: 0.4895\n",
      "Epoch 123/200\n",
      "68/68 [==============================] - 0s 3ms/step - loss: 1.2591 - mape: 1.2591 - val_loss: 0.5053 - val_mape: 0.5053\n",
      "Epoch 124/200\n",
      "68/68 [==============================] - 0s 3ms/step - loss: 1.1308 - mape: 1.1308 - val_loss: 0.5470 - val_mape: 0.5470\n",
      "Epoch 125/200\n",
      "68/68 [==============================] - 0s 3ms/step - loss: 1.1110 - mape: 1.1110 - val_loss: 0.4614 - val_mape: 0.4614\n",
      "Epoch 126/200\n",
      "68/68 [==============================] - 0s 3ms/step - loss: 1.1480 - mape: 1.1480 - val_loss: 0.9331 - val_mape: 0.9331\n",
      "Epoch 127/200\n",
      "68/68 [==============================] - 0s 3ms/step - loss: 1.1966 - mape: 1.1966 - val_loss: 0.5412 - val_mape: 0.5412\n",
      "Epoch 128/200\n",
      "68/68 [==============================] - 0s 3ms/step - loss: 1.1447 - mape: 1.1447 - val_loss: 0.4647 - val_mape: 0.4647\n",
      "Epoch 129/200\n",
      "68/68 [==============================] - 0s 2ms/step - loss: 1.1161 - mape: 1.1161 - val_loss: 0.5131 - val_mape: 0.5131\n",
      "Epoch 130/200\n",
      "68/68 [==============================] - 0s 3ms/step - loss: 1.1133 - mape: 1.1133 - val_loss: 0.6439 - val_mape: 0.6439\n",
      "Epoch 131/200\n",
      "68/68 [==============================] - 0s 3ms/step - loss: 1.2063 - mape: 1.2063 - val_loss: 0.5765 - val_mape: 0.5765\n",
      "Epoch 132/200\n",
      "68/68 [==============================] - 0s 3ms/step - loss: 1.1239 - mape: 1.1239 - val_loss: 0.6762 - val_mape: 0.6762\n",
      "Epoch 133/200\n",
      "68/68 [==============================] - 0s 3ms/step - loss: 1.1215 - mape: 1.1215 - val_loss: 0.6603 - val_mape: 0.6603\n",
      "Epoch 134/200\n",
      "68/68 [==============================] - 0s 3ms/step - loss: 1.1377 - mape: 1.1377 - val_loss: 0.4927 - val_mape: 0.4927\n",
      "Epoch 135/200\n",
      "68/68 [==============================] - 0s 3ms/step - loss: 1.1177 - mape: 1.1177 - val_loss: 0.4769 - val_mape: 0.4769\n",
      "Epoch 136/200\n",
      "68/68 [==============================] - 0s 3ms/step - loss: 1.1242 - mape: 1.1242 - val_loss: 0.7714 - val_mape: 0.7714\n",
      "Epoch 137/200\n",
      "68/68 [==============================] - 0s 3ms/step - loss: 1.1345 - mape: 1.1345 - val_loss: 0.4645 - val_mape: 0.4645\n",
      "Epoch 138/200\n",
      "68/68 [==============================] - 0s 3ms/step - loss: 1.1418 - mape: 1.1418 - val_loss: 0.7300 - val_mape: 0.7300\n",
      "Epoch 139/200\n",
      "68/68 [==============================] - 0s 3ms/step - loss: 1.1168 - mape: 1.1168 - val_loss: 0.4715 - val_mape: 0.4715\n",
      "Epoch 140/200\n",
      "68/68 [==============================] - 0s 3ms/step - loss: 1.1364 - mape: 1.1364 - val_loss: 0.4968 - val_mape: 0.4968\n",
      "Epoch 141/200\n",
      "68/68 [==============================] - 0s 3ms/step - loss: 1.1039 - mape: 1.1039 - val_loss: 0.4615 - val_mape: 0.4615\n",
      "Epoch 142/200\n",
      "68/68 [==============================] - 0s 3ms/step - loss: 1.1558 - mape: 1.1558 - val_loss: 0.6541 - val_mape: 0.6541\n",
      "Epoch 143/200\n",
      "68/68 [==============================] - 0s 3ms/step - loss: 1.1183 - mape: 1.1183 - val_loss: 0.5196 - val_mape: 0.5196\n",
      "Epoch 144/200\n",
      "68/68 [==============================] - 0s 3ms/step - loss: 1.1263 - mape: 1.1263 - val_loss: 0.5071 - val_mape: 0.5071\n",
      "Epoch 145/200\n",
      "68/68 [==============================] - 0s 3ms/step - loss: 1.1270 - mape: 1.1270 - val_loss: 0.4700 - val_mape: 0.4700\n"
     ]
    }
   ],
   "source": [
    "model = Sequential()\n",
    "model.add(SimpleRNN(32,activation='relu',input_dim = 5,recurrent_dropout=0.1))\n",
    "model.add(Dense(16,activation='relu'))\n",
    "model.add(Dense(1,activation='linear'))\n",
    "ad=optimizers.Adam(learning_rate=0.00032626007343494624)\n",
    "model.compile(optimizer = ad, loss = 'mape', metrics = ['mape'])\n",
    "model_history=model.fit(trainX, trainY,validation_data=(testX,testY), batch_size = 33, epochs = 200,callbacks=[EarlyStopping(monitor='val_loss', patience=20)])"
   ]
  },
  {
   "cell_type": "code",
   "execution_count": 52,
   "id": "77c05906",
   "metadata": {
    "id": "77c05906"
   },
   "outputs": [],
   "source": [
    "def model_loss(history):\n",
    "    plt.figure(figsize=(8,4))\n",
    "    plt.plot(history.history['loss'], label='Train Loss')\n",
    "    plt.plot(history.history['val_loss'], label='Test Loss')\n",
    "    plt.title('model loss')\n",
    "    plt.ylabel('loss')\n",
    "    plt.xlabel('epochs')\n",
    "    plt.legend(loc='upper right')\n",
    "    plt.show();"
   ]
  },
  {
   "cell_type": "code",
   "execution_count": 53,
   "id": "6vZ-AXOUurmJ",
   "metadata": {
    "id": "6vZ-AXOUurmJ"
   },
   "outputs": [],
   "source": [
    "train_score = model.evaluate(trainX, trainY,verbose=0)\n",
    "test_score = model.evaluate(testX, testY,verbose=0)"
   ]
  },
  {
   "cell_type": "code",
   "execution_count": 54,
   "id": "45a22c27",
   "metadata": {
    "colab": {
     "base_uri": "https://localhost:8080/",
     "height": 329
    },
    "id": "45a22c27",
    "outputId": "16943c30-e750-4bdf-d05e-367706252c4f"
   },
   "outputs": [
    {
     "name": "stdout",
     "output_type": "stream",
     "text": [
      "Train MAPE : 1.10 \n",
      "Test MAPE : 0.47 \n"
     ]
    },
    {
     "data": {
      "image/png": "[encoded data removed]",
      "text/plain": [
       "<Figure size 576x288 with 1 Axes>"
      ]
     },
     "metadata": {
      "needs_background": "light"
     },
     "output_type": "display_data"
    }
   ],
   "source": [
    "train_predict = model.predict(trainX)\n",
    "test_predict = model.predict(testX)\n",
    "\n",
    "# invert predictions\n",
    "train_predict = scaler.inverse_transform(train_predict)\n",
    "trainY = scaler.inverse_transform([trainY])\n",
    "test_predict = scaler.inverse_transform(test_predict)\n",
    "testY = scaler.inverse_transform([testY])\n",
    "print('Train MAPE : %.2f ' % (train_score[1]))\n",
    "print('Test MAPE : %.2f ' % (test_score[1]))\n",
    "model_loss(model_history)"
   ]
  },
  {
   "cell_type": "code",
   "execution_count": 55,
   "id": "dc942f74",
   "metadata": {
    "id": "dc942f74"
   },
   "outputs": [],
   "source": [
    "import seaborn as sns"
   ]
  },
  {
   "cell_type": "code",
   "execution_count": 56,
   "id": "dee9bab8",
   "metadata": {
    "id": "dee9bab8"
   },
   "outputs": [],
   "source": [
    "def prediction_plot(testY, test_predict,look_back):\n",
    "    len_prediction=[x for x in range(2225,2467)]\n",
    "    plt.plot(trainY.reshape(-1,))\n",
    "    plt.plot(len_prediction, testY.reshape(-1,), marker='.', label='actual')\n",
    "    plt.plot(len_prediction, test_predict, 'g', label=\"prediction\")\n",
    "    plt.tight_layout()\n",
    "    sns.despine(top=True)\n",
    "    plt.subplots_adjust(left=0.07)\n",
    "    plt.ylabel('Units', size=15)\n",
    "    plt.xlabel('Time step', size=15)\n",
    "    plt.legend(fontsize=15)\n",
    "    plt.show()"
   ]
  },
  {
   "cell_type": "code",
   "execution_count": 57,
   "id": "363040b5",
   "metadata": {
    "colab": {
     "base_uri": "https://localhost:8080/",
     "height": 604
    },
    "id": "363040b5",
    "outputId": "35016f35-13d1-4a44-b66e-b800ebc63cdf"
   },
   "outputs": [
    {
     "data": {
      "image/png": "[encoded data removed]",
      "text/plain": [
       "<Figure size 1080x576 with 1 Axes>"
      ]
     },
     "metadata": {
      "needs_background": "light"
     },
     "output_type": "display_data"
    }
   ],
   "source": [
    "test_predict = model.predict(testX)\n",
    "test_predict = scaler.inverse_transform(test_predict)\n",
    "prediction_plot(testY, test_predict,look_back)"
   ]
  },
  {
   "cell_type": "code",
   "execution_count": null,
   "id": "f8a7708c",
   "metadata": {
    "id": "f8a7708c"
   },
   "outputs": [],
   "source": []
  }
 ],
 "metadata": {
  "colab": {
   "collapsed_sections": [],
   "name": "mauna_loa_HPT_RNN.ipynb",
   "provenance": []
  },
  "kernelspec": {
   "display_name": "Python 3",
   "language": "python",
   "name": "python3"
  },
  "language_info": {
   "codemirror_mode": {
    "name": "ipython",
    "version": 3
   },
   "file_extension": ".py",
   "mimetype": "text/x-python",
   "name": "python",
   "nbconvert_exporter": "python",
   "pygments_lexer": "ipython3",
   "version": "3.8.8"
  }
 },
 "nbformat": 4,
 "nbformat_minor": 5
}
