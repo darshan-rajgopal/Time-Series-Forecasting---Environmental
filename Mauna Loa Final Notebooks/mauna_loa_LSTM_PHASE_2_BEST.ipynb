{
  "cells": [
    {
      "cell_type": "code",
      "execution_count": 1,
      "id": "c2ef9b47",
      "metadata": {
        "id": "c2ef9b47"
      },
      "outputs": [],
      "source": [
        "import numpy as np\n",
        "import pandas as pd\n",
        "from tensorflow.keras.models import Sequential\n",
        "from tensorflow.keras.layers import LSTM\n",
        "from tensorflow.keras.layers import Dense\n",
        "from tensorflow.keras.layers import Flatten\n",
        "import matplotlib.pyplot as plt\n",
        "import warnings\n",
        "warnings.filterwarnings('ignore')\n",
        "%matplotlib inline"
      ]
    },
    {
      "cell_type": "code",
      "execution_count": 2,
      "id": "iGQk9lcRmucZ",
      "metadata": {
        "colab": {
          "base_uri": "https://localhost:8080/"
        },
        "id": "iGQk9lcRmucZ",
        "outputId": "46622019-4367-443e-cc05-4c187c42e8c6"
      },
      "outputs": [
        {
          "output_type": "stream",
          "name": "stdout",
          "text": [
            "Mounted at /content/drive\n"
          ]
        }
      ],
      "source": [
        "from google.colab import drive\n",
        "drive.mount('/content/drive')"
      ]
    },
    {
      "cell_type": "code",
      "execution_count": null,
      "id": "BxDZtfokj6Da",
      "metadata": {
        "colab": {
          "base_uri": "https://localhost:8080/",
          "height": 35
        },
        "id": "BxDZtfokj6Da",
        "outputId": "b20dcdbd-c02a-48ad-a576-4ba9370acae1"
      },
      "outputs": [
        {
          "data": {
            "application/vnd.google.colaboratory.intrinsic+json": {
              "type": "string"
            },
            "text/plain": [
              "'/device:GPU:0'"
            ]
          },
          "execution_count": 5,
          "metadata": {},
          "output_type": "execute_result"
        }
      ],
      "source": [
        "import tensorflow as tf\n",
        "tf.test.gpu_device_name()"
      ]
    },
    {
      "cell_type": "code",
      "execution_count": null,
      "id": "UDt4KrAxj6JS",
      "metadata": {
        "colab": {
          "base_uri": "https://localhost:8080/"
        },
        "id": "UDt4KrAxj6JS",
        "outputId": "9d528187-3aea-4259-a635-0d1eddbc47d0"
      },
      "outputs": [
        {
          "data": {
            "text/plain": [
              "[name: \"/device:CPU:0\"\n",
              " device_type: \"CPU\"\n",
              " memory_limit: 268435456\n",
              " locality {\n",
              " }\n",
              " incarnation: 14494480343520806349\n",
              " xla_global_id: -1, name: \"/device:GPU:0\"\n",
              " device_type: \"GPU\"\n",
              " memory_limit: 11320098816\n",
              " locality {\n",
              "   bus_id: 1\n",
              "   links {\n",
              "   }\n",
              " }\n",
              " incarnation: 1229225032833911937\n",
              " physical_device_desc: \"device: 0, name: Tesla K80, pci bus id: 0000:00:04.0, compute capability: 3.7\"\n",
              " xla_global_id: 416903419]"
            ]
          },
          "execution_count": 6,
          "metadata": {},
          "output_type": "execute_result"
        }
      ],
      "source": [
        "from tensorflow.python.client import device_lib\n",
        "device_lib.list_local_devices()"
      ]
    },
    {
      "cell_type": "code",
      "execution_count": 3,
      "id": "30d066a0",
      "metadata": {
        "colab": {
          "base_uri": "https://localhost:8080/",
          "height": 206
        },
        "id": "30d066a0",
        "outputId": "7bc2b052-e611-4994-a6f9-1d81e50df959"
      },
      "outputs": [
        {
          "output_type": "execute_result",
          "data": {
            "text/plain": [
              "   Year  Month  Day  Year(decimal)  CO2(PPM)\n",
              "0  1974      5   19      1974.3795    333.37\n",
              "1  1974      5   26      1974.3986    332.95\n",
              "2  1974      6    2      1974.4178    332.35\n",
              "3  1974      6    9      1974.4370    332.20\n",
              "4  1974      6   16      1974.4562    332.37"
            ],
            "text/html": [
              "\n",
              "  <div id=\"df-8ec4a126-2be1-46c0-a27f-2fc56a0c32da\">\n",
              "    <div class=\"colab-df-container\">\n",
              "      <div>\n",
              "<style scoped>\n",
              "    .dataframe tbody tr th:only-of-type {\n",
              "        vertical-align: middle;\n",
              "    }\n",
              "\n",
              "    .dataframe tbody tr th {\n",
              "        vertical-align: top;\n",
              "    }\n",
              "\n",
              "    .dataframe thead th {\n",
              "        text-align: right;\n",
              "    }\n",
              "</style>\n",
              "<table border=\"1\" class=\"dataframe\">\n",
              "  <thead>\n",
              "    <tr style=\"text-align: right;\">\n",
              "      <th></th>\n",
              "      <th>Year</th>\n",
              "      <th>Month</th>\n",
              "      <th>Day</th>\n",
              "      <th>Year(decimal)</th>\n",
              "      <th>CO2(PPM)</th>\n",
              "    </tr>\n",
              "  </thead>\n",
              "  <tbody>\n",
              "    <tr>\n",
              "      <th>0</th>\n",
              "      <td>1974</td>\n",
              "      <td>5</td>\n",
              "      <td>19</td>\n",
              "      <td>1974.3795</td>\n",
              "      <td>333.37</td>\n",
              "    </tr>\n",
              "    <tr>\n",
              "      <th>1</th>\n",
              "      <td>1974</td>\n",
              "      <td>5</td>\n",
              "      <td>26</td>\n",
              "      <td>1974.3986</td>\n",
              "      <td>332.95</td>\n",
              "    </tr>\n",
              "    <tr>\n",
              "      <th>2</th>\n",
              "      <td>1974</td>\n",
              "      <td>6</td>\n",
              "      <td>2</td>\n",
              "      <td>1974.4178</td>\n",
              "      <td>332.35</td>\n",
              "    </tr>\n",
              "    <tr>\n",
              "      <th>3</th>\n",
              "      <td>1974</td>\n",
              "      <td>6</td>\n",
              "      <td>9</td>\n",
              "      <td>1974.4370</td>\n",
              "      <td>332.20</td>\n",
              "    </tr>\n",
              "    <tr>\n",
              "      <th>4</th>\n",
              "      <td>1974</td>\n",
              "      <td>6</td>\n",
              "      <td>16</td>\n",
              "      <td>1974.4562</td>\n",
              "      <td>332.37</td>\n",
              "    </tr>\n",
              "  </tbody>\n",
              "</table>\n",
              "</div>\n",
              "      <button class=\"colab-df-convert\" onclick=\"convertToInteractive('df-8ec4a126-2be1-46c0-a27f-2fc56a0c32da')\"\n",
              "              title=\"Convert this dataframe to an interactive table.\"\n",
              "              style=\"display:none;\">\n",
              "        \n",
              "  <svg xmlns=\"http://www.w3.org/2000/svg\" height=\"24px\"viewBox=\"0 0 24 24\"\n",
              "       width=\"24px\">\n",
              "    <path d=\"M0 0h24v24H0V0z\" fill=\"none\"/>\n",
              "    <path d=\"M18.56 5.44l.94 2.06.94-2.06 2.06-.94-2.06-.94-.94-2.06-.94 2.06-2.06.94zm-11 1L8.5 8.5l.94-2.06 2.06-.94-2.06-.94L8.5 2.5l-.94 2.06-2.06.94zm10 10l.94 2.06.94-2.06 2.06-.94-2.06-.94-.94-2.06-.94 2.06-2.06.94z\"/><path d=\"M17.41 7.96l-1.37-1.37c-.4-.4-.92-.59-1.43-.59-.52 0-1.04.2-1.43.59L10.3 9.45l-7.72 7.72c-.78.78-.78 2.05 0 2.83L4 21.41c.39.39.9.59 1.41.59.51 0 1.02-.2 1.41-.59l7.78-7.78 2.81-2.81c.8-.78.8-2.07 0-2.86zM5.41 20L4 18.59l7.72-7.72 1.47 1.35L5.41 20z\"/>\n",
              "  </svg>\n",
              "      </button>\n",
              "      \n",
              "  <style>\n",
              "    .colab-df-container {\n",
              "      display:flex;\n",
              "      flex-wrap:wrap;\n",
              "      gap: 12px;\n",
              "    }\n",
              "\n",
              "    .colab-df-convert {\n",
              "      background-color: #E8F0FE;\n",
              "      border: none;\n",
              "      border-radius: 50%;\n",
              "      cursor: pointer;\n",
              "      display: none;\n",
              "      fill: #1967D2;\n",
              "      height: 32px;\n",
              "      padding: 0 0 0 0;\n",
              "      width: 32px;\n",
              "    }\n",
              "\n",
              "    .colab-df-convert:hover {\n",
              "      background-color: #E2EBFA;\n",
              "      box-shadow: 0px 1px 2px rgba(60, 64, 67, 0.3), 0px 1px 3px 1px rgba(60, 64, 67, 0.15);\n",
              "      fill: #174EA6;\n",
              "    }\n",
              "\n",
              "    [theme=dark] .colab-df-convert {\n",
              "      background-color: #3B4455;\n",
              "      fill: #D2E3FC;\n",
              "    }\n",
              "\n",
              "    [theme=dark] .colab-df-convert:hover {\n",
              "      background-color: #434B5C;\n",
              "      box-shadow: 0px 1px 3px 1px rgba(0, 0, 0, 0.15);\n",
              "      filter: drop-shadow(0px 1px 2px rgba(0, 0, 0, 0.3));\n",
              "      fill: #FFFFFF;\n",
              "    }\n",
              "  </style>\n",
              "\n",
              "      <script>\n",
              "        const buttonEl =\n",
              "          document.querySelector('#df-8ec4a126-2be1-46c0-a27f-2fc56a0c32da button.colab-df-convert');\n",
              "        buttonEl.style.display =\n",
              "          google.colab.kernel.accessAllowed ? 'block' : 'none';\n",
              "\n",
              "        async function convertToInteractive(key) {\n",
              "          const element = document.querySelector('#df-8ec4a126-2be1-46c0-a27f-2fc56a0c32da');\n",
              "          const dataTable =\n",
              "            await google.colab.kernel.invokeFunction('convertToInteractive',\n",
              "                                                     [key], {});\n",
              "          if (!dataTable) return;\n",
              "\n",
              "          const docLinkHtml = 'Like what you see? Visit the ' +\n",
              "            '<a target=\"_blank\" href=https://colab.research.google.com/notebooks/data_table.ipynb>data table notebook</a>'\n",
              "            + ' to learn more about interactive tables.';\n",
              "          element.innerHTML = '';\n",
              "          dataTable['output_type'] = 'display_data';\n",
              "          await google.colab.output.renderOutput(dataTable, element);\n",
              "          const docLink = document.createElement('div');\n",
              "          docLink.innerHTML = docLinkHtml;\n",
              "          element.appendChild(docLink);\n",
              "        }\n",
              "      </script>\n",
              "    </div>\n",
              "  </div>\n",
              "  "
            ]
          },
          "metadata": {},
          "execution_count": 3
        }
      ],
      "source": [
        "df_new = pd.read_csv('/content/drive/MyDrive/Colab Notebooks/Environmental/Mouna_Loa_Weekly_Data.csv')\n",
        "df_new.head()"
      ]
    },
    {
      "cell_type": "code",
      "execution_count": 4,
      "id": "e2663bb4",
      "metadata": {
        "colab": {
          "base_uri": "https://localhost:8080/",
          "height": 206
        },
        "id": "e2663bb4",
        "outputId": "c3dbd051-2898-4762-e5df-d9c5c7461a0c"
      },
      "outputs": [
        {
          "output_type": "execute_result",
          "data": {
            "text/plain": [
              "      Year  Month  Day  Year(decimal)  CO2(PPM)\n",
              "2472  2021     10    3      2021.7548    413.63\n",
              "2473  2021     10   10      2021.7740    413.89\n",
              "2474  2021     10   17      2021.7932    414.36\n",
              "2475  2021     10   24      2021.8123    413.90\n",
              "2476  2021     10   31      2021.8315    414.17"
            ],
            "text/html": [
              "\n",
              "  <div id=\"df-0e2b1021-94da-4fc5-8ed5-f1bd30ce3a71\">\n",
              "    <div class=\"colab-df-container\">\n",
              "      <div>\n",
              "<style scoped>\n",
              "    .dataframe tbody tr th:only-of-type {\n",
              "        vertical-align: middle;\n",
              "    }\n",
              "\n",
              "    .dataframe tbody tr th {\n",
              "        vertical-align: top;\n",
              "    }\n",
              "\n",
              "    .dataframe thead th {\n",
              "        text-align: right;\n",
              "    }\n",
              "</style>\n",
              "<table border=\"1\" class=\"dataframe\">\n",
              "  <thead>\n",
              "    <tr style=\"text-align: right;\">\n",
              "      <th></th>\n",
              "      <th>Year</th>\n",
              "      <th>Month</th>\n",
              "      <th>Day</th>\n",
              "      <th>Year(decimal)</th>\n",
              "      <th>CO2(PPM)</th>\n",
              "    </tr>\n",
              "  </thead>\n",
              "  <tbody>\n",
              "    <tr>\n",
              "      <th>2472</th>\n",
              "      <td>2021</td>\n",
              "      <td>10</td>\n",
              "      <td>3</td>\n",
              "      <td>2021.7548</td>\n",
              "      <td>413.63</td>\n",
              "    </tr>\n",
              "    <tr>\n",
              "      <th>2473</th>\n",
              "      <td>2021</td>\n",
              "      <td>10</td>\n",
              "      <td>10</td>\n",
              "      <td>2021.7740</td>\n",
              "      <td>413.89</td>\n",
              "    </tr>\n",
              "    <tr>\n",
              "      <th>2474</th>\n",
              "      <td>2021</td>\n",
              "      <td>10</td>\n",
              "      <td>17</td>\n",
              "      <td>2021.7932</td>\n",
              "      <td>414.36</td>\n",
              "    </tr>\n",
              "    <tr>\n",
              "      <th>2475</th>\n",
              "      <td>2021</td>\n",
              "      <td>10</td>\n",
              "      <td>24</td>\n",
              "      <td>2021.8123</td>\n",
              "      <td>413.90</td>\n",
              "    </tr>\n",
              "    <tr>\n",
              "      <th>2476</th>\n",
              "      <td>2021</td>\n",
              "      <td>10</td>\n",
              "      <td>31</td>\n",
              "      <td>2021.8315</td>\n",
              "      <td>414.17</td>\n",
              "    </tr>\n",
              "  </tbody>\n",
              "</table>\n",
              "</div>\n",
              "      <button class=\"colab-df-convert\" onclick=\"convertToInteractive('df-0e2b1021-94da-4fc5-8ed5-f1bd30ce3a71')\"\n",
              "              title=\"Convert this dataframe to an interactive table.\"\n",
              "              style=\"display:none;\">\n",
              "        \n",
              "  <svg xmlns=\"http://www.w3.org/2000/svg\" height=\"24px\"viewBox=\"0 0 24 24\"\n",
              "       width=\"24px\">\n",
              "    <path d=\"M0 0h24v24H0V0z\" fill=\"none\"/>\n",
              "    <path d=\"M18.56 5.44l.94 2.06.94-2.06 2.06-.94-2.06-.94-.94-2.06-.94 2.06-2.06.94zm-11 1L8.5 8.5l.94-2.06 2.06-.94-2.06-.94L8.5 2.5l-.94 2.06-2.06.94zm10 10l.94 2.06.94-2.06 2.06-.94-2.06-.94-.94-2.06-.94 2.06-2.06.94z\"/><path d=\"M17.41 7.96l-1.37-1.37c-.4-.4-.92-.59-1.43-.59-.52 0-1.04.2-1.43.59L10.3 9.45l-7.72 7.72c-.78.78-.78 2.05 0 2.83L4 21.41c.39.39.9.59 1.41.59.51 0 1.02-.2 1.41-.59l7.78-7.78 2.81-2.81c.8-.78.8-2.07 0-2.86zM5.41 20L4 18.59l7.72-7.72 1.47 1.35L5.41 20z\"/>\n",
              "  </svg>\n",
              "      </button>\n",
              "      \n",
              "  <style>\n",
              "    .colab-df-container {\n",
              "      display:flex;\n",
              "      flex-wrap:wrap;\n",
              "      gap: 12px;\n",
              "    }\n",
              "\n",
              "    .colab-df-convert {\n",
              "      background-color: #E8F0FE;\n",
              "      border: none;\n",
              "      border-radius: 50%;\n",
              "      cursor: pointer;\n",
              "      display: none;\n",
              "      fill: #1967D2;\n",
              "      height: 32px;\n",
              "      padding: 0 0 0 0;\n",
              "      width: 32px;\n",
              "    }\n",
              "\n",
              "    .colab-df-convert:hover {\n",
              "      background-color: #E2EBFA;\n",
              "      box-shadow: 0px 1px 2px rgba(60, 64, 67, 0.3), 0px 1px 3px 1px rgba(60, 64, 67, 0.15);\n",
              "      fill: #174EA6;\n",
              "    }\n",
              "\n",
              "    [theme=dark] .colab-df-convert {\n",
              "      background-color: #3B4455;\n",
              "      fill: #D2E3FC;\n",
              "    }\n",
              "\n",
              "    [theme=dark] .colab-df-convert:hover {\n",
              "      background-color: #434B5C;\n",
              "      box-shadow: 0px 1px 3px 1px rgba(0, 0, 0, 0.15);\n",
              "      filter: drop-shadow(0px 1px 2px rgba(0, 0, 0, 0.3));\n",
              "      fill: #FFFFFF;\n",
              "    }\n",
              "  </style>\n",
              "\n",
              "      <script>\n",
              "        const buttonEl =\n",
              "          document.querySelector('#df-0e2b1021-94da-4fc5-8ed5-f1bd30ce3a71 button.colab-df-convert');\n",
              "        buttonEl.style.display =\n",
              "          google.colab.kernel.accessAllowed ? 'block' : 'none';\n",
              "\n",
              "        async function convertToInteractive(key) {\n",
              "          const element = document.querySelector('#df-0e2b1021-94da-4fc5-8ed5-f1bd30ce3a71');\n",
              "          const dataTable =\n",
              "            await google.colab.kernel.invokeFunction('convertToInteractive',\n",
              "                                                     [key], {});\n",
              "          if (!dataTable) return;\n",
              "\n",
              "          const docLinkHtml = 'Like what you see? Visit the ' +\n",
              "            '<a target=\"_blank\" href=https://colab.research.google.com/notebooks/data_table.ipynb>data table notebook</a>'\n",
              "            + ' to learn more about interactive tables.';\n",
              "          element.innerHTML = '';\n",
              "          dataTable['output_type'] = 'display_data';\n",
              "          await google.colab.output.renderOutput(dataTable, element);\n",
              "          const docLink = document.createElement('div');\n",
              "          docLink.innerHTML = docLinkHtml;\n",
              "          element.appendChild(docLink);\n",
              "        }\n",
              "      </script>\n",
              "    </div>\n",
              "  </div>\n",
              "  "
            ]
          },
          "metadata": {},
          "execution_count": 4
        }
      ],
      "source": [
        "df_new.tail()"
      ]
    },
    {
      "cell_type": "code",
      "execution_count": null,
      "id": "0482272d",
      "metadata": {
        "colab": {
          "base_uri": "https://localhost:8080/"
        },
        "id": "0482272d",
        "outputId": "776ac443-ad6b-4564-f8e0-1f7bd74c25a7"
      },
      "outputs": [
        {
          "data": {
            "text/plain": [
              "(2477, 5)"
            ]
          },
          "execution_count": 5,
          "metadata": {},
          "output_type": "execute_result"
        }
      ],
      "source": [
        "df_new.shape"
      ]
    },
    {
      "cell_type": "code",
      "execution_count": null,
      "id": "076f1ad3",
      "metadata": {
        "colab": {
          "base_uri": "https://localhost:8080/"
        },
        "id": "076f1ad3",
        "outputId": "85d3513e-4003-46c9-c4de-170eb5f2bf2d"
      },
      "outputs": [
        {
          "name": "stdout",
          "output_type": "stream",
          "text": [
            "<class 'pandas.core.frame.DataFrame'>\n",
            "RangeIndex: 2477 entries, 0 to 2476\n",
            "Data columns (total 5 columns):\n",
            " #   Column         Non-Null Count  Dtype  \n",
            "---  ------         --------------  -----  \n",
            " 0   Year           2477 non-null   int64  \n",
            " 1   Month          2477 non-null   int64  \n",
            " 2   Day            2477 non-null   int64  \n",
            " 3   Year(decimal)  2477 non-null   float64\n",
            " 4   CO2(PPM)       2477 non-null   float64\n",
            "dtypes: float64(2), int64(3)\n",
            "memory usage: 96.9 KB\n"
          ]
        }
      ],
      "source": [
        "df_new.info()"
      ]
    },
    {
      "cell_type": "code",
      "execution_count": null,
      "id": "GQllVmimXbew",
      "metadata": {
        "colab": {
          "base_uri": "https://localhost:8080/"
        },
        "id": "GQllVmimXbew",
        "outputId": "4ac7ccfe-1115-4f1a-e41c-b857312a5a47"
      },
      "outputs": [
        {
          "data": {
            "text/plain": [
              "-999.99"
            ]
          },
          "execution_count": 7,
          "metadata": {},
          "output_type": "execute_result"
        }
      ],
      "source": [
        "df_new['CO2(PPM)'].min()"
      ]
    },
    {
      "cell_type": "code",
      "execution_count": 5,
      "id": "1oFqHGwzXbhI",
      "metadata": {
        "id": "1oFqHGwzXbhI"
      },
      "outputs": [],
      "source": [
        "df_new.replace(-999.99,np.nan,inplace=True)\n",
        "df = df_new.fillna(df_new.rolling(7,min_periods=1).mean())"
      ]
    },
    {
      "cell_type": "code",
      "execution_count": null,
      "id": "x2rdBSU9Xbkd",
      "metadata": {
        "colab": {
          "base_uri": "https://localhost:8080/"
        },
        "id": "x2rdBSU9Xbkd",
        "outputId": "0f664fda-72bf-419d-de54-c4f86374d4a0"
      },
      "outputs": [
        {
          "data": {
            "text/plain": [
              "Year             0\n",
              "Month            0\n",
              "Day              0\n",
              "Year(decimal)    0\n",
              "CO2(PPM)         0\n",
              "dtype: int64"
            ]
          },
          "execution_count": 6,
          "metadata": {},
          "output_type": "execute_result"
        }
      ],
      "source": [
        "df.isnull().sum()"
      ]
    },
    {
      "cell_type": "code",
      "execution_count": 6,
      "id": "93827e39",
      "metadata": {
        "id": "93827e39"
      },
      "outputs": [],
      "source": [
        "time = pd.date_range(start='5/19/1974',periods=2477,freq='W')\n",
        "df['time_stamp'] = pd.DataFrame(time)\n",
        "df.drop(['Year','Month','Year(decimal)','Day'],axis=1,inplace=True)\n",
        "df = df.set_index('time_stamp')"
      ]
    },
    {
      "cell_type": "code",
      "execution_count": 7,
      "id": "S0kNKRMAocKq",
      "metadata": {
        "id": "S0kNKRMAocKq"
      },
      "outputs": [],
      "source": [
        "df.columns=['CO2_PPM']"
      ]
    },
    {
      "cell_type": "code",
      "execution_count": null,
      "id": "522f2b8e",
      "metadata": {
        "colab": {
          "base_uri": "https://localhost:8080/",
          "height": 238
        },
        "id": "522f2b8e",
        "outputId": "523ad8a2-a155-46eb-82ea-9584af404c27"
      },
      "outputs": [
        {
          "data": {
            "text/html": [
              "\n",
              "  <div id=\"df-1758bc81-6de1-424b-b6f2-094d9ee9f242\">\n",
              "    <div class=\"colab-df-container\">\n",
              "      <div>\n",
              "<style scoped>\n",
              "    .dataframe tbody tr th:only-of-type {\n",
              "        vertical-align: middle;\n",
              "    }\n",
              "\n",
              "    .dataframe tbody tr th {\n",
              "        vertical-align: top;\n",
              "    }\n",
              "\n",
              "    .dataframe thead th {\n",
              "        text-align: right;\n",
              "    }\n",
              "</style>\n",
              "<table border=\"1\" class=\"dataframe\">\n",
              "  <thead>\n",
              "    <tr style=\"text-align: right;\">\n",
              "      <th></th>\n",
              "      <th>CO2_PPM</th>\n",
              "    </tr>\n",
              "    <tr>\n",
              "      <th>time_stamp</th>\n",
              "      <th></th>\n",
              "    </tr>\n",
              "  </thead>\n",
              "  <tbody>\n",
              "    <tr>\n",
              "      <th>1974-05-19</th>\n",
              "      <td>333.37</td>\n",
              "    </tr>\n",
              "    <tr>\n",
              "      <th>1974-05-26</th>\n",
              "      <td>332.95</td>\n",
              "    </tr>\n",
              "    <tr>\n",
              "      <th>1974-06-02</th>\n",
              "      <td>332.35</td>\n",
              "    </tr>\n",
              "    <tr>\n",
              "      <th>1974-06-09</th>\n",
              "      <td>332.20</td>\n",
              "    </tr>\n",
              "    <tr>\n",
              "      <th>1974-06-16</th>\n",
              "      <td>332.37</td>\n",
              "    </tr>\n",
              "  </tbody>\n",
              "</table>\n",
              "</div>\n",
              "      <button class=\"colab-df-convert\" onclick=\"convertToInteractive('df-1758bc81-6de1-424b-b6f2-094d9ee9f242')\"\n",
              "              title=\"Convert this dataframe to an interactive table.\"\n",
              "              style=\"display:none;\">\n",
              "        \n",
              "  <svg xmlns=\"http://www.w3.org/2000/svg\" height=\"24px\"viewBox=\"0 0 24 24\"\n",
              "       width=\"24px\">\n",
              "    <path d=\"M0 0h24v24H0V0z\" fill=\"none\"/>\n",
              "    <path d=\"M18.56 5.44l.94 2.06.94-2.06 2.06-.94-2.06-.94-.94-2.06-.94 2.06-2.06.94zm-11 1L8.5 8.5l.94-2.06 2.06-.94-2.06-.94L8.5 2.5l-.94 2.06-2.06.94zm10 10l.94 2.06.94-2.06 2.06-.94-2.06-.94-.94-2.06-.94 2.06-2.06.94z\"/><path d=\"M17.41 7.96l-1.37-1.37c-.4-.4-.92-.59-1.43-.59-.52 0-1.04.2-1.43.59L10.3 9.45l-7.72 7.72c-.78.78-.78 2.05 0 2.83L4 21.41c.39.39.9.59 1.41.59.51 0 1.02-.2 1.41-.59l7.78-7.78 2.81-2.81c.8-.78.8-2.07 0-2.86zM5.41 20L4 18.59l7.72-7.72 1.47 1.35L5.41 20z\"/>\n",
              "  </svg>\n",
              "      </button>\n",
              "      \n",
              "  <style>\n",
              "    .colab-df-container {\n",
              "      display:flex;\n",
              "      flex-wrap:wrap;\n",
              "      gap: 12px;\n",
              "    }\n",
              "\n",
              "    .colab-df-convert {\n",
              "      background-color: #E8F0FE;\n",
              "      border: none;\n",
              "      border-radius: 50%;\n",
              "      cursor: pointer;\n",
              "      display: none;\n",
              "      fill: #1967D2;\n",
              "      height: 32px;\n",
              "      padding: 0 0 0 0;\n",
              "      width: 32px;\n",
              "    }\n",
              "\n",
              "    .colab-df-convert:hover {\n",
              "      background-color: #E2EBFA;\n",
              "      box-shadow: 0px 1px 2px rgba(60, 64, 67, 0.3), 0px 1px 3px 1px rgba(60, 64, 67, 0.15);\n",
              "      fill: #174EA6;\n",
              "    }\n",
              "\n",
              "    [theme=dark] .colab-df-convert {\n",
              "      background-color: #3B4455;\n",
              "      fill: #D2E3FC;\n",
              "    }\n",
              "\n",
              "    [theme=dark] .colab-df-convert:hover {\n",
              "      background-color: #434B5C;\n",
              "      box-shadow: 0px 1px 3px 1px rgba(0, 0, 0, 0.15);\n",
              "      filter: drop-shadow(0px 1px 2px rgba(0, 0, 0, 0.3));\n",
              "      fill: #FFFFFF;\n",
              "    }\n",
              "  </style>\n",
              "\n",
              "      <script>\n",
              "        const buttonEl =\n",
              "          document.querySelector('#df-1758bc81-6de1-424b-b6f2-094d9ee9f242 button.colab-df-convert');\n",
              "        buttonEl.style.display =\n",
              "          google.colab.kernel.accessAllowed ? 'block' : 'none';\n",
              "\n",
              "        async function convertToInteractive(key) {\n",
              "          const element = document.querySelector('#df-1758bc81-6de1-424b-b6f2-094d9ee9f242');\n",
              "          const dataTable =\n",
              "            await google.colab.kernel.invokeFunction('convertToInteractive',\n",
              "                                                     [key], {});\n",
              "          if (!dataTable) return;\n",
              "\n",
              "          const docLinkHtml = 'Like what you see? Visit the ' +\n",
              "            '<a target=\"_blank\" href=https://colab.research.google.com/notebooks/data_table.ipynb>data table notebook</a>'\n",
              "            + ' to learn more about interactive tables.';\n",
              "          element.innerHTML = '';\n",
              "          dataTable['output_type'] = 'display_data';\n",
              "          await google.colab.output.renderOutput(dataTable, element);\n",
              "          const docLink = document.createElement('div');\n",
              "          docLink.innerHTML = docLinkHtml;\n",
              "          element.appendChild(docLink);\n",
              "        }\n",
              "      </script>\n",
              "    </div>\n",
              "  </div>\n",
              "  "
            ],
            "text/plain": [
              "            CO2_PPM\n",
              "time_stamp         \n",
              "1974-05-19   333.37\n",
              "1974-05-26   332.95\n",
              "1974-06-02   332.35\n",
              "1974-06-09   332.20\n",
              "1974-06-16   332.37"
            ]
          },
          "execution_count": 12,
          "metadata": {},
          "output_type": "execute_result"
        }
      ],
      "source": [
        "df.head()"
      ]
    },
    {
      "cell_type": "code",
      "execution_count": null,
      "id": "7N0Xc0zT5atx",
      "metadata": {
        "colab": {
          "base_uri": "https://localhost:8080/",
          "height": 238
        },
        "id": "7N0Xc0zT5atx",
        "outputId": "14c8bebe-4377-42f6-bade-38a5b73e0c73"
      },
      "outputs": [
        {
          "data": {
            "text/html": [
              "\n",
              "  <div id=\"df-cdc0bf0b-4859-47d4-aa8b-35fff9fa2dc7\">\n",
              "    <div class=\"colab-df-container\">\n",
              "      <div>\n",
              "<style scoped>\n",
              "    .dataframe tbody tr th:only-of-type {\n",
              "        vertical-align: middle;\n",
              "    }\n",
              "\n",
              "    .dataframe tbody tr th {\n",
              "        vertical-align: top;\n",
              "    }\n",
              "\n",
              "    .dataframe thead th {\n",
              "        text-align: right;\n",
              "    }\n",
              "</style>\n",
              "<table border=\"1\" class=\"dataframe\">\n",
              "  <thead>\n",
              "    <tr style=\"text-align: right;\">\n",
              "      <th></th>\n",
              "      <th>CO2_PPM</th>\n",
              "    </tr>\n",
              "    <tr>\n",
              "      <th>time_stamp</th>\n",
              "      <th></th>\n",
              "    </tr>\n",
              "  </thead>\n",
              "  <tbody>\n",
              "    <tr>\n",
              "      <th>2021-10-03</th>\n",
              "      <td>413.63</td>\n",
              "    </tr>\n",
              "    <tr>\n",
              "      <th>2021-10-10</th>\n",
              "      <td>413.89</td>\n",
              "    </tr>\n",
              "    <tr>\n",
              "      <th>2021-10-17</th>\n",
              "      <td>414.36</td>\n",
              "    </tr>\n",
              "    <tr>\n",
              "      <th>2021-10-24</th>\n",
              "      <td>413.90</td>\n",
              "    </tr>\n",
              "    <tr>\n",
              "      <th>2021-10-31</th>\n",
              "      <td>414.17</td>\n",
              "    </tr>\n",
              "  </tbody>\n",
              "</table>\n",
              "</div>\n",
              "      <button class=\"colab-df-convert\" onclick=\"convertToInteractive('df-cdc0bf0b-4859-47d4-aa8b-35fff9fa2dc7')\"\n",
              "              title=\"Convert this dataframe to an interactive table.\"\n",
              "              style=\"display:none;\">\n",
              "        \n",
              "  <svg xmlns=\"http://www.w3.org/2000/svg\" height=\"24px\"viewBox=\"0 0 24 24\"\n",
              "       width=\"24px\">\n",
              "    <path d=\"M0 0h24v24H0V0z\" fill=\"none\"/>\n",
              "    <path d=\"M18.56 5.44l.94 2.06.94-2.06 2.06-.94-2.06-.94-.94-2.06-.94 2.06-2.06.94zm-11 1L8.5 8.5l.94-2.06 2.06-.94-2.06-.94L8.5 2.5l-.94 2.06-2.06.94zm10 10l.94 2.06.94-2.06 2.06-.94-2.06-.94-.94-2.06-.94 2.06-2.06.94z\"/><path d=\"M17.41 7.96l-1.37-1.37c-.4-.4-.92-.59-1.43-.59-.52 0-1.04.2-1.43.59L10.3 9.45l-7.72 7.72c-.78.78-.78 2.05 0 2.83L4 21.41c.39.39.9.59 1.41.59.51 0 1.02-.2 1.41-.59l7.78-7.78 2.81-2.81c.8-.78.8-2.07 0-2.86zM5.41 20L4 18.59l7.72-7.72 1.47 1.35L5.41 20z\"/>\n",
              "  </svg>\n",
              "      </button>\n",
              "      \n",
              "  <style>\n",
              "    .colab-df-container {\n",
              "      display:flex;\n",
              "      flex-wrap:wrap;\n",
              "      gap: 12px;\n",
              "    }\n",
              "\n",
              "    .colab-df-convert {\n",
              "      background-color: #E8F0FE;\n",
              "      border: none;\n",
              "      border-radius: 50%;\n",
              "      cursor: pointer;\n",
              "      display: none;\n",
              "      fill: #1967D2;\n",
              "      height: 32px;\n",
              "      padding: 0 0 0 0;\n",
              "      width: 32px;\n",
              "    }\n",
              "\n",
              "    .colab-df-convert:hover {\n",
              "      background-color: #E2EBFA;\n",
              "      box-shadow: 0px 1px 2px rgba(60, 64, 67, 0.3), 0px 1px 3px 1px rgba(60, 64, 67, 0.15);\n",
              "      fill: #174EA6;\n",
              "    }\n",
              "\n",
              "    [theme=dark] .colab-df-convert {\n",
              "      background-color: #3B4455;\n",
              "      fill: #D2E3FC;\n",
              "    }\n",
              "\n",
              "    [theme=dark] .colab-df-convert:hover {\n",
              "      background-color: #434B5C;\n",
              "      box-shadow: 0px 1px 3px 1px rgba(0, 0, 0, 0.15);\n",
              "      filter: drop-shadow(0px 1px 2px rgba(0, 0, 0, 0.3));\n",
              "      fill: #FFFFFF;\n",
              "    }\n",
              "  </style>\n",
              "\n",
              "      <script>\n",
              "        const buttonEl =\n",
              "          document.querySelector('#df-cdc0bf0b-4859-47d4-aa8b-35fff9fa2dc7 button.colab-df-convert');\n",
              "        buttonEl.style.display =\n",
              "          google.colab.kernel.accessAllowed ? 'block' : 'none';\n",
              "\n",
              "        async function convertToInteractive(key) {\n",
              "          const element = document.querySelector('#df-cdc0bf0b-4859-47d4-aa8b-35fff9fa2dc7');\n",
              "          const dataTable =\n",
              "            await google.colab.kernel.invokeFunction('convertToInteractive',\n",
              "                                                     [key], {});\n",
              "          if (!dataTable) return;\n",
              "\n",
              "          const docLinkHtml = 'Like what you see? Visit the ' +\n",
              "            '<a target=\"_blank\" href=https://colab.research.google.com/notebooks/data_table.ipynb>data table notebook</a>'\n",
              "            + ' to learn more about interactive tables.';\n",
              "          element.innerHTML = '';\n",
              "          dataTable['output_type'] = 'display_data';\n",
              "          await google.colab.output.renderOutput(dataTable, element);\n",
              "          const docLink = document.createElement('div');\n",
              "          docLink.innerHTML = docLinkHtml;\n",
              "          element.appendChild(docLink);\n",
              "        }\n",
              "      </script>\n",
              "    </div>\n",
              "  </div>\n",
              "  "
            ],
            "text/plain": [
              "            CO2_PPM\n",
              "time_stamp         \n",
              "2021-10-03   413.63\n",
              "2021-10-10   413.89\n",
              "2021-10-17   414.36\n",
              "2021-10-24   413.90\n",
              "2021-10-31   414.17"
            ]
          },
          "execution_count": 13,
          "metadata": {},
          "output_type": "execute_result"
        }
      ],
      "source": [
        "df.tail()"
      ]
    },
    {
      "cell_type": "code",
      "execution_count": 8,
      "id": "bQk15MFgouDq",
      "metadata": {
        "id": "bQk15MFgouDq"
      },
      "outputs": [],
      "source": [
        "plt.rcParams['figure.figsize'] = [15,8]"
      ]
    },
    {
      "cell_type": "code",
      "execution_count": 9,
      "id": "3b098ae2",
      "metadata": {
        "colab": {
          "base_uri": "https://localhost:8080/",
          "height": 523
        },
        "id": "3b098ae2",
        "outputId": "bef3c369-3ddf-47c8-f15c-4c6b6821e41a"
      },
      "outputs": [
        {
          "output_type": "display_data",
          "data": {
            "text/plain": [
              "<Figure size 1080x576 with 1 Axes>"
            ],
            "image/png": "[encoded data removed]"
          },
          "metadata": {
            "needs_background": "light"
          }
        }
      ],
      "source": [
        "plt.plot(df,color='green')\n",
        "plt.title('Weekly C02 Emission From Mauna Loa',fontsize=20)\n",
        "plt.xlabel('Date',fontsize=15)\n",
        "plt.ylabel('Units',fontsize=15)\n",
        "plt.show()"
      ]
    },
    {
      "cell_type": "code",
      "execution_count": 10,
      "id": "bf59d3e0",
      "metadata": {
        "id": "bf59d3e0"
      },
      "outputs": [],
      "source": [
        "def convert2matrix(data_arr, look_back):\n",
        "    X, Y =[], []\n",
        "    for i in range(len(data_arr)-look_back):\n",
        "        d=i+look_back  \n",
        "        X.append(data_arr[i:d,0])\n",
        "        Y.append(data_arr[d,0])\n",
        "    return np.array(X), np.array(Y)"
      ]
    },
    {
      "cell_type": "code",
      "execution_count": 11,
      "id": "5CBL1GHqurmE",
      "metadata": {
        "id": "5CBL1GHqurmE"
      },
      "outputs": [],
      "source": [
        "from sklearn.preprocessing import MinMaxScaler\n",
        "#create numpy.ndarray \n",
        "df['CO2_PPM'] = df['CO2_PPM'].astype(np.float32)\n",
        "df_arr = df.values\n",
        "df_arr = np.reshape(df_arr, (-1, 1))\n",
        "scaler = MinMaxScaler(feature_range=(0.1, 1))\n",
        "df_arr = scaler.fit_transform(df_arr)"
      ]
    },
    {
      "cell_type": "code",
      "execution_count": 12,
      "id": "1cea6c5f",
      "metadata": {
        "id": "1cea6c5f"
      },
      "outputs": [],
      "source": [
        "#Split data set into testing dataset and train dataset\n",
        "train_size = 2230\n",
        "train, test =df_arr[0:train_size,:], df_arr[train_size:len(df_arr),:]\n",
        "# setup look_back window \n",
        "look_back = 5\n",
        "#convert dataset into right shape in order to input into the DNN\n",
        "trainX, trainY = convert2matrix(train, look_back)\n",
        "testX, testY = convert2matrix(test, look_back)\n",
        "trainX = np.reshape(trainX, (trainX.shape[0], 1, trainX.shape[1]))\n",
        "testX = np.reshape(testX, (testX.shape[0], 1, testX.shape[1]))"
      ]
    },
    {
      "cell_type": "code",
      "execution_count": 13,
      "id": "c7d46c39",
      "metadata": {
        "colab": {
          "base_uri": "https://localhost:8080/"
        },
        "id": "c7d46c39",
        "outputId": "059da74b-33ec-49b5-b034-e341b263f9cc"
      },
      "outputs": [
        {
          "output_type": "stream",
          "name": "stdout",
          "text": [
            "(2225, 1, 5)\n",
            "(2225,)\n",
            "(242, 1, 5)\n",
            "(242,)\n"
          ]
        }
      ],
      "source": [
        "print(trainX.shape)\n",
        "print(trainY.shape)\n",
        "print(testX.shape)\n",
        "print(testY.shape)"
      ]
    },
    {
      "cell_type": "code",
      "execution_count": 15,
      "id": "GIc1nRcCuP3G",
      "metadata": {
        "colab": {
          "base_uri": "https://localhost:8080/"
        },
        "id": "GIc1nRcCuP3G",
        "outputId": "c68a2f42-0f18-4ca1-dad7-16dbbe647db1"
      },
      "outputs": [
        {
          "output_type": "stream",
          "name": "stdout",
          "text": [
            "\u001b[?25l\r\u001b[K     |██▌                             | 10 kB 21.1 MB/s eta 0:00:01\r\u001b[K     |█████                           | 20 kB 15.8 MB/s eta 0:00:01\r\u001b[K     |███████▍                        | 30 kB 10.1 MB/s eta 0:00:01\r\u001b[K     |█████████▉                      | 40 kB 8.7 MB/s eta 0:00:01\r\u001b[K     |████████████▎                   | 51 kB 3.8 MB/s eta 0:00:01\r\u001b[K     |██████████████▊                 | 61 kB 4.5 MB/s eta 0:00:01\r\u001b[K     |█████████████████▏              | 71 kB 4.7 MB/s eta 0:00:01\r\u001b[K     |███████████████████▋            | 81 kB 4.8 MB/s eta 0:00:01\r\u001b[K     |██████████████████████          | 92 kB 5.3 MB/s eta 0:00:01\r\u001b[K     |████████████████████████▌       | 102 kB 4.4 MB/s eta 0:00:01\r\u001b[K     |███████████████████████████     | 112 kB 4.4 MB/s eta 0:00:01\r\u001b[K     |█████████████████████████████▍  | 122 kB 4.4 MB/s eta 0:00:01\r\u001b[K     |███████████████████████████████▉| 133 kB 4.4 MB/s eta 0:00:01\r\u001b[K     |████████████████████████████████| 133 kB 4.4 MB/s \n",
            "\u001b[?25h"
          ]
        }
      ],
      "source": [
        "!pip install -q -U keras-tuner"
      ]
    },
    {
      "cell_type": "code",
      "execution_count": 16,
      "id": "M5te5ih0uP6u",
      "metadata": {
        "id": "M5te5ih0uP6u"
      },
      "outputs": [],
      "source": [
        "import pandas as pd\n",
        "from tensorflow import keras\n",
        "from tensorflow.keras import layers\n",
        "from keras_tuner.tuners import RandomSearch\n",
        "from tensorflow.keras.models import Sequential\n",
        "from tensorflow.keras.layers import LSTM\n",
        "from tensorflow.keras.layers import Dense,Dropout,SimpleRNN\n",
        "from tensorflow.keras.layers import Flatten\n",
        "import matplotlib.pyplot as plt"
      ]
    },
    {
      "cell_type": "code",
      "execution_count": null,
      "id": "rYiJC5hXuP_e",
      "metadata": {
        "id": "rYiJC5hXuP_e"
      },
      "outputs": [],
      "source": [
        "def build_model(hp):\n",
        "    model = keras.Sequential()\n",
        "    model.add(LSTM(hp.Int('rnn_layer',min_value=4,max_value=96,step=4), activation=\"relu\",input_shape=(1,look_back),recurrent_dropout = hp.Choice(\"first_recurrent_dropout\",[0.1,0.2,0.3],default=0.2)))\n",
        "    model.add(Dense(hp.Int('dense_layer',min_value=4,max_value=96,step=4),activation=\"relu\"))\n",
        "    model.add(Dropout(hp.Float('Dropout_rate',min_value=0,max_value=0.5,step=0.1)))\n",
        "    model.add(layers.Dense(1, activation='linear'))\n",
        "    model.compile(\n",
        "        optimizer=keras.optimizers.Adam(\n",
        "             hp.Float('learning_rate', min_value=1e-4, max_value=1e-1, sampling=\"log\")),\n",
        "        loss='mape',\n",
        "        metrics=['mape'])\n",
        "    return model"
      ]
    },
    {
      "cell_type": "code",
      "execution_count": null,
      "id": "2h_gRerjuQCT",
      "metadata": {
        "id": "2h_gRerjuQCT"
      },
      "outputs": [],
      "source": [
        "tuner = RandomSearch(\n",
        "    build_model,\n",
        "    objective='val_mape',\n",
        "    max_trials=10,\n",
        "    executions_per_trial=1,\n",
        "    directory='project',\n",
        "    project_name='loa_em_1')"
      ]
    },
    {
      "cell_type": "code",
      "execution_count": null,
      "id": "Dg5AHN3guQFu",
      "metadata": {
        "colab": {
          "base_uri": "https://localhost:8080/"
        },
        "id": "Dg5AHN3guQFu",
        "outputId": "694e12b9-5957-4e86-8bdc-d5a0e52ac0c2"
      },
      "outputs": [
        {
          "name": "stdout",
          "output_type": "stream",
          "text": [
            "Search space summary\n",
            "Default search space size: 5\n",
            "rnn_layer (Int)\n",
            "{'default': None, 'conditions': [], 'min_value': 4, 'max_value': 96, 'step': 4, 'sampling': None}\n",
            "first_recurrent_dropout (Choice)\n",
            "{'default': 0.2, 'conditions': [], 'values': [0.1, 0.2, 0.3], 'ordered': True}\n",
            "dense_layer (Int)\n",
            "{'default': None, 'conditions': [], 'min_value': 4, 'max_value': 96, 'step': 4, 'sampling': None}\n",
            "Dropout_rate (Float)\n",
            "{'default': 0.0, 'conditions': [], 'min_value': 0.0, 'max_value': 0.5, 'step': 0.1, 'sampling': None}\n",
            "learning_rate (Float)\n",
            "{'default': 0.0001, 'conditions': [], 'min_value': 0.0001, 'max_value': 0.1, 'step': None, 'sampling': 'log'}\n"
          ]
        }
      ],
      "source": [
        "tuner.search_space_summary()"
      ]
    },
    {
      "cell_type": "code",
      "execution_count": null,
      "id": "TiBXdF0K8Gpr",
      "metadata": {
        "colab": {
          "base_uri": "https://localhost:8080/"
        },
        "id": "TiBXdF0K8Gpr",
        "outputId": "9884aeb5-229d-4360-9f04-a04272f6f246"
      },
      "outputs": [
        {
          "name": "stdout",
          "output_type": "stream",
          "text": [
            "Trial 10 Complete [00h 01m 07s]\n",
            "val_mape: 0.47922512888908386\n",
            "\n",
            "Best val_mape So Far: 0.4684917628765106\n",
            "Total elapsed time: 00h 12m 49s\n",
            "INFO:tensorflow:Oracle triggered exit\n"
          ]
        }
      ],
      "source": [
        "tuner.search(trainX, trainY,\n",
        "             epochs=200,\n",
        "             batch_size=33,\n",
        "             validation_data=(testX, testY))"
      ]
    },
    {
      "cell_type": "code",
      "execution_count": null,
      "id": "VXXGH_RK8GsD",
      "metadata": {
        "colab": {
          "base_uri": "https://localhost:8080/"
        },
        "id": "VXXGH_RK8GsD",
        "outputId": "c87fdcc6-e207-4724-ad45-fe5e520449be"
      },
      "outputs": [
        {
          "name": "stdout",
          "output_type": "stream",
          "text": [
            "Results summary\n",
            "Results in project/loa_em_1\n",
            "Showing 10 best trials\n",
            "Objective(name='val_mape', direction='min')\n",
            "Trial summary\n",
            "Hyperparameters:\n",
            "rnn_layer: 76\n",
            "first_recurrent_dropout: 0.3\n",
            "dense_layer: 28\n",
            "Dropout_rate: 0.0\n",
            "learning_rate: 0.0007062940414508486\n",
            "Score: 0.4684917628765106\n",
            "Trial summary\n",
            "Hyperparameters:\n",
            "rnn_layer: 24\n",
            "first_recurrent_dropout: 0.3\n",
            "dense_layer: 80\n",
            "Dropout_rate: 0.30000000000000004\n",
            "learning_rate: 0.0039273683450240056\n",
            "Score: 0.47922512888908386\n",
            "Trial summary\n",
            "Hyperparameters:\n",
            "rnn_layer: 36\n",
            "first_recurrent_dropout: 0.2\n",
            "dense_layer: 64\n",
            "Dropout_rate: 0.0\n",
            "learning_rate: 0.020764742941149803\n",
            "Score: 0.47985491156578064\n",
            "Trial summary\n",
            "Hyperparameters:\n",
            "rnn_layer: 60\n",
            "first_recurrent_dropout: 0.3\n",
            "dense_layer: 84\n",
            "Dropout_rate: 0.2\n",
            "learning_rate: 0.0008218430847227947\n",
            "Score: 0.494182825088501\n",
            "Trial summary\n",
            "Hyperparameters:\n",
            "rnn_layer: 36\n",
            "first_recurrent_dropout: 0.1\n",
            "dense_layer: 44\n",
            "Dropout_rate: 0.2\n",
            "learning_rate: 0.010302251063280697\n",
            "Score: 0.5000973343849182\n",
            "Trial summary\n",
            "Hyperparameters:\n",
            "rnn_layer: 36\n",
            "first_recurrent_dropout: 0.3\n",
            "dense_layer: 16\n",
            "Dropout_rate: 0.30000000000000004\n",
            "learning_rate: 0.04200067183748815\n",
            "Score: 0.5617093443870544\n",
            "Trial summary\n",
            "Hyperparameters:\n",
            "rnn_layer: 8\n",
            "first_recurrent_dropout: 0.1\n",
            "dense_layer: 68\n",
            "Dropout_rate: 0.4\n",
            "learning_rate: 0.0006942253665257933\n",
            "Score: 0.6860242486000061\n",
            "Trial summary\n",
            "Hyperparameters:\n",
            "rnn_layer: 60\n",
            "first_recurrent_dropout: 0.1\n",
            "dense_layer: 16\n",
            "Dropout_rate: 0.30000000000000004\n",
            "learning_rate: 0.0003789357442556485\n",
            "Score: 0.7074643969535828\n",
            "Trial summary\n",
            "Hyperparameters:\n",
            "rnn_layer: 8\n",
            "first_recurrent_dropout: 0.3\n",
            "dense_layer: 40\n",
            "Dropout_rate: 0.30000000000000004\n",
            "learning_rate: 0.0015173732021127955\n",
            "Score: 0.9309297204017639\n",
            "Trial summary\n",
            "Hyperparameters:\n",
            "rnn_layer: 4\n",
            "first_recurrent_dropout: 0.3\n",
            "dense_layer: 24\n",
            "Dropout_rate: 0.5\n",
            "learning_rate: 0.0013443802578955487\n",
            "Score: 7.947453498840332\n"
          ]
        }
      ],
      "source": [
        "tuner.results_summary()"
      ]
    },
    {
      "cell_type": "code",
      "execution_count": null,
      "id": "FBpLenJ_DZMX",
      "metadata": {
        "id": "FBpLenJ_DZMX"
      },
      "outputs": [],
      "source": [
        "from warnings import filterwarnings\n",
        "filterwarnings('ignore')"
      ]
    },
    {
      "cell_type": "code",
      "execution_count": null,
      "id": "eL-a8rAv8Gvg",
      "metadata": {
        "colab": {
          "base_uri": "https://localhost:8080/"
        },
        "id": "eL-a8rAv8Gvg",
        "outputId": "1e1307e4-e5dd-4ffa-f4b6-12c3a1f33d37"
      },
      "outputs": [
        {
          "name": "stdout",
          "output_type": "stream",
          "text": [
            "Model: \"sequential\"\n",
            "_________________________________________________________________\n",
            " Layer (type)                Output Shape              Param #   \n",
            "=================================================================\n",
            " lstm (LSTM)                 (None, 76)                24928     \n",
            "                                                                 \n",
            " dense (Dense)               (None, 28)                2156      \n",
            "                                                                 \n",
            " dropout (Dropout)           (None, 28)                0         \n",
            "                                                                 \n",
            " dense_1 (Dense)             (None, 1)                 29        \n",
            "                                                                 \n",
            "=================================================================\n",
            "Total params: 27,113\n",
            "Trainable params: 27,113\n",
            "Non-trainable params: 0\n",
            "_________________________________________________________________\n"
          ]
        }
      ],
      "source": [
        "models = tuner.get_best_models(num_models=2)\n",
        "best_model = models[0]\n",
        "# Build the model.\n",
        "# Needed for `Sequential` without specified `input_shape`.\n",
        "best_model.build(input_shape=(None, 5))\n",
        "best_model.summary()"
      ]
    },
    {
      "cell_type": "code",
      "execution_count": 17,
      "id": "ovKDjDHZEmLV",
      "metadata": {
        "id": "ovKDjDHZEmLV"
      },
      "outputs": [],
      "source": [
        "from tensorflow.keras import optimizers\n",
        "from tensorflow.keras.callbacks import EarlyStopping\n",
        "from tensorflow.keras.layers import Bidirectional"
      ]
    },
    {
      "cell_type": "code",
      "execution_count": 32,
      "id": "0e187ddc",
      "metadata": {
        "colab": {
          "base_uri": "https://localhost:8080/"
        },
        "id": "0e187ddc",
        "outputId": "597e7004-80e9-4b67-e527-0d0affbf3c3d"
      },
      "outputs": [
        {
          "output_type": "stream",
          "name": "stdout",
          "text": [
            "Epoch 1/300\n",
            "68/68 [==============================] - 12s 60ms/step - loss: 98.5769 - mape: 98.5769 - val_loss: 98.8609 - val_mape: 98.8609\n",
            "Epoch 2/300\n",
            "68/68 [==============================] - 3s 39ms/step - loss: 95.4883 - mape: 95.4883 - val_loss: 97.5410 - val_mape: 97.5410\n",
            "Epoch 3/300\n",
            "68/68 [==============================] - 3s 39ms/step - loss: 91.8307 - mape: 91.8307 - val_loss: 95.5155 - val_mape: 95.5155\n",
            "Epoch 4/300\n",
            "68/68 [==============================] - 3s 39ms/step - loss: 86.0508 - mape: 86.0508 - val_loss: 88.6687 - val_mape: 88.6687\n",
            "Epoch 5/300\n",
            "68/68 [==============================] - 3s 40ms/step - loss: 65.2050 - mape: 65.2050 - val_loss: 74.3802 - val_mape: 74.3802\n",
            "Epoch 6/300\n",
            "68/68 [==============================] - 3s 39ms/step - loss: 23.6304 - mape: 23.6304 - val_loss: 78.6105 - val_mape: 78.6105\n",
            "Epoch 7/300\n",
            "68/68 [==============================] - 3s 40ms/step - loss: 16.1246 - mape: 16.1246 - val_loss: 64.1145 - val_mape: 64.1145\n",
            "Epoch 8/300\n",
            "68/68 [==============================] - 3s 39ms/step - loss: 12.8784 - mape: 12.8784 - val_loss: 52.4140 - val_mape: 52.4140\n",
            "Epoch 9/300\n",
            "68/68 [==============================] - 3s 39ms/step - loss: 11.2535 - mape: 11.2535 - val_loss: 36.3858 - val_mape: 36.3858\n",
            "Epoch 10/300\n",
            "68/68 [==============================] - 3s 49ms/step - loss: 10.1642 - mape: 10.1642 - val_loss: 28.9644 - val_mape: 28.9644\n",
            "Epoch 11/300\n",
            "68/68 [==============================] - 3s 39ms/step - loss: 8.9345 - mape: 8.9345 - val_loss: 14.6494 - val_mape: 14.6494\n",
            "Epoch 12/300\n",
            "68/68 [==============================] - 3s 40ms/step - loss: 7.2777 - mape: 7.2777 - val_loss: 2.5017 - val_mape: 2.5017\n",
            "Epoch 13/300\n",
            "68/68 [==============================] - 3s 40ms/step - loss: 5.6361 - mape: 5.6361 - val_loss: 3.2395 - val_mape: 3.2395\n",
            "Epoch 14/300\n",
            "68/68 [==============================] - 3s 41ms/step - loss: 4.8908 - mape: 4.8908 - val_loss: 4.7200 - val_mape: 4.7200\n",
            "Epoch 15/300\n",
            "68/68 [==============================] - 3s 40ms/step - loss: 4.4785 - mape: 4.4785 - val_loss: 5.7904 - val_mape: 5.7904\n",
            "Epoch 16/300\n",
            "68/68 [==============================] - 3s 40ms/step - loss: 4.0582 - mape: 4.0582 - val_loss: 2.2387 - val_mape: 2.2387\n",
            "Epoch 17/300\n",
            "68/68 [==============================] - 3s 39ms/step - loss: 3.7686 - mape: 3.7686 - val_loss: 1.7096 - val_mape: 1.7096\n",
            "Epoch 18/300\n",
            "68/68 [==============================] - 3s 40ms/step - loss: 3.5210 - mape: 3.5210 - val_loss: 1.8303 - val_mape: 1.8303\n",
            "Epoch 19/300\n",
            "68/68 [==============================] - 3s 40ms/step - loss: 3.3067 - mape: 3.3067 - val_loss: 2.5500 - val_mape: 2.5500\n",
            "Epoch 20/300\n",
            "68/68 [==============================] - 3s 39ms/step - loss: 3.1007 - mape: 3.1007 - val_loss: 4.4086 - val_mape: 4.4086\n",
            "Epoch 21/300\n",
            "68/68 [==============================] - 3s 39ms/step - loss: 2.9733 - mape: 2.9733 - val_loss: 6.7253 - val_mape: 6.7253\n",
            "Epoch 22/300\n",
            "68/68 [==============================] - 3s 39ms/step - loss: 2.9073 - mape: 2.9073 - val_loss: 7.6407 - val_mape: 7.6407\n",
            "Epoch 23/300\n",
            "68/68 [==============================] - 3s 39ms/step - loss: 2.8104 - mape: 2.8104 - val_loss: 6.6909 - val_mape: 6.6909\n",
            "Epoch 24/300\n",
            "68/68 [==============================] - 3s 39ms/step - loss: 2.7393 - mape: 2.7393 - val_loss: 8.0239 - val_mape: 8.0239\n",
            "Epoch 25/300\n",
            "68/68 [==============================] - 3s 39ms/step - loss: 2.6858 - mape: 2.6858 - val_loss: 10.6752 - val_mape: 10.6752\n",
            "Epoch 26/300\n",
            "68/68 [==============================] - 3s 39ms/step - loss: 2.7133 - mape: 2.7133 - val_loss: 9.6118 - val_mape: 9.6118\n",
            "Epoch 27/300\n",
            "68/68 [==============================] - 3s 40ms/step - loss: 2.6170 - mape: 2.6170 - val_loss: 11.9450 - val_mape: 11.9450\n",
            "Epoch 28/300\n",
            "68/68 [==============================] - 3s 39ms/step - loss: 2.6157 - mape: 2.6157 - val_loss: 9.9963 - val_mape: 9.9963\n",
            "Epoch 29/300\n",
            "68/68 [==============================] - 3s 40ms/step - loss: 2.5987 - mape: 2.5987 - val_loss: 11.2012 - val_mape: 11.2012\n",
            "Epoch 30/300\n",
            "68/68 [==============================] - 3s 40ms/step - loss: 2.5521 - mape: 2.5521 - val_loss: 13.5620 - val_mape: 13.5620\n",
            "Epoch 31/300\n",
            "68/68 [==============================] - 3s 40ms/step - loss: 2.5864 - mape: 2.5864 - val_loss: 13.5908 - val_mape: 13.5908\n",
            "Epoch 32/300\n",
            "68/68 [==============================] - 3s 40ms/step - loss: 2.5244 - mape: 2.5244 - val_loss: 9.2663 - val_mape: 9.2663\n",
            "Epoch 33/300\n",
            "68/68 [==============================] - 3s 39ms/step - loss: 2.5005 - mape: 2.5005 - val_loss: 9.7398 - val_mape: 9.7398\n",
            "Epoch 34/300\n",
            "68/68 [==============================] - 3s 39ms/step - loss: 2.5120 - mape: 2.5120 - val_loss: 9.4923 - val_mape: 9.4923\n",
            "Epoch 35/300\n",
            "68/68 [==============================] - 3s 40ms/step - loss: 2.4691 - mape: 2.4691 - val_loss: 9.1882 - val_mape: 9.1882\n",
            "Epoch 36/300\n",
            "68/68 [==============================] - 3s 40ms/step - loss: 2.4469 - mape: 2.4469 - val_loss: 9.1207 - val_mape: 9.1207\n",
            "Epoch 37/300\n",
            "68/68 [==============================] - 3s 40ms/step - loss: 2.4469 - mape: 2.4469 - val_loss: 8.3536 - val_mape: 8.3536\n",
            "Epoch 38/300\n",
            "68/68 [==============================] - 3s 41ms/step - loss: 2.4617 - mape: 2.4617 - val_loss: 9.1452 - val_mape: 9.1452\n",
            "Epoch 39/300\n",
            "68/68 [==============================] - 3s 39ms/step - loss: 2.3994 - mape: 2.3994 - val_loss: 9.4309 - val_mape: 9.4309\n",
            "Epoch 40/300\n",
            "68/68 [==============================] - 3s 39ms/step - loss: 2.4017 - mape: 2.4017 - val_loss: 9.6257 - val_mape: 9.6257\n",
            "Epoch 41/300\n",
            "68/68 [==============================] - 3s 42ms/step - loss: 2.3880 - mape: 2.3880 - val_loss: 9.7110 - val_mape: 9.7110\n",
            "Epoch 42/300\n",
            "68/68 [==============================] - 3s 45ms/step - loss: 2.3924 - mape: 2.3924 - val_loss: 5.6976 - val_mape: 5.6976\n",
            "Epoch 43/300\n",
            "68/68 [==============================] - 3s 41ms/step - loss: 2.4092 - mape: 2.4092 - val_loss: 8.0207 - val_mape: 8.0207\n",
            "Epoch 44/300\n",
            "68/68 [==============================] - 3s 40ms/step - loss: 2.4206 - mape: 2.4206 - val_loss: 5.6565 - val_mape: 5.6565\n",
            "Epoch 45/300\n",
            "68/68 [==============================] - 3s 41ms/step - loss: 2.3786 - mape: 2.3786 - val_loss: 8.4521 - val_mape: 8.4521\n",
            "Epoch 46/300\n",
            "68/68 [==============================] - 3s 40ms/step - loss: 2.3426 - mape: 2.3426 - val_loss: 9.3058 - val_mape: 9.3058\n",
            "Epoch 47/300\n",
            "68/68 [==============================] - 3s 40ms/step - loss: 2.3250 - mape: 2.3250 - val_loss: 6.9206 - val_mape: 6.9206\n",
            "Epoch 48/300\n",
            "68/68 [==============================] - 3s 40ms/step - loss: 2.3056 - mape: 2.3056 - val_loss: 7.6846 - val_mape: 7.6846\n",
            "Epoch 49/300\n",
            "68/68 [==============================] - 3s 39ms/step - loss: 2.3208 - mape: 2.3208 - val_loss: 6.1149 - val_mape: 6.1149\n",
            "Epoch 50/300\n",
            "68/68 [==============================] - 3s 40ms/step - loss: 2.3239 - mape: 2.3239 - val_loss: 7.5348 - val_mape: 7.5348\n",
            "Epoch 51/300\n",
            "68/68 [==============================] - 3s 40ms/step - loss: 2.2973 - mape: 2.2973 - val_loss: 9.1466 - val_mape: 9.1466\n",
            "Epoch 52/300\n",
            "68/68 [==============================] - 3s 39ms/step - loss: 2.2829 - mape: 2.2829 - val_loss: 9.0213 - val_mape: 9.0213\n",
            "Epoch 53/300\n",
            "68/68 [==============================] - 3s 40ms/step - loss: 2.2771 - mape: 2.2771 - val_loss: 8.6569 - val_mape: 8.6569\n",
            "Epoch 54/300\n",
            "68/68 [==============================] - 3s 39ms/step - loss: 2.2783 - mape: 2.2783 - val_loss: 8.1701 - val_mape: 8.1701\n",
            "Epoch 55/300\n",
            "68/68 [==============================] - 3s 39ms/step - loss: 2.2847 - mape: 2.2847 - val_loss: 7.3295 - val_mape: 7.3295\n",
            "Epoch 56/300\n",
            "68/68 [==============================] - 3s 40ms/step - loss: 2.2505 - mape: 2.2505 - val_loss: 5.9337 - val_mape: 5.9337\n",
            "Epoch 57/300\n",
            "68/68 [==============================] - 3s 41ms/step - loss: 2.2594 - mape: 2.2594 - val_loss: 6.6978 - val_mape: 6.6978\n",
            "Epoch 58/300\n",
            "68/68 [==============================] - 3s 45ms/step - loss: 2.2647 - mape: 2.2647 - val_loss: 8.9232 - val_mape: 8.9232\n",
            "Epoch 59/300\n",
            "68/68 [==============================] - 3s 41ms/step - loss: 2.2282 - mape: 2.2282 - val_loss: 7.6626 - val_mape: 7.6626\n",
            "Epoch 60/300\n",
            "68/68 [==============================] - 3s 40ms/step - loss: 2.2632 - mape: 2.2632 - val_loss: 5.4830 - val_mape: 5.4830\n",
            "Epoch 61/300\n",
            "68/68 [==============================] - 3s 39ms/step - loss: 2.2153 - mape: 2.2153 - val_loss: 6.3231 - val_mape: 6.3231\n",
            "Epoch 62/300\n",
            "68/68 [==============================] - 3s 40ms/step - loss: 2.2017 - mape: 2.2017 - val_loss: 8.7454 - val_mape: 8.7454\n",
            "Epoch 63/300\n",
            "68/68 [==============================] - 3s 40ms/step - loss: 2.2270 - mape: 2.2270 - val_loss: 6.5657 - val_mape: 6.5657\n",
            "Epoch 64/300\n",
            "68/68 [==============================] - 3s 40ms/step - loss: 2.1858 - mape: 2.1858 - val_loss: 6.3090 - val_mape: 6.3090\n",
            "Epoch 65/300\n",
            "68/68 [==============================] - 3s 40ms/step - loss: 2.1925 - mape: 2.1925 - val_loss: 5.0016 - val_mape: 5.0016\n",
            "Epoch 66/300\n",
            "68/68 [==============================] - 3s 40ms/step - loss: 2.1906 - mape: 2.1906 - val_loss: 7.0481 - val_mape: 7.0481\n",
            "Epoch 67/300\n",
            "68/68 [==============================] - 3s 41ms/step - loss: 2.1887 - mape: 2.1887 - val_loss: 5.2009 - val_mape: 5.2009\n",
            "Epoch 68/300\n",
            "68/68 [==============================] - 3s 40ms/step - loss: 2.2045 - mape: 2.2045 - val_loss: 4.8611 - val_mape: 4.8611\n",
            "Epoch 69/300\n",
            "68/68 [==============================] - 3s 40ms/step - loss: 2.2119 - mape: 2.2119 - val_loss: 5.7505 - val_mape: 5.7505\n",
            "Epoch 70/300\n",
            "68/68 [==============================] - 3s 40ms/step - loss: 2.1859 - mape: 2.1859 - val_loss: 5.3793 - val_mape: 5.3793\n",
            "Epoch 71/300\n",
            "68/68 [==============================] - 3s 40ms/step - loss: 2.1408 - mape: 2.1408 - val_loss: 5.0628 - val_mape: 5.0628\n",
            "Epoch 72/300\n",
            "68/68 [==============================] - 3s 40ms/step - loss: 2.1490 - mape: 2.1490 - val_loss: 5.2827 - val_mape: 5.2827\n",
            "Epoch 73/300\n",
            "68/68 [==============================] - 3s 40ms/step - loss: 2.1450 - mape: 2.1450 - val_loss: 5.3627 - val_mape: 5.3627\n",
            "Epoch 74/300\n",
            "68/68 [==============================] - 3s 39ms/step - loss: 2.1427 - mape: 2.1427 - val_loss: 5.0892 - val_mape: 5.0892\n",
            "Epoch 75/300\n",
            "68/68 [==============================] - 3s 40ms/step - loss: 2.1921 - mape: 2.1921 - val_loss: 5.8448 - val_mape: 5.8448\n",
            "Epoch 76/300\n",
            "68/68 [==============================] - 3s 41ms/step - loss: 2.1456 - mape: 2.1456 - val_loss: 5.0199 - val_mape: 5.0199\n",
            "Epoch 77/300\n",
            "68/68 [==============================] - 3s 39ms/step - loss: 2.1298 - mape: 2.1298 - val_loss: 5.6551 - val_mape: 5.6551\n",
            "Epoch 78/300\n",
            "68/68 [==============================] - 3s 40ms/step - loss: 2.1301 - mape: 2.1301 - val_loss: 5.7678 - val_mape: 5.7678\n",
            "Epoch 79/300\n",
            "68/68 [==============================] - 3s 40ms/step - loss: 2.1043 - mape: 2.1043 - val_loss: 5.5147 - val_mape: 5.5147\n",
            "Epoch 80/300\n",
            "68/68 [==============================] - 3s 40ms/step - loss: 2.1081 - mape: 2.1081 - val_loss: 4.7418 - val_mape: 4.7418\n",
            "Epoch 81/300\n",
            "68/68 [==============================] - 3s 40ms/step - loss: 2.1150 - mape: 2.1150 - val_loss: 4.2049 - val_mape: 4.2049\n",
            "Epoch 82/300\n",
            "68/68 [==============================] - 3s 40ms/step - loss: 2.1304 - mape: 2.1304 - val_loss: 4.5702 - val_mape: 4.5702\n",
            "Epoch 83/300\n",
            "68/68 [==============================] - 3s 40ms/step - loss: 2.1077 - mape: 2.1077 - val_loss: 4.0957 - val_mape: 4.0957\n",
            "Epoch 84/300\n",
            "68/68 [==============================] - 3s 40ms/step - loss: 2.1122 - mape: 2.1122 - val_loss: 4.5265 - val_mape: 4.5265\n",
            "Epoch 85/300\n",
            "68/68 [==============================] - 3s 40ms/step - loss: 2.1373 - mape: 2.1373 - val_loss: 4.8338 - val_mape: 4.8338\n",
            "Epoch 86/300\n",
            "68/68 [==============================] - 3s 41ms/step - loss: 2.1149 - mape: 2.1149 - val_loss: 4.0423 - val_mape: 4.0423\n",
            "Epoch 87/300\n",
            "68/68 [==============================] - 3s 41ms/step - loss: 2.0806 - mape: 2.0806 - val_loss: 5.6128 - val_mape: 5.6128\n",
            "Epoch 88/300\n",
            "68/68 [==============================] - 3s 40ms/step - loss: 2.0931 - mape: 2.0931 - val_loss: 4.2807 - val_mape: 4.2807\n",
            "Epoch 89/300\n",
            "68/68 [==============================] - 3s 40ms/step - loss: 2.0667 - mape: 2.0667 - val_loss: 3.3199 - val_mape: 3.3199\n",
            "Epoch 90/300\n",
            "68/68 [==============================] - 3s 40ms/step - loss: 2.0846 - mape: 2.0846 - val_loss: 4.6189 - val_mape: 4.6189\n",
            "Epoch 91/300\n",
            "68/68 [==============================] - 3s 40ms/step - loss: 2.0600 - mape: 2.0600 - val_loss: 4.5324 - val_mape: 4.5324\n",
            "Epoch 92/300\n",
            "68/68 [==============================] - 3s 40ms/step - loss: 2.0970 - mape: 2.0970 - val_loss: 3.1581 - val_mape: 3.1581\n",
            "Epoch 93/300\n",
            "68/68 [==============================] - 3s 39ms/step - loss: 2.0757 - mape: 2.0757 - val_loss: 4.2940 - val_mape: 4.2940\n",
            "Epoch 94/300\n",
            "68/68 [==============================] - 3s 39ms/step - loss: 2.0556 - mape: 2.0556 - val_loss: 3.2066 - val_mape: 3.2066\n",
            "Epoch 95/300\n",
            "68/68 [==============================] - 3s 40ms/step - loss: 2.0476 - mape: 2.0476 - val_loss: 2.8009 - val_mape: 2.8009\n",
            "Epoch 96/300\n",
            "68/68 [==============================] - 3s 40ms/step - loss: 2.0667 - mape: 2.0667 - val_loss: 4.6353 - val_mape: 4.6353\n",
            "Epoch 97/300\n",
            "68/68 [==============================] - 3s 39ms/step - loss: 2.0526 - mape: 2.0526 - val_loss: 5.3871 - val_mape: 5.3871\n",
            "Epoch 98/300\n",
            "68/68 [==============================] - 3s 41ms/step - loss: 2.0571 - mape: 2.0571 - val_loss: 5.0556 - val_mape: 5.0556\n",
            "Epoch 99/300\n",
            "68/68 [==============================] - 3s 40ms/step - loss: 2.0505 - mape: 2.0505 - val_loss: 2.6051 - val_mape: 2.6051\n",
            "Epoch 100/300\n",
            "68/68 [==============================] - 3s 39ms/step - loss: 2.0261 - mape: 2.0261 - val_loss: 1.8892 - val_mape: 1.8892\n",
            "Epoch 101/300\n",
            "68/68 [==============================] - 3s 40ms/step - loss: 2.0639 - mape: 2.0639 - val_loss: 4.9423 - val_mape: 4.9423\n",
            "Epoch 102/300\n",
            "68/68 [==============================] - 3s 40ms/step - loss: 2.0578 - mape: 2.0578 - val_loss: 4.7034 - val_mape: 4.7034\n",
            "Epoch 103/300\n",
            "68/68 [==============================] - 3s 41ms/step - loss: 2.0384 - mape: 2.0384 - val_loss: 4.2131 - val_mape: 4.2131\n",
            "Epoch 104/300\n",
            "68/68 [==============================] - 3s 40ms/step - loss: 2.0177 - mape: 2.0177 - val_loss: 3.1670 - val_mape: 3.1670\n",
            "Epoch 105/300\n",
            "68/68 [==============================] - 3s 40ms/step - loss: 2.0410 - mape: 2.0410 - val_loss: 3.7327 - val_mape: 3.7327\n",
            "Epoch 106/300\n",
            "68/68 [==============================] - 3s 40ms/step - loss: 2.0121 - mape: 2.0121 - val_loss: 3.4075 - val_mape: 3.4075\n",
            "Epoch 107/300\n",
            "68/68 [==============================] - 3s 40ms/step - loss: 2.0478 - mape: 2.0478 - val_loss: 4.8249 - val_mape: 4.8249\n",
            "Epoch 108/300\n",
            "68/68 [==============================] - 3s 40ms/step - loss: 2.0668 - mape: 2.0668 - val_loss: 2.2157 - val_mape: 2.2157\n",
            "Epoch 109/300\n",
            "68/68 [==============================] - 3s 40ms/step - loss: 2.0213 - mape: 2.0213 - val_loss: 2.6954 - val_mape: 2.6954\n",
            "Epoch 110/300\n",
            "68/68 [==============================] - 3s 40ms/step - loss: 2.0448 - mape: 2.0448 - val_loss: 2.9867 - val_mape: 2.9867\n",
            "Epoch 111/300\n",
            "68/68 [==============================] - 3s 40ms/step - loss: 2.0560 - mape: 2.0560 - val_loss: 2.6700 - val_mape: 2.6700\n",
            "Epoch 112/300\n",
            "68/68 [==============================] - 3s 40ms/step - loss: 1.9786 - mape: 1.9786 - val_loss: 3.2598 - val_mape: 3.2598\n",
            "Epoch 113/300\n",
            "68/68 [==============================] - 3s 41ms/step - loss: 1.9754 - mape: 1.9754 - val_loss: 3.0509 - val_mape: 3.0509\n",
            "Epoch 114/300\n",
            "68/68 [==============================] - 3s 40ms/step - loss: 1.9914 - mape: 1.9914 - val_loss: 3.5577 - val_mape: 3.5577\n",
            "Epoch 115/300\n",
            "68/68 [==============================] - 3s 40ms/step - loss: 2.0036 - mape: 2.0036 - val_loss: 1.4565 - val_mape: 1.4565\n",
            "Epoch 116/300\n",
            "68/68 [==============================] - 3s 40ms/step - loss: 1.9934 - mape: 1.9934 - val_loss: 2.7464 - val_mape: 2.7464\n",
            "Epoch 117/300\n",
            "68/68 [==============================] - 3s 40ms/step - loss: 1.9777 - mape: 1.9777 - val_loss: 2.2760 - val_mape: 2.2760\n",
            "Epoch 118/300\n",
            "68/68 [==============================] - 3s 40ms/step - loss: 1.9808 - mape: 1.9808 - val_loss: 2.1277 - val_mape: 2.1277\n",
            "Epoch 119/300\n",
            "68/68 [==============================] - 3s 40ms/step - loss: 1.9754 - mape: 1.9754 - val_loss: 2.7204 - val_mape: 2.7204\n",
            "Epoch 120/300\n",
            "68/68 [==============================] - 3s 42ms/step - loss: 2.0042 - mape: 2.0042 - val_loss: 4.4391 - val_mape: 4.4391\n",
            "Epoch 121/300\n",
            "68/68 [==============================] - 3s 40ms/step - loss: 1.9956 - mape: 1.9956 - val_loss: 3.3267 - val_mape: 3.3267\n",
            "Epoch 122/300\n",
            "68/68 [==============================] - 3s 40ms/step - loss: 1.9590 - mape: 1.9590 - val_loss: 2.6619 - val_mape: 2.6619\n",
            "Epoch 123/300\n",
            "68/68 [==============================] - 3s 40ms/step - loss: 1.9915 - mape: 1.9915 - val_loss: 1.3506 - val_mape: 1.3506\n",
            "Epoch 124/300\n",
            "68/68 [==============================] - 3s 41ms/step - loss: 2.0655 - mape: 2.0655 - val_loss: 2.3092 - val_mape: 2.3092\n",
            "Epoch 125/300\n",
            "68/68 [==============================] - 3s 41ms/step - loss: 1.9473 - mape: 1.9473 - val_loss: 1.6894 - val_mape: 1.6894\n",
            "Epoch 126/300\n",
            "68/68 [==============================] - 3s 40ms/step - loss: 1.9523 - mape: 1.9523 - val_loss: 1.6799 - val_mape: 1.6799\n",
            "Epoch 127/300\n",
            "68/68 [==============================] - 3s 40ms/step - loss: 1.9652 - mape: 1.9652 - val_loss: 1.5605 - val_mape: 1.5605\n",
            "Epoch 128/300\n",
            "68/68 [==============================] - 3s 40ms/step - loss: 1.9657 - mape: 1.9657 - val_loss: 1.4784 - val_mape: 1.4784\n",
            "Epoch 129/300\n",
            "68/68 [==============================] - 3s 40ms/step - loss: 1.9922 - mape: 1.9922 - val_loss: 1.6567 - val_mape: 1.6567\n",
            "Epoch 130/300\n",
            "68/68 [==============================] - 3s 40ms/step - loss: 1.9739 - mape: 1.9739 - val_loss: 1.9719 - val_mape: 1.9719\n",
            "Epoch 131/300\n",
            "68/68 [==============================] - 3s 40ms/step - loss: 1.9302 - mape: 1.9302 - val_loss: 3.8233 - val_mape: 3.8233\n",
            "Epoch 132/300\n",
            "68/68 [==============================] - 3s 40ms/step - loss: 1.9468 - mape: 1.9468 - val_loss: 3.4284 - val_mape: 3.4284\n",
            "Epoch 133/300\n",
            "68/68 [==============================] - 3s 40ms/step - loss: 1.9749 - mape: 1.9749 - val_loss: 1.2558 - val_mape: 1.2558\n",
            "Epoch 134/300\n",
            "68/68 [==============================] - 3s 40ms/step - loss: 1.9267 - mape: 1.9267 - val_loss: 2.9968 - val_mape: 2.9968\n",
            "Epoch 135/300\n",
            "68/68 [==============================] - 3s 43ms/step - loss: 1.9661 - mape: 1.9661 - val_loss: 2.6315 - val_mape: 2.6315\n",
            "Epoch 136/300\n",
            "68/68 [==============================] - 3s 47ms/step - loss: 1.9157 - mape: 1.9157 - val_loss: 2.3992 - val_mape: 2.3992\n",
            "Epoch 137/300\n",
            "68/68 [==============================] - 3s 51ms/step - loss: 1.9406 - mape: 1.9406 - val_loss: 2.0940 - val_mape: 2.0940\n",
            "Epoch 138/300\n",
            "68/68 [==============================] - 3s 46ms/step - loss: 1.8996 - mape: 1.8996 - val_loss: 3.7314 - val_mape: 3.7314\n",
            "Epoch 139/300\n",
            "68/68 [==============================] - 3s 40ms/step - loss: 1.9488 - mape: 1.9488 - val_loss: 1.6300 - val_mape: 1.6300\n",
            "Epoch 140/300\n",
            "68/68 [==============================] - 3s 40ms/step - loss: 1.9116 - mape: 1.9116 - val_loss: 1.4047 - val_mape: 1.4047\n",
            "Epoch 141/300\n",
            "68/68 [==============================] - 3s 41ms/step - loss: 1.9093 - mape: 1.9093 - val_loss: 2.7042 - val_mape: 2.7042\n",
            "Epoch 142/300\n",
            "68/68 [==============================] - 3s 41ms/step - loss: 1.8956 - mape: 1.8956 - val_loss: 2.8176 - val_mape: 2.8176\n",
            "Epoch 143/300\n",
            "68/68 [==============================] - 3s 40ms/step - loss: 1.8918 - mape: 1.8918 - val_loss: 1.9950 - val_mape: 1.9950\n",
            "Epoch 144/300\n",
            "68/68 [==============================] - 3s 41ms/step - loss: 1.9395 - mape: 1.9395 - val_loss: 1.5768 - val_mape: 1.5768\n",
            "Epoch 145/300\n",
            "68/68 [==============================] - 3s 41ms/step - loss: 1.9448 - mape: 1.9448 - val_loss: 1.2791 - val_mape: 1.2791\n",
            "Epoch 146/300\n",
            "68/68 [==============================] - 3s 40ms/step - loss: 1.9158 - mape: 1.9158 - val_loss: 1.3144 - val_mape: 1.3144\n",
            "Epoch 147/300\n",
            "68/68 [==============================] - 3s 40ms/step - loss: 1.9050 - mape: 1.9050 - val_loss: 1.5241 - val_mape: 1.5241\n",
            "Epoch 148/300\n",
            "68/68 [==============================] - 3s 40ms/step - loss: 1.8971 - mape: 1.8971 - val_loss: 2.5668 - val_mape: 2.5668\n",
            "Epoch 149/300\n",
            "68/68 [==============================] - 3s 40ms/step - loss: 1.9785 - mape: 1.9785 - val_loss: 5.6186 - val_mape: 5.6186\n",
            "Epoch 150/300\n",
            "68/68 [==============================] - 3s 41ms/step - loss: 1.9372 - mape: 1.9372 - val_loss: 2.8641 - val_mape: 2.8641\n",
            "Epoch 151/300\n",
            "68/68 [==============================] - 3s 40ms/step - loss: 1.8810 - mape: 1.8810 - val_loss: 1.1170 - val_mape: 1.1170\n",
            "Epoch 152/300\n",
            "68/68 [==============================] - 3s 40ms/step - loss: 1.8944 - mape: 1.8944 - val_loss: 1.4458 - val_mape: 1.4458\n",
            "Epoch 153/300\n",
            "68/68 [==============================] - 3s 40ms/step - loss: 1.9009 - mape: 1.9009 - val_loss: 2.2275 - val_mape: 2.2275\n",
            "Epoch 154/300\n",
            "68/68 [==============================] - 3s 40ms/step - loss: 1.8712 - mape: 1.8712 - val_loss: 1.2228 - val_mape: 1.2228\n",
            "Epoch 155/300\n",
            "68/68 [==============================] - 3s 40ms/step - loss: 1.8785 - mape: 1.8785 - val_loss: 2.3701 - val_mape: 2.3701\n",
            "Epoch 156/300\n",
            "68/68 [==============================] - 3s 40ms/step - loss: 1.9109 - mape: 1.9109 - val_loss: 1.3398 - val_mape: 1.3398\n",
            "Epoch 157/300\n",
            "68/68 [==============================] - 3s 40ms/step - loss: 1.8821 - mape: 1.8821 - val_loss: 3.3309 - val_mape: 3.3309\n",
            "Epoch 158/300\n",
            "68/68 [==============================] - 3s 40ms/step - loss: 1.8495 - mape: 1.8495 - val_loss: 1.3883 - val_mape: 1.3883\n",
            "Epoch 159/300\n",
            "68/68 [==============================] - 3s 40ms/step - loss: 1.8649 - mape: 1.8649 - val_loss: 1.9116 - val_mape: 1.9116\n",
            "Epoch 160/300\n",
            "68/68 [==============================] - 3s 41ms/step - loss: 1.8852 - mape: 1.8852 - val_loss: 1.9647 - val_mape: 1.9647\n",
            "Epoch 161/300\n",
            "68/68 [==============================] - 3s 41ms/step - loss: 1.8756 - mape: 1.8756 - val_loss: 2.7382 - val_mape: 2.7382\n",
            "Epoch 162/300\n",
            "68/68 [==============================] - 3s 41ms/step - loss: 1.8569 - mape: 1.8569 - val_loss: 1.3596 - val_mape: 1.3596\n",
            "Epoch 163/300\n",
            "68/68 [==============================] - 3s 41ms/step - loss: 1.8791 - mape: 1.8791 - val_loss: 2.0904 - val_mape: 2.0904\n",
            "Epoch 164/300\n",
            "68/68 [==============================] - 3s 40ms/step - loss: 1.8580 - mape: 1.8580 - val_loss: 3.3202 - val_mape: 3.3202\n",
            "Epoch 165/300\n",
            "68/68 [==============================] - 3s 40ms/step - loss: 1.8483 - mape: 1.8483 - val_loss: 1.2682 - val_mape: 1.2682\n",
            "Epoch 166/300\n",
            "68/68 [==============================] - 3s 41ms/step - loss: 1.8412 - mape: 1.8412 - val_loss: 1.0951 - val_mape: 1.0951\n",
            "Epoch 167/300\n",
            "68/68 [==============================] - 3s 41ms/step - loss: 1.8330 - mape: 1.8330 - val_loss: 1.6166 - val_mape: 1.6166\n",
            "Epoch 168/300\n",
            "68/68 [==============================] - 3s 41ms/step - loss: 1.8472 - mape: 1.8472 - val_loss: 1.1971 - val_mape: 1.1971\n",
            "Epoch 169/300\n",
            "68/68 [==============================] - 3s 40ms/step - loss: 1.8500 - mape: 1.8500 - val_loss: 2.0182 - val_mape: 2.0182\n",
            "Epoch 170/300\n",
            "68/68 [==============================] - 3s 42ms/step - loss: 1.8102 - mape: 1.8102 - val_loss: 1.2298 - val_mape: 1.2298\n",
            "Epoch 171/300\n",
            "68/68 [==============================] - 3s 40ms/step - loss: 1.8976 - mape: 1.8976 - val_loss: 3.8284 - val_mape: 3.8284\n",
            "Epoch 172/300\n",
            "68/68 [==============================] - 3s 40ms/step - loss: 1.8750 - mape: 1.8750 - val_loss: 1.4408 - val_mape: 1.4408\n",
            "Epoch 173/300\n",
            "68/68 [==============================] - 3s 41ms/step - loss: 1.8073 - mape: 1.8073 - val_loss: 1.2509 - val_mape: 1.2509\n",
            "Epoch 174/300\n",
            "68/68 [==============================] - 3s 41ms/step - loss: 1.8169 - mape: 1.8169 - val_loss: 1.8001 - val_mape: 1.8001\n",
            "Epoch 175/300\n",
            "68/68 [==============================] - 3s 41ms/step - loss: 1.8140 - mape: 1.8140 - val_loss: 2.4557 - val_mape: 2.4557\n",
            "Epoch 176/300\n",
            "68/68 [==============================] - 3s 41ms/step - loss: 1.8349 - mape: 1.8349 - val_loss: 1.0405 - val_mape: 1.0405\n",
            "Epoch 177/300\n",
            "68/68 [==============================] - 3s 41ms/step - loss: 1.8089 - mape: 1.8089 - val_loss: 1.8870 - val_mape: 1.8870\n",
            "Epoch 178/300\n",
            "68/68 [==============================] - 3s 40ms/step - loss: 1.8237 - mape: 1.8237 - val_loss: 1.4312 - val_mape: 1.4312\n",
            "Epoch 179/300\n",
            "68/68 [==============================] - 3s 41ms/step - loss: 1.8239 - mape: 1.8239 - val_loss: 1.8820 - val_mape: 1.8820\n",
            "Epoch 180/300\n",
            "68/68 [==============================] - 3s 40ms/step - loss: 1.8442 - mape: 1.8442 - val_loss: 1.3774 - val_mape: 1.3774\n",
            "Epoch 181/300\n",
            "68/68 [==============================] - 3s 41ms/step - loss: 1.8652 - mape: 1.8652 - val_loss: 2.5560 - val_mape: 2.5560\n",
            "Epoch 182/300\n",
            "68/68 [==============================] - 3s 42ms/step - loss: 1.8008 - mape: 1.8008 - val_loss: 1.2929 - val_mape: 1.2929\n",
            "Epoch 183/300\n",
            "68/68 [==============================] - 3s 41ms/step - loss: 1.8208 - mape: 1.8208 - val_loss: 2.3581 - val_mape: 2.3581\n",
            "Epoch 184/300\n",
            "68/68 [==============================] - 3s 42ms/step - loss: 1.7850 - mape: 1.7850 - val_loss: 2.6440 - val_mape: 2.6440\n",
            "Epoch 185/300\n",
            "68/68 [==============================] - 3s 41ms/step - loss: 1.7855 - mape: 1.7855 - val_loss: 1.1295 - val_mape: 1.1295\n",
            "Epoch 186/300\n",
            "68/68 [==============================] - 3s 40ms/step - loss: 1.7867 - mape: 1.7867 - val_loss: 1.3608 - val_mape: 1.3608\n",
            "Epoch 187/300\n",
            "68/68 [==============================] - 3s 40ms/step - loss: 1.8085 - mape: 1.8085 - val_loss: 0.9886 - val_mape: 0.9886\n",
            "Epoch 188/300\n",
            "68/68 [==============================] - 3s 41ms/step - loss: 1.8164 - mape: 1.8164 - val_loss: 1.8635 - val_mape: 1.8635\n",
            "Epoch 189/300\n",
            "68/68 [==============================] - 3s 41ms/step - loss: 1.7710 - mape: 1.7710 - val_loss: 1.6460 - val_mape: 1.6460\n",
            "Epoch 190/300\n",
            "68/68 [==============================] - 3s 41ms/step - loss: 1.7849 - mape: 1.7849 - val_loss: 1.2086 - val_mape: 1.2086\n",
            "Epoch 191/300\n",
            "68/68 [==============================] - 3s 40ms/step - loss: 1.7932 - mape: 1.7932 - val_loss: 1.1109 - val_mape: 1.1109\n",
            "Epoch 192/300\n",
            "68/68 [==============================] - 3s 41ms/step - loss: 1.7641 - mape: 1.7641 - val_loss: 1.0517 - val_mape: 1.0517\n",
            "Epoch 193/300\n",
            "68/68 [==============================] - 3s 41ms/step - loss: 1.7738 - mape: 1.7738 - val_loss: 1.1270 - val_mape: 1.1270\n",
            "Epoch 194/300\n",
            "68/68 [==============================] - 3s 41ms/step - loss: 1.7922 - mape: 1.7922 - val_loss: 1.3590 - val_mape: 1.3590\n",
            "Epoch 195/300\n",
            "68/68 [==============================] - 3s 40ms/step - loss: 1.7748 - mape: 1.7748 - val_loss: 1.9019 - val_mape: 1.9019\n",
            "Epoch 196/300\n",
            "68/68 [==============================] - 3s 40ms/step - loss: 1.7697 - mape: 1.7697 - val_loss: 1.5394 - val_mape: 1.5394\n",
            "Epoch 197/300\n",
            "68/68 [==============================] - 3s 41ms/step - loss: 1.7815 - mape: 1.7815 - val_loss: 1.2456 - val_mape: 1.2456\n",
            "Epoch 198/300\n",
            "68/68 [==============================] - 3s 41ms/step - loss: 1.7696 - mape: 1.7696 - val_loss: 1.4786 - val_mape: 1.4786\n",
            "Epoch 199/300\n",
            "68/68 [==============================] - 3s 41ms/step - loss: 1.7575 - mape: 1.7575 - val_loss: 1.7986 - val_mape: 1.7986\n",
            "Epoch 200/300\n",
            "68/68 [==============================] - 3s 40ms/step - loss: 1.7440 - mape: 1.7440 - val_loss: 1.1778 - val_mape: 1.1778\n",
            "Epoch 201/300\n",
            "68/68 [==============================] - 3s 40ms/step - loss: 1.7446 - mape: 1.7446 - val_loss: 1.0039 - val_mape: 1.0039\n",
            "Epoch 202/300\n",
            "68/68 [==============================] - 3s 41ms/step - loss: 1.7615 - mape: 1.7615 - val_loss: 1.8130 - val_mape: 1.8130\n",
            "Epoch 203/300\n",
            "68/68 [==============================] - 3s 41ms/step - loss: 1.7428 - mape: 1.7428 - val_loss: 1.3884 - val_mape: 1.3884\n",
            "Epoch 204/300\n",
            "68/68 [==============================] - 3s 41ms/step - loss: 1.7519 - mape: 1.7519 - val_loss: 1.0022 - val_mape: 1.0022\n",
            "Epoch 205/300\n",
            "68/68 [==============================] - 3s 41ms/step - loss: 1.7437 - mape: 1.7437 - val_loss: 1.2386 - val_mape: 1.2386\n",
            "Epoch 206/300\n",
            "68/68 [==============================] - 3s 43ms/step - loss: 1.7410 - mape: 1.7410 - val_loss: 1.0556 - val_mape: 1.0556\n",
            "Epoch 207/300\n",
            "68/68 [==============================] - 3s 42ms/step - loss: 1.7569 - mape: 1.7569 - val_loss: 1.8300 - val_mape: 1.8300\n",
            "Epoch 208/300\n",
            "68/68 [==============================] - 3s 41ms/step - loss: 1.7508 - mape: 1.7508 - val_loss: 1.7189 - val_mape: 1.7189\n",
            "Epoch 209/300\n",
            "68/68 [==============================] - 3s 42ms/step - loss: 1.7360 - mape: 1.7360 - val_loss: 1.2911 - val_mape: 1.2911\n",
            "Epoch 210/300\n",
            "68/68 [==============================] - 3s 42ms/step - loss: 1.7294 - mape: 1.7294 - val_loss: 1.1593 - val_mape: 1.1593\n",
            "Epoch 211/300\n",
            "68/68 [==============================] - 3s 41ms/step - loss: 1.7341 - mape: 1.7341 - val_loss: 0.9783 - val_mape: 0.9783\n",
            "Epoch 212/300\n",
            "68/68 [==============================] - 3s 40ms/step - loss: 1.7561 - mape: 1.7561 - val_loss: 2.6086 - val_mape: 2.6086\n",
            "Epoch 213/300\n",
            "68/68 [==============================] - 3s 41ms/step - loss: 1.7041 - mape: 1.7041 - val_loss: 0.8967 - val_mape: 0.8967\n",
            "Epoch 214/300\n",
            "68/68 [==============================] - 3s 42ms/step - loss: 1.7808 - mape: 1.7808 - val_loss: 0.9675 - val_mape: 0.9675\n",
            "Epoch 215/300\n",
            "68/68 [==============================] - 3s 41ms/step - loss: 1.7285 - mape: 1.7285 - val_loss: 1.1217 - val_mape: 1.1217\n",
            "Epoch 216/300\n",
            "68/68 [==============================] - 3s 41ms/step - loss: 1.7026 - mape: 1.7026 - val_loss: 0.8696 - val_mape: 0.8696\n",
            "Epoch 217/300\n",
            "68/68 [==============================] - 3s 41ms/step - loss: 1.7227 - mape: 1.7227 - val_loss: 1.1668 - val_mape: 1.1668\n",
            "Epoch 218/300\n",
            "68/68 [==============================] - 3s 42ms/step - loss: 1.7086 - mape: 1.7086 - val_loss: 1.3302 - val_mape: 1.3302\n",
            "Epoch 219/300\n",
            "68/68 [==============================] - 3s 40ms/step - loss: 1.7034 - mape: 1.7034 - val_loss: 3.2869 - val_mape: 3.2869\n",
            "Epoch 220/300\n",
            "68/68 [==============================] - 3s 41ms/step - loss: 1.7120 - mape: 1.7120 - val_loss: 0.9846 - val_mape: 0.9846\n",
            "Epoch 221/300\n",
            "68/68 [==============================] - 3s 42ms/step - loss: 1.6961 - mape: 1.6961 - val_loss: 1.7639 - val_mape: 1.7639\n",
            "Epoch 222/300\n",
            "68/68 [==============================] - 3s 40ms/step - loss: 1.6690 - mape: 1.6690 - val_loss: 1.5640 - val_mape: 1.5640\n",
            "Epoch 223/300\n",
            "68/68 [==============================] - 3s 40ms/step - loss: 1.6813 - mape: 1.6813 - val_loss: 1.1325 - val_mape: 1.1325\n",
            "Epoch 224/300\n",
            "68/68 [==============================] - 3s 41ms/step - loss: 1.6838 - mape: 1.6838 - val_loss: 1.5620 - val_mape: 1.5620\n",
            "Epoch 225/300\n",
            "68/68 [==============================] - 3s 41ms/step - loss: 1.7039 - mape: 1.7039 - val_loss: 2.6149 - val_mape: 2.6149\n",
            "Epoch 226/300\n",
            "68/68 [==============================] - 3s 40ms/step - loss: 1.6789 - mape: 1.6789 - val_loss: 1.4228 - val_mape: 1.4228\n",
            "Epoch 227/300\n",
            "68/68 [==============================] - 3s 42ms/step - loss: 1.7046 - mape: 1.7046 - val_loss: 2.1033 - val_mape: 2.1033\n",
            "Epoch 228/300\n",
            "68/68 [==============================] - 3s 40ms/step - loss: 1.6780 - mape: 1.6780 - val_loss: 1.4404 - val_mape: 1.4404\n",
            "Epoch 229/300\n",
            "68/68 [==============================] - 3s 40ms/step - loss: 1.6822 - mape: 1.6822 - val_loss: 1.0641 - val_mape: 1.0641\n",
            "Epoch 230/300\n",
            "68/68 [==============================] - 3s 40ms/step - loss: 1.6762 - mape: 1.6762 - val_loss: 1.3546 - val_mape: 1.3546\n",
            "Epoch 231/300\n",
            "68/68 [==============================] - 3s 41ms/step - loss: 1.6872 - mape: 1.6872 - val_loss: 1.2495 - val_mape: 1.2495\n",
            "Epoch 232/300\n",
            "68/68 [==============================] - 3s 40ms/step - loss: 1.6675 - mape: 1.6675 - val_loss: 0.8400 - val_mape: 0.8400\n",
            "Epoch 233/300\n",
            "68/68 [==============================] - 3s 41ms/step - loss: 1.6804 - mape: 1.6804 - val_loss: 1.3658 - val_mape: 1.3658\n",
            "Epoch 234/300\n",
            "68/68 [==============================] - 3s 40ms/step - loss: 1.6542 - mape: 1.6542 - val_loss: 1.6969 - val_mape: 1.6969\n",
            "Epoch 235/300\n",
            "68/68 [==============================] - 3s 41ms/step - loss: 1.6521 - mape: 1.6521 - val_loss: 0.9499 - val_mape: 0.9499\n",
            "Epoch 236/300\n",
            "68/68 [==============================] - 3s 41ms/step - loss: 1.6468 - mape: 1.6468 - val_loss: 2.0367 - val_mape: 2.0367\n",
            "Epoch 237/300\n",
            "68/68 [==============================] - 3s 41ms/step - loss: 1.6794 - mape: 1.6794 - val_loss: 0.8994 - val_mape: 0.8994\n",
            "Epoch 238/300\n",
            "68/68 [==============================] - 3s 40ms/step - loss: 1.6936 - mape: 1.6936 - val_loss: 1.1556 - val_mape: 1.1556\n",
            "Epoch 239/300\n",
            "68/68 [==============================] - 3s 41ms/step - loss: 1.6307 - mape: 1.6307 - val_loss: 1.1742 - val_mape: 1.1742\n",
            "Epoch 240/300\n",
            "68/68 [==============================] - 3s 41ms/step - loss: 1.6658 - mape: 1.6658 - val_loss: 0.8623 - val_mape: 0.8623\n",
            "Epoch 241/300\n",
            "68/68 [==============================] - 3s 41ms/step - loss: 1.6627 - mape: 1.6627 - val_loss: 0.8219 - val_mape: 0.8219\n",
            "Epoch 242/300\n",
            "68/68 [==============================] - 3s 40ms/step - loss: 1.6413 - mape: 1.6413 - val_loss: 0.8631 - val_mape: 0.8631\n",
            "Epoch 243/300\n",
            "68/68 [==============================] - 3s 40ms/step - loss: 1.6297 - mape: 1.6297 - val_loss: 1.2281 - val_mape: 1.2281\n",
            "Epoch 244/300\n",
            "68/68 [==============================] - 3s 40ms/step - loss: 1.6162 - mape: 1.6162 - val_loss: 0.8822 - val_mape: 0.8822\n",
            "Epoch 245/300\n",
            "68/68 [==============================] - 3s 40ms/step - loss: 1.6308 - mape: 1.6308 - val_loss: 0.9501 - val_mape: 0.9501\n",
            "Epoch 246/300\n",
            "68/68 [==============================] - 3s 41ms/step - loss: 1.6459 - mape: 1.6459 - val_loss: 0.8863 - val_mape: 0.8863\n",
            "Epoch 247/300\n",
            "68/68 [==============================] - 3s 41ms/step - loss: 1.6492 - mape: 1.6492 - val_loss: 0.9329 - val_mape: 0.9329\n",
            "Epoch 248/300\n",
            "68/68 [==============================] - 3s 40ms/step - loss: 1.6243 - mape: 1.6243 - val_loss: 0.7989 - val_mape: 0.7989\n",
            "Epoch 249/300\n",
            "68/68 [==============================] - 3s 40ms/step - loss: 1.6208 - mape: 1.6208 - val_loss: 0.8006 - val_mape: 0.8006\n",
            "Epoch 250/300\n",
            "68/68 [==============================] - 3s 40ms/step - loss: 1.6040 - mape: 1.6040 - val_loss: 1.7847 - val_mape: 1.7847\n",
            "Epoch 251/300\n",
            "68/68 [==============================] - 3s 40ms/step - loss: 1.6501 - mape: 1.6501 - val_loss: 0.9049 - val_mape: 0.9049\n",
            "Epoch 252/300\n",
            "68/68 [==============================] - 3s 41ms/step - loss: 1.6573 - mape: 1.6573 - val_loss: 0.8299 - val_mape: 0.8299\n",
            "Epoch 253/300\n",
            "68/68 [==============================] - 3s 41ms/step - loss: 1.6005 - mape: 1.6005 - val_loss: 1.5257 - val_mape: 1.5257\n",
            "Epoch 254/300\n",
            "68/68 [==============================] - 3s 41ms/step - loss: 1.6239 - mape: 1.6239 - val_loss: 0.8699 - val_mape: 0.8699\n",
            "Epoch 255/300\n",
            "68/68 [==============================] - 3s 41ms/step - loss: 1.5967 - mape: 1.5967 - val_loss: 0.9113 - val_mape: 0.9113\n",
            "Epoch 256/300\n",
            "68/68 [==============================] - 3s 40ms/step - loss: 1.6331 - mape: 1.6331 - val_loss: 1.4103 - val_mape: 1.4103\n",
            "Epoch 257/300\n",
            "68/68 [==============================] - 3s 40ms/step - loss: 1.6065 - mape: 1.6065 - val_loss: 0.8610 - val_mape: 0.8610\n",
            "Epoch 258/300\n",
            "68/68 [==============================] - 3s 41ms/step - loss: 1.6090 - mape: 1.6090 - val_loss: 0.9272 - val_mape: 0.9272\n",
            "Epoch 259/300\n",
            "68/68 [==============================] - 3s 41ms/step - loss: 1.6195 - mape: 1.6195 - val_loss: 2.0567 - val_mape: 2.0567\n",
            "Epoch 260/300\n",
            "68/68 [==============================] - 3s 40ms/step - loss: 1.6265 - mape: 1.6265 - val_loss: 1.3521 - val_mape: 1.3521\n",
            "Epoch 261/300\n",
            "68/68 [==============================] - 3s 40ms/step - loss: 1.5889 - mape: 1.5889 - val_loss: 1.9841 - val_mape: 1.9841\n",
            "Epoch 262/300\n",
            "68/68 [==============================] - 3s 41ms/step - loss: 1.5899 - mape: 1.5899 - val_loss: 0.7750 - val_mape: 0.7750\n",
            "Epoch 263/300\n",
            "68/68 [==============================] - 3s 41ms/step - loss: 1.5829 - mape: 1.5829 - val_loss: 1.1580 - val_mape: 1.1580\n",
            "Epoch 264/300\n",
            "68/68 [==============================] - 3s 41ms/step - loss: 1.5752 - mape: 1.5752 - val_loss: 0.7740 - val_mape: 0.7740\n",
            "Epoch 265/300\n",
            "68/68 [==============================] - 3s 40ms/step - loss: 1.5763 - mape: 1.5763 - val_loss: 0.7479 - val_mape: 0.7479\n",
            "Epoch 266/300\n",
            "68/68 [==============================] - 3s 39ms/step - loss: 1.5661 - mape: 1.5661 - val_loss: 0.7375 - val_mape: 0.7375\n",
            "Epoch 267/300\n",
            "68/68 [==============================] - 3s 40ms/step - loss: 1.5699 - mape: 1.5699 - val_loss: 0.7514 - val_mape: 0.7514\n",
            "Epoch 268/300\n",
            "68/68 [==============================] - 3s 41ms/step - loss: 1.6299 - mape: 1.6299 - val_loss: 1.0563 - val_mape: 1.0563\n",
            "Epoch 269/300\n",
            "68/68 [==============================] - 3s 40ms/step - loss: 1.5588 - mape: 1.5588 - val_loss: 0.7550 - val_mape: 0.7550\n",
            "Epoch 270/300\n",
            "68/68 [==============================] - 3s 40ms/step - loss: 1.5902 - mape: 1.5902 - val_loss: 0.9834 - val_mape: 0.9834\n",
            "Epoch 271/300\n",
            "68/68 [==============================] - 3s 41ms/step - loss: 1.5684 - mape: 1.5684 - val_loss: 1.6674 - val_mape: 1.6674\n",
            "Epoch 272/300\n",
            "68/68 [==============================] - 3s 40ms/step - loss: 1.5401 - mape: 1.5401 - val_loss: 0.7652 - val_mape: 0.7652\n",
            "Epoch 273/300\n",
            "68/68 [==============================] - 3s 40ms/step - loss: 1.5638 - mape: 1.5638 - val_loss: 1.2661 - val_mape: 1.2661\n",
            "Epoch 274/300\n",
            "68/68 [==============================] - 3s 41ms/step - loss: 1.5572 - mape: 1.5572 - val_loss: 1.5249 - val_mape: 1.5249\n",
            "Epoch 275/300\n",
            "68/68 [==============================] - 3s 42ms/step - loss: 1.5711 - mape: 1.5711 - val_loss: 0.9284 - val_mape: 0.9284\n",
            "Epoch 276/300\n",
            "68/68 [==============================] - 3s 43ms/step - loss: 1.5476 - mape: 1.5476 - val_loss: 0.9295 - val_mape: 0.9295\n",
            "Epoch 277/300\n",
            "68/68 [==============================] - 3s 43ms/step - loss: 1.5304 - mape: 1.5304 - val_loss: 0.7647 - val_mape: 0.7647\n",
            "Epoch 278/300\n",
            "68/68 [==============================] - 3s 41ms/step - loss: 1.5392 - mape: 1.5392 - val_loss: 0.7440 - val_mape: 0.7440\n",
            "Epoch 279/300\n",
            "68/68 [==============================] - 3s 42ms/step - loss: 1.5810 - mape: 1.5810 - val_loss: 1.5096 - val_mape: 1.5096\n",
            "Epoch 280/300\n",
            "68/68 [==============================] - 3s 41ms/step - loss: 1.5443 - mape: 1.5443 - val_loss: 0.7862 - val_mape: 0.7862\n",
            "Epoch 281/300\n",
            "68/68 [==============================] - 3s 41ms/step - loss: 1.5302 - mape: 1.5302 - val_loss: 1.8642 - val_mape: 1.8642\n",
            "Epoch 282/300\n",
            "68/68 [==============================] - 3s 42ms/step - loss: 1.5132 - mape: 1.5132 - val_loss: 0.9303 - val_mape: 0.9303\n",
            "Epoch 283/300\n",
            "68/68 [==============================] - 3s 41ms/step - loss: 1.5257 - mape: 1.5257 - val_loss: 0.7215 - val_mape: 0.7215\n",
            "Epoch 284/300\n",
            "68/68 [==============================] - 3s 41ms/step - loss: 1.5262 - mape: 1.5262 - val_loss: 0.8198 - val_mape: 0.8198\n",
            "Epoch 285/300\n",
            "68/68 [==============================] - 3s 42ms/step - loss: 1.5249 - mape: 1.5249 - val_loss: 1.3392 - val_mape: 1.3392\n",
            "Epoch 286/300\n",
            "68/68 [==============================] - 3s 42ms/step - loss: 1.5268 - mape: 1.5268 - val_loss: 0.8679 - val_mape: 0.8679\n",
            "Epoch 287/300\n",
            "68/68 [==============================] - 3s 41ms/step - loss: 1.5221 - mape: 1.5221 - val_loss: 0.7348 - val_mape: 0.7348\n",
            "Epoch 288/300\n",
            "68/68 [==============================] - 3s 41ms/step - loss: 1.5158 - mape: 1.5158 - val_loss: 0.8474 - val_mape: 0.8474\n",
            "Epoch 289/300\n",
            "68/68 [==============================] - 3s 42ms/step - loss: 1.5211 - mape: 1.5211 - val_loss: 1.8998 - val_mape: 1.8998\n",
            "Epoch 290/300\n",
            "68/68 [==============================] - 3s 42ms/step - loss: 1.5046 - mape: 1.5046 - val_loss: 0.7734 - val_mape: 0.7734\n",
            "Epoch 291/300\n",
            "68/68 [==============================] - 3s 41ms/step - loss: 1.5047 - mape: 1.5047 - val_loss: 1.3508 - val_mape: 1.3508\n",
            "Epoch 292/300\n",
            "68/68 [==============================] - 3s 42ms/step - loss: 1.5242 - mape: 1.5242 - val_loss: 1.4986 - val_mape: 1.4986\n",
            "Epoch 293/300\n",
            "68/68 [==============================] - 3s 42ms/step - loss: 1.5104 - mape: 1.5104 - val_loss: 0.7440 - val_mape: 0.7440\n",
            "Epoch 294/300\n",
            "68/68 [==============================] - 3s 41ms/step - loss: 1.5171 - mape: 1.5171 - val_loss: 0.9336 - val_mape: 0.9336\n",
            "Epoch 295/300\n",
            "68/68 [==============================] - 3s 42ms/step - loss: 1.4925 - mape: 1.4925 - val_loss: 0.8770 - val_mape: 0.8770\n",
            "Epoch 296/300\n",
            "68/68 [==============================] - 3s 42ms/step - loss: 1.4949 - mape: 1.4949 - val_loss: 0.7050 - val_mape: 0.7050\n",
            "Epoch 297/300\n",
            "68/68 [==============================] - 3s 42ms/step - loss: 1.5369 - mape: 1.5369 - val_loss: 0.8562 - val_mape: 0.8562\n",
            "Epoch 298/300\n",
            "68/68 [==============================] - 3s 41ms/step - loss: 1.4853 - mape: 1.4853 - val_loss: 0.6871 - val_mape: 0.6871\n",
            "Epoch 299/300\n",
            "68/68 [==============================] - 3s 41ms/step - loss: 1.4879 - mape: 1.4879 - val_loss: 1.2503 - val_mape: 1.2503\n",
            "Epoch 300/300\n",
            "68/68 [==============================] - 3s 42ms/step - loss: 1.4848 - mape: 1.4848 - val_loss: 0.9618 - val_mape: 0.9618\n"
          ]
        }
      ],
      "source": [
        "model = Sequential()\n",
        "model.add(LSTM(512,activation='relu',return_sequences=True))\n",
        "model.add(LSTM(256,activation='relu',return_sequences=True))\n",
        "model.add(LSTM(128,activation='relu',return_sequences=True))\n",
        "model.add(LSTM(64,activation='relu',return_sequences=True))\n",
        "model.add(LSTM(32,activation='relu'))\n",
        "model.add(Dense(4,activation='relu'))\n",
        "model.add(Dense(1,activation='linear'))\n",
        "ad=optimizers.Adam(learning_rate=0.00005062940414508486)\n",
        "model.compile(optimizer = ad, loss = 'mape', metrics = ['mape'])\n",
        "model_history=model.fit(trainX, trainY,validation_data=(testX,testY), batch_size = 33, epochs = 300)"
      ]
    },
    {
      "cell_type": "code",
      "execution_count": 33,
      "id": "77c05906",
      "metadata": {
        "id": "77c05906"
      },
      "outputs": [],
      "source": [
        "def model_loss(history):\n",
        "    plt.figure(figsize=(8,4))\n",
        "    plt.plot(history.history['loss'], label='Train Loss')\n",
        "    plt.plot(history.history['val_loss'], label='Test Loss')\n",
        "    plt.title('model loss')\n",
        "    plt.ylabel('loss')\n",
        "    plt.xlabel('epochs')\n",
        "    plt.legend(loc='upper right')\n",
        "    plt.show();"
      ]
    },
    {
      "cell_type": "code",
      "execution_count": 34,
      "id": "6vZ-AXOUurmJ",
      "metadata": {
        "id": "6vZ-AXOUurmJ"
      },
      "outputs": [],
      "source": [
        "train_score = model.evaluate(trainX, trainY,verbose=0)\n",
        "test_score = model.evaluate(testX, testY,verbose=0)"
      ]
    },
    {
      "cell_type": "code",
      "execution_count": 35,
      "id": "45a22c27",
      "metadata": {
        "colab": {
          "base_uri": "https://localhost:8080/",
          "height": 329
        },
        "id": "45a22c27",
        "outputId": "df13369a-e0b0-42c5-d7c1-2decf0842db5"
      },
      "outputs": [
        {
          "output_type": "stream",
          "name": "stdout",
          "text": [
            "Train MAPE : 1.45 \n",
            "Test MAPE : 0.96 \n"
          ]
        },
        {
          "output_type": "display_data",
          "data": {
            "text/plain": [
              "<Figure size 576x288 with 1 Axes>"
            ],
            "image/png": "[encoded data removed]"
          },
          "metadata": {
            "needs_background": "light"
          }
        }
      ],
      "source": [
        "train_predict = model.predict(trainX)\n",
        "test_predict = model.predict(testX)\n",
        "\n",
        "# invert predictions\n",
        "train_predict = scaler.inverse_transform(train_predict)\n",
        "trainY = scaler.inverse_transform([trainY])\n",
        "test_predict = scaler.inverse_transform(test_predict)\n",
        "testY = scaler.inverse_transform([testY])\n",
        "print('Train MAPE : %.2f ' % (train_score[1]))\n",
        "print('Test MAPE : %.2f ' % (test_score[1]))\n",
        "model_loss(model_history)"
      ]
    },
    {
      "cell_type": "code",
      "execution_count": 36,
      "id": "dc942f74",
      "metadata": {
        "id": "dc942f74"
      },
      "outputs": [],
      "source": [
        "import seaborn as sns"
      ]
    },
    {
      "cell_type": "code",
      "execution_count": 37,
      "id": "dee9bab8",
      "metadata": {
        "id": "dee9bab8"
      },
      "outputs": [],
      "source": [
        "def prediction_plot(testY, test_predict,look_back):\n",
        "    len_prediction=[x for x in range(2225,2467)]\n",
        "    plt.plot(trainY.reshape(-1,))\n",
        "    plt.plot(len_prediction, testY.reshape(-1,), marker='.', label='actual')\n",
        "    plt.plot(len_prediction, test_predict, 'g', label=\"prediction\")\n",
        "    plt.tight_layout()\n",
        "    sns.despine(top=True)\n",
        "    plt.subplots_adjust(left=0.07)\n",
        "    plt.ylabel('Units', size=15)\n",
        "    plt.xlabel('Time step', size=15)\n",
        "    plt.legend(fontsize=15)\n",
        "    plt.show()"
      ]
    },
    {
      "cell_type": "code",
      "execution_count": 38,
      "id": "363040b5",
      "metadata": {
        "colab": {
          "base_uri": "https://localhost:8080/",
          "height": 604
        },
        "id": "363040b5",
        "outputId": "497d7ffb-fca4-410b-a033-b6bcedaf271e"
      },
      "outputs": [
        {
          "output_type": "display_data",
          "data": {
            "text/plain": [
              "<Figure size 1080x576 with 1 Axes>"
            ],
            "image/png": "[encoded data removed]"
          },
          "metadata": {
            "needs_background": "light"
          }
        }
      ],
      "source": [
        "test_predict = model.predict(testX)\n",
        "test_predict = scaler.inverse_transform(test_predict)\n",
        "prediction_plot(testY, test_predict,look_back)"
      ]
    },
    {
      "cell_type": "code",
      "execution_count": null,
      "id": "f8a7708c",
      "metadata": {
        "id": "f8a7708c"
      },
      "outputs": [],
      "source": [
        ""
      ]
    }
  ],
  "metadata": {
    "colab": {
      "collapsed_sections": [],
      "name": "mauna_loa_HPT_LSTM_base_model.ipynb",
      "provenance": []
    },
    "kernelspec": {
      "display_name": "Python 3",
      "language": "python",
      "name": "python3"
    },
    "language_info": {
      "codemirror_mode": {
        "name": "ipython",
        "version": 3
      },
      "file_extension": ".py",
      "mimetype": "text/x-python",
      "name": "python",
      "nbconvert_exporter": "python",
      "pygments_lexer": "ipython3",
      "version": "3.8.8"
    }
  },
  "nbformat": 4,
  "nbformat_minor": 5
}