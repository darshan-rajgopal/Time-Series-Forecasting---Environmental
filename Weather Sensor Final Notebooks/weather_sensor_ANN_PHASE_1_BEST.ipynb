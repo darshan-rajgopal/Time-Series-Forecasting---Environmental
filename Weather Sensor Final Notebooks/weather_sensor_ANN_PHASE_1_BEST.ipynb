{
 "cells": [
  {
   "cell_type": "code",
   "execution_count": 1,
   "id": "c2ef9b47",
   "metadata": {
    "id": "c2ef9b47"
   },
   "outputs": [],
   "source": [
    "import numpy as np\n",
    "import pandas as pd\n",
    "from tensorflow.keras.models import Sequential\n",
    "from tensorflow.keras.layers import LSTM\n",
    "from tensorflow.keras.layers import Dense\n",
    "from tensorflow.keras.layers import Flatten\n",
    "import matplotlib.pyplot as plt\n",
    "import warnings\n",
    "warnings.filterwarnings('ignore')\n",
    "%matplotlib inline"
   ]
  },
  {
   "cell_type": "code",
   "execution_count": 2,
   "id": "iGQk9lcRmucZ",
   "metadata": {
    "colab": {
     "base_uri": "https://localhost:8080/"
    },
    "id": "iGQk9lcRmucZ",
    "outputId": "2c98958c-5805-4715-d8b7-03a4ad580bbe"
   },
   "outputs": [
    {
     "name": "stdout",
     "output_type": "stream",
     "text": [
      "Mounted at /content/drive\n"
     ]
    }
   ],
   "source": [
    "from google.colab import drive\n",
    "drive.mount('/content/drive')"
   ]
  },
  {
   "cell_type": "code",
   "execution_count": null,
   "id": "BxDZtfokj6Da",
   "metadata": {
    "colab": {
     "base_uri": "https://localhost:8080/",
     "height": 35
    },
    "id": "BxDZtfokj6Da",
    "outputId": "b20dcdbd-c02a-48ad-a576-4ba9370acae1"
   },
   "outputs": [
    {
     "data": {
      "application/vnd.google.colaboratory.intrinsic+json": {
       "type": "string"
      },
      "text/plain": [
       "'/device:GPU:0'"
      ]
     },
     "execution_count": 5,
     "metadata": {},
     "output_type": "execute_result"
    }
   ],
   "source": [
    "import tensorflow as tf\n",
    "tf.test.gpu_device_name()"
   ]
  },
  {
   "cell_type": "code",
   "execution_count": null,
   "id": "UDt4KrAxj6JS",
   "metadata": {
    "colab": {
     "base_uri": "https://localhost:8080/"
    },
    "id": "UDt4KrAxj6JS",
    "outputId": "9d528187-3aea-4259-a635-0d1eddbc47d0"
   },
   "outputs": [
    {
     "data": {
      "text/plain": [
       "[name: \"/device:CPU:0\"\n",
       " device_type: \"CPU\"\n",
       " memory_limit: 268435456\n",
       " locality {\n",
       " }\n",
       " incarnation: 14494480343520806349\n",
       " xla_global_id: -1, name: \"/device:GPU:0\"\n",
       " device_type: \"GPU\"\n",
       " memory_limit: 11320098816\n",
       " locality {\n",
       "   bus_id: 1\n",
       "   links {\n",
       "   }\n",
       " }\n",
       " incarnation: 1229225032833911937\n",
       " physical_device_desc: \"device: 0, name: Tesla K80, pci bus id: 0000:00:04.0, compute capability: 3.7\"\n",
       " xla_global_id: 416903419]"
      ]
     },
     "execution_count": 6,
     "metadata": {},
     "output_type": "execute_result"
    }
   ],
   "source": [
    "from tensorflow.python.client import device_lib\n",
    "device_lib.list_local_devices()"
   ]
  },
  {
   "cell_type": "code",
   "execution_count": 66,
   "id": "30d066a0",
   "metadata": {
    "colab": {
     "base_uri": "https://localhost:8080/",
     "height": 206
    },
    "id": "30d066a0",
    "outputId": "a2c8d11e-c92e-4b58-d1a8-f4f0fe1bc726"
   },
   "outputs": [
    {
     "data": {
      "text/html": [
       "\n",
       "  <div id=\"df-42f5333d-80a3-4238-accd-652fa073d4b6\">\n",
       "    <div class=\"colab-df-container\">\n",
       "      <div>\n",
       "<style scoped>\n",
       "    .dataframe tbody tr th:only-of-type {\n",
       "        vertical-align: middle;\n",
       "    }\n",
       "\n",
       "    .dataframe tbody tr th {\n",
       "        vertical-align: top;\n",
       "    }\n",
       "\n",
       "    .dataframe thead th {\n",
       "        text-align: right;\n",
       "    }\n",
       "</style>\n",
       "<table border=\"1\" class=\"dataframe\">\n",
       "  <thead>\n",
       "    <tr style=\"text-align: right;\">\n",
       "      <th></th>\n",
       "      <th>DATE_TIME</th>\n",
       "      <th>PLANT_ID</th>\n",
       "      <th>SOURCE_KEY</th>\n",
       "      <th>AMBIENT_TEMPERATURE</th>\n",
       "      <th>MODULE_TEMPERATURE</th>\n",
       "      <th>IRRADIATION</th>\n",
       "    </tr>\n",
       "  </thead>\n",
       "  <tbody>\n",
       "    <tr>\n",
       "      <th>0</th>\n",
       "      <td>2020-05-15 00:00:00</td>\n",
       "      <td>4135001</td>\n",
       "      <td>HmiyD2TTLFNqkNe</td>\n",
       "      <td>25.184316</td>\n",
       "      <td>22.857507</td>\n",
       "      <td>0.0</td>\n",
       "    </tr>\n",
       "    <tr>\n",
       "      <th>1</th>\n",
       "      <td>2020-05-15 00:15:00</td>\n",
       "      <td>4135001</td>\n",
       "      <td>HmiyD2TTLFNqkNe</td>\n",
       "      <td>25.084589</td>\n",
       "      <td>22.761668</td>\n",
       "      <td>0.0</td>\n",
       "    </tr>\n",
       "    <tr>\n",
       "      <th>2</th>\n",
       "      <td>2020-05-15 00:30:00</td>\n",
       "      <td>4135001</td>\n",
       "      <td>HmiyD2TTLFNqkNe</td>\n",
       "      <td>24.935753</td>\n",
       "      <td>22.592306</td>\n",
       "      <td>0.0</td>\n",
       "    </tr>\n",
       "    <tr>\n",
       "      <th>3</th>\n",
       "      <td>2020-05-15 00:45:00</td>\n",
       "      <td>4135001</td>\n",
       "      <td>HmiyD2TTLFNqkNe</td>\n",
       "      <td>24.846130</td>\n",
       "      <td>22.360852</td>\n",
       "      <td>0.0</td>\n",
       "    </tr>\n",
       "    <tr>\n",
       "      <th>4</th>\n",
       "      <td>2020-05-15 01:00:00</td>\n",
       "      <td>4135001</td>\n",
       "      <td>HmiyD2TTLFNqkNe</td>\n",
       "      <td>24.621525</td>\n",
       "      <td>22.165423</td>\n",
       "      <td>0.0</td>\n",
       "    </tr>\n",
       "  </tbody>\n",
       "</table>\n",
       "</div>\n",
       "      <button class=\"colab-df-convert\" onclick=\"convertToInteractive('df-42f5333d-80a3-4238-accd-652fa073d4b6')\"\n",
       "              title=\"Convert this dataframe to an interactive table.\"\n",
       "              style=\"display:none;\">\n",
       "        \n",
       "  <svg xmlns=\"http://www.w3.org/2000/svg\" height=\"24px\"viewBox=\"0 0 24 24\"\n",
       "       width=\"24px\">\n",
       "    <path d=\"M0 0h24v24H0V0z\" fill=\"none\"/>\n",
       "    <path d=\"M18.56 5.44l.94 2.06.94-2.06 2.06-.94-2.06-.94-.94-2.06-.94 2.06-2.06.94zm-11 1L8.5 8.5l.94-2.06 2.06-.94-2.06-.94L8.5 2.5l-.94 2.06-2.06.94zm10 10l.94 2.06.94-2.06 2.06-.94-2.06-.94-.94-2.06-.94 2.06-2.06.94z\"/><path d=\"M17.41 7.96l-1.37-1.37c-.4-.4-.92-.59-1.43-.59-.52 0-1.04.2-1.43.59L10.3 9.45l-7.72 7.72c-.78.78-.78 2.05 0 2.83L4 21.41c.39.39.9.59 1.41.59.51 0 1.02-.2 1.41-.59l7.78-7.78 2.81-2.81c.8-.78.8-2.07 0-2.86zM5.41 20L4 18.59l7.72-7.72 1.47 1.35L5.41 20z\"/>\n",
       "  </svg>\n",
       "      </button>\n",
       "      \n",
       "  <style>\n",
       "    .colab-df-container {\n",
       "      display:flex;\n",
       "      flex-wrap:wrap;\n",
       "      gap: 12px;\n",
       "    }\n",
       "\n",
       "    .colab-df-convert {\n",
       "      background-color: #E8F0FE;\n",
       "      border: none;\n",
       "      border-radius: 50%;\n",
       "      cursor: pointer;\n",
       "      display: none;\n",
       "      fill: #1967D2;\n",
       "      height: 32px;\n",
       "      padding: 0 0 0 0;\n",
       "      width: 32px;\n",
       "    }\n",
       "\n",
       "    .colab-df-convert:hover {\n",
       "      background-color: #E2EBFA;\n",
       "      box-shadow: 0px 1px 2px rgba(60, 64, 67, 0.3), 0px 1px 3px 1px rgba(60, 64, 67, 0.15);\n",
       "      fill: #174EA6;\n",
       "    }\n",
       "\n",
       "    [theme=dark] .colab-df-convert {\n",
       "      background-color: #3B4455;\n",
       "      fill: #D2E3FC;\n",
       "    }\n",
       "\n",
       "    [theme=dark] .colab-df-convert:hover {\n",
       "      background-color: #434B5C;\n",
       "      box-shadow: 0px 1px 3px 1px rgba(0, 0, 0, 0.15);\n",
       "      filter: drop-shadow(0px 1px 2px rgba(0, 0, 0, 0.3));\n",
       "      fill: #FFFFFF;\n",
       "    }\n",
       "  </style>\n",
       "\n",
       "      <script>\n",
       "        const buttonEl =\n",
       "          document.querySelector('#df-42f5333d-80a3-4238-accd-652fa073d4b6 button.colab-df-convert');\n",
       "        buttonEl.style.display =\n",
       "          google.colab.kernel.accessAllowed ? 'block' : 'none';\n",
       "\n",
       "        async function convertToInteractive(key) {\n",
       "          const element = document.querySelector('#df-42f5333d-80a3-4238-accd-652fa073d4b6');\n",
       "          const dataTable =\n",
       "            await google.colab.kernel.invokeFunction('convertToInteractive',\n",
       "                                                     [key], {});\n",
       "          if (!dataTable) return;\n",
       "\n",
       "          const docLinkHtml = 'Like what you see? Visit the ' +\n",
       "            '<a target=\"_blank\" href=https://colab.research.google.com/notebooks/data_table.ipynb>data table notebook</a>'\n",
       "            + ' to learn more about interactive tables.';\n",
       "          element.innerHTML = '';\n",
       "          dataTable['output_type'] = 'display_data';\n",
       "          await google.colab.output.renderOutput(dataTable, element);\n",
       "          const docLink = document.createElement('div');\n",
       "          docLink.innerHTML = docLinkHtml;\n",
       "          element.appendChild(docLink);\n",
       "        }\n",
       "      </script>\n",
       "    </div>\n",
       "  </div>\n",
       "  "
      ],
      "text/plain": [
       "             DATE_TIME  PLANT_ID  ... MODULE_TEMPERATURE  IRRADIATION\n",
       "0  2020-05-15 00:00:00   4135001  ...          22.857507          0.0\n",
       "1  2020-05-15 00:15:00   4135001  ...          22.761668          0.0\n",
       "2  2020-05-15 00:30:00   4135001  ...          22.592306          0.0\n",
       "3  2020-05-15 00:45:00   4135001  ...          22.360852          0.0\n",
       "4  2020-05-15 01:00:00   4135001  ...          22.165423          0.0\n",
       "\n",
       "[5 rows x 6 columns]"
      ]
     },
     "execution_count": 66,
     "metadata": {},
     "output_type": "execute_result"
    }
   ],
   "source": [
    "df = pd.read_csv('/content/drive/MyDrive/Colab Notebooks/Environmental/Plant_1_Weather_Sensor_Data.csv')\n",
    "df.head()"
   ]
  },
  {
   "cell_type": "code",
   "execution_count": 67,
   "id": "e2663bb4",
   "metadata": {
    "colab": {
     "base_uri": "https://localhost:8080/",
     "height": 206
    },
    "id": "e2663bb4",
    "outputId": "bc296b91-ecda-4433-a007-add4af51a831"
   },
   "outputs": [
    {
     "data": {
      "text/html": [
       "\n",
       "  <div id=\"df-1a66d39b-fab7-49f5-a781-9172396fd7af\">\n",
       "    <div class=\"colab-df-container\">\n",
       "      <div>\n",
       "<style scoped>\n",
       "    .dataframe tbody tr th:only-of-type {\n",
       "        vertical-align: middle;\n",
       "    }\n",
       "\n",
       "    .dataframe tbody tr th {\n",
       "        vertical-align: top;\n",
       "    }\n",
       "\n",
       "    .dataframe thead th {\n",
       "        text-align: right;\n",
       "    }\n",
       "</style>\n",
       "<table border=\"1\" class=\"dataframe\">\n",
       "  <thead>\n",
       "    <tr style=\"text-align: right;\">\n",
       "      <th></th>\n",
       "      <th>DATE_TIME</th>\n",
       "      <th>PLANT_ID</th>\n",
       "      <th>SOURCE_KEY</th>\n",
       "      <th>AMBIENT_TEMPERATURE</th>\n",
       "      <th>MODULE_TEMPERATURE</th>\n",
       "      <th>IRRADIATION</th>\n",
       "    </tr>\n",
       "  </thead>\n",
       "  <tbody>\n",
       "    <tr>\n",
       "      <th>3177</th>\n",
       "      <td>2020-06-17 22:45:00</td>\n",
       "      <td>4135001</td>\n",
       "      <td>HmiyD2TTLFNqkNe</td>\n",
       "      <td>22.150570</td>\n",
       "      <td>21.480377</td>\n",
       "      <td>0.0</td>\n",
       "    </tr>\n",
       "    <tr>\n",
       "      <th>3178</th>\n",
       "      <td>2020-06-17 23:00:00</td>\n",
       "      <td>4135001</td>\n",
       "      <td>HmiyD2TTLFNqkNe</td>\n",
       "      <td>22.129816</td>\n",
       "      <td>21.389024</td>\n",
       "      <td>0.0</td>\n",
       "    </tr>\n",
       "    <tr>\n",
       "      <th>3179</th>\n",
       "      <td>2020-06-17 23:15:00</td>\n",
       "      <td>4135001</td>\n",
       "      <td>HmiyD2TTLFNqkNe</td>\n",
       "      <td>22.008275</td>\n",
       "      <td>20.709211</td>\n",
       "      <td>0.0</td>\n",
       "    </tr>\n",
       "    <tr>\n",
       "      <th>3180</th>\n",
       "      <td>2020-06-17 23:30:00</td>\n",
       "      <td>4135001</td>\n",
       "      <td>HmiyD2TTLFNqkNe</td>\n",
       "      <td>21.969495</td>\n",
       "      <td>20.734963</td>\n",
       "      <td>0.0</td>\n",
       "    </tr>\n",
       "    <tr>\n",
       "      <th>3181</th>\n",
       "      <td>2020-06-17 23:45:00</td>\n",
       "      <td>4135001</td>\n",
       "      <td>HmiyD2TTLFNqkNe</td>\n",
       "      <td>21.909288</td>\n",
       "      <td>20.427972</td>\n",
       "      <td>0.0</td>\n",
       "    </tr>\n",
       "  </tbody>\n",
       "</table>\n",
       "</div>\n",
       "      <button class=\"colab-df-convert\" onclick=\"convertToInteractive('df-1a66d39b-fab7-49f5-a781-9172396fd7af')\"\n",
       "              title=\"Convert this dataframe to an interactive table.\"\n",
       "              style=\"display:none;\">\n",
       "        \n",
       "  <svg xmlns=\"http://www.w3.org/2000/svg\" height=\"24px\"viewBox=\"0 0 24 24\"\n",
       "       width=\"24px\">\n",
       "    <path d=\"M0 0h24v24H0V0z\" fill=\"none\"/>\n",
       "    <path d=\"M18.56 5.44l.94 2.06.94-2.06 2.06-.94-2.06-.94-.94-2.06-.94 2.06-2.06.94zm-11 1L8.5 8.5l.94-2.06 2.06-.94-2.06-.94L8.5 2.5l-.94 2.06-2.06.94zm10 10l.94 2.06.94-2.06 2.06-.94-2.06-.94-.94-2.06-.94 2.06-2.06.94z\"/><path d=\"M17.41 7.96l-1.37-1.37c-.4-.4-.92-.59-1.43-.59-.52 0-1.04.2-1.43.59L10.3 9.45l-7.72 7.72c-.78.78-.78 2.05 0 2.83L4 21.41c.39.39.9.59 1.41.59.51 0 1.02-.2 1.41-.59l7.78-7.78 2.81-2.81c.8-.78.8-2.07 0-2.86zM5.41 20L4 18.59l7.72-7.72 1.47 1.35L5.41 20z\"/>\n",
       "  </svg>\n",
       "      </button>\n",
       "      \n",
       "  <style>\n",
       "    .colab-df-container {\n",
       "      display:flex;\n",
       "      flex-wrap:wrap;\n",
       "      gap: 12px;\n",
       "    }\n",
       "\n",
       "    .colab-df-convert {\n",
       "      background-color: #E8F0FE;\n",
       "      border: none;\n",
       "      border-radius: 50%;\n",
       "      cursor: pointer;\n",
       "      display: none;\n",
       "      fill: #1967D2;\n",
       "      height: 32px;\n",
       "      padding: 0 0 0 0;\n",
       "      width: 32px;\n",
       "    }\n",
       "\n",
       "    .colab-df-convert:hover {\n",
       "      background-color: #E2EBFA;\n",
       "      box-shadow: 0px 1px 2px rgba(60, 64, 67, 0.3), 0px 1px 3px 1px rgba(60, 64, 67, 0.15);\n",
       "      fill: #174EA6;\n",
       "    }\n",
       "\n",
       "    [theme=dark] .colab-df-convert {\n",
       "      background-color: #3B4455;\n",
       "      fill: #D2E3FC;\n",
       "    }\n",
       "\n",
       "    [theme=dark] .colab-df-convert:hover {\n",
       "      background-color: #434B5C;\n",
       "      box-shadow: 0px 1px 3px 1px rgba(0, 0, 0, 0.15);\n",
       "      filter: drop-shadow(0px 1px 2px rgba(0, 0, 0, 0.3));\n",
       "      fill: #FFFFFF;\n",
       "    }\n",
       "  </style>\n",
       "\n",
       "      <script>\n",
       "        const buttonEl =\n",
       "          document.querySelector('#df-1a66d39b-fab7-49f5-a781-9172396fd7af button.colab-df-convert');\n",
       "        buttonEl.style.display =\n",
       "          google.colab.kernel.accessAllowed ? 'block' : 'none';\n",
       "\n",
       "        async function convertToInteractive(key) {\n",
       "          const element = document.querySelector('#df-1a66d39b-fab7-49f5-a781-9172396fd7af');\n",
       "          const dataTable =\n",
       "            await google.colab.kernel.invokeFunction('convertToInteractive',\n",
       "                                                     [key], {});\n",
       "          if (!dataTable) return;\n",
       "\n",
       "          const docLinkHtml = 'Like what you see? Visit the ' +\n",
       "            '<a target=\"_blank\" href=https://colab.research.google.com/notebooks/data_table.ipynb>data table notebook</a>'\n",
       "            + ' to learn more about interactive tables.';\n",
       "          element.innerHTML = '';\n",
       "          dataTable['output_type'] = 'display_data';\n",
       "          await google.colab.output.renderOutput(dataTable, element);\n",
       "          const docLink = document.createElement('div');\n",
       "          docLink.innerHTML = docLinkHtml;\n",
       "          element.appendChild(docLink);\n",
       "        }\n",
       "      </script>\n",
       "    </div>\n",
       "  </div>\n",
       "  "
      ],
      "text/plain": [
       "                DATE_TIME  PLANT_ID  ... MODULE_TEMPERATURE  IRRADIATION\n",
       "3177  2020-06-17 22:45:00   4135001  ...          21.480377          0.0\n",
       "3178  2020-06-17 23:00:00   4135001  ...          21.389024          0.0\n",
       "3179  2020-06-17 23:15:00   4135001  ...          20.709211          0.0\n",
       "3180  2020-06-17 23:30:00   4135001  ...          20.734963          0.0\n",
       "3181  2020-06-17 23:45:00   4135001  ...          20.427972          0.0\n",
       "\n",
       "[5 rows x 6 columns]"
      ]
     },
     "execution_count": 67,
     "metadata": {},
     "output_type": "execute_result"
    }
   ],
   "source": [
    "df.tail()"
   ]
  },
  {
   "cell_type": "code",
   "execution_count": 68,
   "id": "0482272d",
   "metadata": {
    "colab": {
     "base_uri": "https://localhost:8080/"
    },
    "id": "0482272d",
    "outputId": "81fb284d-d3ec-4e29-9780-4b718aef470f"
   },
   "outputs": [
    {
     "data": {
      "text/plain": [
       "(3182, 6)"
      ]
     },
     "execution_count": 68,
     "metadata": {},
     "output_type": "execute_result"
    }
   ],
   "source": [
    "df.shape"
   ]
  },
  {
   "cell_type": "code",
   "execution_count": 6,
   "id": "076f1ad3",
   "metadata": {
    "colab": {
     "base_uri": "https://localhost:8080/"
    },
    "id": "076f1ad3",
    "outputId": "cf046e02-6dcc-4d35-d972-3ccca98f5e7b"
   },
   "outputs": [
    {
     "name": "stdout",
     "output_type": "stream",
     "text": [
      "<class 'pandas.core.frame.DataFrame'>\n",
      "RangeIndex: 3182 entries, 0 to 3181\n",
      "Data columns (total 6 columns):\n",
      " #   Column               Non-Null Count  Dtype  \n",
      "---  ------               --------------  -----  \n",
      " 0   DATE_TIME            3182 non-null   object \n",
      " 1   PLANT_ID             3182 non-null   int64  \n",
      " 2   SOURCE_KEY           3182 non-null   object \n",
      " 3   AMBIENT_TEMPERATURE  3182 non-null   float64\n",
      " 4   MODULE_TEMPERATURE   3182 non-null   float64\n",
      " 5   IRRADIATION          3182 non-null   float64\n",
      "dtypes: float64(3), int64(1), object(2)\n",
      "memory usage: 149.3+ KB\n"
     ]
    }
   ],
   "source": [
    "df.info()"
   ]
  },
  {
   "cell_type": "code",
   "execution_count": 69,
   "id": "jLgRGWAPyy7Q",
   "metadata": {
    "id": "jLgRGWAPyy7Q"
   },
   "outputs": [],
   "source": [
    "time = pd.date_range(start='5/15/2020',periods=3182,freq='15min')\n",
    "df['time_stamp'] = pd.DataFrame(time)\n",
    "df.drop(['DATE_TIME','PLANT_ID','SOURCE_KEY'],axis=1,inplace=True)\n",
    "df = df.set_index('time_stamp')\n",
    "df = df[['AMBIENT_TEMPERATURE']]"
   ]
  },
  {
   "cell_type": "code",
   "execution_count": 70,
   "id": "oYAsh_OytrPi",
   "metadata": {
    "colab": {
     "base_uri": "https://localhost:8080/",
     "height": 238
    },
    "id": "oYAsh_OytrPi",
    "outputId": "0c878a5a-8be1-461c-8338-85003a8059a2"
   },
   "outputs": [
    {
     "data": {
      "text/html": [
       "\n",
       "  <div id=\"df-f8a19bf3-c233-4adb-8d74-a2f669a74dfc\">\n",
       "    <div class=\"colab-df-container\">\n",
       "      <div>\n",
       "<style scoped>\n",
       "    .dataframe tbody tr th:only-of-type {\n",
       "        vertical-align: middle;\n",
       "    }\n",
       "\n",
       "    .dataframe tbody tr th {\n",
       "        vertical-align: top;\n",
       "    }\n",
       "\n",
       "    .dataframe thead th {\n",
       "        text-align: right;\n",
       "    }\n",
       "</style>\n",
       "<table border=\"1\" class=\"dataframe\">\n",
       "  <thead>\n",
       "    <tr style=\"text-align: right;\">\n",
       "      <th></th>\n",
       "      <th>AMBIENT_TEMPERATURE</th>\n",
       "    </tr>\n",
       "    <tr>\n",
       "      <th>time_stamp</th>\n",
       "      <th></th>\n",
       "    </tr>\n",
       "  </thead>\n",
       "  <tbody>\n",
       "    <tr>\n",
       "      <th>2020-05-15 00:00:00</th>\n",
       "      <td>25.184316</td>\n",
       "    </tr>\n",
       "    <tr>\n",
       "      <th>2020-05-15 00:15:00</th>\n",
       "      <td>25.084589</td>\n",
       "    </tr>\n",
       "    <tr>\n",
       "      <th>2020-05-15 00:30:00</th>\n",
       "      <td>24.935753</td>\n",
       "    </tr>\n",
       "    <tr>\n",
       "      <th>2020-05-15 00:45:00</th>\n",
       "      <td>24.846130</td>\n",
       "    </tr>\n",
       "    <tr>\n",
       "      <th>2020-05-15 01:00:00</th>\n",
       "      <td>24.621525</td>\n",
       "    </tr>\n",
       "  </tbody>\n",
       "</table>\n",
       "</div>\n",
       "      <button class=\"colab-df-convert\" onclick=\"convertToInteractive('df-f8a19bf3-c233-4adb-8d74-a2f669a74dfc')\"\n",
       "              title=\"Convert this dataframe to an interactive table.\"\n",
       "              style=\"display:none;\">\n",
       "        \n",
       "  <svg xmlns=\"http://www.w3.org/2000/svg\" height=\"24px\"viewBox=\"0 0 24 24\"\n",
       "       width=\"24px\">\n",
       "    <path d=\"M0 0h24v24H0V0z\" fill=\"none\"/>\n",
       "    <path d=\"M18.56 5.44l.94 2.06.94-2.06 2.06-.94-2.06-.94-.94-2.06-.94 2.06-2.06.94zm-11 1L8.5 8.5l.94-2.06 2.06-.94-2.06-.94L8.5 2.5l-.94 2.06-2.06.94zm10 10l.94 2.06.94-2.06 2.06-.94-2.06-.94-.94-2.06-.94 2.06-2.06.94z\"/><path d=\"M17.41 7.96l-1.37-1.37c-.4-.4-.92-.59-1.43-.59-.52 0-1.04.2-1.43.59L10.3 9.45l-7.72 7.72c-.78.78-.78 2.05 0 2.83L4 21.41c.39.39.9.59 1.41.59.51 0 1.02-.2 1.41-.59l7.78-7.78 2.81-2.81c.8-.78.8-2.07 0-2.86zM5.41 20L4 18.59l7.72-7.72 1.47 1.35L5.41 20z\"/>\n",
       "  </svg>\n",
       "      </button>\n",
       "      \n",
       "  <style>\n",
       "    .colab-df-container {\n",
       "      display:flex;\n",
       "      flex-wrap:wrap;\n",
       "      gap: 12px;\n",
       "    }\n",
       "\n",
       "    .colab-df-convert {\n",
       "      background-color: #E8F0FE;\n",
       "      border: none;\n",
       "      border-radius: 50%;\n",
       "      cursor: pointer;\n",
       "      display: none;\n",
       "      fill: #1967D2;\n",
       "      height: 32px;\n",
       "      padding: 0 0 0 0;\n",
       "      width: 32px;\n",
       "    }\n",
       "\n",
       "    .colab-df-convert:hover {\n",
       "      background-color: #E2EBFA;\n",
       "      box-shadow: 0px 1px 2px rgba(60, 64, 67, 0.3), 0px 1px 3px 1px rgba(60, 64, 67, 0.15);\n",
       "      fill: #174EA6;\n",
       "    }\n",
       "\n",
       "    [theme=dark] .colab-df-convert {\n",
       "      background-color: #3B4455;\n",
       "      fill: #D2E3FC;\n",
       "    }\n",
       "\n",
       "    [theme=dark] .colab-df-convert:hover {\n",
       "      background-color: #434B5C;\n",
       "      box-shadow: 0px 1px 3px 1px rgba(0, 0, 0, 0.15);\n",
       "      filter: drop-shadow(0px 1px 2px rgba(0, 0, 0, 0.3));\n",
       "      fill: #FFFFFF;\n",
       "    }\n",
       "  </style>\n",
       "\n",
       "      <script>\n",
       "        const buttonEl =\n",
       "          document.querySelector('#df-f8a19bf3-c233-4adb-8d74-a2f669a74dfc button.colab-df-convert');\n",
       "        buttonEl.style.display =\n",
       "          google.colab.kernel.accessAllowed ? 'block' : 'none';\n",
       "\n",
       "        async function convertToInteractive(key) {\n",
       "          const element = document.querySelector('#df-f8a19bf3-c233-4adb-8d74-a2f669a74dfc');\n",
       "          const dataTable =\n",
       "            await google.colab.kernel.invokeFunction('convertToInteractive',\n",
       "                                                     [key], {});\n",
       "          if (!dataTable) return;\n",
       "\n",
       "          const docLinkHtml = 'Like what you see? Visit the ' +\n",
       "            '<a target=\"_blank\" href=https://colab.research.google.com/notebooks/data_table.ipynb>data table notebook</a>'\n",
       "            + ' to learn more about interactive tables.';\n",
       "          element.innerHTML = '';\n",
       "          dataTable['output_type'] = 'display_data';\n",
       "          await google.colab.output.renderOutput(dataTable, element);\n",
       "          const docLink = document.createElement('div');\n",
       "          docLink.innerHTML = docLinkHtml;\n",
       "          element.appendChild(docLink);\n",
       "        }\n",
       "      </script>\n",
       "    </div>\n",
       "  </div>\n",
       "  "
      ],
      "text/plain": [
       "                     AMBIENT_TEMPERATURE\n",
       "time_stamp                              \n",
       "2020-05-15 00:00:00            25.184316\n",
       "2020-05-15 00:15:00            25.084589\n",
       "2020-05-15 00:30:00            24.935753\n",
       "2020-05-15 00:45:00            24.846130\n",
       "2020-05-15 01:00:00            24.621525"
      ]
     },
     "execution_count": 70,
     "metadata": {},
     "output_type": "execute_result"
    }
   ],
   "source": [
    "df.head()"
   ]
  },
  {
   "cell_type": "code",
   "execution_count": 8,
   "id": "yBDUaFhPzMMb",
   "metadata": {
    "id": "yBDUaFhPzMMb"
   },
   "outputs": [],
   "source": [
    "plt.rcParams['figure.figsize'] = [15,8]"
   ]
  },
  {
   "cell_type": "code",
   "execution_count": 71,
   "id": "cIgSM89EzBTw",
   "metadata": {
    "colab": {
     "base_uri": "https://localhost:8080/",
     "height": 523
    },
    "id": "cIgSM89EzBTw",
    "outputId": "8b8f14d4-738f-450b-d47c-30d216d8cf95"
   },
   "outputs": [
    {
     "data": {
      "image/png": "[encoded data removed]",
      "text/plain": [
       "<Figure size 1080x576 with 1 Axes>"
      ]
     },
     "metadata": {
      "needs_background": "light"
     },
     "output_type": "display_data"
    }
   ],
   "source": [
    "plt.plot(df,color='green')\n",
    "plt.title('Ambient Temperature Data - 15 min interval',fontsize=20)\n",
    "plt.xlabel('Date',fontsize=15)\n",
    "plt.ylabel('Celsius',fontsize=15)\n",
    "plt.show()"
   ]
  },
  {
   "cell_type": "code",
   "execution_count": 10,
   "id": "bf59d3e0",
   "metadata": {
    "id": "bf59d3e0"
   },
   "outputs": [],
   "source": [
    "def convert2matrix(data_arr, look_back):\n",
    "    X, Y =[], []\n",
    "    for i in range(len(data_arr)-look_back):\n",
    "        d=i+look_back  \n",
    "        X.append(data_arr[i:d,0])\n",
    "        Y.append(data_arr[d,0])\n",
    "    return np.array(X), np.array(Y)"
   ]
  },
  {
   "cell_type": "code",
   "execution_count": 72,
   "id": "5CBL1GHqurmE",
   "metadata": {
    "id": "5CBL1GHqurmE"
   },
   "outputs": [],
   "source": [
    "from sklearn.preprocessing import MinMaxScaler\n",
    "#create numpy.ndarray \n",
    "df['AMBIENT_TEMPERATURE'] = df['AMBIENT_TEMPERATURE'].astype(np.float32)\n",
    "df_arr = df.values\n",
    "df_arr = np.reshape(df_arr, (-1, 1))\n",
    "scaler = MinMaxScaler(feature_range=(0.1, 1))\n",
    "df_arr = scaler.fit_transform(df_arr)"
   ]
  },
  {
   "cell_type": "code",
   "execution_count": 73,
   "id": "1cea6c5f",
   "metadata": {
    "id": "1cea6c5f"
   },
   "outputs": [],
   "source": [
    "#Split data set into testing dataset and train dataset\n",
    "train_size = 2800\n",
    "train, test =df_arr[0:train_size,:], df_arr[train_size:len(df_arr),:]\n",
    "# setup look_back window \n",
    "look_back = 4\n",
    "#convert dataset into right shape in order to input into the DNN\n",
    "trainX, trainY = convert2matrix(train, look_back)\n",
    "testX, testY = convert2matrix(test, look_back)"
   ]
  },
  {
   "cell_type": "code",
   "execution_count": 74,
   "id": "c7d46c39",
   "metadata": {
    "colab": {
     "base_uri": "https://localhost:8080/"
    },
    "id": "c7d46c39",
    "outputId": "dcf4b308-aca6-408e-82b5-8443bc05264b"
   },
   "outputs": [
    {
     "name": "stdout",
     "output_type": "stream",
     "text": [
      "(2796, 4)\n",
      "(2796,)\n",
      "(378, 4)\n",
      "(378,)\n"
     ]
    }
   ],
   "source": [
    "print(trainX.shape)\n",
    "print(trainY.shape)\n",
    "print(testX.shape)\n",
    "print(testY.shape)"
   ]
  },
  {
   "cell_type": "code",
   "execution_count": 15,
   "id": "GIc1nRcCuP3G",
   "metadata": {
    "colab": {
     "base_uri": "https://localhost:8080/"
    },
    "id": "GIc1nRcCuP3G",
    "outputId": "351be388-c43b-437f-e42e-f919822f4f24"
   },
   "outputs": [
    {
     "name": "stdout",
     "output_type": "stream",
     "text": [
      "\u001b[?25l\r",
      "\u001b[K     |███▍                            | 10 kB 20.6 MB/s eta 0:00:01\r",
      "\u001b[K     |██████▊                         | 20 kB 18.0 MB/s eta 0:00:01\r",
      "\u001b[K     |██████████                      | 30 kB 11.2 MB/s eta 0:00:01\r",
      "\u001b[K     |█████████████▍                  | 40 kB 9.5 MB/s eta 0:00:01\r",
      "\u001b[K     |████████████████▊               | 51 kB 5.4 MB/s eta 0:00:01\r",
      "\u001b[K     |████████████████████            | 61 kB 5.4 MB/s eta 0:00:01\r",
      "\u001b[K     |███████████████████████▍        | 71 kB 5.6 MB/s eta 0:00:01\r",
      "\u001b[K     |██████████████████████████▊     | 81 kB 6.3 MB/s eta 0:00:01\r",
      "\u001b[K     |██████████████████████████████  | 92 kB 6.3 MB/s eta 0:00:01\r",
      "\u001b[K     |████████████████████████████████| 98 kB 3.0 MB/s \n",
      "\u001b[?25h"
     ]
    }
   ],
   "source": [
    "!pip install -q -U keras-tuner"
   ]
  },
  {
   "cell_type": "code",
   "execution_count": 16,
   "id": "M5te5ih0uP6u",
   "metadata": {
    "id": "M5te5ih0uP6u"
   },
   "outputs": [],
   "source": [
    "import pandas as pd\n",
    "from tensorflow import keras\n",
    "from tensorflow.keras import layers\n",
    "from keras_tuner.tuners import RandomSearch\n",
    "from tensorflow.keras.models import Sequential\n",
    "from tensorflow.keras.layers import LSTM\n",
    "from tensorflow.keras.layers import Dense,Dropout\n",
    "from tensorflow.keras.layers import Flatten\n",
    "import matplotlib.pyplot as plt"
   ]
  },
  {
   "cell_type": "code",
   "execution_count": 18,
   "id": "rYiJC5hXuP_e",
   "metadata": {
    "id": "rYiJC5hXuP_e"
   },
   "outputs": [],
   "source": [
    "def build_model(hp):\n",
    "    model = keras.Sequential()\n",
    "    for i in range(hp.Int('num_layers', 1, 6)):\n",
    "        model.add(layers.Dense(units=hp.Int('units_' + str(i),\n",
    "                                            min_value=8,\n",
    "                                            max_value = 128,\n",
    "                                            step=8),\n",
    "                                            activation= \"relu\"))\n",
    "        if hp.Boolean(\"dropout\"):\n",
    "          model.add(Dropout(hp.Float('Dropout_rate',min_value=0,max_value=0.5,step=0.1)))\n",
    "    model.add(layers.Dense(1, activation='linear'))\n",
    "    model.compile(\n",
    "        optimizer=keras.optimizers.Adam(\n",
    "             hp.Float('learning_rate', min_value=1e-4, max_value=1e-1, sampling=\"log\")),\n",
    "        loss='mape',\n",
    "        metrics=['mape'])\n",
    "    return model"
   ]
  },
  {
   "cell_type": "code",
   "execution_count": 19,
   "id": "2h_gRerjuQCT",
   "metadata": {
    "id": "2h_gRerjuQCT"
   },
   "outputs": [],
   "source": [
    "tuner = RandomSearch(\n",
    "    build_model,\n",
    "    objective='val_mape',\n",
    "    max_trials=10,\n",
    "    executions_per_trial=1,\n",
    "    directory='project',\n",
    "    project_name='loa_em_1')"
   ]
  },
  {
   "cell_type": "code",
   "execution_count": 20,
   "id": "Dg5AHN3guQFu",
   "metadata": {
    "colab": {
     "base_uri": "https://localhost:8080/"
    },
    "id": "Dg5AHN3guQFu",
    "outputId": "0b708df8-8b53-45a6-a84f-6e417724f771"
   },
   "outputs": [
    {
     "name": "stdout",
     "output_type": "stream",
     "text": [
      "Search space summary\n",
      "Default search space size: 4\n",
      "num_layers (Int)\n",
      "{'default': None, 'conditions': [], 'min_value': 1, 'max_value': 6, 'step': 1, 'sampling': None}\n",
      "units_0 (Int)\n",
      "{'default': None, 'conditions': [], 'min_value': 8, 'max_value': 128, 'step': 8, 'sampling': None}\n",
      "dropout (Boolean)\n",
      "{'default': False, 'conditions': []}\n",
      "learning_rate (Float)\n",
      "{'default': 0.0001, 'conditions': [], 'min_value': 0.0001, 'max_value': 0.1, 'step': None, 'sampling': 'log'}\n"
     ]
    }
   ],
   "source": [
    "tuner.search_space_summary()"
   ]
  },
  {
   "cell_type": "code",
   "execution_count": 21,
   "id": "TiBXdF0K8Gpr",
   "metadata": {
    "colab": {
     "base_uri": "https://localhost:8080/"
    },
    "id": "TiBXdF0K8Gpr",
    "outputId": "fa5c23b7-fb93-4fb2-bf3e-aa506f5d8794"
   },
   "outputs": [
    {
     "name": "stdout",
     "output_type": "stream",
     "text": [
      "Trial 10 Complete [00h 01m 22s]\n",
      "val_mape: 2.8076064586639404\n",
      "\n",
      "Best val_mape So Far: 2.8076064586639404\n",
      "Total elapsed time: 00h 09m 48s\n",
      "INFO:tensorflow:Oracle triggered exit\n"
     ]
    }
   ],
   "source": [
    "tuner.search(trainX, trainY,\n",
    "             epochs=200,\n",
    "             batch_size=37,\n",
    "             validation_data=(testX, testY))"
   ]
  },
  {
   "cell_type": "code",
   "execution_count": 22,
   "id": "VXXGH_RK8GsD",
   "metadata": {
    "colab": {
     "base_uri": "https://localhost:8080/"
    },
    "id": "VXXGH_RK8GsD",
    "outputId": "a9c5404f-b885-41d5-9e93-1e57ad878e93"
   },
   "outputs": [
    {
     "name": "stdout",
     "output_type": "stream",
     "text": [
      "Results summary\n",
      "Results in project/loa_em_1\n",
      "Showing 10 best trials\n",
      "Objective(name='val_mape', direction='min')\n",
      "Trial summary\n",
      "Hyperparameters:\n",
      "num_layers: 3\n",
      "units_0: 128\n",
      "dropout: False\n",
      "learning_rate: 0.0012525191047985907\n",
      "units_1: 64\n",
      "units_2: 56\n",
      "units_3: 80\n",
      "units_4: 96\n",
      "Dropout_rate: 0.30000000000000004\n",
      "units_5: 8\n",
      "Score: 2.8076064586639404\n",
      "Trial summary\n",
      "Hyperparameters:\n",
      "num_layers: 2\n",
      "units_0: 88\n",
      "dropout: False\n",
      "learning_rate: 0.0006304946234500367\n",
      "units_1: 80\n",
      "units_2: 48\n",
      "units_3: 96\n",
      "units_4: 40\n",
      "Dropout_rate: 0.30000000000000004\n",
      "units_5: 104\n",
      "Score: 2.8285558223724365\n",
      "Trial summary\n",
      "Hyperparameters:\n",
      "num_layers: 3\n",
      "units_0: 104\n",
      "dropout: True\n",
      "learning_rate: 0.0010244242859496276\n",
      "units_1: 48\n",
      "units_2: 40\n",
      "units_3: 32\n",
      "units_4: 104\n",
      "Dropout_rate: 0.0\n",
      "units_5: 72\n",
      "Score: 2.834548234939575\n",
      "Trial summary\n",
      "Hyperparameters:\n",
      "num_layers: 3\n",
      "units_0: 112\n",
      "dropout: False\n",
      "learning_rate: 0.0006798138705985687\n",
      "units_1: 16\n",
      "units_2: 56\n",
      "units_3: 104\n",
      "units_4: 96\n",
      "Dropout_rate: 0.5\n",
      "units_5: 48\n",
      "Score: 2.8511123657226562\n",
      "Trial summary\n",
      "Hyperparameters:\n",
      "num_layers: 5\n",
      "units_0: 128\n",
      "dropout: False\n",
      "learning_rate: 0.016702505037489306\n",
      "units_1: 8\n",
      "units_2: 8\n",
      "units_3: 8\n",
      "units_4: 8\n",
      "Score: 2.8610610961914062\n",
      "Trial summary\n",
      "Hyperparameters:\n",
      "num_layers: 6\n",
      "units_0: 72\n",
      "dropout: False\n",
      "learning_rate: 0.007482080579115889\n",
      "units_1: 48\n",
      "units_2: 56\n",
      "units_3: 16\n",
      "units_4: 88\n",
      "Dropout_rate: 0.2\n",
      "units_5: 8\n",
      "Score: 2.861189365386963\n",
      "Trial summary\n",
      "Hyperparameters:\n",
      "num_layers: 5\n",
      "units_0: 104\n",
      "dropout: True\n",
      "learning_rate: 0.03775797942371586\n",
      "units_1: 104\n",
      "units_2: 128\n",
      "units_3: 104\n",
      "units_4: 120\n",
      "Dropout_rate: 0.0\n",
      "Score: 2.907918930053711\n",
      "Trial summary\n",
      "Hyperparameters:\n",
      "num_layers: 1\n",
      "units_0: 80\n",
      "dropout: True\n",
      "learning_rate: 0.06545246980362149\n",
      "units_1: 32\n",
      "units_2: 96\n",
      "units_3: 16\n",
      "units_4: 8\n",
      "Dropout_rate: 0.0\n",
      "units_5: 24\n",
      "Score: 2.9358344078063965\n",
      "Trial summary\n",
      "Hyperparameters:\n",
      "num_layers: 4\n",
      "units_0: 112\n",
      "dropout: True\n",
      "learning_rate: 0.036779701648949996\n",
      "units_1: 112\n",
      "units_2: 112\n",
      "units_3: 24\n",
      "units_4: 72\n",
      "Dropout_rate: 0.0\n",
      "Score: 2.9639317989349365\n",
      "Trial summary\n",
      "Hyperparameters:\n",
      "num_layers: 5\n",
      "units_0: 112\n",
      "dropout: True\n",
      "learning_rate: 0.001624549656640669\n",
      "units_1: 64\n",
      "units_2: 8\n",
      "units_3: 24\n",
      "units_4: 56\n",
      "Dropout_rate: 0.1\n",
      "Score: 5.087991237640381\n"
     ]
    }
   ],
   "source": [
    "tuner.results_summary()"
   ]
  },
  {
   "cell_type": "code",
   "execution_count": 23,
   "id": "FBpLenJ_DZMX",
   "metadata": {
    "id": "FBpLenJ_DZMX"
   },
   "outputs": [],
   "source": [
    "from warnings import filterwarnings\n",
    "filterwarnings('ignore')"
   ]
  },
  {
   "cell_type": "code",
   "execution_count": 25,
   "id": "eL-a8rAv8Gvg",
   "metadata": {
    "colab": {
     "base_uri": "https://localhost:8080/"
    },
    "id": "eL-a8rAv8Gvg",
    "outputId": "09990227-3d41-4e77-feb5-9d60e8a09e22"
   },
   "outputs": [
    {
     "name": "stdout",
     "output_type": "stream",
     "text": [
      "Model: \"sequential\"\n",
      "_________________________________________________________________\n",
      " Layer (type)                Output Shape              Param #   \n",
      "=================================================================\n",
      " dense (Dense)               (None, 88)                440       \n",
      "                                                                 \n",
      " dense_1 (Dense)             (None, 80)                7120      \n",
      "                                                                 \n",
      " dense_2 (Dense)             (None, 1)                 81        \n",
      "                                                                 \n",
      "=================================================================\n",
      "Total params: 7,641\n",
      "Trainable params: 7,641\n",
      "Non-trainable params: 0\n",
      "_________________________________________________________________\n",
      "WARNING:tensorflow:Unresolved object in checkpoint: (root).layer_with_weights-0.kernel\n",
      "WARNING:tensorflow:Unresolved object in checkpoint: (root).layer_with_weights-0.bias\n",
      "WARNING:tensorflow:Unresolved object in checkpoint: (root).layer_with_weights-1.kernel\n",
      "WARNING:tensorflow:Unresolved object in checkpoint: (root).layer_with_weights-1.bias\n",
      "WARNING:tensorflow:Unresolved object in checkpoint: (root).layer_with_weights-2.kernel\n",
      "WARNING:tensorflow:Unresolved object in checkpoint: (root).layer_with_weights-2.bias\n",
      "WARNING:tensorflow:Unresolved object in checkpoint: (root).layer_with_weights-3.kernel\n",
      "WARNING:tensorflow:Unresolved object in checkpoint: (root).layer_with_weights-3.bias\n",
      "WARNING:tensorflow:Unresolved object in checkpoint: (root).optimizer.iter\n",
      "WARNING:tensorflow:Unresolved object in checkpoint: (root).optimizer.beta_1\n",
      "WARNING:tensorflow:Unresolved object in checkpoint: (root).optimizer.beta_2\n",
      "WARNING:tensorflow:Unresolved object in checkpoint: (root).optimizer.decay\n",
      "WARNING:tensorflow:Unresolved object in checkpoint: (root).optimizer.learning_rate\n",
      "WARNING:tensorflow:Unresolved object in checkpoint: (root).optimizer's state 'm' for (root).layer_with_weights-0.kernel\n",
      "WARNING:tensorflow:Unresolved object in checkpoint: (root).optimizer's state 'm' for (root).layer_with_weights-0.bias\n",
      "WARNING:tensorflow:Unresolved object in checkpoint: (root).optimizer's state 'm' for (root).layer_with_weights-1.kernel\n",
      "WARNING:tensorflow:Unresolved object in checkpoint: (root).optimizer's state 'm' for (root).layer_with_weights-1.bias\n",
      "WARNING:tensorflow:Unresolved object in checkpoint: (root).optimizer's state 'm' for (root).layer_with_weights-2.kernel\n",
      "WARNING:tensorflow:Unresolved object in checkpoint: (root).optimizer's state 'm' for (root).layer_with_weights-2.bias\n",
      "WARNING:tensorflow:Unresolved object in checkpoint: (root).optimizer's state 'm' for (root).layer_with_weights-3.kernel\n",
      "WARNING:tensorflow:Unresolved object in checkpoint: (root).optimizer's state 'm' for (root).layer_with_weights-3.bias\n",
      "WARNING:tensorflow:Unresolved object in checkpoint: (root).optimizer's state 'v' for (root).layer_with_weights-0.kernel\n",
      "WARNING:tensorflow:Unresolved object in checkpoint: (root).optimizer's state 'v' for (root).layer_with_weights-0.bias\n",
      "WARNING:tensorflow:Unresolved object in checkpoint: (root).optimizer's state 'v' for (root).layer_with_weights-1.kernel\n",
      "WARNING:tensorflow:Unresolved object in checkpoint: (root).optimizer's state 'v' for (root).layer_with_weights-1.bias\n",
      "WARNING:tensorflow:Unresolved object in checkpoint: (root).optimizer's state 'v' for (root).layer_with_weights-2.kernel\n",
      "WARNING:tensorflow:Unresolved object in checkpoint: (root).optimizer's state 'v' for (root).layer_with_weights-2.bias\n",
      "WARNING:tensorflow:Unresolved object in checkpoint: (root).optimizer's state 'v' for (root).layer_with_weights-3.kernel\n",
      "WARNING:tensorflow:Unresolved object in checkpoint: (root).optimizer's state 'v' for (root).layer_with_weights-3.bias\n",
      "WARNING:tensorflow:A checkpoint was restored (e.g. tf.train.Checkpoint.restore or tf.keras.Model.load_weights) but not all checkpointed values were used. See above for specific issues. Use expect_partial() on the load status object, e.g. tf.train.Checkpoint.restore(...).expect_partial(), to silence these warnings, or use assert_consumed() to make the check explicit. See https://www.tensorflow.org/guide/checkpoint#loading_mechanics for details.\n"
     ]
    }
   ],
   "source": [
    "models = tuner.get_best_models(num_models=2)\n",
    "best_model = models[1]\n",
    "# Build the model.\n",
    "# Needed for `Sequential` without specified `input_shape`.\n",
    "best_model.build(input_shape=(None, 4))\n",
    "best_model.summary()"
   ]
  },
  {
   "cell_type": "code",
   "execution_count": 26,
   "id": "ovKDjDHZEmLV",
   "metadata": {
    "id": "ovKDjDHZEmLV"
   },
   "outputs": [],
   "source": [
    "from tensorflow.keras import optimizers\n",
    "from tensorflow.keras.callbacks import EarlyStopping"
   ]
  },
  {
   "cell_type": "code",
   "execution_count": 76,
   "id": "0e187ddc",
   "metadata": {
    "colab": {
     "base_uri": "https://localhost:8080/"
    },
    "id": "0e187ddc",
    "outputId": "b45950c5-aaad-4d1a-f685-379f56b45420"
   },
   "outputs": [
    {
     "name": "stdout",
     "output_type": "stream",
     "text": [
      "Epoch 1/200\n",
      "76/76 [==============================] - 1s 7ms/step - loss: 90.2139 - mape: 90.2139 - val_loss: 88.7315 - val_mape: 88.7315\n",
      "Epoch 2/200\n",
      "76/76 [==============================] - 0s 4ms/step - loss: 87.3530 - mape: 87.3530 - val_loss: 85.8313 - val_mape: 85.8313\n",
      "Epoch 3/200\n",
      "76/76 [==============================] - 0s 4ms/step - loss: 84.5377 - mape: 84.5377 - val_loss: 83.0033 - val_mape: 83.0033\n",
      "Epoch 4/200\n",
      "76/76 [==============================] - 0s 5ms/step - loss: 81.8094 - mape: 81.8094 - val_loss: 80.2691 - val_mape: 80.2691\n",
      "Epoch 5/200\n",
      "76/76 [==============================] - 0s 3ms/step - loss: 79.1401 - mape: 79.1401 - val_loss: 77.5782 - val_mape: 77.5782\n",
      "Epoch 6/200\n",
      "76/76 [==============================] - 0s 3ms/step - loss: 76.4738 - mape: 76.4738 - val_loss: 74.8690 - val_mape: 74.8690\n",
      "Epoch 7/200\n",
      "76/76 [==============================] - 0s 4ms/step - loss: 73.7039 - mape: 73.7039 - val_loss: 71.8880 - val_mape: 71.8880\n",
      "Epoch 8/200\n",
      "76/76 [==============================] - 0s 4ms/step - loss: 70.5550 - mape: 70.5550 - val_loss: 68.4672 - val_mape: 68.4672\n",
      "Epoch 9/200\n",
      "76/76 [==============================] - 0s 4ms/step - loss: 67.1798 - mape: 67.1798 - val_loss: 65.0602 - val_mape: 65.0602\n",
      "Epoch 10/200\n",
      "76/76 [==============================] - 0s 4ms/step - loss: 63.8766 - mape: 63.8766 - val_loss: 61.7457 - val_mape: 61.7457\n",
      "Epoch 11/200\n",
      "76/76 [==============================] - 0s 4ms/step - loss: 60.6269 - mape: 60.6269 - val_loss: 58.4580 - val_mape: 58.4580\n",
      "Epoch 12/200\n",
      "76/76 [==============================] - 0s 3ms/step - loss: 57.3555 - mape: 57.3555 - val_loss: 55.0813 - val_mape: 55.0813\n",
      "Epoch 13/200\n",
      "76/76 [==============================] - 0s 2ms/step - loss: 53.9803 - mape: 53.9803 - val_loss: 51.6082 - val_mape: 51.6082\n",
      "Epoch 14/200\n",
      "76/76 [==============================] - 0s 2ms/step - loss: 50.5716 - mape: 50.5716 - val_loss: 48.0972 - val_mape: 48.0972\n",
      "Epoch 15/200\n",
      "76/76 [==============================] - 0s 3ms/step - loss: 47.1638 - mape: 47.1638 - val_loss: 44.5675 - val_mape: 44.5675\n",
      "Epoch 16/200\n",
      "76/76 [==============================] - 0s 2ms/step - loss: 43.7442 - mape: 43.7442 - val_loss: 41.0070 - val_mape: 41.0070\n",
      "Epoch 17/200\n",
      "76/76 [==============================] - 0s 2ms/step - loss: 40.3538 - mape: 40.3538 - val_loss: 37.4415 - val_mape: 37.4415\n",
      "Epoch 18/200\n",
      "76/76 [==============================] - 0s 2ms/step - loss: 37.0580 - mape: 37.0580 - val_loss: 33.9524 - val_mape: 33.9524\n",
      "Epoch 19/200\n",
      "76/76 [==============================] - 0s 3ms/step - loss: 34.0019 - mape: 34.0019 - val_loss: 30.6320 - val_mape: 30.6320\n",
      "Epoch 20/200\n",
      "76/76 [==============================] - 0s 3ms/step - loss: 31.2956 - mape: 31.2956 - val_loss: 27.7324 - val_mape: 27.7324\n",
      "Epoch 21/200\n",
      "76/76 [==============================] - 0s 2ms/step - loss: 28.9852 - mape: 28.9852 - val_loss: 25.1412 - val_mape: 25.1412\n",
      "Epoch 22/200\n",
      "76/76 [==============================] - 0s 2ms/step - loss: 27.0077 - mape: 27.0077 - val_loss: 22.8156 - val_mape: 22.8156\n",
      "Epoch 23/200\n",
      "76/76 [==============================] - 0s 2ms/step - loss: 25.3585 - mape: 25.3585 - val_loss: 20.8437 - val_mape: 20.8437\n",
      "Epoch 24/200\n",
      "76/76 [==============================] - 0s 2ms/step - loss: 24.0874 - mape: 24.0874 - val_loss: 19.2584 - val_mape: 19.2584\n",
      "Epoch 25/200\n",
      "76/76 [==============================] - 0s 2ms/step - loss: 23.0946 - mape: 23.0946 - val_loss: 17.9959 - val_mape: 17.9959\n",
      "Epoch 26/200\n",
      "76/76 [==============================] - 0s 2ms/step - loss: 22.3090 - mape: 22.3090 - val_loss: 17.0008 - val_mape: 17.0008\n",
      "Epoch 27/200\n",
      "76/76 [==============================] - 0s 3ms/step - loss: 21.6600 - mape: 21.6600 - val_loss: 16.2059 - val_mape: 16.2059\n",
      "Epoch 28/200\n",
      "76/76 [==============================] - 0s 2ms/step - loss: 21.1043 - mape: 21.1043 - val_loss: 15.6097 - val_mape: 15.6097\n",
      "Epoch 29/200\n",
      "76/76 [==============================] - 0s 2ms/step - loss: 20.6233 - mape: 20.6233 - val_loss: 15.1786 - val_mape: 15.1786\n",
      "Epoch 30/200\n",
      "76/76 [==============================] - 0s 2ms/step - loss: 20.2073 - mape: 20.2073 - val_loss: 14.8689 - val_mape: 14.8689\n",
      "Epoch 31/200\n",
      "76/76 [==============================] - 0s 3ms/step - loss: 19.8409 - mape: 19.8409 - val_loss: 14.6343 - val_mape: 14.6343\n",
      "Epoch 32/200\n",
      "76/76 [==============================] - 0s 2ms/step - loss: 19.5115 - mape: 19.5115 - val_loss: 14.4352 - val_mape: 14.4352\n",
      "Epoch 33/200\n",
      "76/76 [==============================] - 0s 2ms/step - loss: 19.2113 - mape: 19.2113 - val_loss: 14.2571 - val_mape: 14.2571\n",
      "Epoch 34/200\n",
      "76/76 [==============================] - 0s 2ms/step - loss: 18.9368 - mape: 18.9368 - val_loss: 14.0889 - val_mape: 14.0889\n",
      "Epoch 35/200\n",
      "76/76 [==============================] - 0s 2ms/step - loss: 18.6720 - mape: 18.6720 - val_loss: 13.9171 - val_mape: 13.9171\n",
      "Epoch 36/200\n",
      "76/76 [==============================] - 0s 2ms/step - loss: 18.4020 - mape: 18.4020 - val_loss: 13.7382 - val_mape: 13.7382\n",
      "Epoch 37/200\n",
      "76/76 [==============================] - 0s 2ms/step - loss: 18.1158 - mape: 18.1158 - val_loss: 13.5468 - val_mape: 13.5468\n",
      "Epoch 38/200\n",
      "76/76 [==============================] - 0s 2ms/step - loss: 17.8017 - mape: 17.8017 - val_loss: 13.3406 - val_mape: 13.3406\n",
      "Epoch 39/200\n",
      "76/76 [==============================] - 0s 2ms/step - loss: 17.4746 - mape: 17.4746 - val_loss: 13.1190 - val_mape: 13.1190\n",
      "Epoch 40/200\n",
      "76/76 [==============================] - 0s 2ms/step - loss: 17.1506 - mape: 17.1506 - val_loss: 12.8937 - val_mape: 12.8937\n",
      "Epoch 41/200\n",
      "76/76 [==============================] - 0s 2ms/step - loss: 16.8288 - mape: 16.8288 - val_loss: 12.6703 - val_mape: 12.6703\n",
      "Epoch 42/200\n",
      "76/76 [==============================] - 0s 2ms/step - loss: 16.5025 - mape: 16.5025 - val_loss: 12.4343 - val_mape: 12.4343\n",
      "Epoch 43/200\n",
      "76/76 [==============================] - 0s 2ms/step - loss: 16.1729 - mape: 16.1729 - val_loss: 12.1907 - val_mape: 12.1907\n",
      "Epoch 44/200\n",
      "76/76 [==============================] - 0s 2ms/step - loss: 15.8249 - mape: 15.8249 - val_loss: 11.9223 - val_mape: 11.9223\n",
      "Epoch 45/200\n",
      "76/76 [==============================] - 0s 2ms/step - loss: 15.4671 - mape: 15.4671 - val_loss: 11.6523 - val_mape: 11.6523\n",
      "Epoch 46/200\n",
      "76/76 [==============================] - 0s 2ms/step - loss: 15.1079 - mape: 15.1079 - val_loss: 11.3904 - val_mape: 11.3904\n",
      "Epoch 47/200\n",
      "76/76 [==============================] - 0s 2ms/step - loss: 14.7490 - mape: 14.7490 - val_loss: 11.1260 - val_mape: 11.1260\n",
      "Epoch 48/200\n",
      "76/76 [==============================] - 0s 2ms/step - loss: 14.3865 - mape: 14.3865 - val_loss: 10.8633 - val_mape: 10.8633\n",
      "Epoch 49/200\n",
      "76/76 [==============================] - 0s 2ms/step - loss: 14.0232 - mape: 14.0232 - val_loss: 10.6031 - val_mape: 10.6031\n",
      "Epoch 50/200\n",
      "76/76 [==============================] - 0s 2ms/step - loss: 13.6543 - mape: 13.6543 - val_loss: 10.3296 - val_mape: 10.3296\n",
      "Epoch 51/200\n",
      "76/76 [==============================] - 0s 2ms/step - loss: 13.2820 - mape: 13.2820 - val_loss: 10.0585 - val_mape: 10.0585\n",
      "Epoch 52/200\n",
      "76/76 [==============================] - 0s 2ms/step - loss: 12.9012 - mape: 12.9012 - val_loss: 9.7830 - val_mape: 9.7830\n",
      "Epoch 53/200\n",
      "76/76 [==============================] - 0s 2ms/step - loss: 12.4438 - mape: 12.4438 - val_loss: 9.3133 - val_mape: 9.3133\n",
      "Epoch 54/200\n",
      "76/76 [==============================] - 0s 2ms/step - loss: 11.7844 - mape: 11.7844 - val_loss: 8.8377 - val_mape: 8.8377\n",
      "Epoch 55/200\n",
      "76/76 [==============================] - 0s 2ms/step - loss: 11.2124 - mape: 11.2124 - val_loss: 8.4715 - val_mape: 8.4715\n",
      "Epoch 56/200\n",
      "76/76 [==============================] - 0s 2ms/step - loss: 10.6894 - mape: 10.6894 - val_loss: 8.1236 - val_mape: 8.1236\n",
      "Epoch 57/200\n",
      "76/76 [==============================] - 0s 2ms/step - loss: 10.2046 - mape: 10.2046 - val_loss: 7.7930 - val_mape: 7.7930\n",
      "Epoch 58/200\n",
      "76/76 [==============================] - 0s 2ms/step - loss: 9.7483 - mape: 9.7483 - val_loss: 7.4881 - val_mape: 7.4881\n",
      "Epoch 59/200\n",
      "76/76 [==============================] - 0s 2ms/step - loss: 9.3114 - mape: 9.3114 - val_loss: 7.2114 - val_mape: 7.2114\n",
      "Epoch 60/200\n",
      "76/76 [==============================] - 0s 2ms/step - loss: 8.9022 - mape: 8.9022 - val_loss: 6.9501 - val_mape: 6.9501\n",
      "Epoch 61/200\n",
      "76/76 [==============================] - 0s 2ms/step - loss: 8.5250 - mape: 8.5250 - val_loss: 6.7082 - val_mape: 6.7082\n",
      "Epoch 62/200\n",
      "76/76 [==============================] - 0s 2ms/step - loss: 8.1830 - mape: 8.1830 - val_loss: 6.5347 - val_mape: 6.5347\n",
      "Epoch 63/200\n",
      "76/76 [==============================] - 0s 2ms/step - loss: 7.8945 - mape: 7.8945 - val_loss: 6.3455 - val_mape: 6.3455\n",
      "Epoch 64/200\n",
      "76/76 [==============================] - 0s 2ms/step - loss: 7.6427 - mape: 7.6427 - val_loss: 6.1872 - val_mape: 6.1872\n",
      "Epoch 65/200\n",
      "76/76 [==============================] - 0s 2ms/step - loss: 7.4205 - mape: 7.4205 - val_loss: 6.0403 - val_mape: 6.0403\n",
      "Epoch 66/200\n",
      "76/76 [==============================] - 0s 2ms/step - loss: 7.2207 - mape: 7.2207 - val_loss: 5.9256 - val_mape: 5.9256\n",
      "Epoch 67/200\n",
      "76/76 [==============================] - 0s 2ms/step - loss: 7.0504 - mape: 7.0504 - val_loss: 5.8702 - val_mape: 5.8702\n",
      "Epoch 68/200\n",
      "76/76 [==============================] - 0s 2ms/step - loss: 6.9004 - mape: 6.9004 - val_loss: 5.7653 - val_mape: 5.7653\n",
      "Epoch 69/200\n",
      "76/76 [==============================] - 0s 2ms/step - loss: 6.7761 - mape: 6.7761 - val_loss: 5.6852 - val_mape: 5.6852\n",
      "Epoch 70/200\n",
      "76/76 [==============================] - 0s 2ms/step - loss: 6.6606 - mape: 6.6606 - val_loss: 5.6392 - val_mape: 5.6392\n",
      "Epoch 71/200\n",
      "76/76 [==============================] - 0s 2ms/step - loss: 6.5617 - mape: 6.5617 - val_loss: 5.5678 - val_mape: 5.5678\n",
      "Epoch 72/200\n",
      "76/76 [==============================] - 0s 2ms/step - loss: 6.4719 - mape: 6.4719 - val_loss: 5.5439 - val_mape: 5.5439\n",
      "Epoch 73/200\n",
      "76/76 [==============================] - 0s 2ms/step - loss: 6.3958 - mape: 6.3958 - val_loss: 5.4945 - val_mape: 5.4945\n",
      "Epoch 74/200\n",
      "76/76 [==============================] - 0s 2ms/step - loss: 6.3290 - mape: 6.3290 - val_loss: 5.4343 - val_mape: 5.4343\n",
      "Epoch 75/200\n",
      "76/76 [==============================] - 0s 2ms/step - loss: 6.2610 - mape: 6.2610 - val_loss: 5.3944 - val_mape: 5.3944\n",
      "Epoch 76/200\n",
      "76/76 [==============================] - 0s 3ms/step - loss: 6.1996 - mape: 6.1996 - val_loss: 5.3446 - val_mape: 5.3446\n",
      "Epoch 77/200\n",
      "76/76 [==============================] - 0s 2ms/step - loss: 6.1383 - mape: 6.1383 - val_loss: 5.3311 - val_mape: 5.3311\n",
      "Epoch 78/200\n",
      "76/76 [==============================] - 0s 2ms/step - loss: 6.0790 - mape: 6.0790 - val_loss: 5.2382 - val_mape: 5.2382\n",
      "Epoch 79/200\n",
      "76/76 [==============================] - 0s 2ms/step - loss: 6.0200 - mape: 6.0200 - val_loss: 5.1966 - val_mape: 5.1966\n",
      "Epoch 80/200\n",
      "76/76 [==============================] - 0s 2ms/step - loss: 5.9693 - mape: 5.9693 - val_loss: 5.1516 - val_mape: 5.1516\n",
      "Epoch 81/200\n",
      "76/76 [==============================] - 0s 2ms/step - loss: 5.9133 - mape: 5.9133 - val_loss: 5.0978 - val_mape: 5.0978\n",
      "Epoch 82/200\n",
      "76/76 [==============================] - 0s 2ms/step - loss: 5.8653 - mape: 5.8653 - val_loss: 5.0530 - val_mape: 5.0530\n",
      "Epoch 83/200\n",
      "76/76 [==============================] - 0s 2ms/step - loss: 5.8133 - mape: 5.8133 - val_loss: 5.0040 - val_mape: 5.0040\n",
      "Epoch 84/200\n",
      "76/76 [==============================] - 0s 2ms/step - loss: 5.7619 - mape: 5.7619 - val_loss: 4.9480 - val_mape: 4.9480\n",
      "Epoch 85/200\n",
      "76/76 [==============================] - 0s 2ms/step - loss: 5.7090 - mape: 5.7090 - val_loss: 4.9031 - val_mape: 4.9031\n",
      "Epoch 86/200\n",
      "76/76 [==============================] - 0s 2ms/step - loss: 5.6575 - mape: 5.6575 - val_loss: 4.8418 - val_mape: 4.8418\n",
      "Epoch 87/200\n",
      "76/76 [==============================] - 0s 3ms/step - loss: 5.5962 - mape: 5.5962 - val_loss: 4.7910 - val_mape: 4.7910\n",
      "Epoch 88/200\n",
      "76/76 [==============================] - 0s 3ms/step - loss: 5.5361 - mape: 5.5361 - val_loss: 4.7296 - val_mape: 4.7296\n",
      "Epoch 89/200\n",
      "76/76 [==============================] - 0s 2ms/step - loss: 5.4562 - mape: 5.4562 - val_loss: 4.6614 - val_mape: 4.6614\n",
      "Epoch 90/200\n",
      "76/76 [==============================] - 0s 3ms/step - loss: 5.3624 - mape: 5.3624 - val_loss: 4.5892 - val_mape: 4.5892\n",
      "Epoch 91/200\n",
      "76/76 [==============================] - 0s 2ms/step - loss: 5.2726 - mape: 5.2726 - val_loss: 4.5147 - val_mape: 4.5147\n",
      "Epoch 92/200\n",
      "76/76 [==============================] - 0s 3ms/step - loss: 5.1715 - mape: 5.1715 - val_loss: 4.4388 - val_mape: 4.4388\n",
      "Epoch 93/200\n",
      "76/76 [==============================] - 0s 3ms/step - loss: 5.0660 - mape: 5.0660 - val_loss: 4.3783 - val_mape: 4.3783\n",
      "Epoch 94/200\n",
      "76/76 [==============================] - 0s 3ms/step - loss: 4.9610 - mape: 4.9610 - val_loss: 4.2942 - val_mape: 4.2942\n",
      "Epoch 95/200\n",
      "76/76 [==============================] - 0s 2ms/step - loss: 4.8623 - mape: 4.8623 - val_loss: 4.2333 - val_mape: 4.2333\n",
      "Epoch 96/200\n",
      "76/76 [==============================] - 0s 3ms/step - loss: 4.7628 - mape: 4.7628 - val_loss: 4.1758 - val_mape: 4.1758\n",
      "Epoch 97/200\n",
      "76/76 [==============================] - 0s 2ms/step - loss: 4.6754 - mape: 4.6754 - val_loss: 4.1360 - val_mape: 4.1360\n",
      "Epoch 98/200\n",
      "76/76 [==============================] - 0s 3ms/step - loss: 4.5972 - mape: 4.5972 - val_loss: 4.0680 - val_mape: 4.0680\n",
      "Epoch 99/200\n",
      "76/76 [==============================] - 0s 3ms/step - loss: 4.5266 - mape: 4.5266 - val_loss: 4.0112 - val_mape: 4.0112\n",
      "Epoch 100/200\n",
      "76/76 [==============================] - 0s 3ms/step - loss: 4.4528 - mape: 4.4528 - val_loss: 3.9644 - val_mape: 3.9644\n",
      "Epoch 101/200\n",
      "76/76 [==============================] - 0s 3ms/step - loss: 4.3958 - mape: 4.3958 - val_loss: 3.9349 - val_mape: 3.9349\n",
      "Epoch 102/200\n",
      "76/76 [==============================] - 0s 2ms/step - loss: 4.3373 - mape: 4.3373 - val_loss: 3.8912 - val_mape: 3.8912\n",
      "Epoch 103/200\n",
      "76/76 [==============================] - 0s 3ms/step - loss: 4.2849 - mape: 4.2849 - val_loss: 3.8744 - val_mape: 3.8744\n",
      "Epoch 104/200\n",
      "76/76 [==============================] - 0s 3ms/step - loss: 4.2357 - mape: 4.2357 - val_loss: 3.8396 - val_mape: 3.8396\n",
      "Epoch 105/200\n",
      "76/76 [==============================] - 0s 2ms/step - loss: 4.1954 - mape: 4.1954 - val_loss: 3.8172 - val_mape: 3.8172\n",
      "Epoch 106/200\n",
      "76/76 [==============================] - 0s 3ms/step - loss: 4.1566 - mape: 4.1566 - val_loss: 3.7893 - val_mape: 3.7893\n",
      "Epoch 107/200\n",
      "76/76 [==============================] - 0s 2ms/step - loss: 4.1150 - mape: 4.1150 - val_loss: 3.7716 - val_mape: 3.7716\n",
      "Epoch 108/200\n",
      "76/76 [==============================] - 0s 2ms/step - loss: 4.0791 - mape: 4.0791 - val_loss: 3.7461 - val_mape: 3.7461\n",
      "Epoch 109/200\n",
      "76/76 [==============================] - 0s 3ms/step - loss: 4.0496 - mape: 4.0496 - val_loss: 3.7271 - val_mape: 3.7271\n",
      "Epoch 110/200\n",
      "76/76 [==============================] - 0s 2ms/step - loss: 4.0105 - mape: 4.0105 - val_loss: 3.7134 - val_mape: 3.7134\n",
      "Epoch 111/200\n",
      "76/76 [==============================] - 0s 3ms/step - loss: 3.9784 - mape: 3.9784 - val_loss: 3.6905 - val_mape: 3.6905\n",
      "Epoch 112/200\n",
      "76/76 [==============================] - 0s 2ms/step - loss: 3.9443 - mape: 3.9443 - val_loss: 3.6841 - val_mape: 3.6841\n",
      "Epoch 113/200\n",
      "76/76 [==============================] - 0s 2ms/step - loss: 3.9129 - mape: 3.9129 - val_loss: 3.6627 - val_mape: 3.6627\n",
      "Epoch 114/200\n",
      "76/76 [==============================] - 0s 2ms/step - loss: 3.8816 - mape: 3.8816 - val_loss: 3.6445 - val_mape: 3.6445\n",
      "Epoch 115/200\n",
      "76/76 [==============================] - 0s 3ms/step - loss: 3.8535 - mape: 3.8535 - val_loss: 3.6189 - val_mape: 3.6189\n",
      "Epoch 116/200\n",
      "76/76 [==============================] - 0s 2ms/step - loss: 3.8215 - mape: 3.8215 - val_loss: 3.6049 - val_mape: 3.6049\n",
      "Epoch 117/200\n",
      "76/76 [==============================] - 0s 3ms/step - loss: 3.7883 - mape: 3.7883 - val_loss: 3.6343 - val_mape: 3.6343\n",
      "Epoch 118/200\n",
      "76/76 [==============================] - 0s 2ms/step - loss: 3.7675 - mape: 3.7675 - val_loss: 3.5856 - val_mape: 3.5856\n",
      "Epoch 119/200\n",
      "76/76 [==============================] - 0s 2ms/step - loss: 3.7402 - mape: 3.7402 - val_loss: 3.5866 - val_mape: 3.5866\n",
      "Epoch 120/200\n",
      "76/76 [==============================] - 0s 3ms/step - loss: 3.7125 - mape: 3.7125 - val_loss: 3.5547 - val_mape: 3.5547\n",
      "Epoch 121/200\n",
      "76/76 [==============================] - 0s 3ms/step - loss: 3.6874 - mape: 3.6874 - val_loss: 3.5449 - val_mape: 3.5449\n",
      "Epoch 122/200\n",
      "76/76 [==============================] - 0s 3ms/step - loss: 3.6621 - mape: 3.6621 - val_loss: 3.5247 - val_mape: 3.5247\n",
      "Epoch 123/200\n",
      "76/76 [==============================] - 0s 3ms/step - loss: 3.6410 - mape: 3.6410 - val_loss: 3.5211 - val_mape: 3.5211\n",
      "Epoch 124/200\n",
      "76/76 [==============================] - 0s 2ms/step - loss: 3.6192 - mape: 3.6192 - val_loss: 3.5037 - val_mape: 3.5037\n",
      "Epoch 125/200\n",
      "76/76 [==============================] - 0s 2ms/step - loss: 3.5971 - mape: 3.5971 - val_loss: 3.5033 - val_mape: 3.5033\n",
      "Epoch 126/200\n",
      "76/76 [==============================] - 0s 2ms/step - loss: 3.5787 - mape: 3.5787 - val_loss: 3.4875 - val_mape: 3.4875\n",
      "Epoch 127/200\n",
      "76/76 [==============================] - 0s 3ms/step - loss: 3.5546 - mape: 3.5546 - val_loss: 3.4846 - val_mape: 3.4846\n",
      "Epoch 128/200\n",
      "76/76 [==============================] - 0s 3ms/step - loss: 3.5341 - mape: 3.5341 - val_loss: 3.4778 - val_mape: 3.4778\n",
      "Epoch 129/200\n",
      "76/76 [==============================] - 0s 3ms/step - loss: 3.5151 - mape: 3.5151 - val_loss: 3.4621 - val_mape: 3.4621\n",
      "Epoch 130/200\n",
      "76/76 [==============================] - 0s 2ms/step - loss: 3.4987 - mape: 3.4987 - val_loss: 3.4580 - val_mape: 3.4580\n",
      "Epoch 131/200\n",
      "76/76 [==============================] - 0s 2ms/step - loss: 3.4817 - mape: 3.4817 - val_loss: 3.4505 - val_mape: 3.4505\n",
      "Epoch 132/200\n",
      "76/76 [==============================] - 0s 3ms/step - loss: 3.4580 - mape: 3.4580 - val_loss: 3.4400 - val_mape: 3.4400\n",
      "Epoch 133/200\n",
      "76/76 [==============================] - 0s 2ms/step - loss: 3.4407 - mape: 3.4407 - val_loss: 3.4339 - val_mape: 3.4339\n",
      "Epoch 134/200\n",
      "76/76 [==============================] - 0s 3ms/step - loss: 3.4215 - mape: 3.4215 - val_loss: 3.4521 - val_mape: 3.4521\n",
      "Epoch 135/200\n",
      "76/76 [==============================] - 0s 3ms/step - loss: 3.4118 - mape: 3.4118 - val_loss: 3.4411 - val_mape: 3.4411\n",
      "Epoch 136/200\n",
      "76/76 [==============================] - 0s 3ms/step - loss: 3.3905 - mape: 3.3905 - val_loss: 3.4264 - val_mape: 3.4264\n",
      "Epoch 137/200\n",
      "76/76 [==============================] - 0s 3ms/step - loss: 3.3754 - mape: 3.3754 - val_loss: 3.4206 - val_mape: 3.4206\n",
      "Epoch 138/200\n",
      "76/76 [==============================] - 0s 3ms/step - loss: 3.3631 - mape: 3.3631 - val_loss: 3.4072 - val_mape: 3.4072\n",
      "Epoch 139/200\n",
      "76/76 [==============================] - 0s 3ms/step - loss: 3.3462 - mape: 3.3462 - val_loss: 3.3978 - val_mape: 3.3978\n",
      "Epoch 140/200\n",
      "76/76 [==============================] - 0s 3ms/step - loss: 3.3413 - mape: 3.3413 - val_loss: 3.4078 - val_mape: 3.4078\n",
      "Epoch 141/200\n",
      "76/76 [==============================] - 0s 3ms/step - loss: 3.3231 - mape: 3.3231 - val_loss: 3.3929 - val_mape: 3.3929\n",
      "Epoch 142/200\n",
      "76/76 [==============================] - 0s 3ms/step - loss: 3.3152 - mape: 3.3152 - val_loss: 3.3896 - val_mape: 3.3896\n",
      "Epoch 143/200\n",
      "76/76 [==============================] - 0s 2ms/step - loss: 3.3057 - mape: 3.3057 - val_loss: 3.3967 - val_mape: 3.3967\n",
      "Epoch 144/200\n",
      "76/76 [==============================] - 0s 3ms/step - loss: 3.2878 - mape: 3.2878 - val_loss: 3.3814 - val_mape: 3.3814\n",
      "Epoch 145/200\n",
      "76/76 [==============================] - 0s 2ms/step - loss: 3.2823 - mape: 3.2823 - val_loss: 3.3785 - val_mape: 3.3785\n",
      "Epoch 146/200\n",
      "76/76 [==============================] - 0s 3ms/step - loss: 3.2700 - mape: 3.2700 - val_loss: 3.3791 - val_mape: 3.3791\n",
      "Epoch 147/200\n",
      "76/76 [==============================] - 0s 3ms/step - loss: 3.2616 - mape: 3.2616 - val_loss: 3.3843 - val_mape: 3.3843\n",
      "Epoch 148/200\n",
      "76/76 [==============================] - 0s 3ms/step - loss: 3.2531 - mape: 3.2531 - val_loss: 3.3701 - val_mape: 3.3701\n",
      "Epoch 149/200\n",
      "76/76 [==============================] - 0s 3ms/step - loss: 3.2439 - mape: 3.2439 - val_loss: 3.3674 - val_mape: 3.3674\n",
      "Epoch 150/200\n",
      "76/76 [==============================] - 0s 3ms/step - loss: 3.2376 - mape: 3.2376 - val_loss: 3.3739 - val_mape: 3.3739\n",
      "Epoch 151/200\n",
      "76/76 [==============================] - 0s 3ms/step - loss: 3.2277 - mape: 3.2277 - val_loss: 3.3652 - val_mape: 3.3652\n",
      "Epoch 152/200\n",
      "76/76 [==============================] - 0s 3ms/step - loss: 3.2224 - mape: 3.2224 - val_loss: 3.3629 - val_mape: 3.3629\n",
      "Epoch 153/200\n",
      "76/76 [==============================] - 0s 3ms/step - loss: 3.2176 - mape: 3.2176 - val_loss: 3.3625 - val_mape: 3.3625\n",
      "Epoch 154/200\n",
      "76/76 [==============================] - 0s 3ms/step - loss: 3.2090 - mape: 3.2090 - val_loss: 3.3561 - val_mape: 3.3561\n",
      "Epoch 155/200\n",
      "76/76 [==============================] - 0s 3ms/step - loss: 3.2022 - mape: 3.2022 - val_loss: 3.3656 - val_mape: 3.3656\n",
      "Epoch 156/200\n",
      "76/76 [==============================] - 0s 3ms/step - loss: 3.1966 - mape: 3.1966 - val_loss: 3.3562 - val_mape: 3.3562\n",
      "Epoch 157/200\n",
      "76/76 [==============================] - 0s 3ms/step - loss: 3.1898 - mape: 3.1898 - val_loss: 3.3578 - val_mape: 3.3578\n",
      "Epoch 158/200\n",
      "76/76 [==============================] - 0s 3ms/step - loss: 3.1854 - mape: 3.1854 - val_loss: 3.3548 - val_mape: 3.3548\n",
      "Epoch 159/200\n",
      "76/76 [==============================] - 0s 2ms/step - loss: 3.1783 - mape: 3.1783 - val_loss: 3.3553 - val_mape: 3.3553\n",
      "Epoch 160/200\n",
      "76/76 [==============================] - 0s 3ms/step - loss: 3.1728 - mape: 3.1728 - val_loss: 3.3588 - val_mape: 3.3588\n",
      "Epoch 161/200\n",
      "76/76 [==============================] - 0s 3ms/step - loss: 3.1669 - mape: 3.1669 - val_loss: 3.3492 - val_mape: 3.3492\n",
      "Epoch 162/200\n",
      "76/76 [==============================] - 0s 3ms/step - loss: 3.1633 - mape: 3.1633 - val_loss: 3.3676 - val_mape: 3.3676\n",
      "Epoch 163/200\n",
      "76/76 [==============================] - 0s 3ms/step - loss: 3.1579 - mape: 3.1579 - val_loss: 3.3502 - val_mape: 3.3502\n",
      "Epoch 164/200\n",
      "76/76 [==============================] - 0s 2ms/step - loss: 3.1534 - mape: 3.1534 - val_loss: 3.3559 - val_mape: 3.3559\n",
      "Epoch 165/200\n",
      "76/76 [==============================] - 0s 2ms/step - loss: 3.1510 - mape: 3.1510 - val_loss: 3.3466 - val_mape: 3.3466\n",
      "Epoch 166/200\n",
      "76/76 [==============================] - 0s 3ms/step - loss: 3.1460 - mape: 3.1460 - val_loss: 3.3676 - val_mape: 3.3676\n",
      "Epoch 167/200\n",
      "76/76 [==============================] - 0s 3ms/step - loss: 3.1443 - mape: 3.1443 - val_loss: 3.3594 - val_mape: 3.3594\n",
      "Epoch 168/200\n",
      "76/76 [==============================] - 0s 3ms/step - loss: 3.1375 - mape: 3.1375 - val_loss: 3.3467 - val_mape: 3.3467\n",
      "Epoch 169/200\n",
      "76/76 [==============================] - 0s 2ms/step - loss: 3.1323 - mape: 3.1323 - val_loss: 3.3402 - val_mape: 3.3402\n",
      "Epoch 170/200\n",
      "76/76 [==============================] - 0s 3ms/step - loss: 3.1359 - mape: 3.1359 - val_loss: 3.3478 - val_mape: 3.3478\n",
      "Epoch 171/200\n",
      "76/76 [==============================] - 0s 3ms/step - loss: 3.1265 - mape: 3.1265 - val_loss: 3.3447 - val_mape: 3.3447\n",
      "Epoch 172/200\n",
      "76/76 [==============================] - 0s 3ms/step - loss: 3.1213 - mape: 3.1213 - val_loss: 3.3445 - val_mape: 3.3445\n",
      "Epoch 173/200\n",
      "76/76 [==============================] - 0s 3ms/step - loss: 3.1170 - mape: 3.1170 - val_loss: 3.3378 - val_mape: 3.3378\n",
      "Epoch 174/200\n",
      "76/76 [==============================] - 0s 2ms/step - loss: 3.1157 - mape: 3.1157 - val_loss: 3.3377 - val_mape: 3.3377\n",
      "Epoch 175/200\n",
      "76/76 [==============================] - 0s 3ms/step - loss: 3.1188 - mape: 3.1188 - val_loss: 3.3458 - val_mape: 3.3458\n",
      "Epoch 176/200\n",
      "76/76 [==============================] - 0s 3ms/step - loss: 3.1112 - mape: 3.1112 - val_loss: 3.3408 - val_mape: 3.3408\n",
      "Epoch 177/200\n",
      "76/76 [==============================] - 0s 2ms/step - loss: 3.1077 - mape: 3.1077 - val_loss: 3.3321 - val_mape: 3.3321\n",
      "Epoch 178/200\n",
      "76/76 [==============================] - 0s 3ms/step - loss: 3.1036 - mape: 3.1036 - val_loss: 3.3330 - val_mape: 3.3330\n",
      "Epoch 179/200\n",
      "76/76 [==============================] - 0s 3ms/step - loss: 3.1028 - mape: 3.1028 - val_loss: 3.3364 - val_mape: 3.3364\n",
      "Epoch 180/200\n",
      "76/76 [==============================] - 0s 3ms/step - loss: 3.1031 - mape: 3.1031 - val_loss: 3.3316 - val_mape: 3.3316\n",
      "Epoch 181/200\n",
      "76/76 [==============================] - 0s 3ms/step - loss: 3.0985 - mape: 3.0985 - val_loss: 3.3289 - val_mape: 3.3289\n",
      "Epoch 182/200\n",
      "76/76 [==============================] - 0s 3ms/step - loss: 3.0963 - mape: 3.0963 - val_loss: 3.3391 - val_mape: 3.3391\n",
      "Epoch 183/200\n",
      "76/76 [==============================] - 0s 3ms/step - loss: 3.0933 - mape: 3.0933 - val_loss: 3.3368 - val_mape: 3.3368\n",
      "Epoch 184/200\n",
      "76/76 [==============================] - 0s 2ms/step - loss: 3.0975 - mape: 3.0975 - val_loss: 3.3667 - val_mape: 3.3667\n",
      "Epoch 185/200\n",
      "76/76 [==============================] - 0s 3ms/step - loss: 3.0907 - mape: 3.0907 - val_loss: 3.3282 - val_mape: 3.3282\n",
      "Epoch 186/200\n",
      "76/76 [==============================] - 0s 3ms/step - loss: 3.0872 - mape: 3.0872 - val_loss: 3.3723 - val_mape: 3.3723\n",
      "Epoch 187/200\n",
      "76/76 [==============================] - 0s 2ms/step - loss: 3.0874 - mape: 3.0874 - val_loss: 3.3319 - val_mape: 3.3319\n",
      "Epoch 188/200\n",
      "76/76 [==============================] - 0s 3ms/step - loss: 3.0823 - mape: 3.0823 - val_loss: 3.3233 - val_mape: 3.3233\n",
      "Epoch 189/200\n",
      "76/76 [==============================] - 0s 2ms/step - loss: 3.0876 - mape: 3.0876 - val_loss: 3.3338 - val_mape: 3.3338\n",
      "Epoch 190/200\n",
      "76/76 [==============================] - 0s 3ms/step - loss: 3.0785 - mape: 3.0785 - val_loss: 3.3213 - val_mape: 3.3213\n",
      "Epoch 191/200\n",
      "76/76 [==============================] - 0s 3ms/step - loss: 3.0842 - mape: 3.0842 - val_loss: 3.3360 - val_mape: 3.3360\n",
      "Epoch 192/200\n",
      "76/76 [==============================] - 0s 2ms/step - loss: 3.0811 - mape: 3.0811 - val_loss: 3.3284 - val_mape: 3.3284\n",
      "Epoch 193/200\n",
      "76/76 [==============================] - 0s 2ms/step - loss: 3.0792 - mape: 3.0792 - val_loss: 3.3226 - val_mape: 3.3226\n",
      "Epoch 194/200\n",
      "76/76 [==============================] - 0s 3ms/step - loss: 3.0794 - mape: 3.0794 - val_loss: 3.3195 - val_mape: 3.3195\n",
      "Epoch 195/200\n",
      "76/76 [==============================] - 0s 2ms/step - loss: 3.0705 - mape: 3.0705 - val_loss: 3.3275 - val_mape: 3.3275\n",
      "Epoch 196/200\n",
      "76/76 [==============================] - 0s 3ms/step - loss: 3.0724 - mape: 3.0724 - val_loss: 3.3341 - val_mape: 3.3341\n",
      "Epoch 197/200\n",
      "76/76 [==============================] - 0s 2ms/step - loss: 3.0713 - mape: 3.0713 - val_loss: 3.3512 - val_mape: 3.3512\n",
      "Epoch 198/200\n",
      "76/76 [==============================] - 0s 2ms/step - loss: 3.0704 - mape: 3.0704 - val_loss: 3.3325 - val_mape: 3.3325\n",
      "Epoch 199/200\n",
      "76/76 [==============================] - 0s 3ms/step - loss: 3.0701 - mape: 3.0701 - val_loss: 3.3205 - val_mape: 3.3205\n",
      "Epoch 200/200\n",
      "76/76 [==============================] - 0s 3ms/step - loss: 3.0694 - mape: 3.0694 - val_loss: 3.3386 - val_mape: 3.3386\n"
     ]
    }
   ],
   "source": [
    "model = Sequential()\n",
    "model.add(Dense(32,activation='relu',input_dim = 4))\n",
    "model.add(Dense(16,activation='relu'))\n",
    "model.add(Dense(1,activation='linear'))\n",
    "ad=optimizers.Adam(learning_rate = 0.00001304946234500367)\n",
    "model.compile(optimizer = ad, loss = 'mape', metrics = ['mape'])\n",
    "model_history=model.fit(trainX, trainY,validation_data=(testX,testY), batch_size = 37, epochs = 200,callbacks=[EarlyStopping(monitor='val_loss', patience=40)])"
   ]
  },
  {
   "cell_type": "code",
   "execution_count": 77,
   "id": "77c05906",
   "metadata": {
    "id": "77c05906"
   },
   "outputs": [],
   "source": [
    "def model_loss(history):\n",
    "    plt.figure(figsize=(8,4))\n",
    "    plt.plot(history.history['loss'], label='Train Loss')\n",
    "    plt.plot(history.history['val_loss'], label='Test Loss')\n",
    "    plt.title('model loss')\n",
    "    plt.ylabel('loss')\n",
    "    plt.xlabel('epochs')\n",
    "    plt.legend(loc='upper right')\n",
    "    plt.show();"
   ]
  },
  {
   "cell_type": "code",
   "execution_count": 78,
   "id": "6vZ-AXOUurmJ",
   "metadata": {
    "id": "6vZ-AXOUurmJ"
   },
   "outputs": [],
   "source": [
    "train_score = model.evaluate(trainX, trainY,verbose=0)\n",
    "test_score = model.evaluate(testX, testY,verbose=0)"
   ]
  },
  {
   "cell_type": "code",
   "execution_count": 79,
   "id": "45a22c27",
   "metadata": {
    "colab": {
     "base_uri": "https://localhost:8080/",
     "height": 329
    },
    "id": "45a22c27",
    "outputId": "da96c7fa-ed18-4e76-b141-a1bdbadc7c6b"
   },
   "outputs": [
    {
     "name": "stdout",
     "output_type": "stream",
     "text": [
      "Train MAPE : 3.07 \n",
      "Test MAPE : 3.34 \n"
     ]
    },
    {
     "data": {
      "image/png": "[encoded data removed]",
      "text/plain": [
       "<Figure size 576x288 with 1 Axes>"
      ]
     },
     "metadata": {
      "needs_background": "light"
     },
     "output_type": "display_data"
    }
   ],
   "source": [
    "train_predict = model.predict(trainX)\n",
    "test_predict = model.predict(testX)\n",
    "\n",
    "# invert predictions\n",
    "train_predict = scaler.inverse_transform(train_predict)\n",
    "trainY = scaler.inverse_transform([trainY])\n",
    "test_predict = scaler.inverse_transform(test_predict)\n",
    "testY = scaler.inverse_transform([testY])\n",
    "print('Train MAPE : %.2f ' % (train_score[1]))\n",
    "print('Test MAPE : %.2f ' % (test_score[1]))\n",
    "model_loss(model_history)"
   ]
  },
  {
   "cell_type": "code",
   "execution_count": 33,
   "id": "dc942f74",
   "metadata": {
    "id": "dc942f74"
   },
   "outputs": [],
   "source": [
    "import seaborn as sns"
   ]
  },
  {
   "cell_type": "code",
   "execution_count": 80,
   "id": "dee9bab8",
   "metadata": {
    "id": "dee9bab8"
   },
   "outputs": [],
   "source": [
    "def prediction_plot(testY, test_predict,look_back):\n",
    "    len_prediction=[x for x in range(2796,3174)]\n",
    "    plt.plot(trainY.reshape(-1,))\n",
    "    plt.plot(len_prediction, testY.reshape(-1,), marker='.', label='actual')\n",
    "    plt.plot(len_prediction, test_predict, 'g', label=\"prediction\")\n",
    "    plt.tight_layout()\n",
    "    sns.despine(top=True)\n",
    "    plt.subplots_adjust(left=0.07)\n",
    "    plt.ylabel('Units', size=15)\n",
    "    plt.xlabel('Time step', size=15)\n",
    "    plt.legend(fontsize=15)\n",
    "    plt.show()"
   ]
  },
  {
   "cell_type": "code",
   "execution_count": 81,
   "id": "363040b5",
   "metadata": {
    "colab": {
     "base_uri": "https://localhost:8080/",
     "height": 604
    },
    "id": "363040b5",
    "outputId": "b9d50b85-cde5-4216-ae00-961c7124d5dc"
   },
   "outputs": [
    {
     "data": {
      "image/png": "[encoded data removed]",
      "text/plain": [
       "<Figure size 1080x576 with 1 Axes>"
      ]
     },
     "metadata": {
      "needs_background": "light"
     },
     "output_type": "display_data"
    }
   ],
   "source": [
    "test_predict = model.predict(testX)\n",
    "test_predict = scaler.inverse_transform(test_predict)\n",
    "prediction_plot(testY, test_predict,look_back)"
   ]
  },
  {
   "cell_type": "code",
   "execution_count": null,
   "id": "f8a7708c",
   "metadata": {
    "id": "f8a7708c"
   },
   "outputs": [],
   "source": []
  }
 ],
 "metadata": {
  "colab": {
   "collapsed_sections": [],
   "name": "weather_sensor_HPT_ANN_version_2_BEST.ipynb",
   "provenance": []
  },
  "kernelspec": {
   "display_name": "Python 3",
   "language": "python",
   "name": "python3"
  },
  "language_info": {
   "codemirror_mode": {
    "name": "ipython",
    "version": 3
   },
   "file_extension": ".py",
   "mimetype": "text/x-python",
   "name": "python",
   "nbconvert_exporter": "python",
   "pygments_lexer": "ipython3",
   "version": "3.8.8"
  }
 },
 "nbformat": 4,
 "nbformat_minor": 5
}
