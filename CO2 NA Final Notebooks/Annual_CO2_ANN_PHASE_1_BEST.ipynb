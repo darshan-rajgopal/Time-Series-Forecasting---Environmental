{
 "cells": [
  {
   "cell_type": "code",
   "execution_count": 4,
   "id": "c2ef9b47",
   "metadata": {
    "id": "c2ef9b47"
   },
   "outputs": [],
   "source": [
    "import numpy as np\n",
    "import pandas as pd\n",
    "from tensorflow.keras.models import Sequential\n",
    "from tensorflow.keras.layers import LSTM\n",
    "from tensorflow.keras.layers import Dense\n",
    "from tensorflow.keras.layers import Flatten\n",
    "import matplotlib.pyplot as plt\n",
    "import warnings\n",
    "warnings.filterwarnings('ignore')\n",
    "%matplotlib inline"
   ]
  },
  {
   "cell_type": "code",
   "execution_count": 5,
   "id": "iGQk9lcRmucZ",
   "metadata": {
    "colab": {
     "base_uri": "https://localhost:8080/"
    },
    "id": "iGQk9lcRmucZ",
    "outputId": "aa259511-a6de-4a66-b4b2-473a65d8c54a"
   },
   "outputs": [
    {
     "name": "stdout",
     "output_type": "stream",
     "text": [
      "Drive already mounted at /content/drive; to attempt to forcibly remount, call drive.mount(\"/content/drive\", force_remount=True).\n"
     ]
    }
   ],
   "source": [
    "from google.colab import drive\n",
    "drive.mount('/content/drive')"
   ]
  },
  {
   "cell_type": "code",
   "execution_count": null,
   "id": "BxDZtfokj6Da",
   "metadata": {
    "colab": {
     "base_uri": "https://localhost:8080/",
     "height": 35
    },
    "id": "BxDZtfokj6Da",
    "outputId": "b20dcdbd-c02a-48ad-a576-4ba9370acae1"
   },
   "outputs": [
    {
     "data": {
      "application/vnd.google.colaboratory.intrinsic+json": {
       "type": "string"
      },
      "text/plain": [
       "'/device:GPU:0'"
      ]
     },
     "execution_count": 5,
     "metadata": {},
     "output_type": "execute_result"
    }
   ],
   "source": [
    "import tensorflow as tf\n",
    "tf.test.gpu_device_name()"
   ]
  },
  {
   "cell_type": "code",
   "execution_count": null,
   "id": "UDt4KrAxj6JS",
   "metadata": {
    "colab": {
     "base_uri": "https://localhost:8080/"
    },
    "id": "UDt4KrAxj6JS",
    "outputId": "9d528187-3aea-4259-a635-0d1eddbc47d0"
   },
   "outputs": [
    {
     "data": {
      "text/plain": [
       "[name: \"/device:CPU:0\"\n",
       " device_type: \"CPU\"\n",
       " memory_limit: 268435456\n",
       " locality {\n",
       " }\n",
       " incarnation: 14494480343520806349\n",
       " xla_global_id: -1, name: \"/device:GPU:0\"\n",
       " device_type: \"GPU\"\n",
       " memory_limit: 11320098816\n",
       " locality {\n",
       "   bus_id: 1\n",
       "   links {\n",
       "   }\n",
       " }\n",
       " incarnation: 1229225032833911937\n",
       " physical_device_desc: \"device: 0, name: Tesla K80, pci bus id: 0000:00:04.0, compute capability: 3.7\"\n",
       " xla_global_id: 416903419]"
      ]
     },
     "execution_count": 6,
     "metadata": {},
     "output_type": "execute_result"
    }
   ],
   "source": [
    "from tensorflow.python.client import device_lib\n",
    "device_lib.list_local_devices()"
   ]
  },
  {
   "cell_type": "code",
   "execution_count": 66,
   "id": "30d066a0",
   "metadata": {
    "colab": {
     "base_uri": "https://localhost:8080/",
     "height": 206
    },
    "id": "30d066a0",
    "outputId": "32ac1958-7925-4e03-a976-6b948a778751"
   },
   "outputs": [
    {
     "data": {
      "text/html": [
       "\n",
       "  <div id=\"df-2adf4399-2249-48d7-aaf4-17017924bf29\">\n",
       "    <div class=\"colab-df-container\">\n",
       "      <div>\n",
       "<style scoped>\n",
       "    .dataframe tbody tr th:only-of-type {\n",
       "        vertical-align: middle;\n",
       "    }\n",
       "\n",
       "    .dataframe tbody tr th {\n",
       "        vertical-align: top;\n",
       "    }\n",
       "\n",
       "    .dataframe thead th {\n",
       "        text-align: right;\n",
       "    }\n",
       "</style>\n",
       "<table border=\"1\" class=\"dataframe\">\n",
       "  <thead>\n",
       "    <tr style=\"text-align: right;\">\n",
       "      <th></th>\n",
       "      <th>North-America Annual CO2 emissions</th>\n",
       "      <th>million metric tonnes carbon dioxide</th>\n",
       "    </tr>\n",
       "  </thead>\n",
       "  <tbody>\n",
       "    <tr>\n",
       "      <th>0</th>\n",
       "      <td>1949</td>\n",
       "      <td>2206.690829</td>\n",
       "    </tr>\n",
       "    <tr>\n",
       "      <th>1</th>\n",
       "      <td>1950</td>\n",
       "      <td>2382.046176</td>\n",
       "    </tr>\n",
       "    <tr>\n",
       "      <th>2</th>\n",
       "      <td>1951</td>\n",
       "      <td>2526.687327</td>\n",
       "    </tr>\n",
       "    <tr>\n",
       "      <th>3</th>\n",
       "      <td>1952</td>\n",
       "      <td>2473.373964</td>\n",
       "    </tr>\n",
       "    <tr>\n",
       "      <th>4</th>\n",
       "      <td>1953</td>\n",
       "      <td>2536.892888</td>\n",
       "    </tr>\n",
       "  </tbody>\n",
       "</table>\n",
       "</div>\n",
       "      <button class=\"colab-df-convert\" onclick=\"convertToInteractive('df-2adf4399-2249-48d7-aaf4-17017924bf29')\"\n",
       "              title=\"Convert this dataframe to an interactive table.\"\n",
       "              style=\"display:none;\">\n",
       "        \n",
       "  <svg xmlns=\"http://www.w3.org/2000/svg\" height=\"24px\"viewBox=\"0 0 24 24\"\n",
       "       width=\"24px\">\n",
       "    <path d=\"M0 0h24v24H0V0z\" fill=\"none\"/>\n",
       "    <path d=\"M18.56 5.44l.94 2.06.94-2.06 2.06-.94-2.06-.94-.94-2.06-.94 2.06-2.06.94zm-11 1L8.5 8.5l.94-2.06 2.06-.94-2.06-.94L8.5 2.5l-.94 2.06-2.06.94zm10 10l.94 2.06.94-2.06 2.06-.94-2.06-.94-.94-2.06-.94 2.06-2.06.94z\"/><path d=\"M17.41 7.96l-1.37-1.37c-.4-.4-.92-.59-1.43-.59-.52 0-1.04.2-1.43.59L10.3 9.45l-7.72 7.72c-.78.78-.78 2.05 0 2.83L4 21.41c.39.39.9.59 1.41.59.51 0 1.02-.2 1.41-.59l7.78-7.78 2.81-2.81c.8-.78.8-2.07 0-2.86zM5.41 20L4 18.59l7.72-7.72 1.47 1.35L5.41 20z\"/>\n",
       "  </svg>\n",
       "      </button>\n",
       "      \n",
       "  <style>\n",
       "    .colab-df-container {\n",
       "      display:flex;\n",
       "      flex-wrap:wrap;\n",
       "      gap: 12px;\n",
       "    }\n",
       "\n",
       "    .colab-df-convert {\n",
       "      background-color: #E8F0FE;\n",
       "      border: none;\n",
       "      border-radius: 50%;\n",
       "      cursor: pointer;\n",
       "      display: none;\n",
       "      fill: #1967D2;\n",
       "      height: 32px;\n",
       "      padding: 0 0 0 0;\n",
       "      width: 32px;\n",
       "    }\n",
       "\n",
       "    .colab-df-convert:hover {\n",
       "      background-color: #E2EBFA;\n",
       "      box-shadow: 0px 1px 2px rgba(60, 64, 67, 0.3), 0px 1px 3px 1px rgba(60, 64, 67, 0.15);\n",
       "      fill: #174EA6;\n",
       "    }\n",
       "\n",
       "    [theme=dark] .colab-df-convert {\n",
       "      background-color: #3B4455;\n",
       "      fill: #D2E3FC;\n",
       "    }\n",
       "\n",
       "    [theme=dark] .colab-df-convert:hover {\n",
       "      background-color: #434B5C;\n",
       "      box-shadow: 0px 1px 3px 1px rgba(0, 0, 0, 0.15);\n",
       "      filter: drop-shadow(0px 1px 2px rgba(0, 0, 0, 0.3));\n",
       "      fill: #FFFFFF;\n",
       "    }\n",
       "  </style>\n",
       "\n",
       "      <script>\n",
       "        const buttonEl =\n",
       "          document.querySelector('#df-2adf4399-2249-48d7-aaf4-17017924bf29 button.colab-df-convert');\n",
       "        buttonEl.style.display =\n",
       "          google.colab.kernel.accessAllowed ? 'block' : 'none';\n",
       "\n",
       "        async function convertToInteractive(key) {\n",
       "          const element = document.querySelector('#df-2adf4399-2249-48d7-aaf4-17017924bf29');\n",
       "          const dataTable =\n",
       "            await google.colab.kernel.invokeFunction('convertToInteractive',\n",
       "                                                     [key], {});\n",
       "          if (!dataTable) return;\n",
       "\n",
       "          const docLinkHtml = 'Like what you see? Visit the ' +\n",
       "            '<a target=\"_blank\" href=https://colab.research.google.com/notebooks/data_table.ipynb>data table notebook</a>'\n",
       "            + ' to learn more about interactive tables.';\n",
       "          element.innerHTML = '';\n",
       "          dataTable['output_type'] = 'display_data';\n",
       "          await google.colab.output.renderOutput(dataTable, element);\n",
       "          const docLink = document.createElement('div');\n",
       "          docLink.innerHTML = docLinkHtml;\n",
       "          element.appendChild(docLink);\n",
       "        }\n",
       "      </script>\n",
       "    </div>\n",
       "  </div>\n",
       "  "
      ],
      "text/plain": [
       "   North-America Annual CO2 emissions   million metric tonnes carbon dioxide\n",
       "0                                1949                            2206.690829\n",
       "1                                1950                            2382.046176\n",
       "2                                1951                            2526.687327\n",
       "3                                1952                            2473.373964\n",
       "4                                1953                            2536.892888"
      ]
     },
     "execution_count": 66,
     "metadata": {},
     "output_type": "execute_result"
    }
   ],
   "source": [
    "df = pd.read_csv('/content/drive/MyDrive/Colab Notebooks/Environmental/CO2 emissions - North America.csv')\n",
    "df.head()"
   ]
  },
  {
   "cell_type": "code",
   "execution_count": 45,
   "id": "e2663bb4",
   "metadata": {
    "colab": {
     "base_uri": "https://localhost:8080/",
     "height": 206
    },
    "id": "e2663bb4",
    "outputId": "d6406509-6154-40eb-88a7-bbc7dc6fa749"
   },
   "outputs": [
    {
     "data": {
      "text/html": [
       "\n",
       "  <div id=\"df-3e5e6751-2940-46d1-870a-36dc061ca22d\">\n",
       "    <div class=\"colab-df-container\">\n",
       "      <div>\n",
       "<style scoped>\n",
       "    .dataframe tbody tr th:only-of-type {\n",
       "        vertical-align: middle;\n",
       "    }\n",
       "\n",
       "    .dataframe tbody tr th {\n",
       "        vertical-align: top;\n",
       "    }\n",
       "\n",
       "    .dataframe thead th {\n",
       "        text-align: right;\n",
       "    }\n",
       "</style>\n",
       "<table border=\"1\" class=\"dataframe\">\n",
       "  <thead>\n",
       "    <tr style=\"text-align: right;\">\n",
       "      <th></th>\n",
       "      <th>North-America Annual CO2 emissions</th>\n",
       "      <th>million metric tonnes carbon dioxide</th>\n",
       "    </tr>\n",
       "  </thead>\n",
       "  <tbody>\n",
       "    <tr>\n",
       "      <th>65</th>\n",
       "      <td>2014</td>\n",
       "      <td>6468.127089</td>\n",
       "    </tr>\n",
       "    <tr>\n",
       "      <th>66</th>\n",
       "      <td>2015</td>\n",
       "      <td>6336.860299</td>\n",
       "    </tr>\n",
       "    <tr>\n",
       "      <th>67</th>\n",
       "      <td>2016</td>\n",
       "      <td>6241.322193</td>\n",
       "    </tr>\n",
       "    <tr>\n",
       "      <th>68</th>\n",
       "      <td>2017</td>\n",
       "      <td>6215.118995</td>\n",
       "    </tr>\n",
       "    <tr>\n",
       "      <th>69</th>\n",
       "      <td>2018</td>\n",
       "      <td>6381.236073</td>\n",
       "    </tr>\n",
       "  </tbody>\n",
       "</table>\n",
       "</div>\n",
       "      <button class=\"colab-df-convert\" onclick=\"convertToInteractive('df-3e5e6751-2940-46d1-870a-36dc061ca22d')\"\n",
       "              title=\"Convert this dataframe to an interactive table.\"\n",
       "              style=\"display:none;\">\n",
       "        \n",
       "  <svg xmlns=\"http://www.w3.org/2000/svg\" height=\"24px\"viewBox=\"0 0 24 24\"\n",
       "       width=\"24px\">\n",
       "    <path d=\"M0 0h24v24H0V0z\" fill=\"none\"/>\n",
       "    <path d=\"M18.56 5.44l.94 2.06.94-2.06 2.06-.94-2.06-.94-.94-2.06-.94 2.06-2.06.94zm-11 1L8.5 8.5l.94-2.06 2.06-.94-2.06-.94L8.5 2.5l-.94 2.06-2.06.94zm10 10l.94 2.06.94-2.06 2.06-.94-2.06-.94-.94-2.06-.94 2.06-2.06.94z\"/><path d=\"M17.41 7.96l-1.37-1.37c-.4-.4-.92-.59-1.43-.59-.52 0-1.04.2-1.43.59L10.3 9.45l-7.72 7.72c-.78.78-.78 2.05 0 2.83L4 21.41c.39.39.9.59 1.41.59.51 0 1.02-.2 1.41-.59l7.78-7.78 2.81-2.81c.8-.78.8-2.07 0-2.86zM5.41 20L4 18.59l7.72-7.72 1.47 1.35L5.41 20z\"/>\n",
       "  </svg>\n",
       "      </button>\n",
       "      \n",
       "  <style>\n",
       "    .colab-df-container {\n",
       "      display:flex;\n",
       "      flex-wrap:wrap;\n",
       "      gap: 12px;\n",
       "    }\n",
       "\n",
       "    .colab-df-convert {\n",
       "      background-color: #E8F0FE;\n",
       "      border: none;\n",
       "      border-radius: 50%;\n",
       "      cursor: pointer;\n",
       "      display: none;\n",
       "      fill: #1967D2;\n",
       "      height: 32px;\n",
       "      padding: 0 0 0 0;\n",
       "      width: 32px;\n",
       "    }\n",
       "\n",
       "    .colab-df-convert:hover {\n",
       "      background-color: #E2EBFA;\n",
       "      box-shadow: 0px 1px 2px rgba(60, 64, 67, 0.3), 0px 1px 3px 1px rgba(60, 64, 67, 0.15);\n",
       "      fill: #174EA6;\n",
       "    }\n",
       "\n",
       "    [theme=dark] .colab-df-convert {\n",
       "      background-color: #3B4455;\n",
       "      fill: #D2E3FC;\n",
       "    }\n",
       "\n",
       "    [theme=dark] .colab-df-convert:hover {\n",
       "      background-color: #434B5C;\n",
       "      box-shadow: 0px 1px 3px 1px rgba(0, 0, 0, 0.15);\n",
       "      filter: drop-shadow(0px 1px 2px rgba(0, 0, 0, 0.3));\n",
       "      fill: #FFFFFF;\n",
       "    }\n",
       "  </style>\n",
       "\n",
       "      <script>\n",
       "        const buttonEl =\n",
       "          document.querySelector('#df-3e5e6751-2940-46d1-870a-36dc061ca22d button.colab-df-convert');\n",
       "        buttonEl.style.display =\n",
       "          google.colab.kernel.accessAllowed ? 'block' : 'none';\n",
       "\n",
       "        async function convertToInteractive(key) {\n",
       "          const element = document.querySelector('#df-3e5e6751-2940-46d1-870a-36dc061ca22d');\n",
       "          const dataTable =\n",
       "            await google.colab.kernel.invokeFunction('convertToInteractive',\n",
       "                                                     [key], {});\n",
       "          if (!dataTable) return;\n",
       "\n",
       "          const docLinkHtml = 'Like what you see? Visit the ' +\n",
       "            '<a target=\"_blank\" href=https://colab.research.google.com/notebooks/data_table.ipynb>data table notebook</a>'\n",
       "            + ' to learn more about interactive tables.';\n",
       "          element.innerHTML = '';\n",
       "          dataTable['output_type'] = 'display_data';\n",
       "          await google.colab.output.renderOutput(dataTable, element);\n",
       "          const docLink = document.createElement('div');\n",
       "          docLink.innerHTML = docLinkHtml;\n",
       "          element.appendChild(docLink);\n",
       "        }\n",
       "      </script>\n",
       "    </div>\n",
       "  </div>\n",
       "  "
      ],
      "text/plain": [
       "    North-America Annual CO2 emissions   million metric tonnes carbon dioxide\n",
       "65                                2014                            6468.127089\n",
       "66                                2015                            6336.860299\n",
       "67                                2016                            6241.322193\n",
       "68                                2017                            6215.118995\n",
       "69                                2018                            6381.236073"
      ]
     },
     "execution_count": 45,
     "metadata": {},
     "output_type": "execute_result"
    }
   ],
   "source": [
    "df.tail()"
   ]
  },
  {
   "cell_type": "code",
   "execution_count": 46,
   "id": "0482272d",
   "metadata": {
    "colab": {
     "base_uri": "https://localhost:8080/"
    },
    "id": "0482272d",
    "outputId": "c01348f7-7981-4cb0-cace-34811cc221e3"
   },
   "outputs": [
    {
     "data": {
      "text/plain": [
       "(70, 2)"
      ]
     },
     "execution_count": 46,
     "metadata": {},
     "output_type": "execute_result"
    }
   ],
   "source": [
    "df.shape"
   ]
  },
  {
   "cell_type": "code",
   "execution_count": 47,
   "id": "076f1ad3",
   "metadata": {
    "colab": {
     "base_uri": "https://localhost:8080/"
    },
    "id": "076f1ad3",
    "outputId": "10b3dd81-a39e-400d-9de6-4f0b9d418fd3"
   },
   "outputs": [
    {
     "name": "stdout",
     "output_type": "stream",
     "text": [
      "<class 'pandas.core.frame.DataFrame'>\n",
      "RangeIndex: 70 entries, 0 to 69\n",
      "Data columns (total 2 columns):\n",
      " #   Column                                 Non-Null Count  Dtype  \n",
      "---  ------                                 --------------  -----  \n",
      " 0   North-America Annual CO2 emissions     70 non-null     int64  \n",
      " 1    million metric tonnes carbon dioxide  70 non-null     float64\n",
      "dtypes: float64(1), int64(1)\n",
      "memory usage: 1.2 KB\n"
     ]
    }
   ],
   "source": [
    "df.info()"
   ]
  },
  {
   "cell_type": "code",
   "execution_count": 48,
   "id": "IKYuy6u9oVZN",
   "metadata": {
    "colab": {
     "base_uri": "https://localhost:8080/"
    },
    "id": "IKYuy6u9oVZN",
    "outputId": "37de0f70-e38c-44ca-8b62-9b1df7afddcb"
   },
   "outputs": [
    {
     "data": {
      "text/plain": [
       "North-America Annual CO2 emissions       0\n",
       " million metric tonnes carbon dioxide    0\n",
       "dtype: int64"
      ]
     },
     "execution_count": 48,
     "metadata": {},
     "output_type": "execute_result"
    }
   ],
   "source": [
    "df.isnull().sum()"
   ]
  },
  {
   "cell_type": "code",
   "execution_count": 67,
   "id": "93827e39",
   "metadata": {
    "id": "93827e39"
   },
   "outputs": [],
   "source": [
    "time = pd.date_range(start='1/1/1949',periods=70,freq='Y')\n",
    "df['time_stamp'] = pd.DataFrame(time)\n",
    "df.drop(['North-America Annual CO2 emissions'],axis=1,inplace=True)\n",
    "df = df.set_index('time_stamp')"
   ]
  },
  {
   "cell_type": "code",
   "execution_count": 68,
   "id": "S0kNKRMAocKq",
   "metadata": {
    "id": "S0kNKRMAocKq"
   },
   "outputs": [],
   "source": [
    "df.columns=['million_tonnes']"
   ]
  },
  {
   "cell_type": "code",
   "execution_count": 14,
   "id": "522f2b8e",
   "metadata": {
    "colab": {
     "base_uri": "https://localhost:8080/",
     "height": 238
    },
    "id": "522f2b8e",
    "outputId": "09c2ed8a-d1a4-4b5c-8b8a-bf73c385d122"
   },
   "outputs": [
    {
     "data": {
      "text/html": [
       "\n",
       "  <div id=\"df-14261f9b-5ecf-404e-92ce-3605a44747e8\">\n",
       "    <div class=\"colab-df-container\">\n",
       "      <div>\n",
       "<style scoped>\n",
       "    .dataframe tbody tr th:only-of-type {\n",
       "        vertical-align: middle;\n",
       "    }\n",
       "\n",
       "    .dataframe tbody tr th {\n",
       "        vertical-align: top;\n",
       "    }\n",
       "\n",
       "    .dataframe thead th {\n",
       "        text-align: right;\n",
       "    }\n",
       "</style>\n",
       "<table border=\"1\" class=\"dataframe\">\n",
       "  <thead>\n",
       "    <tr style=\"text-align: right;\">\n",
       "      <th></th>\n",
       "      <th>million_tonnes</th>\n",
       "    </tr>\n",
       "    <tr>\n",
       "      <th>time_stamp</th>\n",
       "      <th></th>\n",
       "    </tr>\n",
       "  </thead>\n",
       "  <tbody>\n",
       "    <tr>\n",
       "      <th>1949-12-31</th>\n",
       "      <td>2206.690829</td>\n",
       "    </tr>\n",
       "    <tr>\n",
       "      <th>1950-12-31</th>\n",
       "      <td>2382.046176</td>\n",
       "    </tr>\n",
       "    <tr>\n",
       "      <th>1951-12-31</th>\n",
       "      <td>2526.687327</td>\n",
       "    </tr>\n",
       "    <tr>\n",
       "      <th>1952-12-31</th>\n",
       "      <td>2473.373964</td>\n",
       "    </tr>\n",
       "    <tr>\n",
       "      <th>1953-12-31</th>\n",
       "      <td>2536.892888</td>\n",
       "    </tr>\n",
       "  </tbody>\n",
       "</table>\n",
       "</div>\n",
       "      <button class=\"colab-df-convert\" onclick=\"convertToInteractive('df-14261f9b-5ecf-404e-92ce-3605a44747e8')\"\n",
       "              title=\"Convert this dataframe to an interactive table.\"\n",
       "              style=\"display:none;\">\n",
       "        \n",
       "  <svg xmlns=\"http://www.w3.org/2000/svg\" height=\"24px\"viewBox=\"0 0 24 24\"\n",
       "       width=\"24px\">\n",
       "    <path d=\"M0 0h24v24H0V0z\" fill=\"none\"/>\n",
       "    <path d=\"M18.56 5.44l.94 2.06.94-2.06 2.06-.94-2.06-.94-.94-2.06-.94 2.06-2.06.94zm-11 1L8.5 8.5l.94-2.06 2.06-.94-2.06-.94L8.5 2.5l-.94 2.06-2.06.94zm10 10l.94 2.06.94-2.06 2.06-.94-2.06-.94-.94-2.06-.94 2.06-2.06.94z\"/><path d=\"M17.41 7.96l-1.37-1.37c-.4-.4-.92-.59-1.43-.59-.52 0-1.04.2-1.43.59L10.3 9.45l-7.72 7.72c-.78.78-.78 2.05 0 2.83L4 21.41c.39.39.9.59 1.41.59.51 0 1.02-.2 1.41-.59l7.78-7.78 2.81-2.81c.8-.78.8-2.07 0-2.86zM5.41 20L4 18.59l7.72-7.72 1.47 1.35L5.41 20z\"/>\n",
       "  </svg>\n",
       "      </button>\n",
       "      \n",
       "  <style>\n",
       "    .colab-df-container {\n",
       "      display:flex;\n",
       "      flex-wrap:wrap;\n",
       "      gap: 12px;\n",
       "    }\n",
       "\n",
       "    .colab-df-convert {\n",
       "      background-color: #E8F0FE;\n",
       "      border: none;\n",
       "      border-radius: 50%;\n",
       "      cursor: pointer;\n",
       "      display: none;\n",
       "      fill: #1967D2;\n",
       "      height: 32px;\n",
       "      padding: 0 0 0 0;\n",
       "      width: 32px;\n",
       "    }\n",
       "\n",
       "    .colab-df-convert:hover {\n",
       "      background-color: #E2EBFA;\n",
       "      box-shadow: 0px 1px 2px rgba(60, 64, 67, 0.3), 0px 1px 3px 1px rgba(60, 64, 67, 0.15);\n",
       "      fill: #174EA6;\n",
       "    }\n",
       "\n",
       "    [theme=dark] .colab-df-convert {\n",
       "      background-color: #3B4455;\n",
       "      fill: #D2E3FC;\n",
       "    }\n",
       "\n",
       "    [theme=dark] .colab-df-convert:hover {\n",
       "      background-color: #434B5C;\n",
       "      box-shadow: 0px 1px 3px 1px rgba(0, 0, 0, 0.15);\n",
       "      filter: drop-shadow(0px 1px 2px rgba(0, 0, 0, 0.3));\n",
       "      fill: #FFFFFF;\n",
       "    }\n",
       "  </style>\n",
       "\n",
       "      <script>\n",
       "        const buttonEl =\n",
       "          document.querySelector('#df-14261f9b-5ecf-404e-92ce-3605a44747e8 button.colab-df-convert');\n",
       "        buttonEl.style.display =\n",
       "          google.colab.kernel.accessAllowed ? 'block' : 'none';\n",
       "\n",
       "        async function convertToInteractive(key) {\n",
       "          const element = document.querySelector('#df-14261f9b-5ecf-404e-92ce-3605a44747e8');\n",
       "          const dataTable =\n",
       "            await google.colab.kernel.invokeFunction('convertToInteractive',\n",
       "                                                     [key], {});\n",
       "          if (!dataTable) return;\n",
       "\n",
       "          const docLinkHtml = 'Like what you see? Visit the ' +\n",
       "            '<a target=\"_blank\" href=https://colab.research.google.com/notebooks/data_table.ipynb>data table notebook</a>'\n",
       "            + ' to learn more about interactive tables.';\n",
       "          element.innerHTML = '';\n",
       "          dataTable['output_type'] = 'display_data';\n",
       "          await google.colab.output.renderOutput(dataTable, element);\n",
       "          const docLink = document.createElement('div');\n",
       "          docLink.innerHTML = docLinkHtml;\n",
       "          element.appendChild(docLink);\n",
       "        }\n",
       "      </script>\n",
       "    </div>\n",
       "  </div>\n",
       "  "
      ],
      "text/plain": [
       "            million_tonnes\n",
       "time_stamp                \n",
       "1949-12-31     2206.690829\n",
       "1950-12-31     2382.046176\n",
       "1951-12-31     2526.687327\n",
       "1952-12-31     2473.373964\n",
       "1953-12-31     2536.892888"
      ]
     },
     "execution_count": 14,
     "metadata": {},
     "output_type": "execute_result"
    }
   ],
   "source": [
    "df.head()"
   ]
  },
  {
   "cell_type": "code",
   "execution_count": 15,
   "id": "7N0Xc0zT5atx",
   "metadata": {
    "colab": {
     "base_uri": "https://localhost:8080/",
     "height": 238
    },
    "id": "7N0Xc0zT5atx",
    "outputId": "d166ae67-7ba1-4adf-8e16-dcd2eeb777fa"
   },
   "outputs": [
    {
     "data": {
      "text/html": [
       "\n",
       "  <div id=\"df-b4c8a1e9-b922-458a-a844-7a8e87d38a56\">\n",
       "    <div class=\"colab-df-container\">\n",
       "      <div>\n",
       "<style scoped>\n",
       "    .dataframe tbody tr th:only-of-type {\n",
       "        vertical-align: middle;\n",
       "    }\n",
       "\n",
       "    .dataframe tbody tr th {\n",
       "        vertical-align: top;\n",
       "    }\n",
       "\n",
       "    .dataframe thead th {\n",
       "        text-align: right;\n",
       "    }\n",
       "</style>\n",
       "<table border=\"1\" class=\"dataframe\">\n",
       "  <thead>\n",
       "    <tr style=\"text-align: right;\">\n",
       "      <th></th>\n",
       "      <th>million_tonnes</th>\n",
       "    </tr>\n",
       "    <tr>\n",
       "      <th>time_stamp</th>\n",
       "      <th></th>\n",
       "    </tr>\n",
       "  </thead>\n",
       "  <tbody>\n",
       "    <tr>\n",
       "      <th>2014-12-31</th>\n",
       "      <td>6468.127089</td>\n",
       "    </tr>\n",
       "    <tr>\n",
       "      <th>2015-12-31</th>\n",
       "      <td>6336.860299</td>\n",
       "    </tr>\n",
       "    <tr>\n",
       "      <th>2016-12-31</th>\n",
       "      <td>6241.322193</td>\n",
       "    </tr>\n",
       "    <tr>\n",
       "      <th>2017-12-31</th>\n",
       "      <td>6215.118995</td>\n",
       "    </tr>\n",
       "    <tr>\n",
       "      <th>2018-12-31</th>\n",
       "      <td>6381.236073</td>\n",
       "    </tr>\n",
       "  </tbody>\n",
       "</table>\n",
       "</div>\n",
       "      <button class=\"colab-df-convert\" onclick=\"convertToInteractive('df-b4c8a1e9-b922-458a-a844-7a8e87d38a56')\"\n",
       "              title=\"Convert this dataframe to an interactive table.\"\n",
       "              style=\"display:none;\">\n",
       "        \n",
       "  <svg xmlns=\"http://www.w3.org/2000/svg\" height=\"24px\"viewBox=\"0 0 24 24\"\n",
       "       width=\"24px\">\n",
       "    <path d=\"M0 0h24v24H0V0z\" fill=\"none\"/>\n",
       "    <path d=\"M18.56 5.44l.94 2.06.94-2.06 2.06-.94-2.06-.94-.94-2.06-.94 2.06-2.06.94zm-11 1L8.5 8.5l.94-2.06 2.06-.94-2.06-.94L8.5 2.5l-.94 2.06-2.06.94zm10 10l.94 2.06.94-2.06 2.06-.94-2.06-.94-.94-2.06-.94 2.06-2.06.94z\"/><path d=\"M17.41 7.96l-1.37-1.37c-.4-.4-.92-.59-1.43-.59-.52 0-1.04.2-1.43.59L10.3 9.45l-7.72 7.72c-.78.78-.78 2.05 0 2.83L4 21.41c.39.39.9.59 1.41.59.51 0 1.02-.2 1.41-.59l7.78-7.78 2.81-2.81c.8-.78.8-2.07 0-2.86zM5.41 20L4 18.59l7.72-7.72 1.47 1.35L5.41 20z\"/>\n",
       "  </svg>\n",
       "      </button>\n",
       "      \n",
       "  <style>\n",
       "    .colab-df-container {\n",
       "      display:flex;\n",
       "      flex-wrap:wrap;\n",
       "      gap: 12px;\n",
       "    }\n",
       "\n",
       "    .colab-df-convert {\n",
       "      background-color: #E8F0FE;\n",
       "      border: none;\n",
       "      border-radius: 50%;\n",
       "      cursor: pointer;\n",
       "      display: none;\n",
       "      fill: #1967D2;\n",
       "      height: 32px;\n",
       "      padding: 0 0 0 0;\n",
       "      width: 32px;\n",
       "    }\n",
       "\n",
       "    .colab-df-convert:hover {\n",
       "      background-color: #E2EBFA;\n",
       "      box-shadow: 0px 1px 2px rgba(60, 64, 67, 0.3), 0px 1px 3px 1px rgba(60, 64, 67, 0.15);\n",
       "      fill: #174EA6;\n",
       "    }\n",
       "\n",
       "    [theme=dark] .colab-df-convert {\n",
       "      background-color: #3B4455;\n",
       "      fill: #D2E3FC;\n",
       "    }\n",
       "\n",
       "    [theme=dark] .colab-df-convert:hover {\n",
       "      background-color: #434B5C;\n",
       "      box-shadow: 0px 1px 3px 1px rgba(0, 0, 0, 0.15);\n",
       "      filter: drop-shadow(0px 1px 2px rgba(0, 0, 0, 0.3));\n",
       "      fill: #FFFFFF;\n",
       "    }\n",
       "  </style>\n",
       "\n",
       "      <script>\n",
       "        const buttonEl =\n",
       "          document.querySelector('#df-b4c8a1e9-b922-458a-a844-7a8e87d38a56 button.colab-df-convert');\n",
       "        buttonEl.style.display =\n",
       "          google.colab.kernel.accessAllowed ? 'block' : 'none';\n",
       "\n",
       "        async function convertToInteractive(key) {\n",
       "          const element = document.querySelector('#df-b4c8a1e9-b922-458a-a844-7a8e87d38a56');\n",
       "          const dataTable =\n",
       "            await google.colab.kernel.invokeFunction('convertToInteractive',\n",
       "                                                     [key], {});\n",
       "          if (!dataTable) return;\n",
       "\n",
       "          const docLinkHtml = 'Like what you see? Visit the ' +\n",
       "            '<a target=\"_blank\" href=https://colab.research.google.com/notebooks/data_table.ipynb>data table notebook</a>'\n",
       "            + ' to learn more about interactive tables.';\n",
       "          element.innerHTML = '';\n",
       "          dataTable['output_type'] = 'display_data';\n",
       "          await google.colab.output.renderOutput(dataTable, element);\n",
       "          const docLink = document.createElement('div');\n",
       "          docLink.innerHTML = docLinkHtml;\n",
       "          element.appendChild(docLink);\n",
       "        }\n",
       "      </script>\n",
       "    </div>\n",
       "  </div>\n",
       "  "
      ],
      "text/plain": [
       "            million_tonnes\n",
       "time_stamp                \n",
       "2014-12-31     6468.127089\n",
       "2015-12-31     6336.860299\n",
       "2016-12-31     6241.322193\n",
       "2017-12-31     6215.118995\n",
       "2018-12-31     6381.236073"
      ]
     },
     "execution_count": 15,
     "metadata": {},
     "output_type": "execute_result"
    }
   ],
   "source": [
    "df.tail()"
   ]
  },
  {
   "cell_type": "code",
   "execution_count": 69,
   "id": "bQk15MFgouDq",
   "metadata": {
    "id": "bQk15MFgouDq"
   },
   "outputs": [],
   "source": [
    "plt.rcParams['figure.figsize'] = [15,8]"
   ]
  },
  {
   "cell_type": "code",
   "execution_count": 52,
   "id": "3b098ae2",
   "metadata": {
    "colab": {
     "base_uri": "https://localhost:8080/",
     "height": 523
    },
    "id": "3b098ae2",
    "outputId": "38abe0ae-4e8a-4c57-f0d0-5c93bf81a2c9"
   },
   "outputs": [
    {
     "data": {
      "image/png": "[encoded data removed]",
      "text/plain": [
       "<Figure size 1080x576 with 1 Axes>"
      ]
     },
     "metadata": {
      "needs_background": "light"
     },
     "output_type": "display_data"
    }
   ],
   "source": [
    "plt.plot(df,color='green')\n",
    "plt.title('Annual C02 Emissions In North America',fontsize=20)\n",
    "plt.xlabel('Date',fontsize=15)\n",
    "plt.ylabel('Millions of tons',fontsize=15)\n",
    "plt.show()"
   ]
  },
  {
   "cell_type": "code",
   "execution_count": 70,
   "id": "bf59d3e0",
   "metadata": {
    "id": "bf59d3e0"
   },
   "outputs": [],
   "source": [
    "def convert2matrix(data_arr, look_back):\n",
    "    X, Y =[], []\n",
    "    for i in range(len(data_arr)-look_back):\n",
    "        d=i+look_back  \n",
    "        X.append(data_arr[i:d,0])\n",
    "        Y.append(data_arr[d,0])\n",
    "    return np.array(X), np.array(Y)"
   ]
  },
  {
   "cell_type": "code",
   "execution_count": 71,
   "id": "5CBL1GHqurmE",
   "metadata": {
    "id": "5CBL1GHqurmE"
   },
   "outputs": [],
   "source": [
    "from sklearn.preprocessing import MinMaxScaler\n",
    "#create numpy.ndarray \n",
    "df['million_tonnes'] = df['million_tonnes'].astype(np.float32)\n",
    "df_arr = df.values\n",
    "df_arr = np.reshape(df_arr, (-1, 1))\n",
    "scaler = MinMaxScaler(feature_range=(0.1, 1))\n",
    "df_arr = scaler.fit_transform(df_arr)"
   ]
  },
  {
   "cell_type": "code",
   "execution_count": 72,
   "id": "1cea6c5f",
   "metadata": {
    "id": "1cea6c5f"
   },
   "outputs": [],
   "source": [
    "#Split data set into testing dataset and train dataset\n",
    "train_size = 60\n",
    "train, test =df_arr[0:train_size,:], df_arr[train_size:len(df_arr),:]\n",
    "# setup look_back window \n",
    "look_back = 2\n",
    "#convert dataset into right shape in order to input into the DNN\n",
    "trainX, trainY = convert2matrix(train, look_back)\n",
    "testX, testY = convert2matrix(test, look_back)"
   ]
  },
  {
   "cell_type": "code",
   "execution_count": 56,
   "id": "c7d46c39",
   "metadata": {
    "colab": {
     "base_uri": "https://localhost:8080/"
    },
    "id": "c7d46c39",
    "outputId": "5a08438e-34ac-4582-ea73-42ead935623e"
   },
   "outputs": [
    {
     "name": "stdout",
     "output_type": "stream",
     "text": [
      "(58, 2)\n",
      "(58,)\n",
      "(8, 2)\n",
      "(8,)\n"
     ]
    }
   ],
   "source": [
    "print(trainX.shape)\n",
    "print(trainY.shape)\n",
    "print(testX.shape)\n",
    "print(testY.shape)"
   ]
  },
  {
   "cell_type": "code",
   "execution_count": 24,
   "id": "GIc1nRcCuP3G",
   "metadata": {
    "colab": {
     "base_uri": "https://localhost:8080/"
    },
    "id": "GIc1nRcCuP3G",
    "outputId": "ccd69eb4-2dc6-4647-9488-3a4bc5e4bae5"
   },
   "outputs": [
    {
     "name": "stdout",
     "output_type": "stream",
     "text": [
      "\u001b[?25l\r",
      "\u001b[K     |███▍                            | 10 kB 23.8 MB/s eta 0:00:01\r",
      "\u001b[K     |██████▊                         | 20 kB 28.1 MB/s eta 0:00:01\r",
      "\u001b[K     |██████████                      | 30 kB 31.5 MB/s eta 0:00:01\r",
      "\u001b[K     |█████████████▍                  | 40 kB 34.7 MB/s eta 0:00:01\r",
      "\u001b[K     |████████████████▊               | 51 kB 36.8 MB/s eta 0:00:01\r",
      "\u001b[K     |████████████████████            | 61 kB 37.9 MB/s eta 0:00:01\r",
      "\u001b[K     |███████████████████████▍        | 71 kB 31.7 MB/s eta 0:00:01\r",
      "\u001b[K     |██████████████████████████▊     | 81 kB 32.4 MB/s eta 0:00:01\r",
      "\u001b[K     |██████████████████████████████  | 92 kB 29.9 MB/s eta 0:00:01\r",
      "\u001b[K     |████████████████████████████████| 98 kB 6.3 MB/s \n",
      "\u001b[?25h"
     ]
    }
   ],
   "source": [
    "!pip install -q -U keras-tuner"
   ]
  },
  {
   "cell_type": "code",
   "execution_count": 26,
   "id": "M5te5ih0uP6u",
   "metadata": {
    "id": "M5te5ih0uP6u"
   },
   "outputs": [],
   "source": [
    "import pandas as pd\n",
    "from tensorflow import keras\n",
    "from tensorflow.keras import layers\n",
    "from keras_tuner.tuners import RandomSearch\n",
    "from tensorflow.keras.models import Sequential\n",
    "from tensorflow.keras.layers import LSTM\n",
    "from tensorflow.keras.layers import Dense,Dropout\n",
    "from tensorflow.keras.layers import Flatten\n",
    "import matplotlib.pyplot as plt"
   ]
  },
  {
   "cell_type": "code",
   "execution_count": 27,
   "id": "rYiJC5hXuP_e",
   "metadata": {
    "id": "rYiJC5hXuP_e"
   },
   "outputs": [],
   "source": [
    "def build_model(hp):\n",
    "    model = keras.Sequential()\n",
    "    for i in range(hp.Int('num_layers', 1, 5)):\n",
    "        model.add(layers.Dense(units=hp.Int('units_' + str(i),\n",
    "                                            min_value=8,\n",
    "                                            max_value = 64,\n",
    "                                            step=8),\n",
    "                                            activation= \"relu\"))\n",
    "        if hp.Boolean(\"dropout\"):\n",
    "          model.add(Dropout(hp.Float('Dropout_rate',min_value=0,max_value=0.5,step=0.1)))\n",
    "    model.add(layers.Dense(1, activation='linear'))\n",
    "    model.compile(\n",
    "        optimizer=keras.optimizers.Adam(\n",
    "             hp.Float('learning_rate', min_value=1e-4, max_value=1e-1, sampling=\"log\")),\n",
    "        loss='mape',\n",
    "        metrics=['mape'])\n",
    "    return model"
   ]
  },
  {
   "cell_type": "code",
   "execution_count": 28,
   "id": "2h_gRerjuQCT",
   "metadata": {
    "id": "2h_gRerjuQCT"
   },
   "outputs": [],
   "source": [
    "tuner = RandomSearch(\n",
    "    build_model,\n",
    "    objective='val_mape',\n",
    "    max_trials=10,\n",
    "    executions_per_trial=1,\n",
    "    directory='project',\n",
    "    project_name='co2_em_1')"
   ]
  },
  {
   "cell_type": "code",
   "execution_count": 29,
   "id": "Dg5AHN3guQFu",
   "metadata": {
    "colab": {
     "base_uri": "https://localhost:8080/"
    },
    "id": "Dg5AHN3guQFu",
    "outputId": "9a18d268-7a46-4f5b-f360-f4bad5528693"
   },
   "outputs": [
    {
     "name": "stdout",
     "output_type": "stream",
     "text": [
      "Search space summary\n",
      "Default search space size: 4\n",
      "num_layers (Int)\n",
      "{'default': None, 'conditions': [], 'min_value': 1, 'max_value': 5, 'step': 1, 'sampling': None}\n",
      "units_0 (Int)\n",
      "{'default': None, 'conditions': [], 'min_value': 8, 'max_value': 64, 'step': 8, 'sampling': None}\n",
      "dropout (Boolean)\n",
      "{'default': False, 'conditions': []}\n",
      "learning_rate (Float)\n",
      "{'default': 0.0001, 'conditions': [], 'min_value': 0.0001, 'max_value': 0.1, 'step': None, 'sampling': 'log'}\n"
     ]
    }
   ],
   "source": [
    "tuner.search_space_summary()"
   ]
  },
  {
   "cell_type": "code",
   "execution_count": 30,
   "id": "TiBXdF0K8Gpr",
   "metadata": {
    "colab": {
     "base_uri": "https://localhost:8080/"
    },
    "id": "TiBXdF0K8Gpr",
    "outputId": "2560d50b-b748-4110-e406-335f1876286f"
   },
   "outputs": [
    {
     "name": "stdout",
     "output_type": "stream",
     "text": [
      "Trial 10 Complete [00h 00m 10s]\n",
      "val_mape: 2.1702158451080322\n",
      "\n",
      "Best val_mape So Far: 2.107761859893799\n",
      "Total elapsed time: 00h 01m 46s\n",
      "INFO:tensorflow:Oracle triggered exit\n"
     ]
    }
   ],
   "source": [
    "tuner.search(trainX, trainY,\n",
    "             epochs=200,\n",
    "             batch_size=10,\n",
    "             validation_data=(testX, testY))"
   ]
  },
  {
   "cell_type": "code",
   "execution_count": 31,
   "id": "VXXGH_RK8GsD",
   "metadata": {
    "colab": {
     "base_uri": "https://localhost:8080/"
    },
    "id": "VXXGH_RK8GsD",
    "outputId": "5fccfd67-fb5e-4f6f-ec56-37b9f4caf364"
   },
   "outputs": [
    {
     "name": "stdout",
     "output_type": "stream",
     "text": [
      "Results summary\n",
      "Results in project/co2_em_1\n",
      "Showing 10 best trials\n",
      "Objective(name='val_mape', direction='min')\n",
      "Trial summary\n",
      "Hyperparameters:\n",
      "num_layers: 2\n",
      "units_0: 24\n",
      "dropout: False\n",
      "learning_rate: 0.0032160389394253097\n",
      "Dropout_rate: 0.4\n",
      "units_1: 40\n",
      "units_2: 16\n",
      "units_3: 16\n",
      "Score: 2.107761859893799\n",
      "Trial summary\n",
      "Hyperparameters:\n",
      "num_layers: 5\n",
      "units_0: 40\n",
      "dropout: True\n",
      "learning_rate: 0.0038134765898846113\n",
      "Dropout_rate: 0.0\n",
      "units_1: 56\n",
      "units_2: 16\n",
      "units_3: 24\n",
      "units_4: 8\n",
      "Score: 2.1394851207733154\n",
      "Trial summary\n",
      "Hyperparameters:\n",
      "num_layers: 3\n",
      "units_0: 56\n",
      "dropout: True\n",
      "learning_rate: 0.010596262520512652\n",
      "Dropout_rate: 0.0\n",
      "units_1: 8\n",
      "units_2: 8\n",
      "Score: 2.1486310958862305\n",
      "Trial summary\n",
      "Hyperparameters:\n",
      "num_layers: 4\n",
      "units_0: 48\n",
      "dropout: True\n",
      "learning_rate: 0.00021080415469627926\n",
      "Dropout_rate: 0.0\n",
      "units_1: 48\n",
      "units_2: 24\n",
      "units_3: 24\n",
      "units_4: 48\n",
      "Score: 2.1702158451080322\n",
      "Trial summary\n",
      "Hyperparameters:\n",
      "num_layers: 4\n",
      "units_0: 48\n",
      "dropout: False\n",
      "learning_rate: 0.005022336461695035\n",
      "Dropout_rate: 0.1\n",
      "units_1: 40\n",
      "units_2: 24\n",
      "units_3: 8\n",
      "Score: 2.1933488845825195\n",
      "Trial summary\n",
      "Hyperparameters:\n",
      "num_layers: 3\n",
      "units_0: 24\n",
      "dropout: True\n",
      "learning_rate: 0.0008988324897020811\n",
      "Dropout_rate: 0.1\n",
      "units_1: 56\n",
      "units_2: 56\n",
      "units_3: 40\n",
      "units_4: 64\n",
      "Score: 2.2050487995147705\n",
      "Trial summary\n",
      "Hyperparameters:\n",
      "num_layers: 5\n",
      "units_0: 24\n",
      "dropout: False\n",
      "learning_rate: 0.002490802686515204\n",
      "Dropout_rate: 0.0\n",
      "units_1: 24\n",
      "units_2: 40\n",
      "units_3: 16\n",
      "units_4: 24\n",
      "Score: 2.3567628860473633\n",
      "Trial summary\n",
      "Hyperparameters:\n",
      "num_layers: 2\n",
      "units_0: 56\n",
      "dropout: False\n",
      "learning_rate: 0.0005864732889415891\n",
      "Dropout_rate: 0.1\n",
      "units_1: 24\n",
      "units_2: 24\n",
      "Score: 2.3919191360473633\n",
      "Trial summary\n",
      "Hyperparameters:\n",
      "num_layers: 1\n",
      "units_0: 16\n",
      "dropout: False\n",
      "learning_rate: 0.0016149411175090005\n",
      "Dropout_rate: 0.4\n",
      "units_1: 24\n",
      "units_2: 48\n",
      "Score: 2.4406983852386475\n",
      "Trial summary\n",
      "Hyperparameters:\n",
      "num_layers: 1\n",
      "units_0: 16\n",
      "dropout: False\n",
      "learning_rate: 0.005077584365195038\n",
      "Dropout_rate: 0.2\n",
      "units_1: 64\n",
      "units_2: 40\n",
      "units_3: 48\n",
      "units_4: 40\n",
      "Score: 2.476898431777954\n"
     ]
    }
   ],
   "source": [
    "tuner.results_summary()"
   ]
  },
  {
   "cell_type": "code",
   "execution_count": 32,
   "id": "FBpLenJ_DZMX",
   "metadata": {
    "id": "FBpLenJ_DZMX"
   },
   "outputs": [],
   "source": [
    "from warnings import filterwarnings\n",
    "filterwarnings('ignore')"
   ]
  },
  {
   "cell_type": "code",
   "execution_count": 35,
   "id": "eL-a8rAv8Gvg",
   "metadata": {
    "colab": {
     "base_uri": "https://localhost:8080/"
    },
    "id": "eL-a8rAv8Gvg",
    "outputId": "3ca25626-71cd-420a-c09a-e728b53165bf"
   },
   "outputs": [
    {
     "name": "stdout",
     "output_type": "stream",
     "text": [
      "WARNING:tensorflow:Unresolved object in checkpoint: (root).layer_with_weights-0.kernel\n",
      "WARNING:tensorflow:Unresolved object in checkpoint: (root).layer_with_weights-0.bias\n",
      "WARNING:tensorflow:Unresolved object in checkpoint: (root).layer_with_weights-1.kernel\n",
      "WARNING:tensorflow:Unresolved object in checkpoint: (root).layer_with_weights-1.bias\n",
      "WARNING:tensorflow:Unresolved object in checkpoint: (root).layer_with_weights-2.kernel\n",
      "Model: \"sequential\"\n",
      "_________________________________________________________________\n",
      " Layer (type)                Output Shape              Param #   \n",
      "=================================================================\n",
      " dense (Dense)               (None, 24)                72        \n",
      "                                                                 \n",
      " dense_1 (Dense)             (None, 40)                1000      \n",
      "WARNING:tensorflow:Unresolved object in checkpoint: (root).layer_with_weights-2.bias\n",
      "                                                                 \n",
      " dense_2 (Dense)             (None, 1)                 41        \n",
      "                                                                 \n",
      "=================================================================\n",
      "Total params: 1,113\n",
      "Trainable params: 1,113\n",
      "Non-trainable params: 0\n",
      "_________________________________________________________________\n",
      "WARNING:tensorflow:Unresolved object in checkpoint: (root).layer_with_weights-3.kernel\n",
      "WARNING:tensorflow:Unresolved object in checkpoint: (root).layer_with_weights-3.bias\n",
      "WARNING:tensorflow:Unresolved object in checkpoint: (root).layer_with_weights-4.kernel\n",
      "WARNING:tensorflow:Unresolved object in checkpoint: (root).layer_with_weights-4.bias\n",
      "WARNING:tensorflow:Unresolved object in checkpoint: (root).layer_with_weights-5.kernel\n",
      "WARNING:tensorflow:Unresolved object in checkpoint: (root).layer_with_weights-5.bias\n",
      "WARNING:tensorflow:Unresolved object in checkpoint: (root).optimizer.iter\n",
      "WARNING:tensorflow:Unresolved object in checkpoint: (root).optimizer.beta_1\n",
      "WARNING:tensorflow:Unresolved object in checkpoint: (root).optimizer.beta_2\n",
      "WARNING:tensorflow:Unresolved object in checkpoint: (root).optimizer.decay\n",
      "WARNING:tensorflow:Unresolved object in checkpoint: (root).optimizer.learning_rate\n",
      "WARNING:tensorflow:Unresolved object in checkpoint: (root).optimizer's state 'm' for (root).layer_with_weights-0.kernel\n",
      "WARNING:tensorflow:Unresolved object in checkpoint: (root).optimizer's state 'm' for (root).layer_with_weights-0.bias\n",
      "WARNING:tensorflow:Unresolved object in checkpoint: (root).optimizer's state 'm' for (root).layer_with_weights-1.kernel\n",
      "WARNING:tensorflow:Unresolved object in checkpoint: (root).optimizer's state 'm' for (root).layer_with_weights-1.bias\n",
      "WARNING:tensorflow:Unresolved object in checkpoint: (root).optimizer's state 'm' for (root).layer_with_weights-2.kernel\n",
      "WARNING:tensorflow:Unresolved object in checkpoint: (root).optimizer's state 'm' for (root).layer_with_weights-2.bias\n",
      "WARNING:tensorflow:Unresolved object in checkpoint: (root).optimizer's state 'm' for (root).layer_with_weights-3.kernel\n",
      "WARNING:tensorflow:Unresolved object in checkpoint: (root).optimizer's state 'm' for (root).layer_with_weights-3.bias\n",
      "WARNING:tensorflow:Unresolved object in checkpoint: (root).optimizer's state 'm' for (root).layer_with_weights-4.kernel\n",
      "WARNING:tensorflow:Unresolved object in checkpoint: (root).optimizer's state 'm' for (root).layer_with_weights-4.bias\n",
      "WARNING:tensorflow:Unresolved object in checkpoint: (root).optimizer's state 'm' for (root).layer_with_weights-5.kernel\n",
      "WARNING:tensorflow:Unresolved object in checkpoint: (root).optimizer's state 'm' for (root).layer_with_weights-5.bias\n",
      "WARNING:tensorflow:Unresolved object in checkpoint: (root).optimizer's state 'v' for (root).layer_with_weights-0.kernel\n",
      "WARNING:tensorflow:Unresolved object in checkpoint: (root).optimizer's state 'v' for (root).layer_with_weights-0.bias\n",
      "WARNING:tensorflow:Unresolved object in checkpoint: (root).optimizer's state 'v' for (root).layer_with_weights-1.kernel\n",
      "WARNING:tensorflow:Unresolved object in checkpoint: (root).optimizer's state 'v' for (root).layer_with_weights-1.bias\n",
      "WARNING:tensorflow:Unresolved object in checkpoint: (root).optimizer's state 'v' for (root).layer_with_weights-2.kernel\n",
      "WARNING:tensorflow:Unresolved object in checkpoint: (root).optimizer's state 'v' for (root).layer_with_weights-2.bias\n",
      "WARNING:tensorflow:Unresolved object in checkpoint: (root).optimizer's state 'v' for (root).layer_with_weights-3.kernel\n",
      "WARNING:tensorflow:Unresolved object in checkpoint: (root).optimizer's state 'v' for (root).layer_with_weights-3.bias\n",
      "WARNING:tensorflow:Unresolved object in checkpoint: (root).optimizer's state 'v' for (root).layer_with_weights-4.kernel\n",
      "WARNING:tensorflow:Unresolved object in checkpoint: (root).optimizer's state 'v' for (root).layer_with_weights-4.bias\n",
      "WARNING:tensorflow:Unresolved object in checkpoint: (root).optimizer's state 'v' for (root).layer_with_weights-5.kernel\n",
      "WARNING:tensorflow:Unresolved object in checkpoint: (root).optimizer's state 'v' for (root).layer_with_weights-5.bias\n",
      "WARNING:tensorflow:A checkpoint was restored (e.g. tf.train.Checkpoint.restore or tf.keras.Model.load_weights) but not all checkpointed values were used. See above for specific issues. Use expect_partial() on the load status object, e.g. tf.train.Checkpoint.restore(...).expect_partial(), to silence these warnings, or use assert_consumed() to make the check explicit. See https://www.tensorflow.org/guide/checkpoint#loading_mechanics for details.\n",
      "WARNING:tensorflow:Unresolved object in checkpoint: (root).optimizer.iter\n",
      "WARNING:tensorflow:Unresolved object in checkpoint: (root).optimizer.beta_1\n",
      "WARNING:tensorflow:Unresolved object in checkpoint: (root).optimizer.beta_2\n",
      "WARNING:tensorflow:Unresolved object in checkpoint: (root).optimizer.decay\n",
      "WARNING:tensorflow:Unresolved object in checkpoint: (root).optimizer.learning_rate\n",
      "WARNING:tensorflow:A checkpoint was restored (e.g. tf.train.Checkpoint.restore or tf.keras.Model.load_weights) but not all checkpointed values were used. See above for specific issues. Use expect_partial() on the load status object, e.g. tf.train.Checkpoint.restore(...).expect_partial(), to silence these warnings, or use assert_consumed() to make the check explicit. See https://www.tensorflow.org/guide/checkpoint#loading_mechanics for details.\n"
     ]
    }
   ],
   "source": [
    "models = tuner.get_best_models(num_models=2)\n",
    "best_model = models[0]\n",
    "# Build the model.\n",
    "# Needed for `Sequential` without specified `input_shape`.\n",
    "best_model.build(input_shape=(None, 2))\n",
    "best_model.summary()"
   ]
  },
  {
   "cell_type": "code",
   "execution_count": 75,
   "id": "ovKDjDHZEmLV",
   "metadata": {
    "id": "ovKDjDHZEmLV"
   },
   "outputs": [],
   "source": [
    "from tensorflow.keras.callbacks import EarlyStopping\n",
    "from tensorflow.keras import optimizers"
   ]
  },
  {
   "cell_type": "code",
   "execution_count": 78,
   "id": "0e187ddc",
   "metadata": {
    "colab": {
     "base_uri": "https://localhost:8080/"
    },
    "id": "0e187ddc",
    "outputId": "a4381d02-824a-44ed-9144-47562581a875"
   },
   "outputs": [
    {
     "name": "stdout",
     "output_type": "stream",
     "text": [
      "Epoch 1/200\n",
      "6/6 [==============================] - 1s 29ms/step - loss: 69.7906 - mape: 69.7906 - val_loss: 68.3921 - val_mape: 68.3921\n",
      "Epoch 2/200\n",
      "6/6 [==============================] - 0s 6ms/step - loss: 66.9310 - mape: 66.9310 - val_loss: 66.2248 - val_mape: 66.2248\n",
      "Epoch 3/200\n",
      "6/6 [==============================] - 0s 6ms/step - loss: 64.0547 - mape: 64.0547 - val_loss: 64.0499 - val_mape: 64.0499\n",
      "Epoch 4/200\n",
      "6/6 [==============================] - 0s 5ms/step - loss: 61.1633 - mape: 61.1633 - val_loss: 61.8660 - val_mape: 61.8660\n",
      "Epoch 5/200\n",
      "6/6 [==============================] - 0s 5ms/step - loss: 58.2966 - mape: 58.2966 - val_loss: 59.6688 - val_mape: 59.6688\n",
      "Epoch 6/200\n",
      "6/6 [==============================] - 0s 5ms/step - loss: 55.2983 - mape: 55.2983 - val_loss: 57.4742 - val_mape: 57.4742\n",
      "Epoch 7/200\n",
      "6/6 [==============================] - 0s 7ms/step - loss: 52.4286 - mape: 52.4286 - val_loss: 55.2549 - val_mape: 55.2549\n",
      "Epoch 8/200\n",
      "6/6 [==============================] - 0s 6ms/step - loss: 49.3735 - mape: 49.3735 - val_loss: 53.0418 - val_mape: 53.0418\n",
      "Epoch 9/200\n",
      "6/6 [==============================] - 0s 6ms/step - loss: 46.4531 - mape: 46.4531 - val_loss: 50.8024 - val_mape: 50.8024\n",
      "Epoch 10/200\n",
      "6/6 [==============================] - 0s 6ms/step - loss: 43.4319 - mape: 43.4319 - val_loss: 48.5487 - val_mape: 48.5487\n",
      "Epoch 11/200\n",
      "6/6 [==============================] - 0s 6ms/step - loss: 40.4762 - mape: 40.4762 - val_loss: 46.3144 - val_mape: 46.3144\n",
      "Epoch 12/200\n",
      "6/6 [==============================] - 0s 6ms/step - loss: 37.7623 - mape: 37.7623 - val_loss: 44.1494 - val_mape: 44.1494\n",
      "Epoch 13/200\n",
      "6/6 [==============================] - 0s 5ms/step - loss: 35.3200 - mape: 35.3200 - val_loss: 42.0103 - val_mape: 42.0103\n",
      "Epoch 14/200\n",
      "6/6 [==============================] - 0s 8ms/step - loss: 32.9925 - mape: 32.9925 - val_loss: 39.9012 - val_mape: 39.9012\n",
      "Epoch 15/200\n",
      "6/6 [==============================] - 0s 6ms/step - loss: 30.8983 - mape: 30.8983 - val_loss: 37.9271 - val_mape: 37.9271\n",
      "Epoch 16/200\n",
      "6/6 [==============================] - 0s 6ms/step - loss: 29.3108 - mape: 29.3108 - val_loss: 36.0373 - val_mape: 36.0373\n",
      "Epoch 17/200\n",
      "6/6 [==============================] - 0s 6ms/step - loss: 27.7430 - mape: 27.7430 - val_loss: 34.2895 - val_mape: 34.2895\n",
      "Epoch 18/200\n",
      "6/6 [==============================] - 0s 8ms/step - loss: 26.5000 - mape: 26.5000 - val_loss: 32.5938 - val_mape: 32.5938\n",
      "Epoch 19/200\n",
      "6/6 [==============================] - 0s 6ms/step - loss: 25.4057 - mape: 25.4057 - val_loss: 31.0332 - val_mape: 31.0332\n",
      "Epoch 20/200\n",
      "6/6 [==============================] - 0s 6ms/step - loss: 24.5928 - mape: 24.5928 - val_loss: 29.5842 - val_mape: 29.5842\n",
      "Epoch 21/200\n",
      "6/6 [==============================] - 0s 6ms/step - loss: 23.7671 - mape: 23.7671 - val_loss: 28.2820 - val_mape: 28.2820\n",
      "Epoch 22/200\n",
      "6/6 [==============================] - 0s 6ms/step - loss: 23.0284 - mape: 23.0284 - val_loss: 26.9981 - val_mape: 26.9981\n",
      "Epoch 23/200\n",
      "6/6 [==============================] - 0s 6ms/step - loss: 22.3475 - mape: 22.3475 - val_loss: 25.7266 - val_mape: 25.7266\n",
      "Epoch 24/200\n",
      "6/6 [==============================] - 0s 8ms/step - loss: 21.7633 - mape: 21.7633 - val_loss: 24.4085 - val_mape: 24.4085\n",
      "Epoch 25/200\n",
      "6/6 [==============================] - 0s 6ms/step - loss: 21.1097 - mape: 21.1097 - val_loss: 23.1671 - val_mape: 23.1671\n",
      "Epoch 26/200\n",
      "6/6 [==============================] - 0s 6ms/step - loss: 20.4348 - mape: 20.4348 - val_loss: 22.1180 - val_mape: 22.1180\n",
      "Epoch 27/200\n",
      "6/6 [==============================] - 0s 6ms/step - loss: 19.9009 - mape: 19.9009 - val_loss: 20.9952 - val_mape: 20.9952\n",
      "Epoch 28/200\n",
      "6/6 [==============================] - 0s 6ms/step - loss: 19.3736 - mape: 19.3736 - val_loss: 19.8381 - val_mape: 19.8381\n",
      "Epoch 29/200\n",
      "6/6 [==============================] - 0s 6ms/step - loss: 18.8035 - mape: 18.8035 - val_loss: 18.8086 - val_mape: 18.8086\n",
      "Epoch 30/200\n",
      "6/6 [==============================] - 0s 6ms/step - loss: 18.2567 - mape: 18.2567 - val_loss: 17.8270 - val_mape: 17.8270\n",
      "Epoch 31/200\n",
      "6/6 [==============================] - 0s 6ms/step - loss: 17.7583 - mape: 17.7583 - val_loss: 16.7235 - val_mape: 16.7235\n",
      "Epoch 32/200\n",
      "6/6 [==============================] - 0s 6ms/step - loss: 17.2875 - mape: 17.2875 - val_loss: 15.5874 - val_mape: 15.5874\n",
      "Epoch 33/200\n",
      "6/6 [==============================] - 0s 6ms/step - loss: 16.7210 - mape: 16.7210 - val_loss: 14.6142 - val_mape: 14.6142\n",
      "Epoch 34/200\n",
      "6/6 [==============================] - 0s 7ms/step - loss: 16.2787 - mape: 16.2787 - val_loss: 13.5258 - val_mape: 13.5258\n",
      "Epoch 35/200\n",
      "6/6 [==============================] - 0s 6ms/step - loss: 15.7605 - mape: 15.7605 - val_loss: 12.6528 - val_mape: 12.6528\n",
      "Epoch 36/200\n",
      "6/6 [==============================] - 0s 7ms/step - loss: 15.3328 - mape: 15.3328 - val_loss: 11.8392 - val_mape: 11.8392\n",
      "Epoch 37/200\n",
      "6/6 [==============================] - 0s 6ms/step - loss: 14.9771 - mape: 14.9771 - val_loss: 10.9419 - val_mape: 10.9419\n",
      "Epoch 38/200\n",
      "6/6 [==============================] - 0s 7ms/step - loss: 14.6050 - mape: 14.6050 - val_loss: 10.2351 - val_mape: 10.2351\n",
      "Epoch 39/200\n",
      "6/6 [==============================] - 0s 7ms/step - loss: 14.2559 - mape: 14.2559 - val_loss: 9.7764 - val_mape: 9.7764\n",
      "Epoch 40/200\n",
      "6/6 [==============================] - 0s 6ms/step - loss: 13.9172 - mape: 13.9172 - val_loss: 9.2771 - val_mape: 9.2771\n",
      "Epoch 41/200\n",
      "6/6 [==============================] - 0s 6ms/step - loss: 13.5906 - mape: 13.5906 - val_loss: 8.9066 - val_mape: 8.9066\n",
      "Epoch 42/200\n",
      "6/6 [==============================] - 0s 7ms/step - loss: 13.2745 - mape: 13.2745 - val_loss: 8.3850 - val_mape: 8.3850\n",
      "Epoch 43/200\n",
      "6/6 [==============================] - 0s 8ms/step - loss: 12.9052 - mape: 12.9052 - val_loss: 7.8598 - val_mape: 7.8598\n",
      "Epoch 44/200\n",
      "6/6 [==============================] - 0s 10ms/step - loss: 12.5673 - mape: 12.5673 - val_loss: 7.4361 - val_mape: 7.4361\n",
      "Epoch 45/200\n",
      "6/6 [==============================] - 0s 6ms/step - loss: 12.2023 - mape: 12.2023 - val_loss: 6.9915 - val_mape: 6.9915\n",
      "Epoch 46/200\n",
      "6/6 [==============================] - 0s 6ms/step - loss: 11.8650 - mape: 11.8650 - val_loss: 6.5203 - val_mape: 6.5203\n",
      "Epoch 47/200\n",
      "6/6 [==============================] - 0s 6ms/step - loss: 11.5250 - mape: 11.5250 - val_loss: 6.1252 - val_mape: 6.1252\n",
      "Epoch 48/200\n",
      "6/6 [==============================] - 0s 6ms/step - loss: 11.1721 - mape: 11.1721 - val_loss: 5.6785 - val_mape: 5.6785\n",
      "Epoch 49/200\n",
      "6/6 [==============================] - 0s 6ms/step - loss: 10.8432 - mape: 10.8432 - val_loss: 5.4356 - val_mape: 5.4356\n",
      "Epoch 50/200\n",
      "6/6 [==============================] - 0s 6ms/step - loss: 10.5055 - mape: 10.5055 - val_loss: 5.1389 - val_mape: 5.1389\n",
      "Epoch 51/200\n",
      "6/6 [==============================] - 0s 6ms/step - loss: 10.1654 - mape: 10.1654 - val_loss: 4.7586 - val_mape: 4.7586\n",
      "Epoch 52/200\n",
      "6/6 [==============================] - 0s 6ms/step - loss: 9.8432 - mape: 9.8432 - val_loss: 4.2663 - val_mape: 4.2663\n",
      "Epoch 53/200\n",
      "6/6 [==============================] - 0s 7ms/step - loss: 9.5112 - mape: 9.5112 - val_loss: 3.8902 - val_mape: 3.8902\n",
      "Epoch 54/200\n",
      "6/6 [==============================] - 0s 6ms/step - loss: 9.1703 - mape: 9.1703 - val_loss: 3.6098 - val_mape: 3.6098\n",
      "Epoch 55/200\n",
      "6/6 [==============================] - 0s 6ms/step - loss: 8.8689 - mape: 8.8689 - val_loss: 3.4761 - val_mape: 3.4761\n",
      "Epoch 56/200\n",
      "6/6 [==============================] - 0s 6ms/step - loss: 8.5239 - mape: 8.5239 - val_loss: 3.2510 - val_mape: 3.2510\n",
      "Epoch 57/200\n",
      "6/6 [==============================] - 0s 7ms/step - loss: 8.1672 - mape: 8.1672 - val_loss: 3.0638 - val_mape: 3.0638\n",
      "Epoch 58/200\n",
      "6/6 [==============================] - 0s 7ms/step - loss: 7.8449 - mape: 7.8449 - val_loss: 2.7966 - val_mape: 2.7966\n",
      "Epoch 59/200\n",
      "6/6 [==============================] - 0s 6ms/step - loss: 7.5072 - mape: 7.5072 - val_loss: 2.5692 - val_mape: 2.5692\n",
      "Epoch 60/200\n",
      "6/6 [==============================] - 0s 6ms/step - loss: 7.1626 - mape: 7.1626 - val_loss: 2.3472 - val_mape: 2.3472\n",
      "Epoch 61/200\n",
      "6/6 [==============================] - 0s 11ms/step - loss: 6.8456 - mape: 6.8456 - val_loss: 2.3134 - val_mape: 2.3134\n",
      "Epoch 62/200\n",
      "6/6 [==============================] - 0s 6ms/step - loss: 6.4937 - mape: 6.4937 - val_loss: 2.2865 - val_mape: 2.2865\n",
      "Epoch 63/200\n",
      "6/6 [==============================] - 0s 6ms/step - loss: 6.1910 - mape: 6.1910 - val_loss: 2.2566 - val_mape: 2.2566\n",
      "Epoch 64/200\n",
      "6/6 [==============================] - 0s 6ms/step - loss: 5.9795 - mape: 5.9795 - val_loss: 2.1913 - val_mape: 2.1913\n",
      "Epoch 65/200\n",
      "6/6 [==============================] - 0s 10ms/step - loss: 5.7510 - mape: 5.7510 - val_loss: 2.1283 - val_mape: 2.1283\n",
      "Epoch 66/200\n",
      "6/6 [==============================] - 0s 6ms/step - loss: 5.5580 - mape: 5.5580 - val_loss: 2.2128 - val_mape: 2.2128\n",
      "Epoch 67/200\n",
      "6/6 [==============================] - 0s 12ms/step - loss: 5.3483 - mape: 5.3483 - val_loss: 2.2875 - val_mape: 2.2875\n",
      "Epoch 68/200\n",
      "6/6 [==============================] - 0s 6ms/step - loss: 5.1567 - mape: 5.1567 - val_loss: 2.4071 - val_mape: 2.4071\n",
      "Epoch 69/200\n",
      "6/6 [==============================] - 0s 6ms/step - loss: 5.0421 - mape: 5.0421 - val_loss: 2.5221 - val_mape: 2.5221\n",
      "Epoch 70/200\n",
      "6/6 [==============================] - 0s 6ms/step - loss: 4.9184 - mape: 4.9184 - val_loss: 2.6065 - val_mape: 2.6065\n"
     ]
    }
   ],
   "source": [
    "model = Sequential()\n",
    "model.add(Dense(8,activation='relu',input_dim = 2))\n",
    "model.add(Dense(1,activation='linear'))\n",
    "ad=optimizers.Adam(learning_rate=0.00032160389394253097)\n",
    "model.compile(optimizer = ad, loss = 'mape', metrics = ['mape'])\n",
    "model_history=model.fit(trainX, trainY,validation_data=(testX,testY), batch_size = 10, epochs = 200,callbacks=[EarlyStopping(monitor='val_loss', patience=5)])"
   ]
  },
  {
   "cell_type": "code",
   "execution_count": 79,
   "id": "77c05906",
   "metadata": {
    "id": "77c05906"
   },
   "outputs": [],
   "source": [
    "def model_loss(history):\n",
    "    plt.figure(figsize=(8,4))\n",
    "    plt.plot(history.history['loss'], label='Train Loss')\n",
    "    plt.plot(history.history['val_loss'], label='Test Loss')\n",
    "    plt.title('model loss')\n",
    "    plt.ylabel('loss')\n",
    "    plt.xlabel('epochs')\n",
    "    plt.legend(loc='upper right')\n",
    "    plt.show();"
   ]
  },
  {
   "cell_type": "code",
   "execution_count": 80,
   "id": "6vZ-AXOUurmJ",
   "metadata": {
    "id": "6vZ-AXOUurmJ"
   },
   "outputs": [],
   "source": [
    "train_score = model.evaluate(trainX, trainY,verbose=0)\n",
    "test_score = model.evaluate(testX, testY,verbose=0)"
   ]
  },
  {
   "cell_type": "code",
   "execution_count": 81,
   "id": "45a22c27",
   "metadata": {
    "colab": {
     "base_uri": "https://localhost:8080/",
     "height": 330
    },
    "id": "45a22c27",
    "outputId": "5b2bba8e-a604-4271-c126-84b1fb9a82d1"
   },
   "outputs": [
    {
     "name": "stdout",
     "output_type": "stream",
     "text": [
      "Train MAPE : 4.88 \n",
      "Test MAPE : 2.61 \n"
     ]
    },
    {
     "data": {
      "image/png": "[encoded data removed]",
      "text/plain": [
       "<Figure size 576x288 with 1 Axes>"
      ]
     },
     "metadata": {
      "needs_background": "light"
     },
     "output_type": "display_data"
    }
   ],
   "source": [
    "train_predict = model.predict(trainX)\n",
    "test_predict = model.predict(testX)\n",
    "\n",
    "# invert predictions\n",
    "train_predict = scaler.inverse_transform(train_predict)\n",
    "trainY = scaler.inverse_transform([trainY])\n",
    "test_predict = scaler.inverse_transform(test_predict)\n",
    "testY = scaler.inverse_transform([testY])\n",
    "print('Train MAPE : %.2f ' % (train_score[1]))\n",
    "print('Test MAPE : %.2f ' % (test_score[1]))\n",
    "model_loss(model_history)"
   ]
  },
  {
   "cell_type": "code",
   "execution_count": 82,
   "id": "dc942f74",
   "metadata": {
    "id": "dc942f74"
   },
   "outputs": [],
   "source": [
    "import seaborn as sns"
   ]
  },
  {
   "cell_type": "code",
   "execution_count": 83,
   "id": "dee9bab8",
   "metadata": {
    "id": "dee9bab8"
   },
   "outputs": [],
   "source": [
    "def prediction_plot(testY, test_predict,look_back):\n",
    "    len_prediction=[x for x in range(58,66)]\n",
    "    plt.plot(trainY.reshape(-1,))\n",
    "    plt.plot(len_prediction, testY.reshape(-1,), marker='.', label='actual')\n",
    "    plt.plot(len_prediction, test_predict, 'g', label=\"prediction\")\n",
    "    plt.tight_layout()\n",
    "    sns.despine(top=True)\n",
    "    plt.subplots_adjust(left=0.07)\n",
    "    plt.ylabel('Units', size=15)\n",
    "    plt.xlabel('Time step', size=15)\n",
    "    plt.legend(fontsize=15)\n",
    "    plt.show()"
   ]
  },
  {
   "cell_type": "code",
   "execution_count": 84,
   "id": "363040b5",
   "metadata": {
    "colab": {
     "base_uri": "https://localhost:8080/",
     "height": 604
    },
    "id": "363040b5",
    "outputId": "30550117-d009-40c6-f238-a4596422c052"
   },
   "outputs": [
    {
     "data": {
      "image/png": "[encoded data removed]",
      "text/plain": [
       "<Figure size 1080x576 with 1 Axes>"
      ]
     },
     "metadata": {
      "needs_background": "light"
     },
     "output_type": "display_data"
    }
   ],
   "source": [
    "test_predict = model.predict(testX)\n",
    "test_predict = scaler.inverse_transform(test_predict)\n",
    "prediction_plot(testY, test_predict,look_back)"
   ]
  },
  {
   "cell_type": "code",
   "execution_count": null,
   "id": "f8a7708c",
   "metadata": {
    "id": "f8a7708c"
   },
   "outputs": [],
   "source": []
  }
 ],
 "metadata": {
  "colab": {
   "collapsed_sections": [],
   "name": "Annual_CO2_HPT_ANN_Scaled_version_3.ipynb",
   "provenance": []
  },
  "kernelspec": {
   "display_name": "Python 3",
   "language": "python",
   "name": "python3"
  },
  "language_info": {
   "codemirror_mode": {
    "name": "ipython",
    "version": 3
   },
   "file_extension": ".py",
   "mimetype": "text/x-python",
   "name": "python",
   "nbconvert_exporter": "python",
   "pygments_lexer": "ipython3",
   "version": "3.8.8"
  }
 },
 "nbformat": 4,
 "nbformat_minor": 5
}
