{
 "cells": [
  {
   "cell_type": "code",
   "execution_count": 1,
   "id": "c2ef9b47",
   "metadata": {
    "id": "c2ef9b47"
   },
   "outputs": [],
   "source": [
    "import numpy as np\n",
    "import pandas as pd\n",
    "from tensorflow.keras.models import Sequential\n",
    "from tensorflow.keras.layers import LSTM\n",
    "from tensorflow.keras.layers import Dense\n",
    "from tensorflow.keras.layers import Flatten\n",
    "import matplotlib.pyplot as plt\n",
    "import warnings\n",
    "warnings.filterwarnings('ignore')\n",
    "%matplotlib inline"
   ]
  },
  {
   "cell_type": "code",
   "execution_count": 2,
   "id": "iGQk9lcRmucZ",
   "metadata": {
    "colab": {
     "base_uri": "https://localhost:8080/"
    },
    "id": "iGQk9lcRmucZ",
    "outputId": "75f0b962-f279-45d9-df94-7a649d776ec0"
   },
   "outputs": [
    {
     "name": "stdout",
     "output_type": "stream",
     "text": [
      "Mounted at /content/drive\n"
     ]
    }
   ],
   "source": [
    "from google.colab import drive\n",
    "drive.mount('/content/drive')"
   ]
  },
  {
   "cell_type": "code",
   "execution_count": null,
   "id": "BxDZtfokj6Da",
   "metadata": {
    "colab": {
     "base_uri": "https://localhost:8080/",
     "height": 35
    },
    "id": "BxDZtfokj6Da",
    "outputId": "b20dcdbd-c02a-48ad-a576-4ba9370acae1"
   },
   "outputs": [
    {
     "data": {
      "application/vnd.google.colaboratory.intrinsic+json": {
       "type": "string"
      },
      "text/plain": [
       "'/device:GPU:0'"
      ]
     },
     "execution_count": 5,
     "metadata": {},
     "output_type": "execute_result"
    }
   ],
   "source": [
    "import tensorflow as tf\n",
    "tf.test.gpu_device_name()"
   ]
  },
  {
   "cell_type": "code",
   "execution_count": null,
   "id": "UDt4KrAxj6JS",
   "metadata": {
    "colab": {
     "base_uri": "https://localhost:8080/"
    },
    "id": "UDt4KrAxj6JS",
    "outputId": "9d528187-3aea-4259-a635-0d1eddbc47d0"
   },
   "outputs": [
    {
     "data": {
      "text/plain": [
       "[name: \"/device:CPU:0\"\n",
       " device_type: \"CPU\"\n",
       " memory_limit: 268435456\n",
       " locality {\n",
       " }\n",
       " incarnation: 14494480343520806349\n",
       " xla_global_id: -1, name: \"/device:GPU:0\"\n",
       " device_type: \"GPU\"\n",
       " memory_limit: 11320098816\n",
       " locality {\n",
       "   bus_id: 1\n",
       "   links {\n",
       "   }\n",
       " }\n",
       " incarnation: 1229225032833911937\n",
       " physical_device_desc: \"device: 0, name: Tesla K80, pci bus id: 0000:00:04.0, compute capability: 3.7\"\n",
       " xla_global_id: 416903419]"
      ]
     },
     "execution_count": 6,
     "metadata": {},
     "output_type": "execute_result"
    }
   ],
   "source": [
    "from tensorflow.python.client import device_lib\n",
    "device_lib.list_local_devices()"
   ]
  },
  {
   "cell_type": "code",
   "execution_count": 117,
   "id": "30d066a0",
   "metadata": {
    "colab": {
     "base_uri": "https://localhost:8080/",
     "height": 206
    },
    "id": "30d066a0",
    "outputId": "11f348db-6771-48d7-a98c-93bf31967d4e"
   },
   "outputs": [
    {
     "data": {
      "text/html": [
       "\n",
       "  <div id=\"df-351a7262-b6ea-4c85-8aec-0359573331da\">\n",
       "    <div class=\"colab-df-container\">\n",
       "      <div>\n",
       "<style scoped>\n",
       "    .dataframe tbody tr th:only-of-type {\n",
       "        vertical-align: middle;\n",
       "    }\n",
       "\n",
       "    .dataframe tbody tr th {\n",
       "        vertical-align: top;\n",
       "    }\n",
       "\n",
       "    .dataframe thead th {\n",
       "        text-align: right;\n",
       "    }\n",
       "</style>\n",
       "<table border=\"1\" class=\"dataframe\">\n",
       "  <thead>\n",
       "    <tr style=\"text-align: right;\">\n",
       "      <th></th>\n",
       "      <th>North-America Annual CO2 emissions</th>\n",
       "      <th>million metric tonnes carbon dioxide</th>\n",
       "    </tr>\n",
       "  </thead>\n",
       "  <tbody>\n",
       "    <tr>\n",
       "      <th>0</th>\n",
       "      <td>1949</td>\n",
       "      <td>2206.690829</td>\n",
       "    </tr>\n",
       "    <tr>\n",
       "      <th>1</th>\n",
       "      <td>1950</td>\n",
       "      <td>2382.046176</td>\n",
       "    </tr>\n",
       "    <tr>\n",
       "      <th>2</th>\n",
       "      <td>1951</td>\n",
       "      <td>2526.687327</td>\n",
       "    </tr>\n",
       "    <tr>\n",
       "      <th>3</th>\n",
       "      <td>1952</td>\n",
       "      <td>2473.373964</td>\n",
       "    </tr>\n",
       "    <tr>\n",
       "      <th>4</th>\n",
       "      <td>1953</td>\n",
       "      <td>2536.892888</td>\n",
       "    </tr>\n",
       "  </tbody>\n",
       "</table>\n",
       "</div>\n",
       "      <button class=\"colab-df-convert\" onclick=\"convertToInteractive('df-351a7262-b6ea-4c85-8aec-0359573331da')\"\n",
       "              title=\"Convert this dataframe to an interactive table.\"\n",
       "              style=\"display:none;\">\n",
       "        \n",
       "  <svg xmlns=\"http://www.w3.org/2000/svg\" height=\"24px\"viewBox=\"0 0 24 24\"\n",
       "       width=\"24px\">\n",
       "    <path d=\"M0 0h24v24H0V0z\" fill=\"none\"/>\n",
       "    <path d=\"M18.56 5.44l.94 2.06.94-2.06 2.06-.94-2.06-.94-.94-2.06-.94 2.06-2.06.94zm-11 1L8.5 8.5l.94-2.06 2.06-.94-2.06-.94L8.5 2.5l-.94 2.06-2.06.94zm10 10l.94 2.06.94-2.06 2.06-.94-2.06-.94-.94-2.06-.94 2.06-2.06.94z\"/><path d=\"M17.41 7.96l-1.37-1.37c-.4-.4-.92-.59-1.43-.59-.52 0-1.04.2-1.43.59L10.3 9.45l-7.72 7.72c-.78.78-.78 2.05 0 2.83L4 21.41c.39.39.9.59 1.41.59.51 0 1.02-.2 1.41-.59l7.78-7.78 2.81-2.81c.8-.78.8-2.07 0-2.86zM5.41 20L4 18.59l7.72-7.72 1.47 1.35L5.41 20z\"/>\n",
       "  </svg>\n",
       "      </button>\n",
       "      \n",
       "  <style>\n",
       "    .colab-df-container {\n",
       "      display:flex;\n",
       "      flex-wrap:wrap;\n",
       "      gap: 12px;\n",
       "    }\n",
       "\n",
       "    .colab-df-convert {\n",
       "      background-color: #E8F0FE;\n",
       "      border: none;\n",
       "      border-radius: 50%;\n",
       "      cursor: pointer;\n",
       "      display: none;\n",
       "      fill: #1967D2;\n",
       "      height: 32px;\n",
       "      padding: 0 0 0 0;\n",
       "      width: 32px;\n",
       "    }\n",
       "\n",
       "    .colab-df-convert:hover {\n",
       "      background-color: #E2EBFA;\n",
       "      box-shadow: 0px 1px 2px rgba(60, 64, 67, 0.3), 0px 1px 3px 1px rgba(60, 64, 67, 0.15);\n",
       "      fill: #174EA6;\n",
       "    }\n",
       "\n",
       "    [theme=dark] .colab-df-convert {\n",
       "      background-color: #3B4455;\n",
       "      fill: #D2E3FC;\n",
       "    }\n",
       "\n",
       "    [theme=dark] .colab-df-convert:hover {\n",
       "      background-color: #434B5C;\n",
       "      box-shadow: 0px 1px 3px 1px rgba(0, 0, 0, 0.15);\n",
       "      filter: drop-shadow(0px 1px 2px rgba(0, 0, 0, 0.3));\n",
       "      fill: #FFFFFF;\n",
       "    }\n",
       "  </style>\n",
       "\n",
       "      <script>\n",
       "        const buttonEl =\n",
       "          document.querySelector('#df-351a7262-b6ea-4c85-8aec-0359573331da button.colab-df-convert');\n",
       "        buttonEl.style.display =\n",
       "          google.colab.kernel.accessAllowed ? 'block' : 'none';\n",
       "\n",
       "        async function convertToInteractive(key) {\n",
       "          const element = document.querySelector('#df-351a7262-b6ea-4c85-8aec-0359573331da');\n",
       "          const dataTable =\n",
       "            await google.colab.kernel.invokeFunction('convertToInteractive',\n",
       "                                                     [key], {});\n",
       "          if (!dataTable) return;\n",
       "\n",
       "          const docLinkHtml = 'Like what you see? Visit the ' +\n",
       "            '<a target=\"_blank\" href=https://colab.research.google.com/notebooks/data_table.ipynb>data table notebook</a>'\n",
       "            + ' to learn more about interactive tables.';\n",
       "          element.innerHTML = '';\n",
       "          dataTable['output_type'] = 'display_data';\n",
       "          await google.colab.output.renderOutput(dataTable, element);\n",
       "          const docLink = document.createElement('div');\n",
       "          docLink.innerHTML = docLinkHtml;\n",
       "          element.appendChild(docLink);\n",
       "        }\n",
       "      </script>\n",
       "    </div>\n",
       "  </div>\n",
       "  "
      ],
      "text/plain": [
       "   North-America Annual CO2 emissions   million metric tonnes carbon dioxide\n",
       "0                                1949                            2206.690829\n",
       "1                                1950                            2382.046176\n",
       "2                                1951                            2526.687327\n",
       "3                                1952                            2473.373964\n",
       "4                                1953                            2536.892888"
      ]
     },
     "execution_count": 117,
     "metadata": {},
     "output_type": "execute_result"
    }
   ],
   "source": [
    "df = pd.read_csv('/content/drive/MyDrive/Colab Notebooks/Environmental/CO2 emissions - North America.csv')\n",
    "df.head()"
   ]
  },
  {
   "cell_type": "code",
   "execution_count": 27,
   "id": "e2663bb4",
   "metadata": {
    "colab": {
     "base_uri": "https://localhost:8080/",
     "height": 206
    },
    "id": "e2663bb4",
    "outputId": "64e8df9c-5b28-4c36-d73c-e46901e62961"
   },
   "outputs": [
    {
     "data": {
      "text/html": [
       "\n",
       "  <div id=\"df-295174d1-96bd-458c-bccb-82f33af9c4ef\">\n",
       "    <div class=\"colab-df-container\">\n",
       "      <div>\n",
       "<style scoped>\n",
       "    .dataframe tbody tr th:only-of-type {\n",
       "        vertical-align: middle;\n",
       "    }\n",
       "\n",
       "    .dataframe tbody tr th {\n",
       "        vertical-align: top;\n",
       "    }\n",
       "\n",
       "    .dataframe thead th {\n",
       "        text-align: right;\n",
       "    }\n",
       "</style>\n",
       "<table border=\"1\" class=\"dataframe\">\n",
       "  <thead>\n",
       "    <tr style=\"text-align: right;\">\n",
       "      <th></th>\n",
       "      <th>North-America Annual CO2 emissions</th>\n",
       "      <th>million metric tonnes carbon dioxide</th>\n",
       "    </tr>\n",
       "  </thead>\n",
       "  <tbody>\n",
       "    <tr>\n",
       "      <th>65</th>\n",
       "      <td>2014</td>\n",
       "      <td>6468.127089</td>\n",
       "    </tr>\n",
       "    <tr>\n",
       "      <th>66</th>\n",
       "      <td>2015</td>\n",
       "      <td>6336.860299</td>\n",
       "    </tr>\n",
       "    <tr>\n",
       "      <th>67</th>\n",
       "      <td>2016</td>\n",
       "      <td>6241.322193</td>\n",
       "    </tr>\n",
       "    <tr>\n",
       "      <th>68</th>\n",
       "      <td>2017</td>\n",
       "      <td>6215.118995</td>\n",
       "    </tr>\n",
       "    <tr>\n",
       "      <th>69</th>\n",
       "      <td>2018</td>\n",
       "      <td>6381.236073</td>\n",
       "    </tr>\n",
       "  </tbody>\n",
       "</table>\n",
       "</div>\n",
       "      <button class=\"colab-df-convert\" onclick=\"convertToInteractive('df-295174d1-96bd-458c-bccb-82f33af9c4ef')\"\n",
       "              title=\"Convert this dataframe to an interactive table.\"\n",
       "              style=\"display:none;\">\n",
       "        \n",
       "  <svg xmlns=\"http://www.w3.org/2000/svg\" height=\"24px\"viewBox=\"0 0 24 24\"\n",
       "       width=\"24px\">\n",
       "    <path d=\"M0 0h24v24H0V0z\" fill=\"none\"/>\n",
       "    <path d=\"M18.56 5.44l.94 2.06.94-2.06 2.06-.94-2.06-.94-.94-2.06-.94 2.06-2.06.94zm-11 1L8.5 8.5l.94-2.06 2.06-.94-2.06-.94L8.5 2.5l-.94 2.06-2.06.94zm10 10l.94 2.06.94-2.06 2.06-.94-2.06-.94-.94-2.06-.94 2.06-2.06.94z\"/><path d=\"M17.41 7.96l-1.37-1.37c-.4-.4-.92-.59-1.43-.59-.52 0-1.04.2-1.43.59L10.3 9.45l-7.72 7.72c-.78.78-.78 2.05 0 2.83L4 21.41c.39.39.9.59 1.41.59.51 0 1.02-.2 1.41-.59l7.78-7.78 2.81-2.81c.8-.78.8-2.07 0-2.86zM5.41 20L4 18.59l7.72-7.72 1.47 1.35L5.41 20z\"/>\n",
       "  </svg>\n",
       "      </button>\n",
       "      \n",
       "  <style>\n",
       "    .colab-df-container {\n",
       "      display:flex;\n",
       "      flex-wrap:wrap;\n",
       "      gap: 12px;\n",
       "    }\n",
       "\n",
       "    .colab-df-convert {\n",
       "      background-color: #E8F0FE;\n",
       "      border: none;\n",
       "      border-radius: 50%;\n",
       "      cursor: pointer;\n",
       "      display: none;\n",
       "      fill: #1967D2;\n",
       "      height: 32px;\n",
       "      padding: 0 0 0 0;\n",
       "      width: 32px;\n",
       "    }\n",
       "\n",
       "    .colab-df-convert:hover {\n",
       "      background-color: #E2EBFA;\n",
       "      box-shadow: 0px 1px 2px rgba(60, 64, 67, 0.3), 0px 1px 3px 1px rgba(60, 64, 67, 0.15);\n",
       "      fill: #174EA6;\n",
       "    }\n",
       "\n",
       "    [theme=dark] .colab-df-convert {\n",
       "      background-color: #3B4455;\n",
       "      fill: #D2E3FC;\n",
       "    }\n",
       "\n",
       "    [theme=dark] .colab-df-convert:hover {\n",
       "      background-color: #434B5C;\n",
       "      box-shadow: 0px 1px 3px 1px rgba(0, 0, 0, 0.15);\n",
       "      filter: drop-shadow(0px 1px 2px rgba(0, 0, 0, 0.3));\n",
       "      fill: #FFFFFF;\n",
       "    }\n",
       "  </style>\n",
       "\n",
       "      <script>\n",
       "        const buttonEl =\n",
       "          document.querySelector('#df-295174d1-96bd-458c-bccb-82f33af9c4ef button.colab-df-convert');\n",
       "        buttonEl.style.display =\n",
       "          google.colab.kernel.accessAllowed ? 'block' : 'none';\n",
       "\n",
       "        async function convertToInteractive(key) {\n",
       "          const element = document.querySelector('#df-295174d1-96bd-458c-bccb-82f33af9c4ef');\n",
       "          const dataTable =\n",
       "            await google.colab.kernel.invokeFunction('convertToInteractive',\n",
       "                                                     [key], {});\n",
       "          if (!dataTable) return;\n",
       "\n",
       "          const docLinkHtml = 'Like what you see? Visit the ' +\n",
       "            '<a target=\"_blank\" href=https://colab.research.google.com/notebooks/data_table.ipynb>data table notebook</a>'\n",
       "            + ' to learn more about interactive tables.';\n",
       "          element.innerHTML = '';\n",
       "          dataTable['output_type'] = 'display_data';\n",
       "          await google.colab.output.renderOutput(dataTable, element);\n",
       "          const docLink = document.createElement('div');\n",
       "          docLink.innerHTML = docLinkHtml;\n",
       "          element.appendChild(docLink);\n",
       "        }\n",
       "      </script>\n",
       "    </div>\n",
       "  </div>\n",
       "  "
      ],
      "text/plain": [
       "    North-America Annual CO2 emissions   million metric tonnes carbon dioxide\n",
       "65                                2014                            6468.127089\n",
       "66                                2015                            6336.860299\n",
       "67                                2016                            6241.322193\n",
       "68                                2017                            6215.118995\n",
       "69                                2018                            6381.236073"
      ]
     },
     "execution_count": 27,
     "metadata": {},
     "output_type": "execute_result"
    }
   ],
   "source": [
    "df.tail()"
   ]
  },
  {
   "cell_type": "code",
   "execution_count": 28,
   "id": "0482272d",
   "metadata": {
    "colab": {
     "base_uri": "https://localhost:8080/"
    },
    "id": "0482272d",
    "outputId": "06ba13fd-5538-4ef4-eff0-ed0b288bd31e"
   },
   "outputs": [
    {
     "data": {
      "text/plain": [
       "(70, 2)"
      ]
     },
     "execution_count": 28,
     "metadata": {},
     "output_type": "execute_result"
    }
   ],
   "source": [
    "df.shape"
   ]
  },
  {
   "cell_type": "code",
   "execution_count": 6,
   "id": "076f1ad3",
   "metadata": {
    "colab": {
     "base_uri": "https://localhost:8080/"
    },
    "id": "076f1ad3",
    "outputId": "80279c7e-0f98-4f0b-c95c-14ce1943b080"
   },
   "outputs": [
    {
     "name": "stdout",
     "output_type": "stream",
     "text": [
      "<class 'pandas.core.frame.DataFrame'>\n",
      "RangeIndex: 70 entries, 0 to 69\n",
      "Data columns (total 2 columns):\n",
      " #   Column                                 Non-Null Count  Dtype  \n",
      "---  ------                                 --------------  -----  \n",
      " 0   North-America Annual CO2 emissions     70 non-null     int64  \n",
      " 1    million metric tonnes carbon dioxide  70 non-null     float64\n",
      "dtypes: float64(1), int64(1)\n",
      "memory usage: 1.2 KB\n"
     ]
    }
   ],
   "source": [
    "df.info()"
   ]
  },
  {
   "cell_type": "code",
   "execution_count": 7,
   "id": "IKYuy6u9oVZN",
   "metadata": {
    "colab": {
     "base_uri": "https://localhost:8080/"
    },
    "id": "IKYuy6u9oVZN",
    "outputId": "0249170e-0b72-4e6b-96d4-227deb767e15"
   },
   "outputs": [
    {
     "data": {
      "text/plain": [
       "North-America Annual CO2 emissions       0\n",
       " million metric tonnes carbon dioxide    0\n",
       "dtype: int64"
      ]
     },
     "execution_count": 7,
     "metadata": {},
     "output_type": "execute_result"
    }
   ],
   "source": [
    "df.isnull().sum()"
   ]
  },
  {
   "cell_type": "code",
   "execution_count": 118,
   "id": "93827e39",
   "metadata": {
    "id": "93827e39"
   },
   "outputs": [],
   "source": [
    "time = pd.date_range(start='1/1/1949',periods=70,freq='Y')\n",
    "df['time_stamp'] = pd.DataFrame(time)\n",
    "df.drop(['North-America Annual CO2 emissions'],axis=1,inplace=True)\n",
    "df = df.set_index('time_stamp')"
   ]
  },
  {
   "cell_type": "code",
   "execution_count": 119,
   "id": "S0kNKRMAocKq",
   "metadata": {
    "id": "S0kNKRMAocKq"
   },
   "outputs": [],
   "source": [
    "df.columns=['million_tonnes']"
   ]
  },
  {
   "cell_type": "code",
   "execution_count": 31,
   "id": "522f2b8e",
   "metadata": {
    "colab": {
     "base_uri": "https://localhost:8080/",
     "height": 238
    },
    "id": "522f2b8e",
    "outputId": "833e36c5-d393-4700-d13a-9d8a028d2f82"
   },
   "outputs": [
    {
     "data": {
      "text/html": [
       "\n",
       "  <div id=\"df-a8bcd7d7-1b98-46d3-bec7-1eb100ef5f77\">\n",
       "    <div class=\"colab-df-container\">\n",
       "      <div>\n",
       "<style scoped>\n",
       "    .dataframe tbody tr th:only-of-type {\n",
       "        vertical-align: middle;\n",
       "    }\n",
       "\n",
       "    .dataframe tbody tr th {\n",
       "        vertical-align: top;\n",
       "    }\n",
       "\n",
       "    .dataframe thead th {\n",
       "        text-align: right;\n",
       "    }\n",
       "</style>\n",
       "<table border=\"1\" class=\"dataframe\">\n",
       "  <thead>\n",
       "    <tr style=\"text-align: right;\">\n",
       "      <th></th>\n",
       "      <th>million_tonnes</th>\n",
       "    </tr>\n",
       "    <tr>\n",
       "      <th>time_stamp</th>\n",
       "      <th></th>\n",
       "    </tr>\n",
       "  </thead>\n",
       "  <tbody>\n",
       "    <tr>\n",
       "      <th>1949-12-31</th>\n",
       "      <td>2206.690829</td>\n",
       "    </tr>\n",
       "    <tr>\n",
       "      <th>1950-12-31</th>\n",
       "      <td>2382.046176</td>\n",
       "    </tr>\n",
       "    <tr>\n",
       "      <th>1951-12-31</th>\n",
       "      <td>2526.687327</td>\n",
       "    </tr>\n",
       "    <tr>\n",
       "      <th>1952-12-31</th>\n",
       "      <td>2473.373964</td>\n",
       "    </tr>\n",
       "    <tr>\n",
       "      <th>1953-12-31</th>\n",
       "      <td>2536.892888</td>\n",
       "    </tr>\n",
       "  </tbody>\n",
       "</table>\n",
       "</div>\n",
       "      <button class=\"colab-df-convert\" onclick=\"convertToInteractive('df-a8bcd7d7-1b98-46d3-bec7-1eb100ef5f77')\"\n",
       "              title=\"Convert this dataframe to an interactive table.\"\n",
       "              style=\"display:none;\">\n",
       "        \n",
       "  <svg xmlns=\"http://www.w3.org/2000/svg\" height=\"24px\"viewBox=\"0 0 24 24\"\n",
       "       width=\"24px\">\n",
       "    <path d=\"M0 0h24v24H0V0z\" fill=\"none\"/>\n",
       "    <path d=\"M18.56 5.44l.94 2.06.94-2.06 2.06-.94-2.06-.94-.94-2.06-.94 2.06-2.06.94zm-11 1L8.5 8.5l.94-2.06 2.06-.94-2.06-.94L8.5 2.5l-.94 2.06-2.06.94zm10 10l.94 2.06.94-2.06 2.06-.94-2.06-.94-.94-2.06-.94 2.06-2.06.94z\"/><path d=\"M17.41 7.96l-1.37-1.37c-.4-.4-.92-.59-1.43-.59-.52 0-1.04.2-1.43.59L10.3 9.45l-7.72 7.72c-.78.78-.78 2.05 0 2.83L4 21.41c.39.39.9.59 1.41.59.51 0 1.02-.2 1.41-.59l7.78-7.78 2.81-2.81c.8-.78.8-2.07 0-2.86zM5.41 20L4 18.59l7.72-7.72 1.47 1.35L5.41 20z\"/>\n",
       "  </svg>\n",
       "      </button>\n",
       "      \n",
       "  <style>\n",
       "    .colab-df-container {\n",
       "      display:flex;\n",
       "      flex-wrap:wrap;\n",
       "      gap: 12px;\n",
       "    }\n",
       "\n",
       "    .colab-df-convert {\n",
       "      background-color: #E8F0FE;\n",
       "      border: none;\n",
       "      border-radius: 50%;\n",
       "      cursor: pointer;\n",
       "      display: none;\n",
       "      fill: #1967D2;\n",
       "      height: 32px;\n",
       "      padding: 0 0 0 0;\n",
       "      width: 32px;\n",
       "    }\n",
       "\n",
       "    .colab-df-convert:hover {\n",
       "      background-color: #E2EBFA;\n",
       "      box-shadow: 0px 1px 2px rgba(60, 64, 67, 0.3), 0px 1px 3px 1px rgba(60, 64, 67, 0.15);\n",
       "      fill: #174EA6;\n",
       "    }\n",
       "\n",
       "    [theme=dark] .colab-df-convert {\n",
       "      background-color: #3B4455;\n",
       "      fill: #D2E3FC;\n",
       "    }\n",
       "\n",
       "    [theme=dark] .colab-df-convert:hover {\n",
       "      background-color: #434B5C;\n",
       "      box-shadow: 0px 1px 3px 1px rgba(0, 0, 0, 0.15);\n",
       "      filter: drop-shadow(0px 1px 2px rgba(0, 0, 0, 0.3));\n",
       "      fill: #FFFFFF;\n",
       "    }\n",
       "  </style>\n",
       "\n",
       "      <script>\n",
       "        const buttonEl =\n",
       "          document.querySelector('#df-a8bcd7d7-1b98-46d3-bec7-1eb100ef5f77 button.colab-df-convert');\n",
       "        buttonEl.style.display =\n",
       "          google.colab.kernel.accessAllowed ? 'block' : 'none';\n",
       "\n",
       "        async function convertToInteractive(key) {\n",
       "          const element = document.querySelector('#df-a8bcd7d7-1b98-46d3-bec7-1eb100ef5f77');\n",
       "          const dataTable =\n",
       "            await google.colab.kernel.invokeFunction('convertToInteractive',\n",
       "                                                     [key], {});\n",
       "          if (!dataTable) return;\n",
       "\n",
       "          const docLinkHtml = 'Like what you see? Visit the ' +\n",
       "            '<a target=\"_blank\" href=https://colab.research.google.com/notebooks/data_table.ipynb>data table notebook</a>'\n",
       "            + ' to learn more about interactive tables.';\n",
       "          element.innerHTML = '';\n",
       "          dataTable['output_type'] = 'display_data';\n",
       "          await google.colab.output.renderOutput(dataTable, element);\n",
       "          const docLink = document.createElement('div');\n",
       "          docLink.innerHTML = docLinkHtml;\n",
       "          element.appendChild(docLink);\n",
       "        }\n",
       "      </script>\n",
       "    </div>\n",
       "  </div>\n",
       "  "
      ],
      "text/plain": [
       "            million_tonnes\n",
       "time_stamp                \n",
       "1949-12-31     2206.690829\n",
       "1950-12-31     2382.046176\n",
       "1951-12-31     2526.687327\n",
       "1952-12-31     2473.373964\n",
       "1953-12-31     2536.892888"
      ]
     },
     "execution_count": 31,
     "metadata": {},
     "output_type": "execute_result"
    }
   ],
   "source": [
    "df.head()"
   ]
  },
  {
   "cell_type": "code",
   "execution_count": 32,
   "id": "7N0Xc0zT5atx",
   "metadata": {
    "colab": {
     "base_uri": "https://localhost:8080/",
     "height": 238
    },
    "id": "7N0Xc0zT5atx",
    "outputId": "ff49ab90-aadf-4e7b-fe80-ca462c2a82ce"
   },
   "outputs": [
    {
     "data": {
      "text/html": [
       "\n",
       "  <div id=\"df-f10a6133-4492-4a6e-9b1b-924993c7b6a9\">\n",
       "    <div class=\"colab-df-container\">\n",
       "      <div>\n",
       "<style scoped>\n",
       "    .dataframe tbody tr th:only-of-type {\n",
       "        vertical-align: middle;\n",
       "    }\n",
       "\n",
       "    .dataframe tbody tr th {\n",
       "        vertical-align: top;\n",
       "    }\n",
       "\n",
       "    .dataframe thead th {\n",
       "        text-align: right;\n",
       "    }\n",
       "</style>\n",
       "<table border=\"1\" class=\"dataframe\">\n",
       "  <thead>\n",
       "    <tr style=\"text-align: right;\">\n",
       "      <th></th>\n",
       "      <th>million_tonnes</th>\n",
       "    </tr>\n",
       "    <tr>\n",
       "      <th>time_stamp</th>\n",
       "      <th></th>\n",
       "    </tr>\n",
       "  </thead>\n",
       "  <tbody>\n",
       "    <tr>\n",
       "      <th>2014-12-31</th>\n",
       "      <td>6468.127089</td>\n",
       "    </tr>\n",
       "    <tr>\n",
       "      <th>2015-12-31</th>\n",
       "      <td>6336.860299</td>\n",
       "    </tr>\n",
       "    <tr>\n",
       "      <th>2016-12-31</th>\n",
       "      <td>6241.322193</td>\n",
       "    </tr>\n",
       "    <tr>\n",
       "      <th>2017-12-31</th>\n",
       "      <td>6215.118995</td>\n",
       "    </tr>\n",
       "    <tr>\n",
       "      <th>2018-12-31</th>\n",
       "      <td>6381.236073</td>\n",
       "    </tr>\n",
       "  </tbody>\n",
       "</table>\n",
       "</div>\n",
       "      <button class=\"colab-df-convert\" onclick=\"convertToInteractive('df-f10a6133-4492-4a6e-9b1b-924993c7b6a9')\"\n",
       "              title=\"Convert this dataframe to an interactive table.\"\n",
       "              style=\"display:none;\">\n",
       "        \n",
       "  <svg xmlns=\"http://www.w3.org/2000/svg\" height=\"24px\"viewBox=\"0 0 24 24\"\n",
       "       width=\"24px\">\n",
       "    <path d=\"M0 0h24v24H0V0z\" fill=\"none\"/>\n",
       "    <path d=\"M18.56 5.44l.94 2.06.94-2.06 2.06-.94-2.06-.94-.94-2.06-.94 2.06-2.06.94zm-11 1L8.5 8.5l.94-2.06 2.06-.94-2.06-.94L8.5 2.5l-.94 2.06-2.06.94zm10 10l.94 2.06.94-2.06 2.06-.94-2.06-.94-.94-2.06-.94 2.06-2.06.94z\"/><path d=\"M17.41 7.96l-1.37-1.37c-.4-.4-.92-.59-1.43-.59-.52 0-1.04.2-1.43.59L10.3 9.45l-7.72 7.72c-.78.78-.78 2.05 0 2.83L4 21.41c.39.39.9.59 1.41.59.51 0 1.02-.2 1.41-.59l7.78-7.78 2.81-2.81c.8-.78.8-2.07 0-2.86zM5.41 20L4 18.59l7.72-7.72 1.47 1.35L5.41 20z\"/>\n",
       "  </svg>\n",
       "      </button>\n",
       "      \n",
       "  <style>\n",
       "    .colab-df-container {\n",
       "      display:flex;\n",
       "      flex-wrap:wrap;\n",
       "      gap: 12px;\n",
       "    }\n",
       "\n",
       "    .colab-df-convert {\n",
       "      background-color: #E8F0FE;\n",
       "      border: none;\n",
       "      border-radius: 50%;\n",
       "      cursor: pointer;\n",
       "      display: none;\n",
       "      fill: #1967D2;\n",
       "      height: 32px;\n",
       "      padding: 0 0 0 0;\n",
       "      width: 32px;\n",
       "    }\n",
       "\n",
       "    .colab-df-convert:hover {\n",
       "      background-color: #E2EBFA;\n",
       "      box-shadow: 0px 1px 2px rgba(60, 64, 67, 0.3), 0px 1px 3px 1px rgba(60, 64, 67, 0.15);\n",
       "      fill: #174EA6;\n",
       "    }\n",
       "\n",
       "    [theme=dark] .colab-df-convert {\n",
       "      background-color: #3B4455;\n",
       "      fill: #D2E3FC;\n",
       "    }\n",
       "\n",
       "    [theme=dark] .colab-df-convert:hover {\n",
       "      background-color: #434B5C;\n",
       "      box-shadow: 0px 1px 3px 1px rgba(0, 0, 0, 0.15);\n",
       "      filter: drop-shadow(0px 1px 2px rgba(0, 0, 0, 0.3));\n",
       "      fill: #FFFFFF;\n",
       "    }\n",
       "  </style>\n",
       "\n",
       "      <script>\n",
       "        const buttonEl =\n",
       "          document.querySelector('#df-f10a6133-4492-4a6e-9b1b-924993c7b6a9 button.colab-df-convert');\n",
       "        buttonEl.style.display =\n",
       "          google.colab.kernel.accessAllowed ? 'block' : 'none';\n",
       "\n",
       "        async function convertToInteractive(key) {\n",
       "          const element = document.querySelector('#df-f10a6133-4492-4a6e-9b1b-924993c7b6a9');\n",
       "          const dataTable =\n",
       "            await google.colab.kernel.invokeFunction('convertToInteractive',\n",
       "                                                     [key], {});\n",
       "          if (!dataTable) return;\n",
       "\n",
       "          const docLinkHtml = 'Like what you see? Visit the ' +\n",
       "            '<a target=\"_blank\" href=https://colab.research.google.com/notebooks/data_table.ipynb>data table notebook</a>'\n",
       "            + ' to learn more about interactive tables.';\n",
       "          element.innerHTML = '';\n",
       "          dataTable['output_type'] = 'display_data';\n",
       "          await google.colab.output.renderOutput(dataTable, element);\n",
       "          const docLink = document.createElement('div');\n",
       "          docLink.innerHTML = docLinkHtml;\n",
       "          element.appendChild(docLink);\n",
       "        }\n",
       "      </script>\n",
       "    </div>\n",
       "  </div>\n",
       "  "
      ],
      "text/plain": [
       "            million_tonnes\n",
       "time_stamp                \n",
       "2014-12-31     6468.127089\n",
       "2015-12-31     6336.860299\n",
       "2016-12-31     6241.322193\n",
       "2017-12-31     6215.118995\n",
       "2018-12-31     6381.236073"
      ]
     },
     "execution_count": 32,
     "metadata": {},
     "output_type": "execute_result"
    }
   ],
   "source": [
    "df.tail()"
   ]
  },
  {
   "cell_type": "code",
   "execution_count": 87,
   "id": "bQk15MFgouDq",
   "metadata": {
    "id": "bQk15MFgouDq"
   },
   "outputs": [],
   "source": [
    "plt.rcParams['figure.figsize'] = [15,8]"
   ]
  },
  {
   "cell_type": "code",
   "execution_count": 88,
   "id": "3b098ae2",
   "metadata": {
    "colab": {
     "base_uri": "https://localhost:8080/",
     "height": 523
    },
    "id": "3b098ae2",
    "outputId": "959dd366-3122-4f00-9458-c00e7de43075"
   },
   "outputs": [
    {
     "data": {
      "image/png": "[encoded data removed]",
      "text/plain": [
       "<Figure size 1080x576 with 1 Axes>"
      ]
     },
     "metadata": {
      "needs_background": "light"
     },
     "output_type": "display_data"
    }
   ],
   "source": [
    "plt.plot(df,color='green')\n",
    "plt.title('Annual C02 Emissions In North America',fontsize=20)\n",
    "plt.xlabel('Date',fontsize=15)\n",
    "plt.ylabel('Millions of tons',fontsize=15)\n",
    "plt.show()"
   ]
  },
  {
   "cell_type": "code",
   "execution_count": 100,
   "id": "bf59d3e0",
   "metadata": {
    "id": "bf59d3e0"
   },
   "outputs": [],
   "source": [
    "def convert2matrix(data_arr, look_back):\n",
    "    X, Y =[], []\n",
    "    for i in range(len(data_arr)-look_back):\n",
    "        d=i+look_back  \n",
    "        X.append(data_arr[i:d,0])\n",
    "        Y.append(data_arr[d,0])\n",
    "    return np.array(X), np.array(Y)"
   ]
  },
  {
   "cell_type": "code",
   "execution_count": 105,
   "id": "5CBL1GHqurmE",
   "metadata": {
    "id": "5CBL1GHqurmE"
   },
   "outputs": [],
   "source": [
    "from sklearn.preprocessing import MinMaxScaler\n",
    "#create numpy.ndarray \n",
    "df['million_tonnes'] = df['million_tonnes'].astype(np.float32)\n",
    "df_arr = df.values\n",
    "df_arr = np.reshape(df_arr, (-1, 1))\n",
    "scaler = MinMaxScaler(feature_range=(0.1, 1))\n",
    "df_arr = scaler.fit_transform(df_arr)"
   ]
  },
  {
   "cell_type": "code",
   "execution_count": 106,
   "id": "1cea6c5f",
   "metadata": {
    "id": "1cea6c5f"
   },
   "outputs": [],
   "source": [
    "#Split data set into testing dataset and train dataset\n",
    "train_size = 60\n",
    "train, test =df_arr[0:train_size,:], df_arr[train_size:len(df_arr),:]\n",
    "# setup look_back window \n",
    "look_back = 1\n",
    "#convert dataset into right shape in order to input into the DNN\n",
    "trainX, trainY = convert2matrix(train, look_back)\n",
    "testX, testY = convert2matrix(test, look_back)\n",
    "trainX = np.reshape(trainX, (trainX.shape[0], 1, trainX.shape[1]))\n",
    "testX = np.reshape(testX, (testX.shape[0], 1, testX.shape[1]))"
   ]
  },
  {
   "cell_type": "code",
   "execution_count": 107,
   "id": "c7d46c39",
   "metadata": {
    "colab": {
     "base_uri": "https://localhost:8080/"
    },
    "id": "c7d46c39",
    "outputId": "06a60046-3579-47c4-88ed-53af8eac886d"
   },
   "outputs": [
    {
     "name": "stdout",
     "output_type": "stream",
     "text": [
      "(59, 1, 1)\n",
      "(59,)\n",
      "(9, 1, 1)\n",
      "(9,)\n"
     ]
    }
   ],
   "source": [
    "print(trainX.shape)\n",
    "print(trainY.shape)\n",
    "print(testX.shape)\n",
    "print(testY.shape)"
   ]
  },
  {
   "cell_type": "code",
   "execution_count": 18,
   "id": "GIc1nRcCuP3G",
   "metadata": {
    "colab": {
     "base_uri": "https://localhost:8080/"
    },
    "id": "GIc1nRcCuP3G",
    "outputId": "32b87fba-a53d-456e-c4b1-d6cdfc613053"
   },
   "outputs": [
    {
     "name": "stdout",
     "output_type": "stream",
     "text": [
      "\u001b[?25l\r",
      "\u001b[K     |███▍                            | 10 kB 23.6 MB/s eta 0:00:01\r",
      "\u001b[K     |██████▊                         | 20 kB 16.3 MB/s eta 0:00:01\r",
      "\u001b[K     |██████████                      | 30 kB 10.1 MB/s eta 0:00:01\r",
      "\u001b[K     |█████████████▍                  | 40 kB 9.6 MB/s eta 0:00:01\r",
      "\u001b[K     |████████████████▊               | 51 kB 5.7 MB/s eta 0:00:01\r",
      "\u001b[K     |████████████████████            | 61 kB 5.7 MB/s eta 0:00:01\r",
      "\u001b[K     |███████████████████████▍        | 71 kB 4.9 MB/s eta 0:00:01\r",
      "\u001b[K     |██████████████████████████▊     | 81 kB 5.5 MB/s eta 0:00:01\r",
      "\u001b[K     |██████████████████████████████  | 92 kB 6.0 MB/s eta 0:00:01\r",
      "\u001b[K     |████████████████████████████████| 98 kB 3.3 MB/s \n",
      "\u001b[?25h"
     ]
    }
   ],
   "source": [
    "!pip install -q -U keras-tuner"
   ]
  },
  {
   "cell_type": "code",
   "execution_count": 92,
   "id": "M5te5ih0uP6u",
   "metadata": {
    "id": "M5te5ih0uP6u"
   },
   "outputs": [],
   "source": [
    "import pandas as pd\n",
    "from tensorflow import keras\n",
    "from tensorflow.keras import layers\n",
    "from keras_tuner.tuners import RandomSearch\n",
    "from tensorflow.keras.models import Sequential\n",
    "from tensorflow.keras.layers import LSTM\n",
    "from tensorflow.keras.layers import Dense,Dropout,SimpleRNN\n",
    "from tensorflow.keras.layers import Flatten\n",
    "import matplotlib.pyplot as plt"
   ]
  },
  {
   "cell_type": "code",
   "execution_count": 39,
   "id": "rYiJC5hXuP_e",
   "metadata": {
    "id": "rYiJC5hXuP_e"
   },
   "outputs": [],
   "source": [
    "def build_model(hp):\n",
    "    model = keras.Sequential()\n",
    "    model.add(SimpleRNN(hp.Int('rnn_layer',min_value=4,max_value=96,step=4), activation=\"relu\",input_shape=(1,look_back),recurrent_dropout = hp.Choice(\"first_recurrent_dropout\",[0.2,0.4,0.6],default=0.2)))\n",
    "    model.add(Dense(hp.Int('dense_layer',min_value=4,max_value=96,step=4),activation=\"relu\"))\n",
    "    model.add(Dropout(hp.Float('Dropout_rate',min_value=0,max_value=0.5,step=0.1)))\n",
    "    model.add(layers.Dense(1, activation='linear'))\n",
    "    model.compile(\n",
    "        optimizer=keras.optimizers.Adam(\n",
    "             hp.Float('learning_rate', min_value=1e-4, max_value=1e-1, sampling=\"log\")),\n",
    "        loss='mape',\n",
    "        metrics=['mape'])\n",
    "    return model"
   ]
  },
  {
   "cell_type": "code",
   "execution_count": 41,
   "id": "2h_gRerjuQCT",
   "metadata": {
    "id": "2h_gRerjuQCT"
   },
   "outputs": [],
   "source": [
    "tuner = RandomSearch(\n",
    "    build_model,\n",
    "    objective='val_mape',\n",
    "    max_trials=10,\n",
    "    executions_per_trial=1,\n",
    "    directory='project',\n",
    "    project_name='co2_em_2')"
   ]
  },
  {
   "cell_type": "code",
   "execution_count": 42,
   "id": "Dg5AHN3guQFu",
   "metadata": {
    "colab": {
     "base_uri": "https://localhost:8080/"
    },
    "id": "Dg5AHN3guQFu",
    "outputId": "077ed555-7592-4745-eb67-4e9ad1e6f975"
   },
   "outputs": [
    {
     "name": "stdout",
     "output_type": "stream",
     "text": [
      "Search space summary\n",
      "Default search space size: 5\n",
      "rnn_layer (Int)\n",
      "{'default': None, 'conditions': [], 'min_value': 4, 'max_value': 96, 'step': 4, 'sampling': None}\n",
      "first_recurrent_dropout (Choice)\n",
      "{'default': 0.2, 'conditions': [], 'values': [0.2, 0.4, 0.6], 'ordered': True}\n",
      "dense_layer (Int)\n",
      "{'default': None, 'conditions': [], 'min_value': 4, 'max_value': 96, 'step': 4, 'sampling': None}\n",
      "Dropout_rate (Float)\n",
      "{'default': 0.0, 'conditions': [], 'min_value': 0.0, 'max_value': 0.5, 'step': 0.1, 'sampling': None}\n",
      "learning_rate (Float)\n",
      "{'default': 0.0001, 'conditions': [], 'min_value': 0.0001, 'max_value': 0.1, 'step': None, 'sampling': 'log'}\n"
     ]
    }
   ],
   "source": [
    "tuner.search_space_summary()"
   ]
  },
  {
   "cell_type": "code",
   "execution_count": 43,
   "id": "TiBXdF0K8Gpr",
   "metadata": {
    "colab": {
     "base_uri": "https://localhost:8080/"
    },
    "id": "TiBXdF0K8Gpr",
    "outputId": "40bb32b8-fc46-4376-c70e-743cd8dd2ec0"
   },
   "outputs": [
    {
     "name": "stdout",
     "output_type": "stream",
     "text": [
      "Trial 10 Complete [00h 00m 13s]\n",
      "val_mape: 2.3243165016174316\n",
      "\n",
      "Best val_mape So Far: 2.1610212326049805\n",
      "Total elapsed time: 00h 02m 44s\n",
      "INFO:tensorflow:Oracle triggered exit\n"
     ]
    }
   ],
   "source": [
    "tuner.search(trainX, trainY,\n",
    "             epochs=200,\n",
    "             batch_size=10,\n",
    "             validation_data=(testX, testY))"
   ]
  },
  {
   "cell_type": "code",
   "execution_count": 44,
   "id": "VXXGH_RK8GsD",
   "metadata": {
    "colab": {
     "base_uri": "https://localhost:8080/"
    },
    "id": "VXXGH_RK8GsD",
    "outputId": "0e57b811-930d-451a-90d1-46cffb3756ce"
   },
   "outputs": [
    {
     "name": "stdout",
     "output_type": "stream",
     "text": [
      "Results summary\n",
      "Results in project/co2_em_2\n",
      "Showing 10 best trials\n",
      "Objective(name='val_mape', direction='min')\n",
      "Trial summary\n",
      "Hyperparameters:\n",
      "rnn_layer: 20\n",
      "first_recurrent_dropout: 0.2\n",
      "dense_layer: 60\n",
      "Dropout_rate: 0.2\n",
      "learning_rate: 0.0010923729112669298\n",
      "Score: 2.1610212326049805\n",
      "Trial summary\n",
      "Hyperparameters:\n",
      "rnn_layer: 20\n",
      "first_recurrent_dropout: 0.6\n",
      "dense_layer: 80\n",
      "Dropout_rate: 0.1\n",
      "learning_rate: 0.0272306716456948\n",
      "Score: 2.19474458694458\n",
      "Trial summary\n",
      "Hyperparameters:\n",
      "rnn_layer: 52\n",
      "first_recurrent_dropout: 0.2\n",
      "dense_layer: 12\n",
      "Dropout_rate: 0.2\n",
      "learning_rate: 0.02061758615307235\n",
      "Score: 2.2384941577911377\n",
      "Trial summary\n",
      "Hyperparameters:\n",
      "rnn_layer: 44\n",
      "first_recurrent_dropout: 0.6\n",
      "dense_layer: 52\n",
      "Dropout_rate: 0.30000000000000004\n",
      "learning_rate: 0.022117825524369823\n",
      "Score: 2.239313840866089\n",
      "Trial summary\n",
      "Hyperparameters:\n",
      "rnn_layer: 40\n",
      "first_recurrent_dropout: 0.6\n",
      "dense_layer: 92\n",
      "Dropout_rate: 0.4\n",
      "learning_rate: 0.037457515824874256\n",
      "Score: 2.2716565132141113\n",
      "Trial summary\n",
      "Hyperparameters:\n",
      "rnn_layer: 20\n",
      "first_recurrent_dropout: 0.4\n",
      "dense_layer: 84\n",
      "Dropout_rate: 0.2\n",
      "learning_rate: 0.0683379650920421\n",
      "Score: 2.2739813327789307\n",
      "Trial summary\n",
      "Hyperparameters:\n",
      "rnn_layer: 72\n",
      "first_recurrent_dropout: 0.6\n",
      "dense_layer: 8\n",
      "Dropout_rate: 0.30000000000000004\n",
      "learning_rate: 0.012221326819451863\n",
      "Score: 2.2862467765808105\n",
      "Trial summary\n",
      "Hyperparameters:\n",
      "rnn_layer: 60\n",
      "first_recurrent_dropout: 0.4\n",
      "dense_layer: 80\n",
      "Dropout_rate: 0.1\n",
      "learning_rate: 0.00017008733928178482\n",
      "Score: 2.302973508834839\n",
      "Trial summary\n",
      "Hyperparameters:\n",
      "rnn_layer: 64\n",
      "first_recurrent_dropout: 0.4\n",
      "dense_layer: 44\n",
      "Dropout_rate: 0.30000000000000004\n",
      "learning_rate: 0.007942848763775814\n",
      "Score: 2.3243165016174316\n",
      "Trial summary\n",
      "Hyperparameters:\n",
      "rnn_layer: 60\n",
      "first_recurrent_dropout: 0.6\n",
      "dense_layer: 8\n",
      "Dropout_rate: 0.30000000000000004\n",
      "learning_rate: 0.0053786047961947615\n",
      "Score: 9.463506698608398\n"
     ]
    }
   ],
   "source": [
    "tuner.results_summary()"
   ]
  },
  {
   "cell_type": "code",
   "execution_count": 45,
   "id": "FBpLenJ_DZMX",
   "metadata": {
    "id": "FBpLenJ_DZMX"
   },
   "outputs": [],
   "source": [
    "from warnings import filterwarnings\n",
    "filterwarnings('ignore')"
   ]
  },
  {
   "cell_type": "code",
   "execution_count": 46,
   "id": "eL-a8rAv8Gvg",
   "metadata": {
    "colab": {
     "base_uri": "https://localhost:8080/"
    },
    "id": "eL-a8rAv8Gvg",
    "outputId": "7e5682db-c0f3-4b84-8744-78e9ac52f206"
   },
   "outputs": [
    {
     "name": "stdout",
     "output_type": "stream",
     "text": [
      "Model: \"sequential\"\n",
      "_________________________________________________________________\n",
      " Layer (type)                Output Shape              Param #   \n",
      "=================================================================\n",
      " simple_rnn (SimpleRNN)      (None, 20)                460       \n",
      "                                                                 \n",
      " dense (Dense)               (None, 60)                1260      \n",
      "                                                                 \n",
      " dropout (Dropout)           (None, 60)                0         \n",
      "                                                                 \n",
      " dense_1 (Dense)             (None, 1)                 61        \n",
      "                                                                 \n",
      "=================================================================\n",
      "Total params: 1,781\n",
      "Trainable params: 1,781\n",
      "Non-trainable params: 0\n",
      "_________________________________________________________________\n"
     ]
    }
   ],
   "source": [
    "models = tuner.get_best_models(num_models=2)\n",
    "best_model = models[0]\n",
    "# Build the model.\n",
    "# Needed for `Sequential` without specified `input_shape`.\n",
    "best_model.build(input_shape=(None, 2))\n",
    "best_model.summary()"
   ]
  },
  {
   "cell_type": "code",
   "execution_count": 76,
   "id": "ovKDjDHZEmLV",
   "metadata": {
    "id": "ovKDjDHZEmLV"
   },
   "outputs": [],
   "source": [
    "from tensorflow.keras.callbacks import EarlyStopping\n",
    "from tensorflow.keras import optimizers"
   ]
  },
  {
   "cell_type": "code",
   "execution_count": 109,
   "id": "0e187ddc",
   "metadata": {
    "colab": {
     "base_uri": "https://localhost:8080/"
    },
    "id": "0e187ddc",
    "outputId": "90ef5b66-a68f-40bc-89da-2f9971710ecb"
   },
   "outputs": [
    {
     "name": "stdout",
     "output_type": "stream",
     "text": [
      "Epoch 1/200\n",
      "6/6 [==============================] - 2s 133ms/step - loss: 111.1395 - mape: 111.1395 - val_loss: 107.6377 - val_mape: 107.6377\n",
      "Epoch 2/200\n",
      "6/6 [==============================] - 0s 8ms/step - loss: 98.8270 - mape: 98.8270 - val_loss: 100.9305 - val_mape: 100.9305\n",
      "Epoch 3/200\n",
      "6/6 [==============================] - 0s 8ms/step - loss: 89.4713 - mape: 89.4713 - val_loss: 93.5832 - val_mape: 93.5832\n",
      "Epoch 4/200\n",
      "6/6 [==============================] - 0s 7ms/step - loss: 82.7131 - mape: 82.7131 - val_loss: 86.2043 - val_mape: 86.2043\n",
      "Epoch 5/200\n",
      "6/6 [==============================] - 0s 8ms/step - loss: 69.7339 - mape: 69.7339 - val_loss: 78.8244 - val_mape: 78.8244\n",
      "Epoch 6/200\n",
      "6/6 [==============================] - 0s 9ms/step - loss: 58.9972 - mape: 58.9972 - val_loss: 71.8417 - val_mape: 71.8417\n",
      "Epoch 7/200\n",
      "6/6 [==============================] - 0s 8ms/step - loss: 50.9050 - mape: 50.9050 - val_loss: 65.1573 - val_mape: 65.1573\n",
      "Epoch 8/200\n",
      "6/6 [==============================] - 0s 8ms/step - loss: 45.3263 - mape: 45.3263 - val_loss: 58.9663 - val_mape: 58.9663\n",
      "Epoch 9/200\n",
      "6/6 [==============================] - 0s 10ms/step - loss: 46.3234 - mape: 46.3234 - val_loss: 53.7206 - val_mape: 53.7206\n",
      "Epoch 10/200\n",
      "6/6 [==============================] - 0s 8ms/step - loss: 45.9947 - mape: 45.9947 - val_loss: 48.3671 - val_mape: 48.3671\n",
      "Epoch 11/200\n",
      "6/6 [==============================] - 0s 8ms/step - loss: 37.0229 - mape: 37.0229 - val_loss: 43.3601 - val_mape: 43.3601\n",
      "Epoch 12/200\n",
      "6/6 [==============================] - 0s 7ms/step - loss: 37.1796 - mape: 37.1796 - val_loss: 39.5037 - val_mape: 39.5037\n",
      "Epoch 13/200\n",
      "6/6 [==============================] - 0s 9ms/step - loss: 35.6499 - mape: 35.6499 - val_loss: 36.0228 - val_mape: 36.0228\n",
      "Epoch 14/200\n",
      "6/6 [==============================] - 0s 8ms/step - loss: 38.6221 - mape: 38.6221 - val_loss: 33.2098 - val_mape: 33.2098\n",
      "Epoch 15/200\n",
      "6/6 [==============================] - 0s 8ms/step - loss: 34.9859 - mape: 34.9859 - val_loss: 29.8570 - val_mape: 29.8570\n",
      "Epoch 16/200\n",
      "6/6 [==============================] - 0s 8ms/step - loss: 30.4884 - mape: 30.4884 - val_loss: 26.6011 - val_mape: 26.6011\n",
      "Epoch 17/200\n",
      "6/6 [==============================] - 0s 8ms/step - loss: 30.4834 - mape: 30.4834 - val_loss: 25.5167 - val_mape: 25.5167\n",
      "Epoch 18/200\n",
      "6/6 [==============================] - 0s 8ms/step - loss: 35.8239 - mape: 35.8239 - val_loss: 25.5932 - val_mape: 25.5932\n",
      "Epoch 19/200\n",
      "6/6 [==============================] - 0s 8ms/step - loss: 24.8098 - mape: 24.8098 - val_loss: 25.9356 - val_mape: 25.9356\n",
      "Epoch 20/200\n",
      "6/6 [==============================] - 0s 8ms/step - loss: 27.3810 - mape: 27.3810 - val_loss: 25.9465 - val_mape: 25.9465\n",
      "Epoch 21/200\n",
      "6/6 [==============================] - 0s 8ms/step - loss: 29.0173 - mape: 29.0173 - val_loss: 25.6131 - val_mape: 25.6131\n",
      "Epoch 22/200\n",
      "6/6 [==============================] - 0s 8ms/step - loss: 23.6047 - mape: 23.6047 - val_loss: 24.0470 - val_mape: 24.0470\n",
      "Epoch 23/200\n",
      "6/6 [==============================] - 0s 8ms/step - loss: 26.1509 - mape: 26.1509 - val_loss: 22.7686 - val_mape: 22.7686\n",
      "Epoch 24/200\n",
      "6/6 [==============================] - 0s 10ms/step - loss: 23.2846 - mape: 23.2846 - val_loss: 21.4456 - val_mape: 21.4456\n",
      "Epoch 25/200\n",
      "6/6 [==============================] - 0s 10ms/step - loss: 21.4255 - mape: 21.4255 - val_loss: 19.0732 - val_mape: 19.0732\n",
      "Epoch 26/200\n",
      "6/6 [==============================] - 0s 9ms/step - loss: 21.4502 - mape: 21.4502 - val_loss: 17.4033 - val_mape: 17.4033\n",
      "Epoch 27/200\n",
      "6/6 [==============================] - 0s 8ms/step - loss: 18.2939 - mape: 18.2939 - val_loss: 16.6531 - val_mape: 16.6531\n",
      "Epoch 28/200\n",
      "6/6 [==============================] - 0s 7ms/step - loss: 16.4634 - mape: 16.4634 - val_loss: 16.5059 - val_mape: 16.5059\n",
      "Epoch 29/200\n",
      "6/6 [==============================] - 0s 10ms/step - loss: 19.0143 - mape: 19.0143 - val_loss: 16.1337 - val_mape: 16.1337\n",
      "Epoch 30/200\n",
      "6/6 [==============================] - 0s 8ms/step - loss: 19.3227 - mape: 19.3227 - val_loss: 14.8516 - val_mape: 14.8516\n",
      "Epoch 31/200\n",
      "6/6 [==============================] - 0s 8ms/step - loss: 18.7765 - mape: 18.7765 - val_loss: 15.2740 - val_mape: 15.2740\n",
      "Epoch 32/200\n",
      "6/6 [==============================] - 0s 8ms/step - loss: 18.0648 - mape: 18.0648 - val_loss: 15.7811 - val_mape: 15.7811\n",
      "Epoch 33/200\n",
      "6/6 [==============================] - 0s 8ms/step - loss: 16.0673 - mape: 16.0673 - val_loss: 13.9990 - val_mape: 13.9990\n",
      "Epoch 34/200\n",
      "6/6 [==============================] - 0s 8ms/step - loss: 15.6683 - mape: 15.6683 - val_loss: 13.3065 - val_mape: 13.3065\n",
      "Epoch 35/200\n",
      "6/6 [==============================] - 0s 8ms/step - loss: 20.5578 - mape: 20.5578 - val_loss: 11.1292 - val_mape: 11.1292\n",
      "Epoch 36/200\n",
      "6/6 [==============================] - 0s 9ms/step - loss: 17.9250 - mape: 17.9250 - val_loss: 10.7559 - val_mape: 10.7559\n",
      "Epoch 37/200\n",
      "6/6 [==============================] - 0s 9ms/step - loss: 19.7699 - mape: 19.7699 - val_loss: 11.7364 - val_mape: 11.7364\n",
      "Epoch 38/200\n",
      "6/6 [==============================] - 0s 9ms/step - loss: 17.0303 - mape: 17.0303 - val_loss: 11.6822 - val_mape: 11.6822\n",
      "Epoch 39/200\n",
      "6/6 [==============================] - 0s 8ms/step - loss: 16.6605 - mape: 16.6605 - val_loss: 11.5040 - val_mape: 11.5040\n",
      "Epoch 40/200\n",
      "6/6 [==============================] - 0s 7ms/step - loss: 15.8365 - mape: 15.8365 - val_loss: 11.2011 - val_mape: 11.2011\n",
      "Epoch 41/200\n",
      "6/6 [==============================] - 0s 8ms/step - loss: 14.8734 - mape: 14.8734 - val_loss: 9.9644 - val_mape: 9.9644\n",
      "Epoch 42/200\n",
      "6/6 [==============================] - 0s 9ms/step - loss: 16.7778 - mape: 16.7778 - val_loss: 9.2466 - val_mape: 9.2466\n",
      "Epoch 43/200\n",
      "6/6 [==============================] - 0s 8ms/step - loss: 18.4932 - mape: 18.4932 - val_loss: 8.5493 - val_mape: 8.5493\n",
      "Epoch 44/200\n",
      "6/6 [==============================] - 0s 11ms/step - loss: 15.3345 - mape: 15.3345 - val_loss: 8.6335 - val_mape: 8.6335\n",
      "Epoch 45/200\n",
      "6/6 [==============================] - 0s 8ms/step - loss: 13.4600 - mape: 13.4600 - val_loss: 8.9044 - val_mape: 8.9044\n",
      "Epoch 46/200\n",
      "6/6 [==============================] - 0s 8ms/step - loss: 13.6095 - mape: 13.6095 - val_loss: 8.5810 - val_mape: 8.5810\n",
      "Epoch 47/200\n",
      "6/6 [==============================] - 0s 8ms/step - loss: 14.9366 - mape: 14.9366 - val_loss: 8.8629 - val_mape: 8.8629\n",
      "Epoch 48/200\n",
      "6/6 [==============================] - 0s 9ms/step - loss: 14.8389 - mape: 14.8389 - val_loss: 7.1335 - val_mape: 7.1335\n",
      "Epoch 49/200\n",
      "6/6 [==============================] - 0s 8ms/step - loss: 19.2092 - mape: 19.2091 - val_loss: 6.4020 - val_mape: 6.4020\n",
      "Epoch 50/200\n",
      "6/6 [==============================] - 0s 7ms/step - loss: 17.5048 - mape: 17.5048 - val_loss: 7.7135 - val_mape: 7.7135\n",
      "Epoch 51/200\n",
      "6/6 [==============================] - 0s 7ms/step - loss: 16.1098 - mape: 16.1098 - val_loss: 8.7955 - val_mape: 8.7955\n",
      "Epoch 52/200\n",
      "6/6 [==============================] - 0s 9ms/step - loss: 15.3606 - mape: 15.3606 - val_loss: 8.8011 - val_mape: 8.8011\n",
      "Epoch 53/200\n",
      "6/6 [==============================] - 0s 10ms/step - loss: 15.5271 - mape: 15.5271 - val_loss: 6.9030 - val_mape: 6.9030\n",
      "Epoch 54/200\n",
      "6/6 [==============================] - 0s 7ms/step - loss: 13.3997 - mape: 13.3997 - val_loss: 6.4317 - val_mape: 6.4317\n",
      "Epoch 55/200\n",
      "6/6 [==============================] - 0s 8ms/step - loss: 16.1324 - mape: 16.1324 - val_loss: 7.1964 - val_mape: 7.1964\n",
      "Epoch 56/200\n",
      "6/6 [==============================] - 0s 9ms/step - loss: 14.3349 - mape: 14.3349 - val_loss: 6.6323 - val_mape: 6.6323\n",
      "Epoch 57/200\n",
      "6/6 [==============================] - 0s 8ms/step - loss: 16.1669 - mape: 16.1669 - val_loss: 6.4405 - val_mape: 6.4405\n",
      "Epoch 58/200\n",
      "6/6 [==============================] - 0s 9ms/step - loss: 12.2420 - mape: 12.2420 - val_loss: 6.5915 - val_mape: 6.5915\n",
      "Epoch 59/200\n",
      "6/6 [==============================] - 0s 7ms/step - loss: 16.1410 - mape: 16.1410 - val_loss: 7.3010 - val_mape: 7.3010\n",
      "Epoch 60/200\n",
      "6/6 [==============================] - 0s 8ms/step - loss: 18.3440 - mape: 18.3440 - val_loss: 8.3374 - val_mape: 8.3374\n",
      "Epoch 61/200\n",
      "6/6 [==============================] - 0s 10ms/step - loss: 16.8430 - mape: 16.8430 - val_loss: 7.9408 - val_mape: 7.9408\n",
      "Epoch 62/200\n",
      "6/6 [==============================] - 0s 9ms/step - loss: 15.7500 - mape: 15.7500 - val_loss: 6.4136 - val_mape: 6.4136\n",
      "Epoch 63/200\n",
      "6/6 [==============================] - 0s 8ms/step - loss: 15.4542 - mape: 15.4542 - val_loss: 5.3674 - val_mape: 5.3674\n",
      "Epoch 64/200\n",
      "6/6 [==============================] - 0s 9ms/step - loss: 17.1014 - mape: 17.1014 - val_loss: 5.8176 - val_mape: 5.8176\n",
      "Epoch 65/200\n",
      "6/6 [==============================] - 0s 7ms/step - loss: 18.1582 - mape: 18.1582 - val_loss: 6.6218 - val_mape: 6.6218\n",
      "Epoch 66/200\n",
      "6/6 [==============================] - 0s 8ms/step - loss: 14.9131 - mape: 14.9131 - val_loss: 5.4125 - val_mape: 5.4125\n",
      "Epoch 67/200\n",
      "6/6 [==============================] - 0s 9ms/step - loss: 12.4412 - mape: 12.4412 - val_loss: 4.2031 - val_mape: 4.2031\n",
      "Epoch 68/200\n",
      "6/6 [==============================] - 0s 8ms/step - loss: 14.0838 - mape: 14.0838 - val_loss: 5.7312 - val_mape: 5.7312\n",
      "Epoch 69/200\n",
      "6/6 [==============================] - 0s 9ms/step - loss: 17.2357 - mape: 17.2357 - val_loss: 5.9950 - val_mape: 5.9950\n",
      "Epoch 70/200\n",
      "6/6 [==============================] - 0s 9ms/step - loss: 14.2193 - mape: 14.2193 - val_loss: 4.0097 - val_mape: 4.0097\n",
      "Epoch 71/200\n",
      "6/6 [==============================] - 0s 8ms/step - loss: 14.3850 - mape: 14.3850 - val_loss: 3.3388 - val_mape: 3.3388\n",
      "Epoch 72/200\n",
      "6/6 [==============================] - 0s 9ms/step - loss: 12.0144 - mape: 12.0144 - val_loss: 3.0139 - val_mape: 3.0139\n",
      "Epoch 73/200\n",
      "6/6 [==============================] - 0s 12ms/step - loss: 11.5831 - mape: 11.5831 - val_loss: 2.9899 - val_mape: 2.9899\n",
      "Epoch 74/200\n",
      "6/6 [==============================] - 0s 9ms/step - loss: 14.2636 - mape: 14.2636 - val_loss: 2.7301 - val_mape: 2.7301\n",
      "Epoch 75/200\n",
      "6/6 [==============================] - 0s 9ms/step - loss: 13.2572 - mape: 13.2572 - val_loss: 4.1006 - val_mape: 4.1006\n",
      "Epoch 76/200\n",
      "6/6 [==============================] - 0s 9ms/step - loss: 12.6486 - mape: 12.6486 - val_loss: 6.8122 - val_mape: 6.8122\n",
      "Epoch 77/200\n",
      "6/6 [==============================] - 0s 8ms/step - loss: 15.9866 - mape: 15.9866 - val_loss: 5.8258 - val_mape: 5.8258\n",
      "Epoch 78/200\n",
      "6/6 [==============================] - 0s 8ms/step - loss: 14.6540 - mape: 14.6540 - val_loss: 4.9869 - val_mape: 4.9869\n",
      "Epoch 79/200\n",
      "6/6 [==============================] - 0s 8ms/step - loss: 14.3532 - mape: 14.3532 - val_loss: 4.6110 - val_mape: 4.6110\n",
      "Epoch 80/200\n",
      "6/6 [==============================] - 0s 9ms/step - loss: 12.1438 - mape: 12.1438 - val_loss: 4.8045 - val_mape: 4.8045\n",
      "Epoch 81/200\n",
      "6/6 [==============================] - 0s 8ms/step - loss: 14.2889 - mape: 14.2889 - val_loss: 4.6072 - val_mape: 4.6072\n",
      "Epoch 82/200\n",
      "6/6 [==============================] - 0s 12ms/step - loss: 14.3664 - mape: 14.3664 - val_loss: 5.1995 - val_mape: 5.1995\n",
      "Epoch 83/200\n",
      "6/6 [==============================] - 0s 8ms/step - loss: 14.2316 - mape: 14.2316 - val_loss: 5.6747 - val_mape: 5.6747\n",
      "Epoch 84/200\n",
      "6/6 [==============================] - 0s 10ms/step - loss: 14.1641 - mape: 14.1641 - val_loss: 4.8237 - val_mape: 4.8237\n",
      "Epoch 85/200\n",
      "6/6 [==============================] - 0s 9ms/step - loss: 14.3465 - mape: 14.3465 - val_loss: 4.9766 - val_mape: 4.9766\n",
      "Epoch 86/200\n",
      "6/6 [==============================] - 0s 12ms/step - loss: 15.1404 - mape: 15.1404 - val_loss: 5.0136 - val_mape: 5.0136\n",
      "Epoch 87/200\n",
      "6/6 [==============================] - 0s 9ms/step - loss: 16.4192 - mape: 16.4192 - val_loss: 5.7409 - val_mape: 5.7409\n",
      "Epoch 88/200\n",
      "6/6 [==============================] - 0s 8ms/step - loss: 16.0602 - mape: 16.0602 - val_loss: 4.9824 - val_mape: 4.9824\n",
      "Epoch 89/200\n",
      "6/6 [==============================] - 0s 9ms/step - loss: 13.8332 - mape: 13.8332 - val_loss: 3.9713 - val_mape: 3.9713\n",
      "Epoch 90/200\n",
      "6/6 [==============================] - 0s 8ms/step - loss: 15.8086 - mape: 15.8086 - val_loss: 3.8749 - val_mape: 3.8749\n",
      "Epoch 91/200\n",
      "6/6 [==============================] - 0s 10ms/step - loss: 16.0970 - mape: 16.0970 - val_loss: 3.9680 - val_mape: 3.9680\n",
      "Epoch 92/200\n",
      "6/6 [==============================] - 0s 8ms/step - loss: 14.9064 - mape: 14.9064 - val_loss: 4.0037 - val_mape: 4.0037\n",
      "Epoch 93/200\n",
      "6/6 [==============================] - 0s 8ms/step - loss: 10.1792 - mape: 10.1792 - val_loss: 5.1941 - val_mape: 5.1941\n",
      "Epoch 94/200\n",
      "6/6 [==============================] - 0s 8ms/step - loss: 11.0721 - mape: 11.0721 - val_loss: 5.3775 - val_mape: 5.3775\n",
      "Epoch 95/200\n",
      "6/6 [==============================] - 0s 9ms/step - loss: 14.5397 - mape: 14.5397 - val_loss: 2.9734 - val_mape: 2.9734\n",
      "Epoch 96/200\n",
      "6/6 [==============================] - 0s 8ms/step - loss: 13.3075 - mape: 13.3075 - val_loss: 2.6814 - val_mape: 2.6814\n",
      "Epoch 97/200\n",
      "6/6 [==============================] - 0s 8ms/step - loss: 12.4094 - mape: 12.4094 - val_loss: 2.7879 - val_mape: 2.7879\n",
      "Epoch 98/200\n",
      "6/6 [==============================] - 0s 8ms/step - loss: 11.9631 - mape: 11.9631 - val_loss: 4.0743 - val_mape: 4.0743\n",
      "Epoch 99/200\n",
      "6/6 [==============================] - 0s 10ms/step - loss: 12.3106 - mape: 12.3106 - val_loss: 4.3746 - val_mape: 4.3746\n",
      "Epoch 100/200\n",
      "6/6 [==============================] - 0s 9ms/step - loss: 14.0609 - mape: 14.0609 - val_loss: 3.5382 - val_mape: 3.5382\n",
      "Epoch 101/200\n",
      "6/6 [==============================] - 0s 9ms/step - loss: 10.5426 - mape: 10.5426 - val_loss: 2.7321 - val_mape: 2.7321\n",
      "Epoch 102/200\n",
      "6/6 [==============================] - 0s 8ms/step - loss: 13.3179 - mape: 13.3179 - val_loss: 2.7061 - val_mape: 2.7061\n",
      "Epoch 103/200\n",
      "6/6 [==============================] - 0s 8ms/step - loss: 14.0655 - mape: 14.0655 - val_loss: 2.7469 - val_mape: 2.7469\n",
      "Epoch 104/200\n",
      "6/6 [==============================] - 0s 8ms/step - loss: 16.4965 - mape: 16.4965 - val_loss: 2.8400 - val_mape: 2.8400\n",
      "Epoch 105/200\n",
      "6/6 [==============================] - 0s 10ms/step - loss: 15.4667 - mape: 15.4667 - val_loss: 3.4848 - val_mape: 3.4848\n",
      "Epoch 106/200\n",
      "6/6 [==============================] - 0s 9ms/step - loss: 13.4258 - mape: 13.4258 - val_loss: 3.1028 - val_mape: 3.1028\n",
      "Epoch 107/200\n",
      "6/6 [==============================] - 0s 9ms/step - loss: 12.6849 - mape: 12.6849 - val_loss: 2.8121 - val_mape: 2.8121\n",
      "Epoch 108/200\n",
      "6/6 [==============================] - 0s 9ms/step - loss: 12.6430 - mape: 12.6430 - val_loss: 4.0218 - val_mape: 4.0218\n",
      "Epoch 109/200\n",
      "6/6 [==============================] - 0s 9ms/step - loss: 13.2852 - mape: 13.2852 - val_loss: 4.7281 - val_mape: 4.7281\n",
      "Epoch 110/200\n",
      "6/6 [==============================] - 0s 9ms/step - loss: 14.3396 - mape: 14.3396 - val_loss: 3.7807 - val_mape: 3.7807\n",
      "Epoch 111/200\n",
      "6/6 [==============================] - 0s 9ms/step - loss: 11.6305 - mape: 11.6305 - val_loss: 2.7848 - val_mape: 2.7848\n",
      "Epoch 112/200\n",
      "6/6 [==============================] - 0s 8ms/step - loss: 11.8202 - mape: 11.8202 - val_loss: 3.6535 - val_mape: 3.6535\n",
      "Epoch 113/200\n",
      "6/6 [==============================] - 0s 8ms/step - loss: 13.2339 - mape: 13.2339 - val_loss: 3.9054 - val_mape: 3.9054\n",
      "Epoch 114/200\n",
      "6/6 [==============================] - 0s 7ms/step - loss: 11.0793 - mape: 11.0793 - val_loss: 3.3420 - val_mape: 3.3420\n",
      "Epoch 115/200\n",
      "6/6 [==============================] - 0s 8ms/step - loss: 9.8566 - mape: 9.8566 - val_loss: 3.7721 - val_mape: 3.7721\n",
      "Epoch 116/200\n",
      "6/6 [==============================] - 0s 8ms/step - loss: 11.2201 - mape: 11.2201 - val_loss: 4.1055 - val_mape: 4.1055\n",
      "Epoch 117/200\n",
      "6/6 [==============================] - 0s 8ms/step - loss: 13.2772 - mape: 13.2772 - val_loss: 3.8567 - val_mape: 3.8567\n",
      "Epoch 118/200\n",
      "6/6 [==============================] - 0s 8ms/step - loss: 13.6501 - mape: 13.6501 - val_loss: 4.3852 - val_mape: 4.3852\n",
      "Epoch 119/200\n",
      "6/6 [==============================] - 0s 7ms/step - loss: 14.1445 - mape: 14.1445 - val_loss: 5.2407 - val_mape: 5.2407\n",
      "Epoch 120/200\n",
      "6/6 [==============================] - 0s 10ms/step - loss: 12.3168 - mape: 12.3168 - val_loss: 5.2940 - val_mape: 5.2940\n",
      "Epoch 121/200\n",
      "6/6 [==============================] - 0s 8ms/step - loss: 13.0279 - mape: 13.0279 - val_loss: 5.0950 - val_mape: 5.0950\n",
      "Epoch 122/200\n",
      "6/6 [==============================] - 0s 9ms/step - loss: 13.7535 - mape: 13.7535 - val_loss: 4.3509 - val_mape: 4.3509\n",
      "Epoch 123/200\n",
      "6/6 [==============================] - 0s 9ms/step - loss: 14.6605 - mape: 14.6605 - val_loss: 4.5203 - val_mape: 4.5203\n",
      "Epoch 124/200\n",
      "6/6 [==============================] - 0s 9ms/step - loss: 12.4709 - mape: 12.4709 - val_loss: 4.4786 - val_mape: 4.4786\n",
      "Epoch 125/200\n",
      "6/6 [==============================] - 0s 8ms/step - loss: 12.7310 - mape: 12.7310 - val_loss: 3.9039 - val_mape: 3.9039\n",
      "Epoch 126/200\n",
      "6/6 [==============================] - 0s 9ms/step - loss: 12.2218 - mape: 12.2218 - val_loss: 3.2178 - val_mape: 3.2178\n",
      "Epoch 127/200\n",
      "6/6 [==============================] - 0s 9ms/step - loss: 10.9720 - mape: 10.9720 - val_loss: 3.6122 - val_mape: 3.6122\n",
      "Epoch 128/200\n",
      "6/6 [==============================] - 0s 9ms/step - loss: 11.8494 - mape: 11.8494 - val_loss: 4.3197 - val_mape: 4.3197\n",
      "Epoch 129/200\n",
      "6/6 [==============================] - 0s 9ms/step - loss: 12.4237 - mape: 12.4237 - val_loss: 3.2911 - val_mape: 3.2911\n",
      "Epoch 130/200\n",
      "6/6 [==============================] - 0s 8ms/step - loss: 11.8564 - mape: 11.8564 - val_loss: 2.7021 - val_mape: 2.7021\n",
      "Epoch 131/200\n",
      "6/6 [==============================] - 0s 10ms/step - loss: 11.7204 - mape: 11.7204 - val_loss: 2.7080 - val_mape: 2.7080\n",
      "Epoch 132/200\n",
      "6/6 [==============================] - 0s 9ms/step - loss: 11.9163 - mape: 11.9163 - val_loss: 2.6403 - val_mape: 2.6403\n",
      "Epoch 133/200\n",
      "6/6 [==============================] - 0s 8ms/step - loss: 11.2483 - mape: 11.2483 - val_loss: 2.6712 - val_mape: 2.6712\n",
      "Epoch 134/200\n",
      "6/6 [==============================] - 0s 8ms/step - loss: 14.4926 - mape: 14.4926 - val_loss: 2.7229 - val_mape: 2.7229\n",
      "Epoch 135/200\n",
      "6/6 [==============================] - 0s 9ms/step - loss: 13.0701 - mape: 13.0701 - val_loss: 2.7196 - val_mape: 2.7196\n",
      "Epoch 136/200\n",
      "6/6 [==============================] - 0s 10ms/step - loss: 11.1488 - mape: 11.1488 - val_loss: 4.0983 - val_mape: 4.0983\n",
      "Epoch 137/200\n",
      "6/6 [==============================] - 0s 8ms/step - loss: 12.7094 - mape: 12.7094 - val_loss: 6.1083 - val_mape: 6.1083\n",
      "Epoch 138/200\n",
      "6/6 [==============================] - 0s 9ms/step - loss: 12.5553 - mape: 12.5553 - val_loss: 5.5024 - val_mape: 5.5024\n",
      "Epoch 139/200\n",
      "6/6 [==============================] - 0s 8ms/step - loss: 12.4284 - mape: 12.4284 - val_loss: 3.4530 - val_mape: 3.4530\n",
      "Epoch 140/200\n",
      "6/6 [==============================] - 0s 9ms/step - loss: 11.4862 - mape: 11.4862 - val_loss: 2.6812 - val_mape: 2.6812\n",
      "Epoch 141/200\n",
      "6/6 [==============================] - 0s 8ms/step - loss: 12.2372 - mape: 12.2372 - val_loss: 2.6255 - val_mape: 2.6255\n",
      "Epoch 142/200\n",
      "6/6 [==============================] - 0s 9ms/step - loss: 13.1837 - mape: 13.1837 - val_loss: 2.8572 - val_mape: 2.8572\n",
      "Epoch 143/200\n",
      "6/6 [==============================] - 0s 8ms/step - loss: 11.1529 - mape: 11.1529 - val_loss: 3.2020 - val_mape: 3.2020\n",
      "Epoch 144/200\n",
      "6/6 [==============================] - 0s 8ms/step - loss: 12.0112 - mape: 12.0112 - val_loss: 3.5144 - val_mape: 3.5144\n",
      "Epoch 145/200\n",
      "6/6 [==============================] - 0s 10ms/step - loss: 12.1923 - mape: 12.1923 - val_loss: 3.5336 - val_mape: 3.5336\n",
      "Epoch 146/200\n",
      "6/6 [==============================] - 0s 8ms/step - loss: 14.4060 - mape: 14.4060 - val_loss: 3.4250 - val_mape: 3.4250\n",
      "Epoch 147/200\n",
      "6/6 [==============================] - 0s 7ms/step - loss: 14.1651 - mape: 14.1651 - val_loss: 2.7136 - val_mape: 2.7136\n",
      "Epoch 148/200\n",
      "6/6 [==============================] - 0s 8ms/step - loss: 12.7410 - mape: 12.7410 - val_loss: 3.5133 - val_mape: 3.5133\n",
      "Epoch 149/200\n",
      "6/6 [==============================] - 0s 8ms/step - loss: 11.6646 - mape: 11.6646 - val_loss: 4.0683 - val_mape: 4.0683\n",
      "Epoch 150/200\n",
      "6/6 [==============================] - 0s 8ms/step - loss: 12.1493 - mape: 12.1493 - val_loss: 4.2578 - val_mape: 4.2578\n",
      "Epoch 151/200\n",
      "6/6 [==============================] - 0s 8ms/step - loss: 11.8548 - mape: 11.8548 - val_loss: 4.2310 - val_mape: 4.2310\n",
      "Epoch 152/200\n",
      "6/6 [==============================] - 0s 9ms/step - loss: 11.5608 - mape: 11.5608 - val_loss: 3.2511 - val_mape: 3.2511\n",
      "Epoch 153/200\n",
      "6/6 [==============================] - 0s 9ms/step - loss: 14.0235 - mape: 14.0235 - val_loss: 2.6382 - val_mape: 2.6382\n",
      "Epoch 154/200\n",
      "6/6 [==============================] - 0s 9ms/step - loss: 12.4087 - mape: 12.4087 - val_loss: 2.6433 - val_mape: 2.6433\n",
      "Epoch 155/200\n",
      "6/6 [==============================] - 0s 8ms/step - loss: 12.6358 - mape: 12.6358 - val_loss: 2.7607 - val_mape: 2.7607\n",
      "Epoch 156/200\n",
      "6/6 [==============================] - 0s 9ms/step - loss: 12.7825 - mape: 12.7825 - val_loss: 3.9011 - val_mape: 3.9011\n",
      "Epoch 157/200\n",
      "6/6 [==============================] - 0s 8ms/step - loss: 13.6733 - mape: 13.6733 - val_loss: 4.3617 - val_mape: 4.3617\n",
      "Epoch 158/200\n",
      "6/6 [==============================] - 0s 10ms/step - loss: 10.3498 - mape: 10.3498 - val_loss: 4.0113 - val_mape: 4.0113\n",
      "Epoch 159/200\n",
      "6/6 [==============================] - 0s 10ms/step - loss: 12.3699 - mape: 12.3699 - val_loss: 2.8847 - val_mape: 2.8847\n",
      "Epoch 160/200\n",
      "6/6 [==============================] - 0s 10ms/step - loss: 12.4862 - mape: 12.4862 - val_loss: 2.6413 - val_mape: 2.6413\n",
      "Epoch 161/200\n",
      "6/6 [==============================] - 0s 11ms/step - loss: 12.3800 - mape: 12.3800 - val_loss: 2.7523 - val_mape: 2.7523\n",
      "Epoch 162/200\n",
      "6/6 [==============================] - 0s 9ms/step - loss: 13.6684 - mape: 13.6684 - val_loss: 3.7886 - val_mape: 3.7886\n",
      "Epoch 163/200\n",
      "6/6 [==============================] - 0s 9ms/step - loss: 9.9339 - mape: 9.9339 - val_loss: 4.1051 - val_mape: 4.1051\n",
      "Epoch 164/200\n",
      "6/6 [==============================] - 0s 8ms/step - loss: 11.7119 - mape: 11.7119 - val_loss: 2.7488 - val_mape: 2.7488\n",
      "Epoch 165/200\n",
      "6/6 [==============================] - 0s 8ms/step - loss: 12.4942 - mape: 12.4942 - val_loss: 2.7023 - val_mape: 2.7023\n",
      "Epoch 166/200\n",
      "6/6 [==============================] - 0s 8ms/step - loss: 14.6781 - mape: 14.6781 - val_loss: 2.9003 - val_mape: 2.9003\n",
      "Epoch 167/200\n",
      "6/6 [==============================] - 0s 9ms/step - loss: 12.3097 - mape: 12.3097 - val_loss: 2.9956 - val_mape: 2.9956\n",
      "Epoch 168/200\n",
      "6/6 [==============================] - 0s 9ms/step - loss: 11.7998 - mape: 11.7998 - val_loss: 3.9449 - val_mape: 3.9449\n",
      "Epoch 169/200\n",
      "6/6 [==============================] - 0s 9ms/step - loss: 11.7070 - mape: 11.7070 - val_loss: 3.0138 - val_mape: 3.0138\n",
      "Epoch 170/200\n",
      "6/6 [==============================] - 0s 8ms/step - loss: 10.7554 - mape: 10.7554 - val_loss: 3.4320 - val_mape: 3.4320\n",
      "Epoch 171/200\n",
      "6/6 [==============================] - 0s 8ms/step - loss: 11.9136 - mape: 11.9136 - val_loss: 3.5716 - val_mape: 3.5716\n",
      "Epoch 172/200\n",
      "6/6 [==============================] - 0s 9ms/step - loss: 12.5068 - mape: 12.5068 - val_loss: 3.8294 - val_mape: 3.8294\n",
      "Epoch 173/200\n",
      "6/6 [==============================] - 0s 7ms/step - loss: 10.9692 - mape: 10.9692 - val_loss: 3.1898 - val_mape: 3.1898\n",
      "Epoch 174/200\n",
      "6/6 [==============================] - 0s 8ms/step - loss: 13.1964 - mape: 13.1964 - val_loss: 2.8065 - val_mape: 2.8065\n",
      "Epoch 175/200\n",
      "6/6 [==============================] - 0s 10ms/step - loss: 11.8879 - mape: 11.8879 - val_loss: 2.8200 - val_mape: 2.8200\n",
      "Epoch 176/200\n",
      "6/6 [==============================] - 0s 9ms/step - loss: 11.7837 - mape: 11.7837 - val_loss: 3.1389 - val_mape: 3.1389\n",
      "Epoch 177/200\n",
      "6/6 [==============================] - 0s 8ms/step - loss: 12.3780 - mape: 12.3780 - val_loss: 4.1466 - val_mape: 4.1466\n",
      "Epoch 178/200\n",
      "6/6 [==============================] - 0s 9ms/step - loss: 13.1121 - mape: 13.1121 - val_loss: 4.5077 - val_mape: 4.5077\n",
      "Epoch 179/200\n",
      "6/6 [==============================] - 0s 8ms/step - loss: 11.8705 - mape: 11.8705 - val_loss: 2.6930 - val_mape: 2.6930\n",
      "Epoch 180/200\n",
      "6/6 [==============================] - 0s 11ms/step - loss: 11.2787 - mape: 11.2787 - val_loss: 2.6454 - val_mape: 2.6454\n",
      "Epoch 181/200\n",
      "6/6 [==============================] - 0s 10ms/step - loss: 9.1680 - mape: 9.1680 - val_loss: 2.6872 - val_mape: 2.6872\n",
      "Epoch 182/200\n",
      "6/6 [==============================] - 0s 8ms/step - loss: 10.5509 - mape: 10.5509 - val_loss: 3.3914 - val_mape: 3.3914\n",
      "Epoch 183/200\n",
      "6/6 [==============================] - 0s 9ms/step - loss: 14.5875 - mape: 14.5875 - val_loss: 3.3484 - val_mape: 3.3484\n",
      "Epoch 184/200\n",
      "6/6 [==============================] - 0s 8ms/step - loss: 14.2175 - mape: 14.2175 - val_loss: 2.8548 - val_mape: 2.8548\n",
      "Epoch 185/200\n",
      "6/6 [==============================] - 0s 8ms/step - loss: 11.2745 - mape: 11.2745 - val_loss: 2.7527 - val_mape: 2.7527\n",
      "Epoch 186/200\n",
      "6/6 [==============================] - 0s 8ms/step - loss: 12.3142 - mape: 12.3142 - val_loss: 2.7178 - val_mape: 2.7178\n",
      "Epoch 187/200\n",
      "6/6 [==============================] - 0s 8ms/step - loss: 13.8700 - mape: 13.8699 - val_loss: 2.6367 - val_mape: 2.6367\n",
      "Epoch 188/200\n",
      "6/6 [==============================] - 0s 8ms/step - loss: 10.5387 - mape: 10.5387 - val_loss: 2.6775 - val_mape: 2.6775\n",
      "Epoch 189/200\n",
      "6/6 [==============================] - 0s 8ms/step - loss: 10.8892 - mape: 10.8892 - val_loss: 3.0500 - val_mape: 3.0500\n",
      "Epoch 190/200\n",
      "6/6 [==============================] - 0s 9ms/step - loss: 10.3289 - mape: 10.3289 - val_loss: 2.7280 - val_mape: 2.7280\n",
      "Epoch 191/200\n",
      "6/6 [==============================] - 0s 10ms/step - loss: 12.6438 - mape: 12.6438 - val_loss: 2.6625 - val_mape: 2.6625\n"
     ]
    }
   ],
   "source": [
    "model = Sequential()\n",
    "model.add(SimpleRNN(10,activation='relu',input_dim = 1,recurrent_dropout=0.2))\n",
    "model.add(Dense(16,activation='relu'))\n",
    "model.add(Dropout(0.2))\n",
    "model.add(Dense(1,activation='linear'))\n",
    "ad=optimizers.Adam(learning_rate=0.0010923729112669298)\n",
    "model.compile(optimizer = ad, loss = 'mape', metrics = ['mape'])\n",
    "model_history=model.fit(trainX, trainY,validation_data=(testX,testY), batch_size = 10, epochs = 200,callbacks=[EarlyStopping(monitor='val_loss', patience=50)])"
   ]
  },
  {
   "cell_type": "code",
   "execution_count": 110,
   "id": "77c05906",
   "metadata": {
    "id": "77c05906"
   },
   "outputs": [],
   "source": [
    "def model_loss(history):\n",
    "    plt.figure(figsize=(8,4))\n",
    "    plt.plot(history.history['loss'], label='Train Loss')\n",
    "    plt.plot(history.history['val_loss'], label='Test Loss')\n",
    "    plt.title('model loss')\n",
    "    plt.ylabel('loss')\n",
    "    plt.xlabel('epochs')\n",
    "    plt.legend(loc='upper right')\n",
    "    plt.show();"
   ]
  },
  {
   "cell_type": "code",
   "execution_count": 111,
   "id": "6vZ-AXOUurmJ",
   "metadata": {
    "id": "6vZ-AXOUurmJ"
   },
   "outputs": [],
   "source": [
    "train_score = model.evaluate(trainX, trainY,verbose=0)\n",
    "test_score = model.evaluate(testX, testY,verbose=0)"
   ]
  },
  {
   "cell_type": "code",
   "execution_count": 112,
   "id": "45a22c27",
   "metadata": {
    "colab": {
     "base_uri": "https://localhost:8080/",
     "height": 330
    },
    "id": "45a22c27",
    "outputId": "1182119c-f08e-403c-a2ae-b022eaa00d8c"
   },
   "outputs": [
    {
     "name": "stdout",
     "output_type": "stream",
     "text": [
      "Train MAPE : 4.89 \n",
      "Test MAPE : 2.66 \n"
     ]
    },
    {
     "data": {
      "image/png": "[encoded data removed]",
      "text/plain": [
       "<Figure size 576x288 with 1 Axes>"
      ]
     },
     "metadata": {
      "needs_background": "light"
     },
     "output_type": "display_data"
    }
   ],
   "source": [
    "train_predict = model.predict(trainX)\n",
    "test_predict = model.predict(testX)\n",
    "\n",
    "# invert predictions\n",
    "train_predict = scaler.inverse_transform(train_predict)\n",
    "trainY = scaler.inverse_transform([trainY])\n",
    "test_predict = scaler.inverse_transform(test_predict)\n",
    "testY = scaler.inverse_transform([testY])\n",
    "print('Train MAPE : %.2f ' % (train_score[1]))\n",
    "print('Test MAPE : %.2f ' % (test_score[1]))\n",
    "model_loss(model_history)"
   ]
  },
  {
   "cell_type": "code",
   "execution_count": 113,
   "id": "dc942f74",
   "metadata": {
    "id": "dc942f74"
   },
   "outputs": [],
   "source": [
    "import seaborn as sns"
   ]
  },
  {
   "cell_type": "code",
   "execution_count": 115,
   "id": "dee9bab8",
   "metadata": {
    "id": "dee9bab8"
   },
   "outputs": [],
   "source": [
    "def prediction_plot(testY, test_predict,look_back):\n",
    "    len_prediction=[x for x in range(59,68)]\n",
    "    plt.plot(trainY.reshape(-1,))\n",
    "    plt.plot(len_prediction, testY.reshape(-1,), marker='.', label='actual')\n",
    "    plt.plot(len_prediction, test_predict, 'g', label=\"prediction\")\n",
    "    plt.tight_layout()\n",
    "    sns.despine(top=True)\n",
    "    plt.subplots_adjust(left=0.07)\n",
    "    plt.ylabel('Units', size=15)\n",
    "    plt.xlabel('Time step', size=15)\n",
    "    plt.legend(fontsize=15)\n",
    "    plt.show()"
   ]
  },
  {
   "cell_type": "code",
   "execution_count": 116,
   "id": "363040b5",
   "metadata": {
    "colab": {
     "base_uri": "https://localhost:8080/",
     "height": 604
    },
    "id": "363040b5",
    "outputId": "1749aff5-f821-4d63-c1a2-416647007e61"
   },
   "outputs": [
    {
     "data": {
      "image/png": "[encoded data removed]",
      "text/plain": [
       "<Figure size 1080x576 with 1 Axes>"
      ]
     },
     "metadata": {
      "needs_background": "light"
     },
     "output_type": "display_data"
    }
   ],
   "source": [
    "test_predict = model.predict(testX)\n",
    "test_predict = scaler.inverse_transform(test_predict)\n",
    "prediction_plot(testY, test_predict,look_back)"
   ]
  },
  {
   "cell_type": "code",
   "execution_count": null,
   "id": "f8a7708c",
   "metadata": {
    "id": "f8a7708c"
   },
   "outputs": [],
   "source": []
  }
 ],
 "metadata": {
  "colab": {
   "collapsed_sections": [],
   "name": "Annual_CO2_HPT_RNN_Scaled_version_2_lkbk_1.ipynb",
   "provenance": []
  },
  "kernelspec": {
   "display_name": "Python 3",
   "language": "python",
   "name": "python3"
  },
  "language_info": {
   "codemirror_mode": {
    "name": "ipython",
    "version": 3
   },
   "file_extension": ".py",
   "mimetype": "text/x-python",
   "name": "python",
   "nbconvert_exporter": "python",
   "pygments_lexer": "ipython3",
   "version": "3.8.8"
  }
 },
 "nbformat": 4,
 "nbformat_minor": 5
}
